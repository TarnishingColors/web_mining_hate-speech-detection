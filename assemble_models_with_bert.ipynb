{
 "cells": [
  {
   "cell_type": "code",
   "execution_count": 1,
   "metadata": {
    "pycharm": {
     "name": "#%%\n"
    }
   },
   "outputs": [
    {
     "name": "stderr",
     "output_type": "stream",
     "text": [
      "[nltk_data] Downloading package stopwords to\n",
      "[nltk_data]     C:\\Users\\dzmit\\AppData\\Roaming\\nltk_data...\n",
      "[nltk_data]   Package stopwords is already up-to-date!\n",
      "[nltk_data] Downloading package punkt to\n",
      "[nltk_data]     C:\\Users\\dzmit\\AppData\\Roaming\\nltk_data...\n",
      "[nltk_data]   Package punkt is already up-to-date!\n",
      "[nltk_data] Downloading package averaged_perceptron_tagger to\n",
      "[nltk_data]     C:\\Users\\dzmit\\AppData\\Roaming\\nltk_data...\n",
      "[nltk_data]   Package averaged_perceptron_tagger is already up-to-\n",
      "[nltk_data]       date!\n",
      "[nltk_data] Downloading package wordnet to\n",
      "[nltk_data]     C:\\Users\\dzmit\\AppData\\Roaming\\nltk_data...\n",
      "[nltk_data]   Package wordnet is already up-to-date!\n",
      "[nltk_data] Downloading package vader_lexicon to\n",
      "[nltk_data]     C:\\Users\\dzmit\\AppData\\Roaming\\nltk_data...\n",
      "[nltk_data]   Package vader_lexicon is already up-to-date!\n"
     ]
    }
   ],
   "source": [
    "import gzip\n",
    "import pickle\n",
    "import time\n",
    "import warnings\n",
    "\n",
    "import eli5\n",
    "import numpy as np\n",
    "import pandas as pd\n",
    "import torch\n",
    "from imblearn.over_sampling import RandomOverSampler\n",
    "from sklearn.base import BaseEstimator, TransformerMixin\n",
    "from sklearn.compose import ColumnTransformer\n",
    "from sklearn.dummy import DummyClassifier\n",
    "from sklearn.ensemble import RandomForestClassifier, StackingClassifier\n",
    "from sklearn.linear_model import LogisticRegression\n",
    "from sklearn.metrics import make_scorer, f1_score, classification_report, confusion_matrix\n",
    "from sklearn.model_selection import GridSearchCV\n",
    "from sklearn.model_selection import train_test_split\n",
    "from sklearn.pipeline import Pipeline\n",
    "from sklearn.pipeline import make_pipeline\n",
    "from transformers import BertForSequenceClassification\n",
    "from transformers import BertTokenizer\n",
    "from xgboost import XGBClassifier\n",
    "\n",
    "from notebooks.Dzim.web_mining.bert_processor import TextCleaner, SeriesConverter # choose your path\n",
    "from notebooks.Dzim.web_mining.feature_generation import FeatureGenerator # choose your path"
   ]
  },
  {
   "cell_type": "code",
   "execution_count": 2,
   "metadata": {
    "pycharm": {
     "name": "#%%\n"
    }
   },
   "outputs": [],
   "source": [
    "%load_ext autoreload\n",
    "%autoreload 2"
   ]
  },
  {
   "cell_type": "code",
   "execution_count": 4,
   "metadata": {
    "pycharm": {
     "name": "#%%\n"
    }
   },
   "outputs": [],
   "source": [
    "filenames = [\n",
    "    # data 1\n",
    "    \"l1_data1_lr_Pipeline_2023-05-16.bin.gz\",\n",
    "    \"l1_data1_rfc_Pipeline_2023-05-16.bin.gz\",\n",
    "\n",
    "    # data 2 regression\n",
    "    \"l1_data2_ctb_reg_hate_speech_2023-05-17.bin.gz\",\n",
    "    \"l1_data2_lgbm_reg_offensive_language_2023-05-17.bin.gz\",\n",
    "\n",
    "    # data 2 regression\n",
    "    \"l1_data2_lr_clf_Pipeline_2023-05-23.bin.gz\",\n",
    "    \"l1_data2_ctb_clf_Pipeline_2023-05-23.bin.gz\",\n",
    "\n",
    "    # data 3\n",
    "    \"l1_data3_ctb_Pipeline_2023-05-17.bin.gz\",\n",
    "]"
   ]
  },
  {
   "cell_type": "code",
   "execution_count": 5,
   "metadata": {
    "pycharm": {
     "name": "#%%\n"
    }
   },
   "outputs": [],
   "source": [
    "def read_gzip_model(file):\n",
    "    with gzip.open(file, mode=\"rb\") as f:\n",
    "        return pickle.load(f)"
   ]
  },
  {
   "cell_type": "code",
   "execution_count": 7,
   "metadata": {
    "pycharm": {
     "name": "#%%\n"
    }
   },
   "outputs": [],
   "source": [
    "models = [read_gzip_model('models/' + filename).pipeline for filename in filenames]"
   ]
  },
  {
   "cell_type": "code",
   "execution_count": 7,
   "metadata": {
    "pycharm": {
     "name": "#%%\n"
    }
   },
   "outputs": [],
   "source": [
    "# models"
   ]
  },
  {
   "cell_type": "code",
   "execution_count": 8,
   "metadata": {
    "pycharm": {
     "name": "#%%\n"
    }
   },
   "outputs": [],
   "source": [
    "# models[0]"
   ]
  },
  {
   "cell_type": "code",
   "execution_count": 9,
   "metadata": {
    "pycharm": {
     "name": "#%%\n"
    }
   },
   "outputs": [],
   "source": [
    "# models[-1].predict(data_sample)"
   ]
  },
  {
   "cell_type": "code",
   "execution_count": 10,
   "metadata": {
    "pycharm": {
     "name": "#%%\n"
    }
   },
   "outputs": [],
   "source": [
    "class PipelineTransformer(BaseEstimator, TransformerMixin):\n",
    "    def __init__(\n",
    "            self,\n",
    "            pipeline: Pipeline,\n",
    "            fitted: bool = True\n",
    "    ):\n",
    "        self.pipeline = pipeline\n",
    "        self.fitted = fitted\n",
    "        self.output_n_ = ['']\n",
    "\n",
    "    def fit(self, X: pd.DataFrame = None, y=None):\n",
    "        if not self.fitted:\n",
    "            self.pipeline.fit(X, y)\n",
    "        return self\n",
    "\n",
    "    def transform(self, X):\n",
    "        try:\n",
    "            prediction = self.pipeline.predict_proba(X)\n",
    "            if self.pipeline[-1].classes_.shape[0] >= 3:\n",
    "                prediction = prediction\n",
    "                self.output_n_ = [f'_{i}' for i in range(self.pipeline[-1].classes_.shape[0])]\n",
    "            else:\n",
    "                prediction = prediction[:, 0]\n",
    "        except AttributeError:\n",
    "            prediction = self.pipeline.predict(X)\n",
    "        return prediction\n",
    "\n",
    "    def __sklearn_is_fitted__(self):\n",
    "        return True\n",
    "\n",
    "    def get_feature_names_out(self, input_features=None):\n",
    "        return [type(self.pipeline[-1]).__name__ + f for f in\n",
    "                self.output_n_]  #+ str(i) for i in self.pipeline[-1].classes_\n",
    "\n",
    "\n",
    "class PipelinePredictor(BaseEstimator, TransformerMixin):\n",
    "    def __init__(\n",
    "            self,\n",
    "            pipelines,\n",
    "            model_names: list = None,\n",
    "    ):\n",
    "        self.pipelines = pipelines\n",
    "        if model_names is None:\n",
    "            self.model_names = [type(pipe[-1]).__name__ for pipe in pipelines]\n",
    "        else:\n",
    "            self.model_names = model_names\n",
    "\n",
    "    def fit(self, X: pd.DataFrame, y=None):\n",
    "        return self\n",
    "\n",
    "    def transform(self, X: pd.DataFrame) -> pd.DataFrame or np.array:\n",
    "        predictions = pd.DataFrame()\n",
    "        for pipeline, name in zip(self.pipelines, self.model_names):\n",
    "            predictions[name] = pipeline.predict(X)\n",
    "\n",
    "        return predictions\n",
    "\n",
    "\n",
    "class CustomColumnTransformer(ColumnTransformer):\n",
    "    def fit(self, X=None, y=None):\n",
    "        return self\n",
    "\n",
    "    def fit_transform(self, X=None, y=None):\n",
    "        return self.transform(X)\n",
    "\n",
    "    def transform(self, X):\n",
    "        output = []\n",
    "        self.feature_names_out = []\n",
    "\n",
    "        for name, transformer, _ in self.transformers:\n",
    "            transformer_output = transformer.transform(X)\n",
    "            output.append(pd.DataFrame(transformer_output))\n",
    "\n",
    "            try:\n",
    "                feature_names = transformer.get_feature_names_out()\n",
    "            except AttributeError:\n",
    "                feature_names = transformer_output.columns\n",
    "\n",
    "            self.feature_names_out += (name + '_' + feat for feat in feature_names)\n",
    "\n",
    "        return np.concatenate(output, axis=1)\n",
    "\n",
    "    def get_feature_names_out(self, input_features=None):\n",
    "        return self.feature_names_out\n"
   ]
  },
  {
   "cell_type": "code",
   "execution_count": 11,
   "outputs": [],
   "source": [
    "\n",
    "\n",
    "class BertClassifier():\n",
    "    def __init__(self):\n",
    "        state_dict = torch.load(\n",
    "            'bert_model/best_model_state.bin'\n",
    "            , map_location=torch.device('cpu')  # ran out of my limit on colab\n",
    "        )\n",
    "\n",
    "        # Initialize the PyTorch model\n",
    "        model = BertForSequenceClassification.from_pretrained(\n",
    "            'bert-base-uncased',\n",
    "            num_labels=4,\n",
    "            output_attentions=False,\n",
    "            output_hidden_states=False,\n",
    "        )\n",
    "        model.load_state_dict(state_dict)\n",
    "\n",
    "        self.model = model\n",
    "        self.tokenizer = BertTokenizer.from_pretrained('bert-base-uncased')\n",
    "\n",
    "    def fit(self, df: pd.DataFrame, y=None, **fit_params):\n",
    "        # No training required, just for compatibility with Pipeline\n",
    "        return self\n",
    "\n",
    "    def transform(self, X: pd.DataFrame, y=None, **transform_params):\n",
    "        labels = []\n",
    "        for tweet in X.tolist():\n",
    "            encoding = self.tokenizer.encode_plus(\n",
    "                tweet,\n",
    "                add_special_tokens=True,\n",
    "                max_length=12,\n",
    "                truncation=True,\n",
    "                padding='max_length',\n",
    "                return_token_type_ids=False,\n",
    "                return_attention_mask=True,\n",
    "                return_tensors='pt',\n",
    "            )\n",
    "\n",
    "            input_ids = encoding['input_ids']\n",
    "            attention_mask = encoding['attention_mask']\n",
    "\n",
    "            with torch.no_grad():\n",
    "                outputs = self.model(input_ids, attention_mask=attention_mask)\n",
    "                logits = outputs.logits\n",
    "\n",
    "            predicted_label = torch.argmax(logits, dim=1).tolist()\n",
    "            labels.append(predicted_label)\n",
    "        return pd.DataFrame(labels, columns=['label'])"
   ],
   "metadata": {
    "collapsed": false,
    "pycharm": {
     "name": "#%%\n"
    }
   }
  },
  {
   "cell_type": "code",
   "execution_count": 12,
   "outputs": [
    {
     "name": "stderr",
     "output_type": "stream",
     "text": [
      "Some weights of the model checkpoint at bert-base-uncased were not used when initializing BertForSequenceClassification: ['cls.predictions.bias', 'cls.predictions.transform.LayerNorm.weight', 'cls.predictions.transform.LayerNorm.bias', 'cls.seq_relationship.weight', 'cls.predictions.transform.dense.weight', 'cls.seq_relationship.bias', 'cls.predictions.transform.dense.bias', 'cls.predictions.decoder.weight']\n",
      "- This IS expected if you are initializing BertForSequenceClassification from the checkpoint of a model trained on another task or with another architecture (e.g. initializing a BertForSequenceClassification model from a BertForPreTraining model).\n",
      "- This IS NOT expected if you are initializing BertForSequenceClassification from the checkpoint of a model that you expect to be exactly identical (initializing a BertForSequenceClassification model from a BertForSequenceClassification model).\n",
      "Some weights of BertForSequenceClassification were not initialized from the model checkpoint at bert-base-uncased and are newly initialized: ['classifier.weight', 'classifier.bias']\n",
      "You should probably TRAIN this model on a down-stream task to be able to use it for predictions and inference.\n"
     ]
    }
   ],
   "source": [
    "bert_pipeline = Pipeline([\n",
    "    (\"cleaning\", TextCleaner()),\n",
    "    (\"series_converter\", SeriesConverter()),\n",
    "    ('bert_classifier', BertClassifier()),\n",
    "])"
   ],
   "metadata": {
    "collapsed": false,
    "pycharm": {
     "name": "#%%\n"
    }
   }
  },
  {
   "cell_type": "code",
   "execution_count": 13,
   "outputs": [
    {
     "data": {
      "text/plain": "Pipeline(steps=[('cleaning', TextCleaner()),\n                ('series_converter', SeriesConverter()),\n                ('bert_classifier',\n                 <__main__.BertClassifier object at 0x00000209B847C4F0>)])",
      "text/html": "<style>#sk-container-id-1 {color: black;background-color: white;}#sk-container-id-1 pre{padding: 0;}#sk-container-id-1 div.sk-toggleable {background-color: white;}#sk-container-id-1 label.sk-toggleable__label {cursor: pointer;display: block;width: 100%;margin-bottom: 0;padding: 0.3em;box-sizing: border-box;text-align: center;}#sk-container-id-1 label.sk-toggleable__label-arrow:before {content: \"▸\";float: left;margin-right: 0.25em;color: #696969;}#sk-container-id-1 label.sk-toggleable__label-arrow:hover:before {color: black;}#sk-container-id-1 div.sk-estimator:hover label.sk-toggleable__label-arrow:before {color: black;}#sk-container-id-1 div.sk-toggleable__content {max-height: 0;max-width: 0;overflow: hidden;text-align: left;background-color: #f0f8ff;}#sk-container-id-1 div.sk-toggleable__content pre {margin: 0.2em;color: black;border-radius: 0.25em;background-color: #f0f8ff;}#sk-container-id-1 input.sk-toggleable__control:checked~div.sk-toggleable__content {max-height: 200px;max-width: 100%;overflow: auto;}#sk-container-id-1 input.sk-toggleable__control:checked~label.sk-toggleable__label-arrow:before {content: \"▾\";}#sk-container-id-1 div.sk-estimator input.sk-toggleable__control:checked~label.sk-toggleable__label {background-color: #d4ebff;}#sk-container-id-1 div.sk-label input.sk-toggleable__control:checked~label.sk-toggleable__label {background-color: #d4ebff;}#sk-container-id-1 input.sk-hidden--visually {border: 0;clip: rect(1px 1px 1px 1px);clip: rect(1px, 1px, 1px, 1px);height: 1px;margin: -1px;overflow: hidden;padding: 0;position: absolute;width: 1px;}#sk-container-id-1 div.sk-estimator {font-family: monospace;background-color: #f0f8ff;border: 1px dotted black;border-radius: 0.25em;box-sizing: border-box;margin-bottom: 0.5em;}#sk-container-id-1 div.sk-estimator:hover {background-color: #d4ebff;}#sk-container-id-1 div.sk-parallel-item::after {content: \"\";width: 100%;border-bottom: 1px solid gray;flex-grow: 1;}#sk-container-id-1 div.sk-label:hover label.sk-toggleable__label {background-color: #d4ebff;}#sk-container-id-1 div.sk-serial::before {content: \"\";position: absolute;border-left: 1px solid gray;box-sizing: border-box;top: 0;bottom: 0;left: 50%;z-index: 0;}#sk-container-id-1 div.sk-serial {display: flex;flex-direction: column;align-items: center;background-color: white;padding-right: 0.2em;padding-left: 0.2em;position: relative;}#sk-container-id-1 div.sk-item {position: relative;z-index: 1;}#sk-container-id-1 div.sk-parallel {display: flex;align-items: stretch;justify-content: center;background-color: white;position: relative;}#sk-container-id-1 div.sk-item::before, #sk-container-id-1 div.sk-parallel-item::before {content: \"\";position: absolute;border-left: 1px solid gray;box-sizing: border-box;top: 0;bottom: 0;left: 50%;z-index: -1;}#sk-container-id-1 div.sk-parallel-item {display: flex;flex-direction: column;z-index: 1;position: relative;background-color: white;}#sk-container-id-1 div.sk-parallel-item:first-child::after {align-self: flex-end;width: 50%;}#sk-container-id-1 div.sk-parallel-item:last-child::after {align-self: flex-start;width: 50%;}#sk-container-id-1 div.sk-parallel-item:only-child::after {width: 0;}#sk-container-id-1 div.sk-dashed-wrapped {border: 1px dashed gray;margin: 0 0.4em 0.5em 0.4em;box-sizing: border-box;padding-bottom: 0.4em;background-color: white;}#sk-container-id-1 div.sk-label label {font-family: monospace;font-weight: bold;display: inline-block;line-height: 1.2em;}#sk-container-id-1 div.sk-label-container {text-align: center;}#sk-container-id-1 div.sk-container {/* jupyter's `normalize.less` sets `[hidden] { display: none; }` but bootstrap.min.css set `[hidden] { display: none !important; }` so we also need the `!important` here to be able to override the default hidden behavior on the sphinx rendered scikit-learn.org. See: https://github.com/scikit-learn/scikit-learn/issues/21755 */display: inline-block !important;position: relative;}#sk-container-id-1 div.sk-text-repr-fallback {display: none;}</style><div id=\"sk-container-id-1\" class=\"sk-top-container\"><div class=\"sk-text-repr-fallback\"><pre>Pipeline(steps=[(&#x27;cleaning&#x27;, TextCleaner()),\n                (&#x27;series_converter&#x27;, SeriesConverter()),\n                (&#x27;bert_classifier&#x27;,\n                 &lt;__main__.BertClassifier object at 0x00000209B847C4F0&gt;)])</pre><b>In a Jupyter environment, please rerun this cell to show the HTML representation or trust the notebook. <br />On GitHub, the HTML representation is unable to render, please try loading this page with nbviewer.org.</b></div><div class=\"sk-container\" hidden><div class=\"sk-item sk-dashed-wrapped\"><div class=\"sk-label-container\"><div class=\"sk-label sk-toggleable\"><input class=\"sk-toggleable__control sk-hidden--visually\" id=\"sk-estimator-id-1\" type=\"checkbox\" ><label for=\"sk-estimator-id-1\" class=\"sk-toggleable__label sk-toggleable__label-arrow\">Pipeline</label><div class=\"sk-toggleable__content\"><pre>Pipeline(steps=[(&#x27;cleaning&#x27;, TextCleaner()),\n                (&#x27;series_converter&#x27;, SeriesConverter()),\n                (&#x27;bert_classifier&#x27;,\n                 &lt;__main__.BertClassifier object at 0x00000209B847C4F0&gt;)])</pre></div></div></div><div class=\"sk-serial\"><div class=\"sk-item\"><div class=\"sk-estimator sk-toggleable\"><input class=\"sk-toggleable__control sk-hidden--visually\" id=\"sk-estimator-id-2\" type=\"checkbox\" ><label for=\"sk-estimator-id-2\" class=\"sk-toggleable__label sk-toggleable__label-arrow\">TextCleaner</label><div class=\"sk-toggleable__content\"><pre>TextCleaner()</pre></div></div></div><div class=\"sk-item\"><div class=\"sk-estimator sk-toggleable\"><input class=\"sk-toggleable__control sk-hidden--visually\" id=\"sk-estimator-id-3\" type=\"checkbox\" ><label for=\"sk-estimator-id-3\" class=\"sk-toggleable__label sk-toggleable__label-arrow\">SeriesConverter</label><div class=\"sk-toggleable__content\"><pre>SeriesConverter()</pre></div></div></div><div class=\"sk-item\"><div class=\"sk-estimator sk-toggleable\"><input class=\"sk-toggleable__control sk-hidden--visually\" id=\"sk-estimator-id-4\" type=\"checkbox\" ><label for=\"sk-estimator-id-4\" class=\"sk-toggleable__label sk-toggleable__label-arrow\">BertClassifier</label><div class=\"sk-toggleable__content\"><pre>&lt;__main__.BertClassifier object at 0x00000209B847C4F0&gt;</pre></div></div></div></div></div></div></div>"
     },
     "execution_count": 13,
     "metadata": {},
     "output_type": "execute_result"
    }
   ],
   "source": [
    "bert_pipeline"
   ],
   "metadata": {
    "collapsed": false,
    "pycharm": {
     "name": "#%%\n"
    }
   }
  },
  {
   "cell_type": "code",
   "execution_count": 43,
   "metadata": {
    "pycharm": {
     "name": "#%%\n"
    }
   },
   "outputs": [],
   "source": [
    "d1_lr = PipelineTransformer(models[0])\n",
    "d1_rfc = PipelineTransformer(models[1])\n",
    "\n",
    "d2_ctb_reg = PipelineTransformer(models[2])\n",
    "d2_lgbm_reg = PipelineTransformer(models[3])\n",
    "\n",
    "d2_lr_clf = PipelineTransformer(models[4])\n",
    "d2_ctb_clf = PipelineTransformer(models[5])\n",
    "\n",
    "d3_ctb = PipelineTransformer(models[6])\n",
    "\n",
    "fg = FeatureGenerator()\n",
    "\n",
    "# pp = PipelinePredictor(models)"
   ]
  },
  {
   "cell_type": "code",
   "execution_count": 44,
   "metadata": {
    "pycharm": {
     "name": "#%%\n"
    }
   },
   "outputs": [],
   "source": [
    "l1 = CustomColumnTransformer(\n",
    "    transformers=[\n",
    "        ('d1_lr', d1_lr, ['tweet']),\n",
    "        ('d1_rfc', d1_rfc, ['tweet']),\n",
    "\n",
    "        ('d2_ctb_reg', d2_ctb_reg, ['tweet']),\n",
    "        ('d2_lgbm_reg', d2_lgbm_reg, ['tweet']),\n",
    "\n",
    "        ('d2_lr_clf', d2_lr_clf, ['tweet']),\n",
    "        ('d2_ctb_clf', d2_ctb_clf, ['tweet']),\n",
    "\n",
    "        ('d3_ctb', d3_ctb, ['tweet']),\n",
    "\n",
    "        ('feat_gen', fg, ['tweet']),\n",
    "\n",
    "        ('bert_clf', bert_pipeline, ['tweet']),\n",
    "    ],\n",
    "    remainder='drop'\n",
    ")"
   ]
  },
  {
   "cell_type": "markdown",
   "source": [
    "#### Test data pipeline"
   ],
   "metadata": {
    "collapsed": false,
    "pycharm": {
     "name": "#%% md\n"
    }
   }
  },
  {
   "cell_type": "code",
   "execution_count": null,
   "outputs": [],
   "source": [
    "data_sample = pd.DataFrame({\n",
    "    'tweet': [\n",
    "        'Sasha goes to Mannheim University',\n",
    "        'Danylo will create a great application',\n",
    "        'Danylo will not create a great application',\n",
    "        'Dasha didnt fulfill her task',\n",
    "        'you are a good person',\n",
    "    ],\n",
    "    'label': [1, 1, 0, 0, 1, 1, 0]\n",
    "})"
   ],
   "metadata": {
    "collapsed": false,
    "pycharm": {
     "name": "#%%\n"
    }
   }
  },
  {
   "cell_type": "code",
   "execution_count": 45,
   "metadata": {
    "pycharm": {
     "name": "#%%\n"
    }
   },
   "outputs": [
    {
     "data": {
      "text/plain": "array([[ 9.44993456e-01,  9.80000000e-01,  1.50488140e-01,\n         9.28453823e-01,  5.50323874e-02,  4.47867006e-01,\n         4.97100607e-01,  5.66561594e-02,  3.89024833e-01,\n         5.54319008e-01,  9.54738592e-01,  0.00000000e+00,\n         0.00000000e+00,  0.00000000e+00,  5.00000000e+00,\n         0.00000000e+00,  0.00000000e+00,  0.00000000e+00,\n         0.00000000e+00,  1.00000000e+00],\n       [ 9.30165996e-01,  1.00000000e+00,  1.66477290e-01,\n         8.74582564e-01,  2.87726475e-02,  2.55274268e-01,\n         7.15953084e-01,  5.29495117e-02,  3.61351648e-01,\n         5.85698840e-01,  9.29857342e-01,  0.00000000e+00,\n         0.00000000e+00,  7.35100000e-01,  6.00000000e+00,\n         0.00000000e+00,  0.00000000e+00,  0.00000000e+00,\n         0.00000000e+00,  1.00000000e+00],\n       [ 9.30165996e-01,  1.00000000e+00,  1.66477290e-01,\n         8.74582564e-01,  2.87726475e-02,  2.55274268e-01,\n         7.15953084e-01,  5.29495117e-02,  3.61351648e-01,\n         5.85698840e-01,  9.29857342e-01,  0.00000000e+00,\n         0.00000000e+00, -6.25900000e-01,  7.00000000e+00,\n         0.00000000e+00,  0.00000000e+00,  0.00000000e+00,\n         0.00000000e+00,  1.00000000e+00],\n       [ 9.12865170e-01,  8.84742141e-01,  1.66477290e-01,\n         8.01372032e-01,  4.40880802e-02,  5.43524405e-01,\n         4.12387515e-01,  5.60554944e-02,  3.75053624e-01,\n         5.68890882e-01,  9.49857563e-01,  0.00000000e+00,\n         0.00000000e+00, -3.41200000e-01,  5.00000000e+00,\n         0.00000000e+00,  0.00000000e+00,  0.00000000e+00,\n         0.00000000e+00,  1.00000000e+00],\n       [ 8.85795529e-01,  9.67606122e-01,  6.72725427e-01,\n         2.59431303e+00,  3.14617651e-01,  6.83413222e-01,\n         1.96912771e-03,  2.34532218e-01,  7.07352440e-01,\n         5.81153423e-02,  4.86556464e-01,  0.00000000e+00,\n         1.00000000e+00, -7.35100000e-01,  5.00000000e+00,\n         1.00000000e+00,  0.00000000e+00,  0.00000000e+00,\n         0.00000000e+00,  0.00000000e+00],\n       [ 5.01537834e-01,  3.50000000e-01,  1.60571721e+00,\n         2.19733547e+00,  5.98133708e-01,  3.78889239e-01,\n         2.29770526e-02,  6.19182132e-01,  3.54251279e-01,\n         2.65665887e-02,  6.42374201e-01,  0.00000000e+00,\n         1.00000000e+00, -5.99400000e-01,  3.00000000e+00,\n         0.00000000e+00,  0.00000000e+00,  0.00000000e+00,\n         0.00000000e+00,  0.00000000e+00],\n       [ 9.10569687e-01,  1.00000000e+00,  1.29610613e-01,\n         7.88688470e-01,  5.78807853e-02,  5.00617273e-01,\n         4.41501942e-01,  5.87946584e-02,  3.74328292e-01,\n         5.66877049e-01,  9.50139696e-01,  0.00000000e+00,\n         0.00000000e+00,  4.40400000e-01,  5.00000000e+00,\n         0.00000000e+00,  0.00000000e+00,  0.00000000e+00,\n         0.00000000e+00,  1.00000000e+00]])"
     },
     "execution_count": 45,
     "metadata": {},
     "output_type": "execute_result"
    }
   ],
   "source": [
    "l1.transform(data_sample)"
   ]
  },
  {
   "cell_type": "code",
   "execution_count": 46,
   "metadata": {
    "pycharm": {
     "name": "#%%\n"
    }
   },
   "outputs": [
    {
     "data": {
      "text/plain": "array([[ 9.44993456e-01,  9.80000000e-01,  1.50488140e-01,\n         9.28453823e-01,  5.50323874e-02,  4.47867006e-01,\n         4.97100607e-01,  5.66561594e-02,  3.89024833e-01,\n         5.54319008e-01,  9.54738592e-01,  0.00000000e+00,\n         0.00000000e+00,  0.00000000e+00,  5.00000000e+00,\n         0.00000000e+00,  0.00000000e+00,  0.00000000e+00,\n         0.00000000e+00,  1.00000000e+00],\n       [ 9.30165996e-01,  1.00000000e+00,  1.66477290e-01,\n         8.74582564e-01,  2.87726475e-02,  2.55274268e-01,\n         7.15953084e-01,  5.29495117e-02,  3.61351648e-01,\n         5.85698840e-01,  9.29857342e-01,  0.00000000e+00,\n         0.00000000e+00,  7.35100000e-01,  6.00000000e+00,\n         0.00000000e+00,  0.00000000e+00,  0.00000000e+00,\n         0.00000000e+00,  1.00000000e+00],\n       [ 9.30165996e-01,  1.00000000e+00,  1.66477290e-01,\n         8.74582564e-01,  2.87726475e-02,  2.55274268e-01,\n         7.15953084e-01,  5.29495117e-02,  3.61351648e-01,\n         5.85698840e-01,  9.29857342e-01,  0.00000000e+00,\n         0.00000000e+00, -6.25900000e-01,  7.00000000e+00,\n         0.00000000e+00,  0.00000000e+00,  0.00000000e+00,\n         0.00000000e+00,  1.00000000e+00],\n       [ 9.12865170e-01,  8.84742141e-01,  1.66477290e-01,\n         8.01372032e-01,  4.40880802e-02,  5.43524405e-01,\n         4.12387515e-01,  5.60554944e-02,  3.75053624e-01,\n         5.68890882e-01,  9.49857563e-01,  0.00000000e+00,\n         0.00000000e+00, -3.41200000e-01,  5.00000000e+00,\n         0.00000000e+00,  0.00000000e+00,  0.00000000e+00,\n         0.00000000e+00,  1.00000000e+00],\n       [ 8.85795529e-01,  9.67606122e-01,  6.72725427e-01,\n         2.59431303e+00,  3.14617651e-01,  6.83413222e-01,\n         1.96912771e-03,  2.34532218e-01,  7.07352440e-01,\n         5.81153423e-02,  4.86556464e-01,  0.00000000e+00,\n         1.00000000e+00, -7.35100000e-01,  5.00000000e+00,\n         1.00000000e+00,  0.00000000e+00,  0.00000000e+00,\n         0.00000000e+00,  0.00000000e+00],\n       [ 5.01537834e-01,  3.50000000e-01,  1.60571721e+00,\n         2.19733547e+00,  5.98133708e-01,  3.78889239e-01,\n         2.29770526e-02,  6.19182132e-01,  3.54251279e-01,\n         2.65665887e-02,  6.42374201e-01,  0.00000000e+00,\n         1.00000000e+00, -5.99400000e-01,  3.00000000e+00,\n         0.00000000e+00,  0.00000000e+00,  0.00000000e+00,\n         0.00000000e+00,  0.00000000e+00],\n       [ 9.10569687e-01,  1.00000000e+00,  1.29610613e-01,\n         7.88688470e-01,  5.78807853e-02,  5.00617273e-01,\n         4.41501942e-01,  5.87946584e-02,  3.74328292e-01,\n         5.66877049e-01,  9.50139696e-01,  0.00000000e+00,\n         0.00000000e+00,  4.40400000e-01,  5.00000000e+00,\n         0.00000000e+00,  0.00000000e+00,  0.00000000e+00,\n         0.00000000e+00,  1.00000000e+00]])"
     },
     "execution_count": 46,
     "metadata": {},
     "output_type": "execute_result"
    }
   ],
   "source": [
    "l1.fit_transform(data_sample)"
   ]
  },
  {
   "cell_type": "code",
   "execution_count": 47,
   "metadata": {
    "pycharm": {
     "name": "#%%\n"
    }
   },
   "outputs": [
    {
     "data": {
      "text/plain": "CustomColumnTransformer(transformers=[('d1_lr',\n                                       PipelineTransformer(pipeline=Pipeline(steps=[('NLP',\n                                                                                     Pipeline(steps=[('cleaning',\n                                                                                                      TextCleaner()),\n                                                                                                     ('series_converter',\n                                                                                                      SeriesConverter()),\n                                                                                                     ('vectorization',\n                                                                                                      TfidfVectorizer(max_df=0.7,\n                                                                                                                      min_df=3))])),\n                                                                                    ('regressor',\n                                                                                     LogisticRegression())])),\n                                       ['tweet']),\n                                      ('d1_rfc',\n                                       PipelineTransformer(pipeline=Pipeline(steps=[('NLP',...\n                                                                                                      TfidfVectorizer(max_df=0.7,\n                                                                                                                      min_df=3))])),\n                                                                                    ('regressor',\n                                                                                     <catboost.core.CatBoostClassifier object at 0x000001ADD408AD40>)])),\n                                       ['tweet']),\n                                      ('feat_gen', FeatureGenerator(),\n                                       ['tweet']),\n                                      ('bert_clf',\n                                       Pipeline(steps=[('cleaning',\n                                                        TextCleaner()),\n                                                       ('series_converter',\n                                                        SeriesConverter()),\n                                                       ('bert_classifier',\n                                                        <__main__.BertClassifier object at 0x000001ADDAC021A0>)]),\n                                       ['tweet'])])",
      "text/html": "<style>#sk-container-id-2 {color: black;background-color: white;}#sk-container-id-2 pre{padding: 0;}#sk-container-id-2 div.sk-toggleable {background-color: white;}#sk-container-id-2 label.sk-toggleable__label {cursor: pointer;display: block;width: 100%;margin-bottom: 0;padding: 0.3em;box-sizing: border-box;text-align: center;}#sk-container-id-2 label.sk-toggleable__label-arrow:before {content: \"▸\";float: left;margin-right: 0.25em;color: #696969;}#sk-container-id-2 label.sk-toggleable__label-arrow:hover:before {color: black;}#sk-container-id-2 div.sk-estimator:hover label.sk-toggleable__label-arrow:before {color: black;}#sk-container-id-2 div.sk-toggleable__content {max-height: 0;max-width: 0;overflow: hidden;text-align: left;background-color: #f0f8ff;}#sk-container-id-2 div.sk-toggleable__content pre {margin: 0.2em;color: black;border-radius: 0.25em;background-color: #f0f8ff;}#sk-container-id-2 input.sk-toggleable__control:checked~div.sk-toggleable__content {max-height: 200px;max-width: 100%;overflow: auto;}#sk-container-id-2 input.sk-toggleable__control:checked~label.sk-toggleable__label-arrow:before {content: \"▾\";}#sk-container-id-2 div.sk-estimator input.sk-toggleable__control:checked~label.sk-toggleable__label {background-color: #d4ebff;}#sk-container-id-2 div.sk-label input.sk-toggleable__control:checked~label.sk-toggleable__label {background-color: #d4ebff;}#sk-container-id-2 input.sk-hidden--visually {border: 0;clip: rect(1px 1px 1px 1px);clip: rect(1px, 1px, 1px, 1px);height: 1px;margin: -1px;overflow: hidden;padding: 0;position: absolute;width: 1px;}#sk-container-id-2 div.sk-estimator {font-family: monospace;background-color: #f0f8ff;border: 1px dotted black;border-radius: 0.25em;box-sizing: border-box;margin-bottom: 0.5em;}#sk-container-id-2 div.sk-estimator:hover {background-color: #d4ebff;}#sk-container-id-2 div.sk-parallel-item::after {content: \"\";width: 100%;border-bottom: 1px solid gray;flex-grow: 1;}#sk-container-id-2 div.sk-label:hover label.sk-toggleable__label {background-color: #d4ebff;}#sk-container-id-2 div.sk-serial::before {content: \"\";position: absolute;border-left: 1px solid gray;box-sizing: border-box;top: 0;bottom: 0;left: 50%;z-index: 0;}#sk-container-id-2 div.sk-serial {display: flex;flex-direction: column;align-items: center;background-color: white;padding-right: 0.2em;padding-left: 0.2em;position: relative;}#sk-container-id-2 div.sk-item {position: relative;z-index: 1;}#sk-container-id-2 div.sk-parallel {display: flex;align-items: stretch;justify-content: center;background-color: white;position: relative;}#sk-container-id-2 div.sk-item::before, #sk-container-id-2 div.sk-parallel-item::before {content: \"\";position: absolute;border-left: 1px solid gray;box-sizing: border-box;top: 0;bottom: 0;left: 50%;z-index: -1;}#sk-container-id-2 div.sk-parallel-item {display: flex;flex-direction: column;z-index: 1;position: relative;background-color: white;}#sk-container-id-2 div.sk-parallel-item:first-child::after {align-self: flex-end;width: 50%;}#sk-container-id-2 div.sk-parallel-item:last-child::after {align-self: flex-start;width: 50%;}#sk-container-id-2 div.sk-parallel-item:only-child::after {width: 0;}#sk-container-id-2 div.sk-dashed-wrapped {border: 1px dashed gray;margin: 0 0.4em 0.5em 0.4em;box-sizing: border-box;padding-bottom: 0.4em;background-color: white;}#sk-container-id-2 div.sk-label label {font-family: monospace;font-weight: bold;display: inline-block;line-height: 1.2em;}#sk-container-id-2 div.sk-label-container {text-align: center;}#sk-container-id-2 div.sk-container {/* jupyter's `normalize.less` sets `[hidden] { display: none; }` but bootstrap.min.css set `[hidden] { display: none !important; }` so we also need the `!important` here to be able to override the default hidden behavior on the sphinx rendered scikit-learn.org. See: https://github.com/scikit-learn/scikit-learn/issues/21755 */display: inline-block !important;position: relative;}#sk-container-id-2 div.sk-text-repr-fallback {display: none;}</style><div id=\"sk-container-id-2\" class=\"sk-top-container\"><div class=\"sk-text-repr-fallback\"><pre>CustomColumnTransformer(transformers=[(&#x27;d1_lr&#x27;,\n                                       PipelineTransformer(pipeline=Pipeline(steps=[(&#x27;NLP&#x27;,\n                                                                                     Pipeline(steps=[(&#x27;cleaning&#x27;,\n                                                                                                      TextCleaner()),\n                                                                                                     (&#x27;series_converter&#x27;,\n                                                                                                      SeriesConverter()),\n                                                                                                     (&#x27;vectorization&#x27;,\n                                                                                                      TfidfVectorizer(max_df=0.7,\n                                                                                                                      min_df=3))])),\n                                                                                    (&#x27;regressor&#x27;,\n                                                                                     LogisticRegression())])),\n                                       [&#x27;tweet&#x27;]),\n                                      (&#x27;d1_rfc&#x27;,\n                                       PipelineTransformer(pipeline=Pipeline(steps=[(&#x27;NLP&#x27;,...\n                                                                                                      TfidfVectorizer(max_df=0.7,\n                                                                                                                      min_df=3))])),\n                                                                                    (&#x27;regressor&#x27;,\n                                                                                     &lt;catboost.core.CatBoostClassifier object at 0x000001ADD408AD40&gt;)])),\n                                       [&#x27;tweet&#x27;]),\n                                      (&#x27;feat_gen&#x27;, FeatureGenerator(),\n                                       [&#x27;tweet&#x27;]),\n                                      (&#x27;bert_clf&#x27;,\n                                       Pipeline(steps=[(&#x27;cleaning&#x27;,\n                                                        TextCleaner()),\n                                                       (&#x27;series_converter&#x27;,\n                                                        SeriesConverter()),\n                                                       (&#x27;bert_classifier&#x27;,\n                                                        &lt;__main__.BertClassifier object at 0x000001ADDAC021A0&gt;)]),\n                                       [&#x27;tweet&#x27;])])</pre><b>In a Jupyter environment, please rerun this cell to show the HTML representation or trust the notebook. <br />On GitHub, the HTML representation is unable to render, please try loading this page with nbviewer.org.</b></div><div class=\"sk-container\" hidden><div class=\"sk-item sk-dashed-wrapped\"><div class=\"sk-label-container\"><div class=\"sk-label sk-toggleable\"><input class=\"sk-toggleable__control sk-hidden--visually\" id=\"sk-estimator-id-57\" type=\"checkbox\" ><label for=\"sk-estimator-id-57\" class=\"sk-toggleable__label sk-toggleable__label-arrow\">CustomColumnTransformer</label><div class=\"sk-toggleable__content\"><pre>CustomColumnTransformer(transformers=[(&#x27;d1_lr&#x27;,\n                                       PipelineTransformer(pipeline=Pipeline(steps=[(&#x27;NLP&#x27;,\n                                                                                     Pipeline(steps=[(&#x27;cleaning&#x27;,\n                                                                                                      TextCleaner()),\n                                                                                                     (&#x27;series_converter&#x27;,\n                                                                                                      SeriesConverter()),\n                                                                                                     (&#x27;vectorization&#x27;,\n                                                                                                      TfidfVectorizer(max_df=0.7,\n                                                                                                                      min_df=3))])),\n                                                                                    (&#x27;regressor&#x27;,\n                                                                                     LogisticRegression())])),\n                                       [&#x27;tweet&#x27;]),\n                                      (&#x27;d1_rfc&#x27;,\n                                       PipelineTransformer(pipeline=Pipeline(steps=[(&#x27;NLP&#x27;,...\n                                                                                                      TfidfVectorizer(max_df=0.7,\n                                                                                                                      min_df=3))])),\n                                                                                    (&#x27;regressor&#x27;,\n                                                                                     &lt;catboost.core.CatBoostClassifier object at 0x000001ADD408AD40&gt;)])),\n                                       [&#x27;tweet&#x27;]),\n                                      (&#x27;feat_gen&#x27;, FeatureGenerator(),\n                                       [&#x27;tweet&#x27;]),\n                                      (&#x27;bert_clf&#x27;,\n                                       Pipeline(steps=[(&#x27;cleaning&#x27;,\n                                                        TextCleaner()),\n                                                       (&#x27;series_converter&#x27;,\n                                                        SeriesConverter()),\n                                                       (&#x27;bert_classifier&#x27;,\n                                                        &lt;__main__.BertClassifier object at 0x000001ADDAC021A0&gt;)]),\n                                       [&#x27;tweet&#x27;])])</pre></div></div></div><div class=\"sk-parallel\"><div class=\"sk-parallel-item\"><div class=\"sk-item\"><div class=\"sk-label-container\"><div class=\"sk-label sk-toggleable\"><input class=\"sk-toggleable__control sk-hidden--visually\" id=\"sk-estimator-id-58\" type=\"checkbox\" ><label for=\"sk-estimator-id-58\" class=\"sk-toggleable__label sk-toggleable__label-arrow\">d1_lr</label><div class=\"sk-toggleable__content\"><pre>[&#x27;tweet&#x27;]</pre></div></div></div><div class=\"sk-serial\"><div class=\"sk-item sk-dashed-wrapped\"><div class=\"sk-parallel\"><div class=\"sk-parallel-item\"><div class=\"sk-item\"><div class=\"sk-label-container\"><div class=\"sk-label sk-toggleable\"><input class=\"sk-toggleable__control sk-hidden--visually\" id=\"sk-estimator-id-59\" type=\"checkbox\" ><label for=\"sk-estimator-id-59\" class=\"sk-toggleable__label sk-toggleable__label-arrow\">pipeline: Pipeline</label><div class=\"sk-toggleable__content\"><pre>Pipeline(steps=[(&#x27;NLP&#x27;,\n                 Pipeline(steps=[(&#x27;cleaning&#x27;, TextCleaner()),\n                                 (&#x27;series_converter&#x27;, SeriesConverter()),\n                                 (&#x27;vectorization&#x27;,\n                                  TfidfVectorizer(max_df=0.7, min_df=3))])),\n                (&#x27;regressor&#x27;, LogisticRegression())])</pre></div></div></div><div class=\"sk-serial\"><div class=\"sk-item\"><div class=\"sk-serial\"><div class=\"sk-item\"><div class=\"sk-label-container\"><div class=\"sk-label sk-toggleable\"><input class=\"sk-toggleable__control sk-hidden--visually\" id=\"sk-estimator-id-60\" type=\"checkbox\" ><label for=\"sk-estimator-id-60\" class=\"sk-toggleable__label sk-toggleable__label-arrow\">NLP: Pipeline</label><div class=\"sk-toggleable__content\"><pre>Pipeline(steps=[(&#x27;cleaning&#x27;, TextCleaner()),\n                (&#x27;series_converter&#x27;, SeriesConverter()),\n                (&#x27;vectorization&#x27;, TfidfVectorizer(max_df=0.7, min_df=3))])</pre></div></div></div><div class=\"sk-serial\"><div class=\"sk-item\"><div class=\"sk-estimator sk-toggleable\"><input class=\"sk-toggleable__control sk-hidden--visually\" id=\"sk-estimator-id-61\" type=\"checkbox\" ><label for=\"sk-estimator-id-61\" class=\"sk-toggleable__label sk-toggleable__label-arrow\">TextCleaner</label><div class=\"sk-toggleable__content\"><pre>TextCleaner()</pre></div></div></div><div class=\"sk-item\"><div class=\"sk-estimator sk-toggleable\"><input class=\"sk-toggleable__control sk-hidden--visually\" id=\"sk-estimator-id-62\" type=\"checkbox\" ><label for=\"sk-estimator-id-62\" class=\"sk-toggleable__label sk-toggleable__label-arrow\">SeriesConverter</label><div class=\"sk-toggleable__content\"><pre>SeriesConverter()</pre></div></div></div><div class=\"sk-item\"><div class=\"sk-estimator sk-toggleable\"><input class=\"sk-toggleable__control sk-hidden--visually\" id=\"sk-estimator-id-63\" type=\"checkbox\" ><label for=\"sk-estimator-id-63\" class=\"sk-toggleable__label sk-toggleable__label-arrow\">TfidfVectorizer</label><div class=\"sk-toggleable__content\"><pre>TfidfVectorizer(max_df=0.7, min_df=3)</pre></div></div></div></div></div><div class=\"sk-item\"><div class=\"sk-estimator sk-toggleable\"><input class=\"sk-toggleable__control sk-hidden--visually\" id=\"sk-estimator-id-64\" type=\"checkbox\" ><label for=\"sk-estimator-id-64\" class=\"sk-toggleable__label sk-toggleable__label-arrow\">LogisticRegression</label><div class=\"sk-toggleable__content\"><pre>LogisticRegression()</pre></div></div></div></div></div></div></div></div></div></div></div></div></div><div class=\"sk-parallel-item\"><div class=\"sk-item\"><div class=\"sk-label-container\"><div class=\"sk-label sk-toggleable\"><input class=\"sk-toggleable__control sk-hidden--visually\" id=\"sk-estimator-id-65\" type=\"checkbox\" ><label for=\"sk-estimator-id-65\" class=\"sk-toggleable__label sk-toggleable__label-arrow\">d1_rfc</label><div class=\"sk-toggleable__content\"><pre>[&#x27;tweet&#x27;]</pre></div></div></div><div class=\"sk-serial\"><div class=\"sk-item sk-dashed-wrapped\"><div class=\"sk-parallel\"><div class=\"sk-parallel-item\"><div class=\"sk-item\"><div class=\"sk-label-container\"><div class=\"sk-label sk-toggleable\"><input class=\"sk-toggleable__control sk-hidden--visually\" id=\"sk-estimator-id-66\" type=\"checkbox\" ><label for=\"sk-estimator-id-66\" class=\"sk-toggleable__label sk-toggleable__label-arrow\">pipeline: Pipeline</label><div class=\"sk-toggleable__content\"><pre>Pipeline(steps=[(&#x27;NLP&#x27;,\n                 Pipeline(steps=[(&#x27;cleaning&#x27;, TextCleaner()),\n                                 (&#x27;series_converter&#x27;, SeriesConverter()),\n                                 (&#x27;vectorization&#x27;,\n                                  TfidfVectorizer(max_df=0.7, min_df=3))])),\n                (&#x27;regressor&#x27;, RandomForestClassifier())])</pre></div></div></div><div class=\"sk-serial\"><div class=\"sk-item\"><div class=\"sk-serial\"><div class=\"sk-item\"><div class=\"sk-label-container\"><div class=\"sk-label sk-toggleable\"><input class=\"sk-toggleable__control sk-hidden--visually\" id=\"sk-estimator-id-67\" type=\"checkbox\" ><label for=\"sk-estimator-id-67\" class=\"sk-toggleable__label sk-toggleable__label-arrow\">NLP: Pipeline</label><div class=\"sk-toggleable__content\"><pre>Pipeline(steps=[(&#x27;cleaning&#x27;, TextCleaner()),\n                (&#x27;series_converter&#x27;, SeriesConverter()),\n                (&#x27;vectorization&#x27;, TfidfVectorizer(max_df=0.7, min_df=3))])</pre></div></div></div><div class=\"sk-serial\"><div class=\"sk-item\"><div class=\"sk-estimator sk-toggleable\"><input class=\"sk-toggleable__control sk-hidden--visually\" id=\"sk-estimator-id-68\" type=\"checkbox\" ><label for=\"sk-estimator-id-68\" class=\"sk-toggleable__label sk-toggleable__label-arrow\">TextCleaner</label><div class=\"sk-toggleable__content\"><pre>TextCleaner()</pre></div></div></div><div class=\"sk-item\"><div class=\"sk-estimator sk-toggleable\"><input class=\"sk-toggleable__control sk-hidden--visually\" id=\"sk-estimator-id-69\" type=\"checkbox\" ><label for=\"sk-estimator-id-69\" class=\"sk-toggleable__label sk-toggleable__label-arrow\">SeriesConverter</label><div class=\"sk-toggleable__content\"><pre>SeriesConverter()</pre></div></div></div><div class=\"sk-item\"><div class=\"sk-estimator sk-toggleable\"><input class=\"sk-toggleable__control sk-hidden--visually\" id=\"sk-estimator-id-70\" type=\"checkbox\" ><label for=\"sk-estimator-id-70\" class=\"sk-toggleable__label sk-toggleable__label-arrow\">TfidfVectorizer</label><div class=\"sk-toggleable__content\"><pre>TfidfVectorizer(max_df=0.7, min_df=3)</pre></div></div></div></div></div><div class=\"sk-item\"><div class=\"sk-estimator sk-toggleable\"><input class=\"sk-toggleable__control sk-hidden--visually\" id=\"sk-estimator-id-71\" type=\"checkbox\" ><label for=\"sk-estimator-id-71\" class=\"sk-toggleable__label sk-toggleable__label-arrow\">RandomForestClassifier</label><div class=\"sk-toggleable__content\"><pre>RandomForestClassifier()</pre></div></div></div></div></div></div></div></div></div></div></div></div></div><div class=\"sk-parallel-item\"><div class=\"sk-item\"><div class=\"sk-label-container\"><div class=\"sk-label sk-toggleable\"><input class=\"sk-toggleable__control sk-hidden--visually\" id=\"sk-estimator-id-72\" type=\"checkbox\" ><label for=\"sk-estimator-id-72\" class=\"sk-toggleable__label sk-toggleable__label-arrow\">d2_ctb_reg</label><div class=\"sk-toggleable__content\"><pre>[&#x27;tweet&#x27;]</pre></div></div></div><div class=\"sk-serial\"><div class=\"sk-item sk-dashed-wrapped\"><div class=\"sk-parallel\"><div class=\"sk-parallel-item\"><div class=\"sk-item\"><div class=\"sk-label-container\"><div class=\"sk-label sk-toggleable\"><input class=\"sk-toggleable__control sk-hidden--visually\" id=\"sk-estimator-id-73\" type=\"checkbox\" ><label for=\"sk-estimator-id-73\" class=\"sk-toggleable__label sk-toggleable__label-arrow\">pipeline: Pipeline</label><div class=\"sk-toggleable__content\"><pre>Pipeline(steps=[(&#x27;NLP&#x27;,\n                 Pipeline(steps=[(&#x27;cleaning&#x27;, TextCleaner()),\n                                 (&#x27;series_converter&#x27;, SeriesConverter()),\n                                 (&#x27;vectorization&#x27;,\n                                  TfidfVectorizer(max_df=0.7, min_df=3))])),\n                (&#x27;regressor&#x27;,\n                 &lt;catboost.core.CatBoostRegressor object at 0x000001ADC37934C0&gt;)])</pre></div></div></div><div class=\"sk-serial\"><div class=\"sk-item\"><div class=\"sk-serial\"><div class=\"sk-item\"><div class=\"sk-label-container\"><div class=\"sk-label sk-toggleable\"><input class=\"sk-toggleable__control sk-hidden--visually\" id=\"sk-estimator-id-74\" type=\"checkbox\" ><label for=\"sk-estimator-id-74\" class=\"sk-toggleable__label sk-toggleable__label-arrow\">NLP: Pipeline</label><div class=\"sk-toggleable__content\"><pre>Pipeline(steps=[(&#x27;cleaning&#x27;, TextCleaner()),\n                (&#x27;series_converter&#x27;, SeriesConverter()),\n                (&#x27;vectorization&#x27;, TfidfVectorizer(max_df=0.7, min_df=3))])</pre></div></div></div><div class=\"sk-serial\"><div class=\"sk-item\"><div class=\"sk-estimator sk-toggleable\"><input class=\"sk-toggleable__control sk-hidden--visually\" id=\"sk-estimator-id-75\" type=\"checkbox\" ><label for=\"sk-estimator-id-75\" class=\"sk-toggleable__label sk-toggleable__label-arrow\">TextCleaner</label><div class=\"sk-toggleable__content\"><pre>TextCleaner()</pre></div></div></div><div class=\"sk-item\"><div class=\"sk-estimator sk-toggleable\"><input class=\"sk-toggleable__control sk-hidden--visually\" id=\"sk-estimator-id-76\" type=\"checkbox\" ><label for=\"sk-estimator-id-76\" class=\"sk-toggleable__label sk-toggleable__label-arrow\">SeriesConverter</label><div class=\"sk-toggleable__content\"><pre>SeriesConverter()</pre></div></div></div><div class=\"sk-item\"><div class=\"sk-estimator sk-toggleable\"><input class=\"sk-toggleable__control sk-hidden--visually\" id=\"sk-estimator-id-77\" type=\"checkbox\" ><label for=\"sk-estimator-id-77\" class=\"sk-toggleable__label sk-toggleable__label-arrow\">TfidfVectorizer</label><div class=\"sk-toggleable__content\"><pre>TfidfVectorizer(max_df=0.7, min_df=3)</pre></div></div></div></div></div><div class=\"sk-item\"><div class=\"sk-estimator sk-toggleable\"><input class=\"sk-toggleable__control sk-hidden--visually\" id=\"sk-estimator-id-78\" type=\"checkbox\" ><label for=\"sk-estimator-id-78\" class=\"sk-toggleable__label sk-toggleable__label-arrow\">CatBoostRegressor</label><div class=\"sk-toggleable__content\"><pre>&lt;catboost.core.CatBoostRegressor object at 0x000001ADC37934C0&gt;</pre></div></div></div></div></div></div></div></div></div></div></div></div></div><div class=\"sk-parallel-item\"><div class=\"sk-item\"><div class=\"sk-label-container\"><div class=\"sk-label sk-toggleable\"><input class=\"sk-toggleable__control sk-hidden--visually\" id=\"sk-estimator-id-79\" type=\"checkbox\" ><label for=\"sk-estimator-id-79\" class=\"sk-toggleable__label sk-toggleable__label-arrow\">d2_lgbm_reg</label><div class=\"sk-toggleable__content\"><pre>[&#x27;tweet&#x27;]</pre></div></div></div><div class=\"sk-serial\"><div class=\"sk-item sk-dashed-wrapped\"><div class=\"sk-parallel\"><div class=\"sk-parallel-item\"><div class=\"sk-item\"><div class=\"sk-label-container\"><div class=\"sk-label sk-toggleable\"><input class=\"sk-toggleable__control sk-hidden--visually\" id=\"sk-estimator-id-80\" type=\"checkbox\" ><label for=\"sk-estimator-id-80\" class=\"sk-toggleable__label sk-toggleable__label-arrow\">pipeline: Pipeline</label><div class=\"sk-toggleable__content\"><pre>Pipeline(steps=[(&#x27;NLP&#x27;,\n                 Pipeline(steps=[(&#x27;cleaning&#x27;, TextCleaner()),\n                                 (&#x27;series_converter&#x27;, SeriesConverter()),\n                                 (&#x27;vectorization&#x27;,\n                                  TfidfVectorizer(max_df=0.7, min_df=3))])),\n                (&#x27;regressor&#x27;, LGBMRegressor())])</pre></div></div></div><div class=\"sk-serial\"><div class=\"sk-item\"><div class=\"sk-serial\"><div class=\"sk-item\"><div class=\"sk-label-container\"><div class=\"sk-label sk-toggleable\"><input class=\"sk-toggleable__control sk-hidden--visually\" id=\"sk-estimator-id-81\" type=\"checkbox\" ><label for=\"sk-estimator-id-81\" class=\"sk-toggleable__label sk-toggleable__label-arrow\">NLP: Pipeline</label><div class=\"sk-toggleable__content\"><pre>Pipeline(steps=[(&#x27;cleaning&#x27;, TextCleaner()),\n                (&#x27;series_converter&#x27;, SeriesConverter()),\n                (&#x27;vectorization&#x27;, TfidfVectorizer(max_df=0.7, min_df=3))])</pre></div></div></div><div class=\"sk-serial\"><div class=\"sk-item\"><div class=\"sk-estimator sk-toggleable\"><input class=\"sk-toggleable__control sk-hidden--visually\" id=\"sk-estimator-id-82\" type=\"checkbox\" ><label for=\"sk-estimator-id-82\" class=\"sk-toggleable__label sk-toggleable__label-arrow\">TextCleaner</label><div class=\"sk-toggleable__content\"><pre>TextCleaner()</pre></div></div></div><div class=\"sk-item\"><div class=\"sk-estimator sk-toggleable\"><input class=\"sk-toggleable__control sk-hidden--visually\" id=\"sk-estimator-id-83\" type=\"checkbox\" ><label for=\"sk-estimator-id-83\" class=\"sk-toggleable__label sk-toggleable__label-arrow\">SeriesConverter</label><div class=\"sk-toggleable__content\"><pre>SeriesConverter()</pre></div></div></div><div class=\"sk-item\"><div class=\"sk-estimator sk-toggleable\"><input class=\"sk-toggleable__control sk-hidden--visually\" id=\"sk-estimator-id-84\" type=\"checkbox\" ><label for=\"sk-estimator-id-84\" class=\"sk-toggleable__label sk-toggleable__label-arrow\">TfidfVectorizer</label><div class=\"sk-toggleable__content\"><pre>TfidfVectorizer(max_df=0.7, min_df=3)</pre></div></div></div></div></div><div class=\"sk-item\"><div class=\"sk-estimator sk-toggleable\"><input class=\"sk-toggleable__control sk-hidden--visually\" id=\"sk-estimator-id-85\" type=\"checkbox\" ><label for=\"sk-estimator-id-85\" class=\"sk-toggleable__label sk-toggleable__label-arrow\">LGBMRegressor</label><div class=\"sk-toggleable__content\"><pre>LGBMRegressor()</pre></div></div></div></div></div></div></div></div></div></div></div></div></div><div class=\"sk-parallel-item\"><div class=\"sk-item\"><div class=\"sk-label-container\"><div class=\"sk-label sk-toggleable\"><input class=\"sk-toggleable__control sk-hidden--visually\" id=\"sk-estimator-id-86\" type=\"checkbox\" ><label for=\"sk-estimator-id-86\" class=\"sk-toggleable__label sk-toggleable__label-arrow\">d2_lr_clf</label><div class=\"sk-toggleable__content\"><pre>[&#x27;tweet&#x27;]</pre></div></div></div><div class=\"sk-serial\"><div class=\"sk-item sk-dashed-wrapped\"><div class=\"sk-parallel\"><div class=\"sk-parallel-item\"><div class=\"sk-item\"><div class=\"sk-label-container\"><div class=\"sk-label sk-toggleable\"><input class=\"sk-toggleable__control sk-hidden--visually\" id=\"sk-estimator-id-87\" type=\"checkbox\" ><label for=\"sk-estimator-id-87\" class=\"sk-toggleable__label sk-toggleable__label-arrow\">pipeline: Pipeline</label><div class=\"sk-toggleable__content\"><pre>Pipeline(steps=[(&#x27;NLP&#x27;,\n                 Pipeline(steps=[(&#x27;cleaning&#x27;, TextCleaner()),\n                                 (&#x27;series_converter&#x27;, SeriesConverter()),\n                                 (&#x27;vectorization&#x27;,\n                                  TfidfVectorizer(max_df=0.7, min_df=3))])),\n                (&#x27;regressor&#x27;, LogisticRegression())])</pre></div></div></div><div class=\"sk-serial\"><div class=\"sk-item\"><div class=\"sk-serial\"><div class=\"sk-item\"><div class=\"sk-label-container\"><div class=\"sk-label sk-toggleable\"><input class=\"sk-toggleable__control sk-hidden--visually\" id=\"sk-estimator-id-88\" type=\"checkbox\" ><label for=\"sk-estimator-id-88\" class=\"sk-toggleable__label sk-toggleable__label-arrow\">NLP: Pipeline</label><div class=\"sk-toggleable__content\"><pre>Pipeline(steps=[(&#x27;cleaning&#x27;, TextCleaner()),\n                (&#x27;series_converter&#x27;, SeriesConverter()),\n                (&#x27;vectorization&#x27;, TfidfVectorizer(max_df=0.7, min_df=3))])</pre></div></div></div><div class=\"sk-serial\"><div class=\"sk-item\"><div class=\"sk-estimator sk-toggleable\"><input class=\"sk-toggleable__control sk-hidden--visually\" id=\"sk-estimator-id-89\" type=\"checkbox\" ><label for=\"sk-estimator-id-89\" class=\"sk-toggleable__label sk-toggleable__label-arrow\">TextCleaner</label><div class=\"sk-toggleable__content\"><pre>TextCleaner()</pre></div></div></div><div class=\"sk-item\"><div class=\"sk-estimator sk-toggleable\"><input class=\"sk-toggleable__control sk-hidden--visually\" id=\"sk-estimator-id-90\" type=\"checkbox\" ><label for=\"sk-estimator-id-90\" class=\"sk-toggleable__label sk-toggleable__label-arrow\">SeriesConverter</label><div class=\"sk-toggleable__content\"><pre>SeriesConverter()</pre></div></div></div><div class=\"sk-item\"><div class=\"sk-estimator sk-toggleable\"><input class=\"sk-toggleable__control sk-hidden--visually\" id=\"sk-estimator-id-91\" type=\"checkbox\" ><label for=\"sk-estimator-id-91\" class=\"sk-toggleable__label sk-toggleable__label-arrow\">TfidfVectorizer</label><div class=\"sk-toggleable__content\"><pre>TfidfVectorizer(max_df=0.7, min_df=3)</pre></div></div></div></div></div><div class=\"sk-item\"><div class=\"sk-estimator sk-toggleable\"><input class=\"sk-toggleable__control sk-hidden--visually\" id=\"sk-estimator-id-92\" type=\"checkbox\" ><label for=\"sk-estimator-id-92\" class=\"sk-toggleable__label sk-toggleable__label-arrow\">LogisticRegression</label><div class=\"sk-toggleable__content\"><pre>LogisticRegression()</pre></div></div></div></div></div></div></div></div></div></div></div></div></div><div class=\"sk-parallel-item\"><div class=\"sk-item\"><div class=\"sk-label-container\"><div class=\"sk-label sk-toggleable\"><input class=\"sk-toggleable__control sk-hidden--visually\" id=\"sk-estimator-id-93\" type=\"checkbox\" ><label for=\"sk-estimator-id-93\" class=\"sk-toggleable__label sk-toggleable__label-arrow\">d2_ctb_clf</label><div class=\"sk-toggleable__content\"><pre>[&#x27;tweet&#x27;]</pre></div></div></div><div class=\"sk-serial\"><div class=\"sk-item sk-dashed-wrapped\"><div class=\"sk-parallel\"><div class=\"sk-parallel-item\"><div class=\"sk-item\"><div class=\"sk-label-container\"><div class=\"sk-label sk-toggleable\"><input class=\"sk-toggleable__control sk-hidden--visually\" id=\"sk-estimator-id-94\" type=\"checkbox\" ><label for=\"sk-estimator-id-94\" class=\"sk-toggleable__label sk-toggleable__label-arrow\">pipeline: Pipeline</label><div class=\"sk-toggleable__content\"><pre>Pipeline(steps=[(&#x27;NLP&#x27;,\n                 Pipeline(steps=[(&#x27;cleaning&#x27;, TextCleaner()),\n                                 (&#x27;series_converter&#x27;, SeriesConverter()),\n                                 (&#x27;vectorization&#x27;,\n                                  TfidfVectorizer(max_df=0.7, min_df=3))])),\n                (&#x27;regressor&#x27;,\n                 &lt;catboost.core.CatBoostClassifier object at 0x000001ADD408A1A0&gt;)])</pre></div></div></div><div class=\"sk-serial\"><div class=\"sk-item\"><div class=\"sk-serial\"><div class=\"sk-item\"><div class=\"sk-label-container\"><div class=\"sk-label sk-toggleable\"><input class=\"sk-toggleable__control sk-hidden--visually\" id=\"sk-estimator-id-95\" type=\"checkbox\" ><label for=\"sk-estimator-id-95\" class=\"sk-toggleable__label sk-toggleable__label-arrow\">NLP: Pipeline</label><div class=\"sk-toggleable__content\"><pre>Pipeline(steps=[(&#x27;cleaning&#x27;, TextCleaner()),\n                (&#x27;series_converter&#x27;, SeriesConverter()),\n                (&#x27;vectorization&#x27;, TfidfVectorizer(max_df=0.7, min_df=3))])</pre></div></div></div><div class=\"sk-serial\"><div class=\"sk-item\"><div class=\"sk-estimator sk-toggleable\"><input class=\"sk-toggleable__control sk-hidden--visually\" id=\"sk-estimator-id-96\" type=\"checkbox\" ><label for=\"sk-estimator-id-96\" class=\"sk-toggleable__label sk-toggleable__label-arrow\">TextCleaner</label><div class=\"sk-toggleable__content\"><pre>TextCleaner()</pre></div></div></div><div class=\"sk-item\"><div class=\"sk-estimator sk-toggleable\"><input class=\"sk-toggleable__control sk-hidden--visually\" id=\"sk-estimator-id-97\" type=\"checkbox\" ><label for=\"sk-estimator-id-97\" class=\"sk-toggleable__label sk-toggleable__label-arrow\">SeriesConverter</label><div class=\"sk-toggleable__content\"><pre>SeriesConverter()</pre></div></div></div><div class=\"sk-item\"><div class=\"sk-estimator sk-toggleable\"><input class=\"sk-toggleable__control sk-hidden--visually\" id=\"sk-estimator-id-98\" type=\"checkbox\" ><label for=\"sk-estimator-id-98\" class=\"sk-toggleable__label sk-toggleable__label-arrow\">TfidfVectorizer</label><div class=\"sk-toggleable__content\"><pre>TfidfVectorizer(max_df=0.7, min_df=3)</pre></div></div></div></div></div><div class=\"sk-item\"><div class=\"sk-estimator sk-toggleable\"><input class=\"sk-toggleable__control sk-hidden--visually\" id=\"sk-estimator-id-99\" type=\"checkbox\" ><label for=\"sk-estimator-id-99\" class=\"sk-toggleable__label sk-toggleable__label-arrow\">CatBoostClassifier</label><div class=\"sk-toggleable__content\"><pre>&lt;catboost.core.CatBoostClassifier object at 0x000001ADD408A1A0&gt;</pre></div></div></div></div></div></div></div></div></div></div></div></div></div><div class=\"sk-parallel-item\"><div class=\"sk-item\"><div class=\"sk-label-container\"><div class=\"sk-label sk-toggleable\"><input class=\"sk-toggleable__control sk-hidden--visually\" id=\"sk-estimator-id-100\" type=\"checkbox\" ><label for=\"sk-estimator-id-100\" class=\"sk-toggleable__label sk-toggleable__label-arrow\">d3_ctb</label><div class=\"sk-toggleable__content\"><pre>[&#x27;tweet&#x27;]</pre></div></div></div><div class=\"sk-serial\"><div class=\"sk-item sk-dashed-wrapped\"><div class=\"sk-parallel\"><div class=\"sk-parallel-item\"><div class=\"sk-item\"><div class=\"sk-label-container\"><div class=\"sk-label sk-toggleable\"><input class=\"sk-toggleable__control sk-hidden--visually\" id=\"sk-estimator-id-101\" type=\"checkbox\" ><label for=\"sk-estimator-id-101\" class=\"sk-toggleable__label sk-toggleable__label-arrow\">pipeline: Pipeline</label><div class=\"sk-toggleable__content\"><pre>Pipeline(steps=[(&#x27;NLP&#x27;,\n                 Pipeline(steps=[(&#x27;cleaning&#x27;, TextCleaner()),\n                                 (&#x27;series_converter&#x27;, SeriesConverter()),\n                                 (&#x27;vectorization&#x27;,\n                                  TfidfVectorizer(max_df=0.7, min_df=3))])),\n                (&#x27;regressor&#x27;,\n                 &lt;catboost.core.CatBoostClassifier object at 0x000001ADD408AD40&gt;)])</pre></div></div></div><div class=\"sk-serial\"><div class=\"sk-item\"><div class=\"sk-serial\"><div class=\"sk-item\"><div class=\"sk-label-container\"><div class=\"sk-label sk-toggleable\"><input class=\"sk-toggleable__control sk-hidden--visually\" id=\"sk-estimator-id-102\" type=\"checkbox\" ><label for=\"sk-estimator-id-102\" class=\"sk-toggleable__label sk-toggleable__label-arrow\">NLP: Pipeline</label><div class=\"sk-toggleable__content\"><pre>Pipeline(steps=[(&#x27;cleaning&#x27;, TextCleaner()),\n                (&#x27;series_converter&#x27;, SeriesConverter()),\n                (&#x27;vectorization&#x27;, TfidfVectorizer(max_df=0.7, min_df=3))])</pre></div></div></div><div class=\"sk-serial\"><div class=\"sk-item\"><div class=\"sk-estimator sk-toggleable\"><input class=\"sk-toggleable__control sk-hidden--visually\" id=\"sk-estimator-id-103\" type=\"checkbox\" ><label for=\"sk-estimator-id-103\" class=\"sk-toggleable__label sk-toggleable__label-arrow\">TextCleaner</label><div class=\"sk-toggleable__content\"><pre>TextCleaner()</pre></div></div></div><div class=\"sk-item\"><div class=\"sk-estimator sk-toggleable\"><input class=\"sk-toggleable__control sk-hidden--visually\" id=\"sk-estimator-id-104\" type=\"checkbox\" ><label for=\"sk-estimator-id-104\" class=\"sk-toggleable__label sk-toggleable__label-arrow\">SeriesConverter</label><div class=\"sk-toggleable__content\"><pre>SeriesConverter()</pre></div></div></div><div class=\"sk-item\"><div class=\"sk-estimator sk-toggleable\"><input class=\"sk-toggleable__control sk-hidden--visually\" id=\"sk-estimator-id-105\" type=\"checkbox\" ><label for=\"sk-estimator-id-105\" class=\"sk-toggleable__label sk-toggleable__label-arrow\">TfidfVectorizer</label><div class=\"sk-toggleable__content\"><pre>TfidfVectorizer(max_df=0.7, min_df=3)</pre></div></div></div></div></div><div class=\"sk-item\"><div class=\"sk-estimator sk-toggleable\"><input class=\"sk-toggleable__control sk-hidden--visually\" id=\"sk-estimator-id-106\" type=\"checkbox\" ><label for=\"sk-estimator-id-106\" class=\"sk-toggleable__label sk-toggleable__label-arrow\">CatBoostClassifier</label><div class=\"sk-toggleable__content\"><pre>&lt;catboost.core.CatBoostClassifier object at 0x000001ADD408AD40&gt;</pre></div></div></div></div></div></div></div></div></div></div></div></div></div><div class=\"sk-parallel-item\"><div class=\"sk-item\"><div class=\"sk-label-container\"><div class=\"sk-label sk-toggleable\"><input class=\"sk-toggleable__control sk-hidden--visually\" id=\"sk-estimator-id-107\" type=\"checkbox\" ><label for=\"sk-estimator-id-107\" class=\"sk-toggleable__label sk-toggleable__label-arrow\">feat_gen</label><div class=\"sk-toggleable__content\"><pre>[&#x27;tweet&#x27;]</pre></div></div></div><div class=\"sk-serial\"><div class=\"sk-item\"><div class=\"sk-estimator sk-toggleable\"><input class=\"sk-toggleable__control sk-hidden--visually\" id=\"sk-estimator-id-108\" type=\"checkbox\" ><label for=\"sk-estimator-id-108\" class=\"sk-toggleable__label sk-toggleable__label-arrow\">FeatureGenerator</label><div class=\"sk-toggleable__content\"><pre>FeatureGenerator()</pre></div></div></div></div></div></div><div class=\"sk-parallel-item\"><div class=\"sk-item\"><div class=\"sk-label-container\"><div class=\"sk-label sk-toggleable\"><input class=\"sk-toggleable__control sk-hidden--visually\" id=\"sk-estimator-id-109\" type=\"checkbox\" ><label for=\"sk-estimator-id-109\" class=\"sk-toggleable__label sk-toggleable__label-arrow\">bert_clf</label><div class=\"sk-toggleable__content\"><pre>[&#x27;tweet&#x27;]</pre></div></div></div><div class=\"sk-serial\"><div class=\"sk-item\"><div class=\"sk-serial\"><div class=\"sk-item\"><div class=\"sk-estimator sk-toggleable\"><input class=\"sk-toggleable__control sk-hidden--visually\" id=\"sk-estimator-id-110\" type=\"checkbox\" ><label for=\"sk-estimator-id-110\" class=\"sk-toggleable__label sk-toggleable__label-arrow\">TextCleaner</label><div class=\"sk-toggleable__content\"><pre>TextCleaner()</pre></div></div></div><div class=\"sk-item\"><div class=\"sk-estimator sk-toggleable\"><input class=\"sk-toggleable__control sk-hidden--visually\" id=\"sk-estimator-id-111\" type=\"checkbox\" ><label for=\"sk-estimator-id-111\" class=\"sk-toggleable__label sk-toggleable__label-arrow\">SeriesConverter</label><div class=\"sk-toggleable__content\"><pre>SeriesConverter()</pre></div></div></div><div class=\"sk-item\"><div class=\"sk-estimator sk-toggleable\"><input class=\"sk-toggleable__control sk-hidden--visually\" id=\"sk-estimator-id-112\" type=\"checkbox\" ><label for=\"sk-estimator-id-112\" class=\"sk-toggleable__label sk-toggleable__label-arrow\">BertClassifier</label><div class=\"sk-toggleable__content\"><pre>&lt;__main__.BertClassifier object at 0x000001ADDAC021A0&gt;</pre></div></div></div></div></div></div></div></div></div></div></div></div>"
     },
     "execution_count": 47,
     "metadata": {},
     "output_type": "execute_result"
    }
   ],
   "source": [
    "l1"
   ]
  },
  {
   "cell_type": "code",
   "execution_count": 48,
   "metadata": {
    "pycharm": {
     "name": "#%%\n"
    }
   },
   "outputs": [
    {
     "data": {
      "text/plain": "['d1_lr_LogisticRegression',\n 'd1_rfc_RandomForestClassifier',\n 'd2_ctb_reg_CatBoostRegressor',\n 'd2_lgbm_reg_LGBMRegressor',\n 'd2_lr_clf_LogisticRegression_0',\n 'd2_lr_clf_LogisticRegression_1',\n 'd2_lr_clf_LogisticRegression_2',\n 'd2_ctb_clf_CatBoostClassifier_0',\n 'd2_ctb_clf_CatBoostClassifier_1',\n 'd2_ctb_clf_CatBoostClassifier_2',\n 'd3_ctb_CatBoostClassifier',\n 'feat_gen_rt_flag',\n 'feat_gen_contains_profanity_words_flag',\n 'feat_gen_sentiment_score_of_row',\n 'feat_gen_number_of_words_in_row',\n 'feat_gen_number_of_commas',\n 'feat_gen_number_of_excl_points',\n 'feat_gen_number_of_question_marks',\n 'feat_gen_number_of_full_stops',\n 'bert_clf_label']"
     },
     "execution_count": 48,
     "metadata": {},
     "output_type": "execute_result"
    }
   ],
   "source": [
    "l1.get_feature_names_out()"
   ]
  },
  {
   "cell_type": "markdown",
   "source": [
    "#### Assemble 2nd and 3d layers"
   ],
   "metadata": {
    "collapsed": false,
    "pycharm": {
     "name": "#%% md\n"
    }
   }
  },
  {
   "cell_type": "code",
   "execution_count": 199,
   "metadata": {
    "pycharm": {
     "name": "#%%\n"
    }
   },
   "outputs": [],
   "source": [
    "meta_classifier = LogisticRegression()"
   ]
  },
  {
   "cell_type": "code",
   "execution_count": 200,
   "metadata": {
    "pycharm": {
     "name": "#%%\n"
    }
   },
   "outputs": [],
   "source": [
    "stacking_model = StackingClassifier(\n",
    "    estimators=[\n",
    "        ('logistic_regression',\n",
    "         LogisticRegression(C=0.001, fit_intercept=True, max_iter=100, penalty='l2', solver='newton-cg')),\n",
    "        ('random_forest',\n",
    "         RandomForestClassifier(max_depth=12, min_samples_leaf=4, min_samples_split=12, n_estimators=128)),\n",
    "        ('xgboost',\n",
    "         XGBClassifier(learning_rate=0.1, max_depth=8, min_child_weight=8, n_estimators=128, tree_method='gpu_hist'))\n",
    "    ],\n",
    "    final_estimator=meta_classifier,\n",
    "    cv=None  # Set your desired cross-validation strategy here\n",
    ")"
   ]
  },
  {
   "cell_type": "code",
   "execution_count": 201,
   "metadata": {
    "pycharm": {
     "name": "#%%\n"
    }
   },
   "outputs": [
    {
     "data": {
      "text/plain": "StackingClassifier(estimators=[('logistic_regression',\n                                LogisticRegression(C=0.001,\n                                                   solver='newton-cg')),\n                               ('random_forest',\n                                RandomForestClassifier(max_depth=12,\n                                                       min_samples_leaf=4,\n                                                       min_samples_split=12,\n                                                       n_estimators=128)),\n                               ('xgboost',\n                                XGBClassifier(base_score=None, booster=None,\n                                              callbacks=None,\n                                              colsample_bylevel=None,\n                                              colsample_bynode=None,\n                                              colsample_bytree=None,...\n                                              importance_type=None,\n                                              interaction_constraints=None,\n                                              learning_rate=0.1, max_bin=None,\n                                              max_cat_threshold=None,\n                                              max_cat_to_onehot=None,\n                                              max_delta_step=None, max_depth=8,\n                                              max_leaves=None,\n                                              min_child_weight=8, missing=nan,\n                                              monotone_constraints=None,\n                                              n_estimators=128, n_jobs=None,\n                                              num_parallel_tree=None,\n                                              predictor=None, random_state=None, ...))],\n                   final_estimator=LogisticRegression())",
      "text/html": "<style>#sk-container-id-31 {color: black;background-color: white;}#sk-container-id-31 pre{padding: 0;}#sk-container-id-31 div.sk-toggleable {background-color: white;}#sk-container-id-31 label.sk-toggleable__label {cursor: pointer;display: block;width: 100%;margin-bottom: 0;padding: 0.3em;box-sizing: border-box;text-align: center;}#sk-container-id-31 label.sk-toggleable__label-arrow:before {content: \"▸\";float: left;margin-right: 0.25em;color: #696969;}#sk-container-id-31 label.sk-toggleable__label-arrow:hover:before {color: black;}#sk-container-id-31 div.sk-estimator:hover label.sk-toggleable__label-arrow:before {color: black;}#sk-container-id-31 div.sk-toggleable__content {max-height: 0;max-width: 0;overflow: hidden;text-align: left;background-color: #f0f8ff;}#sk-container-id-31 div.sk-toggleable__content pre {margin: 0.2em;color: black;border-radius: 0.25em;background-color: #f0f8ff;}#sk-container-id-31 input.sk-toggleable__control:checked~div.sk-toggleable__content {max-height: 200px;max-width: 100%;overflow: auto;}#sk-container-id-31 input.sk-toggleable__control:checked~label.sk-toggleable__label-arrow:before {content: \"▾\";}#sk-container-id-31 div.sk-estimator input.sk-toggleable__control:checked~label.sk-toggleable__label {background-color: #d4ebff;}#sk-container-id-31 div.sk-label input.sk-toggleable__control:checked~label.sk-toggleable__label {background-color: #d4ebff;}#sk-container-id-31 input.sk-hidden--visually {border: 0;clip: rect(1px 1px 1px 1px);clip: rect(1px, 1px, 1px, 1px);height: 1px;margin: -1px;overflow: hidden;padding: 0;position: absolute;width: 1px;}#sk-container-id-31 div.sk-estimator {font-family: monospace;background-color: #f0f8ff;border: 1px dotted black;border-radius: 0.25em;box-sizing: border-box;margin-bottom: 0.5em;}#sk-container-id-31 div.sk-estimator:hover {background-color: #d4ebff;}#sk-container-id-31 div.sk-parallel-item::after {content: \"\";width: 100%;border-bottom: 1px solid gray;flex-grow: 1;}#sk-container-id-31 div.sk-label:hover label.sk-toggleable__label {background-color: #d4ebff;}#sk-container-id-31 div.sk-serial::before {content: \"\";position: absolute;border-left: 1px solid gray;box-sizing: border-box;top: 0;bottom: 0;left: 50%;z-index: 0;}#sk-container-id-31 div.sk-serial {display: flex;flex-direction: column;align-items: center;background-color: white;padding-right: 0.2em;padding-left: 0.2em;position: relative;}#sk-container-id-31 div.sk-item {position: relative;z-index: 1;}#sk-container-id-31 div.sk-parallel {display: flex;align-items: stretch;justify-content: center;background-color: white;position: relative;}#sk-container-id-31 div.sk-item::before, #sk-container-id-31 div.sk-parallel-item::before {content: \"\";position: absolute;border-left: 1px solid gray;box-sizing: border-box;top: 0;bottom: 0;left: 50%;z-index: -1;}#sk-container-id-31 div.sk-parallel-item {display: flex;flex-direction: column;z-index: 1;position: relative;background-color: white;}#sk-container-id-31 div.sk-parallel-item:first-child::after {align-self: flex-end;width: 50%;}#sk-container-id-31 div.sk-parallel-item:last-child::after {align-self: flex-start;width: 50%;}#sk-container-id-31 div.sk-parallel-item:only-child::after {width: 0;}#sk-container-id-31 div.sk-dashed-wrapped {border: 1px dashed gray;margin: 0 0.4em 0.5em 0.4em;box-sizing: border-box;padding-bottom: 0.4em;background-color: white;}#sk-container-id-31 div.sk-label label {font-family: monospace;font-weight: bold;display: inline-block;line-height: 1.2em;}#sk-container-id-31 div.sk-label-container {text-align: center;}#sk-container-id-31 div.sk-container {/* jupyter's `normalize.less` sets `[hidden] { display: none; }` but bootstrap.min.css set `[hidden] { display: none !important; }` so we also need the `!important` here to be able to override the default hidden behavior on the sphinx rendered scikit-learn.org. See: https://github.com/scikit-learn/scikit-learn/issues/21755 */display: inline-block !important;position: relative;}#sk-container-id-31 div.sk-text-repr-fallback {display: none;}</style><div id=\"sk-container-id-31\" class=\"sk-top-container\"><div class=\"sk-text-repr-fallback\"><pre>StackingClassifier(estimators=[(&#x27;logistic_regression&#x27;,\n                                LogisticRegression(C=0.001,\n                                                   solver=&#x27;newton-cg&#x27;)),\n                               (&#x27;random_forest&#x27;,\n                                RandomForestClassifier(max_depth=12,\n                                                       min_samples_leaf=4,\n                                                       min_samples_split=12,\n                                                       n_estimators=128)),\n                               (&#x27;xgboost&#x27;,\n                                XGBClassifier(base_score=None, booster=None,\n                                              callbacks=None,\n                                              colsample_bylevel=None,\n                                              colsample_bynode=None,\n                                              colsample_bytree=None,...\n                                              importance_type=None,\n                                              interaction_constraints=None,\n                                              learning_rate=0.1, max_bin=None,\n                                              max_cat_threshold=None,\n                                              max_cat_to_onehot=None,\n                                              max_delta_step=None, max_depth=8,\n                                              max_leaves=None,\n                                              min_child_weight=8, missing=nan,\n                                              monotone_constraints=None,\n                                              n_estimators=128, n_jobs=None,\n                                              num_parallel_tree=None,\n                                              predictor=None, random_state=None, ...))],\n                   final_estimator=LogisticRegression())</pre><b>In a Jupyter environment, please rerun this cell to show the HTML representation or trust the notebook. <br />On GitHub, the HTML representation is unable to render, please try loading this page with nbviewer.org.</b></div><div class=\"sk-container\" hidden><div class=\"sk-item sk-dashed-wrapped\"><div class=\"sk-label-container\"><div class=\"sk-label sk-toggleable\"><input class=\"sk-toggleable__control sk-hidden--visually\" id=\"sk-estimator-id-359\" type=\"checkbox\" ><label for=\"sk-estimator-id-359\" class=\"sk-toggleable__label sk-toggleable__label-arrow\">StackingClassifier</label><div class=\"sk-toggleable__content\"><pre>StackingClassifier(estimators=[(&#x27;logistic_regression&#x27;,\n                                LogisticRegression(C=0.001,\n                                                   solver=&#x27;newton-cg&#x27;)),\n                               (&#x27;random_forest&#x27;,\n                                RandomForestClassifier(max_depth=12,\n                                                       min_samples_leaf=4,\n                                                       min_samples_split=12,\n                                                       n_estimators=128)),\n                               (&#x27;xgboost&#x27;,\n                                XGBClassifier(base_score=None, booster=None,\n                                              callbacks=None,\n                                              colsample_bylevel=None,\n                                              colsample_bynode=None,\n                                              colsample_bytree=None,...\n                                              importance_type=None,\n                                              interaction_constraints=None,\n                                              learning_rate=0.1, max_bin=None,\n                                              max_cat_threshold=None,\n                                              max_cat_to_onehot=None,\n                                              max_delta_step=None, max_depth=8,\n                                              max_leaves=None,\n                                              min_child_weight=8, missing=nan,\n                                              monotone_constraints=None,\n                                              n_estimators=128, n_jobs=None,\n                                              num_parallel_tree=None,\n                                              predictor=None, random_state=None, ...))],\n                   final_estimator=LogisticRegression())</pre></div></div></div><div class=\"sk-serial\"><div class=\"sk-item\"><div class=\"sk-parallel\"><div class=\"sk-parallel-item\"><div class=\"sk-item\"><div class=\"sk-label-container\"><div class=\"sk-label sk-toggleable\"><label>logistic_regression</label></div></div><div class=\"sk-serial\"><div class=\"sk-item\"><div class=\"sk-estimator sk-toggleable\"><input class=\"sk-toggleable__control sk-hidden--visually\" id=\"sk-estimator-id-360\" type=\"checkbox\" ><label for=\"sk-estimator-id-360\" class=\"sk-toggleable__label sk-toggleable__label-arrow\">LogisticRegression</label><div class=\"sk-toggleable__content\"><pre>LogisticRegression(C=0.001, solver=&#x27;newton-cg&#x27;)</pre></div></div></div></div></div></div><div class=\"sk-parallel-item\"><div class=\"sk-item\"><div class=\"sk-label-container\"><div class=\"sk-label sk-toggleable\"><label>random_forest</label></div></div><div class=\"sk-serial\"><div class=\"sk-item\"><div class=\"sk-estimator sk-toggleable\"><input class=\"sk-toggleable__control sk-hidden--visually\" id=\"sk-estimator-id-361\" type=\"checkbox\" ><label for=\"sk-estimator-id-361\" class=\"sk-toggleable__label sk-toggleable__label-arrow\">RandomForestClassifier</label><div class=\"sk-toggleable__content\"><pre>RandomForestClassifier(max_depth=12, min_samples_leaf=4, min_samples_split=12,\n                       n_estimators=128)</pre></div></div></div></div></div></div><div class=\"sk-parallel-item\"><div class=\"sk-item\"><div class=\"sk-label-container\"><div class=\"sk-label sk-toggleable\"><label>xgboost</label></div></div><div class=\"sk-serial\"><div class=\"sk-item\"><div class=\"sk-estimator sk-toggleable\"><input class=\"sk-toggleable__control sk-hidden--visually\" id=\"sk-estimator-id-362\" type=\"checkbox\" ><label for=\"sk-estimator-id-362\" class=\"sk-toggleable__label sk-toggleable__label-arrow\">XGBClassifier</label><div class=\"sk-toggleable__content\"><pre>XGBClassifier(base_score=None, booster=None, callbacks=None,\n              colsample_bylevel=None, colsample_bynode=None,\n              colsample_bytree=None, early_stopping_rounds=None,\n              enable_categorical=False, eval_metric=None, feature_types=None,\n              gamma=None, gpu_id=None, grow_policy=None, importance_type=None,\n              interaction_constraints=None, learning_rate=0.1, max_bin=None,\n              max_cat_threshold=None, max_cat_to_onehot=None,\n              max_delta_step=None, max_depth=8, max_leaves=None,\n              min_child_weight=8, missing=nan, monotone_constraints=None,\n              n_estimators=128, n_jobs=None, num_parallel_tree=None,\n              predictor=None, random_state=None, ...)</pre></div></div></div></div></div></div></div></div><div class=\"sk-item\"><div class=\"sk-parallel\"><div class=\"sk-parallel-item\"><div class=\"sk-item\"><div class=\"sk-label-container\"><div class=\"sk-label sk-toggleable\"><label>final_estimator</label></div></div><div class=\"sk-serial\"><div class=\"sk-item\"><div class=\"sk-estimator sk-toggleable\"><input class=\"sk-toggleable__control sk-hidden--visually\" id=\"sk-estimator-id-363\" type=\"checkbox\" ><label for=\"sk-estimator-id-363\" class=\"sk-toggleable__label sk-toggleable__label-arrow\">LogisticRegression</label><div class=\"sk-toggleable__content\"><pre>LogisticRegression()</pre></div></div></div></div></div></div></div></div></div></div></div></div>"
     },
     "execution_count": 201,
     "metadata": {},
     "output_type": "execute_result"
    }
   ],
   "source": [
    "stacking_model"
   ]
  },
  {
   "cell_type": "markdown",
   "metadata": {
    "pycharm": {
     "name": "#%% md\n"
    }
   },
   "source": [
    "#### Load data"
   ]
  },
  {
   "cell_type": "code",
   "execution_count": 22,
   "metadata": {
    "pycharm": {
     "name": "#%%\n"
    }
   },
   "outputs": [],
   "source": [
    "data = pd.read_csv('data/data5.csv', index_col=0)"
   ]
  },
  {
   "cell_type": "code",
   "execution_count": 23,
   "outputs": [
    {
     "data": {
      "text/plain": "                               Unnamed: 0  label  \\\nUnnamed: 0.1                                       \n0             1179055004553900032_twitter      0   \n1             1179063826874032128_twitter      0   \n2             1178793830532956161_twitter      0   \n3             1179088797964763136_twitter      1   \n4             1179085312976445440_twitter      1   \n\n                                                         tokens  \\\nUnnamed: 0.1                                                      \n0             ['i', 'dont', 'think', 'im', 'getting', 'my', ...   \n1             ['we', 'cannot', 'continue', 'calling', 'ourse...   \n2                 ['nawt', 'yall', 'niggers', 'ignoring', 'me']   \n3             ['<user>', 'i', 'am', 'bit', 'confused', 'coz'...   \n4             ['this', 'bitch', 'in', 'whataburger', 'eating...   \n\n                                                           text  \nUnnamed: 0.1                                                     \n0             i dont think im getting my baby them white 9 h...  \n1             we cannot continue calling ourselves feminists...  \n2                                 nawt yall niggers ignoring me  \n3             <user> i am bit confused coz chinese ppl can n...  \n4             this bitch in whataburger eating a burger with...  ",
      "text/html": "<div>\n<style scoped>\n    .dataframe tbody tr th:only-of-type {\n        vertical-align: middle;\n    }\n\n    .dataframe tbody tr th {\n        vertical-align: top;\n    }\n\n    .dataframe thead th {\n        text-align: right;\n    }\n</style>\n<table border=\"1\" class=\"dataframe\">\n  <thead>\n    <tr style=\"text-align: right;\">\n      <th></th>\n      <th>Unnamed: 0</th>\n      <th>label</th>\n      <th>tokens</th>\n      <th>text</th>\n    </tr>\n    <tr>\n      <th>Unnamed: 0.1</th>\n      <th></th>\n      <th></th>\n      <th></th>\n      <th></th>\n    </tr>\n  </thead>\n  <tbody>\n    <tr>\n      <th>0</th>\n      <td>1179055004553900032_twitter</td>\n      <td>0</td>\n      <td>['i', 'dont', 'think', 'im', 'getting', 'my', ...</td>\n      <td>i dont think im getting my baby them white 9 h...</td>\n    </tr>\n    <tr>\n      <th>1</th>\n      <td>1179063826874032128_twitter</td>\n      <td>0</td>\n      <td>['we', 'cannot', 'continue', 'calling', 'ourse...</td>\n      <td>we cannot continue calling ourselves feminists...</td>\n    </tr>\n    <tr>\n      <th>2</th>\n      <td>1178793830532956161_twitter</td>\n      <td>0</td>\n      <td>['nawt', 'yall', 'niggers', 'ignoring', 'me']</td>\n      <td>nawt yall niggers ignoring me</td>\n    </tr>\n    <tr>\n      <th>3</th>\n      <td>1179088797964763136_twitter</td>\n      <td>1</td>\n      <td>['&lt;user&gt;', 'i', 'am', 'bit', 'confused', 'coz'...</td>\n      <td>&lt;user&gt; i am bit confused coz chinese ppl can n...</td>\n    </tr>\n    <tr>\n      <th>4</th>\n      <td>1179085312976445440_twitter</td>\n      <td>1</td>\n      <td>['this', 'bitch', 'in', 'whataburger', 'eating...</td>\n      <td>this bitch in whataburger eating a burger with...</td>\n    </tr>\n  </tbody>\n</table>\n</div>"
     },
     "execution_count": 23,
     "metadata": {},
     "output_type": "execute_result"
    }
   ],
   "source": [
    "data.head()"
   ],
   "metadata": {
    "collapsed": false,
    "pycharm": {
     "name": "#%%\n"
    }
   }
  },
  {
   "cell_type": "code",
   "execution_count": 26,
   "metadata": {
    "pycharm": {
     "name": "#%%\n"
    }
   },
   "outputs": [],
   "source": [
    "target = 'label'"
   ]
  },
  {
   "cell_type": "code",
   "execution_count": 27,
   "metadata": {
    "pycharm": {
     "name": "#%%\n"
    }
   },
   "outputs": [],
   "source": [
    "data.columns = ['id', 'label', 'tokens', 'tweet']"
   ]
  },
  {
   "cell_type": "code",
   "execution_count": 32,
   "metadata": {
    "pycharm": {
     "name": "#%%\n"
    }
   },
   "outputs": [],
   "source": [
    "data_train, data_test, y_train, y_test = train_test_split(data[['tweet']], data[target], test_size=0.2, random_state=42,\n",
    "                                                          stratify=data[target])"
   ]
  },
  {
   "cell_type": "code",
   "execution_count": 35,
   "outputs": [
    {
     "data": {
      "text/plain": "(16118, 1)"
     },
     "execution_count": 35,
     "metadata": {},
     "output_type": "execute_result"
    }
   ],
   "source": [
    "data_train.shape"
   ],
   "metadata": {
    "collapsed": false,
    "pycharm": {
     "name": "#%%\n"
    }
   }
  },
  {
   "cell_type": "code",
   "execution_count": null,
   "metadata": {
    "pycharm": {
     "name": "#%%\n",
     "is_executing": true
    }
   },
   "outputs": [],
   "source": [
    "X_train = l1.transform(data_train)"
   ]
  },
  {
   "cell_type": "code",
   "execution_count": 40,
   "metadata": {
    "pycharm": {
     "name": "#%%\n"
    }
   },
   "outputs": [],
   "source": [
    "X_test = l1.transform(data_test)"
   ]
  },
  {
   "cell_type": "code",
   "execution_count": 86,
   "outputs": [
    {
     "data": {
      "text/plain": "(16118, 20)"
     },
     "execution_count": 86,
     "metadata": {},
     "output_type": "execute_result"
    }
   ],
   "source": [
    "X_train.shape"
   ],
   "metadata": {
    "collapsed": false,
    "pycharm": {
     "name": "#%%\n"
    }
   }
  },
  {
   "cell_type": "code",
   "execution_count": 87,
   "outputs": [
    {
     "data": {
      "text/plain": "(16118, 1)"
     },
     "execution_count": 87,
     "metadata": {},
     "output_type": "execute_result"
    }
   ],
   "source": [
    "y_train.shape"
   ],
   "metadata": {
    "collapsed": false,
    "pycharm": {
     "name": "#%%\n"
    }
   }
  },
  {
   "cell_type": "markdown",
   "source": [
    "##### Oversampling"
   ],
   "metadata": {
    "collapsed": false,
    "pycharm": {
     "name": "#%% md\n"
    }
   }
  },
  {
   "cell_type": "code",
   "execution_count": 89,
   "outputs": [],
   "source": [
    "oversampler = RandomOverSampler()\n",
    "X_train_sampled, y_train_sampled = oversampler.fit_resample(X_train.values, y_train)"
   ],
   "metadata": {
    "collapsed": false,
    "pycharm": {
     "name": "#%%\n"
    }
   }
  },
  {
   "cell_type": "code",
   "execution_count": 90,
   "outputs": [
    {
     "data": {
      "text/plain": "(19566, 20)"
     },
     "execution_count": 90,
     "metadata": {},
     "output_type": "execute_result"
    }
   ],
   "source": [
    "X_train_sampled.shape"
   ],
   "metadata": {
    "collapsed": false,
    "pycharm": {
     "name": "#%%\n"
    }
   }
  },
  {
   "cell_type": "code",
   "execution_count": 92,
   "outputs": [
    {
     "data": {
      "text/plain": "(16118, 1)"
     },
     "execution_count": 91,
     "metadata": {},
     "output_type": "execute_result"
    },
    {
     "data": {
      "text/plain": "(19566, 1)"
     },
     "execution_count": 92,
     "metadata": {},
     "output_type": "execute_result"
    }
   ],
   "source": [
    "y_train_sampled.shape"
   ],
   "metadata": {
    "collapsed": false,
    "pycharm": {
     "name": "#%%\n"
    }
   }
  },
  {
   "cell_type": "code",
   "execution_count": 57,
   "metadata": {
    "pycharm": {
     "name": "#%%\n"
    }
   },
   "outputs": [
    {
     "data": {
      "text/plain": "((16118, 20), (4030, 20))"
     },
     "execution_count": 57,
     "metadata": {},
     "output_type": "execute_result"
    }
   ],
   "source": [
    "X_train.shape, X_test.shape"
   ]
  },
  {
   "cell_type": "code",
   "execution_count": 43,
   "metadata": {
    "pycharm": {
     "name": "#%%\n"
    }
   },
   "outputs": [
    {
     "data": {
      "text/plain": "0    6522\n1    4987\n2    4609\nName: label, dtype: int64"
     },
     "execution_count": 43,
     "metadata": {},
     "output_type": "execute_result"
    }
   ],
   "source": [
    "y_train.value_counts()"
   ]
  },
  {
   "cell_type": "code",
   "execution_count": 44,
   "metadata": {
    "pycharm": {
     "name": "#%%\n"
    }
   },
   "outputs": [
    {
     "data": {
      "text/plain": "0    1631\n1    1247\n2    1152\nName: label, dtype: int64"
     },
     "execution_count": 44,
     "metadata": {},
     "output_type": "execute_result"
    }
   ],
   "source": [
    "y_test.value_counts()"
   ]
  },
  {
   "cell_type": "markdown",
   "source": [
    "#### Fit 2nd and 3d layers"
   ],
   "metadata": {
    "collapsed": false,
    "pycharm": {
     "name": "#%% md\n"
    }
   }
  },
  {
   "cell_type": "code",
   "execution_count": 202,
   "metadata": {
    "pycharm": {
     "name": "#%%\n"
    }
   },
   "outputs": [
    {
     "name": "stderr",
     "output_type": "stream",
     "text": [
      "C:\\Users\\dzmit\\anaconda3\\envs\\eurostars\\lib\\site-packages\\sklearn\\preprocessing\\_label.py:98: DataConversionWarning: A column-vector y was passed when a 1d array was expected. Please change the shape of y to (n_samples, ), for example using ravel().\n",
      "  y = column_or_1d(y, warn=True)\n",
      "C:\\Users\\dzmit\\anaconda3\\envs\\eurostars\\lib\\site-packages\\sklearn\\preprocessing\\_label.py:133: DataConversionWarning: A column-vector y was passed when a 1d array was expected. Please change the shape of y to (n_samples, ), for example using ravel().\n",
      "  y = column_or_1d(y, warn=True)\n"
     ]
    },
    {
     "data": {
      "text/plain": "StackingClassifier(estimators=[('logistic_regression',\n                                LogisticRegression(C=0.001,\n                                                   solver='newton-cg')),\n                               ('random_forest',\n                                RandomForestClassifier(max_depth=12,\n                                                       min_samples_leaf=4,\n                                                       min_samples_split=12,\n                                                       n_estimators=128)),\n                               ('xgboost',\n                                XGBClassifier(base_score=None, booster=None,\n                                              callbacks=None,\n                                              colsample_bylevel=None,\n                                              colsample_bynode=None,\n                                              colsample_bytree=None,...\n                                              importance_type=None,\n                                              interaction_constraints=None,\n                                              learning_rate=0.1, max_bin=None,\n                                              max_cat_threshold=None,\n                                              max_cat_to_onehot=None,\n                                              max_delta_step=None, max_depth=8,\n                                              max_leaves=None,\n                                              min_child_weight=8, missing=nan,\n                                              monotone_constraints=None,\n                                              n_estimators=128, n_jobs=None,\n                                              num_parallel_tree=None,\n                                              predictor=None, random_state=None, ...))],\n                   final_estimator=LogisticRegression())",
      "text/html": "<style>#sk-container-id-32 {color: black;background-color: white;}#sk-container-id-32 pre{padding: 0;}#sk-container-id-32 div.sk-toggleable {background-color: white;}#sk-container-id-32 label.sk-toggleable__label {cursor: pointer;display: block;width: 100%;margin-bottom: 0;padding: 0.3em;box-sizing: border-box;text-align: center;}#sk-container-id-32 label.sk-toggleable__label-arrow:before {content: \"▸\";float: left;margin-right: 0.25em;color: #696969;}#sk-container-id-32 label.sk-toggleable__label-arrow:hover:before {color: black;}#sk-container-id-32 div.sk-estimator:hover label.sk-toggleable__label-arrow:before {color: black;}#sk-container-id-32 div.sk-toggleable__content {max-height: 0;max-width: 0;overflow: hidden;text-align: left;background-color: #f0f8ff;}#sk-container-id-32 div.sk-toggleable__content pre {margin: 0.2em;color: black;border-radius: 0.25em;background-color: #f0f8ff;}#sk-container-id-32 input.sk-toggleable__control:checked~div.sk-toggleable__content {max-height: 200px;max-width: 100%;overflow: auto;}#sk-container-id-32 input.sk-toggleable__control:checked~label.sk-toggleable__label-arrow:before {content: \"▾\";}#sk-container-id-32 div.sk-estimator input.sk-toggleable__control:checked~label.sk-toggleable__label {background-color: #d4ebff;}#sk-container-id-32 div.sk-label input.sk-toggleable__control:checked~label.sk-toggleable__label {background-color: #d4ebff;}#sk-container-id-32 input.sk-hidden--visually {border: 0;clip: rect(1px 1px 1px 1px);clip: rect(1px, 1px, 1px, 1px);height: 1px;margin: -1px;overflow: hidden;padding: 0;position: absolute;width: 1px;}#sk-container-id-32 div.sk-estimator {font-family: monospace;background-color: #f0f8ff;border: 1px dotted black;border-radius: 0.25em;box-sizing: border-box;margin-bottom: 0.5em;}#sk-container-id-32 div.sk-estimator:hover {background-color: #d4ebff;}#sk-container-id-32 div.sk-parallel-item::after {content: \"\";width: 100%;border-bottom: 1px solid gray;flex-grow: 1;}#sk-container-id-32 div.sk-label:hover label.sk-toggleable__label {background-color: #d4ebff;}#sk-container-id-32 div.sk-serial::before {content: \"\";position: absolute;border-left: 1px solid gray;box-sizing: border-box;top: 0;bottom: 0;left: 50%;z-index: 0;}#sk-container-id-32 div.sk-serial {display: flex;flex-direction: column;align-items: center;background-color: white;padding-right: 0.2em;padding-left: 0.2em;position: relative;}#sk-container-id-32 div.sk-item {position: relative;z-index: 1;}#sk-container-id-32 div.sk-parallel {display: flex;align-items: stretch;justify-content: center;background-color: white;position: relative;}#sk-container-id-32 div.sk-item::before, #sk-container-id-32 div.sk-parallel-item::before {content: \"\";position: absolute;border-left: 1px solid gray;box-sizing: border-box;top: 0;bottom: 0;left: 50%;z-index: -1;}#sk-container-id-32 div.sk-parallel-item {display: flex;flex-direction: column;z-index: 1;position: relative;background-color: white;}#sk-container-id-32 div.sk-parallel-item:first-child::after {align-self: flex-end;width: 50%;}#sk-container-id-32 div.sk-parallel-item:last-child::after {align-self: flex-start;width: 50%;}#sk-container-id-32 div.sk-parallel-item:only-child::after {width: 0;}#sk-container-id-32 div.sk-dashed-wrapped {border: 1px dashed gray;margin: 0 0.4em 0.5em 0.4em;box-sizing: border-box;padding-bottom: 0.4em;background-color: white;}#sk-container-id-32 div.sk-label label {font-family: monospace;font-weight: bold;display: inline-block;line-height: 1.2em;}#sk-container-id-32 div.sk-label-container {text-align: center;}#sk-container-id-32 div.sk-container {/* jupyter's `normalize.less` sets `[hidden] { display: none; }` but bootstrap.min.css set `[hidden] { display: none !important; }` so we also need the `!important` here to be able to override the default hidden behavior on the sphinx rendered scikit-learn.org. See: https://github.com/scikit-learn/scikit-learn/issues/21755 */display: inline-block !important;position: relative;}#sk-container-id-32 div.sk-text-repr-fallback {display: none;}</style><div id=\"sk-container-id-32\" class=\"sk-top-container\"><div class=\"sk-text-repr-fallback\"><pre>StackingClassifier(estimators=[(&#x27;logistic_regression&#x27;,\n                                LogisticRegression(C=0.001,\n                                                   solver=&#x27;newton-cg&#x27;)),\n                               (&#x27;random_forest&#x27;,\n                                RandomForestClassifier(max_depth=12,\n                                                       min_samples_leaf=4,\n                                                       min_samples_split=12,\n                                                       n_estimators=128)),\n                               (&#x27;xgboost&#x27;,\n                                XGBClassifier(base_score=None, booster=None,\n                                              callbacks=None,\n                                              colsample_bylevel=None,\n                                              colsample_bynode=None,\n                                              colsample_bytree=None,...\n                                              importance_type=None,\n                                              interaction_constraints=None,\n                                              learning_rate=0.1, max_bin=None,\n                                              max_cat_threshold=None,\n                                              max_cat_to_onehot=None,\n                                              max_delta_step=None, max_depth=8,\n                                              max_leaves=None,\n                                              min_child_weight=8, missing=nan,\n                                              monotone_constraints=None,\n                                              n_estimators=128, n_jobs=None,\n                                              num_parallel_tree=None,\n                                              predictor=None, random_state=None, ...))],\n                   final_estimator=LogisticRegression())</pre><b>In a Jupyter environment, please rerun this cell to show the HTML representation or trust the notebook. <br />On GitHub, the HTML representation is unable to render, please try loading this page with nbviewer.org.</b></div><div class=\"sk-container\" hidden><div class=\"sk-item sk-dashed-wrapped\"><div class=\"sk-label-container\"><div class=\"sk-label sk-toggleable\"><input class=\"sk-toggleable__control sk-hidden--visually\" id=\"sk-estimator-id-364\" type=\"checkbox\" ><label for=\"sk-estimator-id-364\" class=\"sk-toggleable__label sk-toggleable__label-arrow\">StackingClassifier</label><div class=\"sk-toggleable__content\"><pre>StackingClassifier(estimators=[(&#x27;logistic_regression&#x27;,\n                                LogisticRegression(C=0.001,\n                                                   solver=&#x27;newton-cg&#x27;)),\n                               (&#x27;random_forest&#x27;,\n                                RandomForestClassifier(max_depth=12,\n                                                       min_samples_leaf=4,\n                                                       min_samples_split=12,\n                                                       n_estimators=128)),\n                               (&#x27;xgboost&#x27;,\n                                XGBClassifier(base_score=None, booster=None,\n                                              callbacks=None,\n                                              colsample_bylevel=None,\n                                              colsample_bynode=None,\n                                              colsample_bytree=None,...\n                                              importance_type=None,\n                                              interaction_constraints=None,\n                                              learning_rate=0.1, max_bin=None,\n                                              max_cat_threshold=None,\n                                              max_cat_to_onehot=None,\n                                              max_delta_step=None, max_depth=8,\n                                              max_leaves=None,\n                                              min_child_weight=8, missing=nan,\n                                              monotone_constraints=None,\n                                              n_estimators=128, n_jobs=None,\n                                              num_parallel_tree=None,\n                                              predictor=None, random_state=None, ...))],\n                   final_estimator=LogisticRegression())</pre></div></div></div><div class=\"sk-serial\"><div class=\"sk-item\"><div class=\"sk-parallel\"><div class=\"sk-parallel-item\"><div class=\"sk-item\"><div class=\"sk-label-container\"><div class=\"sk-label sk-toggleable\"><label>logistic_regression</label></div></div><div class=\"sk-serial\"><div class=\"sk-item\"><div class=\"sk-estimator sk-toggleable\"><input class=\"sk-toggleable__control sk-hidden--visually\" id=\"sk-estimator-id-365\" type=\"checkbox\" ><label for=\"sk-estimator-id-365\" class=\"sk-toggleable__label sk-toggleable__label-arrow\">LogisticRegression</label><div class=\"sk-toggleable__content\"><pre>LogisticRegression(C=0.001, solver=&#x27;newton-cg&#x27;)</pre></div></div></div></div></div></div><div class=\"sk-parallel-item\"><div class=\"sk-item\"><div class=\"sk-label-container\"><div class=\"sk-label sk-toggleable\"><label>random_forest</label></div></div><div class=\"sk-serial\"><div class=\"sk-item\"><div class=\"sk-estimator sk-toggleable\"><input class=\"sk-toggleable__control sk-hidden--visually\" id=\"sk-estimator-id-366\" type=\"checkbox\" ><label for=\"sk-estimator-id-366\" class=\"sk-toggleable__label sk-toggleable__label-arrow\">RandomForestClassifier</label><div class=\"sk-toggleable__content\"><pre>RandomForestClassifier(max_depth=12, min_samples_leaf=4, min_samples_split=12,\n                       n_estimators=128)</pre></div></div></div></div></div></div><div class=\"sk-parallel-item\"><div class=\"sk-item\"><div class=\"sk-label-container\"><div class=\"sk-label sk-toggleable\"><label>xgboost</label></div></div><div class=\"sk-serial\"><div class=\"sk-item\"><div class=\"sk-estimator sk-toggleable\"><input class=\"sk-toggleable__control sk-hidden--visually\" id=\"sk-estimator-id-367\" type=\"checkbox\" ><label for=\"sk-estimator-id-367\" class=\"sk-toggleable__label sk-toggleable__label-arrow\">XGBClassifier</label><div class=\"sk-toggleable__content\"><pre>XGBClassifier(base_score=None, booster=None, callbacks=None,\n              colsample_bylevel=None, colsample_bynode=None,\n              colsample_bytree=None, early_stopping_rounds=None,\n              enable_categorical=False, eval_metric=None, feature_types=None,\n              gamma=None, gpu_id=None, grow_policy=None, importance_type=None,\n              interaction_constraints=None, learning_rate=0.1, max_bin=None,\n              max_cat_threshold=None, max_cat_to_onehot=None,\n              max_delta_step=None, max_depth=8, max_leaves=None,\n              min_child_weight=8, missing=nan, monotone_constraints=None,\n              n_estimators=128, n_jobs=None, num_parallel_tree=None,\n              predictor=None, random_state=None, ...)</pre></div></div></div></div></div></div></div></div><div class=\"sk-item\"><div class=\"sk-parallel\"><div class=\"sk-parallel-item\"><div class=\"sk-item\"><div class=\"sk-label-container\"><div class=\"sk-label sk-toggleable\"><label>final_estimator</label></div></div><div class=\"sk-serial\"><div class=\"sk-item\"><div class=\"sk-estimator sk-toggleable\"><input class=\"sk-toggleable__control sk-hidden--visually\" id=\"sk-estimator-id-368\" type=\"checkbox\" ><label for=\"sk-estimator-id-368\" class=\"sk-toggleable__label sk-toggleable__label-arrow\">LogisticRegression</label><div class=\"sk-toggleable__content\"><pre>LogisticRegression()</pre></div></div></div></div></div></div></div></div></div></div></div></div>"
     },
     "execution_count": 202,
     "metadata": {},
     "output_type": "execute_result"
    }
   ],
   "source": [
    "stacking_model.fit(X_train_sampled, y_train_sampled)"
   ]
  },
  {
   "cell_type": "code",
   "execution_count": 203,
   "metadata": {
    "pycharm": {
     "name": "#%%\n"
    }
   },
   "outputs": [
    {
     "name": "stdout",
     "output_type": "stream",
     "text": [
      "              precision    recall  f1-score   support\n",
      "\n",
      "           0       0.66      0.59      0.63      1828\n",
      "           1       0.60      0.63      0.61      1190\n",
      "           2       0.40      0.45      0.42      1012\n",
      "\n",
      "    accuracy                           0.57      4030\n",
      "   macro avg       0.55      0.56      0.55      4030\n",
      "weighted avg       0.58      0.57      0.57      4030\n",
      "\n",
      "[[1082  293  453]\n",
      " [ 202  747  241]\n",
      " [ 347  207  458]]\n"
     ]
    },
    {
     "name": "stderr",
     "output_type": "stream",
     "text": [
      "C:\\Users\\dzmit\\anaconda3\\envs\\eurostars\\lib\\site-packages\\sklearn\\utils\\validation.py:1858: FutureWarning: Feature names only support names that are all strings. Got feature names with dtypes: ['int', 'str']. An error will be raised in 1.2.\n",
      "  warnings.warn(\n",
      "C:\\Users\\dzmit\\anaconda3\\envs\\eurostars\\lib\\site-packages\\sklearn\\utils\\validation.py:1858: FutureWarning: Feature names only support names that are all strings. Got feature names with dtypes: ['int', 'str']. An error will be raised in 1.2.\n",
      "  warnings.warn(\n"
     ]
    }
   ],
   "source": [
    "# test\n",
    "prediction = stacking_model.predict(X_test)\n",
    "\n",
    "with warnings.catch_warnings():\n",
    "    warnings.simplefilter(\"ignore\")\n",
    "    print(classification_report(prediction, y_test))\n",
    "    print(confusion_matrix(prediction, y_test))"
   ]
  },
  {
   "cell_type": "code",
   "execution_count": 204,
   "metadata": {
    "pycharm": {
     "name": "#%%\n"
    }
   },
   "outputs": [
    {
     "name": "stderr",
     "output_type": "stream",
     "text": [
      "C:\\Users\\dzmit\\anaconda3\\envs\\eurostars\\lib\\site-packages\\sklearn\\utils\\validation.py:1858: FutureWarning: Feature names only support names that are all strings. Got feature names with dtypes: ['int', 'str']. An error will be raised in 1.2.\n",
      "  warnings.warn(\n",
      "C:\\Users\\dzmit\\anaconda3\\envs\\eurostars\\lib\\site-packages\\sklearn\\utils\\validation.py:1858: FutureWarning: Feature names only support names that are all strings. Got feature names with dtypes: ['int', 'str']. An error will be raised in 1.2.\n",
      "  warnings.warn(\n"
     ]
    },
    {
     "name": "stdout",
     "output_type": "stream",
     "text": [
      "              precision    recall  f1-score   support\n",
      "\n",
      "           0       0.88      0.81      0.84      7071\n",
      "           1       0.82      0.86      0.84      4753\n",
      "           2       0.78      0.84      0.81      4294\n",
      "\n",
      "    accuracy                           0.83     16118\n",
      "   macro avg       0.83      0.84      0.83     16118\n",
      "weighted avg       0.84      0.83      0.83     16118\n",
      "\n",
      "[[5737  613  721]\n",
      " [ 395 4083  275]\n",
      " [ 390  291 3613]]\n"
     ]
    }
   ],
   "source": [
    "# train\n",
    "train_prediction = stacking_model.predict(X_train)\n",
    "with warnings.catch_warnings():\n",
    "    warnings.simplefilter(\"ignore\")\n",
    "    print(classification_report(train_prediction, y_train))\n",
    "    print(confusion_matrix(train_prediction, y_train))"
   ]
  },
  {
   "cell_type": "code",
   "execution_count": 205,
   "outputs": [
    {
     "name": "stdout",
     "output_type": "stream",
     "text": [
      "              precision    recall  f1-score   support\n",
      "\n",
      "           0       0.88      0.79      0.83      7272\n",
      "           1       0.85      0.89      0.87      6233\n",
      "           2       0.82      0.88      0.85      6061\n",
      "\n",
      "    accuracy                           0.85     19566\n",
      "   macro avg       0.85      0.85      0.85     19566\n",
      "weighted avg       0.85      0.85      0.85     19566\n",
      "\n",
      "[[5737  687  848]\n",
      " [ 395 5518  320]\n",
      " [ 390  317 5354]]\n"
     ]
    }
   ],
   "source": [
    "# train sampled\n",
    "train_prediction = stacking_model.predict(X_train_sampled)\n",
    "with warnings.catch_warnings():\n",
    "    warnings.simplefilter(\"ignore\")\n",
    "    print(classification_report(train_prediction, y_train_sampled))\n",
    "    print(confusion_matrix(train_prediction, y_train_sampled))"
   ],
   "metadata": {
    "collapsed": false,
    "pycharm": {
     "name": "#%%\n"
    }
   }
  },
  {
   "cell_type": "code",
   "execution_count": 206,
   "metadata": {
    "pycharm": {
     "name": "#%%\n"
    }
   },
   "outputs": [
    {
     "data": {
      "text/plain": "    target                                 feature    weight\n0        0                                  <BIAS>  0.452943\n1        0                          bert_clf_label  0.187097\n2        0               d3_ctb_CatBoostClassifier  0.085836\n3        0         feat_gen_sentiment_score_of_row  0.076939\n4        0         d2_ctb_clf_CatBoostClassifier_2  0.057535\n5        0          d2_lr_clf_LogisticRegression_1  0.039857\n6        0           d1_rfc_RandomForestClassifier  0.027340\n7        0         d2_ctb_clf_CatBoostClassifier_1  0.002276\n8        0       feat_gen_number_of_question_marks -0.000374\n9        0         feat_gen_number_of_words_in_row -0.001210\n10       0                        feat_gen_rt_flag -0.004007\n11       0           feat_gen_number_of_full_stops -0.004007\n12       0          d2_lr_clf_LogisticRegression_0 -0.004917\n13       0          d2_lr_clf_LogisticRegression_2 -0.034940\n14       0                d1_lr_LogisticRegression -0.045374\n15       0         d2_ctb_clf_CatBoostClassifier_0 -0.059811\n16       0               d2_lgbm_reg_LGBMRegressor -0.159812\n17       0  feat_gen_contains_profanity_words_flag -0.244829\n18       0            d2_ctb_reg_CatBoostRegressor -0.275817\n19       1            d2_ctb_reg_CatBoostRegressor  0.391454\n20       1  feat_gen_contains_profanity_words_flag  0.329410\n21       1         d2_ctb_clf_CatBoostClassifier_0  0.132858\n22       1          d2_lr_clf_LogisticRegression_0  0.064074\n23       1                d1_lr_LogisticRegression  0.051110\n24       1          d2_lr_clf_LogisticRegression_2  0.020662\n25       1         feat_gen_number_of_words_in_row  0.005145\n26       1       feat_gen_number_of_question_marks -0.000360\n27       1                        feat_gen_rt_flag -0.007554\n28       1           feat_gen_number_of_full_stops -0.007554\n29       1         d2_ctb_clf_CatBoostClassifier_2 -0.048735\n30       1               d2_lgbm_reg_LGBMRegressor -0.074960\n31       1         feat_gen_sentiment_score_of_row -0.079071\n32       1         d2_ctb_clf_CatBoostClassifier_1 -0.084122\n33       1          d2_lr_clf_LogisticRegression_1 -0.084736\n34       1           d1_rfc_RandomForestClassifier -0.104100\n35       1               d3_ctb_CatBoostClassifier -0.114085\n36       1                          bert_clf_label -0.148755\n37       1                                  <BIAS> -0.284587\n38       2               d2_lgbm_reg_LGBMRegressor  0.234772\n39       2         d2_ctb_clf_CatBoostClassifier_1  0.081846\n40       2           d1_rfc_RandomForestClassifier  0.076760\n41       2          d2_lr_clf_LogisticRegression_1  0.044879\n42       2               d3_ctb_CatBoostClassifier  0.028250\n43       2          d2_lr_clf_LogisticRegression_2  0.014278\n44       2           feat_gen_number_of_full_stops  0.011561\n45       2                        feat_gen_rt_flag  0.011561\n46       2         feat_gen_sentiment_score_of_row  0.002133\n47       2       feat_gen_number_of_question_marks  0.000735\n48       2         feat_gen_number_of_words_in_row -0.003934\n49       2                d1_lr_LogisticRegression -0.005736\n50       2         d2_ctb_clf_CatBoostClassifier_2 -0.008800\n51       2                          bert_clf_label -0.038342\n52       2          d2_lr_clf_LogisticRegression_0 -0.059157\n53       2         d2_ctb_clf_CatBoostClassifier_0 -0.073047\n54       2  feat_gen_contains_profanity_words_flag -0.084581\n55       2            d2_ctb_reg_CatBoostRegressor -0.115637\n56       2                                  <BIAS> -0.168356",
      "text/html": "<div>\n<style scoped>\n    .dataframe tbody tr th:only-of-type {\n        vertical-align: middle;\n    }\n\n    .dataframe tbody tr th {\n        vertical-align: top;\n    }\n\n    .dataframe thead th {\n        text-align: right;\n    }\n</style>\n<table border=\"1\" class=\"dataframe\">\n  <thead>\n    <tr style=\"text-align: right;\">\n      <th></th>\n      <th>target</th>\n      <th>feature</th>\n      <th>weight</th>\n    </tr>\n  </thead>\n  <tbody>\n    <tr>\n      <th>0</th>\n      <td>0</td>\n      <td>&lt;BIAS&gt;</td>\n      <td>0.452943</td>\n    </tr>\n    <tr>\n      <th>1</th>\n      <td>0</td>\n      <td>bert_clf_label</td>\n      <td>0.187097</td>\n    </tr>\n    <tr>\n      <th>2</th>\n      <td>0</td>\n      <td>d3_ctb_CatBoostClassifier</td>\n      <td>0.085836</td>\n    </tr>\n    <tr>\n      <th>3</th>\n      <td>0</td>\n      <td>feat_gen_sentiment_score_of_row</td>\n      <td>0.076939</td>\n    </tr>\n    <tr>\n      <th>4</th>\n      <td>0</td>\n      <td>d2_ctb_clf_CatBoostClassifier_2</td>\n      <td>0.057535</td>\n    </tr>\n    <tr>\n      <th>5</th>\n      <td>0</td>\n      <td>d2_lr_clf_LogisticRegression_1</td>\n      <td>0.039857</td>\n    </tr>\n    <tr>\n      <th>6</th>\n      <td>0</td>\n      <td>d1_rfc_RandomForestClassifier</td>\n      <td>0.027340</td>\n    </tr>\n    <tr>\n      <th>7</th>\n      <td>0</td>\n      <td>d2_ctb_clf_CatBoostClassifier_1</td>\n      <td>0.002276</td>\n    </tr>\n    <tr>\n      <th>8</th>\n      <td>0</td>\n      <td>feat_gen_number_of_question_marks</td>\n      <td>-0.000374</td>\n    </tr>\n    <tr>\n      <th>9</th>\n      <td>0</td>\n      <td>feat_gen_number_of_words_in_row</td>\n      <td>-0.001210</td>\n    </tr>\n    <tr>\n      <th>10</th>\n      <td>0</td>\n      <td>feat_gen_rt_flag</td>\n      <td>-0.004007</td>\n    </tr>\n    <tr>\n      <th>11</th>\n      <td>0</td>\n      <td>feat_gen_number_of_full_stops</td>\n      <td>-0.004007</td>\n    </tr>\n    <tr>\n      <th>12</th>\n      <td>0</td>\n      <td>d2_lr_clf_LogisticRegression_0</td>\n      <td>-0.004917</td>\n    </tr>\n    <tr>\n      <th>13</th>\n      <td>0</td>\n      <td>d2_lr_clf_LogisticRegression_2</td>\n      <td>-0.034940</td>\n    </tr>\n    <tr>\n      <th>14</th>\n      <td>0</td>\n      <td>d1_lr_LogisticRegression</td>\n      <td>-0.045374</td>\n    </tr>\n    <tr>\n      <th>15</th>\n      <td>0</td>\n      <td>d2_ctb_clf_CatBoostClassifier_0</td>\n      <td>-0.059811</td>\n    </tr>\n    <tr>\n      <th>16</th>\n      <td>0</td>\n      <td>d2_lgbm_reg_LGBMRegressor</td>\n      <td>-0.159812</td>\n    </tr>\n    <tr>\n      <th>17</th>\n      <td>0</td>\n      <td>feat_gen_contains_profanity_words_flag</td>\n      <td>-0.244829</td>\n    </tr>\n    <tr>\n      <th>18</th>\n      <td>0</td>\n      <td>d2_ctb_reg_CatBoostRegressor</td>\n      <td>-0.275817</td>\n    </tr>\n    <tr>\n      <th>19</th>\n      <td>1</td>\n      <td>d2_ctb_reg_CatBoostRegressor</td>\n      <td>0.391454</td>\n    </tr>\n    <tr>\n      <th>20</th>\n      <td>1</td>\n      <td>feat_gen_contains_profanity_words_flag</td>\n      <td>0.329410</td>\n    </tr>\n    <tr>\n      <th>21</th>\n      <td>1</td>\n      <td>d2_ctb_clf_CatBoostClassifier_0</td>\n      <td>0.132858</td>\n    </tr>\n    <tr>\n      <th>22</th>\n      <td>1</td>\n      <td>d2_lr_clf_LogisticRegression_0</td>\n      <td>0.064074</td>\n    </tr>\n    <tr>\n      <th>23</th>\n      <td>1</td>\n      <td>d1_lr_LogisticRegression</td>\n      <td>0.051110</td>\n    </tr>\n    <tr>\n      <th>24</th>\n      <td>1</td>\n      <td>d2_lr_clf_LogisticRegression_2</td>\n      <td>0.020662</td>\n    </tr>\n    <tr>\n      <th>25</th>\n      <td>1</td>\n      <td>feat_gen_number_of_words_in_row</td>\n      <td>0.005145</td>\n    </tr>\n    <tr>\n      <th>26</th>\n      <td>1</td>\n      <td>feat_gen_number_of_question_marks</td>\n      <td>-0.000360</td>\n    </tr>\n    <tr>\n      <th>27</th>\n      <td>1</td>\n      <td>feat_gen_rt_flag</td>\n      <td>-0.007554</td>\n    </tr>\n    <tr>\n      <th>28</th>\n      <td>1</td>\n      <td>feat_gen_number_of_full_stops</td>\n      <td>-0.007554</td>\n    </tr>\n    <tr>\n      <th>29</th>\n      <td>1</td>\n      <td>d2_ctb_clf_CatBoostClassifier_2</td>\n      <td>-0.048735</td>\n    </tr>\n    <tr>\n      <th>30</th>\n      <td>1</td>\n      <td>d2_lgbm_reg_LGBMRegressor</td>\n      <td>-0.074960</td>\n    </tr>\n    <tr>\n      <th>31</th>\n      <td>1</td>\n      <td>feat_gen_sentiment_score_of_row</td>\n      <td>-0.079071</td>\n    </tr>\n    <tr>\n      <th>32</th>\n      <td>1</td>\n      <td>d2_ctb_clf_CatBoostClassifier_1</td>\n      <td>-0.084122</td>\n    </tr>\n    <tr>\n      <th>33</th>\n      <td>1</td>\n      <td>d2_lr_clf_LogisticRegression_1</td>\n      <td>-0.084736</td>\n    </tr>\n    <tr>\n      <th>34</th>\n      <td>1</td>\n      <td>d1_rfc_RandomForestClassifier</td>\n      <td>-0.104100</td>\n    </tr>\n    <tr>\n      <th>35</th>\n      <td>1</td>\n      <td>d3_ctb_CatBoostClassifier</td>\n      <td>-0.114085</td>\n    </tr>\n    <tr>\n      <th>36</th>\n      <td>1</td>\n      <td>bert_clf_label</td>\n      <td>-0.148755</td>\n    </tr>\n    <tr>\n      <th>37</th>\n      <td>1</td>\n      <td>&lt;BIAS&gt;</td>\n      <td>-0.284587</td>\n    </tr>\n    <tr>\n      <th>38</th>\n      <td>2</td>\n      <td>d2_lgbm_reg_LGBMRegressor</td>\n      <td>0.234772</td>\n    </tr>\n    <tr>\n      <th>39</th>\n      <td>2</td>\n      <td>d2_ctb_clf_CatBoostClassifier_1</td>\n      <td>0.081846</td>\n    </tr>\n    <tr>\n      <th>40</th>\n      <td>2</td>\n      <td>d1_rfc_RandomForestClassifier</td>\n      <td>0.076760</td>\n    </tr>\n    <tr>\n      <th>41</th>\n      <td>2</td>\n      <td>d2_lr_clf_LogisticRegression_1</td>\n      <td>0.044879</td>\n    </tr>\n    <tr>\n      <th>42</th>\n      <td>2</td>\n      <td>d3_ctb_CatBoostClassifier</td>\n      <td>0.028250</td>\n    </tr>\n    <tr>\n      <th>43</th>\n      <td>2</td>\n      <td>d2_lr_clf_LogisticRegression_2</td>\n      <td>0.014278</td>\n    </tr>\n    <tr>\n      <th>44</th>\n      <td>2</td>\n      <td>feat_gen_number_of_full_stops</td>\n      <td>0.011561</td>\n    </tr>\n    <tr>\n      <th>45</th>\n      <td>2</td>\n      <td>feat_gen_rt_flag</td>\n      <td>0.011561</td>\n    </tr>\n    <tr>\n      <th>46</th>\n      <td>2</td>\n      <td>feat_gen_sentiment_score_of_row</td>\n      <td>0.002133</td>\n    </tr>\n    <tr>\n      <th>47</th>\n      <td>2</td>\n      <td>feat_gen_number_of_question_marks</td>\n      <td>0.000735</td>\n    </tr>\n    <tr>\n      <th>48</th>\n      <td>2</td>\n      <td>feat_gen_number_of_words_in_row</td>\n      <td>-0.003934</td>\n    </tr>\n    <tr>\n      <th>49</th>\n      <td>2</td>\n      <td>d1_lr_LogisticRegression</td>\n      <td>-0.005736</td>\n    </tr>\n    <tr>\n      <th>50</th>\n      <td>2</td>\n      <td>d2_ctb_clf_CatBoostClassifier_2</td>\n      <td>-0.008800</td>\n    </tr>\n    <tr>\n      <th>51</th>\n      <td>2</td>\n      <td>bert_clf_label</td>\n      <td>-0.038342</td>\n    </tr>\n    <tr>\n      <th>52</th>\n      <td>2</td>\n      <td>d2_lr_clf_LogisticRegression_0</td>\n      <td>-0.059157</td>\n    </tr>\n    <tr>\n      <th>53</th>\n      <td>2</td>\n      <td>d2_ctb_clf_CatBoostClassifier_0</td>\n      <td>-0.073047</td>\n    </tr>\n    <tr>\n      <th>54</th>\n      <td>2</td>\n      <td>feat_gen_contains_profanity_words_flag</td>\n      <td>-0.084581</td>\n    </tr>\n    <tr>\n      <th>55</th>\n      <td>2</td>\n      <td>d2_ctb_reg_CatBoostRegressor</td>\n      <td>-0.115637</td>\n    </tr>\n    <tr>\n      <th>56</th>\n      <td>2</td>\n      <td>&lt;BIAS&gt;</td>\n      <td>-0.168356</td>\n    </tr>\n  </tbody>\n</table>\n</div>"
     },
     "execution_count": 206,
     "metadata": {},
     "output_type": "execute_result"
    }
   ],
   "source": [
    "l1.transform(data_train[:1])\n",
    "eli5.explain_weights_df(stacking_model.estimators_[0], feature_names=l1.get_feature_names_out())"
   ]
  },
  {
   "cell_type": "code",
   "execution_count": 207,
   "metadata": {
    "pycharm": {
     "name": "#%%\n"
    }
   },
   "outputs": [
    {
     "data": {
      "text/plain": "                                   feature    weight       std\n0             d2_ctb_reg_CatBoostRegressor  0.136985  0.062282\n1                d3_ctb_CatBoostClassifier  0.105414  0.013528\n2          d2_ctb_clf_CatBoostClassifier_0  0.087115  0.049314\n3                d2_lgbm_reg_LGBMRegressor  0.076957  0.020322\n4          d2_ctb_clf_CatBoostClassifier_2  0.074613  0.024408\n5          d2_ctb_clf_CatBoostClassifier_1  0.071010  0.023439\n6            d1_rfc_RandomForestClassifier  0.068904  0.025091\n7           d2_lr_clf_LogisticRegression_0  0.061740  0.025801\n8                 d1_lr_LogisticRegression  0.056085  0.010253\n9           d2_lr_clf_LogisticRegression_2  0.054591  0.013773\n10          d2_lr_clf_LogisticRegression_1  0.050683  0.015820\n11         feat_gen_sentiment_score_of_row  0.047640  0.009202\n12  feat_gen_contains_profanity_words_flag  0.044551  0.018549\n13         feat_gen_number_of_words_in_row  0.044334  0.007248\n14                          bert_clf_label  0.019318  0.005907\n15                        feat_gen_rt_flag  0.000035  0.000149\n16           feat_gen_number_of_full_stops  0.000025  0.000122\n17               feat_gen_number_of_commas  0.000000  0.000000\n18          feat_gen_number_of_excl_points  0.000000  0.000000\n19       feat_gen_number_of_question_marks  0.000000  0.000000",
      "text/html": "<div>\n<style scoped>\n    .dataframe tbody tr th:only-of-type {\n        vertical-align: middle;\n    }\n\n    .dataframe tbody tr th {\n        vertical-align: top;\n    }\n\n    .dataframe thead th {\n        text-align: right;\n    }\n</style>\n<table border=\"1\" class=\"dataframe\">\n  <thead>\n    <tr style=\"text-align: right;\">\n      <th></th>\n      <th>feature</th>\n      <th>weight</th>\n      <th>std</th>\n    </tr>\n  </thead>\n  <tbody>\n    <tr>\n      <th>0</th>\n      <td>d2_ctb_reg_CatBoostRegressor</td>\n      <td>0.136985</td>\n      <td>0.062282</td>\n    </tr>\n    <tr>\n      <th>1</th>\n      <td>d3_ctb_CatBoostClassifier</td>\n      <td>0.105414</td>\n      <td>0.013528</td>\n    </tr>\n    <tr>\n      <th>2</th>\n      <td>d2_ctb_clf_CatBoostClassifier_0</td>\n      <td>0.087115</td>\n      <td>0.049314</td>\n    </tr>\n    <tr>\n      <th>3</th>\n      <td>d2_lgbm_reg_LGBMRegressor</td>\n      <td>0.076957</td>\n      <td>0.020322</td>\n    </tr>\n    <tr>\n      <th>4</th>\n      <td>d2_ctb_clf_CatBoostClassifier_2</td>\n      <td>0.074613</td>\n      <td>0.024408</td>\n    </tr>\n    <tr>\n      <th>5</th>\n      <td>d2_ctb_clf_CatBoostClassifier_1</td>\n      <td>0.071010</td>\n      <td>0.023439</td>\n    </tr>\n    <tr>\n      <th>6</th>\n      <td>d1_rfc_RandomForestClassifier</td>\n      <td>0.068904</td>\n      <td>0.025091</td>\n    </tr>\n    <tr>\n      <th>7</th>\n      <td>d2_lr_clf_LogisticRegression_0</td>\n      <td>0.061740</td>\n      <td>0.025801</td>\n    </tr>\n    <tr>\n      <th>8</th>\n      <td>d1_lr_LogisticRegression</td>\n      <td>0.056085</td>\n      <td>0.010253</td>\n    </tr>\n    <tr>\n      <th>9</th>\n      <td>d2_lr_clf_LogisticRegression_2</td>\n      <td>0.054591</td>\n      <td>0.013773</td>\n    </tr>\n    <tr>\n      <th>10</th>\n      <td>d2_lr_clf_LogisticRegression_1</td>\n      <td>0.050683</td>\n      <td>0.015820</td>\n    </tr>\n    <tr>\n      <th>11</th>\n      <td>feat_gen_sentiment_score_of_row</td>\n      <td>0.047640</td>\n      <td>0.009202</td>\n    </tr>\n    <tr>\n      <th>12</th>\n      <td>feat_gen_contains_profanity_words_flag</td>\n      <td>0.044551</td>\n      <td>0.018549</td>\n    </tr>\n    <tr>\n      <th>13</th>\n      <td>feat_gen_number_of_words_in_row</td>\n      <td>0.044334</td>\n      <td>0.007248</td>\n    </tr>\n    <tr>\n      <th>14</th>\n      <td>bert_clf_label</td>\n      <td>0.019318</td>\n      <td>0.005907</td>\n    </tr>\n    <tr>\n      <th>15</th>\n      <td>feat_gen_rt_flag</td>\n      <td>0.000035</td>\n      <td>0.000149</td>\n    </tr>\n    <tr>\n      <th>16</th>\n      <td>feat_gen_number_of_full_stops</td>\n      <td>0.000025</td>\n      <td>0.000122</td>\n    </tr>\n    <tr>\n      <th>17</th>\n      <td>feat_gen_number_of_commas</td>\n      <td>0.000000</td>\n      <td>0.000000</td>\n    </tr>\n    <tr>\n      <th>18</th>\n      <td>feat_gen_number_of_excl_points</td>\n      <td>0.000000</td>\n      <td>0.000000</td>\n    </tr>\n    <tr>\n      <th>19</th>\n      <td>feat_gen_number_of_question_marks</td>\n      <td>0.000000</td>\n      <td>0.000000</td>\n    </tr>\n  </tbody>\n</table>\n</div>"
     },
     "execution_count": 207,
     "metadata": {},
     "output_type": "execute_result"
    }
   ],
   "source": [
    "l1.transform(data_train[:1])\n",
    "eli5.explain_weights_df(stacking_model.estimators_[1], feature_names=l1.get_feature_names_out())"
   ]
  },
  {
   "cell_type": "code",
   "execution_count": 208,
   "outputs": [
    {
     "ename": "TypeError",
     "evalue": "'NoneType' object is not iterable",
     "output_type": "error",
     "traceback": [
      "\u001B[1;31m---------------------------------------------------------------------------\u001B[0m",
      "\u001B[1;31mTypeError\u001B[0m                                 Traceback (most recent call last)",
      "Cell \u001B[1;32mIn[208], line 2\u001B[0m\n\u001B[0;32m      1\u001B[0m l1\u001B[38;5;241m.\u001B[39mtransform(data_train[:\u001B[38;5;241m1\u001B[39m])\n\u001B[1;32m----> 2\u001B[0m \u001B[43meli5\u001B[49m\u001B[38;5;241;43m.\u001B[39;49m\u001B[43mexplain_weights_df\u001B[49m\u001B[43m(\u001B[49m\u001B[43mstacking_model\u001B[49m\u001B[38;5;241;43m.\u001B[39;49m\u001B[43mestimators_\u001B[49m\u001B[43m[\u001B[49m\u001B[38;5;241;43m2\u001B[39;49m\u001B[43m]\u001B[49m\u001B[43m,\u001B[49m\u001B[43m \u001B[49m\u001B[43mfeature_names\u001B[49m\u001B[38;5;241;43m=\u001B[39;49m\u001B[43ml1\u001B[49m\u001B[38;5;241;43m.\u001B[39;49m\u001B[43mget_feature_names_out\u001B[49m\u001B[43m(\u001B[49m\u001B[43m)\u001B[49m\u001B[43m)\u001B[49m\n",
      "File \u001B[1;32m~\\anaconda3\\envs\\eurostars\\lib\\site-packages\\eli5\\formatters\\as_dataframe.py:23\u001B[0m, in \u001B[0;36mexplain_weights_df\u001B[1;34m(estimator, **kwargs)\u001B[0m\n\u001B[0;32m     17\u001B[0m \u001B[38;5;124;03m\"\"\" Explain weights and export them to ``pandas.DataFrame``.\u001B[39;00m\n\u001B[0;32m     18\u001B[0m \u001B[38;5;124;03mAll keyword arguments are passed to :func:`eli5.explain_weights`.\u001B[39;00m\n\u001B[0;32m     19\u001B[0m \u001B[38;5;124;03mWeights of all features are exported by default.\u001B[39;00m\n\u001B[0;32m     20\u001B[0m \u001B[38;5;124;03m\"\"\"\u001B[39;00m\n\u001B[0;32m     21\u001B[0m kwargs \u001B[38;5;241m=\u001B[39m _set_defaults(kwargs)\n\u001B[0;32m     22\u001B[0m \u001B[38;5;28;01mreturn\u001B[39;00m format_as_dataframe(\n\u001B[1;32m---> 23\u001B[0m     eli5\u001B[38;5;241m.\u001B[39mexplain_weights(estimator, \u001B[38;5;241m*\u001B[39m\u001B[38;5;241m*\u001B[39mkwargs))\n",
      "File \u001B[1;32m~\\anaconda3\\envs\\eurostars\\lib\\functools.py:889\u001B[0m, in \u001B[0;36msingledispatch.<locals>.wrapper\u001B[1;34m(*args, **kw)\u001B[0m\n\u001B[0;32m    885\u001B[0m \u001B[38;5;28;01mif\u001B[39;00m \u001B[38;5;129;01mnot\u001B[39;00m args:\n\u001B[0;32m    886\u001B[0m     \u001B[38;5;28;01mraise\u001B[39;00m \u001B[38;5;167;01mTypeError\u001B[39;00m(\u001B[38;5;124mf\u001B[39m\u001B[38;5;124m'\u001B[39m\u001B[38;5;132;01m{\u001B[39;00mfuncname\u001B[38;5;132;01m}\u001B[39;00m\u001B[38;5;124m requires at least \u001B[39m\u001B[38;5;124m'\u001B[39m\n\u001B[0;32m    887\u001B[0m                     \u001B[38;5;124m'\u001B[39m\u001B[38;5;124m1 positional argument\u001B[39m\u001B[38;5;124m'\u001B[39m)\n\u001B[1;32m--> 889\u001B[0m \u001B[38;5;28;01mreturn\u001B[39;00m dispatch(args[\u001B[38;5;241m0\u001B[39m]\u001B[38;5;241m.\u001B[39m\u001B[38;5;18m__class__\u001B[39m)(\u001B[38;5;241m*\u001B[39margs, \u001B[38;5;241m*\u001B[39m\u001B[38;5;241m*\u001B[39mkw)\n",
      "File \u001B[1;32m~\\anaconda3\\envs\\eurostars\\lib\\site-packages\\eli5\\xgboost.py:72\u001B[0m, in \u001B[0;36mexplain_weights_xgboost\u001B[1;34m(xgb, vec, top, target_names, targets, feature_names, feature_re, feature_filter, importance_type)\u001B[0m\n\u001B[0;32m     70\u001B[0m booster, is_regression \u001B[38;5;241m=\u001B[39m _check_booster_args(xgb)\n\u001B[0;32m     71\u001B[0m xgb_feature_names \u001B[38;5;241m=\u001B[39m booster\u001B[38;5;241m.\u001B[39mfeature_names\n\u001B[1;32m---> 72\u001B[0m coef \u001B[38;5;241m=\u001B[39m \u001B[43m_xgb_feature_importances\u001B[49m\u001B[43m(\u001B[49m\u001B[43mbooster\u001B[49m\u001B[43m,\u001B[49m\u001B[43m \u001B[49m\u001B[43mimportance_type\u001B[49m\u001B[38;5;241;43m=\u001B[39;49m\u001B[43mimportance_type\u001B[49m\u001B[43m)\u001B[49m\n\u001B[0;32m     73\u001B[0m \u001B[38;5;28;01mreturn\u001B[39;00m get_feature_importance_explanation(\n\u001B[0;32m     74\u001B[0m     xgb, vec, coef,\n\u001B[0;32m     75\u001B[0m     feature_names\u001B[38;5;241m=\u001B[39mfeature_names,\n\u001B[1;32m   (...)\u001B[0m\n\u001B[0;32m     82\u001B[0m     num_features\u001B[38;5;241m=\u001B[39mcoef\u001B[38;5;241m.\u001B[39mshape[\u001B[38;5;241m-\u001B[39m\u001B[38;5;241m1\u001B[39m],\n\u001B[0;32m     83\u001B[0m )\n",
      "File \u001B[1;32m~\\anaconda3\\envs\\eurostars\\lib\\site-packages\\eli5\\xgboost.py:331\u001B[0m, in \u001B[0;36m_xgb_feature_importances\u001B[1;34m(booster, importance_type)\u001B[0m\n\u001B[0;32m    328\u001B[0m \u001B[38;5;28;01mdef\u001B[39;00m \u001B[38;5;21m_xgb_feature_importances\u001B[39m(booster, importance_type):\n\u001B[0;32m    329\u001B[0m     fs \u001B[38;5;241m=\u001B[39m booster\u001B[38;5;241m.\u001B[39mget_score(importance_type\u001B[38;5;241m=\u001B[39mimportance_type)\n\u001B[0;32m    330\u001B[0m     all_features \u001B[38;5;241m=\u001B[39m np\u001B[38;5;241m.\u001B[39marray(\n\u001B[1;32m--> 331\u001B[0m         [fs\u001B[38;5;241m.\u001B[39mget(f, \u001B[38;5;241m0.\u001B[39m) \u001B[38;5;28;01mfor\u001B[39;00m f \u001B[38;5;129;01min\u001B[39;00m booster\u001B[38;5;241m.\u001B[39mfeature_names], dtype\u001B[38;5;241m=\u001B[39mnp\u001B[38;5;241m.\u001B[39mfloat32)\n\u001B[0;32m    332\u001B[0m     \u001B[38;5;28;01mreturn\u001B[39;00m all_features \u001B[38;5;241m/\u001B[39m all_features\u001B[38;5;241m.\u001B[39msum()\n",
      "\u001B[1;31mTypeError\u001B[0m: 'NoneType' object is not iterable"
     ]
    }
   ],
   "source": [
    "l1.transform(data_train[:1])\n",
    "eli5.explain_weights_df(stacking_model.estimators_[2], feature_names=l1.get_feature_names_out())"
   ],
   "metadata": {
    "collapsed": false,
    "pycharm": {
     "name": "#%%\n"
    }
   }
  },
  {
   "cell_type": "code",
   "execution_count": 209,
   "metadata": {
    "pycharm": {
     "name": "#%%\n"
    }
   },
   "outputs": [
    {
     "data": {
      "text/plain": "    target                                  feature    weight\n0        0              stackingclassifier_xgboost0  1.486672\n1        0        stackingclassifier_random_forest0  1.028154\n2        0  stackingclassifier_logistic_regression2  0.766307\n3        0  stackingclassifier_logistic_regression1  0.123963\n4        0                                   <BIAS>  0.030705\n5        0        stackingclassifier_random_forest2 -0.467143\n6        0        stackingclassifier_random_forest1 -0.538316\n7        0              stackingclassifier_xgboost2 -0.583588\n8        0  stackingclassifier_logistic_regression0 -0.867576\n9        0              stackingclassifier_xgboost1 -0.880389\n10       1              stackingclassifier_xgboost1  1.948203\n11       1        stackingclassifier_random_forest1  1.236813\n12       1  stackingclassifier_logistic_regression2  0.916033\n13       1  stackingclassifier_logistic_regression0  0.081709\n14       1                                   <BIAS> -0.042906\n15       1        stackingclassifier_random_forest0 -0.100664\n16       1              stackingclassifier_xgboost0 -0.782732\n17       1  stackingclassifier_logistic_regression1 -1.029010\n18       1        stackingclassifier_random_forest2 -1.167417\n19       1              stackingclassifier_xgboost2 -1.196739\n20       2              stackingclassifier_xgboost2  1.780327\n21       2        stackingclassifier_random_forest2  1.634561\n22       2  stackingclassifier_logistic_regression1  0.905046\n23       2  stackingclassifier_logistic_regression0  0.785868\n24       2                                   <BIAS>  0.012201\n25       2        stackingclassifier_random_forest1 -0.698496\n26       2              stackingclassifier_xgboost0 -0.703940\n27       2        stackingclassifier_random_forest0 -0.927490\n28       2              stackingclassifier_xgboost1 -1.067813\n29       2  stackingclassifier_logistic_regression2 -1.682340",
      "text/html": "<div>\n<style scoped>\n    .dataframe tbody tr th:only-of-type {\n        vertical-align: middle;\n    }\n\n    .dataframe tbody tr th {\n        vertical-align: top;\n    }\n\n    .dataframe thead th {\n        text-align: right;\n    }\n</style>\n<table border=\"1\" class=\"dataframe\">\n  <thead>\n    <tr style=\"text-align: right;\">\n      <th></th>\n      <th>target</th>\n      <th>feature</th>\n      <th>weight</th>\n    </tr>\n  </thead>\n  <tbody>\n    <tr>\n      <th>0</th>\n      <td>0</td>\n      <td>stackingclassifier_xgboost0</td>\n      <td>1.486672</td>\n    </tr>\n    <tr>\n      <th>1</th>\n      <td>0</td>\n      <td>stackingclassifier_random_forest0</td>\n      <td>1.028154</td>\n    </tr>\n    <tr>\n      <th>2</th>\n      <td>0</td>\n      <td>stackingclassifier_logistic_regression2</td>\n      <td>0.766307</td>\n    </tr>\n    <tr>\n      <th>3</th>\n      <td>0</td>\n      <td>stackingclassifier_logistic_regression1</td>\n      <td>0.123963</td>\n    </tr>\n    <tr>\n      <th>4</th>\n      <td>0</td>\n      <td>&lt;BIAS&gt;</td>\n      <td>0.030705</td>\n    </tr>\n    <tr>\n      <th>5</th>\n      <td>0</td>\n      <td>stackingclassifier_random_forest2</td>\n      <td>-0.467143</td>\n    </tr>\n    <tr>\n      <th>6</th>\n      <td>0</td>\n      <td>stackingclassifier_random_forest1</td>\n      <td>-0.538316</td>\n    </tr>\n    <tr>\n      <th>7</th>\n      <td>0</td>\n      <td>stackingclassifier_xgboost2</td>\n      <td>-0.583588</td>\n    </tr>\n    <tr>\n      <th>8</th>\n      <td>0</td>\n      <td>stackingclassifier_logistic_regression0</td>\n      <td>-0.867576</td>\n    </tr>\n    <tr>\n      <th>9</th>\n      <td>0</td>\n      <td>stackingclassifier_xgboost1</td>\n      <td>-0.880389</td>\n    </tr>\n    <tr>\n      <th>10</th>\n      <td>1</td>\n      <td>stackingclassifier_xgboost1</td>\n      <td>1.948203</td>\n    </tr>\n    <tr>\n      <th>11</th>\n      <td>1</td>\n      <td>stackingclassifier_random_forest1</td>\n      <td>1.236813</td>\n    </tr>\n    <tr>\n      <th>12</th>\n      <td>1</td>\n      <td>stackingclassifier_logistic_regression2</td>\n      <td>0.916033</td>\n    </tr>\n    <tr>\n      <th>13</th>\n      <td>1</td>\n      <td>stackingclassifier_logistic_regression0</td>\n      <td>0.081709</td>\n    </tr>\n    <tr>\n      <th>14</th>\n      <td>1</td>\n      <td>&lt;BIAS&gt;</td>\n      <td>-0.042906</td>\n    </tr>\n    <tr>\n      <th>15</th>\n      <td>1</td>\n      <td>stackingclassifier_random_forest0</td>\n      <td>-0.100664</td>\n    </tr>\n    <tr>\n      <th>16</th>\n      <td>1</td>\n      <td>stackingclassifier_xgboost0</td>\n      <td>-0.782732</td>\n    </tr>\n    <tr>\n      <th>17</th>\n      <td>1</td>\n      <td>stackingclassifier_logistic_regression1</td>\n      <td>-1.029010</td>\n    </tr>\n    <tr>\n      <th>18</th>\n      <td>1</td>\n      <td>stackingclassifier_random_forest2</td>\n      <td>-1.167417</td>\n    </tr>\n    <tr>\n      <th>19</th>\n      <td>1</td>\n      <td>stackingclassifier_xgboost2</td>\n      <td>-1.196739</td>\n    </tr>\n    <tr>\n      <th>20</th>\n      <td>2</td>\n      <td>stackingclassifier_xgboost2</td>\n      <td>1.780327</td>\n    </tr>\n    <tr>\n      <th>21</th>\n      <td>2</td>\n      <td>stackingclassifier_random_forest2</td>\n      <td>1.634561</td>\n    </tr>\n    <tr>\n      <th>22</th>\n      <td>2</td>\n      <td>stackingclassifier_logistic_regression1</td>\n      <td>0.905046</td>\n    </tr>\n    <tr>\n      <th>23</th>\n      <td>2</td>\n      <td>stackingclassifier_logistic_regression0</td>\n      <td>0.785868</td>\n    </tr>\n    <tr>\n      <th>24</th>\n      <td>2</td>\n      <td>&lt;BIAS&gt;</td>\n      <td>0.012201</td>\n    </tr>\n    <tr>\n      <th>25</th>\n      <td>2</td>\n      <td>stackingclassifier_random_forest1</td>\n      <td>-0.698496</td>\n    </tr>\n    <tr>\n      <th>26</th>\n      <td>2</td>\n      <td>stackingclassifier_xgboost0</td>\n      <td>-0.703940</td>\n    </tr>\n    <tr>\n      <th>27</th>\n      <td>2</td>\n      <td>stackingclassifier_random_forest0</td>\n      <td>-0.927490</td>\n    </tr>\n    <tr>\n      <th>28</th>\n      <td>2</td>\n      <td>stackingclassifier_xgboost1</td>\n      <td>-1.067813</td>\n    </tr>\n    <tr>\n      <th>29</th>\n      <td>2</td>\n      <td>stackingclassifier_logistic_regression2</td>\n      <td>-1.682340</td>\n    </tr>\n  </tbody>\n</table>\n</div>"
     },
     "execution_count": 209,
     "metadata": {},
     "output_type": "execute_result"
    }
   ],
   "source": [
    "eli5.explain_weights_df(stacking_model.final_estimator_, feature_names=stacking_model.get_feature_names_out())"
   ]
  },
  {
   "cell_type": "markdown",
   "source": [
    "#### Unite 1st layer with 2nd and 3d layers"
   ],
   "metadata": {
    "collapsed": false,
    "pycharm": {
     "name": "#%% md\n"
    }
   }
  },
  {
   "cell_type": "code",
   "execution_count": 211,
   "metadata": {
    "pycharm": {
     "name": "#%%\n"
    }
   },
   "outputs": [],
   "source": [
    "stacking_pipeline = Pipeline([\n",
    "    ('l1', l1),\n",
    "    ('regressor', stacking_model)\n",
    "])"
   ]
  },
  {
   "cell_type": "code",
   "execution_count": 212,
   "metadata": {
    "pycharm": {
     "name": "#%%\n"
    }
   },
   "outputs": [
    {
     "data": {
      "text/plain": "Pipeline(steps=[('l1',\n                 CustomColumnTransformer(transformers=[('d1_lr',\n                                                        PipelineTransformer(pipeline=Pipeline(steps=[('NLP',\n                                                                                                      Pipeline(steps=[('cleaning',\n                                                                                                                       TextCleaner()),\n                                                                                                                      ('series_converter',\n                                                                                                                       SeriesConverter()),\n                                                                                                                      ('vectorization',\n                                                                                                                       TfidfVectorizer(max_df=0.7,\n                                                                                                                                       min_df=3))])),\n                                                                                                     ('regressor',\n                                                                                                      LogisticRegression())])),\n                                                        ['tweet']),\n                                                       ('d1_rfc',\n                                                        PipelineTransformer(pipeline=P...\n                                                               importance_type=None,\n                                                               interaction_constraints=None,\n                                                               learning_rate=0.1,\n                                                               max_bin=None,\n                                                               max_cat_threshold=None,\n                                                               max_cat_to_onehot=None,\n                                                               max_delta_step=None,\n                                                               max_depth=8,\n                                                               max_leaves=None,\n                                                               min_child_weight=8,\n                                                               missing=nan,\n                                                               monotone_constraints=None,\n                                                               n_estimators=128,\n                                                               n_jobs=None,\n                                                               num_parallel_tree=None,\n                                                               predictor=None,\n                                                               random_state=None, ...))],\n                                    final_estimator=LogisticRegression()))])",
      "text/html": "<style>#sk-container-id-34 {color: black;background-color: white;}#sk-container-id-34 pre{padding: 0;}#sk-container-id-34 div.sk-toggleable {background-color: white;}#sk-container-id-34 label.sk-toggleable__label {cursor: pointer;display: block;width: 100%;margin-bottom: 0;padding: 0.3em;box-sizing: border-box;text-align: center;}#sk-container-id-34 label.sk-toggleable__label-arrow:before {content: \"▸\";float: left;margin-right: 0.25em;color: #696969;}#sk-container-id-34 label.sk-toggleable__label-arrow:hover:before {color: black;}#sk-container-id-34 div.sk-estimator:hover label.sk-toggleable__label-arrow:before {color: black;}#sk-container-id-34 div.sk-toggleable__content {max-height: 0;max-width: 0;overflow: hidden;text-align: left;background-color: #f0f8ff;}#sk-container-id-34 div.sk-toggleable__content pre {margin: 0.2em;color: black;border-radius: 0.25em;background-color: #f0f8ff;}#sk-container-id-34 input.sk-toggleable__control:checked~div.sk-toggleable__content {max-height: 200px;max-width: 100%;overflow: auto;}#sk-container-id-34 input.sk-toggleable__control:checked~label.sk-toggleable__label-arrow:before {content: \"▾\";}#sk-container-id-34 div.sk-estimator input.sk-toggleable__control:checked~label.sk-toggleable__label {background-color: #d4ebff;}#sk-container-id-34 div.sk-label input.sk-toggleable__control:checked~label.sk-toggleable__label {background-color: #d4ebff;}#sk-container-id-34 input.sk-hidden--visually {border: 0;clip: rect(1px 1px 1px 1px);clip: rect(1px, 1px, 1px, 1px);height: 1px;margin: -1px;overflow: hidden;padding: 0;position: absolute;width: 1px;}#sk-container-id-34 div.sk-estimator {font-family: monospace;background-color: #f0f8ff;border: 1px dotted black;border-radius: 0.25em;box-sizing: border-box;margin-bottom: 0.5em;}#sk-container-id-34 div.sk-estimator:hover {background-color: #d4ebff;}#sk-container-id-34 div.sk-parallel-item::after {content: \"\";width: 100%;border-bottom: 1px solid gray;flex-grow: 1;}#sk-container-id-34 div.sk-label:hover label.sk-toggleable__label {background-color: #d4ebff;}#sk-container-id-34 div.sk-serial::before {content: \"\";position: absolute;border-left: 1px solid gray;box-sizing: border-box;top: 0;bottom: 0;left: 50%;z-index: 0;}#sk-container-id-34 div.sk-serial {display: flex;flex-direction: column;align-items: center;background-color: white;padding-right: 0.2em;padding-left: 0.2em;position: relative;}#sk-container-id-34 div.sk-item {position: relative;z-index: 1;}#sk-container-id-34 div.sk-parallel {display: flex;align-items: stretch;justify-content: center;background-color: white;position: relative;}#sk-container-id-34 div.sk-item::before, #sk-container-id-34 div.sk-parallel-item::before {content: \"\";position: absolute;border-left: 1px solid gray;box-sizing: border-box;top: 0;bottom: 0;left: 50%;z-index: -1;}#sk-container-id-34 div.sk-parallel-item {display: flex;flex-direction: column;z-index: 1;position: relative;background-color: white;}#sk-container-id-34 div.sk-parallel-item:first-child::after {align-self: flex-end;width: 50%;}#sk-container-id-34 div.sk-parallel-item:last-child::after {align-self: flex-start;width: 50%;}#sk-container-id-34 div.sk-parallel-item:only-child::after {width: 0;}#sk-container-id-34 div.sk-dashed-wrapped {border: 1px dashed gray;margin: 0 0.4em 0.5em 0.4em;box-sizing: border-box;padding-bottom: 0.4em;background-color: white;}#sk-container-id-34 div.sk-label label {font-family: monospace;font-weight: bold;display: inline-block;line-height: 1.2em;}#sk-container-id-34 div.sk-label-container {text-align: center;}#sk-container-id-34 div.sk-container {/* jupyter's `normalize.less` sets `[hidden] { display: none; }` but bootstrap.min.css set `[hidden] { display: none !important; }` so we also need the `!important` here to be able to override the default hidden behavior on the sphinx rendered scikit-learn.org. See: https://github.com/scikit-learn/scikit-learn/issues/21755 */display: inline-block !important;position: relative;}#sk-container-id-34 div.sk-text-repr-fallback {display: none;}</style><div id=\"sk-container-id-34\" class=\"sk-top-container\"><div class=\"sk-text-repr-fallback\"><pre>Pipeline(steps=[(&#x27;l1&#x27;,\n                 CustomColumnTransformer(transformers=[(&#x27;d1_lr&#x27;,\n                                                        PipelineTransformer(pipeline=Pipeline(steps=[(&#x27;NLP&#x27;,\n                                                                                                      Pipeline(steps=[(&#x27;cleaning&#x27;,\n                                                                                                                       TextCleaner()),\n                                                                                                                      (&#x27;series_converter&#x27;,\n                                                                                                                       SeriesConverter()),\n                                                                                                                      (&#x27;vectorization&#x27;,\n                                                                                                                       TfidfVectorizer(max_df=0.7,\n                                                                                                                                       min_df=3))])),\n                                                                                                     (&#x27;regressor&#x27;,\n                                                                                                      LogisticRegression())])),\n                                                        [&#x27;tweet&#x27;]),\n                                                       (&#x27;d1_rfc&#x27;,\n                                                        PipelineTransformer(pipeline=P...\n                                                               importance_type=None,\n                                                               interaction_constraints=None,\n                                                               learning_rate=0.1,\n                                                               max_bin=None,\n                                                               max_cat_threshold=None,\n                                                               max_cat_to_onehot=None,\n                                                               max_delta_step=None,\n                                                               max_depth=8,\n                                                               max_leaves=None,\n                                                               min_child_weight=8,\n                                                               missing=nan,\n                                                               monotone_constraints=None,\n                                                               n_estimators=128,\n                                                               n_jobs=None,\n                                                               num_parallel_tree=None,\n                                                               predictor=None,\n                                                               random_state=None, ...))],\n                                    final_estimator=LogisticRegression()))])</pre><b>In a Jupyter environment, please rerun this cell to show the HTML representation or trust the notebook. <br />On GitHub, the HTML representation is unable to render, please try loading this page with nbviewer.org.</b></div><div class=\"sk-container\" hidden><div class=\"sk-item sk-dashed-wrapped\"><div class=\"sk-label-container\"><div class=\"sk-label sk-toggleable\"><input class=\"sk-toggleable__control sk-hidden--visually\" id=\"sk-estimator-id-370\" type=\"checkbox\" ><label for=\"sk-estimator-id-370\" class=\"sk-toggleable__label sk-toggleable__label-arrow\">Pipeline</label><div class=\"sk-toggleable__content\"><pre>Pipeline(steps=[(&#x27;l1&#x27;,\n                 CustomColumnTransformer(transformers=[(&#x27;d1_lr&#x27;,\n                                                        PipelineTransformer(pipeline=Pipeline(steps=[(&#x27;NLP&#x27;,\n                                                                                                      Pipeline(steps=[(&#x27;cleaning&#x27;,\n                                                                                                                       TextCleaner()),\n                                                                                                                      (&#x27;series_converter&#x27;,\n                                                                                                                       SeriesConverter()),\n                                                                                                                      (&#x27;vectorization&#x27;,\n                                                                                                                       TfidfVectorizer(max_df=0.7,\n                                                                                                                                       min_df=3))])),\n                                                                                                     (&#x27;regressor&#x27;,\n                                                                                                      LogisticRegression())])),\n                                                        [&#x27;tweet&#x27;]),\n                                                       (&#x27;d1_rfc&#x27;,\n                                                        PipelineTransformer(pipeline=P...\n                                                               importance_type=None,\n                                                               interaction_constraints=None,\n                                                               learning_rate=0.1,\n                                                               max_bin=None,\n                                                               max_cat_threshold=None,\n                                                               max_cat_to_onehot=None,\n                                                               max_delta_step=None,\n                                                               max_depth=8,\n                                                               max_leaves=None,\n                                                               min_child_weight=8,\n                                                               missing=nan,\n                                                               monotone_constraints=None,\n                                                               n_estimators=128,\n                                                               n_jobs=None,\n                                                               num_parallel_tree=None,\n                                                               predictor=None,\n                                                               random_state=None, ...))],\n                                    final_estimator=LogisticRegression()))])</pre></div></div></div><div class=\"sk-serial\"><div class=\"sk-item sk-dashed-wrapped\"><div class=\"sk-label-container\"><div class=\"sk-label sk-toggleable\"><input class=\"sk-toggleable__control sk-hidden--visually\" id=\"sk-estimator-id-371\" type=\"checkbox\" ><label for=\"sk-estimator-id-371\" class=\"sk-toggleable__label sk-toggleable__label-arrow\">l1: CustomColumnTransformer</label><div class=\"sk-toggleable__content\"><pre>CustomColumnTransformer(transformers=[(&#x27;d1_lr&#x27;,\n                                       PipelineTransformer(pipeline=Pipeline(steps=[(&#x27;NLP&#x27;,\n                                                                                     Pipeline(steps=[(&#x27;cleaning&#x27;,\n                                                                                                      TextCleaner()),\n                                                                                                     (&#x27;series_converter&#x27;,\n                                                                                                      SeriesConverter()),\n                                                                                                     (&#x27;vectorization&#x27;,\n                                                                                                      TfidfVectorizer(max_df=0.7,\n                                                                                                                      min_df=3))])),\n                                                                                    (&#x27;regressor&#x27;,\n                                                                                     LogisticRegression())])),\n                                       [&#x27;tweet&#x27;]),\n                                      (&#x27;d1_rfc&#x27;,\n                                       PipelineTransformer(pipeline=Pipeline(steps=[(&#x27;NLP&#x27;,...\n                                                                                                      TfidfVectorizer(max_df=0.7,\n                                                                                                                      min_df=3))])),\n                                                                                    (&#x27;regressor&#x27;,\n                                                                                     &lt;catboost.core.CatBoostClassifier object at 0x000001ADD408AD40&gt;)])),\n                                       [&#x27;tweet&#x27;]),\n                                      (&#x27;feat_gen&#x27;, FeatureGenerator(),\n                                       [&#x27;tweet&#x27;]),\n                                      (&#x27;bert_clf&#x27;,\n                                       Pipeline(steps=[(&#x27;cleaning&#x27;,\n                                                        TextCleaner()),\n                                                       (&#x27;series_converter&#x27;,\n                                                        SeriesConverter()),\n                                                       (&#x27;bert_classifier&#x27;,\n                                                        &lt;__main__.BertClassifier object at 0x000001ADDAC021A0&gt;)]),\n                                       [&#x27;tweet&#x27;])])</pre></div></div></div><div class=\"sk-parallel\"><div class=\"sk-parallel-item\"><div class=\"sk-item\"><div class=\"sk-label-container\"><div class=\"sk-label sk-toggleable\"><input class=\"sk-toggleable__control sk-hidden--visually\" id=\"sk-estimator-id-372\" type=\"checkbox\" ><label for=\"sk-estimator-id-372\" class=\"sk-toggleable__label sk-toggleable__label-arrow\">d1_lr</label><div class=\"sk-toggleable__content\"><pre>[&#x27;tweet&#x27;]</pre></div></div></div><div class=\"sk-serial\"><div class=\"sk-item sk-dashed-wrapped\"><div class=\"sk-parallel\"><div class=\"sk-parallel-item\"><div class=\"sk-item\"><div class=\"sk-label-container\"><div class=\"sk-label sk-toggleable\"><input class=\"sk-toggleable__control sk-hidden--visually\" id=\"sk-estimator-id-373\" type=\"checkbox\" ><label for=\"sk-estimator-id-373\" class=\"sk-toggleable__label sk-toggleable__label-arrow\">pipeline: Pipeline</label><div class=\"sk-toggleable__content\"><pre>Pipeline(steps=[(&#x27;NLP&#x27;,\n                 Pipeline(steps=[(&#x27;cleaning&#x27;, TextCleaner()),\n                                 (&#x27;series_converter&#x27;, SeriesConverter()),\n                                 (&#x27;vectorization&#x27;,\n                                  TfidfVectorizer(max_df=0.7, min_df=3))])),\n                (&#x27;regressor&#x27;, LogisticRegression())])</pre></div></div></div><div class=\"sk-serial\"><div class=\"sk-item\"><div class=\"sk-serial\"><div class=\"sk-item\"><div class=\"sk-label-container\"><div class=\"sk-label sk-toggleable\"><input class=\"sk-toggleable__control sk-hidden--visually\" id=\"sk-estimator-id-374\" type=\"checkbox\" ><label for=\"sk-estimator-id-374\" class=\"sk-toggleable__label sk-toggleable__label-arrow\">NLP: Pipeline</label><div class=\"sk-toggleable__content\"><pre>Pipeline(steps=[(&#x27;cleaning&#x27;, TextCleaner()),\n                (&#x27;series_converter&#x27;, SeriesConverter()),\n                (&#x27;vectorization&#x27;, TfidfVectorizer(max_df=0.7, min_df=3))])</pre></div></div></div><div class=\"sk-serial\"><div class=\"sk-item\"><div class=\"sk-estimator sk-toggleable\"><input class=\"sk-toggleable__control sk-hidden--visually\" id=\"sk-estimator-id-375\" type=\"checkbox\" ><label for=\"sk-estimator-id-375\" class=\"sk-toggleable__label sk-toggleable__label-arrow\">TextCleaner</label><div class=\"sk-toggleable__content\"><pre>TextCleaner()</pre></div></div></div><div class=\"sk-item\"><div class=\"sk-estimator sk-toggleable\"><input class=\"sk-toggleable__control sk-hidden--visually\" id=\"sk-estimator-id-376\" type=\"checkbox\" ><label for=\"sk-estimator-id-376\" class=\"sk-toggleable__label sk-toggleable__label-arrow\">SeriesConverter</label><div class=\"sk-toggleable__content\"><pre>SeriesConverter()</pre></div></div></div><div class=\"sk-item\"><div class=\"sk-estimator sk-toggleable\"><input class=\"sk-toggleable__control sk-hidden--visually\" id=\"sk-estimator-id-377\" type=\"checkbox\" ><label for=\"sk-estimator-id-377\" class=\"sk-toggleable__label sk-toggleable__label-arrow\">TfidfVectorizer</label><div class=\"sk-toggleable__content\"><pre>TfidfVectorizer(max_df=0.7, min_df=3)</pre></div></div></div></div></div><div class=\"sk-item\"><div class=\"sk-estimator sk-toggleable\"><input class=\"sk-toggleable__control sk-hidden--visually\" id=\"sk-estimator-id-378\" type=\"checkbox\" ><label for=\"sk-estimator-id-378\" class=\"sk-toggleable__label sk-toggleable__label-arrow\">LogisticRegression</label><div class=\"sk-toggleable__content\"><pre>LogisticRegression()</pre></div></div></div></div></div></div></div></div></div></div></div></div></div><div class=\"sk-parallel-item\"><div class=\"sk-item\"><div class=\"sk-label-container\"><div class=\"sk-label sk-toggleable\"><input class=\"sk-toggleable__control sk-hidden--visually\" id=\"sk-estimator-id-379\" type=\"checkbox\" ><label for=\"sk-estimator-id-379\" class=\"sk-toggleable__label sk-toggleable__label-arrow\">d1_rfc</label><div class=\"sk-toggleable__content\"><pre>[&#x27;tweet&#x27;]</pre></div></div></div><div class=\"sk-serial\"><div class=\"sk-item sk-dashed-wrapped\"><div class=\"sk-parallel\"><div class=\"sk-parallel-item\"><div class=\"sk-item\"><div class=\"sk-label-container\"><div class=\"sk-label sk-toggleable\"><input class=\"sk-toggleable__control sk-hidden--visually\" id=\"sk-estimator-id-380\" type=\"checkbox\" ><label for=\"sk-estimator-id-380\" class=\"sk-toggleable__label sk-toggleable__label-arrow\">pipeline: Pipeline</label><div class=\"sk-toggleable__content\"><pre>Pipeline(steps=[(&#x27;NLP&#x27;,\n                 Pipeline(steps=[(&#x27;cleaning&#x27;, TextCleaner()),\n                                 (&#x27;series_converter&#x27;, SeriesConverter()),\n                                 (&#x27;vectorization&#x27;,\n                                  TfidfVectorizer(max_df=0.7, min_df=3))])),\n                (&#x27;regressor&#x27;, RandomForestClassifier())])</pre></div></div></div><div class=\"sk-serial\"><div class=\"sk-item\"><div class=\"sk-serial\"><div class=\"sk-item\"><div class=\"sk-label-container\"><div class=\"sk-label sk-toggleable\"><input class=\"sk-toggleable__control sk-hidden--visually\" id=\"sk-estimator-id-381\" type=\"checkbox\" ><label for=\"sk-estimator-id-381\" class=\"sk-toggleable__label sk-toggleable__label-arrow\">NLP: Pipeline</label><div class=\"sk-toggleable__content\"><pre>Pipeline(steps=[(&#x27;cleaning&#x27;, TextCleaner()),\n                (&#x27;series_converter&#x27;, SeriesConverter()),\n                (&#x27;vectorization&#x27;, TfidfVectorizer(max_df=0.7, min_df=3))])</pre></div></div></div><div class=\"sk-serial\"><div class=\"sk-item\"><div class=\"sk-estimator sk-toggleable\"><input class=\"sk-toggleable__control sk-hidden--visually\" id=\"sk-estimator-id-382\" type=\"checkbox\" ><label for=\"sk-estimator-id-382\" class=\"sk-toggleable__label sk-toggleable__label-arrow\">TextCleaner</label><div class=\"sk-toggleable__content\"><pre>TextCleaner()</pre></div></div></div><div class=\"sk-item\"><div class=\"sk-estimator sk-toggleable\"><input class=\"sk-toggleable__control sk-hidden--visually\" id=\"sk-estimator-id-383\" type=\"checkbox\" ><label for=\"sk-estimator-id-383\" class=\"sk-toggleable__label sk-toggleable__label-arrow\">SeriesConverter</label><div class=\"sk-toggleable__content\"><pre>SeriesConverter()</pre></div></div></div><div class=\"sk-item\"><div class=\"sk-estimator sk-toggleable\"><input class=\"sk-toggleable__control sk-hidden--visually\" id=\"sk-estimator-id-384\" type=\"checkbox\" ><label for=\"sk-estimator-id-384\" class=\"sk-toggleable__label sk-toggleable__label-arrow\">TfidfVectorizer</label><div class=\"sk-toggleable__content\"><pre>TfidfVectorizer(max_df=0.7, min_df=3)</pre></div></div></div></div></div><div class=\"sk-item\"><div class=\"sk-estimator sk-toggleable\"><input class=\"sk-toggleable__control sk-hidden--visually\" id=\"sk-estimator-id-385\" type=\"checkbox\" ><label for=\"sk-estimator-id-385\" class=\"sk-toggleable__label sk-toggleable__label-arrow\">RandomForestClassifier</label><div class=\"sk-toggleable__content\"><pre>RandomForestClassifier()</pre></div></div></div></div></div></div></div></div></div></div></div></div></div><div class=\"sk-parallel-item\"><div class=\"sk-item\"><div class=\"sk-label-container\"><div class=\"sk-label sk-toggleable\"><input class=\"sk-toggleable__control sk-hidden--visually\" id=\"sk-estimator-id-386\" type=\"checkbox\" ><label for=\"sk-estimator-id-386\" class=\"sk-toggleable__label sk-toggleable__label-arrow\">d2_ctb_reg</label><div class=\"sk-toggleable__content\"><pre>[&#x27;tweet&#x27;]</pre></div></div></div><div class=\"sk-serial\"><div class=\"sk-item sk-dashed-wrapped\"><div class=\"sk-parallel\"><div class=\"sk-parallel-item\"><div class=\"sk-item\"><div class=\"sk-label-container\"><div class=\"sk-label sk-toggleable\"><input class=\"sk-toggleable__control sk-hidden--visually\" id=\"sk-estimator-id-387\" type=\"checkbox\" ><label for=\"sk-estimator-id-387\" class=\"sk-toggleable__label sk-toggleable__label-arrow\">pipeline: Pipeline</label><div class=\"sk-toggleable__content\"><pre>Pipeline(steps=[(&#x27;NLP&#x27;,\n                 Pipeline(steps=[(&#x27;cleaning&#x27;, TextCleaner()),\n                                 (&#x27;series_converter&#x27;, SeriesConverter()),\n                                 (&#x27;vectorization&#x27;,\n                                  TfidfVectorizer(max_df=0.7, min_df=3))])),\n                (&#x27;regressor&#x27;,\n                 &lt;catboost.core.CatBoostRegressor object at 0x000001ADC37934C0&gt;)])</pre></div></div></div><div class=\"sk-serial\"><div class=\"sk-item\"><div class=\"sk-serial\"><div class=\"sk-item\"><div class=\"sk-label-container\"><div class=\"sk-label sk-toggleable\"><input class=\"sk-toggleable__control sk-hidden--visually\" id=\"sk-estimator-id-388\" type=\"checkbox\" ><label for=\"sk-estimator-id-388\" class=\"sk-toggleable__label sk-toggleable__label-arrow\">NLP: Pipeline</label><div class=\"sk-toggleable__content\"><pre>Pipeline(steps=[(&#x27;cleaning&#x27;, TextCleaner()),\n                (&#x27;series_converter&#x27;, SeriesConverter()),\n                (&#x27;vectorization&#x27;, TfidfVectorizer(max_df=0.7, min_df=3))])</pre></div></div></div><div class=\"sk-serial\"><div class=\"sk-item\"><div class=\"sk-estimator sk-toggleable\"><input class=\"sk-toggleable__control sk-hidden--visually\" id=\"sk-estimator-id-389\" type=\"checkbox\" ><label for=\"sk-estimator-id-389\" class=\"sk-toggleable__label sk-toggleable__label-arrow\">TextCleaner</label><div class=\"sk-toggleable__content\"><pre>TextCleaner()</pre></div></div></div><div class=\"sk-item\"><div class=\"sk-estimator sk-toggleable\"><input class=\"sk-toggleable__control sk-hidden--visually\" id=\"sk-estimator-id-390\" type=\"checkbox\" ><label for=\"sk-estimator-id-390\" class=\"sk-toggleable__label sk-toggleable__label-arrow\">SeriesConverter</label><div class=\"sk-toggleable__content\"><pre>SeriesConverter()</pre></div></div></div><div class=\"sk-item\"><div class=\"sk-estimator sk-toggleable\"><input class=\"sk-toggleable__control sk-hidden--visually\" id=\"sk-estimator-id-391\" type=\"checkbox\" ><label for=\"sk-estimator-id-391\" class=\"sk-toggleable__label sk-toggleable__label-arrow\">TfidfVectorizer</label><div class=\"sk-toggleable__content\"><pre>TfidfVectorizer(max_df=0.7, min_df=3)</pre></div></div></div></div></div><div class=\"sk-item\"><div class=\"sk-estimator sk-toggleable\"><input class=\"sk-toggleable__control sk-hidden--visually\" id=\"sk-estimator-id-392\" type=\"checkbox\" ><label for=\"sk-estimator-id-392\" class=\"sk-toggleable__label sk-toggleable__label-arrow\">CatBoostRegressor</label><div class=\"sk-toggleable__content\"><pre>&lt;catboost.core.CatBoostRegressor object at 0x000001ADC37934C0&gt;</pre></div></div></div></div></div></div></div></div></div></div></div></div></div><div class=\"sk-parallel-item\"><div class=\"sk-item\"><div class=\"sk-label-container\"><div class=\"sk-label sk-toggleable\"><input class=\"sk-toggleable__control sk-hidden--visually\" id=\"sk-estimator-id-393\" type=\"checkbox\" ><label for=\"sk-estimator-id-393\" class=\"sk-toggleable__label sk-toggleable__label-arrow\">d2_lgbm_reg</label><div class=\"sk-toggleable__content\"><pre>[&#x27;tweet&#x27;]</pre></div></div></div><div class=\"sk-serial\"><div class=\"sk-item sk-dashed-wrapped\"><div class=\"sk-parallel\"><div class=\"sk-parallel-item\"><div class=\"sk-item\"><div class=\"sk-label-container\"><div class=\"sk-label sk-toggleable\"><input class=\"sk-toggleable__control sk-hidden--visually\" id=\"sk-estimator-id-394\" type=\"checkbox\" ><label for=\"sk-estimator-id-394\" class=\"sk-toggleable__label sk-toggleable__label-arrow\">pipeline: Pipeline</label><div class=\"sk-toggleable__content\"><pre>Pipeline(steps=[(&#x27;NLP&#x27;,\n                 Pipeline(steps=[(&#x27;cleaning&#x27;, TextCleaner()),\n                                 (&#x27;series_converter&#x27;, SeriesConverter()),\n                                 (&#x27;vectorization&#x27;,\n                                  TfidfVectorizer(max_df=0.7, min_df=3))])),\n                (&#x27;regressor&#x27;, LGBMRegressor())])</pre></div></div></div><div class=\"sk-serial\"><div class=\"sk-item\"><div class=\"sk-serial\"><div class=\"sk-item\"><div class=\"sk-label-container\"><div class=\"sk-label sk-toggleable\"><input class=\"sk-toggleable__control sk-hidden--visually\" id=\"sk-estimator-id-395\" type=\"checkbox\" ><label for=\"sk-estimator-id-395\" class=\"sk-toggleable__label sk-toggleable__label-arrow\">NLP: Pipeline</label><div class=\"sk-toggleable__content\"><pre>Pipeline(steps=[(&#x27;cleaning&#x27;, TextCleaner()),\n                (&#x27;series_converter&#x27;, SeriesConverter()),\n                (&#x27;vectorization&#x27;, TfidfVectorizer(max_df=0.7, min_df=3))])</pre></div></div></div><div class=\"sk-serial\"><div class=\"sk-item\"><div class=\"sk-estimator sk-toggleable\"><input class=\"sk-toggleable__control sk-hidden--visually\" id=\"sk-estimator-id-396\" type=\"checkbox\" ><label for=\"sk-estimator-id-396\" class=\"sk-toggleable__label sk-toggleable__label-arrow\">TextCleaner</label><div class=\"sk-toggleable__content\"><pre>TextCleaner()</pre></div></div></div><div class=\"sk-item\"><div class=\"sk-estimator sk-toggleable\"><input class=\"sk-toggleable__control sk-hidden--visually\" id=\"sk-estimator-id-397\" type=\"checkbox\" ><label for=\"sk-estimator-id-397\" class=\"sk-toggleable__label sk-toggleable__label-arrow\">SeriesConverter</label><div class=\"sk-toggleable__content\"><pre>SeriesConverter()</pre></div></div></div><div class=\"sk-item\"><div class=\"sk-estimator sk-toggleable\"><input class=\"sk-toggleable__control sk-hidden--visually\" id=\"sk-estimator-id-398\" type=\"checkbox\" ><label for=\"sk-estimator-id-398\" class=\"sk-toggleable__label sk-toggleable__label-arrow\">TfidfVectorizer</label><div class=\"sk-toggleable__content\"><pre>TfidfVectorizer(max_df=0.7, min_df=3)</pre></div></div></div></div></div><div class=\"sk-item\"><div class=\"sk-estimator sk-toggleable\"><input class=\"sk-toggleable__control sk-hidden--visually\" id=\"sk-estimator-id-399\" type=\"checkbox\" ><label for=\"sk-estimator-id-399\" class=\"sk-toggleable__label sk-toggleable__label-arrow\">LGBMRegressor</label><div class=\"sk-toggleable__content\"><pre>LGBMRegressor()</pre></div></div></div></div></div></div></div></div></div></div></div></div></div><div class=\"sk-parallel-item\"><div class=\"sk-item\"><div class=\"sk-label-container\"><div class=\"sk-label sk-toggleable\"><input class=\"sk-toggleable__control sk-hidden--visually\" id=\"sk-estimator-id-400\" type=\"checkbox\" ><label for=\"sk-estimator-id-400\" class=\"sk-toggleable__label sk-toggleable__label-arrow\">d2_lr_clf</label><div class=\"sk-toggleable__content\"><pre>[&#x27;tweet&#x27;]</pre></div></div></div><div class=\"sk-serial\"><div class=\"sk-item sk-dashed-wrapped\"><div class=\"sk-parallel\"><div class=\"sk-parallel-item\"><div class=\"sk-item\"><div class=\"sk-label-container\"><div class=\"sk-label sk-toggleable\"><input class=\"sk-toggleable__control sk-hidden--visually\" id=\"sk-estimator-id-401\" type=\"checkbox\" ><label for=\"sk-estimator-id-401\" class=\"sk-toggleable__label sk-toggleable__label-arrow\">pipeline: Pipeline</label><div class=\"sk-toggleable__content\"><pre>Pipeline(steps=[(&#x27;NLP&#x27;,\n                 Pipeline(steps=[(&#x27;cleaning&#x27;, TextCleaner()),\n                                 (&#x27;series_converter&#x27;, SeriesConverter()),\n                                 (&#x27;vectorization&#x27;,\n                                  TfidfVectorizer(max_df=0.7, min_df=3))])),\n                (&#x27;regressor&#x27;, LogisticRegression())])</pre></div></div></div><div class=\"sk-serial\"><div class=\"sk-item\"><div class=\"sk-serial\"><div class=\"sk-item\"><div class=\"sk-label-container\"><div class=\"sk-label sk-toggleable\"><input class=\"sk-toggleable__control sk-hidden--visually\" id=\"sk-estimator-id-402\" type=\"checkbox\" ><label for=\"sk-estimator-id-402\" class=\"sk-toggleable__label sk-toggleable__label-arrow\">NLP: Pipeline</label><div class=\"sk-toggleable__content\"><pre>Pipeline(steps=[(&#x27;cleaning&#x27;, TextCleaner()),\n                (&#x27;series_converter&#x27;, SeriesConverter()),\n                (&#x27;vectorization&#x27;, TfidfVectorizer(max_df=0.7, min_df=3))])</pre></div></div></div><div class=\"sk-serial\"><div class=\"sk-item\"><div class=\"sk-estimator sk-toggleable\"><input class=\"sk-toggleable__control sk-hidden--visually\" id=\"sk-estimator-id-403\" type=\"checkbox\" ><label for=\"sk-estimator-id-403\" class=\"sk-toggleable__label sk-toggleable__label-arrow\">TextCleaner</label><div class=\"sk-toggleable__content\"><pre>TextCleaner()</pre></div></div></div><div class=\"sk-item\"><div class=\"sk-estimator sk-toggleable\"><input class=\"sk-toggleable__control sk-hidden--visually\" id=\"sk-estimator-id-404\" type=\"checkbox\" ><label for=\"sk-estimator-id-404\" class=\"sk-toggleable__label sk-toggleable__label-arrow\">SeriesConverter</label><div class=\"sk-toggleable__content\"><pre>SeriesConverter()</pre></div></div></div><div class=\"sk-item\"><div class=\"sk-estimator sk-toggleable\"><input class=\"sk-toggleable__control sk-hidden--visually\" id=\"sk-estimator-id-405\" type=\"checkbox\" ><label for=\"sk-estimator-id-405\" class=\"sk-toggleable__label sk-toggleable__label-arrow\">TfidfVectorizer</label><div class=\"sk-toggleable__content\"><pre>TfidfVectorizer(max_df=0.7, min_df=3)</pre></div></div></div></div></div><div class=\"sk-item\"><div class=\"sk-estimator sk-toggleable\"><input class=\"sk-toggleable__control sk-hidden--visually\" id=\"sk-estimator-id-406\" type=\"checkbox\" ><label for=\"sk-estimator-id-406\" class=\"sk-toggleable__label sk-toggleable__label-arrow\">LogisticRegression</label><div class=\"sk-toggleable__content\"><pre>LogisticRegression()</pre></div></div></div></div></div></div></div></div></div></div></div></div></div><div class=\"sk-parallel-item\"><div class=\"sk-item\"><div class=\"sk-label-container\"><div class=\"sk-label sk-toggleable\"><input class=\"sk-toggleable__control sk-hidden--visually\" id=\"sk-estimator-id-407\" type=\"checkbox\" ><label for=\"sk-estimator-id-407\" class=\"sk-toggleable__label sk-toggleable__label-arrow\">d2_ctb_clf</label><div class=\"sk-toggleable__content\"><pre>[&#x27;tweet&#x27;]</pre></div></div></div><div class=\"sk-serial\"><div class=\"sk-item sk-dashed-wrapped\"><div class=\"sk-parallel\"><div class=\"sk-parallel-item\"><div class=\"sk-item\"><div class=\"sk-label-container\"><div class=\"sk-label sk-toggleable\"><input class=\"sk-toggleable__control sk-hidden--visually\" id=\"sk-estimator-id-408\" type=\"checkbox\" ><label for=\"sk-estimator-id-408\" class=\"sk-toggleable__label sk-toggleable__label-arrow\">pipeline: Pipeline</label><div class=\"sk-toggleable__content\"><pre>Pipeline(steps=[(&#x27;NLP&#x27;,\n                 Pipeline(steps=[(&#x27;cleaning&#x27;, TextCleaner()),\n                                 (&#x27;series_converter&#x27;, SeriesConverter()),\n                                 (&#x27;vectorization&#x27;,\n                                  TfidfVectorizer(max_df=0.7, min_df=3))])),\n                (&#x27;regressor&#x27;,\n                 &lt;catboost.core.CatBoostClassifier object at 0x000001ADD408A1A0&gt;)])</pre></div></div></div><div class=\"sk-serial\"><div class=\"sk-item\"><div class=\"sk-serial\"><div class=\"sk-item\"><div class=\"sk-label-container\"><div class=\"sk-label sk-toggleable\"><input class=\"sk-toggleable__control sk-hidden--visually\" id=\"sk-estimator-id-409\" type=\"checkbox\" ><label for=\"sk-estimator-id-409\" class=\"sk-toggleable__label sk-toggleable__label-arrow\">NLP: Pipeline</label><div class=\"sk-toggleable__content\"><pre>Pipeline(steps=[(&#x27;cleaning&#x27;, TextCleaner()),\n                (&#x27;series_converter&#x27;, SeriesConverter()),\n                (&#x27;vectorization&#x27;, TfidfVectorizer(max_df=0.7, min_df=3))])</pre></div></div></div><div class=\"sk-serial\"><div class=\"sk-item\"><div class=\"sk-estimator sk-toggleable\"><input class=\"sk-toggleable__control sk-hidden--visually\" id=\"sk-estimator-id-410\" type=\"checkbox\" ><label for=\"sk-estimator-id-410\" class=\"sk-toggleable__label sk-toggleable__label-arrow\">TextCleaner</label><div class=\"sk-toggleable__content\"><pre>TextCleaner()</pre></div></div></div><div class=\"sk-item\"><div class=\"sk-estimator sk-toggleable\"><input class=\"sk-toggleable__control sk-hidden--visually\" id=\"sk-estimator-id-411\" type=\"checkbox\" ><label for=\"sk-estimator-id-411\" class=\"sk-toggleable__label sk-toggleable__label-arrow\">SeriesConverter</label><div class=\"sk-toggleable__content\"><pre>SeriesConverter()</pre></div></div></div><div class=\"sk-item\"><div class=\"sk-estimator sk-toggleable\"><input class=\"sk-toggleable__control sk-hidden--visually\" id=\"sk-estimator-id-412\" type=\"checkbox\" ><label for=\"sk-estimator-id-412\" class=\"sk-toggleable__label sk-toggleable__label-arrow\">TfidfVectorizer</label><div class=\"sk-toggleable__content\"><pre>TfidfVectorizer(max_df=0.7, min_df=3)</pre></div></div></div></div></div><div class=\"sk-item\"><div class=\"sk-estimator sk-toggleable\"><input class=\"sk-toggleable__control sk-hidden--visually\" id=\"sk-estimator-id-413\" type=\"checkbox\" ><label for=\"sk-estimator-id-413\" class=\"sk-toggleable__label sk-toggleable__label-arrow\">CatBoostClassifier</label><div class=\"sk-toggleable__content\"><pre>&lt;catboost.core.CatBoostClassifier object at 0x000001ADD408A1A0&gt;</pre></div></div></div></div></div></div></div></div></div></div></div></div></div><div class=\"sk-parallel-item\"><div class=\"sk-item\"><div class=\"sk-label-container\"><div class=\"sk-label sk-toggleable\"><input class=\"sk-toggleable__control sk-hidden--visually\" id=\"sk-estimator-id-414\" type=\"checkbox\" ><label for=\"sk-estimator-id-414\" class=\"sk-toggleable__label sk-toggleable__label-arrow\">d3_ctb</label><div class=\"sk-toggleable__content\"><pre>[&#x27;tweet&#x27;]</pre></div></div></div><div class=\"sk-serial\"><div class=\"sk-item sk-dashed-wrapped\"><div class=\"sk-parallel\"><div class=\"sk-parallel-item\"><div class=\"sk-item\"><div class=\"sk-label-container\"><div class=\"sk-label sk-toggleable\"><input class=\"sk-toggleable__control sk-hidden--visually\" id=\"sk-estimator-id-415\" type=\"checkbox\" ><label for=\"sk-estimator-id-415\" class=\"sk-toggleable__label sk-toggleable__label-arrow\">pipeline: Pipeline</label><div class=\"sk-toggleable__content\"><pre>Pipeline(steps=[(&#x27;NLP&#x27;,\n                 Pipeline(steps=[(&#x27;cleaning&#x27;, TextCleaner()),\n                                 (&#x27;series_converter&#x27;, SeriesConverter()),\n                                 (&#x27;vectorization&#x27;,\n                                  TfidfVectorizer(max_df=0.7, min_df=3))])),\n                (&#x27;regressor&#x27;,\n                 &lt;catboost.core.CatBoostClassifier object at 0x000001ADD408AD40&gt;)])</pre></div></div></div><div class=\"sk-serial\"><div class=\"sk-item\"><div class=\"sk-serial\"><div class=\"sk-item\"><div class=\"sk-label-container\"><div class=\"sk-label sk-toggleable\"><input class=\"sk-toggleable__control sk-hidden--visually\" id=\"sk-estimator-id-416\" type=\"checkbox\" ><label for=\"sk-estimator-id-416\" class=\"sk-toggleable__label sk-toggleable__label-arrow\">NLP: Pipeline</label><div class=\"sk-toggleable__content\"><pre>Pipeline(steps=[(&#x27;cleaning&#x27;, TextCleaner()),\n                (&#x27;series_converter&#x27;, SeriesConverter()),\n                (&#x27;vectorization&#x27;, TfidfVectorizer(max_df=0.7, min_df=3))])</pre></div></div></div><div class=\"sk-serial\"><div class=\"sk-item\"><div class=\"sk-estimator sk-toggleable\"><input class=\"sk-toggleable__control sk-hidden--visually\" id=\"sk-estimator-id-417\" type=\"checkbox\" ><label for=\"sk-estimator-id-417\" class=\"sk-toggleable__label sk-toggleable__label-arrow\">TextCleaner</label><div class=\"sk-toggleable__content\"><pre>TextCleaner()</pre></div></div></div><div class=\"sk-item\"><div class=\"sk-estimator sk-toggleable\"><input class=\"sk-toggleable__control sk-hidden--visually\" id=\"sk-estimator-id-418\" type=\"checkbox\" ><label for=\"sk-estimator-id-418\" class=\"sk-toggleable__label sk-toggleable__label-arrow\">SeriesConverter</label><div class=\"sk-toggleable__content\"><pre>SeriesConverter()</pre></div></div></div><div class=\"sk-item\"><div class=\"sk-estimator sk-toggleable\"><input class=\"sk-toggleable__control sk-hidden--visually\" id=\"sk-estimator-id-419\" type=\"checkbox\" ><label for=\"sk-estimator-id-419\" class=\"sk-toggleable__label sk-toggleable__label-arrow\">TfidfVectorizer</label><div class=\"sk-toggleable__content\"><pre>TfidfVectorizer(max_df=0.7, min_df=3)</pre></div></div></div></div></div><div class=\"sk-item\"><div class=\"sk-estimator sk-toggleable\"><input class=\"sk-toggleable__control sk-hidden--visually\" id=\"sk-estimator-id-420\" type=\"checkbox\" ><label for=\"sk-estimator-id-420\" class=\"sk-toggleable__label sk-toggleable__label-arrow\">CatBoostClassifier</label><div class=\"sk-toggleable__content\"><pre>&lt;catboost.core.CatBoostClassifier object at 0x000001ADD408AD40&gt;</pre></div></div></div></div></div></div></div></div></div></div></div></div></div><div class=\"sk-parallel-item\"><div class=\"sk-item\"><div class=\"sk-label-container\"><div class=\"sk-label sk-toggleable\"><input class=\"sk-toggleable__control sk-hidden--visually\" id=\"sk-estimator-id-421\" type=\"checkbox\" ><label for=\"sk-estimator-id-421\" class=\"sk-toggleable__label sk-toggleable__label-arrow\">feat_gen</label><div class=\"sk-toggleable__content\"><pre>[&#x27;tweet&#x27;]</pre></div></div></div><div class=\"sk-serial\"><div class=\"sk-item\"><div class=\"sk-estimator sk-toggleable\"><input class=\"sk-toggleable__control sk-hidden--visually\" id=\"sk-estimator-id-422\" type=\"checkbox\" ><label for=\"sk-estimator-id-422\" class=\"sk-toggleable__label sk-toggleable__label-arrow\">FeatureGenerator</label><div class=\"sk-toggleable__content\"><pre>FeatureGenerator()</pre></div></div></div></div></div></div><div class=\"sk-parallel-item\"><div class=\"sk-item\"><div class=\"sk-label-container\"><div class=\"sk-label sk-toggleable\"><input class=\"sk-toggleable__control sk-hidden--visually\" id=\"sk-estimator-id-423\" type=\"checkbox\" ><label for=\"sk-estimator-id-423\" class=\"sk-toggleable__label sk-toggleable__label-arrow\">bert_clf</label><div class=\"sk-toggleable__content\"><pre>[&#x27;tweet&#x27;]</pre></div></div></div><div class=\"sk-serial\"><div class=\"sk-item\"><div class=\"sk-serial\"><div class=\"sk-item\"><div class=\"sk-estimator sk-toggleable\"><input class=\"sk-toggleable__control sk-hidden--visually\" id=\"sk-estimator-id-424\" type=\"checkbox\" ><label for=\"sk-estimator-id-424\" class=\"sk-toggleable__label sk-toggleable__label-arrow\">TextCleaner</label><div class=\"sk-toggleable__content\"><pre>TextCleaner()</pre></div></div></div><div class=\"sk-item\"><div class=\"sk-estimator sk-toggleable\"><input class=\"sk-toggleable__control sk-hidden--visually\" id=\"sk-estimator-id-425\" type=\"checkbox\" ><label for=\"sk-estimator-id-425\" class=\"sk-toggleable__label sk-toggleable__label-arrow\">SeriesConverter</label><div class=\"sk-toggleable__content\"><pre>SeriesConverter()</pre></div></div></div><div class=\"sk-item\"><div class=\"sk-estimator sk-toggleable\"><input class=\"sk-toggleable__control sk-hidden--visually\" id=\"sk-estimator-id-426\" type=\"checkbox\" ><label for=\"sk-estimator-id-426\" class=\"sk-toggleable__label sk-toggleable__label-arrow\">BertClassifier</label><div class=\"sk-toggleable__content\"><pre>&lt;__main__.BertClassifier object at 0x000001ADDAC021A0&gt;</pre></div></div></div></div></div></div></div></div></div></div><div class=\"sk-item\"><div class=\"sk-label-container\"><div class=\"sk-label sk-toggleable\"><input class=\"sk-toggleable__control sk-hidden--visually\" id=\"sk-estimator-id-427\" type=\"checkbox\" ><label for=\"sk-estimator-id-427\" class=\"sk-toggleable__label sk-toggleable__label-arrow\">regressor: StackingClassifier</label><div class=\"sk-toggleable__content\"><pre>StackingClassifier(estimators=[(&#x27;logistic_regression&#x27;,\n                                LogisticRegression(C=0.001,\n                                                   solver=&#x27;newton-cg&#x27;)),\n                               (&#x27;random_forest&#x27;,\n                                RandomForestClassifier(max_depth=12,\n                                                       min_samples_leaf=4,\n                                                       min_samples_split=12,\n                                                       n_estimators=128)),\n                               (&#x27;xgboost&#x27;,\n                                XGBClassifier(base_score=None, booster=None,\n                                              callbacks=None,\n                                              colsample_bylevel=None,\n                                              colsample_bynode=None,\n                                              colsample_bytree=None,...\n                                              importance_type=None,\n                                              interaction_constraints=None,\n                                              learning_rate=0.1, max_bin=None,\n                                              max_cat_threshold=None,\n                                              max_cat_to_onehot=None,\n                                              max_delta_step=None, max_depth=8,\n                                              max_leaves=None,\n                                              min_child_weight=8, missing=nan,\n                                              monotone_constraints=None,\n                                              n_estimators=128, n_jobs=None,\n                                              num_parallel_tree=None,\n                                              predictor=None, random_state=None, ...))],\n                   final_estimator=LogisticRegression())</pre></div></div></div><div class=\"sk-serial\"><div class=\"sk-item\"><div class=\"sk-parallel\"><div class=\"sk-parallel-item\"><div class=\"sk-item\"><div class=\"sk-label-container\"><div class=\"sk-label sk-toggleable\"><label>logistic_regression</label></div></div><div class=\"sk-serial\"><div class=\"sk-item\"><div class=\"sk-estimator sk-toggleable\"><input class=\"sk-toggleable__control sk-hidden--visually\" id=\"sk-estimator-id-428\" type=\"checkbox\" ><label for=\"sk-estimator-id-428\" class=\"sk-toggleable__label sk-toggleable__label-arrow\">LogisticRegression</label><div class=\"sk-toggleable__content\"><pre>LogisticRegression(C=0.001, solver=&#x27;newton-cg&#x27;)</pre></div></div></div></div></div></div><div class=\"sk-parallel-item\"><div class=\"sk-item\"><div class=\"sk-label-container\"><div class=\"sk-label sk-toggleable\"><label>random_forest</label></div></div><div class=\"sk-serial\"><div class=\"sk-item\"><div class=\"sk-estimator sk-toggleable\"><input class=\"sk-toggleable__control sk-hidden--visually\" id=\"sk-estimator-id-429\" type=\"checkbox\" ><label for=\"sk-estimator-id-429\" class=\"sk-toggleable__label sk-toggleable__label-arrow\">RandomForestClassifier</label><div class=\"sk-toggleable__content\"><pre>RandomForestClassifier(max_depth=12, min_samples_leaf=4, min_samples_split=12,\n                       n_estimators=128)</pre></div></div></div></div></div></div><div class=\"sk-parallel-item\"><div class=\"sk-item\"><div class=\"sk-label-container\"><div class=\"sk-label sk-toggleable\"><label>xgboost</label></div></div><div class=\"sk-serial\"><div class=\"sk-item\"><div class=\"sk-estimator sk-toggleable\"><input class=\"sk-toggleable__control sk-hidden--visually\" id=\"sk-estimator-id-430\" type=\"checkbox\" ><label for=\"sk-estimator-id-430\" class=\"sk-toggleable__label sk-toggleable__label-arrow\">XGBClassifier</label><div class=\"sk-toggleable__content\"><pre>XGBClassifier(base_score=None, booster=None, callbacks=None,\n              colsample_bylevel=None, colsample_bynode=None,\n              colsample_bytree=None, early_stopping_rounds=None,\n              enable_categorical=False, eval_metric=None, feature_types=None,\n              gamma=None, gpu_id=None, grow_policy=None, importance_type=None,\n              interaction_constraints=None, learning_rate=0.1, max_bin=None,\n              max_cat_threshold=None, max_cat_to_onehot=None,\n              max_delta_step=None, max_depth=8, max_leaves=None,\n              min_child_weight=8, missing=nan, monotone_constraints=None,\n              n_estimators=128, n_jobs=None, num_parallel_tree=None,\n              predictor=None, random_state=None, ...)</pre></div></div></div></div></div></div></div></div><div class=\"sk-item\"><div class=\"sk-parallel\"><div class=\"sk-parallel-item\"><div class=\"sk-item\"><div class=\"sk-label-container\"><div class=\"sk-label sk-toggleable\"><label>final_estimator</label></div></div><div class=\"sk-serial\"><div class=\"sk-item\"><div class=\"sk-estimator sk-toggleable\"><input class=\"sk-toggleable__control sk-hidden--visually\" id=\"sk-estimator-id-431\" type=\"checkbox\" ><label for=\"sk-estimator-id-431\" class=\"sk-toggleable__label sk-toggleable__label-arrow\">LogisticRegression</label><div class=\"sk-toggleable__content\"><pre>LogisticRegression()</pre></div></div></div></div></div></div></div></div></div></div></div></div></div></div>"
     },
     "execution_count": 212,
     "metadata": {},
     "output_type": "execute_result"
    }
   ],
   "source": [
    "stacking_pipeline"
   ]
  },
  {
   "cell_type": "code",
   "execution_count": 215,
   "outputs": [],
   "source": [
    "dummy_median = make_pipeline(\n",
    "    DummyClassifier(strategy='stratified'),\n",
    ")"
   ],
   "metadata": {
    "collapsed": false,
    "pycharm": {
     "name": "#%%\n"
    }
   }
  },
  {
   "cell_type": "code",
   "execution_count": 216,
   "outputs": [
    {
     "data": {
      "text/plain": "Pipeline(steps=[('dummyclassifier', DummyClassifier(strategy='stratified'))])",
      "text/html": "<style>#sk-container-id-35 {color: black;background-color: white;}#sk-container-id-35 pre{padding: 0;}#sk-container-id-35 div.sk-toggleable {background-color: white;}#sk-container-id-35 label.sk-toggleable__label {cursor: pointer;display: block;width: 100%;margin-bottom: 0;padding: 0.3em;box-sizing: border-box;text-align: center;}#sk-container-id-35 label.sk-toggleable__label-arrow:before {content: \"▸\";float: left;margin-right: 0.25em;color: #696969;}#sk-container-id-35 label.sk-toggleable__label-arrow:hover:before {color: black;}#sk-container-id-35 div.sk-estimator:hover label.sk-toggleable__label-arrow:before {color: black;}#sk-container-id-35 div.sk-toggleable__content {max-height: 0;max-width: 0;overflow: hidden;text-align: left;background-color: #f0f8ff;}#sk-container-id-35 div.sk-toggleable__content pre {margin: 0.2em;color: black;border-radius: 0.25em;background-color: #f0f8ff;}#sk-container-id-35 input.sk-toggleable__control:checked~div.sk-toggleable__content {max-height: 200px;max-width: 100%;overflow: auto;}#sk-container-id-35 input.sk-toggleable__control:checked~label.sk-toggleable__label-arrow:before {content: \"▾\";}#sk-container-id-35 div.sk-estimator input.sk-toggleable__control:checked~label.sk-toggleable__label {background-color: #d4ebff;}#sk-container-id-35 div.sk-label input.sk-toggleable__control:checked~label.sk-toggleable__label {background-color: #d4ebff;}#sk-container-id-35 input.sk-hidden--visually {border: 0;clip: rect(1px 1px 1px 1px);clip: rect(1px, 1px, 1px, 1px);height: 1px;margin: -1px;overflow: hidden;padding: 0;position: absolute;width: 1px;}#sk-container-id-35 div.sk-estimator {font-family: monospace;background-color: #f0f8ff;border: 1px dotted black;border-radius: 0.25em;box-sizing: border-box;margin-bottom: 0.5em;}#sk-container-id-35 div.sk-estimator:hover {background-color: #d4ebff;}#sk-container-id-35 div.sk-parallel-item::after {content: \"\";width: 100%;border-bottom: 1px solid gray;flex-grow: 1;}#sk-container-id-35 div.sk-label:hover label.sk-toggleable__label {background-color: #d4ebff;}#sk-container-id-35 div.sk-serial::before {content: \"\";position: absolute;border-left: 1px solid gray;box-sizing: border-box;top: 0;bottom: 0;left: 50%;z-index: 0;}#sk-container-id-35 div.sk-serial {display: flex;flex-direction: column;align-items: center;background-color: white;padding-right: 0.2em;padding-left: 0.2em;position: relative;}#sk-container-id-35 div.sk-item {position: relative;z-index: 1;}#sk-container-id-35 div.sk-parallel {display: flex;align-items: stretch;justify-content: center;background-color: white;position: relative;}#sk-container-id-35 div.sk-item::before, #sk-container-id-35 div.sk-parallel-item::before {content: \"\";position: absolute;border-left: 1px solid gray;box-sizing: border-box;top: 0;bottom: 0;left: 50%;z-index: -1;}#sk-container-id-35 div.sk-parallel-item {display: flex;flex-direction: column;z-index: 1;position: relative;background-color: white;}#sk-container-id-35 div.sk-parallel-item:first-child::after {align-self: flex-end;width: 50%;}#sk-container-id-35 div.sk-parallel-item:last-child::after {align-self: flex-start;width: 50%;}#sk-container-id-35 div.sk-parallel-item:only-child::after {width: 0;}#sk-container-id-35 div.sk-dashed-wrapped {border: 1px dashed gray;margin: 0 0.4em 0.5em 0.4em;box-sizing: border-box;padding-bottom: 0.4em;background-color: white;}#sk-container-id-35 div.sk-label label {font-family: monospace;font-weight: bold;display: inline-block;line-height: 1.2em;}#sk-container-id-35 div.sk-label-container {text-align: center;}#sk-container-id-35 div.sk-container {/* jupyter's `normalize.less` sets `[hidden] { display: none; }` but bootstrap.min.css set `[hidden] { display: none !important; }` so we also need the `!important` here to be able to override the default hidden behavior on the sphinx rendered scikit-learn.org. See: https://github.com/scikit-learn/scikit-learn/issues/21755 */display: inline-block !important;position: relative;}#sk-container-id-35 div.sk-text-repr-fallback {display: none;}</style><div id=\"sk-container-id-35\" class=\"sk-top-container\"><div class=\"sk-text-repr-fallback\"><pre>Pipeline(steps=[(&#x27;dummyclassifier&#x27;, DummyClassifier(strategy=&#x27;stratified&#x27;))])</pre><b>In a Jupyter environment, please rerun this cell to show the HTML representation or trust the notebook. <br />On GitHub, the HTML representation is unable to render, please try loading this page with nbviewer.org.</b></div><div class=\"sk-container\" hidden><div class=\"sk-item sk-dashed-wrapped\"><div class=\"sk-label-container\"><div class=\"sk-label sk-toggleable\"><input class=\"sk-toggleable__control sk-hidden--visually\" id=\"sk-estimator-id-432\" type=\"checkbox\" ><label for=\"sk-estimator-id-432\" class=\"sk-toggleable__label sk-toggleable__label-arrow\">Pipeline</label><div class=\"sk-toggleable__content\"><pre>Pipeline(steps=[(&#x27;dummyclassifier&#x27;, DummyClassifier(strategy=&#x27;stratified&#x27;))])</pre></div></div></div><div class=\"sk-serial\"><div class=\"sk-item\"><div class=\"sk-estimator sk-toggleable\"><input class=\"sk-toggleable__control sk-hidden--visually\" id=\"sk-estimator-id-433\" type=\"checkbox\" ><label for=\"sk-estimator-id-433\" class=\"sk-toggleable__label sk-toggleable__label-arrow\">DummyClassifier</label><div class=\"sk-toggleable__content\"><pre>DummyClassifier(strategy=&#x27;stratified&#x27;)</pre></div></div></div></div></div></div></div>"
     },
     "execution_count": 216,
     "metadata": {},
     "output_type": "execute_result"
    }
   ],
   "source": [
    "dummy_median.fit(X_train, y_train)"
   ],
   "metadata": {
    "collapsed": false,
    "pycharm": {
     "name": "#%%\n"
    }
   }
  },
  {
   "cell_type": "code",
   "execution_count": 217,
   "outputs": [
    {
     "name": "stdout",
     "output_type": "stream",
     "text": [
      "              precision    recall  f1-score   support\n",
      "\n",
      "           0       0.40      0.40      0.40      1636\n",
      "           1       0.29      0.31      0.30      1165\n",
      "           2       0.31      0.29      0.30      1229\n",
      "\n",
      "    accuracy                           0.34      4030\n",
      "   macro avg       0.33      0.33      0.33      4030\n",
      "weighted avg       0.34      0.34      0.34      4030\n",
      "\n",
      "[[654 525 457]\n",
      " [468 362 335]\n",
      " [509 360 360]]\n"
     ]
    }
   ],
   "source": [
    "prediction = dummy_median.predict(X_test)\n",
    "with warnings.catch_warnings():\n",
    "    warnings.simplefilter(\"ignore\")\n",
    "    print(classification_report(prediction, y_test))\n",
    "    print(confusion_matrix(prediction, y_test))"
   ],
   "metadata": {
    "collapsed": false,
    "pycharm": {
     "name": "#%%\n"
    }
   }
  },
  {
   "cell_type": "code",
   "execution_count": 220,
   "metadata": {
    "pycharm": {
     "name": "#%%\n"
    }
   },
   "outputs": [
    {
     "data": {
      "text/plain": "                                        tweet  label\n0           Sasha goes to Mannheim University      1\n1      Danylo will create a great application      1\n2  Danylo will not create a great application      0\n3                Dasha didnt fulfill her task      0\n4                      You suck a dick, nigga      1\n5                               fuck jews idk      1\n6                       you are a good person      0",
      "text/html": "<div>\n<style scoped>\n    .dataframe tbody tr th:only-of-type {\n        vertical-align: middle;\n    }\n\n    .dataframe tbody tr th {\n        vertical-align: top;\n    }\n\n    .dataframe thead th {\n        text-align: right;\n    }\n</style>\n<table border=\"1\" class=\"dataframe\">\n  <thead>\n    <tr style=\"text-align: right;\">\n      <th></th>\n      <th>tweet</th>\n      <th>label</th>\n    </tr>\n  </thead>\n  <tbody>\n    <tr>\n      <th>0</th>\n      <td>Sasha goes to Mannheim University</td>\n      <td>1</td>\n    </tr>\n    <tr>\n      <th>1</th>\n      <td>Danylo will create a great application</td>\n      <td>1</td>\n    </tr>\n    <tr>\n      <th>2</th>\n      <td>Danylo will not create a great application</td>\n      <td>0</td>\n    </tr>\n    <tr>\n      <th>3</th>\n      <td>Dasha didnt fulfill her task</td>\n      <td>0</td>\n    </tr>\n    <tr>\n      <th>4</th>\n      <td>You suck a dick, nigga</td>\n      <td>1</td>\n    </tr>\n    <tr>\n      <th>5</th>\n      <td>fuck jews idk</td>\n      <td>1</td>\n    </tr>\n    <tr>\n      <th>6</th>\n      <td>you are a good person</td>\n      <td>0</td>\n    </tr>\n  </tbody>\n</table>\n</div>"
     },
     "execution_count": 220,
     "metadata": {},
     "output_type": "execute_result"
    }
   ],
   "source": [
    "data_sample"
   ]
  },
  {
   "cell_type": "code",
   "execution_count": 221,
   "metadata": {
    "pycharm": {
     "name": "#%%\n"
    }
   },
   "outputs": [
    {
     "data": {
      "text/plain": "array([[0.55934579, 0.30049021, 0.140164  ],\n       [0.61291008, 0.17353395, 0.21355597],\n       [0.61829964, 0.20173184, 0.17996852],\n       [0.55330361, 0.28830191, 0.15839448],\n       [0.63120178, 0.25194996, 0.11684826],\n       [0.05304254, 0.8806862 , 0.06627126],\n       [0.32551952, 0.33887558, 0.3356049 ]])"
     },
     "execution_count": 221,
     "metadata": {},
     "output_type": "execute_result"
    }
   ],
   "source": [
    "stacking_pipeline.predict_proba(data_sample)"
   ]
  },
  {
   "cell_type": "code",
   "execution_count": 222,
   "outputs": [
    {
     "data": {
      "text/plain": "array([0, 0, 0, 0, 0, 1, 1], dtype=int64)"
     },
     "execution_count": 222,
     "metadata": {},
     "output_type": "execute_result"
    }
   ],
   "source": [
    "stacking_pipeline.predict(data_sample)"
   ],
   "metadata": {
    "collapsed": false,
    "pycharm": {
     "name": "#%%\n"
    }
   }
  },
  {
   "cell_type": "markdown",
   "source": [
    "#### Hyperparameter optimization"
   ],
   "metadata": {
    "collapsed": false,
    "pycharm": {
     "name": "#%% md\n"
    }
   }
  },
  {
   "cell_type": "code",
   "execution_count": null,
   "outputs": [],
   "source": [
    "# Define the parameter grid to search over\n",
    "param_grid = {\n",
    "    'n_estimators': [128, 256],\n",
    "    'max_depth': [2, 4, 8, 12],\n",
    "    'min_samples_split': [12, 16, 20],\n",
    "    'min_samples_leaf': [4],\n",
    "}\n",
    "\n",
    "# Create a RandomForestClassifier object\n",
    "model = RandomForestClassifier()\n",
    "\n",
    "param_grid = {\n",
    "    'max_depth': [2, 4, 8],\n",
    "    'learning_rate': [0.01, 0.1],\n",
    "    'n_estimators': [128, 256],\n",
    "    'min_child_weight': [1, 2, 4, 8],\n",
    "    'tree_method': ['gpu_hist'],\n",
    "}\n",
    "\n",
    "model = XGBClassifier()\n",
    "\n",
    "param_grid = {'penalty': ['l2', 'elasticnet'],\n",
    "              'C': [0.001, 0.01, 0.1, 1, 100],\n",
    "              'fit_intercept': [True, False],\n",
    "              'solver': ['newton-cg', 'lbfgs', 'liblinear'],\n",
    "              'max_iter': [100, 1000, 5000]}\n",
    "\n",
    "model = LogisticRegression()\n",
    "\n",
    "scorer = make_scorer(f1_score, average='weighted')\n",
    "\n",
    "# Create a GridSearchCV object and fit the data\n",
    "start = time.time()\n",
    "grid_search = GridSearchCV(model, param_grid=param_grid, cv=3, n_jobs=-1, scoring=scorer)\n",
    "grid_search.fit(X_train, y_train)\n",
    "\n",
    "# Print the best hyperparameters and accuracy score\n",
    "print(\"Best parameters: \", grid_search.best_params_)\n",
    "print(\"Best accuracy: \", grid_search.best_score_)\n",
    "end = time.time()\n",
    "print(f\"Computation tmie: {end - start}\")"
   ],
   "metadata": {
    "collapsed": false,
    "pycharm": {
     "name": "#%%\n"
    }
   }
  },
  {
   "cell_type": "code",
   "execution_count": null,
   "outputs": [],
   "source": [],
   "metadata": {
    "collapsed": false,
    "pycharm": {
     "name": "#%%\n"
    }
   }
  },
  {
   "cell_type": "code",
   "execution_count": null,
   "metadata": {
    "pycharm": {
     "name": "#%%\n"
    }
   },
   "outputs": [],
   "source": []
  }
 ],
 "metadata": {
  "kernelspec": {
   "display_name": "Python 3 (ipykernel)",
   "language": "python",
   "name": "python3"
  },
  "language_info": {
   "codemirror_mode": {
    "name": "ipython",
    "version": 3
   },
   "file_extension": ".py",
   "mimetype": "text/x-python",
   "name": "python",
   "nbconvert_exporter": "python",
   "pygments_lexer": "ipython3",
   "version": "3.9.12"
  }
 },
 "nbformat": 4,
 "nbformat_minor": 1
}
