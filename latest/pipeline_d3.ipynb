{
 "cells": [
  {
   "cell_type": "code",
   "execution_count": 1,
   "outputs": [],
   "source": [
    "import pandas as pd\n",
    "from catboost import CatBoostClassifier\n",
    "from lightgbm import LGBMClassifier\n",
    "from matplotlib import pyplot as plt\n",
    "from sklearn.dummy import DummyClassifier\n",
    "from sklearn.ensemble import RandomForestClassifier\n",
    "from sklearn.linear_model import LogisticRegression\n",
    "from sklearn.pipeline import make_pipeline\n",
    "from xgboost import XGBClassifier\n",
    "\n",
    "from notebooks.Dzim.data_mining.validation.training import estimate_multiple_models, estimate_model"
   ],
   "metadata": {
    "collapsed": false,
    "pycharm": {
     "name": "#%%\n"
    }
   }
  },
  {
   "cell_type": "code",
   "execution_count": 2,
   "outputs": [],
   "source": [
    "plt.rcParams['figure.facecolor'] = 'white'"
   ],
   "metadata": {
    "collapsed": false,
    "pycharm": {
     "name": "#%%\n"
    }
   }
  },
  {
   "cell_type": "code",
   "execution_count": 3,
   "outputs": [],
   "source": [
    "%load_ext autoreload\n",
    "%autoreload 2"
   ],
   "metadata": {
    "collapsed": false,
    "pycharm": {
     "name": "#%%\n"
    }
   }
  },
  {
   "cell_type": "markdown",
   "source": [
    "#### Loading data"
   ],
   "metadata": {
    "collapsed": false,
    "pycharm": {
     "name": "#%% md\n"
    }
   }
  },
  {
   "cell_type": "code",
   "execution_count": 4,
   "outputs": [],
   "source": [
    "data = pd.read_csv('data3.csv')"
   ],
   "metadata": {
    "collapsed": false,
    "pycharm": {
     "name": "#%%\n"
    }
   }
  },
  {
   "cell_type": "code",
   "execution_count": 5,
   "outputs": [],
   "source": [
    "data = data.loc[data['label'].isin(['hate', 'noHate'])]\n",
    "data['label'] = (data['label'] == 'hate').astype(int)\n",
    "data.columns = ['tweet', 'label']"
   ],
   "metadata": {
    "collapsed": false,
    "pycharm": {
     "name": "#%%\n"
    }
   }
  },
  {
   "cell_type": "code",
   "execution_count": 6,
   "outputs": [
    {
     "data": {
      "text/plain": "                                               tweet  label\n0  As of March 13th , 2014 , the booklet had been...      0\n1  Thank you in advance. : ) Download the youtube...      0\n2  In order to help increase the booklets downloa...      0\n3  ( Simply copy and paste the following text int...      0\n4  Click below for a FREE download of a colorfull...      1",
      "text/html": "<div>\n<style scoped>\n    .dataframe tbody tr th:only-of-type {\n        vertical-align: middle;\n    }\n\n    .dataframe tbody tr th {\n        vertical-align: top;\n    }\n\n    .dataframe thead th {\n        text-align: right;\n    }\n</style>\n<table border=\"1\" class=\"dataframe\">\n  <thead>\n    <tr style=\"text-align: right;\">\n      <th></th>\n      <th>tweet</th>\n      <th>label</th>\n    </tr>\n  </thead>\n  <tbody>\n    <tr>\n      <th>0</th>\n      <td>As of March 13th , 2014 , the booklet had been...</td>\n      <td>0</td>\n    </tr>\n    <tr>\n      <th>1</th>\n      <td>Thank you in advance. : ) Download the youtube...</td>\n      <td>0</td>\n    </tr>\n    <tr>\n      <th>2</th>\n      <td>In order to help increase the booklets downloa...</td>\n      <td>0</td>\n    </tr>\n    <tr>\n      <th>3</th>\n      <td>( Simply copy and paste the following text int...</td>\n      <td>0</td>\n    </tr>\n    <tr>\n      <th>4</th>\n      <td>Click below for a FREE download of a colorfull...</td>\n      <td>1</td>\n    </tr>\n  </tbody>\n</table>\n</div>"
     },
     "execution_count": 6,
     "metadata": {},
     "output_type": "execute_result"
    }
   ],
   "source": [
    "data.head()"
   ],
   "metadata": {
    "collapsed": false,
    "pycharm": {
     "name": "#%%\n"
    }
   }
  },
  {
   "cell_type": "code",
   "execution_count": 7,
   "outputs": [
    {
     "data": {
      "text/plain": "0    9507\n1    1196\nName: label, dtype: int64"
     },
     "execution_count": 7,
     "metadata": {},
     "output_type": "execute_result"
    }
   ],
   "source": [
    "data.label.value_counts()"
   ],
   "metadata": {
    "collapsed": false,
    "pycharm": {
     "name": "#%%\n"
    }
   }
  },
  {
   "cell_type": "code",
   "execution_count": 8,
   "outputs": [],
   "source": [
    "data_sample = pd.DataFrame({\n",
    "    'tweet': [\n",
    "        'Sasha goes to Mannheim University',\n",
    "        'Danylo will create a great application',\n",
    "        'Danylo will not create a great application',\n",
    "        'Dasha didnt fulfill her task'\n",
    "    ],\n",
    "    'label': [1, 1, 0, 0]\n",
    "})"
   ],
   "metadata": {
    "collapsed": false,
    "pycharm": {
     "name": "#%%\n"
    }
   }
  },
  {
   "cell_type": "markdown",
   "source": [
    "#### Preprocessing"
   ],
   "metadata": {
    "collapsed": false,
    "pycharm": {
     "name": "#%% md\n"
    }
   }
  },
  {
   "cell_type": "code",
   "execution_count": 9,
   "outputs": [
    {
     "name": "stderr",
     "output_type": "stream",
     "text": [
      "[nltk_data] Downloading package stopwords to\n",
      "[nltk_data]     C:\\Users\\dzmit\\AppData\\Roaming\\nltk_data...\n",
      "[nltk_data]   Package stopwords is already up-to-date!\n",
      "[nltk_data] Downloading package punkt to\n",
      "[nltk_data]     C:\\Users\\dzmit\\AppData\\Roaming\\nltk_data...\n",
      "[nltk_data]   Package punkt is already up-to-date!\n",
      "[nltk_data] Downloading package averaged_perceptron_tagger to\n",
      "[nltk_data]     C:\\Users\\dzmit\\AppData\\Roaming\\nltk_data...\n",
      "[nltk_data]   Package averaged_perceptron_tagger is already up-to-\n",
      "[nltk_data]       date!\n",
      "[nltk_data] Downloading package wordnet to\n",
      "[nltk_data]     C:\\Users\\dzmit\\AppData\\Roaming\\nltk_data...\n",
      "[nltk_data]   Package wordnet is already up-to-date!\n"
     ]
    }
   ],
   "source": [
    "from sklearn.pipeline import Pipeline\n",
    "from notebooks.Dzim.web_mining.bert_processor import TextCleaner, SeriesConverter\n",
    "from sklearn.feature_extraction.text import TfidfVectorizer\n",
    "from sklearn.model_selection import train_test_split"
   ],
   "metadata": {
    "collapsed": false,
    "pycharm": {
     "name": "#%%\n"
    }
   }
  },
  {
   "cell_type": "code",
   "execution_count": 10,
   "outputs": [],
   "source": [
    "target = 'label'"
   ],
   "metadata": {
    "collapsed": false,
    "pycharm": {
     "name": "#%%\n"
    }
   }
  },
  {
   "cell_type": "code",
   "execution_count": 11,
   "outputs": [],
   "source": [
    "# Split the data into train and test sets\n",
    "data_train, data_test, y_train, y_test = train_test_split(data[['tweet']], data[target], test_size=0.2, random_state=42)"
   ],
   "metadata": {
    "collapsed": false,
    "pycharm": {
     "name": "#%%\n"
    }
   }
  },
  {
   "cell_type": "code",
   "execution_count": 12,
   "outputs": [
    {
     "data": {
      "text/plain": "((8562, 1), (2141, 1))"
     },
     "execution_count": 12,
     "metadata": {},
     "output_type": "execute_result"
    }
   ],
   "source": [
    "data_train.shape, data_test.shape"
   ],
   "metadata": {
    "collapsed": false,
    "pycharm": {
     "name": "#%%\n"
    }
   }
  },
  {
   "cell_type": "code",
   "execution_count": 13,
   "outputs": [],
   "source": [
    "# Define the pipeline\n",
    "nlp = Pipeline([\n",
    "    (\"cleaning\", TextCleaner()),\n",
    "    (\"series_converter\", SeriesConverter()),\n",
    "    (\"vectorization\", TfidfVectorizer(max_df=0.7, min_df=3)),\n",
    "])"
   ],
   "metadata": {
    "collapsed": false,
    "pycharm": {
     "name": "#%%\n"
    }
   }
  },
  {
   "cell_type": "code",
   "execution_count": 14,
   "outputs": [],
   "source": [
    "# Fit-transform the training data\n",
    "X_train = nlp.fit_transform(data_train)  #.toarray()"
   ],
   "metadata": {
    "collapsed": false,
    "pycharm": {
     "name": "#%%\n"
    }
   }
  },
  {
   "cell_type": "code",
   "execution_count": 15,
   "outputs": [],
   "source": [
    "# Transform the test data\n",
    "X_test = nlp.transform(data_test)"
   ],
   "metadata": {
    "collapsed": false,
    "pycharm": {
     "name": "#%%\n"
    }
   }
  },
  {
   "cell_type": "markdown",
   "metadata": {
    "pycharm": {
     "name": "#%% md\n"
    }
   },
   "source": [
    "#### Models"
   ]
  },
  {
   "cell_type": "code",
   "execution_count": 27,
   "metadata": {
    "pycharm": {
     "name": "#%%\n"
    }
   },
   "outputs": [],
   "source": [
    "dummy_mean = make_pipeline(\n",
    "    DummyClassifier(strategy='most_frequent'),\n",
    ")\n",
    "dummy_median = make_pipeline(\n",
    "    DummyClassifier(strategy='stratified'),\n",
    ")"
   ]
  },
  {
   "cell_type": "code",
   "execution_count": 28,
   "metadata": {
    "pycharm": {
     "name": "#%%\n"
    }
   },
   "outputs": [],
   "source": [
    "lr = make_pipeline(\n",
    "    LogisticRegression(),\n",
    ")"
   ]
  },
  {
   "cell_type": "code",
   "execution_count": 80,
   "metadata": {
    "pycharm": {
     "name": "#%%\n"
    }
   },
   "outputs": [],
   "source": [
    "ctb = make_pipeline(\n",
    "    CatBoostClassifier()\n",
    ")\n",
    "xgb_parameters = {\n",
    "    'learning_rate': 0.01,\n",
    "    'max_depth': 9,\n",
    "    'min_child_weight': 3,\n",
    "    'n_estimators': 300\n",
    "\n",
    "}\n",
    "\n",
    "xgb = make_pipeline(\n",
    "    XGBClassifier(**xgb_parameters)\n",
    ")\n",
    "\n",
    "lgbm_parameters = {\n",
    "    'boosting_type': 'dart',\n",
    "    'learning_rate': 0.1,\n",
    "    'n_estimators': 100,\n",
    "    'num_leaves': 20\n",
    "}\n",
    "\n",
    "lgbm = make_pipeline(\n",
    "    LGBMClassifier(**lgbm_parameters)\n",
    ")\n",
    "\n",
    "rfc_parameters = {\n",
    "    'max_depth': None,\n",
    "    'min_samples_leaf': 1,\n",
    "    'min_samples_split': 10,\n",
    "    'n_estimators': 300\n",
    "}\n",
    "\n",
    "rfc = make_pipeline(\n",
    "    RandomForestClassifier(**rfc_parameters),\n",
    ")"
   ]
  },
  {
   "cell_type": "code",
   "execution_count": 33,
   "outputs": [],
   "source": [
    "model = ctb"
   ],
   "metadata": {
    "collapsed": false,
    "pycharm": {
     "name": "#%%\n"
    }
   }
  },
  {
   "cell_type": "code",
   "execution_count": 34,
   "outputs": [],
   "source": [
    "# lr.fit(X_train, y_train)"
   ],
   "metadata": {
    "collapsed": false,
    "pycharm": {
     "name": "#%%\n"
    }
   }
  },
  {
   "cell_type": "code",
   "execution_count": 35,
   "outputs": [],
   "source": [
    "model.fit(X_train, y_train)"
   ],
   "metadata": {
    "collapsed": false,
    "pycharm": {
     "name": "#%%\n"
    }
   }
  },
  {
   "cell_type": "code",
   "execution_count": 36,
   "outputs": [],
   "source": [
    "prediction = model.predict(X_test)"
   ],
   "metadata": {
    "collapsed": false,
    "pycharm": {
     "name": "#%%\n"
    }
   }
  },
  {
   "cell_type": "code",
   "execution_count": 39,
   "outputs": [],
   "source": [
    "import warnings\n",
    "from sklearn.metrics import classification_report, confusion_matrix"
   ],
   "metadata": {
    "collapsed": false,
    "pycharm": {
     "name": "#%%\n"
    }
   }
  },
  {
   "cell_type": "code",
   "execution_count": 40,
   "outputs": [
    {
     "name": "stdout",
     "output_type": "stream",
     "text": [
      "              precision    recall  f1-score   support\n",
      "\n",
      "           0       0.99      0.90      0.94      2073\n",
      "           1       0.20      0.74      0.31        68\n",
      "\n",
      "    accuracy                           0.90      2141\n",
      "   macro avg       0.59      0.82      0.63      2141\n",
      "weighted avg       0.97      0.90      0.92      2141\n",
      "\n",
      "[[1868  205]\n",
      " [  18   50]]\n"
     ]
    }
   ],
   "source": [
    "with warnings.catch_warnings():\n",
    "    warnings.simplefilter(\"ignore\")\n",
    "    print(classification_report(prediction, y_test))\n",
    "    print(confusion_matrix(prediction, y_test))"
   ],
   "metadata": {
    "collapsed": false,
    "pycharm": {
     "name": "#%%\n"
    }
   }
  },
  {
   "cell_type": "code",
   "execution_count": 37,
   "outputs": [],
   "source": [
    "train_prediction = model.predict(X_train)"
   ],
   "metadata": {
    "collapsed": false,
    "pycharm": {
     "name": "#%%\n"
    }
   }
  },
  {
   "cell_type": "code",
   "execution_count": 41,
   "outputs": [
    {
     "name": "stdout",
     "output_type": "stream",
     "text": [
      "              precision    recall  f1-score   support\n",
      "\n",
      "           0       1.00      0.92      0.96      8252\n",
      "           1       0.32      0.96      0.48       310\n",
      "\n",
      "    accuracy                           0.92      8562\n",
      "   macro avg       0.66      0.94      0.72      8562\n",
      "weighted avg       0.97      0.92      0.94      8562\n",
      "\n",
      "[[7610  642]\n",
      " [  11  299]]\n"
     ]
    }
   ],
   "source": [
    "with warnings.catch_warnings():\n",
    "    warnings.simplefilter(\"ignore\")\n",
    "    print(classification_report(train_prediction, y_train))\n",
    "    print(confusion_matrix(train_prediction, y_train))"
   ],
   "metadata": {
    "collapsed": false,
    "pycharm": {
     "name": "#%%\n"
    }
   }
  },
  {
   "cell_type": "code",
   "execution_count": 81,
   "metadata": {
    "pycharm": {
     "name": "#%%\n"
    }
   },
   "outputs": [],
   "source": [
    "pipelines = [\n",
    "    (\"Dummy_mean\", dummy_mean),\n",
    "    (\"Dummy_median\", dummy_median),\n",
    "    (\"LinReg\", lr),\n",
    "    (\"XGB\", xgb),\n",
    "    (\"LGBM\", lgbm),\n",
    "    (\"RFC\", rfc),\n",
    "    (\"CatBoost\", ctb),\n",
    "]"
   ]
  },
  {
   "cell_type": "markdown",
   "metadata": {
    "pycharm": {
     "name": "#%% md\n"
    }
   },
   "source": [
    "#### Models"
   ]
  },
  {
   "cell_type": "code",
   "execution_count": 82,
   "metadata": {
    "pycharm": {
     "name": "#%%\n"
    }
   },
   "outputs": [
    {
     "name": "stderr",
     "output_type": "stream",
     "text": [
      "C:\\Users\\dzmit\\anaconda3\\envs\\eurostars\\lib\\site-packages\\sklearn\\metrics\\_classification.py:1334: UndefinedMetricWarning: Precision is ill-defined and being set to 0.0 due to no predicted samples. Use `zero_division` parameter to control this behavior.\n",
      "  _warn_prf(average, modifier, msg_start, len(result))\n",
      "C:\\Users\\dzmit\\anaconda3\\envs\\eurostars\\lib\\site-packages\\sklearn\\metrics\\_classification.py:1334: UndefinedMetricWarning: Precision is ill-defined and being set to 0.0 due to no predicted samples. Use `zero_division` parameter to control this behavior.\n",
      "  _warn_prf(average, modifier, msg_start, len(result))\n"
     ]
    },
    {
     "name": "stdout",
     "output_type": "stream",
     "text": [
      "Learning rate set to 0.025772\n",
      "0:\tlearn: 0.6722376\ttotal: 29.3ms\tremaining: 29.3s\n",
      "1:\tlearn: 0.6526178\ttotal: 57.3ms\tremaining: 28.6s\n",
      "2:\tlearn: 0.6332825\ttotal: 84.5ms\tremaining: 28.1s\n",
      "3:\tlearn: 0.6153812\ttotal: 112ms\tremaining: 28s\n",
      "4:\tlearn: 0.5992390\ttotal: 141ms\tremaining: 28.2s\n",
      "5:\tlearn: 0.5829984\ttotal: 170ms\tremaining: 28.2s\n",
      "6:\tlearn: 0.5688213\ttotal: 198ms\tremaining: 28.1s\n",
      "7:\tlearn: 0.5553256\ttotal: 226ms\tremaining: 28s\n",
      "8:\tlearn: 0.5427053\ttotal: 252ms\tremaining: 27.8s\n",
      "9:\tlearn: 0.5309441\ttotal: 281ms\tremaining: 27.8s\n",
      "10:\tlearn: 0.5198678\ttotal: 308ms\tremaining: 27.7s\n",
      "11:\tlearn: 0.5081727\ttotal: 343ms\tremaining: 28.3s\n",
      "12:\tlearn: 0.4977785\ttotal: 377ms\tremaining: 28.6s\n",
      "13:\tlearn: 0.4882694\ttotal: 407ms\tremaining: 28.7s\n",
      "14:\tlearn: 0.4796549\ttotal: 439ms\tremaining: 28.8s\n",
      "15:\tlearn: 0.4714581\ttotal: 472ms\tremaining: 29s\n",
      "16:\tlearn: 0.4627935\ttotal: 505ms\tremaining: 29.2s\n",
      "17:\tlearn: 0.4551046\ttotal: 537ms\tremaining: 29.3s\n",
      "18:\tlearn: 0.4479481\ttotal: 567ms\tremaining: 29.3s\n",
      "19:\tlearn: 0.4412430\ttotal: 600ms\tremaining: 29.4s\n",
      "20:\tlearn: 0.4343820\ttotal: 627ms\tremaining: 29.2s\n",
      "21:\tlearn: 0.4284384\ttotal: 656ms\tremaining: 29.1s\n",
      "22:\tlearn: 0.4228149\ttotal: 683ms\tremaining: 29s\n",
      "23:\tlearn: 0.4168584\ttotal: 710ms\tremaining: 28.9s\n",
      "24:\tlearn: 0.4114692\ttotal: 740ms\tremaining: 28.9s\n",
      "25:\tlearn: 0.4062244\ttotal: 768ms\tremaining: 28.8s\n",
      "26:\tlearn: 0.4015273\ttotal: 797ms\tremaining: 28.7s\n",
      "27:\tlearn: 0.3970650\ttotal: 825ms\tremaining: 28.6s\n",
      "28:\tlearn: 0.3920221\ttotal: 852ms\tremaining: 28.5s\n",
      "29:\tlearn: 0.3876157\ttotal: 893ms\tremaining: 28.9s\n",
      "30:\tlearn: 0.3836436\ttotal: 920ms\tremaining: 28.8s\n",
      "31:\tlearn: 0.3799864\ttotal: 950ms\tremaining: 28.7s\n",
      "32:\tlearn: 0.3770009\ttotal: 982ms\tremaining: 28.8s\n",
      "33:\tlearn: 0.3738450\ttotal: 1.01s\tremaining: 28.8s\n",
      "34:\tlearn: 0.3703266\ttotal: 1.04s\tremaining: 28.8s\n",
      "35:\tlearn: 0.3673713\ttotal: 1.07s\tremaining: 28.7s\n",
      "36:\tlearn: 0.3648744\ttotal: 1.1s\tremaining: 28.6s\n",
      "37:\tlearn: 0.3626684\ttotal: 1.13s\tremaining: 28.5s\n",
      "38:\tlearn: 0.3603237\ttotal: 1.15s\tremaining: 28.4s\n",
      "39:\tlearn: 0.3579152\ttotal: 1.18s\tremaining: 28.4s\n",
      "40:\tlearn: 0.3556449\ttotal: 1.21s\tremaining: 28.3s\n",
      "41:\tlearn: 0.3530827\ttotal: 1.24s\tremaining: 28.2s\n",
      "42:\tlearn: 0.3510156\ttotal: 1.27s\tremaining: 28.2s\n",
      "43:\tlearn: 0.3490767\ttotal: 1.29s\tremaining: 28.2s\n",
      "44:\tlearn: 0.3470327\ttotal: 1.33s\tremaining: 28.2s\n",
      "45:\tlearn: 0.3449355\ttotal: 1.36s\tremaining: 28.1s\n",
      "46:\tlearn: 0.3432091\ttotal: 1.39s\tremaining: 28.1s\n",
      "47:\tlearn: 0.3414680\ttotal: 1.41s\tremaining: 28.1s\n",
      "48:\tlearn: 0.3398662\ttotal: 1.44s\tremaining: 28s\n",
      "49:\tlearn: 0.3382873\ttotal: 1.47s\tremaining: 27.9s\n",
      "50:\tlearn: 0.3367927\ttotal: 1.5s\tremaining: 27.9s\n",
      "51:\tlearn: 0.3353904\ttotal: 1.52s\tremaining: 27.8s\n",
      "52:\tlearn: 0.3339471\ttotal: 1.55s\tremaining: 27.8s\n",
      "53:\tlearn: 0.3326976\ttotal: 1.58s\tremaining: 27.7s\n",
      "54:\tlearn: 0.3315878\ttotal: 1.61s\tremaining: 27.7s\n",
      "55:\tlearn: 0.3303424\ttotal: 1.64s\tremaining: 27.7s\n",
      "56:\tlearn: 0.3290855\ttotal: 1.67s\tremaining: 27.6s\n",
      "57:\tlearn: 0.3279361\ttotal: 1.7s\tremaining: 27.5s\n",
      "58:\tlearn: 0.3266454\ttotal: 1.72s\tremaining: 27.5s\n",
      "59:\tlearn: 0.3255079\ttotal: 1.75s\tremaining: 27.5s\n",
      "60:\tlearn: 0.3245678\ttotal: 1.78s\tremaining: 27.4s\n",
      "61:\tlearn: 0.3234731\ttotal: 1.81s\tremaining: 27.3s\n",
      "62:\tlearn: 0.3227197\ttotal: 1.83s\tremaining: 27.3s\n",
      "63:\tlearn: 0.3217877\ttotal: 1.86s\tremaining: 27.2s\n",
      "64:\tlearn: 0.3211921\ttotal: 1.89s\tremaining: 27.2s\n",
      "65:\tlearn: 0.3204359\ttotal: 1.92s\tremaining: 27.2s\n",
      "66:\tlearn: 0.3195356\ttotal: 1.95s\tremaining: 27.2s\n",
      "67:\tlearn: 0.3187316\ttotal: 1.98s\tremaining: 27.2s\n",
      "68:\tlearn: 0.3181423\ttotal: 2.01s\tremaining: 27.2s\n",
      "69:\tlearn: 0.3175257\ttotal: 2.04s\tremaining: 27.1s\n",
      "70:\tlearn: 0.3167597\ttotal: 2.07s\tremaining: 27.1s\n",
      "71:\tlearn: 0.3160638\ttotal: 2.1s\tremaining: 27s\n",
      "72:\tlearn: 0.3154890\ttotal: 2.13s\tremaining: 27s\n",
      "73:\tlearn: 0.3148875\ttotal: 2.15s\tremaining: 27s\n",
      "74:\tlearn: 0.3143499\ttotal: 2.18s\tremaining: 26.9s\n",
      "75:\tlearn: 0.3136588\ttotal: 2.21s\tremaining: 26.9s\n",
      "76:\tlearn: 0.3130666\ttotal: 2.24s\tremaining: 26.8s\n",
      "77:\tlearn: 0.3126153\ttotal: 2.27s\tremaining: 26.8s\n",
      "78:\tlearn: 0.3119590\ttotal: 2.29s\tremaining: 26.7s\n",
      "79:\tlearn: 0.3112678\ttotal: 2.32s\tremaining: 26.7s\n",
      "80:\tlearn: 0.3106691\ttotal: 2.34s\tremaining: 26.6s\n",
      "81:\tlearn: 0.3100750\ttotal: 2.37s\tremaining: 26.5s\n",
      "82:\tlearn: 0.3096082\ttotal: 2.39s\tremaining: 26.4s\n",
      "83:\tlearn: 0.3090840\ttotal: 2.42s\tremaining: 26.4s\n",
      "84:\tlearn: 0.3085557\ttotal: 2.44s\tremaining: 26.3s\n",
      "85:\tlearn: 0.3081086\ttotal: 2.47s\tremaining: 26.2s\n",
      "86:\tlearn: 0.3077247\ttotal: 2.49s\tremaining: 26.2s\n",
      "87:\tlearn: 0.3073075\ttotal: 2.52s\tremaining: 26.1s\n",
      "88:\tlearn: 0.3068929\ttotal: 2.55s\tremaining: 26.1s\n",
      "89:\tlearn: 0.3064824\ttotal: 2.57s\tremaining: 26s\n",
      "90:\tlearn: 0.3059879\ttotal: 2.6s\tremaining: 26s\n",
      "91:\tlearn: 0.3055761\ttotal: 2.63s\tremaining: 25.9s\n",
      "92:\tlearn: 0.3052089\ttotal: 2.66s\tremaining: 25.9s\n",
      "93:\tlearn: 0.3048469\ttotal: 2.69s\tremaining: 25.9s\n",
      "94:\tlearn: 0.3045300\ttotal: 2.71s\tremaining: 25.9s\n",
      "95:\tlearn: 0.3042285\ttotal: 2.74s\tremaining: 25.8s\n",
      "96:\tlearn: 0.3037807\ttotal: 2.77s\tremaining: 25.8s\n",
      "97:\tlearn: 0.3033229\ttotal: 2.8s\tremaining: 25.8s\n",
      "98:\tlearn: 0.3030175\ttotal: 2.83s\tremaining: 25.7s\n",
      "99:\tlearn: 0.3026592\ttotal: 2.85s\tremaining: 25.7s\n",
      "100:\tlearn: 0.3023161\ttotal: 2.88s\tremaining: 25.6s\n",
      "101:\tlearn: 0.3019592\ttotal: 2.9s\tremaining: 25.6s\n",
      "102:\tlearn: 0.3015527\ttotal: 2.93s\tremaining: 25.5s\n",
      "103:\tlearn: 0.3011783\ttotal: 2.96s\tremaining: 25.5s\n",
      "104:\tlearn: 0.3008112\ttotal: 2.99s\tremaining: 25.5s\n",
      "105:\tlearn: 0.3004500\ttotal: 3.02s\tremaining: 25.4s\n",
      "106:\tlearn: 0.3000900\ttotal: 3.04s\tremaining: 25.4s\n",
      "107:\tlearn: 0.2998192\ttotal: 3.07s\tremaining: 25.3s\n",
      "108:\tlearn: 0.2995325\ttotal: 3.09s\tremaining: 25.3s\n",
      "109:\tlearn: 0.2992392\ttotal: 3.11s\tremaining: 25.2s\n",
      "110:\tlearn: 0.2989025\ttotal: 3.14s\tremaining: 25.1s\n",
      "111:\tlearn: 0.2985999\ttotal: 3.16s\tremaining: 25.1s\n",
      "112:\tlearn: 0.2983484\ttotal: 3.19s\tremaining: 25s\n",
      "113:\tlearn: 0.2981246\ttotal: 3.21s\tremaining: 25s\n",
      "114:\tlearn: 0.2978757\ttotal: 3.23s\tremaining: 24.9s\n",
      "115:\tlearn: 0.2976232\ttotal: 3.26s\tremaining: 24.8s\n",
      "116:\tlearn: 0.2973335\ttotal: 3.28s\tremaining: 24.8s\n",
      "117:\tlearn: 0.2971547\ttotal: 3.31s\tremaining: 24.7s\n",
      "118:\tlearn: 0.2969513\ttotal: 3.33s\tremaining: 24.7s\n",
      "119:\tlearn: 0.2966588\ttotal: 3.35s\tremaining: 24.6s\n",
      "120:\tlearn: 0.2964389\ttotal: 3.38s\tremaining: 24.6s\n",
      "121:\tlearn: 0.2960740\ttotal: 3.41s\tremaining: 24.5s\n",
      "122:\tlearn: 0.2958693\ttotal: 3.44s\tremaining: 24.5s\n",
      "123:\tlearn: 0.2955837\ttotal: 3.46s\tremaining: 24.5s\n",
      "124:\tlearn: 0.2952880\ttotal: 3.49s\tremaining: 24.5s\n",
      "125:\tlearn: 0.2949410\ttotal: 3.52s\tremaining: 24.4s\n",
      "126:\tlearn: 0.2946460\ttotal: 3.55s\tremaining: 24.4s\n",
      "127:\tlearn: 0.2944403\ttotal: 3.58s\tremaining: 24.4s\n",
      "128:\tlearn: 0.2942044\ttotal: 3.61s\tremaining: 24.4s\n",
      "129:\tlearn: 0.2939883\ttotal: 3.63s\tremaining: 24.3s\n",
      "130:\tlearn: 0.2937013\ttotal: 3.66s\tremaining: 24.3s\n",
      "131:\tlearn: 0.2934754\ttotal: 3.68s\tremaining: 24.2s\n",
      "132:\tlearn: 0.2932332\ttotal: 3.71s\tremaining: 24.2s\n",
      "133:\tlearn: 0.2930239\ttotal: 3.73s\tremaining: 24.1s\n",
      "134:\tlearn: 0.2926559\ttotal: 3.75s\tremaining: 24.1s\n",
      "135:\tlearn: 0.2923461\ttotal: 3.78s\tremaining: 24s\n",
      "136:\tlearn: 0.2921176\ttotal: 3.8s\tremaining: 24s\n",
      "137:\tlearn: 0.2918355\ttotal: 3.83s\tremaining: 23.9s\n",
      "138:\tlearn: 0.2916427\ttotal: 3.85s\tremaining: 23.9s\n",
      "139:\tlearn: 0.2914121\ttotal: 3.88s\tremaining: 23.8s\n",
      "140:\tlearn: 0.2912094\ttotal: 3.91s\tremaining: 23.8s\n",
      "141:\tlearn: 0.2909693\ttotal: 3.94s\tremaining: 23.8s\n",
      "142:\tlearn: 0.2907560\ttotal: 3.97s\tremaining: 23.8s\n",
      "143:\tlearn: 0.2905195\ttotal: 4s\tremaining: 23.8s\n",
      "144:\tlearn: 0.2903121\ttotal: 4.03s\tremaining: 23.8s\n",
      "145:\tlearn: 0.2901081\ttotal: 4.07s\tremaining: 23.8s\n",
      "146:\tlearn: 0.2898681\ttotal: 4.1s\tremaining: 23.8s\n",
      "147:\tlearn: 0.2896304\ttotal: 4.13s\tremaining: 23.8s\n",
      "148:\tlearn: 0.2894157\ttotal: 4.15s\tremaining: 23.7s\n",
      "149:\tlearn: 0.2892173\ttotal: 4.18s\tremaining: 23.7s\n",
      "150:\tlearn: 0.2889743\ttotal: 4.21s\tremaining: 23.7s\n",
      "151:\tlearn: 0.2887259\ttotal: 4.24s\tremaining: 23.7s\n",
      "152:\tlearn: 0.2884924\ttotal: 4.27s\tremaining: 23.6s\n",
      "153:\tlearn: 0.2882853\ttotal: 4.29s\tremaining: 23.6s\n",
      "154:\tlearn: 0.2879912\ttotal: 4.32s\tremaining: 23.5s\n",
      "155:\tlearn: 0.2877839\ttotal: 4.34s\tremaining: 23.5s\n",
      "156:\tlearn: 0.2874893\ttotal: 4.37s\tremaining: 23.4s\n",
      "157:\tlearn: 0.2872982\ttotal: 4.39s\tremaining: 23.4s\n",
      "158:\tlearn: 0.2870572\ttotal: 4.41s\tremaining: 23.3s\n",
      "159:\tlearn: 0.2868904\ttotal: 4.44s\tremaining: 23.3s\n",
      "160:\tlearn: 0.2867644\ttotal: 4.46s\tremaining: 23.3s\n",
      "161:\tlearn: 0.2865918\ttotal: 4.49s\tremaining: 23.2s\n",
      "162:\tlearn: 0.2863806\ttotal: 4.51s\tremaining: 23.2s\n",
      "163:\tlearn: 0.2861772\ttotal: 4.54s\tremaining: 23.1s\n",
      "164:\tlearn: 0.2859747\ttotal: 4.56s\tremaining: 23.1s\n",
      "165:\tlearn: 0.2858177\ttotal: 4.59s\tremaining: 23.1s\n",
      "166:\tlearn: 0.2856009\ttotal: 4.62s\tremaining: 23s\n",
      "167:\tlearn: 0.2854238\ttotal: 4.64s\tremaining: 23s\n",
      "168:\tlearn: 0.2852608\ttotal: 4.67s\tremaining: 23s\n",
      "169:\tlearn: 0.2850935\ttotal: 4.7s\tremaining: 23s\n",
      "170:\tlearn: 0.2849147\ttotal: 4.73s\tremaining: 22.9s\n",
      "171:\tlearn: 0.2846992\ttotal: 4.75s\tremaining: 22.9s\n",
      "172:\tlearn: 0.2845352\ttotal: 4.78s\tremaining: 22.9s\n",
      "173:\tlearn: 0.2843409\ttotal: 4.81s\tremaining: 22.8s\n",
      "174:\tlearn: 0.2841882\ttotal: 4.84s\tremaining: 22.8s\n",
      "175:\tlearn: 0.2839899\ttotal: 4.87s\tremaining: 22.8s\n",
      "176:\tlearn: 0.2838373\ttotal: 4.89s\tremaining: 22.8s\n",
      "177:\tlearn: 0.2836873\ttotal: 4.92s\tremaining: 22.7s\n",
      "178:\tlearn: 0.2834859\ttotal: 4.95s\tremaining: 22.7s\n",
      "179:\tlearn: 0.2833245\ttotal: 4.98s\tremaining: 22.7s\n",
      "180:\tlearn: 0.2831693\ttotal: 5s\tremaining: 22.6s\n",
      "181:\tlearn: 0.2829919\ttotal: 5.03s\tremaining: 22.6s\n",
      "182:\tlearn: 0.2828646\ttotal: 5.05s\tremaining: 22.6s\n",
      "183:\tlearn: 0.2826436\ttotal: 5.08s\tremaining: 22.5s\n",
      "184:\tlearn: 0.2824852\ttotal: 5.11s\tremaining: 22.5s\n",
      "185:\tlearn: 0.2822540\ttotal: 5.14s\tremaining: 22.5s\n",
      "186:\tlearn: 0.2820719\ttotal: 5.17s\tremaining: 22.5s\n",
      "187:\tlearn: 0.2819252\ttotal: 5.19s\tremaining: 22.4s\n",
      "188:\tlearn: 0.2817559\ttotal: 5.22s\tremaining: 22.4s\n",
      "189:\tlearn: 0.2816054\ttotal: 5.25s\tremaining: 22.4s\n",
      "190:\tlearn: 0.2814295\ttotal: 5.27s\tremaining: 22.3s\n",
      "191:\tlearn: 0.2812498\ttotal: 5.3s\tremaining: 22.3s\n",
      "192:\tlearn: 0.2810896\ttotal: 5.33s\tremaining: 22.3s\n",
      "193:\tlearn: 0.2809044\ttotal: 5.35s\tremaining: 22.2s\n",
      "194:\tlearn: 0.2807703\ttotal: 5.38s\tremaining: 22.2s\n",
      "195:\tlearn: 0.2806683\ttotal: 5.4s\tremaining: 22.1s\n",
      "196:\tlearn: 0.2805247\ttotal: 5.42s\tremaining: 22.1s\n",
      "197:\tlearn: 0.2803239\ttotal: 5.45s\tremaining: 22.1s\n",
      "198:\tlearn: 0.2801476\ttotal: 5.47s\tremaining: 22s\n",
      "199:\tlearn: 0.2799533\ttotal: 5.5s\tremaining: 22s\n",
      "200:\tlearn: 0.2797545\ttotal: 5.52s\tremaining: 21.9s\n",
      "201:\tlearn: 0.2796330\ttotal: 5.55s\tremaining: 21.9s\n",
      "202:\tlearn: 0.2795005\ttotal: 5.57s\tremaining: 21.9s\n",
      "203:\tlearn: 0.2793531\ttotal: 5.6s\tremaining: 21.9s\n",
      "204:\tlearn: 0.2791687\ttotal: 5.63s\tremaining: 21.8s\n",
      "205:\tlearn: 0.2789692\ttotal: 5.66s\tremaining: 21.8s\n",
      "206:\tlearn: 0.2787448\ttotal: 5.68s\tremaining: 21.8s\n",
      "207:\tlearn: 0.2785823\ttotal: 5.71s\tremaining: 21.8s\n",
      "208:\tlearn: 0.2783987\ttotal: 5.74s\tremaining: 21.7s\n",
      "209:\tlearn: 0.2782738\ttotal: 5.77s\tremaining: 21.7s\n",
      "210:\tlearn: 0.2780643\ttotal: 5.79s\tremaining: 21.7s\n",
      "211:\tlearn: 0.2778937\ttotal: 5.82s\tremaining: 21.6s\n",
      "212:\tlearn: 0.2777156\ttotal: 5.85s\tremaining: 21.6s\n",
      "213:\tlearn: 0.2775663\ttotal: 5.88s\tremaining: 21.6s\n",
      "214:\tlearn: 0.2774209\ttotal: 5.91s\tremaining: 21.6s\n",
      "215:\tlearn: 0.2772327\ttotal: 5.94s\tremaining: 21.6s\n",
      "216:\tlearn: 0.2770923\ttotal: 5.97s\tremaining: 21.6s\n",
      "217:\tlearn: 0.2769598\ttotal: 6s\tremaining: 21.5s\n",
      "218:\tlearn: 0.2768112\ttotal: 6.03s\tremaining: 21.5s\n",
      "219:\tlearn: 0.2766674\ttotal: 6.05s\tremaining: 21.5s\n",
      "220:\tlearn: 0.2765083\ttotal: 6.08s\tremaining: 21.4s\n",
      "221:\tlearn: 0.2763538\ttotal: 6.1s\tremaining: 21.4s\n",
      "222:\tlearn: 0.2762079\ttotal: 6.13s\tremaining: 21.4s\n",
      "223:\tlearn: 0.2760248\ttotal: 6.16s\tremaining: 21.3s\n",
      "224:\tlearn: 0.2759062\ttotal: 6.19s\tremaining: 21.3s\n",
      "225:\tlearn: 0.2757271\ttotal: 6.21s\tremaining: 21.3s\n",
      "226:\tlearn: 0.2755452\ttotal: 6.24s\tremaining: 21.3s\n",
      "227:\tlearn: 0.2754177\ttotal: 6.27s\tremaining: 21.2s\n",
      "228:\tlearn: 0.2752652\ttotal: 6.3s\tremaining: 21.2s\n",
      "229:\tlearn: 0.2750970\ttotal: 6.32s\tremaining: 21.2s\n",
      "230:\tlearn: 0.2749477\ttotal: 6.35s\tremaining: 21.1s\n",
      "231:\tlearn: 0.2748273\ttotal: 6.37s\tremaining: 21.1s\n",
      "232:\tlearn: 0.2746557\ttotal: 6.4s\tremaining: 21.1s\n",
      "233:\tlearn: 0.2745087\ttotal: 6.42s\tremaining: 21s\n",
      "234:\tlearn: 0.2743720\ttotal: 6.44s\tremaining: 21s\n",
      "235:\tlearn: 0.2742078\ttotal: 6.47s\tremaining: 20.9s\n",
      "236:\tlearn: 0.2740511\ttotal: 6.5s\tremaining: 20.9s\n",
      "237:\tlearn: 0.2738899\ttotal: 6.52s\tremaining: 20.9s\n",
      "238:\tlearn: 0.2737489\ttotal: 6.54s\tremaining: 20.8s\n",
      "239:\tlearn: 0.2736232\ttotal: 6.57s\tremaining: 20.8s\n",
      "240:\tlearn: 0.2734508\ttotal: 6.59s\tremaining: 20.8s\n",
      "241:\tlearn: 0.2733043\ttotal: 6.62s\tremaining: 20.7s\n",
      "242:\tlearn: 0.2730978\ttotal: 6.64s\tremaining: 20.7s\n",
      "243:\tlearn: 0.2729481\ttotal: 6.67s\tremaining: 20.7s\n",
      "244:\tlearn: 0.2728164\ttotal: 6.69s\tremaining: 20.6s\n",
      "245:\tlearn: 0.2726889\ttotal: 6.72s\tremaining: 20.6s\n",
      "246:\tlearn: 0.2725093\ttotal: 6.74s\tremaining: 20.6s\n",
      "247:\tlearn: 0.2723694\ttotal: 6.77s\tremaining: 20.5s\n",
      "248:\tlearn: 0.2722465\ttotal: 6.79s\tremaining: 20.5s\n",
      "249:\tlearn: 0.2721070\ttotal: 6.82s\tremaining: 20.4s\n",
      "250:\tlearn: 0.2719854\ttotal: 6.84s\tremaining: 20.4s\n",
      "251:\tlearn: 0.2718535\ttotal: 6.86s\tremaining: 20.4s\n",
      "252:\tlearn: 0.2717057\ttotal: 6.89s\tremaining: 20.4s\n",
      "253:\tlearn: 0.2715588\ttotal: 6.92s\tremaining: 20.3s\n",
      "254:\tlearn: 0.2714392\ttotal: 6.95s\tremaining: 20.3s\n",
      "255:\tlearn: 0.2712681\ttotal: 6.97s\tremaining: 20.3s\n",
      "256:\tlearn: 0.2711338\ttotal: 7s\tremaining: 20.2s\n",
      "257:\tlearn: 0.2709845\ttotal: 7.02s\tremaining: 20.2s\n",
      "258:\tlearn: 0.2708416\ttotal: 7.05s\tremaining: 20.2s\n",
      "259:\tlearn: 0.2706733\ttotal: 7.07s\tremaining: 20.1s\n",
      "260:\tlearn: 0.2705544\ttotal: 7.1s\tremaining: 20.1s\n",
      "261:\tlearn: 0.2703808\ttotal: 7.12s\tremaining: 20.1s\n",
      "262:\tlearn: 0.2702147\ttotal: 7.15s\tremaining: 20s\n",
      "263:\tlearn: 0.2700767\ttotal: 7.17s\tremaining: 20s\n",
      "264:\tlearn: 0.2699397\ttotal: 7.19s\tremaining: 20s\n",
      "265:\tlearn: 0.2697935\ttotal: 7.22s\tremaining: 19.9s\n",
      "266:\tlearn: 0.2696245\ttotal: 7.24s\tremaining: 19.9s\n",
      "267:\tlearn: 0.2694837\ttotal: 7.27s\tremaining: 19.9s\n",
      "268:\tlearn: 0.2693425\ttotal: 7.29s\tremaining: 19.8s\n",
      "269:\tlearn: 0.2691961\ttotal: 7.32s\tremaining: 19.8s\n",
      "270:\tlearn: 0.2690748\ttotal: 7.34s\tremaining: 19.7s\n",
      "271:\tlearn: 0.2689365\ttotal: 7.37s\tremaining: 19.7s\n",
      "272:\tlearn: 0.2688285\ttotal: 7.39s\tremaining: 19.7s\n",
      "273:\tlearn: 0.2686617\ttotal: 7.42s\tremaining: 19.7s\n",
      "274:\tlearn: 0.2685486\ttotal: 7.44s\tremaining: 19.6s\n",
      "275:\tlearn: 0.2684320\ttotal: 7.47s\tremaining: 19.6s\n",
      "276:\tlearn: 0.2683133\ttotal: 7.49s\tremaining: 19.6s\n",
      "277:\tlearn: 0.2681922\ttotal: 7.52s\tremaining: 19.5s\n",
      "278:\tlearn: 0.2680758\ttotal: 7.54s\tremaining: 19.5s\n",
      "279:\tlearn: 0.2678918\ttotal: 7.57s\tremaining: 19.5s\n",
      "280:\tlearn: 0.2677546\ttotal: 7.59s\tremaining: 19.4s\n",
      "281:\tlearn: 0.2676171\ttotal: 7.62s\tremaining: 19.4s\n",
      "282:\tlearn: 0.2674501\ttotal: 7.64s\tremaining: 19.4s\n",
      "283:\tlearn: 0.2672817\ttotal: 7.66s\tremaining: 19.3s\n",
      "284:\tlearn: 0.2671527\ttotal: 7.69s\tremaining: 19.3s\n",
      "285:\tlearn: 0.2670291\ttotal: 7.71s\tremaining: 19.3s\n",
      "286:\tlearn: 0.2669211\ttotal: 7.74s\tremaining: 19.2s\n",
      "287:\tlearn: 0.2667837\ttotal: 7.76s\tremaining: 19.2s\n",
      "288:\tlearn: 0.2666556\ttotal: 7.78s\tremaining: 19.1s\n",
      "289:\tlearn: 0.2665169\ttotal: 7.81s\tremaining: 19.1s\n",
      "290:\tlearn: 0.2664143\ttotal: 7.83s\tremaining: 19.1s\n",
      "291:\tlearn: 0.2662718\ttotal: 7.86s\tremaining: 19.1s\n",
      "292:\tlearn: 0.2661178\ttotal: 7.88s\tremaining: 19s\n",
      "293:\tlearn: 0.2659851\ttotal: 7.91s\tremaining: 19s\n",
      "294:\tlearn: 0.2658480\ttotal: 7.93s\tremaining: 19s\n",
      "295:\tlearn: 0.2656830\ttotal: 7.96s\tremaining: 18.9s\n",
      "296:\tlearn: 0.2655558\ttotal: 7.98s\tremaining: 18.9s\n",
      "297:\tlearn: 0.2654109\ttotal: 8.01s\tremaining: 18.9s\n",
      "298:\tlearn: 0.2653017\ttotal: 8.03s\tremaining: 18.8s\n",
      "299:\tlearn: 0.2651651\ttotal: 8.06s\tremaining: 18.8s\n",
      "300:\tlearn: 0.2650159\ttotal: 8.08s\tremaining: 18.8s\n",
      "301:\tlearn: 0.2649175\ttotal: 8.11s\tremaining: 18.7s\n",
      "302:\tlearn: 0.2647400\ttotal: 8.13s\tremaining: 18.7s\n",
      "303:\tlearn: 0.2645663\ttotal: 8.15s\tremaining: 18.7s\n",
      "304:\tlearn: 0.2644038\ttotal: 8.18s\tremaining: 18.6s\n",
      "305:\tlearn: 0.2642721\ttotal: 8.21s\tremaining: 18.6s\n",
      "306:\tlearn: 0.2641615\ttotal: 8.23s\tremaining: 18.6s\n",
      "307:\tlearn: 0.2640042\ttotal: 8.26s\tremaining: 18.6s\n",
      "308:\tlearn: 0.2639042\ttotal: 8.28s\tremaining: 18.5s\n",
      "309:\tlearn: 0.2637456\ttotal: 8.31s\tremaining: 18.5s\n",
      "310:\tlearn: 0.2636136\ttotal: 8.33s\tremaining: 18.5s\n",
      "311:\tlearn: 0.2634926\ttotal: 8.35s\tremaining: 18.4s\n",
      "312:\tlearn: 0.2633553\ttotal: 8.38s\tremaining: 18.4s\n",
      "313:\tlearn: 0.2631941\ttotal: 8.4s\tremaining: 18.4s\n",
      "314:\tlearn: 0.2630613\ttotal: 8.43s\tremaining: 18.3s\n",
      "315:\tlearn: 0.2629323\ttotal: 8.45s\tremaining: 18.3s\n",
      "316:\tlearn: 0.2628052\ttotal: 8.48s\tremaining: 18.3s\n",
      "317:\tlearn: 0.2626820\ttotal: 8.5s\tremaining: 18.2s\n",
      "318:\tlearn: 0.2625503\ttotal: 8.53s\tremaining: 18.2s\n",
      "319:\tlearn: 0.2624374\ttotal: 8.55s\tremaining: 18.2s\n",
      "320:\tlearn: 0.2622861\ttotal: 8.57s\tremaining: 18.1s\n",
      "321:\tlearn: 0.2620790\ttotal: 8.6s\tremaining: 18.1s\n",
      "322:\tlearn: 0.2619326\ttotal: 8.62s\tremaining: 18.1s\n",
      "323:\tlearn: 0.2617856\ttotal: 8.65s\tremaining: 18s\n",
      "324:\tlearn: 0.2616868\ttotal: 8.67s\tremaining: 18s\n",
      "325:\tlearn: 0.2615509\ttotal: 8.69s\tremaining: 18s\n",
      "326:\tlearn: 0.2614013\ttotal: 8.72s\tremaining: 17.9s\n",
      "327:\tlearn: 0.2612585\ttotal: 8.74s\tremaining: 17.9s\n",
      "328:\tlearn: 0.2611309\ttotal: 8.77s\tremaining: 17.9s\n",
      "329:\tlearn: 0.2610410\ttotal: 8.79s\tremaining: 17.8s\n",
      "330:\tlearn: 0.2609145\ttotal: 8.81s\tremaining: 17.8s\n",
      "331:\tlearn: 0.2607562\ttotal: 8.84s\tremaining: 17.8s\n",
      "332:\tlearn: 0.2606068\ttotal: 8.87s\tremaining: 17.8s\n",
      "333:\tlearn: 0.2604794\ttotal: 8.89s\tremaining: 17.7s\n",
      "334:\tlearn: 0.2603471\ttotal: 8.92s\tremaining: 17.7s\n",
      "335:\tlearn: 0.2602188\ttotal: 8.95s\tremaining: 17.7s\n",
      "336:\tlearn: 0.2600876\ttotal: 8.97s\tremaining: 17.7s\n",
      "337:\tlearn: 0.2599627\ttotal: 9s\tremaining: 17.6s\n",
      "338:\tlearn: 0.2598468\ttotal: 9.02s\tremaining: 17.6s\n",
      "339:\tlearn: 0.2597094\ttotal: 9.05s\tremaining: 17.6s\n",
      "340:\tlearn: 0.2595791\ttotal: 9.07s\tremaining: 17.5s\n",
      "341:\tlearn: 0.2594293\ttotal: 9.1s\tremaining: 17.5s\n",
      "342:\tlearn: 0.2592952\ttotal: 9.13s\tremaining: 17.5s\n",
      "343:\tlearn: 0.2591672\ttotal: 9.15s\tremaining: 17.5s\n",
      "344:\tlearn: 0.2590143\ttotal: 9.18s\tremaining: 17.4s\n",
      "345:\tlearn: 0.2588021\ttotal: 9.21s\tremaining: 17.4s\n",
      "346:\tlearn: 0.2586330\ttotal: 9.24s\tremaining: 17.4s\n",
      "347:\tlearn: 0.2585213\ttotal: 9.27s\tremaining: 17.4s\n",
      "348:\tlearn: 0.2583973\ttotal: 9.3s\tremaining: 17.4s\n",
      "349:\tlearn: 0.2582542\ttotal: 9.33s\tremaining: 17.3s\n",
      "350:\tlearn: 0.2581429\ttotal: 9.36s\tremaining: 17.3s\n",
      "351:\tlearn: 0.2580333\ttotal: 9.39s\tremaining: 17.3s\n",
      "352:\tlearn: 0.2578566\ttotal: 9.42s\tremaining: 17.3s\n",
      "353:\tlearn: 0.2577234\ttotal: 9.44s\tremaining: 17.2s\n",
      "354:\tlearn: 0.2575873\ttotal: 9.47s\tremaining: 17.2s\n",
      "355:\tlearn: 0.2574714\ttotal: 9.51s\tremaining: 17.2s\n",
      "356:\tlearn: 0.2573447\ttotal: 9.53s\tremaining: 17.2s\n",
      "357:\tlearn: 0.2572110\ttotal: 9.56s\tremaining: 17.2s\n",
      "358:\tlearn: 0.2570786\ttotal: 9.59s\tremaining: 17.1s\n",
      "359:\tlearn: 0.2569793\ttotal: 9.62s\tremaining: 17.1s\n",
      "360:\tlearn: 0.2568584\ttotal: 9.65s\tremaining: 17.1s\n",
      "361:\tlearn: 0.2567116\ttotal: 9.68s\tremaining: 17.1s\n",
      "362:\tlearn: 0.2565652\ttotal: 9.71s\tremaining: 17s\n",
      "363:\tlearn: 0.2564436\ttotal: 9.74s\tremaining: 17s\n",
      "364:\tlearn: 0.2563367\ttotal: 9.77s\tremaining: 17s\n",
      "365:\tlearn: 0.2562126\ttotal: 9.8s\tremaining: 17s\n",
      "366:\tlearn: 0.2561121\ttotal: 9.82s\tremaining: 16.9s\n",
      "367:\tlearn: 0.2559835\ttotal: 9.86s\tremaining: 16.9s\n",
      "368:\tlearn: 0.2558745\ttotal: 9.89s\tremaining: 16.9s\n",
      "369:\tlearn: 0.2557254\ttotal: 9.92s\tremaining: 16.9s\n",
      "370:\tlearn: 0.2556108\ttotal: 9.96s\tremaining: 16.9s\n",
      "371:\tlearn: 0.2554865\ttotal: 9.98s\tremaining: 16.9s\n",
      "372:\tlearn: 0.2553396\ttotal: 10s\tremaining: 16.8s\n",
      "373:\tlearn: 0.2552130\ttotal: 10s\tremaining: 16.8s\n",
      "374:\tlearn: 0.2550815\ttotal: 10.1s\tremaining: 16.8s\n",
      "375:\tlearn: 0.2549839\ttotal: 10.1s\tremaining: 16.7s\n",
      "376:\tlearn: 0.2548733\ttotal: 10.1s\tremaining: 16.7s\n",
      "377:\tlearn: 0.2546949\ttotal: 10.1s\tremaining: 16.7s\n",
      "378:\tlearn: 0.2545780\ttotal: 10.2s\tremaining: 16.6s\n",
      "379:\tlearn: 0.2544622\ttotal: 10.2s\tremaining: 16.6s\n",
      "380:\tlearn: 0.2543159\ttotal: 10.2s\tremaining: 16.6s\n",
      "381:\tlearn: 0.2541516\ttotal: 10.2s\tremaining: 16.6s\n",
      "382:\tlearn: 0.2539604\ttotal: 10.3s\tremaining: 16.6s\n",
      "383:\tlearn: 0.2538431\ttotal: 10.3s\tremaining: 16.5s\n",
      "384:\tlearn: 0.2537519\ttotal: 10.3s\tremaining: 16.5s\n",
      "385:\tlearn: 0.2536539\ttotal: 10.4s\tremaining: 16.5s\n",
      "386:\tlearn: 0.2535161\ttotal: 10.4s\tremaining: 16.5s\n",
      "387:\tlearn: 0.2533911\ttotal: 10.4s\tremaining: 16.4s\n",
      "388:\tlearn: 0.2532607\ttotal: 10.4s\tremaining: 16.4s\n",
      "389:\tlearn: 0.2530978\ttotal: 10.5s\tremaining: 16.4s\n",
      "390:\tlearn: 0.2529986\ttotal: 10.5s\tremaining: 16.4s\n",
      "391:\tlearn: 0.2528575\ttotal: 10.5s\tremaining: 16.3s\n",
      "392:\tlearn: 0.2526899\ttotal: 10.6s\tremaining: 16.3s\n",
      "393:\tlearn: 0.2525576\ttotal: 10.6s\tremaining: 16.3s\n",
      "394:\tlearn: 0.2524569\ttotal: 10.6s\tremaining: 16.3s\n",
      "395:\tlearn: 0.2523468\ttotal: 10.7s\tremaining: 16.2s\n",
      "396:\tlearn: 0.2522380\ttotal: 10.7s\tremaining: 16.2s\n",
      "397:\tlearn: 0.2520943\ttotal: 10.7s\tremaining: 16.2s\n",
      "398:\tlearn: 0.2520034\ttotal: 10.7s\tremaining: 16.2s\n",
      "399:\tlearn: 0.2519088\ttotal: 10.8s\tremaining: 16.2s\n",
      "400:\tlearn: 0.2518013\ttotal: 10.8s\tremaining: 16.1s\n",
      "401:\tlearn: 0.2516401\ttotal: 10.8s\tremaining: 16.1s\n",
      "402:\tlearn: 0.2514791\ttotal: 10.9s\tremaining: 16.1s\n",
      "403:\tlearn: 0.2513386\ttotal: 10.9s\tremaining: 16.1s\n",
      "404:\tlearn: 0.2512445\ttotal: 10.9s\tremaining: 16.1s\n",
      "405:\tlearn: 0.2511053\ttotal: 11s\tremaining: 16s\n",
      "406:\tlearn: 0.2509897\ttotal: 11s\tremaining: 16s\n",
      "407:\tlearn: 0.2508420\ttotal: 11s\tremaining: 16s\n",
      "408:\tlearn: 0.2507336\ttotal: 11.1s\tremaining: 16s\n",
      "409:\tlearn: 0.2506395\ttotal: 11.1s\tremaining: 15.9s\n",
      "410:\tlearn: 0.2504652\ttotal: 11.1s\tremaining: 15.9s\n",
      "411:\tlearn: 0.2503194\ttotal: 11.1s\tremaining: 15.9s\n",
      "412:\tlearn: 0.2502089\ttotal: 11.2s\tremaining: 15.9s\n",
      "413:\tlearn: 0.2501166\ttotal: 11.2s\tremaining: 15.8s\n",
      "414:\tlearn: 0.2500220\ttotal: 11.2s\tremaining: 15.8s\n",
      "415:\tlearn: 0.2498173\ttotal: 11.3s\tremaining: 15.8s\n",
      "416:\tlearn: 0.2496434\ttotal: 11.3s\tremaining: 15.8s\n",
      "417:\tlearn: 0.2495463\ttotal: 11.3s\tremaining: 15.7s\n",
      "418:\tlearn: 0.2494606\ttotal: 11.3s\tremaining: 15.7s\n",
      "419:\tlearn: 0.2493146\ttotal: 11.4s\tremaining: 15.7s\n",
      "420:\tlearn: 0.2491936\ttotal: 11.4s\tremaining: 15.6s\n",
      "421:\tlearn: 0.2490583\ttotal: 11.4s\tremaining: 15.6s\n",
      "422:\tlearn: 0.2489183\ttotal: 11.4s\tremaining: 15.6s\n",
      "423:\tlearn: 0.2488202\ttotal: 11.5s\tremaining: 15.6s\n",
      "424:\tlearn: 0.2486830\ttotal: 11.5s\tremaining: 15.5s\n",
      "425:\tlearn: 0.2485919\ttotal: 11.5s\tremaining: 15.5s\n",
      "426:\tlearn: 0.2484520\ttotal: 11.5s\tremaining: 15.5s\n",
      "427:\tlearn: 0.2483602\ttotal: 11.6s\tremaining: 15.4s\n",
      "428:\tlearn: 0.2481984\ttotal: 11.6s\tremaining: 15.4s\n",
      "429:\tlearn: 0.2481118\ttotal: 11.6s\tremaining: 15.4s\n",
      "430:\tlearn: 0.2480074\ttotal: 11.6s\tremaining: 15.4s\n",
      "431:\tlearn: 0.2479158\ttotal: 11.7s\tremaining: 15.3s\n",
      "432:\tlearn: 0.2478267\ttotal: 11.7s\tremaining: 15.3s\n",
      "433:\tlearn: 0.2476826\ttotal: 11.7s\tremaining: 15.3s\n",
      "434:\tlearn: 0.2476022\ttotal: 11.8s\tremaining: 15.3s\n",
      "435:\tlearn: 0.2474868\ttotal: 11.8s\tremaining: 15.2s\n",
      "436:\tlearn: 0.2473612\ttotal: 11.8s\tremaining: 15.2s\n",
      "437:\tlearn: 0.2472172\ttotal: 11.8s\tremaining: 15.2s\n",
      "438:\tlearn: 0.2471370\ttotal: 11.9s\tremaining: 15.2s\n",
      "439:\tlearn: 0.2470527\ttotal: 11.9s\tremaining: 15.2s\n",
      "440:\tlearn: 0.2469669\ttotal: 12s\tremaining: 15.2s\n",
      "441:\tlearn: 0.2468908\ttotal: 12s\tremaining: 15.1s\n",
      "442:\tlearn: 0.2467492\ttotal: 12s\tremaining: 15.1s\n",
      "443:\tlearn: 0.2465986\ttotal: 12s\tremaining: 15.1s\n",
      "444:\tlearn: 0.2465106\ttotal: 12.1s\tremaining: 15.1s\n",
      "445:\tlearn: 0.2464273\ttotal: 12.1s\tremaining: 15s\n",
      "446:\tlearn: 0.2463550\ttotal: 12.1s\tremaining: 15s\n",
      "447:\tlearn: 0.2462004\ttotal: 12.2s\tremaining: 15s\n",
      "448:\tlearn: 0.2460981\ttotal: 12.2s\tremaining: 15s\n",
      "449:\tlearn: 0.2460212\ttotal: 12.2s\tremaining: 14.9s\n",
      "450:\tlearn: 0.2459113\ttotal: 12.2s\tremaining: 14.9s\n",
      "451:\tlearn: 0.2457571\ttotal: 12.3s\tremaining: 14.9s\n",
      "452:\tlearn: 0.2456810\ttotal: 12.3s\tremaining: 14.9s\n",
      "453:\tlearn: 0.2455821\ttotal: 12.3s\tremaining: 14.8s\n",
      "454:\tlearn: 0.2454118\ttotal: 12.4s\tremaining: 14.8s\n",
      "455:\tlearn: 0.2452750\ttotal: 12.4s\tremaining: 14.8s\n",
      "456:\tlearn: 0.2451676\ttotal: 12.4s\tremaining: 14.7s\n",
      "457:\tlearn: 0.2450009\ttotal: 12.4s\tremaining: 14.7s\n",
      "458:\tlearn: 0.2448741\ttotal: 12.5s\tremaining: 14.7s\n",
      "459:\tlearn: 0.2447293\ttotal: 12.5s\tremaining: 14.7s\n",
      "460:\tlearn: 0.2445609\ttotal: 12.5s\tremaining: 14.6s\n",
      "461:\tlearn: 0.2444145\ttotal: 12.5s\tremaining: 14.6s\n",
      "462:\tlearn: 0.2443498\ttotal: 12.6s\tremaining: 14.6s\n",
      "463:\tlearn: 0.2442719\ttotal: 12.6s\tremaining: 14.6s\n",
      "464:\tlearn: 0.2442002\ttotal: 12.6s\tremaining: 14.5s\n",
      "465:\tlearn: 0.2441277\ttotal: 12.7s\tremaining: 14.5s\n",
      "466:\tlearn: 0.2439813\ttotal: 12.7s\tremaining: 14.5s\n",
      "467:\tlearn: 0.2438646\ttotal: 12.7s\tremaining: 14.5s\n",
      "468:\tlearn: 0.2437405\ttotal: 12.8s\tremaining: 14.4s\n",
      "469:\tlearn: 0.2436233\ttotal: 12.8s\tremaining: 14.4s\n",
      "470:\tlearn: 0.2435090\ttotal: 12.8s\tremaining: 14.4s\n",
      "471:\tlearn: 0.2434037\ttotal: 12.8s\tremaining: 14.4s\n",
      "472:\tlearn: 0.2433263\ttotal: 12.9s\tremaining: 14.3s\n",
      "473:\tlearn: 0.2432245\ttotal: 12.9s\tremaining: 14.3s\n",
      "474:\tlearn: 0.2431528\ttotal: 12.9s\tremaining: 14.3s\n",
      "475:\tlearn: 0.2430785\ttotal: 13s\tremaining: 14.3s\n",
      "476:\tlearn: 0.2430050\ttotal: 13s\tremaining: 14.2s\n",
      "477:\tlearn: 0.2429276\ttotal: 13s\tremaining: 14.2s\n",
      "478:\tlearn: 0.2428546\ttotal: 13s\tremaining: 14.2s\n",
      "479:\tlearn: 0.2427860\ttotal: 13.1s\tremaining: 14.2s\n",
      "480:\tlearn: 0.2426878\ttotal: 13.1s\tremaining: 14.1s\n",
      "481:\tlearn: 0.2426157\ttotal: 13.1s\tremaining: 14.1s\n",
      "482:\tlearn: 0.2425452\ttotal: 13.2s\tremaining: 14.1s\n",
      "483:\tlearn: 0.2424760\ttotal: 13.2s\tremaining: 14.1s\n",
      "484:\tlearn: 0.2423234\ttotal: 13.2s\tremaining: 14s\n",
      "485:\tlearn: 0.2422075\ttotal: 13.2s\tremaining: 14s\n",
      "486:\tlearn: 0.2420656\ttotal: 13.3s\tremaining: 14s\n",
      "487:\tlearn: 0.2419276\ttotal: 13.3s\tremaining: 14s\n",
      "488:\tlearn: 0.2418550\ttotal: 13.3s\tremaining: 13.9s\n",
      "489:\tlearn: 0.2417260\ttotal: 13.4s\tremaining: 13.9s\n",
      "490:\tlearn: 0.2415927\ttotal: 13.4s\tremaining: 13.9s\n",
      "491:\tlearn: 0.2415277\ttotal: 13.4s\tremaining: 13.9s\n",
      "492:\tlearn: 0.2414537\ttotal: 13.5s\tremaining: 13.8s\n",
      "493:\tlearn: 0.2413214\ttotal: 13.5s\tremaining: 13.8s\n",
      "494:\tlearn: 0.2411684\ttotal: 13.5s\tremaining: 13.8s\n",
      "495:\tlearn: 0.2410235\ttotal: 13.5s\tremaining: 13.8s\n",
      "496:\tlearn: 0.2408558\ttotal: 13.6s\tremaining: 13.7s\n",
      "497:\tlearn: 0.2407134\ttotal: 13.6s\tremaining: 13.7s\n",
      "498:\tlearn: 0.2405511\ttotal: 13.6s\tremaining: 13.7s\n",
      "499:\tlearn: 0.2404791\ttotal: 13.7s\tremaining: 13.7s\n",
      "500:\tlearn: 0.2403337\ttotal: 13.7s\tremaining: 13.6s\n",
      "501:\tlearn: 0.2402585\ttotal: 13.7s\tremaining: 13.6s\n",
      "502:\tlearn: 0.2401915\ttotal: 13.7s\tremaining: 13.6s\n",
      "503:\tlearn: 0.2400408\ttotal: 13.8s\tremaining: 13.6s\n",
      "504:\tlearn: 0.2398842\ttotal: 13.8s\tremaining: 13.5s\n",
      "505:\tlearn: 0.2398140\ttotal: 13.8s\tremaining: 13.5s\n",
      "506:\tlearn: 0.2397370\ttotal: 13.9s\tremaining: 13.5s\n",
      "507:\tlearn: 0.2396149\ttotal: 13.9s\tremaining: 13.5s\n",
      "508:\tlearn: 0.2394867\ttotal: 13.9s\tremaining: 13.4s\n",
      "509:\tlearn: 0.2393926\ttotal: 14s\tremaining: 13.4s\n",
      "510:\tlearn: 0.2392599\ttotal: 14s\tremaining: 13.4s\n",
      "511:\tlearn: 0.2391935\ttotal: 14s\tremaining: 13.4s\n",
      "512:\tlearn: 0.2390469\ttotal: 14s\tremaining: 13.3s\n",
      "513:\tlearn: 0.2389001\ttotal: 14.1s\tremaining: 13.3s\n",
      "514:\tlearn: 0.2387793\ttotal: 14.1s\tremaining: 13.3s\n",
      "515:\tlearn: 0.2386937\ttotal: 14.1s\tremaining: 13.3s\n",
      "516:\tlearn: 0.2386239\ttotal: 14.2s\tremaining: 13.2s\n",
      "517:\tlearn: 0.2385529\ttotal: 14.2s\tremaining: 13.2s\n",
      "518:\tlearn: 0.2383864\ttotal: 14.2s\tremaining: 13.2s\n",
      "519:\tlearn: 0.2382616\ttotal: 14.2s\tremaining: 13.1s\n",
      "520:\tlearn: 0.2381975\ttotal: 14.3s\tremaining: 13.1s\n",
      "521:\tlearn: 0.2380698\ttotal: 14.3s\tremaining: 13.1s\n",
      "522:\tlearn: 0.2380051\ttotal: 14.3s\tremaining: 13.1s\n",
      "523:\tlearn: 0.2378473\ttotal: 14.4s\tremaining: 13s\n",
      "524:\tlearn: 0.2377132\ttotal: 14.4s\tremaining: 13s\n",
      "525:\tlearn: 0.2375617\ttotal: 14.4s\tremaining: 13s\n",
      "526:\tlearn: 0.2374396\ttotal: 14.4s\tremaining: 13s\n",
      "527:\tlearn: 0.2372915\ttotal: 14.5s\tremaining: 12.9s\n",
      "528:\tlearn: 0.2371779\ttotal: 14.5s\tremaining: 12.9s\n",
      "529:\tlearn: 0.2370185\ttotal: 14.5s\tremaining: 12.9s\n",
      "530:\tlearn: 0.2369546\ttotal: 14.5s\tremaining: 12.8s\n",
      "531:\tlearn: 0.2368201\ttotal: 14.6s\tremaining: 12.8s\n",
      "532:\tlearn: 0.2366813\ttotal: 14.6s\tremaining: 12.8s\n",
      "533:\tlearn: 0.2366191\ttotal: 14.6s\tremaining: 12.7s\n",
      "534:\tlearn: 0.2365499\ttotal: 14.6s\tremaining: 12.7s\n",
      "535:\tlearn: 0.2364106\ttotal: 14.7s\tremaining: 12.7s\n",
      "536:\tlearn: 0.2363065\ttotal: 14.7s\tremaining: 12.7s\n",
      "537:\tlearn: 0.2361684\ttotal: 14.7s\tremaining: 12.6s\n",
      "538:\tlearn: 0.2360923\ttotal: 14.7s\tremaining: 12.6s\n",
      "539:\tlearn: 0.2359506\ttotal: 14.8s\tremaining: 12.6s\n",
      "540:\tlearn: 0.2358740\ttotal: 14.8s\tremaining: 12.5s\n",
      "541:\tlearn: 0.2358014\ttotal: 14.8s\tremaining: 12.5s\n",
      "542:\tlearn: 0.2356708\ttotal: 14.8s\tremaining: 12.5s\n",
      "543:\tlearn: 0.2355333\ttotal: 14.9s\tremaining: 12.5s\n",
      "544:\tlearn: 0.2354685\ttotal: 14.9s\tremaining: 12.4s\n",
      "545:\tlearn: 0.2353198\ttotal: 14.9s\tremaining: 12.4s\n",
      "546:\tlearn: 0.2352311\ttotal: 15s\tremaining: 12.4s\n",
      "547:\tlearn: 0.2350951\ttotal: 15s\tremaining: 12.4s\n",
      "548:\tlearn: 0.2349415\ttotal: 15s\tremaining: 12.3s\n",
      "549:\tlearn: 0.2347907\ttotal: 15s\tremaining: 12.3s\n",
      "550:\tlearn: 0.2347257\ttotal: 15.1s\tremaining: 12.3s\n",
      "551:\tlearn: 0.2346006\ttotal: 15.1s\tremaining: 12.2s\n",
      "552:\tlearn: 0.2344613\ttotal: 15.1s\tremaining: 12.2s\n",
      "553:\tlearn: 0.2343695\ttotal: 15.1s\tremaining: 12.2s\n",
      "554:\tlearn: 0.2343048\ttotal: 15.2s\tremaining: 12.2s\n",
      "555:\tlearn: 0.2341905\ttotal: 15.2s\tremaining: 12.1s\n",
      "556:\tlearn: 0.2340816\ttotal: 15.2s\tremaining: 12.1s\n",
      "557:\tlearn: 0.2339573\ttotal: 15.2s\tremaining: 12.1s\n",
      "558:\tlearn: 0.2338246\ttotal: 15.3s\tremaining: 12s\n",
      "559:\tlearn: 0.2336754\ttotal: 15.3s\tremaining: 12s\n",
      "560:\tlearn: 0.2336108\ttotal: 15.3s\tremaining: 12s\n",
      "561:\tlearn: 0.2334596\ttotal: 15.3s\tremaining: 12s\n",
      "562:\tlearn: 0.2333655\ttotal: 15.4s\tremaining: 11.9s\n",
      "563:\tlearn: 0.2332078\ttotal: 15.4s\tremaining: 11.9s\n",
      "564:\tlearn: 0.2330966\ttotal: 15.4s\tremaining: 11.9s\n",
      "565:\tlearn: 0.2329679\ttotal: 15.4s\tremaining: 11.8s\n",
      "566:\tlearn: 0.2328544\ttotal: 15.5s\tremaining: 11.8s\n",
      "567:\tlearn: 0.2326987\ttotal: 15.5s\tremaining: 11.8s\n",
      "568:\tlearn: 0.2326255\ttotal: 15.5s\tremaining: 11.8s\n",
      "569:\tlearn: 0.2325557\ttotal: 15.5s\tremaining: 11.7s\n",
      "570:\tlearn: 0.2324635\ttotal: 15.6s\tremaining: 11.7s\n",
      "571:\tlearn: 0.2323503\ttotal: 15.6s\tremaining: 11.7s\n",
      "572:\tlearn: 0.2322262\ttotal: 15.6s\tremaining: 11.6s\n",
      "573:\tlearn: 0.2321437\ttotal: 15.6s\tremaining: 11.6s\n",
      "574:\tlearn: 0.2320080\ttotal: 15.7s\tremaining: 11.6s\n",
      "575:\tlearn: 0.2318864\ttotal: 15.7s\tremaining: 11.6s\n",
      "576:\tlearn: 0.2317811\ttotal: 15.7s\tremaining: 11.5s\n",
      "577:\tlearn: 0.2316779\ttotal: 15.7s\tremaining: 11.5s\n",
      "578:\tlearn: 0.2315665\ttotal: 15.8s\tremaining: 11.5s\n",
      "579:\tlearn: 0.2314462\ttotal: 15.8s\tremaining: 11.4s\n",
      "580:\tlearn: 0.2313104\ttotal: 15.8s\tremaining: 11.4s\n",
      "581:\tlearn: 0.2311792\ttotal: 15.9s\tremaining: 11.4s\n",
      "582:\tlearn: 0.2311047\ttotal: 15.9s\tremaining: 11.4s\n",
      "583:\tlearn: 0.2309932\ttotal: 15.9s\tremaining: 11.3s\n",
      "584:\tlearn: 0.2308950\ttotal: 15.9s\tremaining: 11.3s\n",
      "585:\tlearn: 0.2308300\ttotal: 16s\tremaining: 11.3s\n",
      "586:\tlearn: 0.2307611\ttotal: 16s\tremaining: 11.2s\n",
      "587:\tlearn: 0.2306354\ttotal: 16s\tremaining: 11.2s\n",
      "588:\tlearn: 0.2305030\ttotal: 16s\tremaining: 11.2s\n",
      "589:\tlearn: 0.2303823\ttotal: 16.1s\tremaining: 11.2s\n",
      "590:\tlearn: 0.2303231\ttotal: 16.1s\tremaining: 11.1s\n",
      "591:\tlearn: 0.2302720\ttotal: 16.1s\tremaining: 11.1s\n",
      "592:\tlearn: 0.2301677\ttotal: 16.1s\tremaining: 11.1s\n",
      "593:\tlearn: 0.2300602\ttotal: 16.2s\tremaining: 11s\n",
      "594:\tlearn: 0.2299514\ttotal: 16.2s\tremaining: 11s\n",
      "595:\tlearn: 0.2298418\ttotal: 16.2s\tremaining: 11s\n",
      "596:\tlearn: 0.2297870\ttotal: 16.2s\tremaining: 11s\n",
      "597:\tlearn: 0.2297291\ttotal: 16.3s\tremaining: 10.9s\n",
      "598:\tlearn: 0.2295744\ttotal: 16.3s\tremaining: 10.9s\n",
      "599:\tlearn: 0.2294348\ttotal: 16.3s\tremaining: 10.9s\n",
      "600:\tlearn: 0.2293758\ttotal: 16.4s\tremaining: 10.9s\n",
      "601:\tlearn: 0.2292511\ttotal: 16.4s\tremaining: 10.8s\n",
      "602:\tlearn: 0.2291302\ttotal: 16.4s\tremaining: 10.8s\n",
      "603:\tlearn: 0.2290258\ttotal: 16.4s\tremaining: 10.8s\n",
      "604:\tlearn: 0.2288768\ttotal: 16.5s\tremaining: 10.8s\n",
      "605:\tlearn: 0.2287653\ttotal: 16.5s\tremaining: 10.7s\n",
      "606:\tlearn: 0.2286730\ttotal: 16.5s\tremaining: 10.7s\n",
      "607:\tlearn: 0.2285738\ttotal: 16.5s\tremaining: 10.7s\n",
      "608:\tlearn: 0.2284682\ttotal: 16.6s\tremaining: 10.6s\n",
      "609:\tlearn: 0.2283540\ttotal: 16.6s\tremaining: 10.6s\n",
      "610:\tlearn: 0.2282823\ttotal: 16.6s\tremaining: 10.6s\n",
      "611:\tlearn: 0.2281520\ttotal: 16.7s\tremaining: 10.6s\n",
      "612:\tlearn: 0.2280184\ttotal: 16.7s\tremaining: 10.5s\n",
      "613:\tlearn: 0.2279588\ttotal: 16.7s\tremaining: 10.5s\n",
      "614:\tlearn: 0.2279057\ttotal: 16.8s\tremaining: 10.5s\n",
      "615:\tlearn: 0.2278532\ttotal: 16.8s\tremaining: 10.5s\n",
      "616:\tlearn: 0.2277376\ttotal: 16.8s\tremaining: 10.4s\n",
      "617:\tlearn: 0.2276308\ttotal: 16.8s\tremaining: 10.4s\n",
      "618:\tlearn: 0.2275030\ttotal: 16.9s\tremaining: 10.4s\n",
      "619:\tlearn: 0.2274297\ttotal: 16.9s\tremaining: 10.4s\n",
      "620:\tlearn: 0.2273143\ttotal: 16.9s\tremaining: 10.3s\n",
      "621:\tlearn: 0.2272084\ttotal: 17s\tremaining: 10.3s\n",
      "622:\tlearn: 0.2271043\ttotal: 17s\tremaining: 10.3s\n",
      "623:\tlearn: 0.2270092\ttotal: 17s\tremaining: 10.3s\n",
      "624:\tlearn: 0.2269177\ttotal: 17s\tremaining: 10.2s\n",
      "625:\tlearn: 0.2268318\ttotal: 17.1s\tremaining: 10.2s\n",
      "626:\tlearn: 0.2267470\ttotal: 17.1s\tremaining: 10.2s\n",
      "627:\tlearn: 0.2266455\ttotal: 17.1s\tremaining: 10.1s\n",
      "628:\tlearn: 0.2265548\ttotal: 17.2s\tremaining: 10.1s\n",
      "629:\tlearn: 0.2264378\ttotal: 17.2s\tremaining: 10.1s\n",
      "630:\tlearn: 0.2263635\ttotal: 17.2s\tremaining: 10.1s\n",
      "631:\tlearn: 0.2262556\ttotal: 17.2s\tremaining: 10s\n",
      "632:\tlearn: 0.2261228\ttotal: 17.3s\tremaining: 10s\n",
      "633:\tlearn: 0.2259827\ttotal: 17.3s\tremaining: 9.98s\n",
      "634:\tlearn: 0.2258562\ttotal: 17.3s\tremaining: 9.95s\n",
      "635:\tlearn: 0.2257956\ttotal: 17.3s\tremaining: 9.93s\n",
      "636:\tlearn: 0.2256917\ttotal: 17.4s\tremaining: 9.9s\n",
      "637:\tlearn: 0.2255743\ttotal: 17.4s\tremaining: 9.87s\n",
      "638:\tlearn: 0.2254481\ttotal: 17.4s\tremaining: 9.84s\n",
      "639:\tlearn: 0.2253373\ttotal: 17.4s\tremaining: 9.81s\n",
      "640:\tlearn: 0.2251907\ttotal: 17.5s\tremaining: 9.79s\n",
      "641:\tlearn: 0.2251160\ttotal: 17.5s\tremaining: 9.76s\n",
      "642:\tlearn: 0.2250612\ttotal: 17.5s\tremaining: 9.73s\n",
      "643:\tlearn: 0.2249306\ttotal: 17.5s\tremaining: 9.7s\n",
      "644:\tlearn: 0.2248777\ttotal: 17.6s\tremaining: 9.67s\n",
      "645:\tlearn: 0.2247761\ttotal: 17.6s\tremaining: 9.64s\n",
      "646:\tlearn: 0.2247208\ttotal: 17.6s\tremaining: 9.61s\n",
      "647:\tlearn: 0.2246228\ttotal: 17.6s\tremaining: 9.59s\n",
      "648:\tlearn: 0.2245009\ttotal: 17.7s\tremaining: 9.56s\n",
      "649:\tlearn: 0.2243665\ttotal: 17.7s\tremaining: 9.53s\n",
      "650:\tlearn: 0.2243115\ttotal: 17.7s\tremaining: 9.5s\n",
      "651:\tlearn: 0.2242204\ttotal: 17.7s\tremaining: 9.47s\n",
      "652:\tlearn: 0.2241654\ttotal: 17.8s\tremaining: 9.44s\n",
      "653:\tlearn: 0.2240504\ttotal: 17.8s\tremaining: 9.42s\n",
      "654:\tlearn: 0.2239956\ttotal: 17.8s\tremaining: 9.39s\n",
      "655:\tlearn: 0.2238935\ttotal: 17.9s\tremaining: 9.36s\n",
      "656:\tlearn: 0.2237944\ttotal: 17.9s\tremaining: 9.33s\n",
      "657:\tlearn: 0.2237172\ttotal: 17.9s\tremaining: 9.3s\n",
      "658:\tlearn: 0.2235343\ttotal: 17.9s\tremaining: 9.28s\n",
      "659:\tlearn: 0.2234346\ttotal: 17.9s\tremaining: 9.25s\n",
      "660:\tlearn: 0.2233830\ttotal: 18s\tremaining: 9.22s\n",
      "661:\tlearn: 0.2233358\ttotal: 18s\tremaining: 9.19s\n",
      "662:\tlearn: 0.2232392\ttotal: 18s\tremaining: 9.16s\n",
      "663:\tlearn: 0.2231309\ttotal: 18s\tremaining: 9.13s\n",
      "664:\tlearn: 0.2230225\ttotal: 18.1s\tremaining: 9.1s\n",
      "665:\tlearn: 0.2229463\ttotal: 18.1s\tremaining: 9.07s\n",
      "666:\tlearn: 0.2228997\ttotal: 18.1s\tremaining: 9.05s\n",
      "667:\tlearn: 0.2228221\ttotal: 18.1s\tremaining: 9.02s\n",
      "668:\tlearn: 0.2227272\ttotal: 18.2s\tremaining: 8.99s\n",
      "669:\tlearn: 0.2226730\ttotal: 18.2s\tremaining: 8.96s\n",
      "670:\tlearn: 0.2225580\ttotal: 18.2s\tremaining: 8.93s\n",
      "671:\tlearn: 0.2224350\ttotal: 18.2s\tremaining: 8.9s\n",
      "672:\tlearn: 0.2223297\ttotal: 18.3s\tremaining: 8.88s\n",
      "673:\tlearn: 0.2222073\ttotal: 18.3s\tremaining: 8.85s\n",
      "674:\tlearn: 0.2221532\ttotal: 18.3s\tremaining: 8.82s\n",
      "675:\tlearn: 0.2220422\ttotal: 18.3s\tremaining: 8.79s\n",
      "676:\tlearn: 0.2219853\ttotal: 18.4s\tremaining: 8.76s\n",
      "677:\tlearn: 0.2218965\ttotal: 18.4s\tremaining: 8.73s\n",
      "678:\tlearn: 0.2218456\ttotal: 18.4s\tremaining: 8.71s\n",
      "679:\tlearn: 0.2217179\ttotal: 18.4s\tremaining: 8.68s\n",
      "680:\tlearn: 0.2215729\ttotal: 18.5s\tremaining: 8.65s\n",
      "681:\tlearn: 0.2214274\ttotal: 18.5s\tremaining: 8.62s\n",
      "682:\tlearn: 0.2213382\ttotal: 18.5s\tremaining: 8.59s\n",
      "683:\tlearn: 0.2212654\ttotal: 18.5s\tremaining: 8.56s\n",
      "684:\tlearn: 0.2212012\ttotal: 18.6s\tremaining: 8.54s\n",
      "685:\tlearn: 0.2210861\ttotal: 18.6s\tremaining: 8.51s\n",
      "686:\tlearn: 0.2210228\ttotal: 18.6s\tremaining: 8.48s\n",
      "687:\tlearn: 0.2209391\ttotal: 18.6s\tremaining: 8.45s\n",
      "688:\tlearn: 0.2208443\ttotal: 18.7s\tremaining: 8.42s\n",
      "689:\tlearn: 0.2207258\ttotal: 18.7s\tremaining: 8.39s\n",
      "690:\tlearn: 0.2206695\ttotal: 18.7s\tremaining: 8.37s\n",
      "691:\tlearn: 0.2205578\ttotal: 18.7s\tremaining: 8.34s\n",
      "692:\tlearn: 0.2204560\ttotal: 18.8s\tremaining: 8.31s\n",
      "693:\tlearn: 0.2203720\ttotal: 18.8s\tremaining: 8.28s\n",
      "694:\tlearn: 0.2202588\ttotal: 18.8s\tremaining: 8.26s\n",
      "695:\tlearn: 0.2202049\ttotal: 18.8s\tremaining: 8.23s\n",
      "696:\tlearn: 0.2201508\ttotal: 18.9s\tremaining: 8.2s\n",
      "697:\tlearn: 0.2200548\ttotal: 18.9s\tremaining: 8.17s\n",
      "698:\tlearn: 0.2199268\ttotal: 18.9s\tremaining: 8.14s\n",
      "699:\tlearn: 0.2198458\ttotal: 18.9s\tremaining: 8.12s\n",
      "700:\tlearn: 0.2197462\ttotal: 19s\tremaining: 8.09s\n",
      "701:\tlearn: 0.2196437\ttotal: 19s\tremaining: 8.06s\n",
      "702:\tlearn: 0.2195818\ttotal: 19s\tremaining: 8.03s\n",
      "703:\tlearn: 0.2194968\ttotal: 19.1s\tremaining: 8.01s\n",
      "704:\tlearn: 0.2194084\ttotal: 19.1s\tremaining: 7.98s\n",
      "705:\tlearn: 0.2193044\ttotal: 19.1s\tremaining: 7.95s\n",
      "706:\tlearn: 0.2192252\ttotal: 19.1s\tremaining: 7.92s\n",
      "707:\tlearn: 0.2190754\ttotal: 19.1s\tremaining: 7.9s\n",
      "708:\tlearn: 0.2190231\ttotal: 19.2s\tremaining: 7.87s\n",
      "709:\tlearn: 0.2189169\ttotal: 19.2s\tremaining: 7.84s\n",
      "710:\tlearn: 0.2188596\ttotal: 19.2s\tremaining: 7.82s\n",
      "711:\tlearn: 0.2188004\ttotal: 19.3s\tremaining: 7.79s\n",
      "712:\tlearn: 0.2186806\ttotal: 19.3s\tremaining: 7.76s\n",
      "713:\tlearn: 0.2185639\ttotal: 19.3s\tremaining: 7.74s\n",
      "714:\tlearn: 0.2184918\ttotal: 19.3s\tremaining: 7.71s\n",
      "715:\tlearn: 0.2184057\ttotal: 19.4s\tremaining: 7.68s\n",
      "716:\tlearn: 0.2182683\ttotal: 19.4s\tremaining: 7.65s\n",
      "717:\tlearn: 0.2182137\ttotal: 19.4s\tremaining: 7.62s\n",
      "718:\tlearn: 0.2181663\ttotal: 19.4s\tremaining: 7.6s\n",
      "719:\tlearn: 0.2181076\ttotal: 19.5s\tremaining: 7.57s\n",
      "720:\tlearn: 0.2180059\ttotal: 19.5s\tremaining: 7.54s\n",
      "721:\tlearn: 0.2179583\ttotal: 19.5s\tremaining: 7.51s\n",
      "722:\tlearn: 0.2178764\ttotal: 19.5s\tremaining: 7.49s\n",
      "723:\tlearn: 0.2177762\ttotal: 19.6s\tremaining: 7.46s\n",
      "724:\tlearn: 0.2176571\ttotal: 19.6s\tremaining: 7.43s\n",
      "725:\tlearn: 0.2175839\ttotal: 19.6s\tremaining: 7.4s\n",
      "726:\tlearn: 0.2174907\ttotal: 19.6s\tremaining: 7.37s\n",
      "727:\tlearn: 0.2173877\ttotal: 19.7s\tremaining: 7.34s\n",
      "728:\tlearn: 0.2173226\ttotal: 19.7s\tremaining: 7.32s\n",
      "729:\tlearn: 0.2172323\ttotal: 19.7s\tremaining: 7.29s\n",
      "730:\tlearn: 0.2171306\ttotal: 19.7s\tremaining: 7.26s\n",
      "731:\tlearn: 0.2170759\ttotal: 19.8s\tremaining: 7.23s\n",
      "732:\tlearn: 0.2170226\ttotal: 19.8s\tremaining: 7.21s\n",
      "733:\tlearn: 0.2169311\ttotal: 19.8s\tremaining: 7.18s\n",
      "734:\tlearn: 0.2168086\ttotal: 19.8s\tremaining: 7.15s\n",
      "735:\tlearn: 0.2167337\ttotal: 19.9s\tremaining: 7.12s\n",
      "736:\tlearn: 0.2166228\ttotal: 19.9s\tremaining: 7.09s\n",
      "737:\tlearn: 0.2165236\ttotal: 19.9s\tremaining: 7.07s\n",
      "738:\tlearn: 0.2163676\ttotal: 19.9s\tremaining: 7.04s\n",
      "739:\tlearn: 0.2162583\ttotal: 20s\tremaining: 7.01s\n",
      "740:\tlearn: 0.2162055\ttotal: 20s\tremaining: 6.99s\n",
      "741:\tlearn: 0.2160931\ttotal: 20s\tremaining: 6.96s\n",
      "742:\tlearn: 0.2159922\ttotal: 20s\tremaining: 6.93s\n",
      "743:\tlearn: 0.2159195\ttotal: 20.1s\tremaining: 6.9s\n",
      "744:\tlearn: 0.2158385\ttotal: 20.1s\tremaining: 6.87s\n",
      "745:\tlearn: 0.2157689\ttotal: 20.1s\tremaining: 6.84s\n",
      "746:\tlearn: 0.2157016\ttotal: 20.1s\tremaining: 6.82s\n",
      "747:\tlearn: 0.2156509\ttotal: 20.2s\tremaining: 6.79s\n",
      "748:\tlearn: 0.2155456\ttotal: 20.2s\tremaining: 6.76s\n",
      "749:\tlearn: 0.2154369\ttotal: 20.2s\tremaining: 6.73s\n",
      "750:\tlearn: 0.2153574\ttotal: 20.2s\tremaining: 6.71s\n",
      "751:\tlearn: 0.2152399\ttotal: 20.3s\tremaining: 6.68s\n",
      "752:\tlearn: 0.2151919\ttotal: 20.3s\tremaining: 6.65s\n",
      "753:\tlearn: 0.2150846\ttotal: 20.3s\tremaining: 6.62s\n",
      "754:\tlearn: 0.2149967\ttotal: 20.3s\tremaining: 6.59s\n",
      "755:\tlearn: 0.2148820\ttotal: 20.4s\tremaining: 6.57s\n",
      "756:\tlearn: 0.2147655\ttotal: 20.4s\tremaining: 6.54s\n",
      "757:\tlearn: 0.2147167\ttotal: 20.4s\tremaining: 6.51s\n",
      "758:\tlearn: 0.2145967\ttotal: 20.4s\tremaining: 6.49s\n",
      "759:\tlearn: 0.2145466\ttotal: 20.4s\tremaining: 6.46s\n",
      "760:\tlearn: 0.2144268\ttotal: 20.5s\tremaining: 6.43s\n",
      "761:\tlearn: 0.2143325\ttotal: 20.5s\tremaining: 6.4s\n",
      "762:\tlearn: 0.2142316\ttotal: 20.5s\tremaining: 6.38s\n",
      "763:\tlearn: 0.2141411\ttotal: 20.5s\tremaining: 6.35s\n",
      "764:\tlearn: 0.2140709\ttotal: 20.6s\tremaining: 6.32s\n",
      "765:\tlearn: 0.2140047\ttotal: 20.6s\tremaining: 6.29s\n",
      "766:\tlearn: 0.2138996\ttotal: 20.6s\tremaining: 6.26s\n",
      "767:\tlearn: 0.2137916\ttotal: 20.6s\tremaining: 6.24s\n",
      "768:\tlearn: 0.2136788\ttotal: 20.7s\tremaining: 6.21s\n",
      "769:\tlearn: 0.2136396\ttotal: 20.7s\tremaining: 6.18s\n",
      "770:\tlearn: 0.2135465\ttotal: 20.7s\tremaining: 6.15s\n",
      "771:\tlearn: 0.2134507\ttotal: 20.7s\tremaining: 6.13s\n",
      "772:\tlearn: 0.2133463\ttotal: 20.8s\tremaining: 6.1s\n",
      "773:\tlearn: 0.2132931\ttotal: 20.8s\tremaining: 6.07s\n",
      "774:\tlearn: 0.2132394\ttotal: 20.8s\tremaining: 6.05s\n",
      "775:\tlearn: 0.2131999\ttotal: 20.9s\tremaining: 6.02s\n",
      "776:\tlearn: 0.2130818\ttotal: 20.9s\tremaining: 5.99s\n",
      "777:\tlearn: 0.2129549\ttotal: 20.9s\tremaining: 5.96s\n",
      "778:\tlearn: 0.2128650\ttotal: 20.9s\tremaining: 5.94s\n",
      "779:\tlearn: 0.2128050\ttotal: 21s\tremaining: 5.91s\n",
      "780:\tlearn: 0.2126924\ttotal: 21s\tremaining: 5.88s\n",
      "781:\tlearn: 0.2125854\ttotal: 21s\tremaining: 5.86s\n",
      "782:\tlearn: 0.2125087\ttotal: 21s\tremaining: 5.83s\n",
      "783:\tlearn: 0.2123782\ttotal: 21.1s\tremaining: 5.8s\n",
      "784:\tlearn: 0.2122882\ttotal: 21.1s\tremaining: 5.77s\n",
      "785:\tlearn: 0.2121376\ttotal: 21.1s\tremaining: 5.75s\n",
      "786:\tlearn: 0.2119935\ttotal: 21.1s\tremaining: 5.72s\n",
      "787:\tlearn: 0.2118953\ttotal: 21.1s\tremaining: 5.69s\n",
      "788:\tlearn: 0.2117892\ttotal: 21.2s\tremaining: 5.66s\n",
      "789:\tlearn: 0.2117315\ttotal: 21.2s\tremaining: 5.63s\n",
      "790:\tlearn: 0.2116818\ttotal: 21.2s\tremaining: 5.61s\n",
      "791:\tlearn: 0.2116420\ttotal: 21.2s\tremaining: 5.58s\n",
      "792:\tlearn: 0.2115627\ttotal: 21.3s\tremaining: 5.55s\n",
      "793:\tlearn: 0.2115270\ttotal: 21.3s\tremaining: 5.53s\n",
      "794:\tlearn: 0.2114295\ttotal: 21.3s\tremaining: 5.5s\n",
      "795:\tlearn: 0.2113894\ttotal: 21.3s\tremaining: 5.47s\n",
      "796:\tlearn: 0.2112690\ttotal: 21.4s\tremaining: 5.44s\n",
      "797:\tlearn: 0.2112205\ttotal: 21.4s\tremaining: 5.42s\n",
      "798:\tlearn: 0.2111621\ttotal: 21.4s\tremaining: 5.39s\n",
      "799:\tlearn: 0.2111111\ttotal: 21.4s\tremaining: 5.36s\n",
      "800:\tlearn: 0.2110779\ttotal: 21.5s\tremaining: 5.33s\n",
      "801:\tlearn: 0.2109997\ttotal: 21.5s\tremaining: 5.31s\n",
      "802:\tlearn: 0.2109666\ttotal: 21.5s\tremaining: 5.28s\n",
      "803:\tlearn: 0.2109310\ttotal: 21.5s\tremaining: 5.25s\n",
      "804:\tlearn: 0.2108953\ttotal: 21.6s\tremaining: 5.22s\n",
      "805:\tlearn: 0.2108468\ttotal: 21.6s\tremaining: 5.2s\n",
      "806:\tlearn: 0.2107646\ttotal: 21.6s\tremaining: 5.17s\n",
      "807:\tlearn: 0.2106923\ttotal: 21.6s\tremaining: 5.14s\n",
      "808:\tlearn: 0.2106421\ttotal: 21.7s\tremaining: 5.12s\n",
      "809:\tlearn: 0.2105853\ttotal: 21.7s\tremaining: 5.09s\n",
      "810:\tlearn: 0.2105444\ttotal: 21.7s\tremaining: 5.06s\n",
      "811:\tlearn: 0.2104490\ttotal: 21.7s\tremaining: 5.03s\n",
      "812:\tlearn: 0.2103453\ttotal: 21.8s\tremaining: 5.01s\n",
      "813:\tlearn: 0.2103115\ttotal: 21.8s\tremaining: 4.98s\n",
      "814:\tlearn: 0.2102395\ttotal: 21.8s\tremaining: 4.95s\n",
      "815:\tlearn: 0.2101284\ttotal: 21.8s\tremaining: 4.93s\n",
      "816:\tlearn: 0.2100490\ttotal: 21.9s\tremaining: 4.9s\n",
      "817:\tlearn: 0.2099505\ttotal: 21.9s\tremaining: 4.87s\n",
      "818:\tlearn: 0.2098679\ttotal: 21.9s\tremaining: 4.84s\n",
      "819:\tlearn: 0.2097627\ttotal: 21.9s\tremaining: 4.82s\n",
      "820:\tlearn: 0.2096786\ttotal: 22s\tremaining: 4.79s\n",
      "821:\tlearn: 0.2096395\ttotal: 22s\tremaining: 4.76s\n",
      "822:\tlearn: 0.2096097\ttotal: 22s\tremaining: 4.74s\n",
      "823:\tlearn: 0.2095629\ttotal: 22.1s\tremaining: 4.71s\n",
      "824:\tlearn: 0.2095044\ttotal: 22.1s\tremaining: 4.68s\n",
      "825:\tlearn: 0.2094574\ttotal: 22.1s\tremaining: 4.66s\n",
      "826:\tlearn: 0.2093601\ttotal: 22.1s\tremaining: 4.63s\n",
      "827:\tlearn: 0.2092602\ttotal: 22.2s\tremaining: 4.6s\n",
      "828:\tlearn: 0.2091465\ttotal: 22.2s\tremaining: 4.57s\n",
      "829:\tlearn: 0.2091102\ttotal: 22.2s\tremaining: 4.55s\n",
      "830:\tlearn: 0.2090798\ttotal: 22.2s\tremaining: 4.52s\n",
      "831:\tlearn: 0.2089776\ttotal: 22.2s\tremaining: 4.49s\n",
      "832:\tlearn: 0.2089241\ttotal: 22.3s\tremaining: 4.46s\n",
      "833:\tlearn: 0.2088339\ttotal: 22.3s\tremaining: 4.44s\n",
      "834:\tlearn: 0.2087393\ttotal: 22.3s\tremaining: 4.41s\n",
      "835:\tlearn: 0.2086916\ttotal: 22.3s\tremaining: 4.38s\n",
      "836:\tlearn: 0.2085970\ttotal: 22.4s\tremaining: 4.36s\n",
      "837:\tlearn: 0.2085190\ttotal: 22.4s\tremaining: 4.33s\n",
      "838:\tlearn: 0.2084325\ttotal: 22.4s\tremaining: 4.3s\n",
      "839:\tlearn: 0.2083992\ttotal: 22.4s\tremaining: 4.28s\n",
      "840:\tlearn: 0.2083161\ttotal: 22.5s\tremaining: 4.25s\n",
      "841:\tlearn: 0.2081764\ttotal: 22.5s\tremaining: 4.22s\n",
      "842:\tlearn: 0.2080783\ttotal: 22.5s\tremaining: 4.2s\n",
      "843:\tlearn: 0.2079715\ttotal: 22.6s\tremaining: 4.17s\n",
      "844:\tlearn: 0.2078641\ttotal: 22.6s\tremaining: 4.14s\n",
      "845:\tlearn: 0.2077555\ttotal: 22.6s\tremaining: 4.12s\n",
      "846:\tlearn: 0.2077085\ttotal: 22.6s\tremaining: 4.09s\n",
      "847:\tlearn: 0.2076451\ttotal: 22.7s\tremaining: 4.06s\n",
      "848:\tlearn: 0.2075480\ttotal: 22.7s\tremaining: 4.04s\n",
      "849:\tlearn: 0.2075110\ttotal: 22.7s\tremaining: 4.01s\n",
      "850:\tlearn: 0.2074093\ttotal: 22.8s\tremaining: 3.98s\n",
      "851:\tlearn: 0.2073606\ttotal: 22.8s\tremaining: 3.96s\n",
      "852:\tlearn: 0.2072708\ttotal: 22.8s\tremaining: 3.93s\n",
      "853:\tlearn: 0.2071780\ttotal: 22.9s\tremaining: 3.91s\n",
      "854:\tlearn: 0.2070635\ttotal: 22.9s\tremaining: 3.88s\n",
      "855:\tlearn: 0.2070277\ttotal: 22.9s\tremaining: 3.85s\n",
      "856:\tlearn: 0.2069517\ttotal: 22.9s\tremaining: 3.83s\n",
      "857:\tlearn: 0.2068367\ttotal: 23s\tremaining: 3.8s\n",
      "858:\tlearn: 0.2067597\ttotal: 23s\tremaining: 3.77s\n",
      "859:\tlearn: 0.2066992\ttotal: 23s\tremaining: 3.75s\n",
      "860:\tlearn: 0.2065848\ttotal: 23s\tremaining: 3.72s\n",
      "861:\tlearn: 0.2065424\ttotal: 23.1s\tremaining: 3.69s\n",
      "862:\tlearn: 0.2065075\ttotal: 23.1s\tremaining: 3.67s\n",
      "863:\tlearn: 0.2063905\ttotal: 23.1s\tremaining: 3.64s\n",
      "864:\tlearn: 0.2063034\ttotal: 23.1s\tremaining: 3.61s\n",
      "865:\tlearn: 0.2062548\ttotal: 23.2s\tremaining: 3.58s\n",
      "866:\tlearn: 0.2062204\ttotal: 23.2s\tremaining: 3.56s\n",
      "867:\tlearn: 0.2061418\ttotal: 23.2s\tremaining: 3.53s\n",
      "868:\tlearn: 0.2060969\ttotal: 23.2s\tremaining: 3.5s\n",
      "869:\tlearn: 0.2060564\ttotal: 23.3s\tremaining: 3.48s\n",
      "870:\tlearn: 0.2059769\ttotal: 23.3s\tremaining: 3.45s\n",
      "871:\tlearn: 0.2058721\ttotal: 23.3s\tremaining: 3.42s\n",
      "872:\tlearn: 0.2057772\ttotal: 23.3s\tremaining: 3.4s\n",
      "873:\tlearn: 0.2056789\ttotal: 23.4s\tremaining: 3.37s\n",
      "874:\tlearn: 0.2055940\ttotal: 23.4s\tremaining: 3.34s\n",
      "875:\tlearn: 0.2055469\ttotal: 23.4s\tremaining: 3.31s\n",
      "876:\tlearn: 0.2054865\ttotal: 23.4s\tremaining: 3.29s\n",
      "877:\tlearn: 0.2054520\ttotal: 23.5s\tremaining: 3.26s\n",
      "878:\tlearn: 0.2054114\ttotal: 23.5s\tremaining: 3.23s\n",
      "879:\tlearn: 0.2053745\ttotal: 23.5s\tremaining: 3.21s\n",
      "880:\tlearn: 0.2053360\ttotal: 23.5s\tremaining: 3.18s\n",
      "881:\tlearn: 0.2052413\ttotal: 23.6s\tremaining: 3.15s\n",
      "882:\tlearn: 0.2051648\ttotal: 23.6s\tremaining: 3.13s\n",
      "883:\tlearn: 0.2050772\ttotal: 23.6s\tremaining: 3.1s\n",
      "884:\tlearn: 0.2049843\ttotal: 23.6s\tremaining: 3.07s\n",
      "885:\tlearn: 0.2049458\ttotal: 23.7s\tremaining: 3.04s\n",
      "886:\tlearn: 0.2049072\ttotal: 23.7s\tremaining: 3.02s\n",
      "887:\tlearn: 0.2048469\ttotal: 23.7s\tremaining: 2.99s\n",
      "888:\tlearn: 0.2048115\ttotal: 23.7s\tremaining: 2.96s\n",
      "889:\tlearn: 0.2047775\ttotal: 23.8s\tremaining: 2.94s\n",
      "890:\tlearn: 0.2046881\ttotal: 23.8s\tremaining: 2.91s\n",
      "891:\tlearn: 0.2046563\ttotal: 23.8s\tremaining: 2.88s\n",
      "892:\tlearn: 0.2046176\ttotal: 23.8s\tremaining: 2.86s\n",
      "893:\tlearn: 0.2045826\ttotal: 23.9s\tremaining: 2.83s\n",
      "894:\tlearn: 0.2045475\ttotal: 23.9s\tremaining: 2.8s\n",
      "895:\tlearn: 0.2044679\ttotal: 23.9s\tremaining: 2.77s\n",
      "896:\tlearn: 0.2044376\ttotal: 23.9s\tremaining: 2.75s\n",
      "897:\tlearn: 0.2043959\ttotal: 24s\tremaining: 2.72s\n",
      "898:\tlearn: 0.2043422\ttotal: 24s\tremaining: 2.69s\n",
      "899:\tlearn: 0.2042518\ttotal: 24s\tremaining: 2.67s\n",
      "900:\tlearn: 0.2041404\ttotal: 24s\tremaining: 2.64s\n",
      "901:\tlearn: 0.2040534\ttotal: 24.1s\tremaining: 2.61s\n",
      "902:\tlearn: 0.2040144\ttotal: 24.1s\tremaining: 2.59s\n",
      "903:\tlearn: 0.2039660\ttotal: 24.1s\tremaining: 2.56s\n",
      "904:\tlearn: 0.2038888\ttotal: 24.1s\tremaining: 2.53s\n",
      "905:\tlearn: 0.2038446\ttotal: 24.2s\tremaining: 2.51s\n",
      "906:\tlearn: 0.2038119\ttotal: 24.2s\tremaining: 2.48s\n",
      "907:\tlearn: 0.2037741\ttotal: 24.2s\tremaining: 2.45s\n",
      "908:\tlearn: 0.2037008\ttotal: 24.2s\tremaining: 2.42s\n",
      "909:\tlearn: 0.2036599\ttotal: 24.3s\tremaining: 2.4s\n",
      "910:\tlearn: 0.2035682\ttotal: 24.3s\tremaining: 2.37s\n",
      "911:\tlearn: 0.2034837\ttotal: 24.3s\tremaining: 2.34s\n",
      "912:\tlearn: 0.2034052\ttotal: 24.3s\tremaining: 2.32s\n",
      "913:\tlearn: 0.2033734\ttotal: 24.3s\tremaining: 2.29s\n",
      "914:\tlearn: 0.2033160\ttotal: 24.4s\tremaining: 2.26s\n",
      "915:\tlearn: 0.2032575\ttotal: 24.4s\tremaining: 2.24s\n",
      "916:\tlearn: 0.2031763\ttotal: 24.4s\tremaining: 2.21s\n",
      "917:\tlearn: 0.2031110\ttotal: 24.4s\tremaining: 2.18s\n",
      "918:\tlearn: 0.2030786\ttotal: 24.5s\tremaining: 2.16s\n",
      "919:\tlearn: 0.2030432\ttotal: 24.5s\tremaining: 2.13s\n",
      "920:\tlearn: 0.2030088\ttotal: 24.5s\tremaining: 2.1s\n",
      "921:\tlearn: 0.2029706\ttotal: 24.5s\tremaining: 2.08s\n",
      "922:\tlearn: 0.2028861\ttotal: 24.6s\tremaining: 2.05s\n",
      "923:\tlearn: 0.2027959\ttotal: 24.6s\tremaining: 2.02s\n",
      "924:\tlearn: 0.2027589\ttotal: 24.6s\tremaining: 2s\n",
      "925:\tlearn: 0.2027129\ttotal: 24.6s\tremaining: 1.97s\n",
      "926:\tlearn: 0.2026828\ttotal: 24.7s\tremaining: 1.94s\n",
      "927:\tlearn: 0.2025734\ttotal: 24.7s\tremaining: 1.92s\n",
      "928:\tlearn: 0.2025384\ttotal: 24.7s\tremaining: 1.89s\n",
      "929:\tlearn: 0.2024809\ttotal: 24.7s\tremaining: 1.86s\n",
      "930:\tlearn: 0.2024422\ttotal: 24.8s\tremaining: 1.84s\n",
      "931:\tlearn: 0.2023311\ttotal: 24.8s\tremaining: 1.81s\n",
      "932:\tlearn: 0.2022957\ttotal: 24.8s\tremaining: 1.78s\n",
      "933:\tlearn: 0.2022179\ttotal: 24.9s\tremaining: 1.76s\n",
      "934:\tlearn: 0.2021353\ttotal: 24.9s\tremaining: 1.73s\n",
      "935:\tlearn: 0.2021021\ttotal: 24.9s\tremaining: 1.7s\n",
      "936:\tlearn: 0.2020485\ttotal: 25s\tremaining: 1.68s\n",
      "937:\tlearn: 0.2020156\ttotal: 25s\tremaining: 1.65s\n",
      "938:\tlearn: 0.2019843\ttotal: 25s\tremaining: 1.62s\n",
      "939:\tlearn: 0.2019012\ttotal: 25s\tremaining: 1.6s\n",
      "940:\tlearn: 0.2017991\ttotal: 25.1s\tremaining: 1.57s\n",
      "941:\tlearn: 0.2017092\ttotal: 25.1s\tremaining: 1.54s\n",
      "942:\tlearn: 0.2016744\ttotal: 25.1s\tremaining: 1.52s\n",
      "943:\tlearn: 0.2015951\ttotal: 25.2s\tremaining: 1.49s\n",
      "944:\tlearn: 0.2015605\ttotal: 25.2s\tremaining: 1.47s\n",
      "945:\tlearn: 0.2015075\ttotal: 25.2s\tremaining: 1.44s\n",
      "946:\tlearn: 0.2014722\ttotal: 25.3s\tremaining: 1.41s\n",
      "947:\tlearn: 0.2014387\ttotal: 25.3s\tremaining: 1.39s\n",
      "948:\tlearn: 0.2014043\ttotal: 25.3s\tremaining: 1.36s\n",
      "949:\tlearn: 0.2013249\ttotal: 25.4s\tremaining: 1.33s\n",
      "950:\tlearn: 0.2012411\ttotal: 25.4s\tremaining: 1.31s\n",
      "951:\tlearn: 0.2012050\ttotal: 25.4s\tremaining: 1.28s\n",
      "952:\tlearn: 0.2011723\ttotal: 25.5s\tremaining: 1.26s\n",
      "953:\tlearn: 0.2011389\ttotal: 25.5s\tremaining: 1.23s\n",
      "954:\tlearn: 0.2011059\ttotal: 25.5s\tremaining: 1.2s\n",
      "955:\tlearn: 0.2010598\ttotal: 25.6s\tremaining: 1.18s\n",
      "956:\tlearn: 0.2010254\ttotal: 25.6s\tremaining: 1.15s\n",
      "957:\tlearn: 0.2009944\ttotal: 25.6s\tremaining: 1.12s\n",
      "958:\tlearn: 0.2009620\ttotal: 25.7s\tremaining: 1.1s\n",
      "959:\tlearn: 0.2009340\ttotal: 25.7s\tremaining: 1.07s\n",
      "960:\tlearn: 0.2008340\ttotal: 25.7s\tremaining: 1.04s\n",
      "961:\tlearn: 0.2007488\ttotal: 25.8s\tremaining: 1.02s\n",
      "962:\tlearn: 0.2007198\ttotal: 25.8s\tremaining: 991ms\n",
      "963:\tlearn: 0.2006856\ttotal: 25.8s\tremaining: 964ms\n",
      "964:\tlearn: 0.2006413\ttotal: 25.9s\tremaining: 938ms\n",
      "965:\tlearn: 0.2005549\ttotal: 25.9s\tremaining: 911ms\n",
      "966:\tlearn: 0.2004553\ttotal: 25.9s\tremaining: 884ms\n",
      "967:\tlearn: 0.2004027\ttotal: 25.9s\tremaining: 857ms\n",
      "968:\tlearn: 0.2003276\ttotal: 26s\tremaining: 831ms\n",
      "969:\tlearn: 0.2002496\ttotal: 26s\tremaining: 804ms\n",
      "970:\tlearn: 0.2001639\ttotal: 26s\tremaining: 777ms\n",
      "971:\tlearn: 0.2001283\ttotal: 26.1s\tremaining: 751ms\n",
      "972:\tlearn: 0.2000951\ttotal: 26.1s\tremaining: 724ms\n",
      "973:\tlearn: 0.2000640\ttotal: 26.1s\tremaining: 697ms\n",
      "974:\tlearn: 0.2000307\ttotal: 26.1s\tremaining: 670ms\n",
      "975:\tlearn: 0.1999559\ttotal: 26.2s\tremaining: 644ms\n",
      "976:\tlearn: 0.1999155\ttotal: 26.2s\tremaining: 617ms\n",
      "977:\tlearn: 0.1998819\ttotal: 26.2s\tremaining: 590ms\n",
      "978:\tlearn: 0.1998206\ttotal: 26.2s\tremaining: 563ms\n",
      "979:\tlearn: 0.1997857\ttotal: 26.3s\tremaining: 536ms\n",
      "980:\tlearn: 0.1997511\ttotal: 26.3s\tremaining: 509ms\n",
      "981:\tlearn: 0.1997105\ttotal: 26.3s\tremaining: 483ms\n",
      "982:\tlearn: 0.1996784\ttotal: 26.4s\tremaining: 456ms\n",
      "983:\tlearn: 0.1996552\ttotal: 26.4s\tremaining: 429ms\n",
      "984:\tlearn: 0.1995928\ttotal: 26.4s\tremaining: 402ms\n",
      "985:\tlearn: 0.1994919\ttotal: 26.4s\tremaining: 375ms\n",
      "986:\tlearn: 0.1994627\ttotal: 26.5s\tremaining: 348ms\n",
      "987:\tlearn: 0.1994243\ttotal: 26.5s\tremaining: 322ms\n",
      "988:\tlearn: 0.1993888\ttotal: 26.5s\tremaining: 295ms\n",
      "989:\tlearn: 0.1993587\ttotal: 26.5s\tremaining: 268ms\n",
      "990:\tlearn: 0.1992777\ttotal: 26.6s\tremaining: 241ms\n",
      "991:\tlearn: 0.1991901\ttotal: 26.6s\tremaining: 214ms\n",
      "992:\tlearn: 0.1991597\ttotal: 26.6s\tremaining: 188ms\n",
      "993:\tlearn: 0.1991295\ttotal: 26.6s\tremaining: 161ms\n",
      "994:\tlearn: 0.1990161\ttotal: 26.7s\tremaining: 134ms\n",
      "995:\tlearn: 0.1989825\ttotal: 26.7s\tremaining: 107ms\n",
      "996:\tlearn: 0.1989551\ttotal: 26.7s\tremaining: 80.4ms\n",
      "997:\tlearn: 0.1988930\ttotal: 26.7s\tremaining: 53.6ms\n",
      "998:\tlearn: 0.1987902\ttotal: 26.8s\tremaining: 26.8ms\n",
      "999:\tlearn: 0.1986984\ttotal: 26.8s\tremaining: 0us\n"
     ]
    }
   ],
   "source": [
    "\n",
    "#### training\n",
    "model_names, model_pipelines = zip(*pipelines)\n",
    "metrics, weights = estimate_multiple_models(\n",
    "    model_pipelines,\n",
    "    lambda pipeline, _: estimate_model(\n",
    "        pipeline,\n",
    "        (X_train, X_test, y_train, y_test),\n",
    "    ),\n",
    "    model_names\n",
    ")"
   ]
  },
  {
   "cell_type": "code",
   "execution_count": 84,
   "metadata": {
    "pycharm": {
     "name": "#%%\n"
    }
   },
   "outputs": [
    {
     "data": {
      "text/plain": "set             train                                                    test  \\\nmetric       f1_score cohen_kappa_score precision_score recall_score f1_score   \nmodel                                                                           \nDummy_mean      0.000             0.000           0.000        0.000    0.000   \nDummy_median    0.124             0.021           0.130        0.119    0.096   \nLinReg          0.206             0.184           0.822        0.118    0.140   \nXGB             0.337             0.308           0.879        0.208    0.189   \nLGBM            0.395             0.365           0.925        0.251    0.230   \nRFC             0.891             0.879           0.983        0.815    0.190   \nCatBoost        0.478             0.448           0.965        0.318    0.310   \n\nset                                                          \nmetric       cohen_kappa_score precision_score recall_score  \nmodel                                                        \nDummy_mean               0.000           0.000        0.000  \nDummy_median            -0.016           0.104        0.090  \nLinReg                   0.118           0.667        0.078  \nXGB                      0.160           0.667        0.110  \nLGBM                     0.198           0.700        0.137  \nRFC                      0.163           0.700        0.110  \nCatBoost                 0.273           0.735        0.196  ",
      "text/html": "<div>\n<style scoped>\n    .dataframe tbody tr th:only-of-type {\n        vertical-align: middle;\n    }\n\n    .dataframe tbody tr th {\n        vertical-align: top;\n    }\n\n    .dataframe thead tr th {\n        text-align: left;\n    }\n\n    .dataframe thead tr:last-of-type th {\n        text-align: right;\n    }\n</style>\n<table border=\"1\" class=\"dataframe\">\n  <thead>\n    <tr>\n      <th>set</th>\n      <th colspan=\"4\" halign=\"left\">train</th>\n      <th colspan=\"4\" halign=\"left\">test</th>\n    </tr>\n    <tr>\n      <th>metric</th>\n      <th>f1_score</th>\n      <th>cohen_kappa_score</th>\n      <th>precision_score</th>\n      <th>recall_score</th>\n      <th>f1_score</th>\n      <th>cohen_kappa_score</th>\n      <th>precision_score</th>\n      <th>recall_score</th>\n    </tr>\n    <tr>\n      <th>model</th>\n      <th></th>\n      <th></th>\n      <th></th>\n      <th></th>\n      <th></th>\n      <th></th>\n      <th></th>\n      <th></th>\n    </tr>\n  </thead>\n  <tbody>\n    <tr>\n      <th>Dummy_mean</th>\n      <td>0.000</td>\n      <td>0.000</td>\n      <td>0.000</td>\n      <td>0.000</td>\n      <td>0.000</td>\n      <td>0.000</td>\n      <td>0.000</td>\n      <td>0.000</td>\n    </tr>\n    <tr>\n      <th>Dummy_median</th>\n      <td>0.124</td>\n      <td>0.021</td>\n      <td>0.130</td>\n      <td>0.119</td>\n      <td>0.096</td>\n      <td>-0.016</td>\n      <td>0.104</td>\n      <td>0.090</td>\n    </tr>\n    <tr>\n      <th>LinReg</th>\n      <td>0.206</td>\n      <td>0.184</td>\n      <td>0.822</td>\n      <td>0.118</td>\n      <td>0.140</td>\n      <td>0.118</td>\n      <td>0.667</td>\n      <td>0.078</td>\n    </tr>\n    <tr>\n      <th>XGB</th>\n      <td>0.337</td>\n      <td>0.308</td>\n      <td>0.879</td>\n      <td>0.208</td>\n      <td>0.189</td>\n      <td>0.160</td>\n      <td>0.667</td>\n      <td>0.110</td>\n    </tr>\n    <tr>\n      <th>LGBM</th>\n      <td>0.395</td>\n      <td>0.365</td>\n      <td>0.925</td>\n      <td>0.251</td>\n      <td>0.230</td>\n      <td>0.198</td>\n      <td>0.700</td>\n      <td>0.137</td>\n    </tr>\n    <tr>\n      <th>RFC</th>\n      <td>0.891</td>\n      <td>0.879</td>\n      <td>0.983</td>\n      <td>0.815</td>\n      <td>0.190</td>\n      <td>0.163</td>\n      <td>0.700</td>\n      <td>0.110</td>\n    </tr>\n    <tr>\n      <th>CatBoost</th>\n      <td>0.478</td>\n      <td>0.448</td>\n      <td>0.965</td>\n      <td>0.318</td>\n      <td>0.310</td>\n      <td>0.273</td>\n      <td>0.735</td>\n      <td>0.196</td>\n    </tr>\n  </tbody>\n</table>\n</div>"
     },
     "execution_count": 84,
     "metadata": {},
     "output_type": "execute_result"
    }
   ],
   "source": [
    "metrics"
   ]
  },
  {
   "cell_type": "code",
   "execution_count": 322,
   "metadata": {
    "pycharm": {
     "name": "#%%\n"
    }
   },
   "outputs": [
    {
     "name": "stdout",
     "output_type": "stream",
     "text": [
      "################################################################################\n",
      "Dummy_mean\n",
      "Not Supported\n",
      "################################################################################\n",
      "Dummy_median\n",
      "Not Supported\n",
      "################################################################################\n",
      "LinReg\n",
      "         weight\n",
      "feature        \n",
      "x155      6.861\n",
      "x6788     6.015\n",
      "x4997     5.476\n",
      "x4998     5.027\n",
      "x6853     4.392\n",
      "...         ...\n",
      "x4445    -2.665\n",
      "x627     -3.027\n",
      "x2765    -3.027\n",
      "x3679    -3.296\n",
      "x1523    -4.132\n",
      "\n",
      "[6993 rows x 1 columns]\n",
      "################################################################################\n",
      "XGB\n",
      "Not Supported\n",
      "################################################################################\n",
      "LGBM\n",
      "             weight\n",
      "feature            \n",
      "Column_6788   0.056\n",
      "Column_155    0.053\n",
      "Column_6382   0.051\n",
      "Column_4998   0.039\n",
      "Column_4997   0.030\n",
      "...             ...\n",
      "Column_4579   0.000\n",
      "Column_4580   0.000\n",
      "Column_4581   0.000\n",
      "Column_4582   0.000\n",
      "Column_0      0.000\n",
      "\n",
      "[6992 rows x 1 columns]\n",
      "################################################################################\n",
      "RFC\n",
      "         weight\n",
      "feature        \n",
      "x6788     0.021\n",
      "x155      0.021\n",
      "x6535     0.017\n",
      "x6382     0.015\n",
      "x4997     0.015\n",
      "...         ...\n",
      "x4489     0.000\n",
      "x4482     0.000\n",
      "x1290     0.000\n",
      "x4481     0.000\n",
      "x0        0.000\n",
      "\n",
      "[6992 rows x 1 columns]\n",
      "################################################################################\n",
      "CatBoost\n",
      "         weight\n",
      "feature        \n",
      "1523      0.068\n",
      "155       0.065\n",
      "6535      0.049\n",
      "2765      0.047\n",
      "3679      0.042\n",
      "...         ...\n",
      "4532      0.000\n",
      "4533      0.000\n",
      "4534      0.000\n",
      "4535      0.000\n",
      "0         0.000\n",
      "\n",
      "[6992 rows x 1 columns]\n"
     ]
    }
   ],
   "source": [
    "for name, _ in pipelines:\n",
    "    try:\n",
    "        print(\"#\" * 80)\n",
    "        print(name)\n",
    "        print(weights.loc[name])\n",
    "    except KeyError:\n",
    "        print('Not Supported')"
   ]
  },
  {
   "cell_type": "code",
   "execution_count": 42,
   "outputs": [],
   "source": [
    "final_pipeline_1 = Pipeline([\n",
    "    ('NLP', nlp),\n",
    "    ('regressor', rfc[-1])\n",
    "])\n",
    "\n",
    "final_pipeline_2 = Pipeline([\n",
    "    ('NLP', nlp),\n",
    "    ('regressor', lgbm[-1])\n",
    "])\n",
    "\n",
    "final_pipeline_3 = Pipeline([\n",
    "    ('NLP', nlp),\n",
    "    ('regressor', ctb[-1])\n",
    "])\n",
    "\n",
    "final_pipeline_4 = Pipeline([\n",
    "    ('NLP', nlp),\n",
    "    ('regressor', lr[-1])\n",
    "])"
   ],
   "metadata": {
    "collapsed": false,
    "pycharm": {
     "name": "#%%\n"
    }
   }
  },
  {
   "cell_type": "code",
   "execution_count": 43,
   "outputs": [
    {
     "data": {
      "text/plain": "Pipeline(steps=[('NLP',\n                 Pipeline(steps=[('cleaning', TextCleaner()),\n                                 ('series_converter', SeriesConverter()),\n                                 ('vectorization',\n                                  TfidfVectorizer(max_df=0.7, min_df=3))])),\n                ('regressor',\n                 <catboost.core.CatBoostClassifier object at 0x000002DE32F47700>)])",
      "text/html": "<style>#sk-container-id-1 {color: black;background-color: white;}#sk-container-id-1 pre{padding: 0;}#sk-container-id-1 div.sk-toggleable {background-color: white;}#sk-container-id-1 label.sk-toggleable__label {cursor: pointer;display: block;width: 100%;margin-bottom: 0;padding: 0.3em;box-sizing: border-box;text-align: center;}#sk-container-id-1 label.sk-toggleable__label-arrow:before {content: \"▸\";float: left;margin-right: 0.25em;color: #696969;}#sk-container-id-1 label.sk-toggleable__label-arrow:hover:before {color: black;}#sk-container-id-1 div.sk-estimator:hover label.sk-toggleable__label-arrow:before {color: black;}#sk-container-id-1 div.sk-toggleable__content {max-height: 0;max-width: 0;overflow: hidden;text-align: left;background-color: #f0f8ff;}#sk-container-id-1 div.sk-toggleable__content pre {margin: 0.2em;color: black;border-radius: 0.25em;background-color: #f0f8ff;}#sk-container-id-1 input.sk-toggleable__control:checked~div.sk-toggleable__content {max-height: 200px;max-width: 100%;overflow: auto;}#sk-container-id-1 input.sk-toggleable__control:checked~label.sk-toggleable__label-arrow:before {content: \"▾\";}#sk-container-id-1 div.sk-estimator input.sk-toggleable__control:checked~label.sk-toggleable__label {background-color: #d4ebff;}#sk-container-id-1 div.sk-label input.sk-toggleable__control:checked~label.sk-toggleable__label {background-color: #d4ebff;}#sk-container-id-1 input.sk-hidden--visually {border: 0;clip: rect(1px 1px 1px 1px);clip: rect(1px, 1px, 1px, 1px);height: 1px;margin: -1px;overflow: hidden;padding: 0;position: absolute;width: 1px;}#sk-container-id-1 div.sk-estimator {font-family: monospace;background-color: #f0f8ff;border: 1px dotted black;border-radius: 0.25em;box-sizing: border-box;margin-bottom: 0.5em;}#sk-container-id-1 div.sk-estimator:hover {background-color: #d4ebff;}#sk-container-id-1 div.sk-parallel-item::after {content: \"\";width: 100%;border-bottom: 1px solid gray;flex-grow: 1;}#sk-container-id-1 div.sk-label:hover label.sk-toggleable__label {background-color: #d4ebff;}#sk-container-id-1 div.sk-serial::before {content: \"\";position: absolute;border-left: 1px solid gray;box-sizing: border-box;top: 0;bottom: 0;left: 50%;z-index: 0;}#sk-container-id-1 div.sk-serial {display: flex;flex-direction: column;align-items: center;background-color: white;padding-right: 0.2em;padding-left: 0.2em;position: relative;}#sk-container-id-1 div.sk-item {position: relative;z-index: 1;}#sk-container-id-1 div.sk-parallel {display: flex;align-items: stretch;justify-content: center;background-color: white;position: relative;}#sk-container-id-1 div.sk-item::before, #sk-container-id-1 div.sk-parallel-item::before {content: \"\";position: absolute;border-left: 1px solid gray;box-sizing: border-box;top: 0;bottom: 0;left: 50%;z-index: -1;}#sk-container-id-1 div.sk-parallel-item {display: flex;flex-direction: column;z-index: 1;position: relative;background-color: white;}#sk-container-id-1 div.sk-parallel-item:first-child::after {align-self: flex-end;width: 50%;}#sk-container-id-1 div.sk-parallel-item:last-child::after {align-self: flex-start;width: 50%;}#sk-container-id-1 div.sk-parallel-item:only-child::after {width: 0;}#sk-container-id-1 div.sk-dashed-wrapped {border: 1px dashed gray;margin: 0 0.4em 0.5em 0.4em;box-sizing: border-box;padding-bottom: 0.4em;background-color: white;}#sk-container-id-1 div.sk-label label {font-family: monospace;font-weight: bold;display: inline-block;line-height: 1.2em;}#sk-container-id-1 div.sk-label-container {text-align: center;}#sk-container-id-1 div.sk-container {/* jupyter's `normalize.less` sets `[hidden] { display: none; }` but bootstrap.min.css set `[hidden] { display: none !important; }` so we also need the `!important` here to be able to override the default hidden behavior on the sphinx rendered scikit-learn.org. See: https://github.com/scikit-learn/scikit-learn/issues/21755 */display: inline-block !important;position: relative;}#sk-container-id-1 div.sk-text-repr-fallback {display: none;}</style><div id=\"sk-container-id-1\" class=\"sk-top-container\"><div class=\"sk-text-repr-fallback\"><pre>Pipeline(steps=[(&#x27;NLP&#x27;,\n                 Pipeline(steps=[(&#x27;cleaning&#x27;, TextCleaner()),\n                                 (&#x27;series_converter&#x27;, SeriesConverter()),\n                                 (&#x27;vectorization&#x27;,\n                                  TfidfVectorizer(max_df=0.7, min_df=3))])),\n                (&#x27;regressor&#x27;,\n                 &lt;catboost.core.CatBoostClassifier object at 0x000002DE32F47700&gt;)])</pre><b>In a Jupyter environment, please rerun this cell to show the HTML representation or trust the notebook. <br />On GitHub, the HTML representation is unable to render, please try loading this page with nbviewer.org.</b></div><div class=\"sk-container\" hidden><div class=\"sk-item sk-dashed-wrapped\"><div class=\"sk-label-container\"><div class=\"sk-label sk-toggleable\"><input class=\"sk-toggleable__control sk-hidden--visually\" id=\"sk-estimator-id-1\" type=\"checkbox\" ><label for=\"sk-estimator-id-1\" class=\"sk-toggleable__label sk-toggleable__label-arrow\">Pipeline</label><div class=\"sk-toggleable__content\"><pre>Pipeline(steps=[(&#x27;NLP&#x27;,\n                 Pipeline(steps=[(&#x27;cleaning&#x27;, TextCleaner()),\n                                 (&#x27;series_converter&#x27;, SeriesConverter()),\n                                 (&#x27;vectorization&#x27;,\n                                  TfidfVectorizer(max_df=0.7, min_df=3))])),\n                (&#x27;regressor&#x27;,\n                 &lt;catboost.core.CatBoostClassifier object at 0x000002DE32F47700&gt;)])</pre></div></div></div><div class=\"sk-serial\"><div class=\"sk-item\"><div class=\"sk-label-container\"><div class=\"sk-label sk-toggleable\"><input class=\"sk-toggleable__control sk-hidden--visually\" id=\"sk-estimator-id-2\" type=\"checkbox\" ><label for=\"sk-estimator-id-2\" class=\"sk-toggleable__label sk-toggleable__label-arrow\">NLP: Pipeline</label><div class=\"sk-toggleable__content\"><pre>Pipeline(steps=[(&#x27;cleaning&#x27;, TextCleaner()),\n                (&#x27;series_converter&#x27;, SeriesConverter()),\n                (&#x27;vectorization&#x27;, TfidfVectorizer(max_df=0.7, min_df=3))])</pre></div></div></div><div class=\"sk-serial\"><div class=\"sk-item\"><div class=\"sk-estimator sk-toggleable\"><input class=\"sk-toggleable__control sk-hidden--visually\" id=\"sk-estimator-id-3\" type=\"checkbox\" ><label for=\"sk-estimator-id-3\" class=\"sk-toggleable__label sk-toggleable__label-arrow\">TextCleaner</label><div class=\"sk-toggleable__content\"><pre>TextCleaner()</pre></div></div></div><div class=\"sk-item\"><div class=\"sk-estimator sk-toggleable\"><input class=\"sk-toggleable__control sk-hidden--visually\" id=\"sk-estimator-id-4\" type=\"checkbox\" ><label for=\"sk-estimator-id-4\" class=\"sk-toggleable__label sk-toggleable__label-arrow\">SeriesConverter</label><div class=\"sk-toggleable__content\"><pre>SeriesConverter()</pre></div></div></div><div class=\"sk-item\"><div class=\"sk-estimator sk-toggleable\"><input class=\"sk-toggleable__control sk-hidden--visually\" id=\"sk-estimator-id-5\" type=\"checkbox\" ><label for=\"sk-estimator-id-5\" class=\"sk-toggleable__label sk-toggleable__label-arrow\">TfidfVectorizer</label><div class=\"sk-toggleable__content\"><pre>TfidfVectorizer(max_df=0.7, min_df=3)</pre></div></div></div></div></div><div class=\"sk-item\"><div class=\"sk-estimator sk-toggleable\"><input class=\"sk-toggleable__control sk-hidden--visually\" id=\"sk-estimator-id-6\" type=\"checkbox\" ><label for=\"sk-estimator-id-6\" class=\"sk-toggleable__label sk-toggleable__label-arrow\">CatBoostClassifier</label><div class=\"sk-toggleable__content\"><pre>&lt;catboost.core.CatBoostClassifier object at 0x000002DE32F47700&gt;</pre></div></div></div></div></div></div></div>"
     },
     "execution_count": 43,
     "metadata": {},
     "output_type": "execute_result"
    }
   ],
   "source": [
    "final_pipeline_3"
   ],
   "metadata": {
    "collapsed": false,
    "pycharm": {
     "name": "#%%\n"
    }
   }
  },
  {
   "cell_type": "code",
   "execution_count": 51,
   "outputs": [
    {
     "data": {
      "text/plain": "array([[0.95473859, 0.04526141],\n       [0.92708275, 0.07291725],\n       [0.92499595, 0.07500405],\n       [0.89467997, 0.10532003]])"
     },
     "execution_count": 51,
     "metadata": {},
     "output_type": "execute_result"
    }
   ],
   "source": [
    "final_pipeline_3.predict_proba(pd.DataFrame({\n",
    "    'tweet': [\n",
    "        'Sasha goes to Mannheim University',\n",
    "        '@Danylo will create a great application',\n",
    "        '@You bitch suck a dick fuck you shit in your ass',\n",
    "        'He will break it',\n",
    "    ]}))"
   ],
   "metadata": {
    "collapsed": false,
    "pycharm": {
     "name": "#%%\n"
    }
   }
  },
  {
   "cell_type": "code",
   "execution_count": 53,
   "outputs": [],
   "source": [
    "from src.common.validation.metrics import aggregate_metrics\n",
    "from src.common.prediction_model.persistence import FsModelPersistence\n",
    "from src.common.prediction_model.prediction_model import ModelContainer, ModelMetadata\n",
    "\n",
    "container = ModelContainer.create(\n",
    "    pipeline_name='l1_data3_ctb',\n",
    "    pipeline=final_pipeline_3,\n",
    "    feature_names=[],\n",
    "    metadata=ModelMetadata(\n",
    "        model_name=str(final_pipeline_4.__class__.__name__),\n",
    "        **aggregate_metrics(metrics)['test'].loc[\"CatBoost\"]\n",
    "    )\n",
    ")"
   ],
   "metadata": {
    "collapsed": false,
    "pycharm": {
     "name": "#%%\n"
    }
   }
  },
  {
   "cell_type": "code",
   "execution_count": 54,
   "outputs": [],
   "source": [
    "# %%\n",
    "persistor = FsModelPersistence()\n",
    "name = persistor.save(container)"
   ],
   "metadata": {
    "collapsed": false,
    "pycharm": {
     "name": "#%%\n"
    }
   }
  },
  {
   "cell_type": "code",
   "execution_count": 55,
   "outputs": [
    {
     "data": {
      "text/plain": "'l1_data3_ctb_Pipeline_2023-05-17.bin.gz'"
     },
     "execution_count": 55,
     "metadata": {},
     "output_type": "execute_result"
    }
   ],
   "source": [
    "name"
   ],
   "metadata": {
    "collapsed": false,
    "pycharm": {
     "name": "#%%\n"
    }
   }
  },
  {
   "cell_type": "code",
   "execution_count": 54,
   "outputs": [],
   "source": [],
   "metadata": {
    "collapsed": false,
    "pycharm": {
     "name": "#%%\n"
    }
   }
  },
  {
   "cell_type": "markdown",
   "source": [
    "#### Hyperparameter optimization"
   ],
   "metadata": {
    "collapsed": false,
    "pycharm": {
     "name": "#%% md\n"
    }
   }
  },
  {
   "cell_type": "code",
   "execution_count": 18,
   "outputs": [],
   "source": [
    "from sklearn.model_selection import GridSearchCV\n",
    "import time\n"
   ],
   "metadata": {
    "collapsed": false,
    "pycharm": {
     "name": "#%%\n"
    }
   }
  },
  {
   "cell_type": "code",
   "execution_count": 21,
   "outputs": [
    {
     "data": {
      "text/plain": "\"\\nBest parameters:  {'max_depth': None, 'min_samples_leaf': 1, 'min_samples_split': 10, 'n_estimators': 200}\\nBest accuracy:  0.8954683485167018\\nComputation tmie: 49.068764209747314\\n\""
     },
     "execution_count": 21,
     "metadata": {},
     "output_type": "execute_result"
    }
   ],
   "source": [
    "\n",
    "# Define the parameter grid to search over\n",
    "param_grid = {\n",
    "    'n_estimators': [20, 50, 100, 200],\n",
    "    'max_depth': [None, 2, 5, 10],\n",
    "    'min_samples_split': [2, 5, 10],\n",
    "    'min_samples_leaf': [1, 2, 4],\n",
    "}\n",
    "\n",
    "# Create a RandomForestClassifier object\n",
    "model = RandomForestClassifier()\n",
    "\n",
    "\"\"\"\n",
    "Best parameters:  {'max_depth': None, 'min_samples_leaf': 1, 'min_samples_split': 10, 'n_estimators': 200}\n",
    "Best accuracy:  0.8954683485167018\n",
    "Computation tmie: 49.068764209747314\n",
    "\"\"\""
   ],
   "metadata": {
    "collapsed": false,
    "pycharm": {
     "name": "#%%\n"
    }
   }
  },
  {
   "cell_type": "code",
   "execution_count": 21,
   "outputs": [
    {
     "data": {
      "text/plain": "'\\n\\n'"
     },
     "execution_count": 21,
     "metadata": {},
     "output_type": "execute_result"
    }
   ],
   "source": [
    "# Define the parameter grid to search over\n",
    "param_grid = {\n",
    "    'boosting_type': ['gbdt', 'dart', 'goss'],  # Different boosting types\n",
    "    'num_leaves': [20, 30, 40],  # Maximum number of leaves in one tree\n",
    "    'learning_rate': [0.1, 0.01, 0.001],  # Learning rate for boosting\n",
    "    'n_estimators': [100, 200, 300],  # Number of boosting iterations\n",
    "    # 'subsample': [0.8, 0.9, 1.0],  # Subsample ratio of the training instances\n",
    "    # 'colsample_bytree': [0.8, 0.9, 1.0],  # Subsample ratio of columns when constructing each tree\n",
    "    # 'reg_alpha': [0.0, 0.1, 0.5],  # L1 regularization term on weights\n",
    "    # 'reg_lambda': [0.0, 0.1, 0.5],  # L2 regularization term on weights\n",
    "    # 'min_child_samples': [20, 50, 100]  # Minimum number of data needed in a child (leaf)\n",
    "}\n",
    "\n",
    "model = LGBMClassifier(device=\"gpu\")\n",
    "\"\"\"\n",
    "Best parameters:  {'boosting_type': 'dart', 'learning_rate': 0.1, 'n_estimators': 100, 'num_leaves': 20}\n",
    "Best accuracy:  0.8933660359729035\n",
    "Computation tmie: 375.2135384082794\n",
    "\"\"\""
   ],
   "metadata": {
    "collapsed": false,
    "pycharm": {
     "name": "#%%\n"
    }
   }
  },
  {
   "cell_type": "code",
   "execution_count": 22,
   "outputs": [
    {
     "name": "stdout",
     "output_type": "stream",
     "text": [
      "Best parameters:  {'boosting_type': 'dart', 'learning_rate': 0.1, 'n_estimators': 100, 'num_leaves': 20}\n",
      "Best accuracy:  0.8933660359729035\n",
      "Computation tmie: 375.2135384082794\n"
     ]
    }
   ],
   "source": [
    "# Create a GridSearchCV object and fit the data\n",
    "start = time.time()\n",
    "grid_search = GridSearchCV(model, param_grid=param_grid, cv=3, n_jobs=-1)\n",
    "grid_search.fit(X_train, y_train)\n",
    "\n",
    "# Print the best hyperparameters and accuracy score\n",
    "print(\"Best parameters: \", grid_search.best_params_)\n",
    "print(\"Best accuracy: \", grid_search.best_score_)\n",
    "end = time.time()\n",
    "print(f\"Computation tmie: {end - start}\")"
   ],
   "metadata": {
    "collapsed": false,
    "pycharm": {
     "name": "#%%\n"
    }
   }
  },
  {
   "cell_type": "code",
   "execution_count": 16,
   "outputs": [],
   "source": [
    "param_grid = {\n",
    "    'max_depth': [3, 6, 9],\n",
    "    'learning_rate': [0.01, 0.05, 0.1],\n",
    "    'n_estimators': [100, 200, 300],\n",
    "    'min_child_weight': [1, 3, 5],\n",
    "}\n",
    "\n",
    "model = XGBClassifier(tree_method='gpu_hist')\n",
    "\n",
    "\n",
    "\"\"\"\n",
    "Best parameters:  {'learning_rate': 0.01, 'max_depth': 9, 'min_child_weight': 3, 'n_estimators': 300}\n",
    "Best accuracy:  0.8903293622985284\n",
    "Computation tmie: 519.5483028888702\n",
    "\"\"\""
   ],
   "metadata": {
    "collapsed": false,
    "pycharm": {
     "name": "#%%\n"
    }
   }
  },
  {
   "cell_type": "code",
   "execution_count": null,
   "outputs": [],
   "source": [],
   "metadata": {
    "collapsed": false,
    "pycharm": {
     "name": "#%%\n"
    }
   }
  }
 ],
 "metadata": {
  "kernelspec": {
   "display_name": "Python 3 (ipykernel)",
   "language": "python",
   "name": "python3"
  },
  "language_info": {
   "codemirror_mode": {
    "name": "ipython",
    "version": 3
   },
   "file_extension": ".py",
   "mimetype": "text/x-python",
   "name": "python",
   "nbconvert_exporter": "python",
   "pygments_lexer": "ipython3",
   "version": "3.10.9"
  },
  "vscode": {
   "interpreter": {
    "hash": "7f55550e77323d67b6ecc193cd2e5d66a57e017d7db72e2119e5097fca24649a"
   }
  }
 },
 "nbformat": 4,
 "nbformat_minor": 2
}