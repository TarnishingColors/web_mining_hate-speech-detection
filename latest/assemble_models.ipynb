{
 "cells": [
  {
   "cell_type": "code",
   "execution_count": 1,
   "metadata": {
    "pycharm": {
     "name": "#%%\n"
    }
   },
   "outputs": [
    {
     "name": "stderr",
     "output_type": "stream",
     "text": [
      "[nltk_data] Downloading package vader_lexicon to\n",
      "[nltk_data]     C:\\Users\\dzmit\\AppData\\Roaming\\nltk_data...\n",
      "[nltk_data]   Package vader_lexicon is already up-to-date!\n"
     ]
    }
   ],
   "source": [
    "import eli5\n",
    "import numpy as np\n",
    "import pandas as pd\n",
    "from sklearn.compose import ColumnTransformer\n",
    "from sklearn.ensemble import RandomForestClassifier, StackingClassifier\n",
    "from sklearn.linear_model import LogisticRegression\n",
    "from sklearn.model_selection import train_test_split\n",
    "from sklearn.pipeline import Pipeline\n",
    "from sklearn.tree import DecisionTreeClassifier\n",
    "from xgboost import XGBClassifier\n",
    "\n",
    "from notebooks.Dzim.web_mining.feature_generation import FeatureGenerator\n",
    "from src.common.prediction_model.persistence import FsModelPersistence"
   ]
  },
  {
   "cell_type": "code",
   "execution_count": 2,
   "metadata": {
    "pycharm": {
     "name": "#%%\n"
    }
   },
   "outputs": [],
   "source": [
    "%load_ext autoreload\n",
    "%autoreload 2"
   ]
  },
  {
   "cell_type": "code",
   "execution_count": 66,
   "metadata": {
    "pycharm": {
     "name": "#%%\n"
    }
   },
   "outputs": [],
   "source": [
    "filenames = [\n",
    "    # data 1\n",
    "    \"l1_data1_lr_Pipeline_2023-05-16.bin.gz\",\n",
    "    \"l1_data1_rfc_Pipeline_2023-05-16.bin.gz\",\n",
    "\n",
    "    # data 2 regression\n",
    "    \"l1_data2_ctb_reg_hate_speech_2023-05-17.bin.gz\",\n",
    "    \"l1_data2_lgbm_reg_offensive_language_2023-05-17.bin.gz\",\n",
    "\n",
    "    # data 2 regression\n",
    "    \"l1_data2_lr_clf_Pipeline_2023-05-23.bin.gz\",\n",
    "    \"l1_data2_ctb_clf_Pipeline_2023-05-23.bin.gz\",\n",
    "\n",
    "    # data 3\n",
    "    \"l1_data3_ctb_Pipeline_2023-05-17.bin.gz\",\n",
    "]"
   ]
  },
  {
   "cell_type": "code",
   "execution_count": 67,
   "metadata": {
    "pycharm": {
     "name": "#%%\n"
    }
   },
   "outputs": [],
   "source": [
    "data_sample = pd.DataFrame({\n",
    "    'tweet': [\n",
    "        'Sasha goes to Mannheim University',\n",
    "        'Danylo will create a great application',\n",
    "        'Danylo will not create a great application',\n",
    "        'Dasha didnt fulfill her task',\n",
    "        'You suck a dick, nigga',\n",
    "        'fuck jews idk',\n",
    "        'you are a good person',\n",
    "    ],\n",
    "    'label': [1, 1, 0, 0, 1, 1, 0]\n",
    "})"
   ]
  },
  {
   "cell_type": "code",
   "execution_count": 68,
   "metadata": {
    "pycharm": {
     "name": "#%%\n"
    }
   },
   "outputs": [],
   "source": [
    "persistor = FsModelPersistence()"
   ]
  },
  {
   "cell_type": "code",
   "execution_count": 69,
   "metadata": {
    "pycharm": {
     "name": "#%%\n"
    }
   },
   "outputs": [],
   "source": [
    "models = [persistor.read(filename).pipeline for filename in filenames]"
   ]
  },
  {
   "cell_type": "code",
   "execution_count": 70,
   "metadata": {
    "pycharm": {
     "name": "#%%\n"
    }
   },
   "outputs": [],
   "source": [
    "# models"
   ]
  },
  {
   "cell_type": "code",
   "execution_count": 71,
   "metadata": {
    "pycharm": {
     "name": "#%%\n"
    }
   },
   "outputs": [],
   "source": [
    "# models[0]"
   ]
  },
  {
   "cell_type": "code",
   "execution_count": 72,
   "metadata": {
    "pycharm": {
     "name": "#%%\n"
    }
   },
   "outputs": [],
   "source": [
    "# models[-1].predict(data_sample)"
   ]
  },
  {
   "cell_type": "code",
   "execution_count": 73,
   "metadata": {
    "pycharm": {
     "name": "#%%\n"
    }
   },
   "outputs": [],
   "source": [
    "import pandas as pd\n",
    "from sklearn.base import BaseEstimator, TransformerMixin\n",
    "\n",
    "\n",
    "class PipelineTransformer(BaseEstimator, TransformerMixin):\n",
    "    def __init__(\n",
    "            self,\n",
    "            pipeline: Pipeline,\n",
    "            fitted: bool = True\n",
    "    ):\n",
    "        self.pipeline = pipeline\n",
    "        self.fitted = fitted\n",
    "        self.output_n_ = ['']\n",
    "\n",
    "    def fit(self, X: pd.DataFrame = None, y=None):\n",
    "        if not self.fitted:\n",
    "            self.pipeline.fit(X, y)\n",
    "        return self\n",
    "\n",
    "    def transform(self, X):\n",
    "        try:\n",
    "            prediction = self.pipeline.predict_proba(X)\n",
    "            if self.pipeline[-1].classes_.shape[0] >= 3:\n",
    "                prediction = prediction\n",
    "                self.output_n_ = [f'_{i}' for i in range(self.pipeline[-1].classes_.shape[0])]\n",
    "            else:\n",
    "                prediction = prediction[:, 0]\n",
    "        except AttributeError:\n",
    "            prediction = self.pipeline.predict(X)\n",
    "        return prediction\n",
    "\n",
    "    def __sklearn_is_fitted__(self):\n",
    "        return True\n",
    "\n",
    "    def get_feature_names_out(self, input_features=None):\n",
    "        return [type(self.pipeline[-1]).__name__ + f for f in self.output_n_]  #+ str(i) for i in self.pipeline[-1].classes_\n",
    "\n",
    "\n",
    "class PipelinePredictor(BaseEstimator, TransformerMixin):\n",
    "    def __init__(\n",
    "            self,\n",
    "            pipelines,\n",
    "            model_names: list = None,\n",
    "    ):\n",
    "        self.pipelines = pipelines\n",
    "        if model_names is None:\n",
    "            self.model_names = [type(pipe[-1]).__name__ for pipe in pipelines]\n",
    "        else:\n",
    "            self.model_names = model_names\n",
    "\n",
    "    def fit(self, X: pd.DataFrame, y=None):\n",
    "        return self\n",
    "\n",
    "    def transform(self, X: pd.DataFrame) -> pd.DataFrame or np.array:\n",
    "        predictions = pd.DataFrame()\n",
    "        for pipeline, name in zip(self.pipelines, self.model_names):\n",
    "            predictions[name] = pipeline.predict(X)\n",
    "\n",
    "        return predictions\n",
    "\n",
    "\n",
    "class CustomColumnTransformer(ColumnTransformer):\n",
    "    def fit(self, X=None, y=None):\n",
    "        return self\n",
    "\n",
    "    def fit_transform(self, X=None, y=None):\n",
    "        return self.transform(X)\n",
    "\n",
    "    def transform(self, X):\n",
    "        output = []\n",
    "        self.feature_names_out = []\n",
    "\n",
    "        for name, transformer, _ in self.transformers:\n",
    "            transformer_output = transformer.transform(X)\n",
    "            output.append(pd.DataFrame(transformer_output))\n",
    "\n",
    "            try:\n",
    "                feature_names = transformer.get_feature_names_out()\n",
    "            except AttributeError:\n",
    "                feature_names = transformer_output.columns\n",
    "\n",
    "            self.feature_names_out += (name + '_' + feat for feat in feature_names)\n",
    "\n",
    "        return np.concatenate(output, axis=1)\n",
    "\n",
    "    def get_feature_names_out(self, input_features=None):\n",
    "        return self.feature_names_out\n"
   ]
  },
  {
   "cell_type": "code",
   "execution_count": 74,
   "metadata": {
    "pycharm": {
     "name": "#%%\n"
    }
   },
   "outputs": [],
   "source": [
    "d1_lr = PipelineTransformer(models[0])\n",
    "d1_rfc = PipelineTransformer(models[1])\n",
    "\n",
    "d2_ctb_reg = PipelineTransformer(models[2])\n",
    "d2_lgbm_reg = PipelineTransformer(models[3])\n",
    "\n",
    "d2_lr_clf = PipelineTransformer(models[4])\n",
    "d2_ctb_clf = PipelineTransformer(models[5])\n",
    "\n",
    "d3_ctb = PipelineTransformer(models[6])\n",
    "\n",
    "fg = FeatureGenerator()\n",
    "\n",
    "# pp = PipelinePredictor(models)"
   ]
  },
  {
   "cell_type": "code",
   "execution_count": 75,
   "metadata": {
    "pycharm": {
     "name": "#%%\n"
    }
   },
   "outputs": [],
   "source": [
    "l1 = CustomColumnTransformer(\n",
    "    transformers=[\n",
    "        ('d1_lr', d1_lr, ['tweet']),\n",
    "        ('d1_rfc', d1_rfc, ['tweet']),\n",
    "\n",
    "        ('d2_ctb_reg', d2_ctb_reg, ['tweet']),\n",
    "        ('d2_lgbm_reg', d2_lgbm_reg, ['tweet']),\n",
    "\n",
    "        ('d2_lr_clf', d2_lr_clf, ['tweet']),\n",
    "        ('d2_ctb_clf', d2_ctb_clf, ['tweet']),\n",
    "\n",
    "        ('d3_ctb', d3_ctb, ['tweet']),\n",
    "\n",
    "        ('feat_gen', fg, ['tweet']),\n",
    "    ],\n",
    "    remainder='drop'\n",
    ")"
   ]
  },
  {
   "cell_type": "code",
   "execution_count": 13,
   "metadata": {
    "pycharm": {
     "name": "#%%\n"
    }
   },
   "outputs": [
    {
     "data": {
      "text/plain": "array([[ 9.44993456e-01,  9.80000000e-01,  1.50488140e-01,\n         9.28453823e-01,  5.50323874e-02,  4.47867006e-01,\n         4.97100607e-01,  5.66561594e-02,  3.89024833e-01,\n         5.54319008e-01,  9.54738592e-01,  0.00000000e+00,\n         0.00000000e+00,  0.00000000e+00,  5.00000000e+00,\n         0.00000000e+00,  0.00000000e+00,  0.00000000e+00,\n         0.00000000e+00],\n       [ 9.30165996e-01,  1.00000000e+00,  1.66477290e-01,\n         8.74582564e-01,  2.87726475e-02,  2.55274268e-01,\n         7.15953084e-01,  5.29495117e-02,  3.61351648e-01,\n         5.85698840e-01,  9.29857342e-01,  0.00000000e+00,\n         0.00000000e+00,  7.35100000e-01,  6.00000000e+00,\n         0.00000000e+00,  0.00000000e+00,  0.00000000e+00,\n         0.00000000e+00],\n       [ 9.30165996e-01,  1.00000000e+00,  1.66477290e-01,\n         8.74582564e-01,  2.87726475e-02,  2.55274268e-01,\n         7.15953084e-01,  5.29495117e-02,  3.61351648e-01,\n         5.85698840e-01,  9.29857342e-01,  0.00000000e+00,\n         0.00000000e+00, -6.25900000e-01,  7.00000000e+00,\n         0.00000000e+00,  0.00000000e+00,  0.00000000e+00,\n         0.00000000e+00],\n       [ 9.12865170e-01,  8.84742141e-01,  1.66477290e-01,\n         8.01372032e-01,  4.40880802e-02,  5.43524405e-01,\n         4.12387515e-01,  5.60554944e-02,  3.75053624e-01,\n         5.68890882e-01,  9.49857563e-01,  0.00000000e+00,\n         0.00000000e+00, -3.41200000e-01,  5.00000000e+00,\n         0.00000000e+00,  0.00000000e+00,  0.00000000e+00,\n         0.00000000e+00],\n       [ 8.85795529e-01,  9.67606122e-01,  6.72725427e-01,\n         2.59431303e+00,  3.14617651e-01,  6.83413222e-01,\n         1.96912771e-03,  2.34532218e-01,  7.07352440e-01,\n         5.81153423e-02,  4.86556464e-01,  0.00000000e+00,\n         1.00000000e+00, -7.35100000e-01,  5.00000000e+00,\n         1.00000000e+00,  0.00000000e+00,  0.00000000e+00,\n         0.00000000e+00],\n       [ 5.01537834e-01,  3.50000000e-01,  1.60571721e+00,\n         2.19733547e+00,  5.98133708e-01,  3.78889239e-01,\n         2.29770526e-02,  6.19182132e-01,  3.54251279e-01,\n         2.65665887e-02,  6.42374201e-01,  0.00000000e+00,\n         1.00000000e+00, -5.99400000e-01,  3.00000000e+00,\n         0.00000000e+00,  0.00000000e+00,  0.00000000e+00,\n         0.00000000e+00],\n       [ 9.10569687e-01,  1.00000000e+00,  1.29610613e-01,\n         7.88688470e-01,  5.78807853e-02,  5.00617273e-01,\n         4.41501942e-01,  5.87946584e-02,  3.74328292e-01,\n         5.66877049e-01,  9.50139696e-01,  0.00000000e+00,\n         0.00000000e+00,  4.40400000e-01,  5.00000000e+00,\n         0.00000000e+00,  0.00000000e+00,  0.00000000e+00,\n         0.00000000e+00]])"
     },
     "execution_count": 13,
     "metadata": {},
     "output_type": "execute_result"
    }
   ],
   "source": [
    "l1.transform(data_sample)"
   ]
  },
  {
   "cell_type": "code",
   "execution_count": 14,
   "metadata": {
    "pycharm": {
     "name": "#%%\n"
    }
   },
   "outputs": [
    {
     "data": {
      "text/plain": "array([[ 9.44993456e-01,  9.80000000e-01,  1.50488140e-01,\n         9.28453823e-01,  5.50323874e-02,  4.47867006e-01,\n         4.97100607e-01,  5.66561594e-02,  3.89024833e-01,\n         5.54319008e-01,  9.54738592e-01,  0.00000000e+00,\n         0.00000000e+00,  0.00000000e+00,  5.00000000e+00,\n         0.00000000e+00,  0.00000000e+00,  0.00000000e+00,\n         0.00000000e+00],\n       [ 9.30165996e-01,  1.00000000e+00,  1.66477290e-01,\n         8.74582564e-01,  2.87726475e-02,  2.55274268e-01,\n         7.15953084e-01,  5.29495117e-02,  3.61351648e-01,\n         5.85698840e-01,  9.29857342e-01,  0.00000000e+00,\n         0.00000000e+00,  7.35100000e-01,  6.00000000e+00,\n         0.00000000e+00,  0.00000000e+00,  0.00000000e+00,\n         0.00000000e+00],\n       [ 9.30165996e-01,  1.00000000e+00,  1.66477290e-01,\n         8.74582564e-01,  2.87726475e-02,  2.55274268e-01,\n         7.15953084e-01,  5.29495117e-02,  3.61351648e-01,\n         5.85698840e-01,  9.29857342e-01,  0.00000000e+00,\n         0.00000000e+00, -6.25900000e-01,  7.00000000e+00,\n         0.00000000e+00,  0.00000000e+00,  0.00000000e+00,\n         0.00000000e+00],\n       [ 9.12865170e-01,  8.84742141e-01,  1.66477290e-01,\n         8.01372032e-01,  4.40880802e-02,  5.43524405e-01,\n         4.12387515e-01,  5.60554944e-02,  3.75053624e-01,\n         5.68890882e-01,  9.49857563e-01,  0.00000000e+00,\n         0.00000000e+00, -3.41200000e-01,  5.00000000e+00,\n         0.00000000e+00,  0.00000000e+00,  0.00000000e+00,\n         0.00000000e+00],\n       [ 8.85795529e-01,  9.67606122e-01,  6.72725427e-01,\n         2.59431303e+00,  3.14617651e-01,  6.83413222e-01,\n         1.96912771e-03,  2.34532218e-01,  7.07352440e-01,\n         5.81153423e-02,  4.86556464e-01,  0.00000000e+00,\n         1.00000000e+00, -7.35100000e-01,  5.00000000e+00,\n         1.00000000e+00,  0.00000000e+00,  0.00000000e+00,\n         0.00000000e+00],\n       [ 5.01537834e-01,  3.50000000e-01,  1.60571721e+00,\n         2.19733547e+00,  5.98133708e-01,  3.78889239e-01,\n         2.29770526e-02,  6.19182132e-01,  3.54251279e-01,\n         2.65665887e-02,  6.42374201e-01,  0.00000000e+00,\n         1.00000000e+00, -5.99400000e-01,  3.00000000e+00,\n         0.00000000e+00,  0.00000000e+00,  0.00000000e+00,\n         0.00000000e+00],\n       [ 9.10569687e-01,  1.00000000e+00,  1.29610613e-01,\n         7.88688470e-01,  5.78807853e-02,  5.00617273e-01,\n         4.41501942e-01,  5.87946584e-02,  3.74328292e-01,\n         5.66877049e-01,  9.50139696e-01,  0.00000000e+00,\n         0.00000000e+00,  4.40400000e-01,  5.00000000e+00,\n         0.00000000e+00,  0.00000000e+00,  0.00000000e+00,\n         0.00000000e+00]])"
     },
     "execution_count": 14,
     "metadata": {},
     "output_type": "execute_result"
    }
   ],
   "source": [
    "l1.fit_transform(data_sample)"
   ]
  },
  {
   "cell_type": "code",
   "execution_count": 15,
   "metadata": {
    "pycharm": {
     "name": "#%%\n"
    }
   },
   "outputs": [
    {
     "data": {
      "text/plain": "CustomColumnTransformer(transformers=[('d1_lr',\n                                       PipelineTransformer(pipeline=Pipeline(steps=[('NLP',\n                                                                                     Pipeline(steps=[('cleaning',\n                                                                                                      TextCleaner()),\n                                                                                                     ('series_converter',\n                                                                                                      SeriesConverter()),\n                                                                                                     ('vectorization',\n                                                                                                      TfidfVectorizer(max_df=0.7,\n                                                                                                                      min_df=3))])),\n                                                                                    ('regressor',\n                                                                                     LogisticRegression())])),\n                                       ['tweet']),\n                                      ('d1_rfc',\n                                       PipelineTransformer(pipeline=Pipeline(steps=[('NLP',...\n                                                                                     <catboost.core.CatBoostClassifier object at 0x000001FA35C56DA0>)])),\n                                       ['tweet']),\n                                      ('d3_ctb',\n                                       PipelineTransformer(pipeline=Pipeline(steps=[('NLP',\n                                                                                     Pipeline(steps=[('cleaning',\n                                                                                                      TextCleaner()),\n                                                                                                     ('series_converter',\n                                                                                                      SeriesConverter()),\n                                                                                                     ('vectorization',\n                                                                                                      TfidfVectorizer(max_df=0.7,\n                                                                                                                      min_df=3))])),\n                                                                                    ('regressor',\n                                                                                     <catboost.core.CatBoostClassifier object at 0x000001FA35C57940>)])),\n                                       ['tweet']),\n                                      ('feat_gen', FeatureGenerator(),\n                                       ['tweet'])])",
      "text/html": "<style>#sk-container-id-1 {color: black;background-color: white;}#sk-container-id-1 pre{padding: 0;}#sk-container-id-1 div.sk-toggleable {background-color: white;}#sk-container-id-1 label.sk-toggleable__label {cursor: pointer;display: block;width: 100%;margin-bottom: 0;padding: 0.3em;box-sizing: border-box;text-align: center;}#sk-container-id-1 label.sk-toggleable__label-arrow:before {content: \"▸\";float: left;margin-right: 0.25em;color: #696969;}#sk-container-id-1 label.sk-toggleable__label-arrow:hover:before {color: black;}#sk-container-id-1 div.sk-estimator:hover label.sk-toggleable__label-arrow:before {color: black;}#sk-container-id-1 div.sk-toggleable__content {max-height: 0;max-width: 0;overflow: hidden;text-align: left;background-color: #f0f8ff;}#sk-container-id-1 div.sk-toggleable__content pre {margin: 0.2em;color: black;border-radius: 0.25em;background-color: #f0f8ff;}#sk-container-id-1 input.sk-toggleable__control:checked~div.sk-toggleable__content {max-height: 200px;max-width: 100%;overflow: auto;}#sk-container-id-1 input.sk-toggleable__control:checked~label.sk-toggleable__label-arrow:before {content: \"▾\";}#sk-container-id-1 div.sk-estimator input.sk-toggleable__control:checked~label.sk-toggleable__label {background-color: #d4ebff;}#sk-container-id-1 div.sk-label input.sk-toggleable__control:checked~label.sk-toggleable__label {background-color: #d4ebff;}#sk-container-id-1 input.sk-hidden--visually {border: 0;clip: rect(1px 1px 1px 1px);clip: rect(1px, 1px, 1px, 1px);height: 1px;margin: -1px;overflow: hidden;padding: 0;position: absolute;width: 1px;}#sk-container-id-1 div.sk-estimator {font-family: monospace;background-color: #f0f8ff;border: 1px dotted black;border-radius: 0.25em;box-sizing: border-box;margin-bottom: 0.5em;}#sk-container-id-1 div.sk-estimator:hover {background-color: #d4ebff;}#sk-container-id-1 div.sk-parallel-item::after {content: \"\";width: 100%;border-bottom: 1px solid gray;flex-grow: 1;}#sk-container-id-1 div.sk-label:hover label.sk-toggleable__label {background-color: #d4ebff;}#sk-container-id-1 div.sk-serial::before {content: \"\";position: absolute;border-left: 1px solid gray;box-sizing: border-box;top: 0;bottom: 0;left: 50%;z-index: 0;}#sk-container-id-1 div.sk-serial {display: flex;flex-direction: column;align-items: center;background-color: white;padding-right: 0.2em;padding-left: 0.2em;position: relative;}#sk-container-id-1 div.sk-item {position: relative;z-index: 1;}#sk-container-id-1 div.sk-parallel {display: flex;align-items: stretch;justify-content: center;background-color: white;position: relative;}#sk-container-id-1 div.sk-item::before, #sk-container-id-1 div.sk-parallel-item::before {content: \"\";position: absolute;border-left: 1px solid gray;box-sizing: border-box;top: 0;bottom: 0;left: 50%;z-index: -1;}#sk-container-id-1 div.sk-parallel-item {display: flex;flex-direction: column;z-index: 1;position: relative;background-color: white;}#sk-container-id-1 div.sk-parallel-item:first-child::after {align-self: flex-end;width: 50%;}#sk-container-id-1 div.sk-parallel-item:last-child::after {align-self: flex-start;width: 50%;}#sk-container-id-1 div.sk-parallel-item:only-child::after {width: 0;}#sk-container-id-1 div.sk-dashed-wrapped {border: 1px dashed gray;margin: 0 0.4em 0.5em 0.4em;box-sizing: border-box;padding-bottom: 0.4em;background-color: white;}#sk-container-id-1 div.sk-label label {font-family: monospace;font-weight: bold;display: inline-block;line-height: 1.2em;}#sk-container-id-1 div.sk-label-container {text-align: center;}#sk-container-id-1 div.sk-container {/* jupyter's `normalize.less` sets `[hidden] { display: none; }` but bootstrap.min.css set `[hidden] { display: none !important; }` so we also need the `!important` here to be able to override the default hidden behavior on the sphinx rendered scikit-learn.org. See: https://github.com/scikit-learn/scikit-learn/issues/21755 */display: inline-block !important;position: relative;}#sk-container-id-1 div.sk-text-repr-fallback {display: none;}</style><div id=\"sk-container-id-1\" class=\"sk-top-container\"><div class=\"sk-text-repr-fallback\"><pre>CustomColumnTransformer(transformers=[(&#x27;d1_lr&#x27;,\n                                       PipelineTransformer(pipeline=Pipeline(steps=[(&#x27;NLP&#x27;,\n                                                                                     Pipeline(steps=[(&#x27;cleaning&#x27;,\n                                                                                                      TextCleaner()),\n                                                                                                     (&#x27;series_converter&#x27;,\n                                                                                                      SeriesConverter()),\n                                                                                                     (&#x27;vectorization&#x27;,\n                                                                                                      TfidfVectorizer(max_df=0.7,\n                                                                                                                      min_df=3))])),\n                                                                                    (&#x27;regressor&#x27;,\n                                                                                     LogisticRegression())])),\n                                       [&#x27;tweet&#x27;]),\n                                      (&#x27;d1_rfc&#x27;,\n                                       PipelineTransformer(pipeline=Pipeline(steps=[(&#x27;NLP&#x27;,...\n                                                                                     &lt;catboost.core.CatBoostClassifier object at 0x000001FA35C56DA0&gt;)])),\n                                       [&#x27;tweet&#x27;]),\n                                      (&#x27;d3_ctb&#x27;,\n                                       PipelineTransformer(pipeline=Pipeline(steps=[(&#x27;NLP&#x27;,\n                                                                                     Pipeline(steps=[(&#x27;cleaning&#x27;,\n                                                                                                      TextCleaner()),\n                                                                                                     (&#x27;series_converter&#x27;,\n                                                                                                      SeriesConverter()),\n                                                                                                     (&#x27;vectorization&#x27;,\n                                                                                                      TfidfVectorizer(max_df=0.7,\n                                                                                                                      min_df=3))])),\n                                                                                    (&#x27;regressor&#x27;,\n                                                                                     &lt;catboost.core.CatBoostClassifier object at 0x000001FA35C57940&gt;)])),\n                                       [&#x27;tweet&#x27;]),\n                                      (&#x27;feat_gen&#x27;, FeatureGenerator(),\n                                       [&#x27;tweet&#x27;])])</pre><b>In a Jupyter environment, please rerun this cell to show the HTML representation or trust the notebook. <br />On GitHub, the HTML representation is unable to render, please try loading this page with nbviewer.org.</b></div><div class=\"sk-container\" hidden><div class=\"sk-item sk-dashed-wrapped\"><div class=\"sk-label-container\"><div class=\"sk-label sk-toggleable\"><input class=\"sk-toggleable__control sk-hidden--visually\" id=\"sk-estimator-id-1\" type=\"checkbox\" ><label for=\"sk-estimator-id-1\" class=\"sk-toggleable__label sk-toggleable__label-arrow\">CustomColumnTransformer</label><div class=\"sk-toggleable__content\"><pre>CustomColumnTransformer(transformers=[(&#x27;d1_lr&#x27;,\n                                       PipelineTransformer(pipeline=Pipeline(steps=[(&#x27;NLP&#x27;,\n                                                                                     Pipeline(steps=[(&#x27;cleaning&#x27;,\n                                                                                                      TextCleaner()),\n                                                                                                     (&#x27;series_converter&#x27;,\n                                                                                                      SeriesConverter()),\n                                                                                                     (&#x27;vectorization&#x27;,\n                                                                                                      TfidfVectorizer(max_df=0.7,\n                                                                                                                      min_df=3))])),\n                                                                                    (&#x27;regressor&#x27;,\n                                                                                     LogisticRegression())])),\n                                       [&#x27;tweet&#x27;]),\n                                      (&#x27;d1_rfc&#x27;,\n                                       PipelineTransformer(pipeline=Pipeline(steps=[(&#x27;NLP&#x27;,...\n                                                                                     &lt;catboost.core.CatBoostClassifier object at 0x000001FA35C56DA0&gt;)])),\n                                       [&#x27;tweet&#x27;]),\n                                      (&#x27;d3_ctb&#x27;,\n                                       PipelineTransformer(pipeline=Pipeline(steps=[(&#x27;NLP&#x27;,\n                                                                                     Pipeline(steps=[(&#x27;cleaning&#x27;,\n                                                                                                      TextCleaner()),\n                                                                                                     (&#x27;series_converter&#x27;,\n                                                                                                      SeriesConverter()),\n                                                                                                     (&#x27;vectorization&#x27;,\n                                                                                                      TfidfVectorizer(max_df=0.7,\n                                                                                                                      min_df=3))])),\n                                                                                    (&#x27;regressor&#x27;,\n                                                                                     &lt;catboost.core.CatBoostClassifier object at 0x000001FA35C57940&gt;)])),\n                                       [&#x27;tweet&#x27;]),\n                                      (&#x27;feat_gen&#x27;, FeatureGenerator(),\n                                       [&#x27;tweet&#x27;])])</pre></div></div></div><div class=\"sk-parallel\"><div class=\"sk-parallel-item\"><div class=\"sk-item\"><div class=\"sk-label-container\"><div class=\"sk-label sk-toggleable\"><input class=\"sk-toggleable__control sk-hidden--visually\" id=\"sk-estimator-id-2\" type=\"checkbox\" ><label for=\"sk-estimator-id-2\" class=\"sk-toggleable__label sk-toggleable__label-arrow\">d1_lr</label><div class=\"sk-toggleable__content\"><pre>[&#x27;tweet&#x27;]</pre></div></div></div><div class=\"sk-serial\"><div class=\"sk-item sk-dashed-wrapped\"><div class=\"sk-parallel\"><div class=\"sk-parallel-item\"><div class=\"sk-item\"><div class=\"sk-label-container\"><div class=\"sk-label sk-toggleable\"><input class=\"sk-toggleable__control sk-hidden--visually\" id=\"sk-estimator-id-3\" type=\"checkbox\" ><label for=\"sk-estimator-id-3\" class=\"sk-toggleable__label sk-toggleable__label-arrow\">pipeline: Pipeline</label><div class=\"sk-toggleable__content\"><pre>Pipeline(steps=[(&#x27;NLP&#x27;,\n                 Pipeline(steps=[(&#x27;cleaning&#x27;, TextCleaner()),\n                                 (&#x27;series_converter&#x27;, SeriesConverter()),\n                                 (&#x27;vectorization&#x27;,\n                                  TfidfVectorizer(max_df=0.7, min_df=3))])),\n                (&#x27;regressor&#x27;, LogisticRegression())])</pre></div></div></div><div class=\"sk-serial\"><div class=\"sk-item\"><div class=\"sk-serial\"><div class=\"sk-item\"><div class=\"sk-label-container\"><div class=\"sk-label sk-toggleable\"><input class=\"sk-toggleable__control sk-hidden--visually\" id=\"sk-estimator-id-4\" type=\"checkbox\" ><label for=\"sk-estimator-id-4\" class=\"sk-toggleable__label sk-toggleable__label-arrow\">NLP: Pipeline</label><div class=\"sk-toggleable__content\"><pre>Pipeline(steps=[(&#x27;cleaning&#x27;, TextCleaner()),\n                (&#x27;series_converter&#x27;, SeriesConverter()),\n                (&#x27;vectorization&#x27;, TfidfVectorizer(max_df=0.7, min_df=3))])</pre></div></div></div><div class=\"sk-serial\"><div class=\"sk-item\"><div class=\"sk-estimator sk-toggleable\"><input class=\"sk-toggleable__control sk-hidden--visually\" id=\"sk-estimator-id-5\" type=\"checkbox\" ><label for=\"sk-estimator-id-5\" class=\"sk-toggleable__label sk-toggleable__label-arrow\">TextCleaner</label><div class=\"sk-toggleable__content\"><pre>TextCleaner()</pre></div></div></div><div class=\"sk-item\"><div class=\"sk-estimator sk-toggleable\"><input class=\"sk-toggleable__control sk-hidden--visually\" id=\"sk-estimator-id-6\" type=\"checkbox\" ><label for=\"sk-estimator-id-6\" class=\"sk-toggleable__label sk-toggleable__label-arrow\">SeriesConverter</label><div class=\"sk-toggleable__content\"><pre>SeriesConverter()</pre></div></div></div><div class=\"sk-item\"><div class=\"sk-estimator sk-toggleable\"><input class=\"sk-toggleable__control sk-hidden--visually\" id=\"sk-estimator-id-7\" type=\"checkbox\" ><label for=\"sk-estimator-id-7\" class=\"sk-toggleable__label sk-toggleable__label-arrow\">TfidfVectorizer</label><div class=\"sk-toggleable__content\"><pre>TfidfVectorizer(max_df=0.7, min_df=3)</pre></div></div></div></div></div><div class=\"sk-item\"><div class=\"sk-estimator sk-toggleable\"><input class=\"sk-toggleable__control sk-hidden--visually\" id=\"sk-estimator-id-8\" type=\"checkbox\" ><label for=\"sk-estimator-id-8\" class=\"sk-toggleable__label sk-toggleable__label-arrow\">LogisticRegression</label><div class=\"sk-toggleable__content\"><pre>LogisticRegression()</pre></div></div></div></div></div></div></div></div></div></div></div></div></div><div class=\"sk-parallel-item\"><div class=\"sk-item\"><div class=\"sk-label-container\"><div class=\"sk-label sk-toggleable\"><input class=\"sk-toggleable__control sk-hidden--visually\" id=\"sk-estimator-id-9\" type=\"checkbox\" ><label for=\"sk-estimator-id-9\" class=\"sk-toggleable__label sk-toggleable__label-arrow\">d1_rfc</label><div class=\"sk-toggleable__content\"><pre>[&#x27;tweet&#x27;]</pre></div></div></div><div class=\"sk-serial\"><div class=\"sk-item sk-dashed-wrapped\"><div class=\"sk-parallel\"><div class=\"sk-parallel-item\"><div class=\"sk-item\"><div class=\"sk-label-container\"><div class=\"sk-label sk-toggleable\"><input class=\"sk-toggleable__control sk-hidden--visually\" id=\"sk-estimator-id-10\" type=\"checkbox\" ><label for=\"sk-estimator-id-10\" class=\"sk-toggleable__label sk-toggleable__label-arrow\">pipeline: Pipeline</label><div class=\"sk-toggleable__content\"><pre>Pipeline(steps=[(&#x27;NLP&#x27;,\n                 Pipeline(steps=[(&#x27;cleaning&#x27;, TextCleaner()),\n                                 (&#x27;series_converter&#x27;, SeriesConverter()),\n                                 (&#x27;vectorization&#x27;,\n                                  TfidfVectorizer(max_df=0.7, min_df=3))])),\n                (&#x27;regressor&#x27;, RandomForestClassifier())])</pre></div></div></div><div class=\"sk-serial\"><div class=\"sk-item\"><div class=\"sk-serial\"><div class=\"sk-item\"><div class=\"sk-label-container\"><div class=\"sk-label sk-toggleable\"><input class=\"sk-toggleable__control sk-hidden--visually\" id=\"sk-estimator-id-11\" type=\"checkbox\" ><label for=\"sk-estimator-id-11\" class=\"sk-toggleable__label sk-toggleable__label-arrow\">NLP: Pipeline</label><div class=\"sk-toggleable__content\"><pre>Pipeline(steps=[(&#x27;cleaning&#x27;, TextCleaner()),\n                (&#x27;series_converter&#x27;, SeriesConverter()),\n                (&#x27;vectorization&#x27;, TfidfVectorizer(max_df=0.7, min_df=3))])</pre></div></div></div><div class=\"sk-serial\"><div class=\"sk-item\"><div class=\"sk-estimator sk-toggleable\"><input class=\"sk-toggleable__control sk-hidden--visually\" id=\"sk-estimator-id-12\" type=\"checkbox\" ><label for=\"sk-estimator-id-12\" class=\"sk-toggleable__label sk-toggleable__label-arrow\">TextCleaner</label><div class=\"sk-toggleable__content\"><pre>TextCleaner()</pre></div></div></div><div class=\"sk-item\"><div class=\"sk-estimator sk-toggleable\"><input class=\"sk-toggleable__control sk-hidden--visually\" id=\"sk-estimator-id-13\" type=\"checkbox\" ><label for=\"sk-estimator-id-13\" class=\"sk-toggleable__label sk-toggleable__label-arrow\">SeriesConverter</label><div class=\"sk-toggleable__content\"><pre>SeriesConverter()</pre></div></div></div><div class=\"sk-item\"><div class=\"sk-estimator sk-toggleable\"><input class=\"sk-toggleable__control sk-hidden--visually\" id=\"sk-estimator-id-14\" type=\"checkbox\" ><label for=\"sk-estimator-id-14\" class=\"sk-toggleable__label sk-toggleable__label-arrow\">TfidfVectorizer</label><div class=\"sk-toggleable__content\"><pre>TfidfVectorizer(max_df=0.7, min_df=3)</pre></div></div></div></div></div><div class=\"sk-item\"><div class=\"sk-estimator sk-toggleable\"><input class=\"sk-toggleable__control sk-hidden--visually\" id=\"sk-estimator-id-15\" type=\"checkbox\" ><label for=\"sk-estimator-id-15\" class=\"sk-toggleable__label sk-toggleable__label-arrow\">RandomForestClassifier</label><div class=\"sk-toggleable__content\"><pre>RandomForestClassifier()</pre></div></div></div></div></div></div></div></div></div></div></div></div></div><div class=\"sk-parallel-item\"><div class=\"sk-item\"><div class=\"sk-label-container\"><div class=\"sk-label sk-toggleable\"><input class=\"sk-toggleable__control sk-hidden--visually\" id=\"sk-estimator-id-16\" type=\"checkbox\" ><label for=\"sk-estimator-id-16\" class=\"sk-toggleable__label sk-toggleable__label-arrow\">d2_ctb_reg</label><div class=\"sk-toggleable__content\"><pre>[&#x27;tweet&#x27;]</pre></div></div></div><div class=\"sk-serial\"><div class=\"sk-item sk-dashed-wrapped\"><div class=\"sk-parallel\"><div class=\"sk-parallel-item\"><div class=\"sk-item\"><div class=\"sk-label-container\"><div class=\"sk-label sk-toggleable\"><input class=\"sk-toggleable__control sk-hidden--visually\" id=\"sk-estimator-id-17\" type=\"checkbox\" ><label for=\"sk-estimator-id-17\" class=\"sk-toggleable__label sk-toggleable__label-arrow\">pipeline: Pipeline</label><div class=\"sk-toggleable__content\"><pre>Pipeline(steps=[(&#x27;NLP&#x27;,\n                 Pipeline(steps=[(&#x27;cleaning&#x27;, TextCleaner()),\n                                 (&#x27;series_converter&#x27;, SeriesConverter()),\n                                 (&#x27;vectorization&#x27;,\n                                  TfidfVectorizer(max_df=0.7, min_df=3))])),\n                (&#x27;regressor&#x27;,\n                 &lt;catboost.core.CatBoostRegressor object at 0x000001FA35C54130&gt;)])</pre></div></div></div><div class=\"sk-serial\"><div class=\"sk-item\"><div class=\"sk-serial\"><div class=\"sk-item\"><div class=\"sk-label-container\"><div class=\"sk-label sk-toggleable\"><input class=\"sk-toggleable__control sk-hidden--visually\" id=\"sk-estimator-id-18\" type=\"checkbox\" ><label for=\"sk-estimator-id-18\" class=\"sk-toggleable__label sk-toggleable__label-arrow\">NLP: Pipeline</label><div class=\"sk-toggleable__content\"><pre>Pipeline(steps=[(&#x27;cleaning&#x27;, TextCleaner()),\n                (&#x27;series_converter&#x27;, SeriesConverter()),\n                (&#x27;vectorization&#x27;, TfidfVectorizer(max_df=0.7, min_df=3))])</pre></div></div></div><div class=\"sk-serial\"><div class=\"sk-item\"><div class=\"sk-estimator sk-toggleable\"><input class=\"sk-toggleable__control sk-hidden--visually\" id=\"sk-estimator-id-19\" type=\"checkbox\" ><label for=\"sk-estimator-id-19\" class=\"sk-toggleable__label sk-toggleable__label-arrow\">TextCleaner</label><div class=\"sk-toggleable__content\"><pre>TextCleaner()</pre></div></div></div><div class=\"sk-item\"><div class=\"sk-estimator sk-toggleable\"><input class=\"sk-toggleable__control sk-hidden--visually\" id=\"sk-estimator-id-20\" type=\"checkbox\" ><label for=\"sk-estimator-id-20\" class=\"sk-toggleable__label sk-toggleable__label-arrow\">SeriesConverter</label><div class=\"sk-toggleable__content\"><pre>SeriesConverter()</pre></div></div></div><div class=\"sk-item\"><div class=\"sk-estimator sk-toggleable\"><input class=\"sk-toggleable__control sk-hidden--visually\" id=\"sk-estimator-id-21\" type=\"checkbox\" ><label for=\"sk-estimator-id-21\" class=\"sk-toggleable__label sk-toggleable__label-arrow\">TfidfVectorizer</label><div class=\"sk-toggleable__content\"><pre>TfidfVectorizer(max_df=0.7, min_df=3)</pre></div></div></div></div></div><div class=\"sk-item\"><div class=\"sk-estimator sk-toggleable\"><input class=\"sk-toggleable__control sk-hidden--visually\" id=\"sk-estimator-id-22\" type=\"checkbox\" ><label for=\"sk-estimator-id-22\" class=\"sk-toggleable__label sk-toggleable__label-arrow\">CatBoostRegressor</label><div class=\"sk-toggleable__content\"><pre>&lt;catboost.core.CatBoostRegressor object at 0x000001FA35C54130&gt;</pre></div></div></div></div></div></div></div></div></div></div></div></div></div><div class=\"sk-parallel-item\"><div class=\"sk-item\"><div class=\"sk-label-container\"><div class=\"sk-label sk-toggleable\"><input class=\"sk-toggleable__control sk-hidden--visually\" id=\"sk-estimator-id-23\" type=\"checkbox\" ><label for=\"sk-estimator-id-23\" class=\"sk-toggleable__label sk-toggleable__label-arrow\">d2_lgbm_reg</label><div class=\"sk-toggleable__content\"><pre>[&#x27;tweet&#x27;]</pre></div></div></div><div class=\"sk-serial\"><div class=\"sk-item sk-dashed-wrapped\"><div class=\"sk-parallel\"><div class=\"sk-parallel-item\"><div class=\"sk-item\"><div class=\"sk-label-container\"><div class=\"sk-label sk-toggleable\"><input class=\"sk-toggleable__control sk-hidden--visually\" id=\"sk-estimator-id-24\" type=\"checkbox\" ><label for=\"sk-estimator-id-24\" class=\"sk-toggleable__label sk-toggleable__label-arrow\">pipeline: Pipeline</label><div class=\"sk-toggleable__content\"><pre>Pipeline(steps=[(&#x27;NLP&#x27;,\n                 Pipeline(steps=[(&#x27;cleaning&#x27;, TextCleaner()),\n                                 (&#x27;series_converter&#x27;, SeriesConverter()),\n                                 (&#x27;vectorization&#x27;,\n                                  TfidfVectorizer(max_df=0.7, min_df=3))])),\n                (&#x27;regressor&#x27;, LGBMRegressor())])</pre></div></div></div><div class=\"sk-serial\"><div class=\"sk-item\"><div class=\"sk-serial\"><div class=\"sk-item\"><div class=\"sk-label-container\"><div class=\"sk-label sk-toggleable\"><input class=\"sk-toggleable__control sk-hidden--visually\" id=\"sk-estimator-id-25\" type=\"checkbox\" ><label for=\"sk-estimator-id-25\" class=\"sk-toggleable__label sk-toggleable__label-arrow\">NLP: Pipeline</label><div class=\"sk-toggleable__content\"><pre>Pipeline(steps=[(&#x27;cleaning&#x27;, TextCleaner()),\n                (&#x27;series_converter&#x27;, SeriesConverter()),\n                (&#x27;vectorization&#x27;, TfidfVectorizer(max_df=0.7, min_df=3))])</pre></div></div></div><div class=\"sk-serial\"><div class=\"sk-item\"><div class=\"sk-estimator sk-toggleable\"><input class=\"sk-toggleable__control sk-hidden--visually\" id=\"sk-estimator-id-26\" type=\"checkbox\" ><label for=\"sk-estimator-id-26\" class=\"sk-toggleable__label sk-toggleable__label-arrow\">TextCleaner</label><div class=\"sk-toggleable__content\"><pre>TextCleaner()</pre></div></div></div><div class=\"sk-item\"><div class=\"sk-estimator sk-toggleable\"><input class=\"sk-toggleable__control sk-hidden--visually\" id=\"sk-estimator-id-27\" type=\"checkbox\" ><label for=\"sk-estimator-id-27\" class=\"sk-toggleable__label sk-toggleable__label-arrow\">SeriesConverter</label><div class=\"sk-toggleable__content\"><pre>SeriesConverter()</pre></div></div></div><div class=\"sk-item\"><div class=\"sk-estimator sk-toggleable\"><input class=\"sk-toggleable__control sk-hidden--visually\" id=\"sk-estimator-id-28\" type=\"checkbox\" ><label for=\"sk-estimator-id-28\" class=\"sk-toggleable__label sk-toggleable__label-arrow\">TfidfVectorizer</label><div class=\"sk-toggleable__content\"><pre>TfidfVectorizer(max_df=0.7, min_df=3)</pre></div></div></div></div></div><div class=\"sk-item\"><div class=\"sk-estimator sk-toggleable\"><input class=\"sk-toggleable__control sk-hidden--visually\" id=\"sk-estimator-id-29\" type=\"checkbox\" ><label for=\"sk-estimator-id-29\" class=\"sk-toggleable__label sk-toggleable__label-arrow\">LGBMRegressor</label><div class=\"sk-toggleable__content\"><pre>LGBMRegressor()</pre></div></div></div></div></div></div></div></div></div></div></div></div></div><div class=\"sk-parallel-item\"><div class=\"sk-item\"><div class=\"sk-label-container\"><div class=\"sk-label sk-toggleable\"><input class=\"sk-toggleable__control sk-hidden--visually\" id=\"sk-estimator-id-30\" type=\"checkbox\" ><label for=\"sk-estimator-id-30\" class=\"sk-toggleable__label sk-toggleable__label-arrow\">d2_lr_clf</label><div class=\"sk-toggleable__content\"><pre>[&#x27;tweet&#x27;]</pre></div></div></div><div class=\"sk-serial\"><div class=\"sk-item sk-dashed-wrapped\"><div class=\"sk-parallel\"><div class=\"sk-parallel-item\"><div class=\"sk-item\"><div class=\"sk-label-container\"><div class=\"sk-label sk-toggleable\"><input class=\"sk-toggleable__control sk-hidden--visually\" id=\"sk-estimator-id-31\" type=\"checkbox\" ><label for=\"sk-estimator-id-31\" class=\"sk-toggleable__label sk-toggleable__label-arrow\">pipeline: Pipeline</label><div class=\"sk-toggleable__content\"><pre>Pipeline(steps=[(&#x27;NLP&#x27;,\n                 Pipeline(steps=[(&#x27;cleaning&#x27;, TextCleaner()),\n                                 (&#x27;series_converter&#x27;, SeriesConverter()),\n                                 (&#x27;vectorization&#x27;,\n                                  TfidfVectorizer(max_df=0.7, min_df=3))])),\n                (&#x27;regressor&#x27;, LogisticRegression())])</pre></div></div></div><div class=\"sk-serial\"><div class=\"sk-item\"><div class=\"sk-serial\"><div class=\"sk-item\"><div class=\"sk-label-container\"><div class=\"sk-label sk-toggleable\"><input class=\"sk-toggleable__control sk-hidden--visually\" id=\"sk-estimator-id-32\" type=\"checkbox\" ><label for=\"sk-estimator-id-32\" class=\"sk-toggleable__label sk-toggleable__label-arrow\">NLP: Pipeline</label><div class=\"sk-toggleable__content\"><pre>Pipeline(steps=[(&#x27;cleaning&#x27;, TextCleaner()),\n                (&#x27;series_converter&#x27;, SeriesConverter()),\n                (&#x27;vectorization&#x27;, TfidfVectorizer(max_df=0.7, min_df=3))])</pre></div></div></div><div class=\"sk-serial\"><div class=\"sk-item\"><div class=\"sk-estimator sk-toggleable\"><input class=\"sk-toggleable__control sk-hidden--visually\" id=\"sk-estimator-id-33\" type=\"checkbox\" ><label for=\"sk-estimator-id-33\" class=\"sk-toggleable__label sk-toggleable__label-arrow\">TextCleaner</label><div class=\"sk-toggleable__content\"><pre>TextCleaner()</pre></div></div></div><div class=\"sk-item\"><div class=\"sk-estimator sk-toggleable\"><input class=\"sk-toggleable__control sk-hidden--visually\" id=\"sk-estimator-id-34\" type=\"checkbox\" ><label for=\"sk-estimator-id-34\" class=\"sk-toggleable__label sk-toggleable__label-arrow\">SeriesConverter</label><div class=\"sk-toggleable__content\"><pre>SeriesConverter()</pre></div></div></div><div class=\"sk-item\"><div class=\"sk-estimator sk-toggleable\"><input class=\"sk-toggleable__control sk-hidden--visually\" id=\"sk-estimator-id-35\" type=\"checkbox\" ><label for=\"sk-estimator-id-35\" class=\"sk-toggleable__label sk-toggleable__label-arrow\">TfidfVectorizer</label><div class=\"sk-toggleable__content\"><pre>TfidfVectorizer(max_df=0.7, min_df=3)</pre></div></div></div></div></div><div class=\"sk-item\"><div class=\"sk-estimator sk-toggleable\"><input class=\"sk-toggleable__control sk-hidden--visually\" id=\"sk-estimator-id-36\" type=\"checkbox\" ><label for=\"sk-estimator-id-36\" class=\"sk-toggleable__label sk-toggleable__label-arrow\">LogisticRegression</label><div class=\"sk-toggleable__content\"><pre>LogisticRegression()</pre></div></div></div></div></div></div></div></div></div></div></div></div></div><div class=\"sk-parallel-item\"><div class=\"sk-item\"><div class=\"sk-label-container\"><div class=\"sk-label sk-toggleable\"><input class=\"sk-toggleable__control sk-hidden--visually\" id=\"sk-estimator-id-37\" type=\"checkbox\" ><label for=\"sk-estimator-id-37\" class=\"sk-toggleable__label sk-toggleable__label-arrow\">d2_ctb_clf</label><div class=\"sk-toggleable__content\"><pre>[&#x27;tweet&#x27;]</pre></div></div></div><div class=\"sk-serial\"><div class=\"sk-item sk-dashed-wrapped\"><div class=\"sk-parallel\"><div class=\"sk-parallel-item\"><div class=\"sk-item\"><div class=\"sk-label-container\"><div class=\"sk-label sk-toggleable\"><input class=\"sk-toggleable__control sk-hidden--visually\" id=\"sk-estimator-id-38\" type=\"checkbox\" ><label for=\"sk-estimator-id-38\" class=\"sk-toggleable__label sk-toggleable__label-arrow\">pipeline: Pipeline</label><div class=\"sk-toggleable__content\"><pre>Pipeline(steps=[(&#x27;NLP&#x27;,\n                 Pipeline(steps=[(&#x27;cleaning&#x27;, TextCleaner()),\n                                 (&#x27;series_converter&#x27;, SeriesConverter()),\n                                 (&#x27;vectorization&#x27;,\n                                  TfidfVectorizer(max_df=0.7, min_df=3))])),\n                (&#x27;regressor&#x27;,\n                 &lt;catboost.core.CatBoostClassifier object at 0x000001FA35C56DA0&gt;)])</pre></div></div></div><div class=\"sk-serial\"><div class=\"sk-item\"><div class=\"sk-serial\"><div class=\"sk-item\"><div class=\"sk-label-container\"><div class=\"sk-label sk-toggleable\"><input class=\"sk-toggleable__control sk-hidden--visually\" id=\"sk-estimator-id-39\" type=\"checkbox\" ><label for=\"sk-estimator-id-39\" class=\"sk-toggleable__label sk-toggleable__label-arrow\">NLP: Pipeline</label><div class=\"sk-toggleable__content\"><pre>Pipeline(steps=[(&#x27;cleaning&#x27;, TextCleaner()),\n                (&#x27;series_converter&#x27;, SeriesConverter()),\n                (&#x27;vectorization&#x27;, TfidfVectorizer(max_df=0.7, min_df=3))])</pre></div></div></div><div class=\"sk-serial\"><div class=\"sk-item\"><div class=\"sk-estimator sk-toggleable\"><input class=\"sk-toggleable__control sk-hidden--visually\" id=\"sk-estimator-id-40\" type=\"checkbox\" ><label for=\"sk-estimator-id-40\" class=\"sk-toggleable__label sk-toggleable__label-arrow\">TextCleaner</label><div class=\"sk-toggleable__content\"><pre>TextCleaner()</pre></div></div></div><div class=\"sk-item\"><div class=\"sk-estimator sk-toggleable\"><input class=\"sk-toggleable__control sk-hidden--visually\" id=\"sk-estimator-id-41\" type=\"checkbox\" ><label for=\"sk-estimator-id-41\" class=\"sk-toggleable__label sk-toggleable__label-arrow\">SeriesConverter</label><div class=\"sk-toggleable__content\"><pre>SeriesConverter()</pre></div></div></div><div class=\"sk-item\"><div class=\"sk-estimator sk-toggleable\"><input class=\"sk-toggleable__control sk-hidden--visually\" id=\"sk-estimator-id-42\" type=\"checkbox\" ><label for=\"sk-estimator-id-42\" class=\"sk-toggleable__label sk-toggleable__label-arrow\">TfidfVectorizer</label><div class=\"sk-toggleable__content\"><pre>TfidfVectorizer(max_df=0.7, min_df=3)</pre></div></div></div></div></div><div class=\"sk-item\"><div class=\"sk-estimator sk-toggleable\"><input class=\"sk-toggleable__control sk-hidden--visually\" id=\"sk-estimator-id-43\" type=\"checkbox\" ><label for=\"sk-estimator-id-43\" class=\"sk-toggleable__label sk-toggleable__label-arrow\">CatBoostClassifier</label><div class=\"sk-toggleable__content\"><pre>&lt;catboost.core.CatBoostClassifier object at 0x000001FA35C56DA0&gt;</pre></div></div></div></div></div></div></div></div></div></div></div></div></div><div class=\"sk-parallel-item\"><div class=\"sk-item\"><div class=\"sk-label-container\"><div class=\"sk-label sk-toggleable\"><input class=\"sk-toggleable__control sk-hidden--visually\" id=\"sk-estimator-id-44\" type=\"checkbox\" ><label for=\"sk-estimator-id-44\" class=\"sk-toggleable__label sk-toggleable__label-arrow\">d3_ctb</label><div class=\"sk-toggleable__content\"><pre>[&#x27;tweet&#x27;]</pre></div></div></div><div class=\"sk-serial\"><div class=\"sk-item sk-dashed-wrapped\"><div class=\"sk-parallel\"><div class=\"sk-parallel-item\"><div class=\"sk-item\"><div class=\"sk-label-container\"><div class=\"sk-label sk-toggleable\"><input class=\"sk-toggleable__control sk-hidden--visually\" id=\"sk-estimator-id-45\" type=\"checkbox\" ><label for=\"sk-estimator-id-45\" class=\"sk-toggleable__label sk-toggleable__label-arrow\">pipeline: Pipeline</label><div class=\"sk-toggleable__content\"><pre>Pipeline(steps=[(&#x27;NLP&#x27;,\n                 Pipeline(steps=[(&#x27;cleaning&#x27;, TextCleaner()),\n                                 (&#x27;series_converter&#x27;, SeriesConverter()),\n                                 (&#x27;vectorization&#x27;,\n                                  TfidfVectorizer(max_df=0.7, min_df=3))])),\n                (&#x27;regressor&#x27;,\n                 &lt;catboost.core.CatBoostClassifier object at 0x000001FA35C57940&gt;)])</pre></div></div></div><div class=\"sk-serial\"><div class=\"sk-item\"><div class=\"sk-serial\"><div class=\"sk-item\"><div class=\"sk-label-container\"><div class=\"sk-label sk-toggleable\"><input class=\"sk-toggleable__control sk-hidden--visually\" id=\"sk-estimator-id-46\" type=\"checkbox\" ><label for=\"sk-estimator-id-46\" class=\"sk-toggleable__label sk-toggleable__label-arrow\">NLP: Pipeline</label><div class=\"sk-toggleable__content\"><pre>Pipeline(steps=[(&#x27;cleaning&#x27;, TextCleaner()),\n                (&#x27;series_converter&#x27;, SeriesConverter()),\n                (&#x27;vectorization&#x27;, TfidfVectorizer(max_df=0.7, min_df=3))])</pre></div></div></div><div class=\"sk-serial\"><div class=\"sk-item\"><div class=\"sk-estimator sk-toggleable\"><input class=\"sk-toggleable__control sk-hidden--visually\" id=\"sk-estimator-id-47\" type=\"checkbox\" ><label for=\"sk-estimator-id-47\" class=\"sk-toggleable__label sk-toggleable__label-arrow\">TextCleaner</label><div class=\"sk-toggleable__content\"><pre>TextCleaner()</pre></div></div></div><div class=\"sk-item\"><div class=\"sk-estimator sk-toggleable\"><input class=\"sk-toggleable__control sk-hidden--visually\" id=\"sk-estimator-id-48\" type=\"checkbox\" ><label for=\"sk-estimator-id-48\" class=\"sk-toggleable__label sk-toggleable__label-arrow\">SeriesConverter</label><div class=\"sk-toggleable__content\"><pre>SeriesConverter()</pre></div></div></div><div class=\"sk-item\"><div class=\"sk-estimator sk-toggleable\"><input class=\"sk-toggleable__control sk-hidden--visually\" id=\"sk-estimator-id-49\" type=\"checkbox\" ><label for=\"sk-estimator-id-49\" class=\"sk-toggleable__label sk-toggleable__label-arrow\">TfidfVectorizer</label><div class=\"sk-toggleable__content\"><pre>TfidfVectorizer(max_df=0.7, min_df=3)</pre></div></div></div></div></div><div class=\"sk-item\"><div class=\"sk-estimator sk-toggleable\"><input class=\"sk-toggleable__control sk-hidden--visually\" id=\"sk-estimator-id-50\" type=\"checkbox\" ><label for=\"sk-estimator-id-50\" class=\"sk-toggleable__label sk-toggleable__label-arrow\">CatBoostClassifier</label><div class=\"sk-toggleable__content\"><pre>&lt;catboost.core.CatBoostClassifier object at 0x000001FA35C57940&gt;</pre></div></div></div></div></div></div></div></div></div></div></div></div></div><div class=\"sk-parallel-item\"><div class=\"sk-item\"><div class=\"sk-label-container\"><div class=\"sk-label sk-toggleable\"><input class=\"sk-toggleable__control sk-hidden--visually\" id=\"sk-estimator-id-51\" type=\"checkbox\" ><label for=\"sk-estimator-id-51\" class=\"sk-toggleable__label sk-toggleable__label-arrow\">feat_gen</label><div class=\"sk-toggleable__content\"><pre>[&#x27;tweet&#x27;]</pre></div></div></div><div class=\"sk-serial\"><div class=\"sk-item\"><div class=\"sk-estimator sk-toggleable\"><input class=\"sk-toggleable__control sk-hidden--visually\" id=\"sk-estimator-id-52\" type=\"checkbox\" ><label for=\"sk-estimator-id-52\" class=\"sk-toggleable__label sk-toggleable__label-arrow\">FeatureGenerator</label><div class=\"sk-toggleable__content\"><pre>FeatureGenerator()</pre></div></div></div></div></div></div></div></div></div></div>"
     },
     "execution_count": 15,
     "metadata": {},
     "output_type": "execute_result"
    }
   ],
   "source": [
    "l1"
   ]
  },
  {
   "cell_type": "code",
   "execution_count": 16,
   "metadata": {
    "pycharm": {
     "name": "#%%\n"
    }
   },
   "outputs": [
    {
     "data": {
      "text/plain": "['d1_lr_LogisticRegression',\n 'd1_rfc_RandomForestClassifier',\n 'd2_ctb_reg_CatBoostRegressor',\n 'd2_lgbm_reg_LGBMRegressor',\n 'd2_lr_clf_LogisticRegression_0',\n 'd2_lr_clf_LogisticRegression_1',\n 'd2_lr_clf_LogisticRegression_2',\n 'd2_ctb_clf_CatBoostClassifier_0',\n 'd2_ctb_clf_CatBoostClassifier_1',\n 'd2_ctb_clf_CatBoostClassifier_2',\n 'd3_ctb_CatBoostClassifier',\n 'feat_gen_rt_flag',\n 'feat_gen_contains_profanity_words_flag',\n 'feat_gen_sentiment_score_of_row',\n 'feat_gen_number_of_words_in_row',\n 'feat_gen_number_of_commas',\n 'feat_gen_number_of_excl_points',\n 'feat_gen_number_of_question_marks',\n 'feat_gen_number_of_full_stops']"
     },
     "execution_count": 16,
     "metadata": {},
     "output_type": "execute_result"
    }
   ],
   "source": [
    "l1.get_feature_names_out()"
   ]
  },
  {
   "cell_type": "code",
   "execution_count": 66,
   "metadata": {
    "pycharm": {
     "name": "#%%\n"
    }
   },
   "outputs": [],
   "source": [
    "# l1 = ColumnTransformer(\n",
    "#     transformers=[\n",
    "#         ('l1_p1', pp, ['tweet']),\n",
    "#         # ('l1_p2', p2, ['tweet']),\n",
    "#         # ('l1_p3', p3, ['tweet']),\n",
    "#         # ('l1_p4', p4, ['tweet']),\n",
    "#         ('l1_g1', FeatureGenerator(), ['tweet']),\n",
    "#     ],\n",
    "#     remainder='drop'\n",
    "# )"
   ]
  },
  {
   "cell_type": "code",
   "execution_count": 17,
   "metadata": {
    "pycharm": {
     "name": "#%%\n"
    }
   },
   "outputs": [],
   "source": [
    "meta_classifier = DecisionTreeClassifier()"
   ]
  },
  {
   "cell_type": "code",
   "execution_count": 18,
   "metadata": {
    "pycharm": {
     "name": "#%%\n"
    }
   },
   "outputs": [],
   "source": [
    "stacking_model = StackingClassifier(\n",
    "    estimators=[\n",
    "        ('logistic_regression', LogisticRegression()),\n",
    "        ('random_forest', RandomForestClassifier()),\n",
    "        ('xgboost', XGBClassifier(tree_method='gpu_hist'))\n",
    "    ],\n",
    "    final_estimator=meta_classifier,\n",
    "    cv=None  # Set your desired cross-validation strategy here\n",
    ")"
   ]
  },
  {
   "cell_type": "code",
   "execution_count": 19,
   "metadata": {
    "pycharm": {
     "name": "#%%\n"
    }
   },
   "outputs": [
    {
     "data": {
      "text/plain": "StackingClassifier(estimators=[('logistic_regression', LogisticRegression()),\n                               ('random_forest', RandomForestClassifier()),\n                               ('xgboost',\n                                XGBClassifier(base_score=None, booster=None,\n                                              callbacks=None,\n                                              colsample_bylevel=None,\n                                              colsample_bynode=None,\n                                              colsample_bytree=None,\n                                              early_stopping_rounds=None,\n                                              enable_categorical=False,\n                                              eval_metric=None,\n                                              feature_types=None, gamma=N...\n                                              interaction_constraints=None,\n                                              learning_rate=None, max_bin=None,\n                                              max_cat_threshold=None,\n                                              max_cat_to_onehot=None,\n                                              max_delta_step=None,\n                                              max_depth=None, max_leaves=None,\n                                              min_child_weight=None,\n                                              missing=nan,\n                                              monotone_constraints=None,\n                                              n_estimators=100, n_jobs=None,\n                                              num_parallel_tree=None,\n                                              predictor=None, random_state=None, ...))],\n                   final_estimator=DecisionTreeClassifier())",
      "text/html": "<style>#sk-container-id-2 {color: black;background-color: white;}#sk-container-id-2 pre{padding: 0;}#sk-container-id-2 div.sk-toggleable {background-color: white;}#sk-container-id-2 label.sk-toggleable__label {cursor: pointer;display: block;width: 100%;margin-bottom: 0;padding: 0.3em;box-sizing: border-box;text-align: center;}#sk-container-id-2 label.sk-toggleable__label-arrow:before {content: \"▸\";float: left;margin-right: 0.25em;color: #696969;}#sk-container-id-2 label.sk-toggleable__label-arrow:hover:before {color: black;}#sk-container-id-2 div.sk-estimator:hover label.sk-toggleable__label-arrow:before {color: black;}#sk-container-id-2 div.sk-toggleable__content {max-height: 0;max-width: 0;overflow: hidden;text-align: left;background-color: #f0f8ff;}#sk-container-id-2 div.sk-toggleable__content pre {margin: 0.2em;color: black;border-radius: 0.25em;background-color: #f0f8ff;}#sk-container-id-2 input.sk-toggleable__control:checked~div.sk-toggleable__content {max-height: 200px;max-width: 100%;overflow: auto;}#sk-container-id-2 input.sk-toggleable__control:checked~label.sk-toggleable__label-arrow:before {content: \"▾\";}#sk-container-id-2 div.sk-estimator input.sk-toggleable__control:checked~label.sk-toggleable__label {background-color: #d4ebff;}#sk-container-id-2 div.sk-label input.sk-toggleable__control:checked~label.sk-toggleable__label {background-color: #d4ebff;}#sk-container-id-2 input.sk-hidden--visually {border: 0;clip: rect(1px 1px 1px 1px);clip: rect(1px, 1px, 1px, 1px);height: 1px;margin: -1px;overflow: hidden;padding: 0;position: absolute;width: 1px;}#sk-container-id-2 div.sk-estimator {font-family: monospace;background-color: #f0f8ff;border: 1px dotted black;border-radius: 0.25em;box-sizing: border-box;margin-bottom: 0.5em;}#sk-container-id-2 div.sk-estimator:hover {background-color: #d4ebff;}#sk-container-id-2 div.sk-parallel-item::after {content: \"\";width: 100%;border-bottom: 1px solid gray;flex-grow: 1;}#sk-container-id-2 div.sk-label:hover label.sk-toggleable__label {background-color: #d4ebff;}#sk-container-id-2 div.sk-serial::before {content: \"\";position: absolute;border-left: 1px solid gray;box-sizing: border-box;top: 0;bottom: 0;left: 50%;z-index: 0;}#sk-container-id-2 div.sk-serial {display: flex;flex-direction: column;align-items: center;background-color: white;padding-right: 0.2em;padding-left: 0.2em;position: relative;}#sk-container-id-2 div.sk-item {position: relative;z-index: 1;}#sk-container-id-2 div.sk-parallel {display: flex;align-items: stretch;justify-content: center;background-color: white;position: relative;}#sk-container-id-2 div.sk-item::before, #sk-container-id-2 div.sk-parallel-item::before {content: \"\";position: absolute;border-left: 1px solid gray;box-sizing: border-box;top: 0;bottom: 0;left: 50%;z-index: -1;}#sk-container-id-2 div.sk-parallel-item {display: flex;flex-direction: column;z-index: 1;position: relative;background-color: white;}#sk-container-id-2 div.sk-parallel-item:first-child::after {align-self: flex-end;width: 50%;}#sk-container-id-2 div.sk-parallel-item:last-child::after {align-self: flex-start;width: 50%;}#sk-container-id-2 div.sk-parallel-item:only-child::after {width: 0;}#sk-container-id-2 div.sk-dashed-wrapped {border: 1px dashed gray;margin: 0 0.4em 0.5em 0.4em;box-sizing: border-box;padding-bottom: 0.4em;background-color: white;}#sk-container-id-2 div.sk-label label {font-family: monospace;font-weight: bold;display: inline-block;line-height: 1.2em;}#sk-container-id-2 div.sk-label-container {text-align: center;}#sk-container-id-2 div.sk-container {/* jupyter's `normalize.less` sets `[hidden] { display: none; }` but bootstrap.min.css set `[hidden] { display: none !important; }` so we also need the `!important` here to be able to override the default hidden behavior on the sphinx rendered scikit-learn.org. See: https://github.com/scikit-learn/scikit-learn/issues/21755 */display: inline-block !important;position: relative;}#sk-container-id-2 div.sk-text-repr-fallback {display: none;}</style><div id=\"sk-container-id-2\" class=\"sk-top-container\"><div class=\"sk-text-repr-fallback\"><pre>StackingClassifier(estimators=[(&#x27;logistic_regression&#x27;, LogisticRegression()),\n                               (&#x27;random_forest&#x27;, RandomForestClassifier()),\n                               (&#x27;xgboost&#x27;,\n                                XGBClassifier(base_score=None, booster=None,\n                                              callbacks=None,\n                                              colsample_bylevel=None,\n                                              colsample_bynode=None,\n                                              colsample_bytree=None,\n                                              early_stopping_rounds=None,\n                                              enable_categorical=False,\n                                              eval_metric=None,\n                                              feature_types=None, gamma=N...\n                                              interaction_constraints=None,\n                                              learning_rate=None, max_bin=None,\n                                              max_cat_threshold=None,\n                                              max_cat_to_onehot=None,\n                                              max_delta_step=None,\n                                              max_depth=None, max_leaves=None,\n                                              min_child_weight=None,\n                                              missing=nan,\n                                              monotone_constraints=None,\n                                              n_estimators=100, n_jobs=None,\n                                              num_parallel_tree=None,\n                                              predictor=None, random_state=None, ...))],\n                   final_estimator=DecisionTreeClassifier())</pre><b>In a Jupyter environment, please rerun this cell to show the HTML representation or trust the notebook. <br />On GitHub, the HTML representation is unable to render, please try loading this page with nbviewer.org.</b></div><div class=\"sk-container\" hidden><div class=\"sk-item sk-dashed-wrapped\"><div class=\"sk-label-container\"><div class=\"sk-label sk-toggleable\"><input class=\"sk-toggleable__control sk-hidden--visually\" id=\"sk-estimator-id-53\" type=\"checkbox\" ><label for=\"sk-estimator-id-53\" class=\"sk-toggleable__label sk-toggleable__label-arrow\">StackingClassifier</label><div class=\"sk-toggleable__content\"><pre>StackingClassifier(estimators=[(&#x27;logistic_regression&#x27;, LogisticRegression()),\n                               (&#x27;random_forest&#x27;, RandomForestClassifier()),\n                               (&#x27;xgboost&#x27;,\n                                XGBClassifier(base_score=None, booster=None,\n                                              callbacks=None,\n                                              colsample_bylevel=None,\n                                              colsample_bynode=None,\n                                              colsample_bytree=None,\n                                              early_stopping_rounds=None,\n                                              enable_categorical=False,\n                                              eval_metric=None,\n                                              feature_types=None, gamma=N...\n                                              interaction_constraints=None,\n                                              learning_rate=None, max_bin=None,\n                                              max_cat_threshold=None,\n                                              max_cat_to_onehot=None,\n                                              max_delta_step=None,\n                                              max_depth=None, max_leaves=None,\n                                              min_child_weight=None,\n                                              missing=nan,\n                                              monotone_constraints=None,\n                                              n_estimators=100, n_jobs=None,\n                                              num_parallel_tree=None,\n                                              predictor=None, random_state=None, ...))],\n                   final_estimator=DecisionTreeClassifier())</pre></div></div></div><div class=\"sk-serial\"><div class=\"sk-item\"><div class=\"sk-parallel\"><div class=\"sk-parallel-item\"><div class=\"sk-item\"><div class=\"sk-label-container\"><div class=\"sk-label sk-toggleable\"><label>logistic_regression</label></div></div><div class=\"sk-serial\"><div class=\"sk-item\"><div class=\"sk-estimator sk-toggleable\"><input class=\"sk-toggleable__control sk-hidden--visually\" id=\"sk-estimator-id-54\" type=\"checkbox\" ><label for=\"sk-estimator-id-54\" class=\"sk-toggleable__label sk-toggleable__label-arrow\">LogisticRegression</label><div class=\"sk-toggleable__content\"><pre>LogisticRegression()</pre></div></div></div></div></div></div><div class=\"sk-parallel-item\"><div class=\"sk-item\"><div class=\"sk-label-container\"><div class=\"sk-label sk-toggleable\"><label>random_forest</label></div></div><div class=\"sk-serial\"><div class=\"sk-item\"><div class=\"sk-estimator sk-toggleable\"><input class=\"sk-toggleable__control sk-hidden--visually\" id=\"sk-estimator-id-55\" type=\"checkbox\" ><label for=\"sk-estimator-id-55\" class=\"sk-toggleable__label sk-toggleable__label-arrow\">RandomForestClassifier</label><div class=\"sk-toggleable__content\"><pre>RandomForestClassifier()</pre></div></div></div></div></div></div><div class=\"sk-parallel-item\"><div class=\"sk-item\"><div class=\"sk-label-container\"><div class=\"sk-label sk-toggleable\"><label>xgboost</label></div></div><div class=\"sk-serial\"><div class=\"sk-item\"><div class=\"sk-estimator sk-toggleable\"><input class=\"sk-toggleable__control sk-hidden--visually\" id=\"sk-estimator-id-56\" type=\"checkbox\" ><label for=\"sk-estimator-id-56\" class=\"sk-toggleable__label sk-toggleable__label-arrow\">XGBClassifier</label><div class=\"sk-toggleable__content\"><pre>XGBClassifier(base_score=None, booster=None, callbacks=None,\n              colsample_bylevel=None, colsample_bynode=None,\n              colsample_bytree=None, early_stopping_rounds=None,\n              enable_categorical=False, eval_metric=None, feature_types=None,\n              gamma=None, gpu_id=None, grow_policy=None, importance_type=None,\n              interaction_constraints=None, learning_rate=None, max_bin=None,\n              max_cat_threshold=None, max_cat_to_onehot=None,\n              max_delta_step=None, max_depth=None, max_leaves=None,\n              min_child_weight=None, missing=nan, monotone_constraints=None,\n              n_estimators=100, n_jobs=None, num_parallel_tree=None,\n              predictor=None, random_state=None, ...)</pre></div></div></div></div></div></div></div></div><div class=\"sk-item\"><div class=\"sk-parallel\"><div class=\"sk-parallel-item\"><div class=\"sk-item\"><div class=\"sk-label-container\"><div class=\"sk-label sk-toggleable\"><label>final_estimator</label></div></div><div class=\"sk-serial\"><div class=\"sk-item\"><div class=\"sk-estimator sk-toggleable\"><input class=\"sk-toggleable__control sk-hidden--visually\" id=\"sk-estimator-id-57\" type=\"checkbox\" ><label for=\"sk-estimator-id-57\" class=\"sk-toggleable__label sk-toggleable__label-arrow\">DecisionTreeClassifier</label><div class=\"sk-toggleable__content\"><pre>DecisionTreeClassifier()</pre></div></div></div></div></div></div></div></div></div></div></div></div>"
     },
     "execution_count": 19,
     "metadata": {},
     "output_type": "execute_result"
    }
   ],
   "source": [
    "stacking_model"
   ]
  },
  {
   "cell_type": "markdown",
   "metadata": {
    "pycharm": {
     "name": "#%% md\n"
    }
   },
   "source": [
    "#### Training"
   ]
  },
  {
   "cell_type": "code",
   "execution_count": 22,
   "metadata": {
    "pycharm": {
     "name": "#%%\n"
    }
   },
   "outputs": [],
   "source": [
    "data = pd.read_csv('data5.csv', index_col=0)"
   ]
  },
  {
   "cell_type": "code",
   "execution_count": 23,
   "outputs": [
    {
     "data": {
      "text/plain": "                               Unnamed: 0  label  \\\nUnnamed: 0.1                                       \n0             1179055004553900032_twitter      0   \n1             1179063826874032128_twitter      0   \n2             1178793830532956161_twitter      0   \n3             1179088797964763136_twitter      1   \n4             1179085312976445440_twitter      1   \n\n                                                         tokens  \\\nUnnamed: 0.1                                                      \n0             ['i', 'dont', 'think', 'im', 'getting', 'my', ...   \n1             ['we', 'cannot', 'continue', 'calling', 'ourse...   \n2                 ['nawt', 'yall', 'niggers', 'ignoring', 'me']   \n3             ['<user>', 'i', 'am', 'bit', 'confused', 'coz'...   \n4             ['this', 'bitch', 'in', 'whataburger', 'eating...   \n\n                                                           text  \nUnnamed: 0.1                                                     \n0             i dont think im getting my baby them white 9 h...  \n1             we cannot continue calling ourselves feminists...  \n2                                 nawt yall niggers ignoring me  \n3             <user> i am bit confused coz chinese ppl can n...  \n4             this bitch in whataburger eating a burger with...  ",
      "text/html": "<div>\n<style scoped>\n    .dataframe tbody tr th:only-of-type {\n        vertical-align: middle;\n    }\n\n    .dataframe tbody tr th {\n        vertical-align: top;\n    }\n\n    .dataframe thead th {\n        text-align: right;\n    }\n</style>\n<table border=\"1\" class=\"dataframe\">\n  <thead>\n    <tr style=\"text-align: right;\">\n      <th></th>\n      <th>Unnamed: 0</th>\n      <th>label</th>\n      <th>tokens</th>\n      <th>text</th>\n    </tr>\n    <tr>\n      <th>Unnamed: 0.1</th>\n      <th></th>\n      <th></th>\n      <th></th>\n      <th></th>\n    </tr>\n  </thead>\n  <tbody>\n    <tr>\n      <th>0</th>\n      <td>1179055004553900032_twitter</td>\n      <td>0</td>\n      <td>['i', 'dont', 'think', 'im', 'getting', 'my', ...</td>\n      <td>i dont think im getting my baby them white 9 h...</td>\n    </tr>\n    <tr>\n      <th>1</th>\n      <td>1179063826874032128_twitter</td>\n      <td>0</td>\n      <td>['we', 'cannot', 'continue', 'calling', 'ourse...</td>\n      <td>we cannot continue calling ourselves feminists...</td>\n    </tr>\n    <tr>\n      <th>2</th>\n      <td>1178793830532956161_twitter</td>\n      <td>0</td>\n      <td>['nawt', 'yall', 'niggers', 'ignoring', 'me']</td>\n      <td>nawt yall niggers ignoring me</td>\n    </tr>\n    <tr>\n      <th>3</th>\n      <td>1179088797964763136_twitter</td>\n      <td>1</td>\n      <td>['&lt;user&gt;', 'i', 'am', 'bit', 'confused', 'coz'...</td>\n      <td>&lt;user&gt; i am bit confused coz chinese ppl can n...</td>\n    </tr>\n    <tr>\n      <th>4</th>\n      <td>1179085312976445440_twitter</td>\n      <td>1</td>\n      <td>['this', 'bitch', 'in', 'whataburger', 'eating...</td>\n      <td>this bitch in whataburger eating a burger with...</td>\n    </tr>\n  </tbody>\n</table>\n</div>"
     },
     "execution_count": 23,
     "metadata": {},
     "output_type": "execute_result"
    }
   ],
   "source": [
    "data.head()"
   ],
   "metadata": {
    "collapsed": false,
    "pycharm": {
     "name": "#%%\n"
    }
   }
  },
  {
   "cell_type": "code",
   "execution_count": 26,
   "metadata": {
    "pycharm": {
     "name": "#%%\n"
    }
   },
   "outputs": [],
   "source": [
    "target = 'label'"
   ]
  },
  {
   "cell_type": "code",
   "execution_count": 27,
   "metadata": {
    "pycharm": {
     "name": "#%%\n"
    }
   },
   "outputs": [],
   "source": [
    "# data.columns = ['tweet', 'label', 'label_text']\n",
    "data.columns = ['id', 'label', 'tokens', 'tweet']"
   ]
  },
  {
   "cell_type": "code",
   "execution_count": 32,
   "metadata": {
    "pycharm": {
     "name": "#%%\n"
    }
   },
   "outputs": [],
   "source": [
    "data_train, data_test, y_train, y_test = train_test_split(data[['tweet']], data[target], test_size=0.2, random_state=42, stratify=data[target])"
   ]
  },
  {
   "cell_type": "code",
   "execution_count": 35,
   "outputs": [
    {
     "data": {
      "text/plain": "(16118, 1)"
     },
     "execution_count": 35,
     "metadata": {},
     "output_type": "execute_result"
    }
   ],
   "source": [
    "data_train.shape"
   ],
   "metadata": {
    "collapsed": false,
    "pycharm": {
     "name": "#%%\n"
    }
   }
  },
  {
   "cell_type": "code",
   "execution_count": 36,
   "outputs": [],
   "source": [
    "import time"
   ],
   "metadata": {
    "collapsed": false,
    "pycharm": {
     "name": "#%%\n"
    }
   }
  },
  {
   "cell_type": "code",
   "execution_count": 38,
   "metadata": {
    "pycharm": {
     "name": "#%%\n"
    }
   },
   "outputs": [
    {
     "name": "stdout",
     "output_type": "stream",
     "text": [
      "Computation time: 1201.6027507781982\n"
     ]
    }
   ],
   "source": [
    "# Fit-transform the training data\n",
    "start = time.time()\n",
    "X_train = l1.transform(data_train)  #.toarray()\n",
    "end = time.time()\n",
    "print(f\"Computation time: {end - start}\")"
   ]
  },
  {
   "cell_type": "code",
   "execution_count": 39,
   "metadata": {
    "pycharm": {
     "name": "#%%\n"
    }
   },
   "outputs": [],
   "source": [
    "pd.DataFrame(X_train).to_csv('data5_processed_train.csv')"
   ]
  },
  {
   "cell_type": "code",
   "execution_count": 82,
   "outputs": [],
   "source": [
    "pd.DataFrame(y_train).to_csv('y5_processed_train.csv')"
   ],
   "metadata": {
    "collapsed": false,
    "pycharm": {
     "name": "#%%\n"
    }
   }
  },
  {
   "cell_type": "code",
   "execution_count": 40,
   "metadata": {
    "pycharm": {
     "name": "#%%\n"
    }
   },
   "outputs": [],
   "source": [
    "# Transform the test data\n",
    "X_test = l1.transform(data_test)"
   ]
  },
  {
   "cell_type": "code",
   "execution_count": 41,
   "metadata": {
    "pycharm": {
     "name": "#%%\n"
    }
   },
   "outputs": [],
   "source": [
    "pd.DataFrame(X_test).to_csv('data5_processed_test.csv')"
   ]
  },
  {
   "cell_type": "code",
   "execution_count": 84,
   "outputs": [],
   "source": [
    "pd.DataFrame(y_test).to_csv('y5_processed_test.csv')"
   ],
   "metadata": {
    "collapsed": false,
    "pycharm": {
     "name": "#%%\n"
    }
   }
  },
  {
   "cell_type": "code",
   "execution_count": 42,
   "metadata": {
    "pycharm": {
     "name": "#%%\n"
    }
   },
   "outputs": [
    {
     "data": {
      "text/plain": "((16118, 19), (4030, 19))"
     },
     "execution_count": 42,
     "metadata": {},
     "output_type": "execute_result"
    }
   ],
   "source": [
    "X_train.shape, X_test.shape"
   ]
  },
  {
   "cell_type": "code",
   "execution_count": 43,
   "metadata": {
    "pycharm": {
     "name": "#%%\n"
    }
   },
   "outputs": [
    {
     "data": {
      "text/plain": "0    6522\n1    4987\n2    4609\nName: label, dtype: int64"
     },
     "execution_count": 43,
     "metadata": {},
     "output_type": "execute_result"
    }
   ],
   "source": [
    "y_train.value_counts()"
   ]
  },
  {
   "cell_type": "code",
   "execution_count": 44,
   "metadata": {
    "pycharm": {
     "name": "#%%\n"
    }
   },
   "outputs": [
    {
     "data": {
      "text/plain": "0    1631\n1    1247\n2    1152\nName: label, dtype: int64"
     },
     "execution_count": 44,
     "metadata": {},
     "output_type": "execute_result"
    }
   ],
   "source": [
    "y_test.value_counts()"
   ]
  },
  {
   "cell_type": "code",
   "execution_count": 45,
   "metadata": {
    "pycharm": {
     "name": "#%%\n"
    }
   },
   "outputs": [
    {
     "name": "stderr",
     "output_type": "stream",
     "text": [
      "C:\\Users\\dzmit\\anaconda3\\envs\\eurostars\\lib\\site-packages\\sklearn\\linear_model\\_logistic.py:444: ConvergenceWarning: lbfgs failed to converge (status=1):\n",
      "STOP: TOTAL NO. of ITERATIONS REACHED LIMIT.\n",
      "\n",
      "Increase the number of iterations (max_iter) or scale the data as shown in:\n",
      "    https://scikit-learn.org/stable/modules/preprocessing.html\n",
      "Please also refer to the documentation for alternative solver options:\n",
      "    https://scikit-learn.org/stable/modules/linear_model.html#logistic-regression\n",
      "  n_iter_i = _check_optimize_result(\n",
      "C:\\Users\\dzmit\\anaconda3\\envs\\eurostars\\lib\\site-packages\\sklearn\\linear_model\\_logistic.py:444: ConvergenceWarning: lbfgs failed to converge (status=1):\n",
      "STOP: TOTAL NO. of ITERATIONS REACHED LIMIT.\n",
      "\n",
      "Increase the number of iterations (max_iter) or scale the data as shown in:\n",
      "    https://scikit-learn.org/stable/modules/preprocessing.html\n",
      "Please also refer to the documentation for alternative solver options:\n",
      "    https://scikit-learn.org/stable/modules/linear_model.html#logistic-regression\n",
      "  n_iter_i = _check_optimize_result(\n",
      "C:\\Users\\dzmit\\anaconda3\\envs\\eurostars\\lib\\site-packages\\sklearn\\linear_model\\_logistic.py:444: ConvergenceWarning: lbfgs failed to converge (status=1):\n",
      "STOP: TOTAL NO. of ITERATIONS REACHED LIMIT.\n",
      "\n",
      "Increase the number of iterations (max_iter) or scale the data as shown in:\n",
      "    https://scikit-learn.org/stable/modules/preprocessing.html\n",
      "Please also refer to the documentation for alternative solver options:\n",
      "    https://scikit-learn.org/stable/modules/linear_model.html#logistic-regression\n",
      "  n_iter_i = _check_optimize_result(\n",
      "C:\\Users\\dzmit\\anaconda3\\envs\\eurostars\\lib\\site-packages\\sklearn\\linear_model\\_logistic.py:444: ConvergenceWarning: lbfgs failed to converge (status=1):\n",
      "STOP: TOTAL NO. of ITERATIONS REACHED LIMIT.\n",
      "\n",
      "Increase the number of iterations (max_iter) or scale the data as shown in:\n",
      "    https://scikit-learn.org/stable/modules/preprocessing.html\n",
      "Please also refer to the documentation for alternative solver options:\n",
      "    https://scikit-learn.org/stable/modules/linear_model.html#logistic-regression\n",
      "  n_iter_i = _check_optimize_result(\n",
      "C:\\Users\\dzmit\\anaconda3\\envs\\eurostars\\lib\\site-packages\\sklearn\\linear_model\\_logistic.py:444: ConvergenceWarning: lbfgs failed to converge (status=1):\n",
      "STOP: TOTAL NO. of ITERATIONS REACHED LIMIT.\n",
      "\n",
      "Increase the number of iterations (max_iter) or scale the data as shown in:\n",
      "    https://scikit-learn.org/stable/modules/preprocessing.html\n",
      "Please also refer to the documentation for alternative solver options:\n",
      "    https://scikit-learn.org/stable/modules/linear_model.html#logistic-regression\n",
      "  n_iter_i = _check_optimize_result(\n",
      "C:\\Users\\dzmit\\anaconda3\\envs\\eurostars\\lib\\site-packages\\sklearn\\linear_model\\_logistic.py:444: ConvergenceWarning: lbfgs failed to converge (status=1):\n",
      "STOP: TOTAL NO. of ITERATIONS REACHED LIMIT.\n",
      "\n",
      "Increase the number of iterations (max_iter) or scale the data as shown in:\n",
      "    https://scikit-learn.org/stable/modules/preprocessing.html\n",
      "Please also refer to the documentation for alternative solver options:\n",
      "    https://scikit-learn.org/stable/modules/linear_model.html#logistic-regression\n",
      "  n_iter_i = _check_optimize_result(\n"
     ]
    },
    {
     "data": {
      "text/plain": "StackingClassifier(estimators=[('logistic_regression', LogisticRegression()),\n                               ('random_forest', RandomForestClassifier()),\n                               ('xgboost',\n                                XGBClassifier(base_score=None, booster=None,\n                                              callbacks=None,\n                                              colsample_bylevel=None,\n                                              colsample_bynode=None,\n                                              colsample_bytree=None,\n                                              early_stopping_rounds=None,\n                                              enable_categorical=False,\n                                              eval_metric=None,\n                                              feature_types=None, gamma=N...\n                                              interaction_constraints=None,\n                                              learning_rate=None, max_bin=None,\n                                              max_cat_threshold=None,\n                                              max_cat_to_onehot=None,\n                                              max_delta_step=None,\n                                              max_depth=None, max_leaves=None,\n                                              min_child_weight=None,\n                                              missing=nan,\n                                              monotone_constraints=None,\n                                              n_estimators=100, n_jobs=None,\n                                              num_parallel_tree=None,\n                                              predictor=None, random_state=None, ...))],\n                   final_estimator=DecisionTreeClassifier())",
      "text/html": "<style>#sk-container-id-3 {color: black;background-color: white;}#sk-container-id-3 pre{padding: 0;}#sk-container-id-3 div.sk-toggleable {background-color: white;}#sk-container-id-3 label.sk-toggleable__label {cursor: pointer;display: block;width: 100%;margin-bottom: 0;padding: 0.3em;box-sizing: border-box;text-align: center;}#sk-container-id-3 label.sk-toggleable__label-arrow:before {content: \"▸\";float: left;margin-right: 0.25em;color: #696969;}#sk-container-id-3 label.sk-toggleable__label-arrow:hover:before {color: black;}#sk-container-id-3 div.sk-estimator:hover label.sk-toggleable__label-arrow:before {color: black;}#sk-container-id-3 div.sk-toggleable__content {max-height: 0;max-width: 0;overflow: hidden;text-align: left;background-color: #f0f8ff;}#sk-container-id-3 div.sk-toggleable__content pre {margin: 0.2em;color: black;border-radius: 0.25em;background-color: #f0f8ff;}#sk-container-id-3 input.sk-toggleable__control:checked~div.sk-toggleable__content {max-height: 200px;max-width: 100%;overflow: auto;}#sk-container-id-3 input.sk-toggleable__control:checked~label.sk-toggleable__label-arrow:before {content: \"▾\";}#sk-container-id-3 div.sk-estimator input.sk-toggleable__control:checked~label.sk-toggleable__label {background-color: #d4ebff;}#sk-container-id-3 div.sk-label input.sk-toggleable__control:checked~label.sk-toggleable__label {background-color: #d4ebff;}#sk-container-id-3 input.sk-hidden--visually {border: 0;clip: rect(1px 1px 1px 1px);clip: rect(1px, 1px, 1px, 1px);height: 1px;margin: -1px;overflow: hidden;padding: 0;position: absolute;width: 1px;}#sk-container-id-3 div.sk-estimator {font-family: monospace;background-color: #f0f8ff;border: 1px dotted black;border-radius: 0.25em;box-sizing: border-box;margin-bottom: 0.5em;}#sk-container-id-3 div.sk-estimator:hover {background-color: #d4ebff;}#sk-container-id-3 div.sk-parallel-item::after {content: \"\";width: 100%;border-bottom: 1px solid gray;flex-grow: 1;}#sk-container-id-3 div.sk-label:hover label.sk-toggleable__label {background-color: #d4ebff;}#sk-container-id-3 div.sk-serial::before {content: \"\";position: absolute;border-left: 1px solid gray;box-sizing: border-box;top: 0;bottom: 0;left: 50%;z-index: 0;}#sk-container-id-3 div.sk-serial {display: flex;flex-direction: column;align-items: center;background-color: white;padding-right: 0.2em;padding-left: 0.2em;position: relative;}#sk-container-id-3 div.sk-item {position: relative;z-index: 1;}#sk-container-id-3 div.sk-parallel {display: flex;align-items: stretch;justify-content: center;background-color: white;position: relative;}#sk-container-id-3 div.sk-item::before, #sk-container-id-3 div.sk-parallel-item::before {content: \"\";position: absolute;border-left: 1px solid gray;box-sizing: border-box;top: 0;bottom: 0;left: 50%;z-index: -1;}#sk-container-id-3 div.sk-parallel-item {display: flex;flex-direction: column;z-index: 1;position: relative;background-color: white;}#sk-container-id-3 div.sk-parallel-item:first-child::after {align-self: flex-end;width: 50%;}#sk-container-id-3 div.sk-parallel-item:last-child::after {align-self: flex-start;width: 50%;}#sk-container-id-3 div.sk-parallel-item:only-child::after {width: 0;}#sk-container-id-3 div.sk-dashed-wrapped {border: 1px dashed gray;margin: 0 0.4em 0.5em 0.4em;box-sizing: border-box;padding-bottom: 0.4em;background-color: white;}#sk-container-id-3 div.sk-label label {font-family: monospace;font-weight: bold;display: inline-block;line-height: 1.2em;}#sk-container-id-3 div.sk-label-container {text-align: center;}#sk-container-id-3 div.sk-container {/* jupyter's `normalize.less` sets `[hidden] { display: none; }` but bootstrap.min.css set `[hidden] { display: none !important; }` so we also need the `!important` here to be able to override the default hidden behavior on the sphinx rendered scikit-learn.org. See: https://github.com/scikit-learn/scikit-learn/issues/21755 */display: inline-block !important;position: relative;}#sk-container-id-3 div.sk-text-repr-fallback {display: none;}</style><div id=\"sk-container-id-3\" class=\"sk-top-container\"><div class=\"sk-text-repr-fallback\"><pre>StackingClassifier(estimators=[(&#x27;logistic_regression&#x27;, LogisticRegression()),\n                               (&#x27;random_forest&#x27;, RandomForestClassifier()),\n                               (&#x27;xgboost&#x27;,\n                                XGBClassifier(base_score=None, booster=None,\n                                              callbacks=None,\n                                              colsample_bylevel=None,\n                                              colsample_bynode=None,\n                                              colsample_bytree=None,\n                                              early_stopping_rounds=None,\n                                              enable_categorical=False,\n                                              eval_metric=None,\n                                              feature_types=None, gamma=N...\n                                              interaction_constraints=None,\n                                              learning_rate=None, max_bin=None,\n                                              max_cat_threshold=None,\n                                              max_cat_to_onehot=None,\n                                              max_delta_step=None,\n                                              max_depth=None, max_leaves=None,\n                                              min_child_weight=None,\n                                              missing=nan,\n                                              monotone_constraints=None,\n                                              n_estimators=100, n_jobs=None,\n                                              num_parallel_tree=None,\n                                              predictor=None, random_state=None, ...))],\n                   final_estimator=DecisionTreeClassifier())</pre><b>In a Jupyter environment, please rerun this cell to show the HTML representation or trust the notebook. <br />On GitHub, the HTML representation is unable to render, please try loading this page with nbviewer.org.</b></div><div class=\"sk-container\" hidden><div class=\"sk-item sk-dashed-wrapped\"><div class=\"sk-label-container\"><div class=\"sk-label sk-toggleable\"><input class=\"sk-toggleable__control sk-hidden--visually\" id=\"sk-estimator-id-58\" type=\"checkbox\" ><label for=\"sk-estimator-id-58\" class=\"sk-toggleable__label sk-toggleable__label-arrow\">StackingClassifier</label><div class=\"sk-toggleable__content\"><pre>StackingClassifier(estimators=[(&#x27;logistic_regression&#x27;, LogisticRegression()),\n                               (&#x27;random_forest&#x27;, RandomForestClassifier()),\n                               (&#x27;xgboost&#x27;,\n                                XGBClassifier(base_score=None, booster=None,\n                                              callbacks=None,\n                                              colsample_bylevel=None,\n                                              colsample_bynode=None,\n                                              colsample_bytree=None,\n                                              early_stopping_rounds=None,\n                                              enable_categorical=False,\n                                              eval_metric=None,\n                                              feature_types=None, gamma=N...\n                                              interaction_constraints=None,\n                                              learning_rate=None, max_bin=None,\n                                              max_cat_threshold=None,\n                                              max_cat_to_onehot=None,\n                                              max_delta_step=None,\n                                              max_depth=None, max_leaves=None,\n                                              min_child_weight=None,\n                                              missing=nan,\n                                              monotone_constraints=None,\n                                              n_estimators=100, n_jobs=None,\n                                              num_parallel_tree=None,\n                                              predictor=None, random_state=None, ...))],\n                   final_estimator=DecisionTreeClassifier())</pre></div></div></div><div class=\"sk-serial\"><div class=\"sk-item\"><div class=\"sk-parallel\"><div class=\"sk-parallel-item\"><div class=\"sk-item\"><div class=\"sk-label-container\"><div class=\"sk-label sk-toggleable\"><label>logistic_regression</label></div></div><div class=\"sk-serial\"><div class=\"sk-item\"><div class=\"sk-estimator sk-toggleable\"><input class=\"sk-toggleable__control sk-hidden--visually\" id=\"sk-estimator-id-59\" type=\"checkbox\" ><label for=\"sk-estimator-id-59\" class=\"sk-toggleable__label sk-toggleable__label-arrow\">LogisticRegression</label><div class=\"sk-toggleable__content\"><pre>LogisticRegression()</pre></div></div></div></div></div></div><div class=\"sk-parallel-item\"><div class=\"sk-item\"><div class=\"sk-label-container\"><div class=\"sk-label sk-toggleable\"><label>random_forest</label></div></div><div class=\"sk-serial\"><div class=\"sk-item\"><div class=\"sk-estimator sk-toggleable\"><input class=\"sk-toggleable__control sk-hidden--visually\" id=\"sk-estimator-id-60\" type=\"checkbox\" ><label for=\"sk-estimator-id-60\" class=\"sk-toggleable__label sk-toggleable__label-arrow\">RandomForestClassifier</label><div class=\"sk-toggleable__content\"><pre>RandomForestClassifier()</pre></div></div></div></div></div></div><div class=\"sk-parallel-item\"><div class=\"sk-item\"><div class=\"sk-label-container\"><div class=\"sk-label sk-toggleable\"><label>xgboost</label></div></div><div class=\"sk-serial\"><div class=\"sk-item\"><div class=\"sk-estimator sk-toggleable\"><input class=\"sk-toggleable__control sk-hidden--visually\" id=\"sk-estimator-id-61\" type=\"checkbox\" ><label for=\"sk-estimator-id-61\" class=\"sk-toggleable__label sk-toggleable__label-arrow\">XGBClassifier</label><div class=\"sk-toggleable__content\"><pre>XGBClassifier(base_score=None, booster=None, callbacks=None,\n              colsample_bylevel=None, colsample_bynode=None,\n              colsample_bytree=None, early_stopping_rounds=None,\n              enable_categorical=False, eval_metric=None, feature_types=None,\n              gamma=None, gpu_id=None, grow_policy=None, importance_type=None,\n              interaction_constraints=None, learning_rate=None, max_bin=None,\n              max_cat_threshold=None, max_cat_to_onehot=None,\n              max_delta_step=None, max_depth=None, max_leaves=None,\n              min_child_weight=None, missing=nan, monotone_constraints=None,\n              n_estimators=100, n_jobs=None, num_parallel_tree=None,\n              predictor=None, random_state=None, ...)</pre></div></div></div></div></div></div></div></div><div class=\"sk-item\"><div class=\"sk-parallel\"><div class=\"sk-parallel-item\"><div class=\"sk-item\"><div class=\"sk-label-container\"><div class=\"sk-label sk-toggleable\"><label>final_estimator</label></div></div><div class=\"sk-serial\"><div class=\"sk-item\"><div class=\"sk-estimator sk-toggleable\"><input class=\"sk-toggleable__control sk-hidden--visually\" id=\"sk-estimator-id-62\" type=\"checkbox\" ><label for=\"sk-estimator-id-62\" class=\"sk-toggleable__label sk-toggleable__label-arrow\">DecisionTreeClassifier</label><div class=\"sk-toggleable__content\"><pre>DecisionTreeClassifier()</pre></div></div></div></div></div></div></div></div></div></div></div></div>"
     },
     "execution_count": 45,
     "metadata": {},
     "output_type": "execute_result"
    }
   ],
   "source": [
    "stacking_model.fit(X_train,y_train)"
   ]
  },
  {
   "cell_type": "code",
   "execution_count": 46,
   "metadata": {
    "pycharm": {
     "name": "#%%\n"
    }
   },
   "outputs": [
    {
     "name": "stdout",
     "output_type": "stream",
     "text": [
      "              precision    recall  f1-score   support\n",
      "\n",
      "           0       0.48      0.50      0.49      1540\n",
      "           1       0.49      0.48      0.48      1283\n",
      "           2       0.37      0.36      0.36      1207\n",
      "\n",
      "    accuracy                           0.45      4030\n",
      "   macro avg       0.45      0.45      0.45      4030\n",
      "weighted avg       0.45      0.45      0.45      4030\n",
      "\n",
      "[[776 348 416]\n",
      " [365 611 307]\n",
      " [490 288 429]]\n"
     ]
    }
   ],
   "source": [
    "prediction = stacking_model.predict(X_test)\n",
    "import warnings\n",
    "from sklearn.metrics import classification_report, confusion_matrix\n",
    "\n",
    "with warnings.catch_warnings():\n",
    "    warnings.simplefilter(\"ignore\")\n",
    "    print(classification_report(prediction, y_test))\n",
    "    print(confusion_matrix(prediction, y_test))"
   ]
  },
  {
   "cell_type": "code",
   "execution_count": 47,
   "metadata": {
    "pycharm": {
     "name": "#%%\n"
    }
   },
   "outputs": [
    {
     "name": "stdout",
     "output_type": "stream",
     "text": [
      "              precision    recall  f1-score   support\n",
      "\n",
      "           0       0.60      0.57      0.59      6840\n",
      "           1       0.61      0.64      0.62      4786\n",
      "           2       0.50      0.51      0.50      4492\n",
      "\n",
      "    accuracy                           0.58     16118\n",
      "   macro avg       0.57      0.57      0.57     16118\n",
      "weighted avg       0.58      0.58      0.58     16118\n",
      "\n",
      "[[3930 1291 1619]\n",
      " [1045 3045  696]\n",
      " [1547  651 2294]]\n"
     ]
    }
   ],
   "source": [
    "train_prediction = stacking_model.predict(X_train)\n",
    "with warnings.catch_warnings():\n",
    "    warnings.simplefilter(\"ignore\")\n",
    "    print(classification_report(train_prediction, y_train))\n",
    "    print(confusion_matrix(train_prediction, y_train))"
   ]
  },
  {
   "cell_type": "code",
   "execution_count": 48,
   "metadata": {
    "pycharm": {
     "name": "#%%\n"
    }
   },
   "outputs": [
    {
     "data": {
      "text/plain": "    target                                 feature    weight\n0        0               d3_ctb_CatBoostClassifier  0.824944\n1        0          d2_lr_clf_LogisticRegression_0  0.503284\n2        0          d2_lr_clf_LogisticRegression_1  0.484385\n3        0                                  <BIAS>  0.467463\n4        0         d2_ctb_clf_CatBoostClassifier_1  0.243733\n5        0         feat_gen_sentiment_score_of_row  0.163357\n6        0         d2_ctb_clf_CatBoostClassifier_2  0.150421\n7        0           d1_rfc_RandomForestClassifier  0.105718\n8        0         d2_ctb_clf_CatBoostClassifier_0  0.070542\n9        0         feat_gen_number_of_words_in_row -0.001142\n10       0       feat_gen_number_of_question_marks -0.003890\n11       0                        feat_gen_rt_flag -0.032238\n12       0           feat_gen_number_of_full_stops -0.032238\n13       0               d2_lgbm_reg_LGBMRegressor -0.329059\n14       0                d1_lr_LogisticRegression -0.333383\n15       0  feat_gen_contains_profanity_words_flag -0.407833\n16       0          d2_lr_clf_LogisticRegression_2 -0.522972\n17       0            d2_ctb_reg_CatBoostRegressor -0.594703\n18       1  feat_gen_contains_profanity_words_flag  0.651438\n19       1            d2_ctb_reg_CatBoostRegressor  0.607373\n20       1                d1_lr_LogisticRegression  0.570836\n21       1          d2_lr_clf_LogisticRegression_2  0.375206\n22       1         d2_ctb_clf_CatBoostClassifier_0  0.192082\n23       1         feat_gen_number_of_words_in_row  0.004091\n24       1           feat_gen_number_of_full_stops -0.004130\n25       1                        feat_gen_rt_flag -0.004130\n26       1       feat_gen_number_of_question_marks -0.004135\n27       1               d2_lgbm_reg_LGBMRegressor -0.038712\n28       1         d2_ctb_clf_CatBoostClassifier_2 -0.083862\n29       1         feat_gen_sentiment_score_of_row -0.132785\n30       1          d2_lr_clf_LogisticRegression_0 -0.237400\n31       1                                  <BIAS> -0.241457\n32       1           d1_rfc_RandomForestClassifier -0.315558\n33       1         d2_ctb_clf_CatBoostClassifier_1 -0.348102\n34       1          d2_lr_clf_LogisticRegression_1 -0.377689\n35       1               d3_ctb_CatBoostClassifier -0.805084\n36       2               d2_lgbm_reg_LGBMRegressor  0.367771\n37       2           d1_rfc_RandomForestClassifier  0.209840\n38       2          d2_lr_clf_LogisticRegression_2  0.147766\n39       2         d2_ctb_clf_CatBoostClassifier_1  0.104369\n40       2           feat_gen_number_of_full_stops  0.036368\n41       2                        feat_gen_rt_flag  0.036368\n42       2       feat_gen_number_of_question_marks  0.008025\n43       2         feat_gen_number_of_words_in_row -0.002950\n44       2            d2_ctb_reg_CatBoostRegressor -0.012669\n45       2               d3_ctb_CatBoostClassifier -0.019860\n46       2         feat_gen_sentiment_score_of_row -0.030573\n47       2         d2_ctb_clf_CatBoostClassifier_2 -0.066559\n48       2          d2_lr_clf_LogisticRegression_1 -0.106696\n49       2                                  <BIAS> -0.226006\n50       2                d1_lr_LogisticRegression -0.237454\n51       2  feat_gen_contains_profanity_words_flag -0.243605\n52       2         d2_ctb_clf_CatBoostClassifier_0 -0.262624\n53       2          d2_lr_clf_LogisticRegression_0 -0.265884",
      "text/html": "<div>\n<style scoped>\n    .dataframe tbody tr th:only-of-type {\n        vertical-align: middle;\n    }\n\n    .dataframe tbody tr th {\n        vertical-align: top;\n    }\n\n    .dataframe thead th {\n        text-align: right;\n    }\n</style>\n<table border=\"1\" class=\"dataframe\">\n  <thead>\n    <tr style=\"text-align: right;\">\n      <th></th>\n      <th>target</th>\n      <th>feature</th>\n      <th>weight</th>\n    </tr>\n  </thead>\n  <tbody>\n    <tr>\n      <th>0</th>\n      <td>0</td>\n      <td>d3_ctb_CatBoostClassifier</td>\n      <td>0.824944</td>\n    </tr>\n    <tr>\n      <th>1</th>\n      <td>0</td>\n      <td>d2_lr_clf_LogisticRegression_0</td>\n      <td>0.503284</td>\n    </tr>\n    <tr>\n      <th>2</th>\n      <td>0</td>\n      <td>d2_lr_clf_LogisticRegression_1</td>\n      <td>0.484385</td>\n    </tr>\n    <tr>\n      <th>3</th>\n      <td>0</td>\n      <td>&lt;BIAS&gt;</td>\n      <td>0.467463</td>\n    </tr>\n    <tr>\n      <th>4</th>\n      <td>0</td>\n      <td>d2_ctb_clf_CatBoostClassifier_1</td>\n      <td>0.243733</td>\n    </tr>\n    <tr>\n      <th>5</th>\n      <td>0</td>\n      <td>feat_gen_sentiment_score_of_row</td>\n      <td>0.163357</td>\n    </tr>\n    <tr>\n      <th>6</th>\n      <td>0</td>\n      <td>d2_ctb_clf_CatBoostClassifier_2</td>\n      <td>0.150421</td>\n    </tr>\n    <tr>\n      <th>7</th>\n      <td>0</td>\n      <td>d1_rfc_RandomForestClassifier</td>\n      <td>0.105718</td>\n    </tr>\n    <tr>\n      <th>8</th>\n      <td>0</td>\n      <td>d2_ctb_clf_CatBoostClassifier_0</td>\n      <td>0.070542</td>\n    </tr>\n    <tr>\n      <th>9</th>\n      <td>0</td>\n      <td>feat_gen_number_of_words_in_row</td>\n      <td>-0.001142</td>\n    </tr>\n    <tr>\n      <th>10</th>\n      <td>0</td>\n      <td>feat_gen_number_of_question_marks</td>\n      <td>-0.003890</td>\n    </tr>\n    <tr>\n      <th>11</th>\n      <td>0</td>\n      <td>feat_gen_rt_flag</td>\n      <td>-0.032238</td>\n    </tr>\n    <tr>\n      <th>12</th>\n      <td>0</td>\n      <td>feat_gen_number_of_full_stops</td>\n      <td>-0.032238</td>\n    </tr>\n    <tr>\n      <th>13</th>\n      <td>0</td>\n      <td>d2_lgbm_reg_LGBMRegressor</td>\n      <td>-0.329059</td>\n    </tr>\n    <tr>\n      <th>14</th>\n      <td>0</td>\n      <td>d1_lr_LogisticRegression</td>\n      <td>-0.333383</td>\n    </tr>\n    <tr>\n      <th>15</th>\n      <td>0</td>\n      <td>feat_gen_contains_profanity_words_flag</td>\n      <td>-0.407833</td>\n    </tr>\n    <tr>\n      <th>16</th>\n      <td>0</td>\n      <td>d2_lr_clf_LogisticRegression_2</td>\n      <td>-0.522972</td>\n    </tr>\n    <tr>\n      <th>17</th>\n      <td>0</td>\n      <td>d2_ctb_reg_CatBoostRegressor</td>\n      <td>-0.594703</td>\n    </tr>\n    <tr>\n      <th>18</th>\n      <td>1</td>\n      <td>feat_gen_contains_profanity_words_flag</td>\n      <td>0.651438</td>\n    </tr>\n    <tr>\n      <th>19</th>\n      <td>1</td>\n      <td>d2_ctb_reg_CatBoostRegressor</td>\n      <td>0.607373</td>\n    </tr>\n    <tr>\n      <th>20</th>\n      <td>1</td>\n      <td>d1_lr_LogisticRegression</td>\n      <td>0.570836</td>\n    </tr>\n    <tr>\n      <th>21</th>\n      <td>1</td>\n      <td>d2_lr_clf_LogisticRegression_2</td>\n      <td>0.375206</td>\n    </tr>\n    <tr>\n      <th>22</th>\n      <td>1</td>\n      <td>d2_ctb_clf_CatBoostClassifier_0</td>\n      <td>0.192082</td>\n    </tr>\n    <tr>\n      <th>23</th>\n      <td>1</td>\n      <td>feat_gen_number_of_words_in_row</td>\n      <td>0.004091</td>\n    </tr>\n    <tr>\n      <th>24</th>\n      <td>1</td>\n      <td>feat_gen_number_of_full_stops</td>\n      <td>-0.004130</td>\n    </tr>\n    <tr>\n      <th>25</th>\n      <td>1</td>\n      <td>feat_gen_rt_flag</td>\n      <td>-0.004130</td>\n    </tr>\n    <tr>\n      <th>26</th>\n      <td>1</td>\n      <td>feat_gen_number_of_question_marks</td>\n      <td>-0.004135</td>\n    </tr>\n    <tr>\n      <th>27</th>\n      <td>1</td>\n      <td>d2_lgbm_reg_LGBMRegressor</td>\n      <td>-0.038712</td>\n    </tr>\n    <tr>\n      <th>28</th>\n      <td>1</td>\n      <td>d2_ctb_clf_CatBoostClassifier_2</td>\n      <td>-0.083862</td>\n    </tr>\n    <tr>\n      <th>29</th>\n      <td>1</td>\n      <td>feat_gen_sentiment_score_of_row</td>\n      <td>-0.132785</td>\n    </tr>\n    <tr>\n      <th>30</th>\n      <td>1</td>\n      <td>d2_lr_clf_LogisticRegression_0</td>\n      <td>-0.237400</td>\n    </tr>\n    <tr>\n      <th>31</th>\n      <td>1</td>\n      <td>&lt;BIAS&gt;</td>\n      <td>-0.241457</td>\n    </tr>\n    <tr>\n      <th>32</th>\n      <td>1</td>\n      <td>d1_rfc_RandomForestClassifier</td>\n      <td>-0.315558</td>\n    </tr>\n    <tr>\n      <th>33</th>\n      <td>1</td>\n      <td>d2_ctb_clf_CatBoostClassifier_1</td>\n      <td>-0.348102</td>\n    </tr>\n    <tr>\n      <th>34</th>\n      <td>1</td>\n      <td>d2_lr_clf_LogisticRegression_1</td>\n      <td>-0.377689</td>\n    </tr>\n    <tr>\n      <th>35</th>\n      <td>1</td>\n      <td>d3_ctb_CatBoostClassifier</td>\n      <td>-0.805084</td>\n    </tr>\n    <tr>\n      <th>36</th>\n      <td>2</td>\n      <td>d2_lgbm_reg_LGBMRegressor</td>\n      <td>0.367771</td>\n    </tr>\n    <tr>\n      <th>37</th>\n      <td>2</td>\n      <td>d1_rfc_RandomForestClassifier</td>\n      <td>0.209840</td>\n    </tr>\n    <tr>\n      <th>38</th>\n      <td>2</td>\n      <td>d2_lr_clf_LogisticRegression_2</td>\n      <td>0.147766</td>\n    </tr>\n    <tr>\n      <th>39</th>\n      <td>2</td>\n      <td>d2_ctb_clf_CatBoostClassifier_1</td>\n      <td>0.104369</td>\n    </tr>\n    <tr>\n      <th>40</th>\n      <td>2</td>\n      <td>feat_gen_number_of_full_stops</td>\n      <td>0.036368</td>\n    </tr>\n    <tr>\n      <th>41</th>\n      <td>2</td>\n      <td>feat_gen_rt_flag</td>\n      <td>0.036368</td>\n    </tr>\n    <tr>\n      <th>42</th>\n      <td>2</td>\n      <td>feat_gen_number_of_question_marks</td>\n      <td>0.008025</td>\n    </tr>\n    <tr>\n      <th>43</th>\n      <td>2</td>\n      <td>feat_gen_number_of_words_in_row</td>\n      <td>-0.002950</td>\n    </tr>\n    <tr>\n      <th>44</th>\n      <td>2</td>\n      <td>d2_ctb_reg_CatBoostRegressor</td>\n      <td>-0.012669</td>\n    </tr>\n    <tr>\n      <th>45</th>\n      <td>2</td>\n      <td>d3_ctb_CatBoostClassifier</td>\n      <td>-0.019860</td>\n    </tr>\n    <tr>\n      <th>46</th>\n      <td>2</td>\n      <td>feat_gen_sentiment_score_of_row</td>\n      <td>-0.030573</td>\n    </tr>\n    <tr>\n      <th>47</th>\n      <td>2</td>\n      <td>d2_ctb_clf_CatBoostClassifier_2</td>\n      <td>-0.066559</td>\n    </tr>\n    <tr>\n      <th>48</th>\n      <td>2</td>\n      <td>d2_lr_clf_LogisticRegression_1</td>\n      <td>-0.106696</td>\n    </tr>\n    <tr>\n      <th>49</th>\n      <td>2</td>\n      <td>&lt;BIAS&gt;</td>\n      <td>-0.226006</td>\n    </tr>\n    <tr>\n      <th>50</th>\n      <td>2</td>\n      <td>d1_lr_LogisticRegression</td>\n      <td>-0.237454</td>\n    </tr>\n    <tr>\n      <th>51</th>\n      <td>2</td>\n      <td>feat_gen_contains_profanity_words_flag</td>\n      <td>-0.243605</td>\n    </tr>\n    <tr>\n      <th>52</th>\n      <td>2</td>\n      <td>d2_ctb_clf_CatBoostClassifier_0</td>\n      <td>-0.262624</td>\n    </tr>\n    <tr>\n      <th>53</th>\n      <td>2</td>\n      <td>d2_lr_clf_LogisticRegression_0</td>\n      <td>-0.265884</td>\n    </tr>\n  </tbody>\n</table>\n</div>"
     },
     "execution_count": 48,
     "metadata": {},
     "output_type": "execute_result"
    }
   ],
   "source": [
    "l1.transform(data_train[:1])\n",
    "eli5.explain_weights_df(stacking_model.estimators_[0], feature_names=l1.get_feature_names_out())"
   ]
  },
  {
   "cell_type": "code",
   "execution_count": 49,
   "metadata": {
    "pycharm": {
     "name": "#%%\n"
    }
   },
   "outputs": [
    {
     "data": {
      "text/plain": "                                   feature    weight       std\n0             d2_ctb_reg_CatBoostRegressor  0.101955  0.022935\n1                d3_ctb_CatBoostClassifier  0.095022  0.005776\n2                d2_lgbm_reg_LGBMRegressor  0.078517  0.010335\n3          d2_ctb_clf_CatBoostClassifier_0  0.075163  0.017128\n4                 d1_lr_LogisticRegression  0.074844  0.004811\n5            d1_rfc_RandomForestClassifier  0.071972  0.009527\n6          d2_ctb_clf_CatBoostClassifier_2  0.071823  0.013186\n7           d2_lr_clf_LogisticRegression_0  0.071465  0.009053\n8          d2_ctb_clf_CatBoostClassifier_1  0.071368  0.010077\n9           d2_lr_clf_LogisticRegression_2  0.068695  0.005379\n10          d2_lr_clf_LogisticRegression_1  0.068230  0.007800\n11         feat_gen_sentiment_score_of_row  0.066203  0.004727\n12         feat_gen_number_of_words_in_row  0.063362  0.004499\n13  feat_gen_contains_profanity_words_flag  0.020495  0.006876\n14           feat_gen_number_of_full_stops  0.000471  0.000315\n15                        feat_gen_rt_flag  0.000412  0.000273\n16       feat_gen_number_of_question_marks  0.000002  0.000024\n17               feat_gen_number_of_commas  0.000000  0.000000\n18          feat_gen_number_of_excl_points  0.000000  0.000000",
      "text/html": "<div>\n<style scoped>\n    .dataframe tbody tr th:only-of-type {\n        vertical-align: middle;\n    }\n\n    .dataframe tbody tr th {\n        vertical-align: top;\n    }\n\n    .dataframe thead th {\n        text-align: right;\n    }\n</style>\n<table border=\"1\" class=\"dataframe\">\n  <thead>\n    <tr style=\"text-align: right;\">\n      <th></th>\n      <th>feature</th>\n      <th>weight</th>\n      <th>std</th>\n    </tr>\n  </thead>\n  <tbody>\n    <tr>\n      <th>0</th>\n      <td>d2_ctb_reg_CatBoostRegressor</td>\n      <td>0.101955</td>\n      <td>0.022935</td>\n    </tr>\n    <tr>\n      <th>1</th>\n      <td>d3_ctb_CatBoostClassifier</td>\n      <td>0.095022</td>\n      <td>0.005776</td>\n    </tr>\n    <tr>\n      <th>2</th>\n      <td>d2_lgbm_reg_LGBMRegressor</td>\n      <td>0.078517</td>\n      <td>0.010335</td>\n    </tr>\n    <tr>\n      <th>3</th>\n      <td>d2_ctb_clf_CatBoostClassifier_0</td>\n      <td>0.075163</td>\n      <td>0.017128</td>\n    </tr>\n    <tr>\n      <th>4</th>\n      <td>d1_lr_LogisticRegression</td>\n      <td>0.074844</td>\n      <td>0.004811</td>\n    </tr>\n    <tr>\n      <th>5</th>\n      <td>d1_rfc_RandomForestClassifier</td>\n      <td>0.071972</td>\n      <td>0.009527</td>\n    </tr>\n    <tr>\n      <th>6</th>\n      <td>d2_ctb_clf_CatBoostClassifier_2</td>\n      <td>0.071823</td>\n      <td>0.013186</td>\n    </tr>\n    <tr>\n      <th>7</th>\n      <td>d2_lr_clf_LogisticRegression_0</td>\n      <td>0.071465</td>\n      <td>0.009053</td>\n    </tr>\n    <tr>\n      <th>8</th>\n      <td>d2_ctb_clf_CatBoostClassifier_1</td>\n      <td>0.071368</td>\n      <td>0.010077</td>\n    </tr>\n    <tr>\n      <th>9</th>\n      <td>d2_lr_clf_LogisticRegression_2</td>\n      <td>0.068695</td>\n      <td>0.005379</td>\n    </tr>\n    <tr>\n      <th>10</th>\n      <td>d2_lr_clf_LogisticRegression_1</td>\n      <td>0.068230</td>\n      <td>0.007800</td>\n    </tr>\n    <tr>\n      <th>11</th>\n      <td>feat_gen_sentiment_score_of_row</td>\n      <td>0.066203</td>\n      <td>0.004727</td>\n    </tr>\n    <tr>\n      <th>12</th>\n      <td>feat_gen_number_of_words_in_row</td>\n      <td>0.063362</td>\n      <td>0.004499</td>\n    </tr>\n    <tr>\n      <th>13</th>\n      <td>feat_gen_contains_profanity_words_flag</td>\n      <td>0.020495</td>\n      <td>0.006876</td>\n    </tr>\n    <tr>\n      <th>14</th>\n      <td>feat_gen_number_of_full_stops</td>\n      <td>0.000471</td>\n      <td>0.000315</td>\n    </tr>\n    <tr>\n      <th>15</th>\n      <td>feat_gen_rt_flag</td>\n      <td>0.000412</td>\n      <td>0.000273</td>\n    </tr>\n    <tr>\n      <th>16</th>\n      <td>feat_gen_number_of_question_marks</td>\n      <td>0.000002</td>\n      <td>0.000024</td>\n    </tr>\n    <tr>\n      <th>17</th>\n      <td>feat_gen_number_of_commas</td>\n      <td>0.000000</td>\n      <td>0.000000</td>\n    </tr>\n    <tr>\n      <th>18</th>\n      <td>feat_gen_number_of_excl_points</td>\n      <td>0.000000</td>\n      <td>0.000000</td>\n    </tr>\n  </tbody>\n</table>\n</div>"
     },
     "execution_count": 49,
     "metadata": {},
     "output_type": "execute_result"
    }
   ],
   "source": [
    "l1.transform(data_train[:1])\n",
    "eli5.explain_weights_df(stacking_model.estimators_[1], feature_names=l1.get_feature_names_out())"
   ]
  },
  {
   "cell_type": "code",
   "execution_count": 50,
   "metadata": {
    "pycharm": {
     "name": "#%%\n"
    }
   },
   "outputs": [
    {
     "data": {
      "text/plain": "                                   feature    weight\n0        stackingclassifier_random_forest1  0.203756\n1              stackingclassifier_xgboost1  0.114035\n2  stackingclassifier_logistic_regression2  0.111675\n3              stackingclassifier_xgboost0  0.107280\n4  stackingclassifier_logistic_regression0  0.102618\n5              stackingclassifier_xgboost2  0.101834\n6  stackingclassifier_logistic_regression1  0.101624\n7        stackingclassifier_random_forest0  0.089050\n8        stackingclassifier_random_forest2  0.068126",
      "text/html": "<div>\n<style scoped>\n    .dataframe tbody tr th:only-of-type {\n        vertical-align: middle;\n    }\n\n    .dataframe tbody tr th {\n        vertical-align: top;\n    }\n\n    .dataframe thead th {\n        text-align: right;\n    }\n</style>\n<table border=\"1\" class=\"dataframe\">\n  <thead>\n    <tr style=\"text-align: right;\">\n      <th></th>\n      <th>feature</th>\n      <th>weight</th>\n    </tr>\n  </thead>\n  <tbody>\n    <tr>\n      <th>0</th>\n      <td>stackingclassifier_random_forest1</td>\n      <td>0.203756</td>\n    </tr>\n    <tr>\n      <th>1</th>\n      <td>stackingclassifier_xgboost1</td>\n      <td>0.114035</td>\n    </tr>\n    <tr>\n      <th>2</th>\n      <td>stackingclassifier_logistic_regression2</td>\n      <td>0.111675</td>\n    </tr>\n    <tr>\n      <th>3</th>\n      <td>stackingclassifier_xgboost0</td>\n      <td>0.107280</td>\n    </tr>\n    <tr>\n      <th>4</th>\n      <td>stackingclassifier_logistic_regression0</td>\n      <td>0.102618</td>\n    </tr>\n    <tr>\n      <th>5</th>\n      <td>stackingclassifier_xgboost2</td>\n      <td>0.101834</td>\n    </tr>\n    <tr>\n      <th>6</th>\n      <td>stackingclassifier_logistic_regression1</td>\n      <td>0.101624</td>\n    </tr>\n    <tr>\n      <th>7</th>\n      <td>stackingclassifier_random_forest0</td>\n      <td>0.089050</td>\n    </tr>\n    <tr>\n      <th>8</th>\n      <td>stackingclassifier_random_forest2</td>\n      <td>0.068126</td>\n    </tr>\n  </tbody>\n</table>\n</div>"
     },
     "execution_count": 50,
     "metadata": {},
     "output_type": "execute_result"
    }
   ],
   "source": [
    "eli5.explain_weights_df(stacking_model.final_estimator_, feature_names=stacking_model.get_feature_names_out())"
   ]
  },
  {
   "cell_type": "code",
   "execution_count": 51,
   "metadata": {
    "pycharm": {
     "name": "#%%\n"
    }
   },
   "outputs": [
    {
     "data": {
      "text/plain": "DecisionTreeClassifier()",
      "text/html": "<style>#sk-container-id-4 {color: black;background-color: white;}#sk-container-id-4 pre{padding: 0;}#sk-container-id-4 div.sk-toggleable {background-color: white;}#sk-container-id-4 label.sk-toggleable__label {cursor: pointer;display: block;width: 100%;margin-bottom: 0;padding: 0.3em;box-sizing: border-box;text-align: center;}#sk-container-id-4 label.sk-toggleable__label-arrow:before {content: \"▸\";float: left;margin-right: 0.25em;color: #696969;}#sk-container-id-4 label.sk-toggleable__label-arrow:hover:before {color: black;}#sk-container-id-4 div.sk-estimator:hover label.sk-toggleable__label-arrow:before {color: black;}#sk-container-id-4 div.sk-toggleable__content {max-height: 0;max-width: 0;overflow: hidden;text-align: left;background-color: #f0f8ff;}#sk-container-id-4 div.sk-toggleable__content pre {margin: 0.2em;color: black;border-radius: 0.25em;background-color: #f0f8ff;}#sk-container-id-4 input.sk-toggleable__control:checked~div.sk-toggleable__content {max-height: 200px;max-width: 100%;overflow: auto;}#sk-container-id-4 input.sk-toggleable__control:checked~label.sk-toggleable__label-arrow:before {content: \"▾\";}#sk-container-id-4 div.sk-estimator input.sk-toggleable__control:checked~label.sk-toggleable__label {background-color: #d4ebff;}#sk-container-id-4 div.sk-label input.sk-toggleable__control:checked~label.sk-toggleable__label {background-color: #d4ebff;}#sk-container-id-4 input.sk-hidden--visually {border: 0;clip: rect(1px 1px 1px 1px);clip: rect(1px, 1px, 1px, 1px);height: 1px;margin: -1px;overflow: hidden;padding: 0;position: absolute;width: 1px;}#sk-container-id-4 div.sk-estimator {font-family: monospace;background-color: #f0f8ff;border: 1px dotted black;border-radius: 0.25em;box-sizing: border-box;margin-bottom: 0.5em;}#sk-container-id-4 div.sk-estimator:hover {background-color: #d4ebff;}#sk-container-id-4 div.sk-parallel-item::after {content: \"\";width: 100%;border-bottom: 1px solid gray;flex-grow: 1;}#sk-container-id-4 div.sk-label:hover label.sk-toggleable__label {background-color: #d4ebff;}#sk-container-id-4 div.sk-serial::before {content: \"\";position: absolute;border-left: 1px solid gray;box-sizing: border-box;top: 0;bottom: 0;left: 50%;z-index: 0;}#sk-container-id-4 div.sk-serial {display: flex;flex-direction: column;align-items: center;background-color: white;padding-right: 0.2em;padding-left: 0.2em;position: relative;}#sk-container-id-4 div.sk-item {position: relative;z-index: 1;}#sk-container-id-4 div.sk-parallel {display: flex;align-items: stretch;justify-content: center;background-color: white;position: relative;}#sk-container-id-4 div.sk-item::before, #sk-container-id-4 div.sk-parallel-item::before {content: \"\";position: absolute;border-left: 1px solid gray;box-sizing: border-box;top: 0;bottom: 0;left: 50%;z-index: -1;}#sk-container-id-4 div.sk-parallel-item {display: flex;flex-direction: column;z-index: 1;position: relative;background-color: white;}#sk-container-id-4 div.sk-parallel-item:first-child::after {align-self: flex-end;width: 50%;}#sk-container-id-4 div.sk-parallel-item:last-child::after {align-self: flex-start;width: 50%;}#sk-container-id-4 div.sk-parallel-item:only-child::after {width: 0;}#sk-container-id-4 div.sk-dashed-wrapped {border: 1px dashed gray;margin: 0 0.4em 0.5em 0.4em;box-sizing: border-box;padding-bottom: 0.4em;background-color: white;}#sk-container-id-4 div.sk-label label {font-family: monospace;font-weight: bold;display: inline-block;line-height: 1.2em;}#sk-container-id-4 div.sk-label-container {text-align: center;}#sk-container-id-4 div.sk-container {/* jupyter's `normalize.less` sets `[hidden] { display: none; }` but bootstrap.min.css set `[hidden] { display: none !important; }` so we also need the `!important` here to be able to override the default hidden behavior on the sphinx rendered scikit-learn.org. See: https://github.com/scikit-learn/scikit-learn/issues/21755 */display: inline-block !important;position: relative;}#sk-container-id-4 div.sk-text-repr-fallback {display: none;}</style><div id=\"sk-container-id-4\" class=\"sk-top-container\"><div class=\"sk-text-repr-fallback\"><pre>DecisionTreeClassifier()</pre><b>In a Jupyter environment, please rerun this cell to show the HTML representation or trust the notebook. <br />On GitHub, the HTML representation is unable to render, please try loading this page with nbviewer.org.</b></div><div class=\"sk-container\" hidden><div class=\"sk-item\"><div class=\"sk-estimator sk-toggleable\"><input class=\"sk-toggleable__control sk-hidden--visually\" id=\"sk-estimator-id-63\" type=\"checkbox\" checked><label for=\"sk-estimator-id-63\" class=\"sk-toggleable__label sk-toggleable__label-arrow\">DecisionTreeClassifier</label><div class=\"sk-toggleable__content\"><pre>DecisionTreeClassifier()</pre></div></div></div></div></div>"
     },
     "execution_count": 51,
     "metadata": {},
     "output_type": "execute_result"
    }
   ],
   "source": [
    "stacking_model.final_estimator_"
   ]
  },
  {
   "cell_type": "code",
   "execution_count": 55,
   "metadata": {
    "pycharm": {
     "name": "#%%\n"
    }
   },
   "outputs": [],
   "source": [
    "stacking_pipeline = Pipeline([\n",
    "    ('l1', l1),\n",
    "    ('regressor', stacking_model)\n",
    "])"
   ]
  },
  {
   "cell_type": "code",
   "execution_count": 56,
   "metadata": {
    "pycharm": {
     "name": "#%%\n"
    }
   },
   "outputs": [
    {
     "data": {
      "text/plain": "Pipeline(steps=[('l1',\n                 CustomColumnTransformer(transformers=[('d1_lr',\n                                                        PipelineTransformer(pipeline=Pipeline(steps=[('NLP',\n                                                                                                      Pipeline(steps=[('cleaning',\n                                                                                                                       TextCleaner()),\n                                                                                                                      ('series_converter',\n                                                                                                                       SeriesConverter()),\n                                                                                                                      ('vectorization',\n                                                                                                                       TfidfVectorizer(max_df=0.7,\n                                                                                                                                       min_df=3))])),\n                                                                                                     ('regressor',\n                                                                                                      LogisticRegression())])),\n                                                        ['tweet']),\n                                                       ('d1_rfc',\n                                                        PipelineTransformer(pipeline=P...\n                                                               interaction_constraints=None,\n                                                               learning_rate=None,\n                                                               max_bin=None,\n                                                               max_cat_threshold=None,\n                                                               max_cat_to_onehot=None,\n                                                               max_delta_step=None,\n                                                               max_depth=None,\n                                                               max_leaves=None,\n                                                               min_child_weight=None,\n                                                               missing=nan,\n                                                               monotone_constraints=None,\n                                                               n_estimators=100,\n                                                               n_jobs=None,\n                                                               num_parallel_tree=None,\n                                                               predictor=None,\n                                                               random_state=None, ...))],\n                                    final_estimator=DecisionTreeClassifier()))])",
      "text/html": "<style>#sk-container-id-6 {color: black;background-color: white;}#sk-container-id-6 pre{padding: 0;}#sk-container-id-6 div.sk-toggleable {background-color: white;}#sk-container-id-6 label.sk-toggleable__label {cursor: pointer;display: block;width: 100%;margin-bottom: 0;padding: 0.3em;box-sizing: border-box;text-align: center;}#sk-container-id-6 label.sk-toggleable__label-arrow:before {content: \"▸\";float: left;margin-right: 0.25em;color: #696969;}#sk-container-id-6 label.sk-toggleable__label-arrow:hover:before {color: black;}#sk-container-id-6 div.sk-estimator:hover label.sk-toggleable__label-arrow:before {color: black;}#sk-container-id-6 div.sk-toggleable__content {max-height: 0;max-width: 0;overflow: hidden;text-align: left;background-color: #f0f8ff;}#sk-container-id-6 div.sk-toggleable__content pre {margin: 0.2em;color: black;border-radius: 0.25em;background-color: #f0f8ff;}#sk-container-id-6 input.sk-toggleable__control:checked~div.sk-toggleable__content {max-height: 200px;max-width: 100%;overflow: auto;}#sk-container-id-6 input.sk-toggleable__control:checked~label.sk-toggleable__label-arrow:before {content: \"▾\";}#sk-container-id-6 div.sk-estimator input.sk-toggleable__control:checked~label.sk-toggleable__label {background-color: #d4ebff;}#sk-container-id-6 div.sk-label input.sk-toggleable__control:checked~label.sk-toggleable__label {background-color: #d4ebff;}#sk-container-id-6 input.sk-hidden--visually {border: 0;clip: rect(1px 1px 1px 1px);clip: rect(1px, 1px, 1px, 1px);height: 1px;margin: -1px;overflow: hidden;padding: 0;position: absolute;width: 1px;}#sk-container-id-6 div.sk-estimator {font-family: monospace;background-color: #f0f8ff;border: 1px dotted black;border-radius: 0.25em;box-sizing: border-box;margin-bottom: 0.5em;}#sk-container-id-6 div.sk-estimator:hover {background-color: #d4ebff;}#sk-container-id-6 div.sk-parallel-item::after {content: \"\";width: 100%;border-bottom: 1px solid gray;flex-grow: 1;}#sk-container-id-6 div.sk-label:hover label.sk-toggleable__label {background-color: #d4ebff;}#sk-container-id-6 div.sk-serial::before {content: \"\";position: absolute;border-left: 1px solid gray;box-sizing: border-box;top: 0;bottom: 0;left: 50%;z-index: 0;}#sk-container-id-6 div.sk-serial {display: flex;flex-direction: column;align-items: center;background-color: white;padding-right: 0.2em;padding-left: 0.2em;position: relative;}#sk-container-id-6 div.sk-item {position: relative;z-index: 1;}#sk-container-id-6 div.sk-parallel {display: flex;align-items: stretch;justify-content: center;background-color: white;position: relative;}#sk-container-id-6 div.sk-item::before, #sk-container-id-6 div.sk-parallel-item::before {content: \"\";position: absolute;border-left: 1px solid gray;box-sizing: border-box;top: 0;bottom: 0;left: 50%;z-index: -1;}#sk-container-id-6 div.sk-parallel-item {display: flex;flex-direction: column;z-index: 1;position: relative;background-color: white;}#sk-container-id-6 div.sk-parallel-item:first-child::after {align-self: flex-end;width: 50%;}#sk-container-id-6 div.sk-parallel-item:last-child::after {align-self: flex-start;width: 50%;}#sk-container-id-6 div.sk-parallel-item:only-child::after {width: 0;}#sk-container-id-6 div.sk-dashed-wrapped {border: 1px dashed gray;margin: 0 0.4em 0.5em 0.4em;box-sizing: border-box;padding-bottom: 0.4em;background-color: white;}#sk-container-id-6 div.sk-label label {font-family: monospace;font-weight: bold;display: inline-block;line-height: 1.2em;}#sk-container-id-6 div.sk-label-container {text-align: center;}#sk-container-id-6 div.sk-container {/* jupyter's `normalize.less` sets `[hidden] { display: none; }` but bootstrap.min.css set `[hidden] { display: none !important; }` so we also need the `!important` here to be able to override the default hidden behavior on the sphinx rendered scikit-learn.org. See: https://github.com/scikit-learn/scikit-learn/issues/21755 */display: inline-block !important;position: relative;}#sk-container-id-6 div.sk-text-repr-fallback {display: none;}</style><div id=\"sk-container-id-6\" class=\"sk-top-container\"><div class=\"sk-text-repr-fallback\"><pre>Pipeline(steps=[(&#x27;l1&#x27;,\n                 CustomColumnTransformer(transformers=[(&#x27;d1_lr&#x27;,\n                                                        PipelineTransformer(pipeline=Pipeline(steps=[(&#x27;NLP&#x27;,\n                                                                                                      Pipeline(steps=[(&#x27;cleaning&#x27;,\n                                                                                                                       TextCleaner()),\n                                                                                                                      (&#x27;series_converter&#x27;,\n                                                                                                                       SeriesConverter()),\n                                                                                                                      (&#x27;vectorization&#x27;,\n                                                                                                                       TfidfVectorizer(max_df=0.7,\n                                                                                                                                       min_df=3))])),\n                                                                                                     (&#x27;regressor&#x27;,\n                                                                                                      LogisticRegression())])),\n                                                        [&#x27;tweet&#x27;]),\n                                                       (&#x27;d1_rfc&#x27;,\n                                                        PipelineTransformer(pipeline=P...\n                                                               interaction_constraints=None,\n                                                               learning_rate=None,\n                                                               max_bin=None,\n                                                               max_cat_threshold=None,\n                                                               max_cat_to_onehot=None,\n                                                               max_delta_step=None,\n                                                               max_depth=None,\n                                                               max_leaves=None,\n                                                               min_child_weight=None,\n                                                               missing=nan,\n                                                               monotone_constraints=None,\n                                                               n_estimators=100,\n                                                               n_jobs=None,\n                                                               num_parallel_tree=None,\n                                                               predictor=None,\n                                                               random_state=None, ...))],\n                                    final_estimator=DecisionTreeClassifier()))])</pre><b>In a Jupyter environment, please rerun this cell to show the HTML representation or trust the notebook. <br />On GitHub, the HTML representation is unable to render, please try loading this page with nbviewer.org.</b></div><div class=\"sk-container\" hidden><div class=\"sk-item sk-dashed-wrapped\"><div class=\"sk-label-container\"><div class=\"sk-label sk-toggleable\"><input class=\"sk-toggleable__control sk-hidden--visually\" id=\"sk-estimator-id-66\" type=\"checkbox\" ><label for=\"sk-estimator-id-66\" class=\"sk-toggleable__label sk-toggleable__label-arrow\">Pipeline</label><div class=\"sk-toggleable__content\"><pre>Pipeline(steps=[(&#x27;l1&#x27;,\n                 CustomColumnTransformer(transformers=[(&#x27;d1_lr&#x27;,\n                                                        PipelineTransformer(pipeline=Pipeline(steps=[(&#x27;NLP&#x27;,\n                                                                                                      Pipeline(steps=[(&#x27;cleaning&#x27;,\n                                                                                                                       TextCleaner()),\n                                                                                                                      (&#x27;series_converter&#x27;,\n                                                                                                                       SeriesConverter()),\n                                                                                                                      (&#x27;vectorization&#x27;,\n                                                                                                                       TfidfVectorizer(max_df=0.7,\n                                                                                                                                       min_df=3))])),\n                                                                                                     (&#x27;regressor&#x27;,\n                                                                                                      LogisticRegression())])),\n                                                        [&#x27;tweet&#x27;]),\n                                                       (&#x27;d1_rfc&#x27;,\n                                                        PipelineTransformer(pipeline=P...\n                                                               interaction_constraints=None,\n                                                               learning_rate=None,\n                                                               max_bin=None,\n                                                               max_cat_threshold=None,\n                                                               max_cat_to_onehot=None,\n                                                               max_delta_step=None,\n                                                               max_depth=None,\n                                                               max_leaves=None,\n                                                               min_child_weight=None,\n                                                               missing=nan,\n                                                               monotone_constraints=None,\n                                                               n_estimators=100,\n                                                               n_jobs=None,\n                                                               num_parallel_tree=None,\n                                                               predictor=None,\n                                                               random_state=None, ...))],\n                                    final_estimator=DecisionTreeClassifier()))])</pre></div></div></div><div class=\"sk-serial\"><div class=\"sk-item sk-dashed-wrapped\"><div class=\"sk-label-container\"><div class=\"sk-label sk-toggleable\"><input class=\"sk-toggleable__control sk-hidden--visually\" id=\"sk-estimator-id-67\" type=\"checkbox\" ><label for=\"sk-estimator-id-67\" class=\"sk-toggleable__label sk-toggleable__label-arrow\">l1: CustomColumnTransformer</label><div class=\"sk-toggleable__content\"><pre>CustomColumnTransformer(transformers=[(&#x27;d1_lr&#x27;,\n                                       PipelineTransformer(pipeline=Pipeline(steps=[(&#x27;NLP&#x27;,\n                                                                                     Pipeline(steps=[(&#x27;cleaning&#x27;,\n                                                                                                      TextCleaner()),\n                                                                                                     (&#x27;series_converter&#x27;,\n                                                                                                      SeriesConverter()),\n                                                                                                     (&#x27;vectorization&#x27;,\n                                                                                                      TfidfVectorizer(max_df=0.7,\n                                                                                                                      min_df=3))])),\n                                                                                    (&#x27;regressor&#x27;,\n                                                                                     LogisticRegression())])),\n                                       [&#x27;tweet&#x27;]),\n                                      (&#x27;d1_rfc&#x27;,\n                                       PipelineTransformer(pipeline=Pipeline(steps=[(&#x27;NLP&#x27;,...\n                                                                                     &lt;catboost.core.CatBoostClassifier object at 0x000001FA35C56DA0&gt;)])),\n                                       [&#x27;tweet&#x27;]),\n                                      (&#x27;d3_ctb&#x27;,\n                                       PipelineTransformer(pipeline=Pipeline(steps=[(&#x27;NLP&#x27;,\n                                                                                     Pipeline(steps=[(&#x27;cleaning&#x27;,\n                                                                                                      TextCleaner()),\n                                                                                                     (&#x27;series_converter&#x27;,\n                                                                                                      SeriesConverter()),\n                                                                                                     (&#x27;vectorization&#x27;,\n                                                                                                      TfidfVectorizer(max_df=0.7,\n                                                                                                                      min_df=3))])),\n                                                                                    (&#x27;regressor&#x27;,\n                                                                                     &lt;catboost.core.CatBoostClassifier object at 0x000001FA35C57940&gt;)])),\n                                       [&#x27;tweet&#x27;]),\n                                      (&#x27;feat_gen&#x27;, FeatureGenerator(),\n                                       [&#x27;tweet&#x27;])])</pre></div></div></div><div class=\"sk-parallel\"><div class=\"sk-parallel-item\"><div class=\"sk-item\"><div class=\"sk-label-container\"><div class=\"sk-label sk-toggleable\"><input class=\"sk-toggleable__control sk-hidden--visually\" id=\"sk-estimator-id-68\" type=\"checkbox\" ><label for=\"sk-estimator-id-68\" class=\"sk-toggleable__label sk-toggleable__label-arrow\">d1_lr</label><div class=\"sk-toggleable__content\"><pre>[&#x27;tweet&#x27;]</pre></div></div></div><div class=\"sk-serial\"><div class=\"sk-item sk-dashed-wrapped\"><div class=\"sk-parallel\"><div class=\"sk-parallel-item\"><div class=\"sk-item\"><div class=\"sk-label-container\"><div class=\"sk-label sk-toggleable\"><input class=\"sk-toggleable__control sk-hidden--visually\" id=\"sk-estimator-id-69\" type=\"checkbox\" ><label for=\"sk-estimator-id-69\" class=\"sk-toggleable__label sk-toggleable__label-arrow\">pipeline: Pipeline</label><div class=\"sk-toggleable__content\"><pre>Pipeline(steps=[(&#x27;NLP&#x27;,\n                 Pipeline(steps=[(&#x27;cleaning&#x27;, TextCleaner()),\n                                 (&#x27;series_converter&#x27;, SeriesConverter()),\n                                 (&#x27;vectorization&#x27;,\n                                  TfidfVectorizer(max_df=0.7, min_df=3))])),\n                (&#x27;regressor&#x27;, LogisticRegression())])</pre></div></div></div><div class=\"sk-serial\"><div class=\"sk-item\"><div class=\"sk-serial\"><div class=\"sk-item\"><div class=\"sk-label-container\"><div class=\"sk-label sk-toggleable\"><input class=\"sk-toggleable__control sk-hidden--visually\" id=\"sk-estimator-id-70\" type=\"checkbox\" ><label for=\"sk-estimator-id-70\" class=\"sk-toggleable__label sk-toggleable__label-arrow\">NLP: Pipeline</label><div class=\"sk-toggleable__content\"><pre>Pipeline(steps=[(&#x27;cleaning&#x27;, TextCleaner()),\n                (&#x27;series_converter&#x27;, SeriesConverter()),\n                (&#x27;vectorization&#x27;, TfidfVectorizer(max_df=0.7, min_df=3))])</pre></div></div></div><div class=\"sk-serial\"><div class=\"sk-item\"><div class=\"sk-estimator sk-toggleable\"><input class=\"sk-toggleable__control sk-hidden--visually\" id=\"sk-estimator-id-71\" type=\"checkbox\" ><label for=\"sk-estimator-id-71\" class=\"sk-toggleable__label sk-toggleable__label-arrow\">TextCleaner</label><div class=\"sk-toggleable__content\"><pre>TextCleaner()</pre></div></div></div><div class=\"sk-item\"><div class=\"sk-estimator sk-toggleable\"><input class=\"sk-toggleable__control sk-hidden--visually\" id=\"sk-estimator-id-72\" type=\"checkbox\" ><label for=\"sk-estimator-id-72\" class=\"sk-toggleable__label sk-toggleable__label-arrow\">SeriesConverter</label><div class=\"sk-toggleable__content\"><pre>SeriesConverter()</pre></div></div></div><div class=\"sk-item\"><div class=\"sk-estimator sk-toggleable\"><input class=\"sk-toggleable__control sk-hidden--visually\" id=\"sk-estimator-id-73\" type=\"checkbox\" ><label for=\"sk-estimator-id-73\" class=\"sk-toggleable__label sk-toggleable__label-arrow\">TfidfVectorizer</label><div class=\"sk-toggleable__content\"><pre>TfidfVectorizer(max_df=0.7, min_df=3)</pre></div></div></div></div></div><div class=\"sk-item\"><div class=\"sk-estimator sk-toggleable\"><input class=\"sk-toggleable__control sk-hidden--visually\" id=\"sk-estimator-id-74\" type=\"checkbox\" ><label for=\"sk-estimator-id-74\" class=\"sk-toggleable__label sk-toggleable__label-arrow\">LogisticRegression</label><div class=\"sk-toggleable__content\"><pre>LogisticRegression()</pre></div></div></div></div></div></div></div></div></div></div></div></div></div><div class=\"sk-parallel-item\"><div class=\"sk-item\"><div class=\"sk-label-container\"><div class=\"sk-label sk-toggleable\"><input class=\"sk-toggleable__control sk-hidden--visually\" id=\"sk-estimator-id-75\" type=\"checkbox\" ><label for=\"sk-estimator-id-75\" class=\"sk-toggleable__label sk-toggleable__label-arrow\">d1_rfc</label><div class=\"sk-toggleable__content\"><pre>[&#x27;tweet&#x27;]</pre></div></div></div><div class=\"sk-serial\"><div class=\"sk-item sk-dashed-wrapped\"><div class=\"sk-parallel\"><div class=\"sk-parallel-item\"><div class=\"sk-item\"><div class=\"sk-label-container\"><div class=\"sk-label sk-toggleable\"><input class=\"sk-toggleable__control sk-hidden--visually\" id=\"sk-estimator-id-76\" type=\"checkbox\" ><label for=\"sk-estimator-id-76\" class=\"sk-toggleable__label sk-toggleable__label-arrow\">pipeline: Pipeline</label><div class=\"sk-toggleable__content\"><pre>Pipeline(steps=[(&#x27;NLP&#x27;,\n                 Pipeline(steps=[(&#x27;cleaning&#x27;, TextCleaner()),\n                                 (&#x27;series_converter&#x27;, SeriesConverter()),\n                                 (&#x27;vectorization&#x27;,\n                                  TfidfVectorizer(max_df=0.7, min_df=3))])),\n                (&#x27;regressor&#x27;, RandomForestClassifier())])</pre></div></div></div><div class=\"sk-serial\"><div class=\"sk-item\"><div class=\"sk-serial\"><div class=\"sk-item\"><div class=\"sk-label-container\"><div class=\"sk-label sk-toggleable\"><input class=\"sk-toggleable__control sk-hidden--visually\" id=\"sk-estimator-id-77\" type=\"checkbox\" ><label for=\"sk-estimator-id-77\" class=\"sk-toggleable__label sk-toggleable__label-arrow\">NLP: Pipeline</label><div class=\"sk-toggleable__content\"><pre>Pipeline(steps=[(&#x27;cleaning&#x27;, TextCleaner()),\n                (&#x27;series_converter&#x27;, SeriesConverter()),\n                (&#x27;vectorization&#x27;, TfidfVectorizer(max_df=0.7, min_df=3))])</pre></div></div></div><div class=\"sk-serial\"><div class=\"sk-item\"><div class=\"sk-estimator sk-toggleable\"><input class=\"sk-toggleable__control sk-hidden--visually\" id=\"sk-estimator-id-78\" type=\"checkbox\" ><label for=\"sk-estimator-id-78\" class=\"sk-toggleable__label sk-toggleable__label-arrow\">TextCleaner</label><div class=\"sk-toggleable__content\"><pre>TextCleaner()</pre></div></div></div><div class=\"sk-item\"><div class=\"sk-estimator sk-toggleable\"><input class=\"sk-toggleable__control sk-hidden--visually\" id=\"sk-estimator-id-79\" type=\"checkbox\" ><label for=\"sk-estimator-id-79\" class=\"sk-toggleable__label sk-toggleable__label-arrow\">SeriesConverter</label><div class=\"sk-toggleable__content\"><pre>SeriesConverter()</pre></div></div></div><div class=\"sk-item\"><div class=\"sk-estimator sk-toggleable\"><input class=\"sk-toggleable__control sk-hidden--visually\" id=\"sk-estimator-id-80\" type=\"checkbox\" ><label for=\"sk-estimator-id-80\" class=\"sk-toggleable__label sk-toggleable__label-arrow\">TfidfVectorizer</label><div class=\"sk-toggleable__content\"><pre>TfidfVectorizer(max_df=0.7, min_df=3)</pre></div></div></div></div></div><div class=\"sk-item\"><div class=\"sk-estimator sk-toggleable\"><input class=\"sk-toggleable__control sk-hidden--visually\" id=\"sk-estimator-id-81\" type=\"checkbox\" ><label for=\"sk-estimator-id-81\" class=\"sk-toggleable__label sk-toggleable__label-arrow\">RandomForestClassifier</label><div class=\"sk-toggleable__content\"><pre>RandomForestClassifier()</pre></div></div></div></div></div></div></div></div></div></div></div></div></div><div class=\"sk-parallel-item\"><div class=\"sk-item\"><div class=\"sk-label-container\"><div class=\"sk-label sk-toggleable\"><input class=\"sk-toggleable__control sk-hidden--visually\" id=\"sk-estimator-id-82\" type=\"checkbox\" ><label for=\"sk-estimator-id-82\" class=\"sk-toggleable__label sk-toggleable__label-arrow\">d2_ctb_reg</label><div class=\"sk-toggleable__content\"><pre>[&#x27;tweet&#x27;]</pre></div></div></div><div class=\"sk-serial\"><div class=\"sk-item sk-dashed-wrapped\"><div class=\"sk-parallel\"><div class=\"sk-parallel-item\"><div class=\"sk-item\"><div class=\"sk-label-container\"><div class=\"sk-label sk-toggleable\"><input class=\"sk-toggleable__control sk-hidden--visually\" id=\"sk-estimator-id-83\" type=\"checkbox\" ><label for=\"sk-estimator-id-83\" class=\"sk-toggleable__label sk-toggleable__label-arrow\">pipeline: Pipeline</label><div class=\"sk-toggleable__content\"><pre>Pipeline(steps=[(&#x27;NLP&#x27;,\n                 Pipeline(steps=[(&#x27;cleaning&#x27;, TextCleaner()),\n                                 (&#x27;series_converter&#x27;, SeriesConverter()),\n                                 (&#x27;vectorization&#x27;,\n                                  TfidfVectorizer(max_df=0.7, min_df=3))])),\n                (&#x27;regressor&#x27;,\n                 &lt;catboost.core.CatBoostRegressor object at 0x000001FA35C54130&gt;)])</pre></div></div></div><div class=\"sk-serial\"><div class=\"sk-item\"><div class=\"sk-serial\"><div class=\"sk-item\"><div class=\"sk-label-container\"><div class=\"sk-label sk-toggleable\"><input class=\"sk-toggleable__control sk-hidden--visually\" id=\"sk-estimator-id-84\" type=\"checkbox\" ><label for=\"sk-estimator-id-84\" class=\"sk-toggleable__label sk-toggleable__label-arrow\">NLP: Pipeline</label><div class=\"sk-toggleable__content\"><pre>Pipeline(steps=[(&#x27;cleaning&#x27;, TextCleaner()),\n                (&#x27;series_converter&#x27;, SeriesConverter()),\n                (&#x27;vectorization&#x27;, TfidfVectorizer(max_df=0.7, min_df=3))])</pre></div></div></div><div class=\"sk-serial\"><div class=\"sk-item\"><div class=\"sk-estimator sk-toggleable\"><input class=\"sk-toggleable__control sk-hidden--visually\" id=\"sk-estimator-id-85\" type=\"checkbox\" ><label for=\"sk-estimator-id-85\" class=\"sk-toggleable__label sk-toggleable__label-arrow\">TextCleaner</label><div class=\"sk-toggleable__content\"><pre>TextCleaner()</pre></div></div></div><div class=\"sk-item\"><div class=\"sk-estimator sk-toggleable\"><input class=\"sk-toggleable__control sk-hidden--visually\" id=\"sk-estimator-id-86\" type=\"checkbox\" ><label for=\"sk-estimator-id-86\" class=\"sk-toggleable__label sk-toggleable__label-arrow\">SeriesConverter</label><div class=\"sk-toggleable__content\"><pre>SeriesConverter()</pre></div></div></div><div class=\"sk-item\"><div class=\"sk-estimator sk-toggleable\"><input class=\"sk-toggleable__control sk-hidden--visually\" id=\"sk-estimator-id-87\" type=\"checkbox\" ><label for=\"sk-estimator-id-87\" class=\"sk-toggleable__label sk-toggleable__label-arrow\">TfidfVectorizer</label><div class=\"sk-toggleable__content\"><pre>TfidfVectorizer(max_df=0.7, min_df=3)</pre></div></div></div></div></div><div class=\"sk-item\"><div class=\"sk-estimator sk-toggleable\"><input class=\"sk-toggleable__control sk-hidden--visually\" id=\"sk-estimator-id-88\" type=\"checkbox\" ><label for=\"sk-estimator-id-88\" class=\"sk-toggleable__label sk-toggleable__label-arrow\">CatBoostRegressor</label><div class=\"sk-toggleable__content\"><pre>&lt;catboost.core.CatBoostRegressor object at 0x000001FA35C54130&gt;</pre></div></div></div></div></div></div></div></div></div></div></div></div></div><div class=\"sk-parallel-item\"><div class=\"sk-item\"><div class=\"sk-label-container\"><div class=\"sk-label sk-toggleable\"><input class=\"sk-toggleable__control sk-hidden--visually\" id=\"sk-estimator-id-89\" type=\"checkbox\" ><label for=\"sk-estimator-id-89\" class=\"sk-toggleable__label sk-toggleable__label-arrow\">d2_lgbm_reg</label><div class=\"sk-toggleable__content\"><pre>[&#x27;tweet&#x27;]</pre></div></div></div><div class=\"sk-serial\"><div class=\"sk-item sk-dashed-wrapped\"><div class=\"sk-parallel\"><div class=\"sk-parallel-item\"><div class=\"sk-item\"><div class=\"sk-label-container\"><div class=\"sk-label sk-toggleable\"><input class=\"sk-toggleable__control sk-hidden--visually\" id=\"sk-estimator-id-90\" type=\"checkbox\" ><label for=\"sk-estimator-id-90\" class=\"sk-toggleable__label sk-toggleable__label-arrow\">pipeline: Pipeline</label><div class=\"sk-toggleable__content\"><pre>Pipeline(steps=[(&#x27;NLP&#x27;,\n                 Pipeline(steps=[(&#x27;cleaning&#x27;, TextCleaner()),\n                                 (&#x27;series_converter&#x27;, SeriesConverter()),\n                                 (&#x27;vectorization&#x27;,\n                                  TfidfVectorizer(max_df=0.7, min_df=3))])),\n                (&#x27;regressor&#x27;, LGBMRegressor())])</pre></div></div></div><div class=\"sk-serial\"><div class=\"sk-item\"><div class=\"sk-serial\"><div class=\"sk-item\"><div class=\"sk-label-container\"><div class=\"sk-label sk-toggleable\"><input class=\"sk-toggleable__control sk-hidden--visually\" id=\"sk-estimator-id-91\" type=\"checkbox\" ><label for=\"sk-estimator-id-91\" class=\"sk-toggleable__label sk-toggleable__label-arrow\">NLP: Pipeline</label><div class=\"sk-toggleable__content\"><pre>Pipeline(steps=[(&#x27;cleaning&#x27;, TextCleaner()),\n                (&#x27;series_converter&#x27;, SeriesConverter()),\n                (&#x27;vectorization&#x27;, TfidfVectorizer(max_df=0.7, min_df=3))])</pre></div></div></div><div class=\"sk-serial\"><div class=\"sk-item\"><div class=\"sk-estimator sk-toggleable\"><input class=\"sk-toggleable__control sk-hidden--visually\" id=\"sk-estimator-id-92\" type=\"checkbox\" ><label for=\"sk-estimator-id-92\" class=\"sk-toggleable__label sk-toggleable__label-arrow\">TextCleaner</label><div class=\"sk-toggleable__content\"><pre>TextCleaner()</pre></div></div></div><div class=\"sk-item\"><div class=\"sk-estimator sk-toggleable\"><input class=\"sk-toggleable__control sk-hidden--visually\" id=\"sk-estimator-id-93\" type=\"checkbox\" ><label for=\"sk-estimator-id-93\" class=\"sk-toggleable__label sk-toggleable__label-arrow\">SeriesConverter</label><div class=\"sk-toggleable__content\"><pre>SeriesConverter()</pre></div></div></div><div class=\"sk-item\"><div class=\"sk-estimator sk-toggleable\"><input class=\"sk-toggleable__control sk-hidden--visually\" id=\"sk-estimator-id-94\" type=\"checkbox\" ><label for=\"sk-estimator-id-94\" class=\"sk-toggleable__label sk-toggleable__label-arrow\">TfidfVectorizer</label><div class=\"sk-toggleable__content\"><pre>TfidfVectorizer(max_df=0.7, min_df=3)</pre></div></div></div></div></div><div class=\"sk-item\"><div class=\"sk-estimator sk-toggleable\"><input class=\"sk-toggleable__control sk-hidden--visually\" id=\"sk-estimator-id-95\" type=\"checkbox\" ><label for=\"sk-estimator-id-95\" class=\"sk-toggleable__label sk-toggleable__label-arrow\">LGBMRegressor</label><div class=\"sk-toggleable__content\"><pre>LGBMRegressor()</pre></div></div></div></div></div></div></div></div></div></div></div></div></div><div class=\"sk-parallel-item\"><div class=\"sk-item\"><div class=\"sk-label-container\"><div class=\"sk-label sk-toggleable\"><input class=\"sk-toggleable__control sk-hidden--visually\" id=\"sk-estimator-id-96\" type=\"checkbox\" ><label for=\"sk-estimator-id-96\" class=\"sk-toggleable__label sk-toggleable__label-arrow\">d2_lr_clf</label><div class=\"sk-toggleable__content\"><pre>[&#x27;tweet&#x27;]</pre></div></div></div><div class=\"sk-serial\"><div class=\"sk-item sk-dashed-wrapped\"><div class=\"sk-parallel\"><div class=\"sk-parallel-item\"><div class=\"sk-item\"><div class=\"sk-label-container\"><div class=\"sk-label sk-toggleable\"><input class=\"sk-toggleable__control sk-hidden--visually\" id=\"sk-estimator-id-97\" type=\"checkbox\" ><label for=\"sk-estimator-id-97\" class=\"sk-toggleable__label sk-toggleable__label-arrow\">pipeline: Pipeline</label><div class=\"sk-toggleable__content\"><pre>Pipeline(steps=[(&#x27;NLP&#x27;,\n                 Pipeline(steps=[(&#x27;cleaning&#x27;, TextCleaner()),\n                                 (&#x27;series_converter&#x27;, SeriesConverter()),\n                                 (&#x27;vectorization&#x27;,\n                                  TfidfVectorizer(max_df=0.7, min_df=3))])),\n                (&#x27;regressor&#x27;, LogisticRegression())])</pre></div></div></div><div class=\"sk-serial\"><div class=\"sk-item\"><div class=\"sk-serial\"><div class=\"sk-item\"><div class=\"sk-label-container\"><div class=\"sk-label sk-toggleable\"><input class=\"sk-toggleable__control sk-hidden--visually\" id=\"sk-estimator-id-98\" type=\"checkbox\" ><label for=\"sk-estimator-id-98\" class=\"sk-toggleable__label sk-toggleable__label-arrow\">NLP: Pipeline</label><div class=\"sk-toggleable__content\"><pre>Pipeline(steps=[(&#x27;cleaning&#x27;, TextCleaner()),\n                (&#x27;series_converter&#x27;, SeriesConverter()),\n                (&#x27;vectorization&#x27;, TfidfVectorizer(max_df=0.7, min_df=3))])</pre></div></div></div><div class=\"sk-serial\"><div class=\"sk-item\"><div class=\"sk-estimator sk-toggleable\"><input class=\"sk-toggleable__control sk-hidden--visually\" id=\"sk-estimator-id-99\" type=\"checkbox\" ><label for=\"sk-estimator-id-99\" class=\"sk-toggleable__label sk-toggleable__label-arrow\">TextCleaner</label><div class=\"sk-toggleable__content\"><pre>TextCleaner()</pre></div></div></div><div class=\"sk-item\"><div class=\"sk-estimator sk-toggleable\"><input class=\"sk-toggleable__control sk-hidden--visually\" id=\"sk-estimator-id-100\" type=\"checkbox\" ><label for=\"sk-estimator-id-100\" class=\"sk-toggleable__label sk-toggleable__label-arrow\">SeriesConverter</label><div class=\"sk-toggleable__content\"><pre>SeriesConverter()</pre></div></div></div><div class=\"sk-item\"><div class=\"sk-estimator sk-toggleable\"><input class=\"sk-toggleable__control sk-hidden--visually\" id=\"sk-estimator-id-101\" type=\"checkbox\" ><label for=\"sk-estimator-id-101\" class=\"sk-toggleable__label sk-toggleable__label-arrow\">TfidfVectorizer</label><div class=\"sk-toggleable__content\"><pre>TfidfVectorizer(max_df=0.7, min_df=3)</pre></div></div></div></div></div><div class=\"sk-item\"><div class=\"sk-estimator sk-toggleable\"><input class=\"sk-toggleable__control sk-hidden--visually\" id=\"sk-estimator-id-102\" type=\"checkbox\" ><label for=\"sk-estimator-id-102\" class=\"sk-toggleable__label sk-toggleable__label-arrow\">LogisticRegression</label><div class=\"sk-toggleable__content\"><pre>LogisticRegression()</pre></div></div></div></div></div></div></div></div></div></div></div></div></div><div class=\"sk-parallel-item\"><div class=\"sk-item\"><div class=\"sk-label-container\"><div class=\"sk-label sk-toggleable\"><input class=\"sk-toggleable__control sk-hidden--visually\" id=\"sk-estimator-id-103\" type=\"checkbox\" ><label for=\"sk-estimator-id-103\" class=\"sk-toggleable__label sk-toggleable__label-arrow\">d2_ctb_clf</label><div class=\"sk-toggleable__content\"><pre>[&#x27;tweet&#x27;]</pre></div></div></div><div class=\"sk-serial\"><div class=\"sk-item sk-dashed-wrapped\"><div class=\"sk-parallel\"><div class=\"sk-parallel-item\"><div class=\"sk-item\"><div class=\"sk-label-container\"><div class=\"sk-label sk-toggleable\"><input class=\"sk-toggleable__control sk-hidden--visually\" id=\"sk-estimator-id-104\" type=\"checkbox\" ><label for=\"sk-estimator-id-104\" class=\"sk-toggleable__label sk-toggleable__label-arrow\">pipeline: Pipeline</label><div class=\"sk-toggleable__content\"><pre>Pipeline(steps=[(&#x27;NLP&#x27;,\n                 Pipeline(steps=[(&#x27;cleaning&#x27;, TextCleaner()),\n                                 (&#x27;series_converter&#x27;, SeriesConverter()),\n                                 (&#x27;vectorization&#x27;,\n                                  TfidfVectorizer(max_df=0.7, min_df=3))])),\n                (&#x27;regressor&#x27;,\n                 &lt;catboost.core.CatBoostClassifier object at 0x000001FA35C56DA0&gt;)])</pre></div></div></div><div class=\"sk-serial\"><div class=\"sk-item\"><div class=\"sk-serial\"><div class=\"sk-item\"><div class=\"sk-label-container\"><div class=\"sk-label sk-toggleable\"><input class=\"sk-toggleable__control sk-hidden--visually\" id=\"sk-estimator-id-105\" type=\"checkbox\" ><label for=\"sk-estimator-id-105\" class=\"sk-toggleable__label sk-toggleable__label-arrow\">NLP: Pipeline</label><div class=\"sk-toggleable__content\"><pre>Pipeline(steps=[(&#x27;cleaning&#x27;, TextCleaner()),\n                (&#x27;series_converter&#x27;, SeriesConverter()),\n                (&#x27;vectorization&#x27;, TfidfVectorizer(max_df=0.7, min_df=3))])</pre></div></div></div><div class=\"sk-serial\"><div class=\"sk-item\"><div class=\"sk-estimator sk-toggleable\"><input class=\"sk-toggleable__control sk-hidden--visually\" id=\"sk-estimator-id-106\" type=\"checkbox\" ><label for=\"sk-estimator-id-106\" class=\"sk-toggleable__label sk-toggleable__label-arrow\">TextCleaner</label><div class=\"sk-toggleable__content\"><pre>TextCleaner()</pre></div></div></div><div class=\"sk-item\"><div class=\"sk-estimator sk-toggleable\"><input class=\"sk-toggleable__control sk-hidden--visually\" id=\"sk-estimator-id-107\" type=\"checkbox\" ><label for=\"sk-estimator-id-107\" class=\"sk-toggleable__label sk-toggleable__label-arrow\">SeriesConverter</label><div class=\"sk-toggleable__content\"><pre>SeriesConverter()</pre></div></div></div><div class=\"sk-item\"><div class=\"sk-estimator sk-toggleable\"><input class=\"sk-toggleable__control sk-hidden--visually\" id=\"sk-estimator-id-108\" type=\"checkbox\" ><label for=\"sk-estimator-id-108\" class=\"sk-toggleable__label sk-toggleable__label-arrow\">TfidfVectorizer</label><div class=\"sk-toggleable__content\"><pre>TfidfVectorizer(max_df=0.7, min_df=3)</pre></div></div></div></div></div><div class=\"sk-item\"><div class=\"sk-estimator sk-toggleable\"><input class=\"sk-toggleable__control sk-hidden--visually\" id=\"sk-estimator-id-109\" type=\"checkbox\" ><label for=\"sk-estimator-id-109\" class=\"sk-toggleable__label sk-toggleable__label-arrow\">CatBoostClassifier</label><div class=\"sk-toggleable__content\"><pre>&lt;catboost.core.CatBoostClassifier object at 0x000001FA35C56DA0&gt;</pre></div></div></div></div></div></div></div></div></div></div></div></div></div><div class=\"sk-parallel-item\"><div class=\"sk-item\"><div class=\"sk-label-container\"><div class=\"sk-label sk-toggleable\"><input class=\"sk-toggleable__control sk-hidden--visually\" id=\"sk-estimator-id-110\" type=\"checkbox\" ><label for=\"sk-estimator-id-110\" class=\"sk-toggleable__label sk-toggleable__label-arrow\">d3_ctb</label><div class=\"sk-toggleable__content\"><pre>[&#x27;tweet&#x27;]</pre></div></div></div><div class=\"sk-serial\"><div class=\"sk-item sk-dashed-wrapped\"><div class=\"sk-parallel\"><div class=\"sk-parallel-item\"><div class=\"sk-item\"><div class=\"sk-label-container\"><div class=\"sk-label sk-toggleable\"><input class=\"sk-toggleable__control sk-hidden--visually\" id=\"sk-estimator-id-111\" type=\"checkbox\" ><label for=\"sk-estimator-id-111\" class=\"sk-toggleable__label sk-toggleable__label-arrow\">pipeline: Pipeline</label><div class=\"sk-toggleable__content\"><pre>Pipeline(steps=[(&#x27;NLP&#x27;,\n                 Pipeline(steps=[(&#x27;cleaning&#x27;, TextCleaner()),\n                                 (&#x27;series_converter&#x27;, SeriesConverter()),\n                                 (&#x27;vectorization&#x27;,\n                                  TfidfVectorizer(max_df=0.7, min_df=3))])),\n                (&#x27;regressor&#x27;,\n                 &lt;catboost.core.CatBoostClassifier object at 0x000001FA35C57940&gt;)])</pre></div></div></div><div class=\"sk-serial\"><div class=\"sk-item\"><div class=\"sk-serial\"><div class=\"sk-item\"><div class=\"sk-label-container\"><div class=\"sk-label sk-toggleable\"><input class=\"sk-toggleable__control sk-hidden--visually\" id=\"sk-estimator-id-112\" type=\"checkbox\" ><label for=\"sk-estimator-id-112\" class=\"sk-toggleable__label sk-toggleable__label-arrow\">NLP: Pipeline</label><div class=\"sk-toggleable__content\"><pre>Pipeline(steps=[(&#x27;cleaning&#x27;, TextCleaner()),\n                (&#x27;series_converter&#x27;, SeriesConverter()),\n                (&#x27;vectorization&#x27;, TfidfVectorizer(max_df=0.7, min_df=3))])</pre></div></div></div><div class=\"sk-serial\"><div class=\"sk-item\"><div class=\"sk-estimator sk-toggleable\"><input class=\"sk-toggleable__control sk-hidden--visually\" id=\"sk-estimator-id-113\" type=\"checkbox\" ><label for=\"sk-estimator-id-113\" class=\"sk-toggleable__label sk-toggleable__label-arrow\">TextCleaner</label><div class=\"sk-toggleable__content\"><pre>TextCleaner()</pre></div></div></div><div class=\"sk-item\"><div class=\"sk-estimator sk-toggleable\"><input class=\"sk-toggleable__control sk-hidden--visually\" id=\"sk-estimator-id-114\" type=\"checkbox\" ><label for=\"sk-estimator-id-114\" class=\"sk-toggleable__label sk-toggleable__label-arrow\">SeriesConverter</label><div class=\"sk-toggleable__content\"><pre>SeriesConverter()</pre></div></div></div><div class=\"sk-item\"><div class=\"sk-estimator sk-toggleable\"><input class=\"sk-toggleable__control sk-hidden--visually\" id=\"sk-estimator-id-115\" type=\"checkbox\" ><label for=\"sk-estimator-id-115\" class=\"sk-toggleable__label sk-toggleable__label-arrow\">TfidfVectorizer</label><div class=\"sk-toggleable__content\"><pre>TfidfVectorizer(max_df=0.7, min_df=3)</pre></div></div></div></div></div><div class=\"sk-item\"><div class=\"sk-estimator sk-toggleable\"><input class=\"sk-toggleable__control sk-hidden--visually\" id=\"sk-estimator-id-116\" type=\"checkbox\" ><label for=\"sk-estimator-id-116\" class=\"sk-toggleable__label sk-toggleable__label-arrow\">CatBoostClassifier</label><div class=\"sk-toggleable__content\"><pre>&lt;catboost.core.CatBoostClassifier object at 0x000001FA35C57940&gt;</pre></div></div></div></div></div></div></div></div></div></div></div></div></div><div class=\"sk-parallel-item\"><div class=\"sk-item\"><div class=\"sk-label-container\"><div class=\"sk-label sk-toggleable\"><input class=\"sk-toggleable__control sk-hidden--visually\" id=\"sk-estimator-id-117\" type=\"checkbox\" ><label for=\"sk-estimator-id-117\" class=\"sk-toggleable__label sk-toggleable__label-arrow\">feat_gen</label><div class=\"sk-toggleable__content\"><pre>[&#x27;tweet&#x27;]</pre></div></div></div><div class=\"sk-serial\"><div class=\"sk-item\"><div class=\"sk-estimator sk-toggleable\"><input class=\"sk-toggleable__control sk-hidden--visually\" id=\"sk-estimator-id-118\" type=\"checkbox\" ><label for=\"sk-estimator-id-118\" class=\"sk-toggleable__label sk-toggleable__label-arrow\">FeatureGenerator</label><div class=\"sk-toggleable__content\"><pre>FeatureGenerator()</pre></div></div></div></div></div></div></div></div><div class=\"sk-item\"><div class=\"sk-label-container\"><div class=\"sk-label sk-toggleable\"><input class=\"sk-toggleable__control sk-hidden--visually\" id=\"sk-estimator-id-119\" type=\"checkbox\" ><label for=\"sk-estimator-id-119\" class=\"sk-toggleable__label sk-toggleable__label-arrow\">regressor: StackingClassifier</label><div class=\"sk-toggleable__content\"><pre>StackingClassifier(estimators=[(&#x27;logistic_regression&#x27;, LogisticRegression()),\n                               (&#x27;random_forest&#x27;, RandomForestClassifier()),\n                               (&#x27;xgboost&#x27;,\n                                XGBClassifier(base_score=None, booster=None,\n                                              callbacks=None,\n                                              colsample_bylevel=None,\n                                              colsample_bynode=None,\n                                              colsample_bytree=None,\n                                              early_stopping_rounds=None,\n                                              enable_categorical=False,\n                                              eval_metric=None,\n                                              feature_types=None, gamma=N...\n                                              interaction_constraints=None,\n                                              learning_rate=None, max_bin=None,\n                                              max_cat_threshold=None,\n                                              max_cat_to_onehot=None,\n                                              max_delta_step=None,\n                                              max_depth=None, max_leaves=None,\n                                              min_child_weight=None,\n                                              missing=nan,\n                                              monotone_constraints=None,\n                                              n_estimators=100, n_jobs=None,\n                                              num_parallel_tree=None,\n                                              predictor=None, random_state=None, ...))],\n                   final_estimator=DecisionTreeClassifier())</pre></div></div></div><div class=\"sk-serial\"><div class=\"sk-item\"><div class=\"sk-parallel\"><div class=\"sk-parallel-item\"><div class=\"sk-item\"><div class=\"sk-label-container\"><div class=\"sk-label sk-toggleable\"><label>logistic_regression</label></div></div><div class=\"sk-serial\"><div class=\"sk-item\"><div class=\"sk-estimator sk-toggleable\"><input class=\"sk-toggleable__control sk-hidden--visually\" id=\"sk-estimator-id-120\" type=\"checkbox\" ><label for=\"sk-estimator-id-120\" class=\"sk-toggleable__label sk-toggleable__label-arrow\">LogisticRegression</label><div class=\"sk-toggleable__content\"><pre>LogisticRegression()</pre></div></div></div></div></div></div><div class=\"sk-parallel-item\"><div class=\"sk-item\"><div class=\"sk-label-container\"><div class=\"sk-label sk-toggleable\"><label>random_forest</label></div></div><div class=\"sk-serial\"><div class=\"sk-item\"><div class=\"sk-estimator sk-toggleable\"><input class=\"sk-toggleable__control sk-hidden--visually\" id=\"sk-estimator-id-121\" type=\"checkbox\" ><label for=\"sk-estimator-id-121\" class=\"sk-toggleable__label sk-toggleable__label-arrow\">RandomForestClassifier</label><div class=\"sk-toggleable__content\"><pre>RandomForestClassifier()</pre></div></div></div></div></div></div><div class=\"sk-parallel-item\"><div class=\"sk-item\"><div class=\"sk-label-container\"><div class=\"sk-label sk-toggleable\"><label>xgboost</label></div></div><div class=\"sk-serial\"><div class=\"sk-item\"><div class=\"sk-estimator sk-toggleable\"><input class=\"sk-toggleable__control sk-hidden--visually\" id=\"sk-estimator-id-122\" type=\"checkbox\" ><label for=\"sk-estimator-id-122\" class=\"sk-toggleable__label sk-toggleable__label-arrow\">XGBClassifier</label><div class=\"sk-toggleable__content\"><pre>XGBClassifier(base_score=None, booster=None, callbacks=None,\n              colsample_bylevel=None, colsample_bynode=None,\n              colsample_bytree=None, early_stopping_rounds=None,\n              enable_categorical=False, eval_metric=None, feature_types=None,\n              gamma=None, gpu_id=None, grow_policy=None, importance_type=None,\n              interaction_constraints=None, learning_rate=None, max_bin=None,\n              max_cat_threshold=None, max_cat_to_onehot=None,\n              max_delta_step=None, max_depth=None, max_leaves=None,\n              min_child_weight=None, missing=nan, monotone_constraints=None,\n              n_estimators=100, n_jobs=None, num_parallel_tree=None,\n              predictor=None, random_state=None, ...)</pre></div></div></div></div></div></div></div></div><div class=\"sk-item\"><div class=\"sk-parallel\"><div class=\"sk-parallel-item\"><div class=\"sk-item\"><div class=\"sk-label-container\"><div class=\"sk-label sk-toggleable\"><label>final_estimator</label></div></div><div class=\"sk-serial\"><div class=\"sk-item\"><div class=\"sk-estimator sk-toggleable\"><input class=\"sk-toggleable__control sk-hidden--visually\" id=\"sk-estimator-id-123\" type=\"checkbox\" ><label for=\"sk-estimator-id-123\" class=\"sk-toggleable__label sk-toggleable__label-arrow\">DecisionTreeClassifier</label><div class=\"sk-toggleable__content\"><pre>DecisionTreeClassifier()</pre></div></div></div></div></div></div></div></div></div></div></div></div></div></div>"
     },
     "execution_count": 56,
     "metadata": {},
     "output_type": "execute_result"
    }
   ],
   "source": [
    "stacking_pipeline"
   ]
  },
  {
   "cell_type": "code",
   "execution_count": 64,
   "outputs": [],
   "source": [
    "from src.common.prediction_model.persistence import FsModelPersistence\n",
    "from src.common.prediction_model.prediction_model import ModelContainer, ModelMetadata\n",
    "\n",
    "container = ModelContainer.create(\n",
    "    pipeline_name='stacking_pipeline',\n",
    "    pipeline=stacking_pipeline,\n",
    "    feature_names=[],\n",
    "    metadata=ModelMetadata(\n",
    "        model_name=str(stacking_pipeline.__class__.__name__),\n",
    "    )\n",
    ")\n",
    "# %%"
   ],
   "metadata": {
    "collapsed": false,
    "pycharm": {
     "name": "#%%\n"
    }
   }
  },
  {
   "cell_type": "code",
   "execution_count": 65,
   "outputs": [],
   "source": [
    "persistor = FsModelPersistence()\n",
    "name = persistor.save(container)"
   ],
   "metadata": {
    "collapsed": false,
    "pycharm": {
     "name": "#%%\n"
    }
   }
  },
  {
   "cell_type": "code",
   "execution_count": 78,
   "outputs": [],
   "source": [
    "m = persistor.read('stacking_pipeline_Pipeline_2023-05-23.bin.gz')"
   ],
   "metadata": {
    "collapsed": false,
    "pycharm": {
     "name": "#%%\n"
    }
   }
  },
  {
   "cell_type": "code",
   "execution_count": 81,
   "outputs": [
    {
     "data": {
      "text/plain": "array([2, 2, 2, 1, 1, 1, 0], dtype=int64)"
     },
     "execution_count": 81,
     "metadata": {},
     "output_type": "execute_result"
    }
   ],
   "source": [
    "m.pipeline.predict(data_sample)"
   ],
   "metadata": {
    "collapsed": false,
    "pycharm": {
     "name": "#%%\n"
    }
   }
  },
  {
   "cell_type": "code",
   "execution_count": 52,
   "outputs": [],
   "source": [
    "from sklearn.dummy import DummyClassifier\n",
    "from sklearn.pipeline import make_pipeline\n",
    "\n",
    "dummy_median = make_pipeline(\n",
    "    DummyClassifier(strategy='stratified'),\n",
    ")"
   ],
   "metadata": {
    "collapsed": false,
    "pycharm": {
     "name": "#%%\n"
    }
   }
  },
  {
   "cell_type": "code",
   "execution_count": 53,
   "outputs": [
    {
     "data": {
      "text/plain": "Pipeline(steps=[('dummyclassifier', DummyClassifier(strategy='stratified'))])",
      "text/html": "<style>#sk-container-id-5 {color: black;background-color: white;}#sk-container-id-5 pre{padding: 0;}#sk-container-id-5 div.sk-toggleable {background-color: white;}#sk-container-id-5 label.sk-toggleable__label {cursor: pointer;display: block;width: 100%;margin-bottom: 0;padding: 0.3em;box-sizing: border-box;text-align: center;}#sk-container-id-5 label.sk-toggleable__label-arrow:before {content: \"▸\";float: left;margin-right: 0.25em;color: #696969;}#sk-container-id-5 label.sk-toggleable__label-arrow:hover:before {color: black;}#sk-container-id-5 div.sk-estimator:hover label.sk-toggleable__label-arrow:before {color: black;}#sk-container-id-5 div.sk-toggleable__content {max-height: 0;max-width: 0;overflow: hidden;text-align: left;background-color: #f0f8ff;}#sk-container-id-5 div.sk-toggleable__content pre {margin: 0.2em;color: black;border-radius: 0.25em;background-color: #f0f8ff;}#sk-container-id-5 input.sk-toggleable__control:checked~div.sk-toggleable__content {max-height: 200px;max-width: 100%;overflow: auto;}#sk-container-id-5 input.sk-toggleable__control:checked~label.sk-toggleable__label-arrow:before {content: \"▾\";}#sk-container-id-5 div.sk-estimator input.sk-toggleable__control:checked~label.sk-toggleable__label {background-color: #d4ebff;}#sk-container-id-5 div.sk-label input.sk-toggleable__control:checked~label.sk-toggleable__label {background-color: #d4ebff;}#sk-container-id-5 input.sk-hidden--visually {border: 0;clip: rect(1px 1px 1px 1px);clip: rect(1px, 1px, 1px, 1px);height: 1px;margin: -1px;overflow: hidden;padding: 0;position: absolute;width: 1px;}#sk-container-id-5 div.sk-estimator {font-family: monospace;background-color: #f0f8ff;border: 1px dotted black;border-radius: 0.25em;box-sizing: border-box;margin-bottom: 0.5em;}#sk-container-id-5 div.sk-estimator:hover {background-color: #d4ebff;}#sk-container-id-5 div.sk-parallel-item::after {content: \"\";width: 100%;border-bottom: 1px solid gray;flex-grow: 1;}#sk-container-id-5 div.sk-label:hover label.sk-toggleable__label {background-color: #d4ebff;}#sk-container-id-5 div.sk-serial::before {content: \"\";position: absolute;border-left: 1px solid gray;box-sizing: border-box;top: 0;bottom: 0;left: 50%;z-index: 0;}#sk-container-id-5 div.sk-serial {display: flex;flex-direction: column;align-items: center;background-color: white;padding-right: 0.2em;padding-left: 0.2em;position: relative;}#sk-container-id-5 div.sk-item {position: relative;z-index: 1;}#sk-container-id-5 div.sk-parallel {display: flex;align-items: stretch;justify-content: center;background-color: white;position: relative;}#sk-container-id-5 div.sk-item::before, #sk-container-id-5 div.sk-parallel-item::before {content: \"\";position: absolute;border-left: 1px solid gray;box-sizing: border-box;top: 0;bottom: 0;left: 50%;z-index: -1;}#sk-container-id-5 div.sk-parallel-item {display: flex;flex-direction: column;z-index: 1;position: relative;background-color: white;}#sk-container-id-5 div.sk-parallel-item:first-child::after {align-self: flex-end;width: 50%;}#sk-container-id-5 div.sk-parallel-item:last-child::after {align-self: flex-start;width: 50%;}#sk-container-id-5 div.sk-parallel-item:only-child::after {width: 0;}#sk-container-id-5 div.sk-dashed-wrapped {border: 1px dashed gray;margin: 0 0.4em 0.5em 0.4em;box-sizing: border-box;padding-bottom: 0.4em;background-color: white;}#sk-container-id-5 div.sk-label label {font-family: monospace;font-weight: bold;display: inline-block;line-height: 1.2em;}#sk-container-id-5 div.sk-label-container {text-align: center;}#sk-container-id-5 div.sk-container {/* jupyter's `normalize.less` sets `[hidden] { display: none; }` but bootstrap.min.css set `[hidden] { display: none !important; }` so we also need the `!important` here to be able to override the default hidden behavior on the sphinx rendered scikit-learn.org. See: https://github.com/scikit-learn/scikit-learn/issues/21755 */display: inline-block !important;position: relative;}#sk-container-id-5 div.sk-text-repr-fallback {display: none;}</style><div id=\"sk-container-id-5\" class=\"sk-top-container\"><div class=\"sk-text-repr-fallback\"><pre>Pipeline(steps=[(&#x27;dummyclassifier&#x27;, DummyClassifier(strategy=&#x27;stratified&#x27;))])</pre><b>In a Jupyter environment, please rerun this cell to show the HTML representation or trust the notebook. <br />On GitHub, the HTML representation is unable to render, please try loading this page with nbviewer.org.</b></div><div class=\"sk-container\" hidden><div class=\"sk-item sk-dashed-wrapped\"><div class=\"sk-label-container\"><div class=\"sk-label sk-toggleable\"><input class=\"sk-toggleable__control sk-hidden--visually\" id=\"sk-estimator-id-64\" type=\"checkbox\" ><label for=\"sk-estimator-id-64\" class=\"sk-toggleable__label sk-toggleable__label-arrow\">Pipeline</label><div class=\"sk-toggleable__content\"><pre>Pipeline(steps=[(&#x27;dummyclassifier&#x27;, DummyClassifier(strategy=&#x27;stratified&#x27;))])</pre></div></div></div><div class=\"sk-serial\"><div class=\"sk-item\"><div class=\"sk-estimator sk-toggleable\"><input class=\"sk-toggleable__control sk-hidden--visually\" id=\"sk-estimator-id-65\" type=\"checkbox\" ><label for=\"sk-estimator-id-65\" class=\"sk-toggleable__label sk-toggleable__label-arrow\">DummyClassifier</label><div class=\"sk-toggleable__content\"><pre>DummyClassifier(strategy=&#x27;stratified&#x27;)</pre></div></div></div></div></div></div></div>"
     },
     "execution_count": 53,
     "metadata": {},
     "output_type": "execute_result"
    }
   ],
   "source": [
    "dummy_median.fit(X_train, y_train)"
   ],
   "metadata": {
    "collapsed": false,
    "pycharm": {
     "name": "#%%\n"
    }
   }
  },
  {
   "cell_type": "code",
   "execution_count": 54,
   "outputs": [
    {
     "name": "stdout",
     "output_type": "stream",
     "text": [
      "              precision    recall  f1-score   support\n",
      "\n",
      "           0       0.38      0.40      0.39      1577\n",
      "           1       0.32      0.30      0.31      1304\n",
      "           2       0.28      0.29      0.29      1149\n",
      "\n",
      "    accuracy                           0.33      4030\n",
      "   macro avg       0.33      0.33      0.33      4030\n",
      "weighted avg       0.33      0.33      0.33      4030\n",
      "\n",
      "[[624 493 460]\n",
      " [545 395 364]\n",
      " [462 359 328]]\n"
     ]
    }
   ],
   "source": [
    "prediction = dummy_median.predict(X_test)\n",
    "with warnings.catch_warnings():\n",
    "    warnings.simplefilter(\"ignore\")\n",
    "    print(classification_report(prediction, y_test))\n",
    "    print(confusion_matrix(prediction, y_test))"
   ],
   "metadata": {
    "collapsed": false,
    "pycharm": {
     "name": "#%%\n"
    }
   }
  },
  {
   "cell_type": "code",
   "execution_count": 114,
   "metadata": {
    "pycharm": {
     "name": "#%%\n"
    }
   },
   "outputs": [],
   "source": [
    "import pprint"
   ]
  },
  {
   "cell_type": "code",
   "execution_count": 116,
   "metadata": {
    "pycharm": {
     "name": "#%%\n"
    }
   },
   "outputs": [],
   "source": [
    "pipeline_description = pprint.pformat(stacking_pipeline)\n",
    "\n",
    "with open('pipeline_description.txt', 'w') as file:\n",
    "    file.write(pipeline_description)"
   ]
  },
  {
   "cell_type": "code",
   "execution_count": 112,
   "metadata": {
    "pycharm": {
     "name": "#%%\n"
    }
   },
   "outputs": [
    {
     "data": {
      "text/html": [
       "<div>\n",
       "<style scoped>\n",
       "    .dataframe tbody tr th:only-of-type {\n",
       "        vertical-align: middle;\n",
       "    }\n",
       "\n",
       "    .dataframe tbody tr th {\n",
       "        vertical-align: top;\n",
       "    }\n",
       "\n",
       "    .dataframe thead th {\n",
       "        text-align: right;\n",
       "    }\n",
       "</style>\n",
       "<table border=\"1\" class=\"dataframe\">\n",
       "  <thead>\n",
       "    <tr style=\"text-align: right;\">\n",
       "      <th></th>\n",
       "      <th>tweet</th>\n",
       "      <th>label</th>\n",
       "    </tr>\n",
       "  </thead>\n",
       "  <tbody>\n",
       "    <tr>\n",
       "      <th>0</th>\n",
       "      <td>Sasha goes to Mannheim University</td>\n",
       "      <td>1</td>\n",
       "    </tr>\n",
       "    <tr>\n",
       "      <th>1</th>\n",
       "      <td>Danylo will create a great application</td>\n",
       "      <td>1</td>\n",
       "    </tr>\n",
       "    <tr>\n",
       "      <th>2</th>\n",
       "      <td>Danylo will not create a great application</td>\n",
       "      <td>0</td>\n",
       "    </tr>\n",
       "    <tr>\n",
       "      <th>3</th>\n",
       "      <td>Dasha didnt fulfill her task</td>\n",
       "      <td>0</td>\n",
       "    </tr>\n",
       "    <tr>\n",
       "      <th>4</th>\n",
       "      <td>You suck a dick, nigga</td>\n",
       "      <td>1</td>\n",
       "    </tr>\n",
       "    <tr>\n",
       "      <th>5</th>\n",
       "      <td>fuck jews idk</td>\n",
       "      <td>1</td>\n",
       "    </tr>\n",
       "    <tr>\n",
       "      <th>6</th>\n",
       "      <td>you are a good person</td>\n",
       "      <td>0</td>\n",
       "    </tr>\n",
       "  </tbody>\n",
       "</table>\n",
       "</div>"
      ],
      "text/plain": [
       "                                        tweet  label\n",
       "0           Sasha goes to Mannheim University      1\n",
       "1      Danylo will create a great application      1\n",
       "2  Danylo will not create a great application      0\n",
       "3                Dasha didnt fulfill her task      0\n",
       "4                      You suck a dick, nigga      1\n",
       "5                               fuck jews idk      1\n",
       "6                       you are a good person      0"
      ]
     },
     "execution_count": 112,
     "metadata": {},
     "output_type": "execute_result"
    }
   ],
   "source": [
    "data_sample"
   ]
  },
  {
   "cell_type": "code",
   "execution_count": 109,
   "metadata": {
    "pycharm": {
     "name": "#%%\n"
    }
   },
   "outputs": [
    {
     "data": {
      "text/plain": [
       "array([[0., 0., 1.],\n",
       "       [0., 0., 1.],\n",
       "       [0., 1., 0.],\n",
       "       [0., 0., 1.],\n",
       "       [0., 1., 0.],\n",
       "       [1., 0., 0.],\n",
       "       [0., 0., 1.]])"
      ]
     },
     "execution_count": 109,
     "metadata": {},
     "output_type": "execute_result"
    }
   ],
   "source": [
    "stacking_pipeline.predict_proba(data_sample)"
   ]
  },
  {
   "cell_type": "code",
   "execution_count": null,
   "metadata": {
    "pycharm": {
     "name": "#%%\n"
    }
   },
   "outputs": [],
   "source": []
  },
  {
   "cell_type": "code",
   "execution_count": 60,
   "metadata": {
    "pycharm": {
     "name": "#%%\n"
    }
   },
   "outputs": [],
   "source": [
    "l2_pipeline_1 = Pipeline([\n",
    "    ('l1', l1),\n",
    "    ('regressor', RandomForestClassifier())\n",
    "])\n",
    "\n",
    "l2_pipeline_2 = Pipeline([\n",
    "    ('l1', l1),\n",
    "    ('regressor', LogisticRegression())\n",
    "])"
   ]
  },
  {
   "cell_type": "code",
   "execution_count": 61,
   "metadata": {
    "pycharm": {
     "name": "#%%\n"
    }
   },
   "outputs": [
    {
     "data": {
      "text/html": [
       "<style>#sk-container-id-7 {color: black;background-color: white;}#sk-container-id-7 pre{padding: 0;}#sk-container-id-7 div.sk-toggleable {background-color: white;}#sk-container-id-7 label.sk-toggleable__label {cursor: pointer;display: block;width: 100%;margin-bottom: 0;padding: 0.3em;box-sizing: border-box;text-align: center;}#sk-container-id-7 label.sk-toggleable__label-arrow:before {content: \"▸\";float: left;margin-right: 0.25em;color: #696969;}#sk-container-id-7 label.sk-toggleable__label-arrow:hover:before {color: black;}#sk-container-id-7 div.sk-estimator:hover label.sk-toggleable__label-arrow:before {color: black;}#sk-container-id-7 div.sk-toggleable__content {max-height: 0;max-width: 0;overflow: hidden;text-align: left;background-color: #f0f8ff;}#sk-container-id-7 div.sk-toggleable__content pre {margin: 0.2em;color: black;border-radius: 0.25em;background-color: #f0f8ff;}#sk-container-id-7 input.sk-toggleable__control:checked~div.sk-toggleable__content {max-height: 200px;max-width: 100%;overflow: auto;}#sk-container-id-7 input.sk-toggleable__control:checked~label.sk-toggleable__label-arrow:before {content: \"▾\";}#sk-container-id-7 div.sk-estimator input.sk-toggleable__control:checked~label.sk-toggleable__label {background-color: #d4ebff;}#sk-container-id-7 div.sk-label input.sk-toggleable__control:checked~label.sk-toggleable__label {background-color: #d4ebff;}#sk-container-id-7 input.sk-hidden--visually {border: 0;clip: rect(1px 1px 1px 1px);clip: rect(1px, 1px, 1px, 1px);height: 1px;margin: -1px;overflow: hidden;padding: 0;position: absolute;width: 1px;}#sk-container-id-7 div.sk-estimator {font-family: monospace;background-color: #f0f8ff;border: 1px dotted black;border-radius: 0.25em;box-sizing: border-box;margin-bottom: 0.5em;}#sk-container-id-7 div.sk-estimator:hover {background-color: #d4ebff;}#sk-container-id-7 div.sk-parallel-item::after {content: \"\";width: 100%;border-bottom: 1px solid gray;flex-grow: 1;}#sk-container-id-7 div.sk-label:hover label.sk-toggleable__label {background-color: #d4ebff;}#sk-container-id-7 div.sk-serial::before {content: \"\";position: absolute;border-left: 1px solid gray;box-sizing: border-box;top: 0;bottom: 0;left: 50%;z-index: 0;}#sk-container-id-7 div.sk-serial {display: flex;flex-direction: column;align-items: center;background-color: white;padding-right: 0.2em;padding-left: 0.2em;position: relative;}#sk-container-id-7 div.sk-item {position: relative;z-index: 1;}#sk-container-id-7 div.sk-parallel {display: flex;align-items: stretch;justify-content: center;background-color: white;position: relative;}#sk-container-id-7 div.sk-item::before, #sk-container-id-7 div.sk-parallel-item::before {content: \"\";position: absolute;border-left: 1px solid gray;box-sizing: border-box;top: 0;bottom: 0;left: 50%;z-index: -1;}#sk-container-id-7 div.sk-parallel-item {display: flex;flex-direction: column;z-index: 1;position: relative;background-color: white;}#sk-container-id-7 div.sk-parallel-item:first-child::after {align-self: flex-end;width: 50%;}#sk-container-id-7 div.sk-parallel-item:last-child::after {align-self: flex-start;width: 50%;}#sk-container-id-7 div.sk-parallel-item:only-child::after {width: 0;}#sk-container-id-7 div.sk-dashed-wrapped {border: 1px dashed gray;margin: 0 0.4em 0.5em 0.4em;box-sizing: border-box;padding-bottom: 0.4em;background-color: white;}#sk-container-id-7 div.sk-label label {font-family: monospace;font-weight: bold;display: inline-block;line-height: 1.2em;}#sk-container-id-7 div.sk-label-container {text-align: center;}#sk-container-id-7 div.sk-container {/* jupyter's `normalize.less` sets `[hidden] { display: none; }` but bootstrap.min.css set `[hidden] { display: none !important; }` so we also need the `!important` here to be able to override the default hidden behavior on the sphinx rendered scikit-learn.org. See: https://github.com/scikit-learn/scikit-learn/issues/21755 */display: inline-block !important;position: relative;}#sk-container-id-7 div.sk-text-repr-fallback {display: none;}</style><div id=\"sk-container-id-7\" class=\"sk-top-container\"><div class=\"sk-text-repr-fallback\"><pre>Pipeline(steps=[(&#x27;l1&#x27;,\n",
       "                 CustomColumnTransformer(transformers=[(&#x27;l1_p1&#x27;,\n",
       "                                                        PipelineTransformer(pipeline=Pipeline(steps=[(&#x27;NLP&#x27;,\n",
       "                                                                                                      Pipeline(steps=[(&#x27;cleaning&#x27;,\n",
       "                                                                                                                       TextCleaner()),\n",
       "                                                                                                                      (&#x27;series_converter&#x27;,\n",
       "                                                                                                                       SeriesConverter()),\n",
       "                                                                                                                      (&#x27;vectorization&#x27;,\n",
       "                                                                                                                       TfidfVectorizer(max_df=0.7,\n",
       "                                                                                                                                       min_df=3))])),\n",
       "                                                                                                     (&#x27;regressor&#x27;,\n",
       "                                                                                                      LGBMClassifier())])),\n",
       "                                                        [&#x27;tweet&#x27;]),\n",
       "                                                       (&#x27;l1_p2&#x27;,\n",
       "                                                        PipelineTransformer(pipeline=Pipeli...\n",
       "                                                                                                      &lt;catboost.core.CatBoostClassifier object at 0x000001C67C7A4100&gt;)])),\n",
       "                                                        [&#x27;tweet&#x27;]),\n",
       "                                                       (&#x27;l1_p4&#x27;,\n",
       "                                                        PipelineTransformer(pipeline=Pipeline(steps=[(&#x27;NLP&#x27;,\n",
       "                                                                                                      Pipeline(steps=[(&#x27;cleaning&#x27;,\n",
       "                                                                                                                       TextCleaner()),\n",
       "                                                                                                                      (&#x27;series_converter&#x27;,\n",
       "                                                                                                                       SeriesConverter()),\n",
       "                                                                                                                      (&#x27;vectorization&#x27;,\n",
       "                                                                                                                       TfidfVectorizer(max_df=0.7,\n",
       "                                                                                                                                       min_df=3))])),\n",
       "                                                                                                     (&#x27;regressor&#x27;,\n",
       "                                                                                                      RandomForestClassifier())])),\n",
       "                                                        [&#x27;tweet&#x27;]),\n",
       "                                                       (&#x27;l1_g1&#x27;,\n",
       "                                                        FeatureGenerator(),\n",
       "                                                        [&#x27;tweet&#x27;])])),\n",
       "                (&#x27;regressor&#x27;, LogisticRegression())])</pre><b>In a Jupyter environment, please rerun this cell to show the HTML representation or trust the notebook. <br />On GitHub, the HTML representation is unable to render, please try loading this page with nbviewer.org.</b></div><div class=\"sk-container\" hidden><div class=\"sk-item sk-dashed-wrapped\"><div class=\"sk-label-container\"><div class=\"sk-label sk-toggleable\"><input class=\"sk-toggleable__control sk-hidden--visually\" id=\"sk-estimator-id-162\" type=\"checkbox\" ><label for=\"sk-estimator-id-162\" class=\"sk-toggleable__label sk-toggleable__label-arrow\">Pipeline</label><div class=\"sk-toggleable__content\"><pre>Pipeline(steps=[(&#x27;l1&#x27;,\n",
       "                 CustomColumnTransformer(transformers=[(&#x27;l1_p1&#x27;,\n",
       "                                                        PipelineTransformer(pipeline=Pipeline(steps=[(&#x27;NLP&#x27;,\n",
       "                                                                                                      Pipeline(steps=[(&#x27;cleaning&#x27;,\n",
       "                                                                                                                       TextCleaner()),\n",
       "                                                                                                                      (&#x27;series_converter&#x27;,\n",
       "                                                                                                                       SeriesConverter()),\n",
       "                                                                                                                      (&#x27;vectorization&#x27;,\n",
       "                                                                                                                       TfidfVectorizer(max_df=0.7,\n",
       "                                                                                                                                       min_df=3))])),\n",
       "                                                                                                     (&#x27;regressor&#x27;,\n",
       "                                                                                                      LGBMClassifier())])),\n",
       "                                                        [&#x27;tweet&#x27;]),\n",
       "                                                       (&#x27;l1_p2&#x27;,\n",
       "                                                        PipelineTransformer(pipeline=Pipeli...\n",
       "                                                                                                      &lt;catboost.core.CatBoostClassifier object at 0x000001C67C7A4100&gt;)])),\n",
       "                                                        [&#x27;tweet&#x27;]),\n",
       "                                                       (&#x27;l1_p4&#x27;,\n",
       "                                                        PipelineTransformer(pipeline=Pipeline(steps=[(&#x27;NLP&#x27;,\n",
       "                                                                                                      Pipeline(steps=[(&#x27;cleaning&#x27;,\n",
       "                                                                                                                       TextCleaner()),\n",
       "                                                                                                                      (&#x27;series_converter&#x27;,\n",
       "                                                                                                                       SeriesConverter()),\n",
       "                                                                                                                      (&#x27;vectorization&#x27;,\n",
       "                                                                                                                       TfidfVectorizer(max_df=0.7,\n",
       "                                                                                                                                       min_df=3))])),\n",
       "                                                                                                     (&#x27;regressor&#x27;,\n",
       "                                                                                                      RandomForestClassifier())])),\n",
       "                                                        [&#x27;tweet&#x27;]),\n",
       "                                                       (&#x27;l1_g1&#x27;,\n",
       "                                                        FeatureGenerator(),\n",
       "                                                        [&#x27;tweet&#x27;])])),\n",
       "                (&#x27;regressor&#x27;, LogisticRegression())])</pre></div></div></div><div class=\"sk-serial\"><div class=\"sk-item sk-dashed-wrapped\"><div class=\"sk-label-container\"><div class=\"sk-label sk-toggleable\"><input class=\"sk-toggleable__control sk-hidden--visually\" id=\"sk-estimator-id-163\" type=\"checkbox\" ><label for=\"sk-estimator-id-163\" class=\"sk-toggleable__label sk-toggleable__label-arrow\">l1: CustomColumnTransformer</label><div class=\"sk-toggleable__content\"><pre>CustomColumnTransformer(transformers=[(&#x27;l1_p1&#x27;,\n",
       "                                       PipelineTransformer(pipeline=Pipeline(steps=[(&#x27;NLP&#x27;,\n",
       "                                                                                     Pipeline(steps=[(&#x27;cleaning&#x27;,\n",
       "                                                                                                      TextCleaner()),\n",
       "                                                                                                     (&#x27;series_converter&#x27;,\n",
       "                                                                                                      SeriesConverter()),\n",
       "                                                                                                     (&#x27;vectorization&#x27;,\n",
       "                                                                                                      TfidfVectorizer(max_df=0.7,\n",
       "                                                                                                                      min_df=3))])),\n",
       "                                                                                    (&#x27;regressor&#x27;,\n",
       "                                                                                     LGBMClassifier())])),\n",
       "                                       [&#x27;tweet&#x27;]),\n",
       "                                      (&#x27;l1_p2&#x27;,\n",
       "                                       PipelineTransformer(pipeline=Pipeline(steps=[(&#x27;NLP&#x27;,\n",
       "                                                                                     Pipel...\n",
       "                                                                                     &lt;catboost.core.CatBoostClassifier object at 0x000001C67C7A4100&gt;)])),\n",
       "                                       [&#x27;tweet&#x27;]),\n",
       "                                      (&#x27;l1_p4&#x27;,\n",
       "                                       PipelineTransformer(pipeline=Pipeline(steps=[(&#x27;NLP&#x27;,\n",
       "                                                                                     Pipeline(steps=[(&#x27;cleaning&#x27;,\n",
       "                                                                                                      TextCleaner()),\n",
       "                                                                                                     (&#x27;series_converter&#x27;,\n",
       "                                                                                                      SeriesConverter()),\n",
       "                                                                                                     (&#x27;vectorization&#x27;,\n",
       "                                                                                                      TfidfVectorizer(max_df=0.7,\n",
       "                                                                                                                      min_df=3))])),\n",
       "                                                                                    (&#x27;regressor&#x27;,\n",
       "                                                                                     RandomForestClassifier())])),\n",
       "                                       [&#x27;tweet&#x27;]),\n",
       "                                      (&#x27;l1_g1&#x27;, FeatureGenerator(), [&#x27;tweet&#x27;])])</pre></div></div></div><div class=\"sk-parallel\"><div class=\"sk-parallel-item\"><div class=\"sk-item\"><div class=\"sk-label-container\"><div class=\"sk-label sk-toggleable\"><input class=\"sk-toggleable__control sk-hidden--visually\" id=\"sk-estimator-id-164\" type=\"checkbox\" ><label for=\"sk-estimator-id-164\" class=\"sk-toggleable__label sk-toggleable__label-arrow\">l1_p1</label><div class=\"sk-toggleable__content\"><pre>[&#x27;tweet&#x27;]</pre></div></div></div><div class=\"sk-serial\"><div class=\"sk-item sk-dashed-wrapped\"><div class=\"sk-parallel\"><div class=\"sk-parallel-item\"><div class=\"sk-item\"><div class=\"sk-label-container\"><div class=\"sk-label sk-toggleable\"><input class=\"sk-toggleable__control sk-hidden--visually\" id=\"sk-estimator-id-165\" type=\"checkbox\" ><label for=\"sk-estimator-id-165\" class=\"sk-toggleable__label sk-toggleable__label-arrow\">pipeline: Pipeline</label><div class=\"sk-toggleable__content\"><pre>Pipeline(steps=[(&#x27;NLP&#x27;,\n",
       "                 Pipeline(steps=[(&#x27;cleaning&#x27;, TextCleaner()),\n",
       "                                 (&#x27;series_converter&#x27;, SeriesConverter()),\n",
       "                                 (&#x27;vectorization&#x27;,\n",
       "                                  TfidfVectorizer(max_df=0.7, min_df=3))])),\n",
       "                (&#x27;regressor&#x27;, LGBMClassifier())])</pre></div></div></div><div class=\"sk-serial\"><div class=\"sk-item\"><div class=\"sk-serial\"><div class=\"sk-item\"><div class=\"sk-label-container\"><div class=\"sk-label sk-toggleable\"><input class=\"sk-toggleable__control sk-hidden--visually\" id=\"sk-estimator-id-166\" type=\"checkbox\" ><label for=\"sk-estimator-id-166\" class=\"sk-toggleable__label sk-toggleable__label-arrow\">NLP: Pipeline</label><div class=\"sk-toggleable__content\"><pre>Pipeline(steps=[(&#x27;cleaning&#x27;, TextCleaner()),\n",
       "                (&#x27;series_converter&#x27;, SeriesConverter()),\n",
       "                (&#x27;vectorization&#x27;, TfidfVectorizer(max_df=0.7, min_df=3))])</pre></div></div></div><div class=\"sk-serial\"><div class=\"sk-item\"><div class=\"sk-estimator sk-toggleable\"><input class=\"sk-toggleable__control sk-hidden--visually\" id=\"sk-estimator-id-167\" type=\"checkbox\" ><label for=\"sk-estimator-id-167\" class=\"sk-toggleable__label sk-toggleable__label-arrow\">TextCleaner</label><div class=\"sk-toggleable__content\"><pre>TextCleaner()</pre></div></div></div><div class=\"sk-item\"><div class=\"sk-estimator sk-toggleable\"><input class=\"sk-toggleable__control sk-hidden--visually\" id=\"sk-estimator-id-168\" type=\"checkbox\" ><label for=\"sk-estimator-id-168\" class=\"sk-toggleable__label sk-toggleable__label-arrow\">SeriesConverter</label><div class=\"sk-toggleable__content\"><pre>SeriesConverter()</pre></div></div></div><div class=\"sk-item\"><div class=\"sk-estimator sk-toggleable\"><input class=\"sk-toggleable__control sk-hidden--visually\" id=\"sk-estimator-id-169\" type=\"checkbox\" ><label for=\"sk-estimator-id-169\" class=\"sk-toggleable__label sk-toggleable__label-arrow\">TfidfVectorizer</label><div class=\"sk-toggleable__content\"><pre>TfidfVectorizer(max_df=0.7, min_df=3)</pre></div></div></div></div></div><div class=\"sk-item\"><div class=\"sk-estimator sk-toggleable\"><input class=\"sk-toggleable__control sk-hidden--visually\" id=\"sk-estimator-id-170\" type=\"checkbox\" ><label for=\"sk-estimator-id-170\" class=\"sk-toggleable__label sk-toggleable__label-arrow\">LGBMClassifier</label><div class=\"sk-toggleable__content\"><pre>LGBMClassifier()</pre></div></div></div></div></div></div></div></div></div></div></div></div></div><div class=\"sk-parallel-item\"><div class=\"sk-item\"><div class=\"sk-label-container\"><div class=\"sk-label sk-toggleable\"><input class=\"sk-toggleable__control sk-hidden--visually\" id=\"sk-estimator-id-171\" type=\"checkbox\" ><label for=\"sk-estimator-id-171\" class=\"sk-toggleable__label sk-toggleable__label-arrow\">l1_p2</label><div class=\"sk-toggleable__content\"><pre>[&#x27;tweet&#x27;]</pre></div></div></div><div class=\"sk-serial\"><div class=\"sk-item sk-dashed-wrapped\"><div class=\"sk-parallel\"><div class=\"sk-parallel-item\"><div class=\"sk-item\"><div class=\"sk-label-container\"><div class=\"sk-label sk-toggleable\"><input class=\"sk-toggleable__control sk-hidden--visually\" id=\"sk-estimator-id-172\" type=\"checkbox\" ><label for=\"sk-estimator-id-172\" class=\"sk-toggleable__label sk-toggleable__label-arrow\">pipeline: Pipeline</label><div class=\"sk-toggleable__content\"><pre>Pipeline(steps=[(&#x27;NLP&#x27;,\n",
       "                 Pipeline(steps=[(&#x27;cleaning&#x27;, TextCleaner()),\n",
       "                                 (&#x27;series_converter&#x27;, SeriesConverter()),\n",
       "                                 (&#x27;vectorization&#x27;,\n",
       "                                  TfidfVectorizer(max_df=0.7, min_df=3))])),\n",
       "                (&#x27;regressor&#x27;, LogisticRegression())])</pre></div></div></div><div class=\"sk-serial\"><div class=\"sk-item\"><div class=\"sk-serial\"><div class=\"sk-item\"><div class=\"sk-label-container\"><div class=\"sk-label sk-toggleable\"><input class=\"sk-toggleable__control sk-hidden--visually\" id=\"sk-estimator-id-173\" type=\"checkbox\" ><label for=\"sk-estimator-id-173\" class=\"sk-toggleable__label sk-toggleable__label-arrow\">NLP: Pipeline</label><div class=\"sk-toggleable__content\"><pre>Pipeline(steps=[(&#x27;cleaning&#x27;, TextCleaner()),\n",
       "                (&#x27;series_converter&#x27;, SeriesConverter()),\n",
       "                (&#x27;vectorization&#x27;, TfidfVectorizer(max_df=0.7, min_df=3))])</pre></div></div></div><div class=\"sk-serial\"><div class=\"sk-item\"><div class=\"sk-estimator sk-toggleable\"><input class=\"sk-toggleable__control sk-hidden--visually\" id=\"sk-estimator-id-174\" type=\"checkbox\" ><label for=\"sk-estimator-id-174\" class=\"sk-toggleable__label sk-toggleable__label-arrow\">TextCleaner</label><div class=\"sk-toggleable__content\"><pre>TextCleaner()</pre></div></div></div><div class=\"sk-item\"><div class=\"sk-estimator sk-toggleable\"><input class=\"sk-toggleable__control sk-hidden--visually\" id=\"sk-estimator-id-175\" type=\"checkbox\" ><label for=\"sk-estimator-id-175\" class=\"sk-toggleable__label sk-toggleable__label-arrow\">SeriesConverter</label><div class=\"sk-toggleable__content\"><pre>SeriesConverter()</pre></div></div></div><div class=\"sk-item\"><div class=\"sk-estimator sk-toggleable\"><input class=\"sk-toggleable__control sk-hidden--visually\" id=\"sk-estimator-id-176\" type=\"checkbox\" ><label for=\"sk-estimator-id-176\" class=\"sk-toggleable__label sk-toggleable__label-arrow\">TfidfVectorizer</label><div class=\"sk-toggleable__content\"><pre>TfidfVectorizer(max_df=0.7, min_df=3)</pre></div></div></div></div></div><div class=\"sk-item\"><div class=\"sk-estimator sk-toggleable\"><input class=\"sk-toggleable__control sk-hidden--visually\" id=\"sk-estimator-id-177\" type=\"checkbox\" ><label for=\"sk-estimator-id-177\" class=\"sk-toggleable__label sk-toggleable__label-arrow\">LogisticRegression</label><div class=\"sk-toggleable__content\"><pre>LogisticRegression()</pre></div></div></div></div></div></div></div></div></div></div></div></div></div><div class=\"sk-parallel-item\"><div class=\"sk-item\"><div class=\"sk-label-container\"><div class=\"sk-label sk-toggleable\"><input class=\"sk-toggleable__control sk-hidden--visually\" id=\"sk-estimator-id-178\" type=\"checkbox\" ><label for=\"sk-estimator-id-178\" class=\"sk-toggleable__label sk-toggleable__label-arrow\">l1_p3</label><div class=\"sk-toggleable__content\"><pre>[&#x27;tweet&#x27;]</pre></div></div></div><div class=\"sk-serial\"><div class=\"sk-item sk-dashed-wrapped\"><div class=\"sk-parallel\"><div class=\"sk-parallel-item\"><div class=\"sk-item\"><div class=\"sk-label-container\"><div class=\"sk-label sk-toggleable\"><input class=\"sk-toggleable__control sk-hidden--visually\" id=\"sk-estimator-id-179\" type=\"checkbox\" ><label for=\"sk-estimator-id-179\" class=\"sk-toggleable__label sk-toggleable__label-arrow\">pipeline: Pipeline</label><div class=\"sk-toggleable__content\"><pre>Pipeline(steps=[(&#x27;NLP&#x27;,\n",
       "                 Pipeline(steps=[(&#x27;cleaning&#x27;, TextCleaner()),\n",
       "                                 (&#x27;series_converter&#x27;, SeriesConverter()),\n",
       "                                 (&#x27;vectorization&#x27;,\n",
       "                                  TfidfVectorizer(max_df=0.7, min_df=3))])),\n",
       "                (&#x27;regressor&#x27;,\n",
       "                 &lt;catboost.core.CatBoostClassifier object at 0x000001C67C7A4100&gt;)])</pre></div></div></div><div class=\"sk-serial\"><div class=\"sk-item\"><div class=\"sk-serial\"><div class=\"sk-item\"><div class=\"sk-label-container\"><div class=\"sk-label sk-toggleable\"><input class=\"sk-toggleable__control sk-hidden--visually\" id=\"sk-estimator-id-180\" type=\"checkbox\" ><label for=\"sk-estimator-id-180\" class=\"sk-toggleable__label sk-toggleable__label-arrow\">NLP: Pipeline</label><div class=\"sk-toggleable__content\"><pre>Pipeline(steps=[(&#x27;cleaning&#x27;, TextCleaner()),\n",
       "                (&#x27;series_converter&#x27;, SeriesConverter()),\n",
       "                (&#x27;vectorization&#x27;, TfidfVectorizer(max_df=0.7, min_df=3))])</pre></div></div></div><div class=\"sk-serial\"><div class=\"sk-item\"><div class=\"sk-estimator sk-toggleable\"><input class=\"sk-toggleable__control sk-hidden--visually\" id=\"sk-estimator-id-181\" type=\"checkbox\" ><label for=\"sk-estimator-id-181\" class=\"sk-toggleable__label sk-toggleable__label-arrow\">TextCleaner</label><div class=\"sk-toggleable__content\"><pre>TextCleaner()</pre></div></div></div><div class=\"sk-item\"><div class=\"sk-estimator sk-toggleable\"><input class=\"sk-toggleable__control sk-hidden--visually\" id=\"sk-estimator-id-182\" type=\"checkbox\" ><label for=\"sk-estimator-id-182\" class=\"sk-toggleable__label sk-toggleable__label-arrow\">SeriesConverter</label><div class=\"sk-toggleable__content\"><pre>SeriesConverter()</pre></div></div></div><div class=\"sk-item\"><div class=\"sk-estimator sk-toggleable\"><input class=\"sk-toggleable__control sk-hidden--visually\" id=\"sk-estimator-id-183\" type=\"checkbox\" ><label for=\"sk-estimator-id-183\" class=\"sk-toggleable__label sk-toggleable__label-arrow\">TfidfVectorizer</label><div class=\"sk-toggleable__content\"><pre>TfidfVectorizer(max_df=0.7, min_df=3)</pre></div></div></div></div></div><div class=\"sk-item\"><div class=\"sk-estimator sk-toggleable\"><input class=\"sk-toggleable__control sk-hidden--visually\" id=\"sk-estimator-id-184\" type=\"checkbox\" ><label for=\"sk-estimator-id-184\" class=\"sk-toggleable__label sk-toggleable__label-arrow\">CatBoostClassifier</label><div class=\"sk-toggleable__content\"><pre>&lt;catboost.core.CatBoostClassifier object at 0x000001C67C7A4100&gt;</pre></div></div></div></div></div></div></div></div></div></div></div></div></div><div class=\"sk-parallel-item\"><div class=\"sk-item\"><div class=\"sk-label-container\"><div class=\"sk-label sk-toggleable\"><input class=\"sk-toggleable__control sk-hidden--visually\" id=\"sk-estimator-id-185\" type=\"checkbox\" ><label for=\"sk-estimator-id-185\" class=\"sk-toggleable__label sk-toggleable__label-arrow\">l1_p4</label><div class=\"sk-toggleable__content\"><pre>[&#x27;tweet&#x27;]</pre></div></div></div><div class=\"sk-serial\"><div class=\"sk-item sk-dashed-wrapped\"><div class=\"sk-parallel\"><div class=\"sk-parallel-item\"><div class=\"sk-item\"><div class=\"sk-label-container\"><div class=\"sk-label sk-toggleable\"><input class=\"sk-toggleable__control sk-hidden--visually\" id=\"sk-estimator-id-186\" type=\"checkbox\" ><label for=\"sk-estimator-id-186\" class=\"sk-toggleable__label sk-toggleable__label-arrow\">pipeline: Pipeline</label><div class=\"sk-toggleable__content\"><pre>Pipeline(steps=[(&#x27;NLP&#x27;,\n",
       "                 Pipeline(steps=[(&#x27;cleaning&#x27;, TextCleaner()),\n",
       "                                 (&#x27;series_converter&#x27;, SeriesConverter()),\n",
       "                                 (&#x27;vectorization&#x27;,\n",
       "                                  TfidfVectorizer(max_df=0.7, min_df=3))])),\n",
       "                (&#x27;regressor&#x27;, RandomForestClassifier())])</pre></div></div></div><div class=\"sk-serial\"><div class=\"sk-item\"><div class=\"sk-serial\"><div class=\"sk-item\"><div class=\"sk-label-container\"><div class=\"sk-label sk-toggleable\"><input class=\"sk-toggleable__control sk-hidden--visually\" id=\"sk-estimator-id-187\" type=\"checkbox\" ><label for=\"sk-estimator-id-187\" class=\"sk-toggleable__label sk-toggleable__label-arrow\">NLP: Pipeline</label><div class=\"sk-toggleable__content\"><pre>Pipeline(steps=[(&#x27;cleaning&#x27;, TextCleaner()),\n",
       "                (&#x27;series_converter&#x27;, SeriesConverter()),\n",
       "                (&#x27;vectorization&#x27;, TfidfVectorizer(max_df=0.7, min_df=3))])</pre></div></div></div><div class=\"sk-serial\"><div class=\"sk-item\"><div class=\"sk-estimator sk-toggleable\"><input class=\"sk-toggleable__control sk-hidden--visually\" id=\"sk-estimator-id-188\" type=\"checkbox\" ><label for=\"sk-estimator-id-188\" class=\"sk-toggleable__label sk-toggleable__label-arrow\">TextCleaner</label><div class=\"sk-toggleable__content\"><pre>TextCleaner()</pre></div></div></div><div class=\"sk-item\"><div class=\"sk-estimator sk-toggleable\"><input class=\"sk-toggleable__control sk-hidden--visually\" id=\"sk-estimator-id-189\" type=\"checkbox\" ><label for=\"sk-estimator-id-189\" class=\"sk-toggleable__label sk-toggleable__label-arrow\">SeriesConverter</label><div class=\"sk-toggleable__content\"><pre>SeriesConverter()</pre></div></div></div><div class=\"sk-item\"><div class=\"sk-estimator sk-toggleable\"><input class=\"sk-toggleable__control sk-hidden--visually\" id=\"sk-estimator-id-190\" type=\"checkbox\" ><label for=\"sk-estimator-id-190\" class=\"sk-toggleable__label sk-toggleable__label-arrow\">TfidfVectorizer</label><div class=\"sk-toggleable__content\"><pre>TfidfVectorizer(max_df=0.7, min_df=3)</pre></div></div></div></div></div><div class=\"sk-item\"><div class=\"sk-estimator sk-toggleable\"><input class=\"sk-toggleable__control sk-hidden--visually\" id=\"sk-estimator-id-191\" type=\"checkbox\" ><label for=\"sk-estimator-id-191\" class=\"sk-toggleable__label sk-toggleable__label-arrow\">RandomForestClassifier</label><div class=\"sk-toggleable__content\"><pre>RandomForestClassifier()</pre></div></div></div></div></div></div></div></div></div></div></div></div></div><div class=\"sk-parallel-item\"><div class=\"sk-item\"><div class=\"sk-label-container\"><div class=\"sk-label sk-toggleable\"><input class=\"sk-toggleable__control sk-hidden--visually\" id=\"sk-estimator-id-192\" type=\"checkbox\" ><label for=\"sk-estimator-id-192\" class=\"sk-toggleable__label sk-toggleable__label-arrow\">l1_g1</label><div class=\"sk-toggleable__content\"><pre>[&#x27;tweet&#x27;]</pre></div></div></div><div class=\"sk-serial\"><div class=\"sk-item\"><div class=\"sk-estimator sk-toggleable\"><input class=\"sk-toggleable__control sk-hidden--visually\" id=\"sk-estimator-id-193\" type=\"checkbox\" ><label for=\"sk-estimator-id-193\" class=\"sk-toggleable__label sk-toggleable__label-arrow\">FeatureGenerator</label><div class=\"sk-toggleable__content\"><pre>FeatureGenerator()</pre></div></div></div></div></div></div></div></div><div class=\"sk-item\"><div class=\"sk-estimator sk-toggleable\"><input class=\"sk-toggleable__control sk-hidden--visually\" id=\"sk-estimator-id-194\" type=\"checkbox\" ><label for=\"sk-estimator-id-194\" class=\"sk-toggleable__label sk-toggleable__label-arrow\">LogisticRegression</label><div class=\"sk-toggleable__content\"><pre>LogisticRegression()</pre></div></div></div></div></div></div></div>"
      ],
      "text/plain": [
       "Pipeline(steps=[('l1',\n",
       "                 CustomColumnTransformer(transformers=[('l1_p1',\n",
       "                                                        PipelineTransformer(pipeline=Pipeline(steps=[('NLP',\n",
       "                                                                                                      Pipeline(steps=[('cleaning',\n",
       "                                                                                                                       TextCleaner()),\n",
       "                                                                                                                      ('series_converter',\n",
       "                                                                                                                       SeriesConverter()),\n",
       "                                                                                                                      ('vectorization',\n",
       "                                                                                                                       TfidfVectorizer(max_df=0.7,\n",
       "                                                                                                                                       min_df=3))])),\n",
       "                                                                                                     ('regressor',\n",
       "                                                                                                      LGBMClassifier())])),\n",
       "                                                        ['tweet']),\n",
       "                                                       ('l1_p2',\n",
       "                                                        PipelineTransformer(pipeline=Pipeli...\n",
       "                                                                                                      <catboost.core.CatBoostClassifier object at 0x000001C67C7A4100>)])),\n",
       "                                                        ['tweet']),\n",
       "                                                       ('l1_p4',\n",
       "                                                        PipelineTransformer(pipeline=Pipeline(steps=[('NLP',\n",
       "                                                                                                      Pipeline(steps=[('cleaning',\n",
       "                                                                                                                       TextCleaner()),\n",
       "                                                                                                                      ('series_converter',\n",
       "                                                                                                                       SeriesConverter()),\n",
       "                                                                                                                      ('vectorization',\n",
       "                                                                                                                       TfidfVectorizer(max_df=0.7,\n",
       "                                                                                                                                       min_df=3))])),\n",
       "                                                                                                     ('regressor',\n",
       "                                                                                                      RandomForestClassifier())])),\n",
       "                                                        ['tweet']),\n",
       "                                                       ('l1_g1',\n",
       "                                                        FeatureGenerator(),\n",
       "                                                        ['tweet'])])),\n",
       "                ('regressor', LogisticRegression())])"
      ]
     },
     "execution_count": 61,
     "metadata": {},
     "output_type": "execute_result"
    }
   ],
   "source": [
    "l2_pipeline_1.fit(data_sample[['tweet']], data_sample['label'])\n",
    "l2_pipeline_2.fit(data_sample[['tweet']], data_sample['label'])"
   ]
  },
  {
   "cell_type": "code",
   "execution_count": 142,
   "metadata": {
    "pycharm": {
     "name": "#%%\n"
    }
   },
   "outputs": [
    {
     "data": {
      "text/html": [
       "<style>#sk-container-id-30 {color: black;background-color: white;}#sk-container-id-30 pre{padding: 0;}#sk-container-id-30 div.sk-toggleable {background-color: white;}#sk-container-id-30 label.sk-toggleable__label {cursor: pointer;display: block;width: 100%;margin-bottom: 0;padding: 0.3em;box-sizing: border-box;text-align: center;}#sk-container-id-30 label.sk-toggleable__label-arrow:before {content: \"▸\";float: left;margin-right: 0.25em;color: #696969;}#sk-container-id-30 label.sk-toggleable__label-arrow:hover:before {color: black;}#sk-container-id-30 div.sk-estimator:hover label.sk-toggleable__label-arrow:before {color: black;}#sk-container-id-30 div.sk-toggleable__content {max-height: 0;max-width: 0;overflow: hidden;text-align: left;background-color: #f0f8ff;}#sk-container-id-30 div.sk-toggleable__content pre {margin: 0.2em;color: black;border-radius: 0.25em;background-color: #f0f8ff;}#sk-container-id-30 input.sk-toggleable__control:checked~div.sk-toggleable__content {max-height: 200px;max-width: 100%;overflow: auto;}#sk-container-id-30 input.sk-toggleable__control:checked~label.sk-toggleable__label-arrow:before {content: \"▾\";}#sk-container-id-30 div.sk-estimator input.sk-toggleable__control:checked~label.sk-toggleable__label {background-color: #d4ebff;}#sk-container-id-30 div.sk-label input.sk-toggleable__control:checked~label.sk-toggleable__label {background-color: #d4ebff;}#sk-container-id-30 input.sk-hidden--visually {border: 0;clip: rect(1px 1px 1px 1px);clip: rect(1px, 1px, 1px, 1px);height: 1px;margin: -1px;overflow: hidden;padding: 0;position: absolute;width: 1px;}#sk-container-id-30 div.sk-estimator {font-family: monospace;background-color: #f0f8ff;border: 1px dotted black;border-radius: 0.25em;box-sizing: border-box;margin-bottom: 0.5em;}#sk-container-id-30 div.sk-estimator:hover {background-color: #d4ebff;}#sk-container-id-30 div.sk-parallel-item::after {content: \"\";width: 100%;border-bottom: 1px solid gray;flex-grow: 1;}#sk-container-id-30 div.sk-label:hover label.sk-toggleable__label {background-color: #d4ebff;}#sk-container-id-30 div.sk-serial::before {content: \"\";position: absolute;border-left: 1px solid gray;box-sizing: border-box;top: 0;bottom: 0;left: 50%;z-index: 0;}#sk-container-id-30 div.sk-serial {display: flex;flex-direction: column;align-items: center;background-color: white;padding-right: 0.2em;padding-left: 0.2em;position: relative;}#sk-container-id-30 div.sk-item {position: relative;z-index: 1;}#sk-container-id-30 div.sk-parallel {display: flex;align-items: stretch;justify-content: center;background-color: white;position: relative;}#sk-container-id-30 div.sk-item::before, #sk-container-id-30 div.sk-parallel-item::before {content: \"\";position: absolute;border-left: 1px solid gray;box-sizing: border-box;top: 0;bottom: 0;left: 50%;z-index: -1;}#sk-container-id-30 div.sk-parallel-item {display: flex;flex-direction: column;z-index: 1;position: relative;background-color: white;}#sk-container-id-30 div.sk-parallel-item:first-child::after {align-self: flex-end;width: 50%;}#sk-container-id-30 div.sk-parallel-item:last-child::after {align-self: flex-start;width: 50%;}#sk-container-id-30 div.sk-parallel-item:only-child::after {width: 0;}#sk-container-id-30 div.sk-dashed-wrapped {border: 1px dashed gray;margin: 0 0.4em 0.5em 0.4em;box-sizing: border-box;padding-bottom: 0.4em;background-color: white;}#sk-container-id-30 div.sk-label label {font-family: monospace;font-weight: bold;display: inline-block;line-height: 1.2em;}#sk-container-id-30 div.sk-label-container {text-align: center;}#sk-container-id-30 div.sk-container {/* jupyter's `normalize.less` sets `[hidden] { display: none; }` but bootstrap.min.css set `[hidden] { display: none !important; }` so we also need the `!important` here to be able to override the default hidden behavior on the sphinx rendered scikit-learn.org. See: https://github.com/scikit-learn/scikit-learn/issues/21755 */display: inline-block !important;position: relative;}#sk-container-id-30 div.sk-text-repr-fallback {display: none;}</style><div id=\"sk-container-id-30\" class=\"sk-top-container\"><div class=\"sk-text-repr-fallback\"><pre>Pipeline(steps=[(&#x27;l1&#x27;,\n",
       "                 CustomCT(transformers=[(&#x27;l1_p1&#x27;,\n",
       "                                         PipelineTransformer(pipeline=Pipeline(steps=[(&#x27;NLP&#x27;,\n",
       "                                                                                       Pipeline(steps=[(&#x27;cleaning&#x27;,\n",
       "                                                                                                        TextCleaner()),\n",
       "                                                                                                       (&#x27;series_converter&#x27;,\n",
       "                                                                                                        SeriesConverter()),\n",
       "                                                                                                       (&#x27;vectorization&#x27;,\n",
       "                                                                                                        TfidfVectorizer(max_df=0.7,\n",
       "                                                                                                                        min_df=3))])),\n",
       "                                                                                      (&#x27;regressor&#x27;,\n",
       "                                                                                       LGBMClassifier())])),\n",
       "                                         [&#x27;tweet&#x27;]),\n",
       "                                        (&#x27;l1_p2&#x27;,\n",
       "                                         PipelineTransformer(pipeline=Pipeline(steps=[(&#x27;NLP...\n",
       "                                                                                       &lt;catboost.core.CatBoostClassifier object at 0x0000021D3C79C370&gt;)])),\n",
       "                                         [&#x27;tweet&#x27;]),\n",
       "                                        (&#x27;l1_p4&#x27;,\n",
       "                                         PipelineTransformer(pipeline=Pipeline(steps=[(&#x27;NLP&#x27;,\n",
       "                                                                                       Pipeline(steps=[(&#x27;cleaning&#x27;,\n",
       "                                                                                                        TextCleaner()),\n",
       "                                                                                                       (&#x27;series_converter&#x27;,\n",
       "                                                                                                        SeriesConverter()),\n",
       "                                                                                                       (&#x27;vectorization&#x27;,\n",
       "                                                                                                        TfidfVectorizer(max_df=0.7,\n",
       "                                                                                                                        min_df=3))])),\n",
       "                                                                                      (&#x27;regressor&#x27;,\n",
       "                                                                                       RandomForestClassifier())])),\n",
       "                                         [&#x27;tweet&#x27;]),\n",
       "                                        (&#x27;l1_g1&#x27;, FeatureGenerator(),\n",
       "                                         [&#x27;tweet&#x27;])])),\n",
       "                (&#x27;regressor&#x27;, RandomForestClassifier())])</pre><b>In a Jupyter environment, please rerun this cell to show the HTML representation or trust the notebook. <br />On GitHub, the HTML representation is unable to render, please try loading this page with nbviewer.org.</b></div><div class=\"sk-container\" hidden><div class=\"sk-item sk-dashed-wrapped\"><div class=\"sk-label-container\"><div class=\"sk-label sk-toggleable\"><input class=\"sk-toggleable__control sk-hidden--visually\" id=\"sk-estimator-id-307\" type=\"checkbox\" ><label for=\"sk-estimator-id-307\" class=\"sk-toggleable__label sk-toggleable__label-arrow\">Pipeline</label><div class=\"sk-toggleable__content\"><pre>Pipeline(steps=[(&#x27;l1&#x27;,\n",
       "                 CustomCT(transformers=[(&#x27;l1_p1&#x27;,\n",
       "                                         PipelineTransformer(pipeline=Pipeline(steps=[(&#x27;NLP&#x27;,\n",
       "                                                                                       Pipeline(steps=[(&#x27;cleaning&#x27;,\n",
       "                                                                                                        TextCleaner()),\n",
       "                                                                                                       (&#x27;series_converter&#x27;,\n",
       "                                                                                                        SeriesConverter()),\n",
       "                                                                                                       (&#x27;vectorization&#x27;,\n",
       "                                                                                                        TfidfVectorizer(max_df=0.7,\n",
       "                                                                                                                        min_df=3))])),\n",
       "                                                                                      (&#x27;regressor&#x27;,\n",
       "                                                                                       LGBMClassifier())])),\n",
       "                                         [&#x27;tweet&#x27;]),\n",
       "                                        (&#x27;l1_p2&#x27;,\n",
       "                                         PipelineTransformer(pipeline=Pipeline(steps=[(&#x27;NLP...\n",
       "                                                                                       &lt;catboost.core.CatBoostClassifier object at 0x0000021D3C79C370&gt;)])),\n",
       "                                         [&#x27;tweet&#x27;]),\n",
       "                                        (&#x27;l1_p4&#x27;,\n",
       "                                         PipelineTransformer(pipeline=Pipeline(steps=[(&#x27;NLP&#x27;,\n",
       "                                                                                       Pipeline(steps=[(&#x27;cleaning&#x27;,\n",
       "                                                                                                        TextCleaner()),\n",
       "                                                                                                       (&#x27;series_converter&#x27;,\n",
       "                                                                                                        SeriesConverter()),\n",
       "                                                                                                       (&#x27;vectorization&#x27;,\n",
       "                                                                                                        TfidfVectorizer(max_df=0.7,\n",
       "                                                                                                                        min_df=3))])),\n",
       "                                                                                      (&#x27;regressor&#x27;,\n",
       "                                                                                       RandomForestClassifier())])),\n",
       "                                         [&#x27;tweet&#x27;]),\n",
       "                                        (&#x27;l1_g1&#x27;, FeatureGenerator(),\n",
       "                                         [&#x27;tweet&#x27;])])),\n",
       "                (&#x27;regressor&#x27;, RandomForestClassifier())])</pre></div></div></div><div class=\"sk-serial\"><div class=\"sk-item sk-dashed-wrapped\"><div class=\"sk-label-container\"><div class=\"sk-label sk-toggleable\"><input class=\"sk-toggleable__control sk-hidden--visually\" id=\"sk-estimator-id-308\" type=\"checkbox\" ><label for=\"sk-estimator-id-308\" class=\"sk-toggleable__label sk-toggleable__label-arrow\">l1: CustomCT</label><div class=\"sk-toggleable__content\"><pre>CustomCT(transformers=[(&#x27;l1_p1&#x27;,\n",
       "                        PipelineTransformer(pipeline=Pipeline(steps=[(&#x27;NLP&#x27;,\n",
       "                                                                      Pipeline(steps=[(&#x27;cleaning&#x27;,\n",
       "                                                                                       TextCleaner()),\n",
       "                                                                                      (&#x27;series_converter&#x27;,\n",
       "                                                                                       SeriesConverter()),\n",
       "                                                                                      (&#x27;vectorization&#x27;,\n",
       "                                                                                       TfidfVectorizer(max_df=0.7,\n",
       "                                                                                                       min_df=3))])),\n",
       "                                                                     (&#x27;regressor&#x27;,\n",
       "                                                                      LGBMClassifier())])),\n",
       "                        [&#x27;tweet&#x27;]),\n",
       "                       (&#x27;l1_p2&#x27;,\n",
       "                        PipelineTransformer(pipeline=Pipeline(steps=[(&#x27;NLP&#x27;,\n",
       "                                                                      Pipeline(steps=[(&#x27;cl...\n",
       "                                                                      &lt;catboost.core.CatBoostClassifier object at 0x0000021D3C79C370&gt;)])),\n",
       "                        [&#x27;tweet&#x27;]),\n",
       "                       (&#x27;l1_p4&#x27;,\n",
       "                        PipelineTransformer(pipeline=Pipeline(steps=[(&#x27;NLP&#x27;,\n",
       "                                                                      Pipeline(steps=[(&#x27;cleaning&#x27;,\n",
       "                                                                                       TextCleaner()),\n",
       "                                                                                      (&#x27;series_converter&#x27;,\n",
       "                                                                                       SeriesConverter()),\n",
       "                                                                                      (&#x27;vectorization&#x27;,\n",
       "                                                                                       TfidfVectorizer(max_df=0.7,\n",
       "                                                                                                       min_df=3))])),\n",
       "                                                                     (&#x27;regressor&#x27;,\n",
       "                                                                      RandomForestClassifier())])),\n",
       "                        [&#x27;tweet&#x27;]),\n",
       "                       (&#x27;l1_g1&#x27;, FeatureGenerator(), [&#x27;tweet&#x27;])])</pre></div></div></div><div class=\"sk-parallel\"><div class=\"sk-parallel-item\"><div class=\"sk-item\"><div class=\"sk-label-container\"><div class=\"sk-label sk-toggleable\"><input class=\"sk-toggleable__control sk-hidden--visually\" id=\"sk-estimator-id-309\" type=\"checkbox\" ><label for=\"sk-estimator-id-309\" class=\"sk-toggleable__label sk-toggleable__label-arrow\">l1_p1</label><div class=\"sk-toggleable__content\"><pre>[&#x27;tweet&#x27;]</pre></div></div></div><div class=\"sk-serial\"><div class=\"sk-item sk-dashed-wrapped\"><div class=\"sk-parallel\"><div class=\"sk-parallel-item\"><div class=\"sk-item\"><div class=\"sk-label-container\"><div class=\"sk-label sk-toggleable\"><input class=\"sk-toggleable__control sk-hidden--visually\" id=\"sk-estimator-id-310\" type=\"checkbox\" ><label for=\"sk-estimator-id-310\" class=\"sk-toggleable__label sk-toggleable__label-arrow\">pipeline: Pipeline</label><div class=\"sk-toggleable__content\"><pre>Pipeline(steps=[(&#x27;NLP&#x27;,\n",
       "                 Pipeline(steps=[(&#x27;cleaning&#x27;, TextCleaner()),\n",
       "                                 (&#x27;series_converter&#x27;, SeriesConverter()),\n",
       "                                 (&#x27;vectorization&#x27;,\n",
       "                                  TfidfVectorizer(max_df=0.7, min_df=3))])),\n",
       "                (&#x27;regressor&#x27;, LGBMClassifier())])</pre></div></div></div><div class=\"sk-serial\"><div class=\"sk-item\"><div class=\"sk-serial\"><div class=\"sk-item\"><div class=\"sk-label-container\"><div class=\"sk-label sk-toggleable\"><input class=\"sk-toggleable__control sk-hidden--visually\" id=\"sk-estimator-id-311\" type=\"checkbox\" ><label for=\"sk-estimator-id-311\" class=\"sk-toggleable__label sk-toggleable__label-arrow\">NLP: Pipeline</label><div class=\"sk-toggleable__content\"><pre>Pipeline(steps=[(&#x27;cleaning&#x27;, TextCleaner()),\n",
       "                (&#x27;series_converter&#x27;, SeriesConverter()),\n",
       "                (&#x27;vectorization&#x27;, TfidfVectorizer(max_df=0.7, min_df=3))])</pre></div></div></div><div class=\"sk-serial\"><div class=\"sk-item\"><div class=\"sk-estimator sk-toggleable\"><input class=\"sk-toggleable__control sk-hidden--visually\" id=\"sk-estimator-id-312\" type=\"checkbox\" ><label for=\"sk-estimator-id-312\" class=\"sk-toggleable__label sk-toggleable__label-arrow\">TextCleaner</label><div class=\"sk-toggleable__content\"><pre>TextCleaner()</pre></div></div></div><div class=\"sk-item\"><div class=\"sk-estimator sk-toggleable\"><input class=\"sk-toggleable__control sk-hidden--visually\" id=\"sk-estimator-id-313\" type=\"checkbox\" ><label for=\"sk-estimator-id-313\" class=\"sk-toggleable__label sk-toggleable__label-arrow\">SeriesConverter</label><div class=\"sk-toggleable__content\"><pre>SeriesConverter()</pre></div></div></div><div class=\"sk-item\"><div class=\"sk-estimator sk-toggleable\"><input class=\"sk-toggleable__control sk-hidden--visually\" id=\"sk-estimator-id-314\" type=\"checkbox\" ><label for=\"sk-estimator-id-314\" class=\"sk-toggleable__label sk-toggleable__label-arrow\">TfidfVectorizer</label><div class=\"sk-toggleable__content\"><pre>TfidfVectorizer(max_df=0.7, min_df=3)</pre></div></div></div></div></div><div class=\"sk-item\"><div class=\"sk-estimator sk-toggleable\"><input class=\"sk-toggleable__control sk-hidden--visually\" id=\"sk-estimator-id-315\" type=\"checkbox\" ><label for=\"sk-estimator-id-315\" class=\"sk-toggleable__label sk-toggleable__label-arrow\">LGBMClassifier</label><div class=\"sk-toggleable__content\"><pre>LGBMClassifier()</pre></div></div></div></div></div></div></div></div></div></div></div></div></div><div class=\"sk-parallel-item\"><div class=\"sk-item\"><div class=\"sk-label-container\"><div class=\"sk-label sk-toggleable\"><input class=\"sk-toggleable__control sk-hidden--visually\" id=\"sk-estimator-id-316\" type=\"checkbox\" ><label for=\"sk-estimator-id-316\" class=\"sk-toggleable__label sk-toggleable__label-arrow\">l1_p2</label><div class=\"sk-toggleable__content\"><pre>[&#x27;tweet&#x27;]</pre></div></div></div><div class=\"sk-serial\"><div class=\"sk-item sk-dashed-wrapped\"><div class=\"sk-parallel\"><div class=\"sk-parallel-item\"><div class=\"sk-item\"><div class=\"sk-label-container\"><div class=\"sk-label sk-toggleable\"><input class=\"sk-toggleable__control sk-hidden--visually\" id=\"sk-estimator-id-317\" type=\"checkbox\" ><label for=\"sk-estimator-id-317\" class=\"sk-toggleable__label sk-toggleable__label-arrow\">pipeline: Pipeline</label><div class=\"sk-toggleable__content\"><pre>Pipeline(steps=[(&#x27;NLP&#x27;,\n",
       "                 Pipeline(steps=[(&#x27;cleaning&#x27;, TextCleaner()),\n",
       "                                 (&#x27;series_converter&#x27;, SeriesConverter()),\n",
       "                                 (&#x27;vectorization&#x27;,\n",
       "                                  TfidfVectorizer(max_df=0.7, min_df=3))])),\n",
       "                (&#x27;regressor&#x27;, LogisticRegression())])</pre></div></div></div><div class=\"sk-serial\"><div class=\"sk-item\"><div class=\"sk-serial\"><div class=\"sk-item\"><div class=\"sk-label-container\"><div class=\"sk-label sk-toggleable\"><input class=\"sk-toggleable__control sk-hidden--visually\" id=\"sk-estimator-id-318\" type=\"checkbox\" ><label for=\"sk-estimator-id-318\" class=\"sk-toggleable__label sk-toggleable__label-arrow\">NLP: Pipeline</label><div class=\"sk-toggleable__content\"><pre>Pipeline(steps=[(&#x27;cleaning&#x27;, TextCleaner()),\n",
       "                (&#x27;series_converter&#x27;, SeriesConverter()),\n",
       "                (&#x27;vectorization&#x27;, TfidfVectorizer(max_df=0.7, min_df=3))])</pre></div></div></div><div class=\"sk-serial\"><div class=\"sk-item\"><div class=\"sk-estimator sk-toggleable\"><input class=\"sk-toggleable__control sk-hidden--visually\" id=\"sk-estimator-id-319\" type=\"checkbox\" ><label for=\"sk-estimator-id-319\" class=\"sk-toggleable__label sk-toggleable__label-arrow\">TextCleaner</label><div class=\"sk-toggleable__content\"><pre>TextCleaner()</pre></div></div></div><div class=\"sk-item\"><div class=\"sk-estimator sk-toggleable\"><input class=\"sk-toggleable__control sk-hidden--visually\" id=\"sk-estimator-id-320\" type=\"checkbox\" ><label for=\"sk-estimator-id-320\" class=\"sk-toggleable__label sk-toggleable__label-arrow\">SeriesConverter</label><div class=\"sk-toggleable__content\"><pre>SeriesConverter()</pre></div></div></div><div class=\"sk-item\"><div class=\"sk-estimator sk-toggleable\"><input class=\"sk-toggleable__control sk-hidden--visually\" id=\"sk-estimator-id-321\" type=\"checkbox\" ><label for=\"sk-estimator-id-321\" class=\"sk-toggleable__label sk-toggleable__label-arrow\">TfidfVectorizer</label><div class=\"sk-toggleable__content\"><pre>TfidfVectorizer(max_df=0.7, min_df=3)</pre></div></div></div></div></div><div class=\"sk-item\"><div class=\"sk-estimator sk-toggleable\"><input class=\"sk-toggleable__control sk-hidden--visually\" id=\"sk-estimator-id-322\" type=\"checkbox\" ><label for=\"sk-estimator-id-322\" class=\"sk-toggleable__label sk-toggleable__label-arrow\">LogisticRegression</label><div class=\"sk-toggleable__content\"><pre>LogisticRegression()</pre></div></div></div></div></div></div></div></div></div></div></div></div></div><div class=\"sk-parallel-item\"><div class=\"sk-item\"><div class=\"sk-label-container\"><div class=\"sk-label sk-toggleable\"><input class=\"sk-toggleable__control sk-hidden--visually\" id=\"sk-estimator-id-323\" type=\"checkbox\" ><label for=\"sk-estimator-id-323\" class=\"sk-toggleable__label sk-toggleable__label-arrow\">l1_p3</label><div class=\"sk-toggleable__content\"><pre>[&#x27;tweet&#x27;]</pre></div></div></div><div class=\"sk-serial\"><div class=\"sk-item sk-dashed-wrapped\"><div class=\"sk-parallel\"><div class=\"sk-parallel-item\"><div class=\"sk-item\"><div class=\"sk-label-container\"><div class=\"sk-label sk-toggleable\"><input class=\"sk-toggleable__control sk-hidden--visually\" id=\"sk-estimator-id-324\" type=\"checkbox\" ><label for=\"sk-estimator-id-324\" class=\"sk-toggleable__label sk-toggleable__label-arrow\">pipeline: Pipeline</label><div class=\"sk-toggleable__content\"><pre>Pipeline(steps=[(&#x27;NLP&#x27;,\n",
       "                 Pipeline(steps=[(&#x27;cleaning&#x27;, TextCleaner()),\n",
       "                                 (&#x27;series_converter&#x27;, SeriesConverter()),\n",
       "                                 (&#x27;vectorization&#x27;,\n",
       "                                  TfidfVectorizer(max_df=0.7, min_df=3))])),\n",
       "                (&#x27;regressor&#x27;,\n",
       "                 &lt;catboost.core.CatBoostClassifier object at 0x0000021D3C79C370&gt;)])</pre></div></div></div><div class=\"sk-serial\"><div class=\"sk-item\"><div class=\"sk-serial\"><div class=\"sk-item\"><div class=\"sk-label-container\"><div class=\"sk-label sk-toggleable\"><input class=\"sk-toggleable__control sk-hidden--visually\" id=\"sk-estimator-id-325\" type=\"checkbox\" ><label for=\"sk-estimator-id-325\" class=\"sk-toggleable__label sk-toggleable__label-arrow\">NLP: Pipeline</label><div class=\"sk-toggleable__content\"><pre>Pipeline(steps=[(&#x27;cleaning&#x27;, TextCleaner()),\n",
       "                (&#x27;series_converter&#x27;, SeriesConverter()),\n",
       "                (&#x27;vectorization&#x27;, TfidfVectorizer(max_df=0.7, min_df=3))])</pre></div></div></div><div class=\"sk-serial\"><div class=\"sk-item\"><div class=\"sk-estimator sk-toggleable\"><input class=\"sk-toggleable__control sk-hidden--visually\" id=\"sk-estimator-id-326\" type=\"checkbox\" ><label for=\"sk-estimator-id-326\" class=\"sk-toggleable__label sk-toggleable__label-arrow\">TextCleaner</label><div class=\"sk-toggleable__content\"><pre>TextCleaner()</pre></div></div></div><div class=\"sk-item\"><div class=\"sk-estimator sk-toggleable\"><input class=\"sk-toggleable__control sk-hidden--visually\" id=\"sk-estimator-id-327\" type=\"checkbox\" ><label for=\"sk-estimator-id-327\" class=\"sk-toggleable__label sk-toggleable__label-arrow\">SeriesConverter</label><div class=\"sk-toggleable__content\"><pre>SeriesConverter()</pre></div></div></div><div class=\"sk-item\"><div class=\"sk-estimator sk-toggleable\"><input class=\"sk-toggleable__control sk-hidden--visually\" id=\"sk-estimator-id-328\" type=\"checkbox\" ><label for=\"sk-estimator-id-328\" class=\"sk-toggleable__label sk-toggleable__label-arrow\">TfidfVectorizer</label><div class=\"sk-toggleable__content\"><pre>TfidfVectorizer(max_df=0.7, min_df=3)</pre></div></div></div></div></div><div class=\"sk-item\"><div class=\"sk-estimator sk-toggleable\"><input class=\"sk-toggleable__control sk-hidden--visually\" id=\"sk-estimator-id-329\" type=\"checkbox\" ><label for=\"sk-estimator-id-329\" class=\"sk-toggleable__label sk-toggleable__label-arrow\">CatBoostClassifier</label><div class=\"sk-toggleable__content\"><pre>&lt;catboost.core.CatBoostClassifier object at 0x0000021D3C79C370&gt;</pre></div></div></div></div></div></div></div></div></div></div></div></div></div><div class=\"sk-parallel-item\"><div class=\"sk-item\"><div class=\"sk-label-container\"><div class=\"sk-label sk-toggleable\"><input class=\"sk-toggleable__control sk-hidden--visually\" id=\"sk-estimator-id-330\" type=\"checkbox\" ><label for=\"sk-estimator-id-330\" class=\"sk-toggleable__label sk-toggleable__label-arrow\">l1_p4</label><div class=\"sk-toggleable__content\"><pre>[&#x27;tweet&#x27;]</pre></div></div></div><div class=\"sk-serial\"><div class=\"sk-item sk-dashed-wrapped\"><div class=\"sk-parallel\"><div class=\"sk-parallel-item\"><div class=\"sk-item\"><div class=\"sk-label-container\"><div class=\"sk-label sk-toggleable\"><input class=\"sk-toggleable__control sk-hidden--visually\" id=\"sk-estimator-id-331\" type=\"checkbox\" ><label for=\"sk-estimator-id-331\" class=\"sk-toggleable__label sk-toggleable__label-arrow\">pipeline: Pipeline</label><div class=\"sk-toggleable__content\"><pre>Pipeline(steps=[(&#x27;NLP&#x27;,\n",
       "                 Pipeline(steps=[(&#x27;cleaning&#x27;, TextCleaner()),\n",
       "                                 (&#x27;series_converter&#x27;, SeriesConverter()),\n",
       "                                 (&#x27;vectorization&#x27;,\n",
       "                                  TfidfVectorizer(max_df=0.7, min_df=3))])),\n",
       "                (&#x27;regressor&#x27;, RandomForestClassifier())])</pre></div></div></div><div class=\"sk-serial\"><div class=\"sk-item\"><div class=\"sk-serial\"><div class=\"sk-item\"><div class=\"sk-label-container\"><div class=\"sk-label sk-toggleable\"><input class=\"sk-toggleable__control sk-hidden--visually\" id=\"sk-estimator-id-332\" type=\"checkbox\" ><label for=\"sk-estimator-id-332\" class=\"sk-toggleable__label sk-toggleable__label-arrow\">NLP: Pipeline</label><div class=\"sk-toggleable__content\"><pre>Pipeline(steps=[(&#x27;cleaning&#x27;, TextCleaner()),\n",
       "                (&#x27;series_converter&#x27;, SeriesConverter()),\n",
       "                (&#x27;vectorization&#x27;, TfidfVectorizer(max_df=0.7, min_df=3))])</pre></div></div></div><div class=\"sk-serial\"><div class=\"sk-item\"><div class=\"sk-estimator sk-toggleable\"><input class=\"sk-toggleable__control sk-hidden--visually\" id=\"sk-estimator-id-333\" type=\"checkbox\" ><label for=\"sk-estimator-id-333\" class=\"sk-toggleable__label sk-toggleable__label-arrow\">TextCleaner</label><div class=\"sk-toggleable__content\"><pre>TextCleaner()</pre></div></div></div><div class=\"sk-item\"><div class=\"sk-estimator sk-toggleable\"><input class=\"sk-toggleable__control sk-hidden--visually\" id=\"sk-estimator-id-334\" type=\"checkbox\" ><label for=\"sk-estimator-id-334\" class=\"sk-toggleable__label sk-toggleable__label-arrow\">SeriesConverter</label><div class=\"sk-toggleable__content\"><pre>SeriesConverter()</pre></div></div></div><div class=\"sk-item\"><div class=\"sk-estimator sk-toggleable\"><input class=\"sk-toggleable__control sk-hidden--visually\" id=\"sk-estimator-id-335\" type=\"checkbox\" ><label for=\"sk-estimator-id-335\" class=\"sk-toggleable__label sk-toggleable__label-arrow\">TfidfVectorizer</label><div class=\"sk-toggleable__content\"><pre>TfidfVectorizer(max_df=0.7, min_df=3)</pre></div></div></div></div></div><div class=\"sk-item\"><div class=\"sk-estimator sk-toggleable\"><input class=\"sk-toggleable__control sk-hidden--visually\" id=\"sk-estimator-id-336\" type=\"checkbox\" ><label for=\"sk-estimator-id-336\" class=\"sk-toggleable__label sk-toggleable__label-arrow\">RandomForestClassifier</label><div class=\"sk-toggleable__content\"><pre>RandomForestClassifier()</pre></div></div></div></div></div></div></div></div></div></div></div></div></div><div class=\"sk-parallel-item\"><div class=\"sk-item\"><div class=\"sk-label-container\"><div class=\"sk-label sk-toggleable\"><input class=\"sk-toggleable__control sk-hidden--visually\" id=\"sk-estimator-id-337\" type=\"checkbox\" ><label for=\"sk-estimator-id-337\" class=\"sk-toggleable__label sk-toggleable__label-arrow\">l1_g1</label><div class=\"sk-toggleable__content\"><pre>[&#x27;tweet&#x27;]</pre></div></div></div><div class=\"sk-serial\"><div class=\"sk-item\"><div class=\"sk-estimator sk-toggleable\"><input class=\"sk-toggleable__control sk-hidden--visually\" id=\"sk-estimator-id-338\" type=\"checkbox\" ><label for=\"sk-estimator-id-338\" class=\"sk-toggleable__label sk-toggleable__label-arrow\">FeatureGenerator</label><div class=\"sk-toggleable__content\"><pre>FeatureGenerator()</pre></div></div></div></div></div></div></div></div><div class=\"sk-item\"><div class=\"sk-estimator sk-toggleable\"><input class=\"sk-toggleable__control sk-hidden--visually\" id=\"sk-estimator-id-339\" type=\"checkbox\" ><label for=\"sk-estimator-id-339\" class=\"sk-toggleable__label sk-toggleable__label-arrow\">RandomForestClassifier</label><div class=\"sk-toggleable__content\"><pre>RandomForestClassifier()</pre></div></div></div></div></div></div></div>"
      ],
      "text/plain": [
       "Pipeline(steps=[('l1',\n",
       "                 CustomCT(transformers=[('l1_p1',\n",
       "                                         PipelineTransformer(pipeline=Pipeline(steps=[('NLP',\n",
       "                                                                                       Pipeline(steps=[('cleaning',\n",
       "                                                                                                        TextCleaner()),\n",
       "                                                                                                       ('series_converter',\n",
       "                                                                                                        SeriesConverter()),\n",
       "                                                                                                       ('vectorization',\n",
       "                                                                                                        TfidfVectorizer(max_df=0.7,\n",
       "                                                                                                                        min_df=3))])),\n",
       "                                                                                      ('regressor',\n",
       "                                                                                       LGBMClassifier())])),\n",
       "                                         ['tweet']),\n",
       "                                        ('l1_p2',\n",
       "                                         PipelineTransformer(pipeline=Pipeline(steps=[('NLP...\n",
       "                                                                                       <catboost.core.CatBoostClassifier object at 0x0000021D3C79C370>)])),\n",
       "                                         ['tweet']),\n",
       "                                        ('l1_p4',\n",
       "                                         PipelineTransformer(pipeline=Pipeline(steps=[('NLP',\n",
       "                                                                                       Pipeline(steps=[('cleaning',\n",
       "                                                                                                        TextCleaner()),\n",
       "                                                                                                       ('series_converter',\n",
       "                                                                                                        SeriesConverter()),\n",
       "                                                                                                       ('vectorization',\n",
       "                                                                                                        TfidfVectorizer(max_df=0.7,\n",
       "                                                                                                                        min_df=3))])),\n",
       "                                                                                      ('regressor',\n",
       "                                                                                       RandomForestClassifier())])),\n",
       "                                         ['tweet']),\n",
       "                                        ('l1_g1', FeatureGenerator(),\n",
       "                                         ['tweet'])])),\n",
       "                ('regressor', RandomForestClassifier())])"
      ]
     },
     "execution_count": 142,
     "metadata": {},
     "output_type": "execute_result"
    }
   ],
   "source": [
    "l2_pipeline_1"
   ]
  },
  {
   "cell_type": "code",
   "execution_count": 65,
   "metadata": {
    "pycharm": {
     "name": "#%%\n"
    }
   },
   "outputs": [
    {
     "data": {
      "text/html": [
       "<div>\n",
       "<style scoped>\n",
       "    .dataframe tbody tr th:only-of-type {\n",
       "        vertical-align: middle;\n",
       "    }\n",
       "\n",
       "    .dataframe tbody tr th {\n",
       "        vertical-align: top;\n",
       "    }\n",
       "\n",
       "    .dataframe thead th {\n",
       "        text-align: right;\n",
       "    }\n",
       "</style>\n",
       "<table border=\"1\" class=\"dataframe\">\n",
       "  <thead>\n",
       "    <tr style=\"text-align: right;\">\n",
       "      <th></th>\n",
       "      <th>feature</th>\n",
       "      <th>weight</th>\n",
       "      <th>std</th>\n",
       "    </tr>\n",
       "  </thead>\n",
       "  <tbody>\n",
       "    <tr>\n",
       "      <th>0</th>\n",
       "      <td>l1_g1_sentiment_score_of_row</td>\n",
       "      <td>0.664683</td>\n",
       "      <td>0.452590</td>\n",
       "    </tr>\n",
       "    <tr>\n",
       "      <th>1</th>\n",
       "      <td>l1_g1_number_of_words_in_row</td>\n",
       "      <td>0.335317</td>\n",
       "      <td>0.400713</td>\n",
       "    </tr>\n",
       "    <tr>\n",
       "      <th>2</th>\n",
       "      <td>l1_g1_number_of_full_stops</td>\n",
       "      <td>0.000000</td>\n",
       "      <td>0.000000</td>\n",
       "    </tr>\n",
       "    <tr>\n",
       "      <th>3</th>\n",
       "      <td>l1_g1_number_of_question_marks</td>\n",
       "      <td>0.000000</td>\n",
       "      <td>0.000000</td>\n",
       "    </tr>\n",
       "    <tr>\n",
       "      <th>4</th>\n",
       "      <td>l1_g1_number_of_excl_points</td>\n",
       "      <td>0.000000</td>\n",
       "      <td>0.000000</td>\n",
       "    </tr>\n",
       "    <tr>\n",
       "      <th>5</th>\n",
       "      <td>l1_g1_number_of_commas</td>\n",
       "      <td>0.000000</td>\n",
       "      <td>0.000000</td>\n",
       "    </tr>\n",
       "    <tr>\n",
       "      <th>6</th>\n",
       "      <td>l1_g1_contains_profanity_words_flag</td>\n",
       "      <td>0.000000</td>\n",
       "      <td>0.000000</td>\n",
       "    </tr>\n",
       "    <tr>\n",
       "      <th>7</th>\n",
       "      <td>l1_g1_rt_flag</td>\n",
       "      <td>0.000000</td>\n",
       "      <td>0.000000</td>\n",
       "    </tr>\n",
       "    <tr>\n",
       "      <th>8</th>\n",
       "      <td>l1_p4_RandomForestClassifier</td>\n",
       "      <td>0.000000</td>\n",
       "      <td>0.000000</td>\n",
       "    </tr>\n",
       "    <tr>\n",
       "      <th>9</th>\n",
       "      <td>l1_p3_CatBoostClassifier</td>\n",
       "      <td>0.000000</td>\n",
       "      <td>0.000000</td>\n",
       "    </tr>\n",
       "    <tr>\n",
       "      <th>10</th>\n",
       "      <td>l1_p2_LogisticRegression</td>\n",
       "      <td>0.000000</td>\n",
       "      <td>0.000000</td>\n",
       "    </tr>\n",
       "    <tr>\n",
       "      <th>11</th>\n",
       "      <td>l1_p1_LGBMClassifier</td>\n",
       "      <td>0.000000</td>\n",
       "      <td>0.000000</td>\n",
       "    </tr>\n",
       "  </tbody>\n",
       "</table>\n",
       "</div>"
      ],
      "text/plain": [
       "                                feature    weight       std\n",
       "0          l1_g1_sentiment_score_of_row  0.664683  0.452590\n",
       "1          l1_g1_number_of_words_in_row  0.335317  0.400713\n",
       "2            l1_g1_number_of_full_stops  0.000000  0.000000\n",
       "3        l1_g1_number_of_question_marks  0.000000  0.000000\n",
       "4           l1_g1_number_of_excl_points  0.000000  0.000000\n",
       "5                l1_g1_number_of_commas  0.000000  0.000000\n",
       "6   l1_g1_contains_profanity_words_flag  0.000000  0.000000\n",
       "7                         l1_g1_rt_flag  0.000000  0.000000\n",
       "8          l1_p4_RandomForestClassifier  0.000000  0.000000\n",
       "9              l1_p3_CatBoostClassifier  0.000000  0.000000\n",
       "10             l1_p2_LogisticRegression  0.000000  0.000000\n",
       "11                 l1_p1_LGBMClassifier  0.000000  0.000000"
      ]
     },
     "execution_count": 65,
     "metadata": {},
     "output_type": "execute_result"
    }
   ],
   "source": [
    "eli5.explain_weights_df(l2_pipeline_1[-1], feature_names=l2_pipeline_2[:-1].get_feature_names_out())"
   ]
  },
  {
   "cell_type": "code",
   "execution_count": 138,
   "metadata": {
    "pycharm": {
     "name": "#%%\n"
    }
   },
   "outputs": [],
   "source": [
    "meta_transformer = CustomColumnTransformer([\n",
    "    ('l2_p1', PipelineTransformer(l2_pipeline_1), []),\n",
    "    ('l2_p1', PipelineTransformer(l2_pipeline_2), []),\n",
    "])"
   ]
  },
  {
   "cell_type": "code",
   "execution_count": 143,
   "metadata": {
    "pycharm": {
     "name": "#%%\n"
    }
   },
   "outputs": [
    {
     "data": {
      "text/html": [
       "<style>#sk-container-id-31 {color: black;background-color: white;}#sk-container-id-31 pre{padding: 0;}#sk-container-id-31 div.sk-toggleable {background-color: white;}#sk-container-id-31 label.sk-toggleable__label {cursor: pointer;display: block;width: 100%;margin-bottom: 0;padding: 0.3em;box-sizing: border-box;text-align: center;}#sk-container-id-31 label.sk-toggleable__label-arrow:before {content: \"▸\";float: left;margin-right: 0.25em;color: #696969;}#sk-container-id-31 label.sk-toggleable__label-arrow:hover:before {color: black;}#sk-container-id-31 div.sk-estimator:hover label.sk-toggleable__label-arrow:before {color: black;}#sk-container-id-31 div.sk-toggleable__content {max-height: 0;max-width: 0;overflow: hidden;text-align: left;background-color: #f0f8ff;}#sk-container-id-31 div.sk-toggleable__content pre {margin: 0.2em;color: black;border-radius: 0.25em;background-color: #f0f8ff;}#sk-container-id-31 input.sk-toggleable__control:checked~div.sk-toggleable__content {max-height: 200px;max-width: 100%;overflow: auto;}#sk-container-id-31 input.sk-toggleable__control:checked~label.sk-toggleable__label-arrow:before {content: \"▾\";}#sk-container-id-31 div.sk-estimator input.sk-toggleable__control:checked~label.sk-toggleable__label {background-color: #d4ebff;}#sk-container-id-31 div.sk-label input.sk-toggleable__control:checked~label.sk-toggleable__label {background-color: #d4ebff;}#sk-container-id-31 input.sk-hidden--visually {border: 0;clip: rect(1px 1px 1px 1px);clip: rect(1px, 1px, 1px, 1px);height: 1px;margin: -1px;overflow: hidden;padding: 0;position: absolute;width: 1px;}#sk-container-id-31 div.sk-estimator {font-family: monospace;background-color: #f0f8ff;border: 1px dotted black;border-radius: 0.25em;box-sizing: border-box;margin-bottom: 0.5em;}#sk-container-id-31 div.sk-estimator:hover {background-color: #d4ebff;}#sk-container-id-31 div.sk-parallel-item::after {content: \"\";width: 100%;border-bottom: 1px solid gray;flex-grow: 1;}#sk-container-id-31 div.sk-label:hover label.sk-toggleable__label {background-color: #d4ebff;}#sk-container-id-31 div.sk-serial::before {content: \"\";position: absolute;border-left: 1px solid gray;box-sizing: border-box;top: 0;bottom: 0;left: 50%;z-index: 0;}#sk-container-id-31 div.sk-serial {display: flex;flex-direction: column;align-items: center;background-color: white;padding-right: 0.2em;padding-left: 0.2em;position: relative;}#sk-container-id-31 div.sk-item {position: relative;z-index: 1;}#sk-container-id-31 div.sk-parallel {display: flex;align-items: stretch;justify-content: center;background-color: white;position: relative;}#sk-container-id-31 div.sk-item::before, #sk-container-id-31 div.sk-parallel-item::before {content: \"\";position: absolute;border-left: 1px solid gray;box-sizing: border-box;top: 0;bottom: 0;left: 50%;z-index: -1;}#sk-container-id-31 div.sk-parallel-item {display: flex;flex-direction: column;z-index: 1;position: relative;background-color: white;}#sk-container-id-31 div.sk-parallel-item:first-child::after {align-self: flex-end;width: 50%;}#sk-container-id-31 div.sk-parallel-item:last-child::after {align-self: flex-start;width: 50%;}#sk-container-id-31 div.sk-parallel-item:only-child::after {width: 0;}#sk-container-id-31 div.sk-dashed-wrapped {border: 1px dashed gray;margin: 0 0.4em 0.5em 0.4em;box-sizing: border-box;padding-bottom: 0.4em;background-color: white;}#sk-container-id-31 div.sk-label label {font-family: monospace;font-weight: bold;display: inline-block;line-height: 1.2em;}#sk-container-id-31 div.sk-label-container {text-align: center;}#sk-container-id-31 div.sk-container {/* jupyter's `normalize.less` sets `[hidden] { display: none; }` but bootstrap.min.css set `[hidden] { display: none !important; }` so we also need the `!important` here to be able to override the default hidden behavior on the sphinx rendered scikit-learn.org. See: https://github.com/scikit-learn/scikit-learn/issues/21755 */display: inline-block !important;position: relative;}#sk-container-id-31 div.sk-text-repr-fallback {display: none;}</style><div id=\"sk-container-id-31\" class=\"sk-top-container\"><div class=\"sk-text-repr-fallback\"><pre>CustomCT(transformers=[(&#x27;l2_p1&#x27;,\n",
       "                        PipelineTransformer(pipeline=Pipeline(steps=[(&#x27;l1&#x27;,\n",
       "                                                                      CustomCT(transformers=[(&#x27;l1_p1&#x27;,\n",
       "                                                                                              PipelineTransformer(pipeline=Pipeline(steps=[(&#x27;NLP&#x27;,\n",
       "                                                                                                                                            Pipeline(steps=[(&#x27;cleaning&#x27;,\n",
       "                                                                                                                                                             TextCleaner()),\n",
       "                                                                                                                                                            (&#x27;series_converter&#x27;,\n",
       "                                                                                                                                                             SeriesConverter()),\n",
       "                                                                                                                                                            (&#x27;vectorization&#x27;,\n",
       "                                                                                                                                                             TfidfVectorizer(max_df=0.7,\n",
       "                                                                                                                                                                             min_df=3))])),\n",
       "                                                                                                                                           (&#x27;regressor&#x27;,\n",
       "                                                                                                                                            LGBMClassifier())])),\n",
       "                                                                                              [&#x27;tweet&#x27;]...\n",
       "                                                                                                                                            &lt;catboost.core.CatBoostClassifier object at 0x0000021D3C79C370&gt;)])),\n",
       "                                                                                              [&#x27;tweet&#x27;]),\n",
       "                                                                                             (&#x27;l1_p4&#x27;,\n",
       "                                                                                              PipelineTransformer(pipeline=Pipeline(steps=[(&#x27;NLP&#x27;,\n",
       "                                                                                                                                            Pipeline(steps=[(&#x27;cleaning&#x27;,\n",
       "                                                                                                                                                             TextCleaner()),\n",
       "                                                                                                                                                            (&#x27;series_converter&#x27;,\n",
       "                                                                                                                                                             SeriesConverter()),\n",
       "                                                                                                                                                            (&#x27;vectorization&#x27;,\n",
       "                                                                                                                                                             TfidfVectorizer(max_df=0.7,\n",
       "                                                                                                                                                                             min_df=3))])),\n",
       "                                                                                                                                           (&#x27;regressor&#x27;,\n",
       "                                                                                                                                            RandomForestClassifier())])),\n",
       "                                                                                              [&#x27;tweet&#x27;]),\n",
       "                                                                                             (&#x27;l1_g1&#x27;,\n",
       "                                                                                              FeatureGenerator(),\n",
       "                                                                                              [&#x27;tweet&#x27;])])),\n",
       "                                                                     (&#x27;regressor&#x27;,\n",
       "                                                                      LogisticRegression())])))])</pre><b>In a Jupyter environment, please rerun this cell to show the HTML representation or trust the notebook. <br />On GitHub, the HTML representation is unable to render, please try loading this page with nbviewer.org.</b></div><div class=\"sk-container\" hidden><div class=\"sk-item\"><div class=\"sk-estimator sk-toggleable\"><input class=\"sk-toggleable__control sk-hidden--visually\" id=\"sk-estimator-id-340\" type=\"checkbox\" checked><label for=\"sk-estimator-id-340\" class=\"sk-toggleable__label sk-toggleable__label-arrow\">CustomCT</label><div class=\"sk-toggleable__content\"><pre>CustomCT(transformers=[(&#x27;l2_p1&#x27;,\n",
       "                        PipelineTransformer(pipeline=Pipeline(steps=[(&#x27;l1&#x27;,\n",
       "                                                                      CustomCT(transformers=[(&#x27;l1_p1&#x27;,\n",
       "                                                                                              PipelineTransformer(pipeline=Pipeline(steps=[(&#x27;NLP&#x27;,\n",
       "                                                                                                                                            Pipeline(steps=[(&#x27;cleaning&#x27;,\n",
       "                                                                                                                                                             TextCleaner()),\n",
       "                                                                                                                                                            (&#x27;series_converter&#x27;,\n",
       "                                                                                                                                                             SeriesConverter()),\n",
       "                                                                                                                                                            (&#x27;vectorization&#x27;,\n",
       "                                                                                                                                                             TfidfVectorizer(max_df=0.7,\n",
       "                                                                                                                                                                             min_df=3))])),\n",
       "                                                                                                                                           (&#x27;regressor&#x27;,\n",
       "                                                                                                                                            LGBMClassifier())])),\n",
       "                                                                                              [&#x27;tweet&#x27;]...\n",
       "                                                                                                                                            &lt;catboost.core.CatBoostClassifier object at 0x0000021D3C79C370&gt;)])),\n",
       "                                                                                              [&#x27;tweet&#x27;]),\n",
       "                                                                                             (&#x27;l1_p4&#x27;,\n",
       "                                                                                              PipelineTransformer(pipeline=Pipeline(steps=[(&#x27;NLP&#x27;,\n",
       "                                                                                                                                            Pipeline(steps=[(&#x27;cleaning&#x27;,\n",
       "                                                                                                                                                             TextCleaner()),\n",
       "                                                                                                                                                            (&#x27;series_converter&#x27;,\n",
       "                                                                                                                                                             SeriesConverter()),\n",
       "                                                                                                                                                            (&#x27;vectorization&#x27;,\n",
       "                                                                                                                                                             TfidfVectorizer(max_df=0.7,\n",
       "                                                                                                                                                                             min_df=3))])),\n",
       "                                                                                                                                           (&#x27;regressor&#x27;,\n",
       "                                                                                                                                            RandomForestClassifier())])),\n",
       "                                                                                              [&#x27;tweet&#x27;]),\n",
       "                                                                                             (&#x27;l1_g1&#x27;,\n",
       "                                                                                              FeatureGenerator(),\n",
       "                                                                                              [&#x27;tweet&#x27;])])),\n",
       "                                                                     (&#x27;regressor&#x27;,\n",
       "                                                                      LogisticRegression())])))])</pre></div></div></div></div></div>"
      ],
      "text/plain": [
       "CustomCT(transformers=[('l2_p1',\n",
       "                        PipelineTransformer(pipeline=Pipeline(steps=[('l1',\n",
       "                                                                      CustomCT(transformers=[('l1_p1',\n",
       "                                                                                              PipelineTransformer(pipeline=Pipeline(steps=[('NLP',\n",
       "                                                                                                                                            Pipeline(steps=[('cleaning',\n",
       "                                                                                                                                                             TextCleaner()),\n",
       "                                                                                                                                                            ('series_converter',\n",
       "                                                                                                                                                             SeriesConverter()),\n",
       "                                                                                                                                                            ('vectorization',\n",
       "                                                                                                                                                             TfidfVectorizer(max_df=0.7,\n",
       "                                                                                                                                                                             min_df=3))])),\n",
       "                                                                                                                                           ('regressor',\n",
       "                                                                                                                                            LGBMClassifier())])),\n",
       "                                                                                              ['tweet']...\n",
       "                                                                                                                                            <catboost.core.CatBoostClassifier object at 0x0000021D3C79C370>)])),\n",
       "                                                                                              ['tweet']),\n",
       "                                                                                             ('l1_p4',\n",
       "                                                                                              PipelineTransformer(pipeline=Pipeline(steps=[('NLP',\n",
       "                                                                                                                                            Pipeline(steps=[('cleaning',\n",
       "                                                                                                                                                             TextCleaner()),\n",
       "                                                                                                                                                            ('series_converter',\n",
       "                                                                                                                                                             SeriesConverter()),\n",
       "                                                                                                                                                            ('vectorization',\n",
       "                                                                                                                                                             TfidfVectorizer(max_df=0.7,\n",
       "                                                                                                                                                                             min_df=3))])),\n",
       "                                                                                                                                           ('regressor',\n",
       "                                                                                                                                            RandomForestClassifier())])),\n",
       "                                                                                              ['tweet']),\n",
       "                                                                                             ('l1_g1',\n",
       "                                                                                              FeatureGenerator(),\n",
       "                                                                                              ['tweet'])])),\n",
       "                                                                     ('regressor',\n",
       "                                                                      LogisticRegression())])))])"
      ]
     },
     "execution_count": 143,
     "metadata": {},
     "output_type": "execute_result"
    }
   ],
   "source": [
    "meta_transformer"
   ]
  },
  {
   "cell_type": "code",
   "execution_count": 139,
   "metadata": {
    "pycharm": {
     "name": "#%%\n"
    }
   },
   "outputs": [],
   "source": [
    "meta_model = Pipeline(\n",
    "    [\n",
    "        ('l3_transformer', meta_transformer),\n",
    "        ('l3_model', RandomForestClassifier()),\n",
    "    ]\n",
    ")"
   ]
  },
  {
   "cell_type": "code",
   "execution_count": 140,
   "metadata": {
    "pycharm": {
     "name": "#%%\n"
    }
   },
   "outputs": [
    {
     "data": {
      "text/html": [
       "<style>#sk-container-id-28 {color: black;background-color: white;}#sk-container-id-28 pre{padding: 0;}#sk-container-id-28 div.sk-toggleable {background-color: white;}#sk-container-id-28 label.sk-toggleable__label {cursor: pointer;display: block;width: 100%;margin-bottom: 0;padding: 0.3em;box-sizing: border-box;text-align: center;}#sk-container-id-28 label.sk-toggleable__label-arrow:before {content: \"▸\";float: left;margin-right: 0.25em;color: #696969;}#sk-container-id-28 label.sk-toggleable__label-arrow:hover:before {color: black;}#sk-container-id-28 div.sk-estimator:hover label.sk-toggleable__label-arrow:before {color: black;}#sk-container-id-28 div.sk-toggleable__content {max-height: 0;max-width: 0;overflow: hidden;text-align: left;background-color: #f0f8ff;}#sk-container-id-28 div.sk-toggleable__content pre {margin: 0.2em;color: black;border-radius: 0.25em;background-color: #f0f8ff;}#sk-container-id-28 input.sk-toggleable__control:checked~div.sk-toggleable__content {max-height: 200px;max-width: 100%;overflow: auto;}#sk-container-id-28 input.sk-toggleable__control:checked~label.sk-toggleable__label-arrow:before {content: \"▾\";}#sk-container-id-28 div.sk-estimator input.sk-toggleable__control:checked~label.sk-toggleable__label {background-color: #d4ebff;}#sk-container-id-28 div.sk-label input.sk-toggleable__control:checked~label.sk-toggleable__label {background-color: #d4ebff;}#sk-container-id-28 input.sk-hidden--visually {border: 0;clip: rect(1px 1px 1px 1px);clip: rect(1px, 1px, 1px, 1px);height: 1px;margin: -1px;overflow: hidden;padding: 0;position: absolute;width: 1px;}#sk-container-id-28 div.sk-estimator {font-family: monospace;background-color: #f0f8ff;border: 1px dotted black;border-radius: 0.25em;box-sizing: border-box;margin-bottom: 0.5em;}#sk-container-id-28 div.sk-estimator:hover {background-color: #d4ebff;}#sk-container-id-28 div.sk-parallel-item::after {content: \"\";width: 100%;border-bottom: 1px solid gray;flex-grow: 1;}#sk-container-id-28 div.sk-label:hover label.sk-toggleable__label {background-color: #d4ebff;}#sk-container-id-28 div.sk-serial::before {content: \"\";position: absolute;border-left: 1px solid gray;box-sizing: border-box;top: 0;bottom: 0;left: 50%;z-index: 0;}#sk-container-id-28 div.sk-serial {display: flex;flex-direction: column;align-items: center;background-color: white;padding-right: 0.2em;padding-left: 0.2em;position: relative;}#sk-container-id-28 div.sk-item {position: relative;z-index: 1;}#sk-container-id-28 div.sk-parallel {display: flex;align-items: stretch;justify-content: center;background-color: white;position: relative;}#sk-container-id-28 div.sk-item::before, #sk-container-id-28 div.sk-parallel-item::before {content: \"\";position: absolute;border-left: 1px solid gray;box-sizing: border-box;top: 0;bottom: 0;left: 50%;z-index: -1;}#sk-container-id-28 div.sk-parallel-item {display: flex;flex-direction: column;z-index: 1;position: relative;background-color: white;}#sk-container-id-28 div.sk-parallel-item:first-child::after {align-self: flex-end;width: 50%;}#sk-container-id-28 div.sk-parallel-item:last-child::after {align-self: flex-start;width: 50%;}#sk-container-id-28 div.sk-parallel-item:only-child::after {width: 0;}#sk-container-id-28 div.sk-dashed-wrapped {border: 1px dashed gray;margin: 0 0.4em 0.5em 0.4em;box-sizing: border-box;padding-bottom: 0.4em;background-color: white;}#sk-container-id-28 div.sk-label label {font-family: monospace;font-weight: bold;display: inline-block;line-height: 1.2em;}#sk-container-id-28 div.sk-label-container {text-align: center;}#sk-container-id-28 div.sk-container {/* jupyter's `normalize.less` sets `[hidden] { display: none; }` but bootstrap.min.css set `[hidden] { display: none !important; }` so we also need the `!important` here to be able to override the default hidden behavior on the sphinx rendered scikit-learn.org. See: https://github.com/scikit-learn/scikit-learn/issues/21755 */display: inline-block !important;position: relative;}#sk-container-id-28 div.sk-text-repr-fallback {display: none;}</style><div id=\"sk-container-id-28\" class=\"sk-top-container\"><div class=\"sk-text-repr-fallback\"><pre>Pipeline(steps=[(&#x27;l3_transformer&#x27;,\n",
       "                 CustomCT(transformers=[(&#x27;l2_p1&#x27;,\n",
       "                                         PipelineTransformer(pipeline=Pipeline(steps=[(&#x27;l1&#x27;,\n",
       "                                                                                       CustomCT(transformers=[(&#x27;l1_p1&#x27;,\n",
       "                                                                                                               PipelineTransformer(pipeline=Pipeline(steps=[(&#x27;NLP&#x27;,\n",
       "                                                                                                                                                             Pipeline(steps=[(&#x27;cleaning&#x27;,\n",
       "                                                                                                                                                                              TextCleaner()),\n",
       "                                                                                                                                                                             (&#x27;series_converter&#x27;,\n",
       "                                                                                                                                                                              SeriesConverter()),\n",
       "                                                                                                                                                                             (&#x27;vectorization&#x27;,\n",
       "                                                                                                                                                                              TfidfVectorizer(max_df=0.7,\n",
       "                                                                                                                                                                                              min_df=3))])),\n",
       "                                                                                                                                                            (&#x27;regress...\n",
       "                                                                                                               PipelineTransformer(pipeline=Pipeline(steps=[(&#x27;NLP&#x27;,\n",
       "                                                                                                                                                             Pipeline(steps=[(&#x27;cleaning&#x27;,\n",
       "                                                                                                                                                                              TextCleaner()),\n",
       "                                                                                                                                                                             (&#x27;series_converter&#x27;,\n",
       "                                                                                                                                                                              SeriesConverter()),\n",
       "                                                                                                                                                                             (&#x27;vectorization&#x27;,\n",
       "                                                                                                                                                                              TfidfVectorizer(max_df=0.7,\n",
       "                                                                                                                                                                                              min_df=3))])),\n",
       "                                                                                                                                                            (&#x27;regressor&#x27;,\n",
       "                                                                                                                                                             RandomForestClassifier())])),\n",
       "                                                                                                               [&#x27;tweet&#x27;]),\n",
       "                                                                                                              (&#x27;l1_g1&#x27;,\n",
       "                                                                                                               FeatureGenerator(),\n",
       "                                                                                                               [&#x27;tweet&#x27;])])),\n",
       "                                                                                      (&#x27;regressor&#x27;,\n",
       "                                                                                       LogisticRegression())])))])),\n",
       "                (&#x27;l3_model&#x27;, RandomForestClassifier())])</pre><b>In a Jupyter environment, please rerun this cell to show the HTML representation or trust the notebook. <br />On GitHub, the HTML representation is unable to render, please try loading this page with nbviewer.org.</b></div><div class=\"sk-container\" hidden><div class=\"sk-item sk-dashed-wrapped\"><div class=\"sk-label-container\"><div class=\"sk-label sk-toggleable\"><input class=\"sk-toggleable__control sk-hidden--visually\" id=\"sk-estimator-id-271\" type=\"checkbox\" ><label for=\"sk-estimator-id-271\" class=\"sk-toggleable__label sk-toggleable__label-arrow\">Pipeline</label><div class=\"sk-toggleable__content\"><pre>Pipeline(steps=[(&#x27;l3_transformer&#x27;,\n",
       "                 CustomCT(transformers=[(&#x27;l2_p1&#x27;,\n",
       "                                         PipelineTransformer(pipeline=Pipeline(steps=[(&#x27;l1&#x27;,\n",
       "                                                                                       CustomCT(transformers=[(&#x27;l1_p1&#x27;,\n",
       "                                                                                                               PipelineTransformer(pipeline=Pipeline(steps=[(&#x27;NLP&#x27;,\n",
       "                                                                                                                                                             Pipeline(steps=[(&#x27;cleaning&#x27;,\n",
       "                                                                                                                                                                              TextCleaner()),\n",
       "                                                                                                                                                                             (&#x27;series_converter&#x27;,\n",
       "                                                                                                                                                                              SeriesConverter()),\n",
       "                                                                                                                                                                             (&#x27;vectorization&#x27;,\n",
       "                                                                                                                                                                              TfidfVectorizer(max_df=0.7,\n",
       "                                                                                                                                                                                              min_df=3))])),\n",
       "                                                                                                                                                            (&#x27;regress...\n",
       "                                                                                                               PipelineTransformer(pipeline=Pipeline(steps=[(&#x27;NLP&#x27;,\n",
       "                                                                                                                                                             Pipeline(steps=[(&#x27;cleaning&#x27;,\n",
       "                                                                                                                                                                              TextCleaner()),\n",
       "                                                                                                                                                                             (&#x27;series_converter&#x27;,\n",
       "                                                                                                                                                                              SeriesConverter()),\n",
       "                                                                                                                                                                             (&#x27;vectorization&#x27;,\n",
       "                                                                                                                                                                              TfidfVectorizer(max_df=0.7,\n",
       "                                                                                                                                                                                              min_df=3))])),\n",
       "                                                                                                                                                            (&#x27;regressor&#x27;,\n",
       "                                                                                                                                                             RandomForestClassifier())])),\n",
       "                                                                                                               [&#x27;tweet&#x27;]),\n",
       "                                                                                                              (&#x27;l1_g1&#x27;,\n",
       "                                                                                                               FeatureGenerator(),\n",
       "                                                                                                               [&#x27;tweet&#x27;])])),\n",
       "                                                                                      (&#x27;regressor&#x27;,\n",
       "                                                                                       LogisticRegression())])))])),\n",
       "                (&#x27;l3_model&#x27;, RandomForestClassifier())])</pre></div></div></div><div class=\"sk-serial\"><div class=\"sk-item\"><div class=\"sk-estimator sk-toggleable\"><input class=\"sk-toggleable__control sk-hidden--visually\" id=\"sk-estimator-id-272\" type=\"checkbox\" ><label for=\"sk-estimator-id-272\" class=\"sk-toggleable__label sk-toggleable__label-arrow\">CustomCT</label><div class=\"sk-toggleable__content\"><pre>CustomCT(transformers=[(&#x27;l2_p1&#x27;,\n",
       "                        PipelineTransformer(pipeline=Pipeline(steps=[(&#x27;l1&#x27;,\n",
       "                                                                      CustomCT(transformers=[(&#x27;l1_p1&#x27;,\n",
       "                                                                                              PipelineTransformer(pipeline=Pipeline(steps=[(&#x27;NLP&#x27;,\n",
       "                                                                                                                                            Pipeline(steps=[(&#x27;cleaning&#x27;,\n",
       "                                                                                                                                                             TextCleaner()),\n",
       "                                                                                                                                                            (&#x27;series_converter&#x27;,\n",
       "                                                                                                                                                             SeriesConverter()),\n",
       "                                                                                                                                                            (&#x27;vectorization&#x27;,\n",
       "                                                                                                                                                             TfidfVectorizer(max_df=0.7,\n",
       "                                                                                                                                                                             min_df=3))])),\n",
       "                                                                                                                                           (&#x27;regressor&#x27;,\n",
       "                                                                                                                                            LGBMClassifier())])),\n",
       "                                                                                              [&#x27;tweet&#x27;]...\n",
       "                                                                                                                                            &lt;catboost.core.CatBoostClassifier object at 0x0000021D3C79C370&gt;)])),\n",
       "                                                                                              [&#x27;tweet&#x27;]),\n",
       "                                                                                             (&#x27;l1_p4&#x27;,\n",
       "                                                                                              PipelineTransformer(pipeline=Pipeline(steps=[(&#x27;NLP&#x27;,\n",
       "                                                                                                                                            Pipeline(steps=[(&#x27;cleaning&#x27;,\n",
       "                                                                                                                                                             TextCleaner()),\n",
       "                                                                                                                                                            (&#x27;series_converter&#x27;,\n",
       "                                                                                                                                                             SeriesConverter()),\n",
       "                                                                                                                                                            (&#x27;vectorization&#x27;,\n",
       "                                                                                                                                                             TfidfVectorizer(max_df=0.7,\n",
       "                                                                                                                                                                             min_df=3))])),\n",
       "                                                                                                                                           (&#x27;regressor&#x27;,\n",
       "                                                                                                                                            RandomForestClassifier())])),\n",
       "                                                                                              [&#x27;tweet&#x27;]),\n",
       "                                                                                             (&#x27;l1_g1&#x27;,\n",
       "                                                                                              FeatureGenerator(),\n",
       "                                                                                              [&#x27;tweet&#x27;])])),\n",
       "                                                                     (&#x27;regressor&#x27;,\n",
       "                                                                      LogisticRegression())])))])</pre></div></div></div><div class=\"sk-item\"><div class=\"sk-estimator sk-toggleable\"><input class=\"sk-toggleable__control sk-hidden--visually\" id=\"sk-estimator-id-273\" type=\"checkbox\" ><label for=\"sk-estimator-id-273\" class=\"sk-toggleable__label sk-toggleable__label-arrow\">RandomForestClassifier</label><div class=\"sk-toggleable__content\"><pre>RandomForestClassifier()</pre></div></div></div></div></div></div></div>"
      ],
      "text/plain": [
       "Pipeline(steps=[('l3_transformer',\n",
       "                 CustomCT(transformers=[('l2_p1',\n",
       "                                         PipelineTransformer(pipeline=Pipeline(steps=[('l1',\n",
       "                                                                                       CustomCT(transformers=[('l1_p1',\n",
       "                                                                                                               PipelineTransformer(pipeline=Pipeline(steps=[('NLP',\n",
       "                                                                                                                                                             Pipeline(steps=[('cleaning',\n",
       "                                                                                                                                                                              TextCleaner()),\n",
       "                                                                                                                                                                             ('series_converter',\n",
       "                                                                                                                                                                              SeriesConverter()),\n",
       "                                                                                                                                                                             ('vectorization',\n",
       "                                                                                                                                                                              TfidfVectorizer(max_df=0.7,\n",
       "                                                                                                                                                                                              min_df=3))])),\n",
       "                                                                                                                                                            ('regress...\n",
       "                                                                                                               PipelineTransformer(pipeline=Pipeline(steps=[('NLP',\n",
       "                                                                                                                                                             Pipeline(steps=[('cleaning',\n",
       "                                                                                                                                                                              TextCleaner()),\n",
       "                                                                                                                                                                             ('series_converter',\n",
       "                                                                                                                                                                              SeriesConverter()),\n",
       "                                                                                                                                                                             ('vectorization',\n",
       "                                                                                                                                                                              TfidfVectorizer(max_df=0.7,\n",
       "                                                                                                                                                                                              min_df=3))])),\n",
       "                                                                                                                                                            ('regressor',\n",
       "                                                                                                                                                             RandomForestClassifier())])),\n",
       "                                                                                                               ['tweet']),\n",
       "                                                                                                              ('l1_g1',\n",
       "                                                                                                               FeatureGenerator(),\n",
       "                                                                                                               ['tweet'])])),\n",
       "                                                                                      ('regressor',\n",
       "                                                                                       LogisticRegression())])))])),\n",
       "                ('l3_model', RandomForestClassifier())])"
      ]
     },
     "execution_count": 140,
     "metadata": {},
     "output_type": "execute_result"
    }
   ],
   "source": [
    "meta_model"
   ]
  },
  {
   "cell_type": "code",
   "execution_count": 132,
   "metadata": {
    "pycharm": {
     "name": "#%%\n"
    }
   },
   "outputs": [
    {
     "data": {
      "text/plain": [
       "array([1, 1, 0, 0], dtype=int64)"
      ]
     },
     "execution_count": 132,
     "metadata": {},
     "output_type": "execute_result"
    }
   ],
   "source": [
    "l2_pipeline_1.predict(data_sample)"
   ]
  },
  {
   "cell_type": "code",
   "execution_count": 44,
   "metadata": {
    "pycharm": {
     "name": "#%%\n"
    }
   },
   "outputs": [],
   "source": []
  }
 ],
 "metadata": {
  "kernelspec": {
   "display_name": "Python 3 (ipykernel)",
   "language": "python",
   "name": "python3"
  },
  "language_info": {
   "codemirror_mode": {
    "name": "ipython",
    "version": 3
   },
   "file_extension": ".py",
   "mimetype": "text/x-python",
   "name": "python",
   "nbconvert_exporter": "python",
   "pygments_lexer": "ipython3",
   "version": "3.9.12"
  }
 },
 "nbformat": 4,
 "nbformat_minor": 1
}