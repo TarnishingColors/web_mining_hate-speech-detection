{
 "cells": [
  {
   "cell_type": "code",
   "execution_count": 1,
   "outputs": [],
   "source": [
    "import pandas as pd\n",
    "from matplotlib import pyplot as plt\n",
    "from sklearn.pipeline import make_pipeline\n",
    "\n",
    "from notebooks.Dzim.data_mining.validation.training import estimate_multiple_models, estimate_model"
   ],
   "metadata": {
    "collapsed": false,
    "pycharm": {
     "name": "#%%\n"
    }
   }
  },
  {
   "cell_type": "code",
   "execution_count": 2,
   "outputs": [],
   "source": [
    "plt.rcParams['figure.facecolor'] = 'white'"
   ],
   "metadata": {
    "collapsed": false,
    "pycharm": {
     "name": "#%%\n"
    }
   }
  },
  {
   "cell_type": "code",
   "execution_count": 3,
   "outputs": [],
   "source": [
    "%load_ext autoreload\n",
    "%autoreload 2"
   ],
   "metadata": {
    "collapsed": false,
    "pycharm": {
     "name": "#%%\n"
    }
   }
  },
  {
   "cell_type": "markdown",
   "source": [
    "#### Loading data"
   ],
   "metadata": {
    "collapsed": false,
    "pycharm": {
     "name": "#%% md\n"
    }
   }
  },
  {
   "cell_type": "code",
   "execution_count": 4,
   "outputs": [],
   "source": [
    "data = pd.read_csv('data1.csv', index_col=0)"
   ],
   "metadata": {
    "collapsed": false,
    "pycharm": {
     "name": "#%%\n"
    }
   }
  },
  {
   "cell_type": "code",
   "execution_count": 5,
   "outputs": [],
   "source": [
    "# data.head(100)"
   ],
   "metadata": {
    "collapsed": false,
    "pycharm": {
     "name": "#%%\n"
    }
   }
  },
  {
   "cell_type": "code",
   "execution_count": 6,
   "outputs": [],
   "source": [
    "data_sample = pd.DataFrame({\n",
    "    'tweet': [\n",
    "        'Sasha goes to Mannheim University',\n",
    "        'Danylo will create a great application',\n",
    "        'Danylo will not create a great application',\n",
    "        'Dasha didnt fulfill her task'\n",
    "    ],\n",
    "    'class': [1, 1, 0, 0]\n",
    "})"
   ],
   "metadata": {
    "collapsed": false,
    "pycharm": {
     "name": "#%%\n"
    }
   }
  },
  {
   "cell_type": "markdown",
   "source": [
    "#### Preprocessing"
   ],
   "metadata": {
    "collapsed": false,
    "pycharm": {
     "name": "#%% md\n"
    }
   }
  },
  {
   "cell_type": "code",
   "execution_count": 7,
   "outputs": [
    {
     "name": "stderr",
     "output_type": "stream",
     "text": [
      "[nltk_data] Downloading package stopwords to\n",
      "[nltk_data]     C:\\Users\\dzmit\\AppData\\Roaming\\nltk_data...\n",
      "[nltk_data]   Package stopwords is already up-to-date!\n",
      "[nltk_data] Downloading package punkt to\n",
      "[nltk_data]     C:\\Users\\dzmit\\AppData\\Roaming\\nltk_data...\n",
      "[nltk_data]   Package punkt is already up-to-date!\n",
      "[nltk_data] Downloading package averaged_perceptron_tagger to\n",
      "[nltk_data]     C:\\Users\\dzmit\\AppData\\Roaming\\nltk_data...\n",
      "[nltk_data]   Package averaged_perceptron_tagger is already up-to-\n",
      "[nltk_data]       date!\n",
      "[nltk_data] Downloading package wordnet to\n",
      "[nltk_data]     C:\\Users\\dzmit\\AppData\\Roaming\\nltk_data...\n",
      "[nltk_data]   Package wordnet is already up-to-date!\n",
      "[nltk_data] Downloading package vader_lexicon to\n",
      "[nltk_data]     C:\\Users\\dzmit\\AppData\\Roaming\\nltk_data...\n",
      "[nltk_data]   Package vader_lexicon is already up-to-date!\n"
     ]
    }
   ],
   "source": [
    "from sklearn.pipeline import Pipeline\n",
    "from notebooks.Dzim.web_mining.bert_processor import TextCleaner, SeriesConverter\n",
    "from sklearn.feature_extraction.text import TfidfVectorizer\n",
    "from sklearn.model_selection import train_test_split\n",
    "from notebooks.Dzim.web_mining.feature_generation import FeatureGenerator"
   ],
   "metadata": {
    "collapsed": false,
    "pycharm": {
     "name": "#%%\n"
    }
   }
  },
  {
   "cell_type": "code",
   "execution_count": 8,
   "outputs": [],
   "source": [
    "target = 'label'"
   ],
   "metadata": {
    "collapsed": false,
    "pycharm": {
     "name": "#%%\n"
    }
   }
  },
  {
   "cell_type": "code",
   "execution_count": 9,
   "outputs": [],
   "source": [
    "# Split the data into train and test sets\n",
    "data_train, data_test, y_train, y_test = train_test_split(data[['tweet']], data[target], test_size=0.2, random_state=42)"
   ],
   "metadata": {
    "collapsed": false,
    "pycharm": {
     "name": "#%%\n"
    }
   }
  },
  {
   "cell_type": "code",
   "execution_count": 10,
   "outputs": [
    {
     "data": {
      "text/plain": "((25569, 1), (6393, 1))"
     },
     "execution_count": 10,
     "metadata": {},
     "output_type": "execute_result"
    }
   ],
   "source": [
    "data_train.shape, data_test.shape"
   ],
   "metadata": {
    "collapsed": false,
    "pycharm": {
     "name": "#%%\n"
    }
   }
  },
  {
   "cell_type": "code",
   "execution_count": 11,
   "outputs": [],
   "source": [
    "# Define the pipeline\n",
    "nlp = Pipeline([\n",
    "    (\"cleaning\", TextCleaner()),\n",
    "    (\"series_converter\", SeriesConverter()),\n",
    "    (\"vectorization\", TfidfVectorizer(max_df=0.7, min_df=3)),\n",
    "])"
   ],
   "metadata": {
    "collapsed": false,
    "pycharm": {
     "name": "#%%\n"
    }
   }
  },
  {
   "cell_type": "code",
   "execution_count": 12,
   "outputs": [],
   "source": [
    "# Fit-transform the training data\n",
    "X_train = nlp.fit_transform(data_train)  #.toarray()"
   ],
   "metadata": {
    "collapsed": false,
    "pycharm": {
     "name": "#%%\n"
    }
   }
  },
  {
   "cell_type": "code",
   "execution_count": 13,
   "outputs": [],
   "source": [
    "# Transform the test data\n",
    "X_test = nlp.transform(data_test)"
   ],
   "metadata": {
    "collapsed": false,
    "pycharm": {
     "name": "#%%\n"
    }
   }
  },
  {
   "cell_type": "code",
   "execution_count": 14,
   "outputs": [],
   "source": [
    "# fg = FeatureGenerator()"
   ],
   "metadata": {
    "collapsed": false,
    "pycharm": {
     "name": "#%%\n"
    }
   }
  },
  {
   "cell_type": "code",
   "execution_count": 15,
   "outputs": [],
   "source": [
    "# from sklearn.compose import ColumnTransformer\n",
    "#\n",
    "# preprocessor = ColumnTransformer(\n",
    "#     transformers=[\n",
    "#         (\"nlp\", nlp, ['tweet']),\n",
    "#         (\"feat_gen\", FeatureGenerator(), ['tweet']),\n",
    "#     ],\n",
    "#     remainder='drop'\n",
    "# )"
   ],
   "metadata": {
    "collapsed": false,
    "pycharm": {
     "name": "#%%\n"
    }
   }
  },
  {
   "cell_type": "code",
   "execution_count": 16,
   "outputs": [],
   "source": [
    "# fg.transform(data_sample)"
   ],
   "metadata": {
    "collapsed": false,
    "pycharm": {
     "name": "#%%\n"
    }
   }
  },
  {
   "cell_type": "markdown",
   "metadata": {
    "pycharm": {
     "name": "#%% md\n"
    }
   },
   "source": [
    "#### Features"
   ]
  },
  {
   "cell_type": "markdown",
   "metadata": {
    "pycharm": {
     "name": "#%% md\n"
    }
   },
   "source": [
    "#### Models"
   ]
  },
  {
   "cell_type": "code",
   "execution_count": 17,
   "metadata": {
    "pycharm": {
     "name": "#%%\n"
    }
   },
   "outputs": [],
   "source": [
    "from sklearn.dummy import DummyClassifier\n",
    "\n",
    "dummy_mean = make_pipeline(\n",
    "    DummyClassifier(strategy='most_frequent'),\n",
    ")\n",
    "dummy_median = make_pipeline(\n",
    "    DummyClassifier(strategy='stratified'),\n",
    ")"
   ]
  },
  {
   "cell_type": "code",
   "execution_count": 18,
   "metadata": {
    "pycharm": {
     "name": "#%%\n"
    }
   },
   "outputs": [],
   "source": [
    "from sklearn.linear_model import LogisticRegression\n",
    "\n",
    "lr = make_pipeline(\n",
    "    # SimpleImputer(strategy='median', fill_value=0),\n",
    "    LogisticRegression(),\n",
    ")"
   ]
  },
  {
   "cell_type": "code",
   "execution_count": 19,
   "metadata": {
    "pycharm": {
     "name": "#%%\n"
    }
   },
   "outputs": [],
   "source": [
    "from catboost import CatBoostClassifier\n",
    "\n",
    "from xgboost import XGBClassifier\n",
    "\n",
    "from lightgbm import LGBMClassifier\n",
    "\n",
    "from sklearn.ensemble import RandomForestClassifier\n",
    "\n",
    "ctb = make_pipeline(\n",
    "    CatBoostClassifier()\n",
    ")\n",
    "xgb = make_pipeline(\n",
    "    XGBClassifier()\n",
    ")\n",
    "lgbm = make_pipeline(\n",
    "    LGBMClassifier()\n",
    ")\n",
    "\n",
    "rfc_parameters = {\n",
    "    'max_depth': None,\n",
    "    'min_samples_leaf': 1,\n",
    "    'min_samples_split': 2,\n",
    "    'n_estimators': 100\n",
    "}\n",
    "rfc = make_pipeline(\n",
    "    # SimpleImputer(missing_values=np.nan, strategy='mean'),\n",
    "    RandomForestClassifier(**rfc_parameters),\n",
    ")"
   ]
  },
  {
   "cell_type": "code",
   "execution_count": 310,
   "outputs": [],
   "source": [
    "model = rfc"
   ],
   "metadata": {
    "collapsed": false,
    "pycharm": {
     "name": "#%%\n"
    }
   }
  },
  {
   "cell_type": "code",
   "execution_count": 305,
   "outputs": [
    {
     "data": {
      "text/plain": "Pipeline(steps=[('logisticregression', LogisticRegression())])",
      "text/html": "<style>#sk-container-id-15 {color: black;background-color: white;}#sk-container-id-15 pre{padding: 0;}#sk-container-id-15 div.sk-toggleable {background-color: white;}#sk-container-id-15 label.sk-toggleable__label {cursor: pointer;display: block;width: 100%;margin-bottom: 0;padding: 0.3em;box-sizing: border-box;text-align: center;}#sk-container-id-15 label.sk-toggleable__label-arrow:before {content: \"▸\";float: left;margin-right: 0.25em;color: #696969;}#sk-container-id-15 label.sk-toggleable__label-arrow:hover:before {color: black;}#sk-container-id-15 div.sk-estimator:hover label.sk-toggleable__label-arrow:before {color: black;}#sk-container-id-15 div.sk-toggleable__content {max-height: 0;max-width: 0;overflow: hidden;text-align: left;background-color: #f0f8ff;}#sk-container-id-15 div.sk-toggleable__content pre {margin: 0.2em;color: black;border-radius: 0.25em;background-color: #f0f8ff;}#sk-container-id-15 input.sk-toggleable__control:checked~div.sk-toggleable__content {max-height: 200px;max-width: 100%;overflow: auto;}#sk-container-id-15 input.sk-toggleable__control:checked~label.sk-toggleable__label-arrow:before {content: \"▾\";}#sk-container-id-15 div.sk-estimator input.sk-toggleable__control:checked~label.sk-toggleable__label {background-color: #d4ebff;}#sk-container-id-15 div.sk-label input.sk-toggleable__control:checked~label.sk-toggleable__label {background-color: #d4ebff;}#sk-container-id-15 input.sk-hidden--visually {border: 0;clip: rect(1px 1px 1px 1px);clip: rect(1px, 1px, 1px, 1px);height: 1px;margin: -1px;overflow: hidden;padding: 0;position: absolute;width: 1px;}#sk-container-id-15 div.sk-estimator {font-family: monospace;background-color: #f0f8ff;border: 1px dotted black;border-radius: 0.25em;box-sizing: border-box;margin-bottom: 0.5em;}#sk-container-id-15 div.sk-estimator:hover {background-color: #d4ebff;}#sk-container-id-15 div.sk-parallel-item::after {content: \"\";width: 100%;border-bottom: 1px solid gray;flex-grow: 1;}#sk-container-id-15 div.sk-label:hover label.sk-toggleable__label {background-color: #d4ebff;}#sk-container-id-15 div.sk-serial::before {content: \"\";position: absolute;border-left: 1px solid gray;box-sizing: border-box;top: 0;bottom: 0;left: 50%;z-index: 0;}#sk-container-id-15 div.sk-serial {display: flex;flex-direction: column;align-items: center;background-color: white;padding-right: 0.2em;padding-left: 0.2em;position: relative;}#sk-container-id-15 div.sk-item {position: relative;z-index: 1;}#sk-container-id-15 div.sk-parallel {display: flex;align-items: stretch;justify-content: center;background-color: white;position: relative;}#sk-container-id-15 div.sk-item::before, #sk-container-id-15 div.sk-parallel-item::before {content: \"\";position: absolute;border-left: 1px solid gray;box-sizing: border-box;top: 0;bottom: 0;left: 50%;z-index: -1;}#sk-container-id-15 div.sk-parallel-item {display: flex;flex-direction: column;z-index: 1;position: relative;background-color: white;}#sk-container-id-15 div.sk-parallel-item:first-child::after {align-self: flex-end;width: 50%;}#sk-container-id-15 div.sk-parallel-item:last-child::after {align-self: flex-start;width: 50%;}#sk-container-id-15 div.sk-parallel-item:only-child::after {width: 0;}#sk-container-id-15 div.sk-dashed-wrapped {border: 1px dashed gray;margin: 0 0.4em 0.5em 0.4em;box-sizing: border-box;padding-bottom: 0.4em;background-color: white;}#sk-container-id-15 div.sk-label label {font-family: monospace;font-weight: bold;display: inline-block;line-height: 1.2em;}#sk-container-id-15 div.sk-label-container {text-align: center;}#sk-container-id-15 div.sk-container {/* jupyter's `normalize.less` sets `[hidden] { display: none; }` but bootstrap.min.css set `[hidden] { display: none !important; }` so we also need the `!important` here to be able to override the default hidden behavior on the sphinx rendered scikit-learn.org. See: https://github.com/scikit-learn/scikit-learn/issues/21755 */display: inline-block !important;position: relative;}#sk-container-id-15 div.sk-text-repr-fallback {display: none;}</style><div id=\"sk-container-id-15\" class=\"sk-top-container\"><div class=\"sk-text-repr-fallback\"><pre>Pipeline(steps=[(&#x27;logisticregression&#x27;, LogisticRegression())])</pre><b>In a Jupyter environment, please rerun this cell to show the HTML representation or trust the notebook. <br />On GitHub, the HTML representation is unable to render, please try loading this page with nbviewer.org.</b></div><div class=\"sk-container\" hidden><div class=\"sk-item sk-dashed-wrapped\"><div class=\"sk-label-container\"><div class=\"sk-label sk-toggleable\"><input class=\"sk-toggleable__control sk-hidden--visually\" id=\"sk-estimator-id-29\" type=\"checkbox\" ><label for=\"sk-estimator-id-29\" class=\"sk-toggleable__label sk-toggleable__label-arrow\">Pipeline</label><div class=\"sk-toggleable__content\"><pre>Pipeline(steps=[(&#x27;logisticregression&#x27;, LogisticRegression())])</pre></div></div></div><div class=\"sk-serial\"><div class=\"sk-item\"><div class=\"sk-estimator sk-toggleable\"><input class=\"sk-toggleable__control sk-hidden--visually\" id=\"sk-estimator-id-30\" type=\"checkbox\" ><label for=\"sk-estimator-id-30\" class=\"sk-toggleable__label sk-toggleable__label-arrow\">LogisticRegression</label><div class=\"sk-toggleable__content\"><pre>LogisticRegression()</pre></div></div></div></div></div></div></div>"
     },
     "execution_count": 305,
     "metadata": {},
     "output_type": "execute_result"
    }
   ],
   "source": [
    "lr.fit(X_train, y_train)"
   ],
   "metadata": {
    "collapsed": false,
    "pycharm": {
     "name": "#%%\n"
    }
   }
  },
  {
   "cell_type": "code",
   "execution_count": 311,
   "outputs": [
    {
     "data": {
      "text/plain": "Pipeline(steps=[('randomforestclassifier', RandomForestClassifier())])",
      "text/html": "<style>#sk-container-id-16 {color: black;background-color: white;}#sk-container-id-16 pre{padding: 0;}#sk-container-id-16 div.sk-toggleable {background-color: white;}#sk-container-id-16 label.sk-toggleable__label {cursor: pointer;display: block;width: 100%;margin-bottom: 0;padding: 0.3em;box-sizing: border-box;text-align: center;}#sk-container-id-16 label.sk-toggleable__label-arrow:before {content: \"▸\";float: left;margin-right: 0.25em;color: #696969;}#sk-container-id-16 label.sk-toggleable__label-arrow:hover:before {color: black;}#sk-container-id-16 div.sk-estimator:hover label.sk-toggleable__label-arrow:before {color: black;}#sk-container-id-16 div.sk-toggleable__content {max-height: 0;max-width: 0;overflow: hidden;text-align: left;background-color: #f0f8ff;}#sk-container-id-16 div.sk-toggleable__content pre {margin: 0.2em;color: black;border-radius: 0.25em;background-color: #f0f8ff;}#sk-container-id-16 input.sk-toggleable__control:checked~div.sk-toggleable__content {max-height: 200px;max-width: 100%;overflow: auto;}#sk-container-id-16 input.sk-toggleable__control:checked~label.sk-toggleable__label-arrow:before {content: \"▾\";}#sk-container-id-16 div.sk-estimator input.sk-toggleable__control:checked~label.sk-toggleable__label {background-color: #d4ebff;}#sk-container-id-16 div.sk-label input.sk-toggleable__control:checked~label.sk-toggleable__label {background-color: #d4ebff;}#sk-container-id-16 input.sk-hidden--visually {border: 0;clip: rect(1px 1px 1px 1px);clip: rect(1px, 1px, 1px, 1px);height: 1px;margin: -1px;overflow: hidden;padding: 0;position: absolute;width: 1px;}#sk-container-id-16 div.sk-estimator {font-family: monospace;background-color: #f0f8ff;border: 1px dotted black;border-radius: 0.25em;box-sizing: border-box;margin-bottom: 0.5em;}#sk-container-id-16 div.sk-estimator:hover {background-color: #d4ebff;}#sk-container-id-16 div.sk-parallel-item::after {content: \"\";width: 100%;border-bottom: 1px solid gray;flex-grow: 1;}#sk-container-id-16 div.sk-label:hover label.sk-toggleable__label {background-color: #d4ebff;}#sk-container-id-16 div.sk-serial::before {content: \"\";position: absolute;border-left: 1px solid gray;box-sizing: border-box;top: 0;bottom: 0;left: 50%;z-index: 0;}#sk-container-id-16 div.sk-serial {display: flex;flex-direction: column;align-items: center;background-color: white;padding-right: 0.2em;padding-left: 0.2em;position: relative;}#sk-container-id-16 div.sk-item {position: relative;z-index: 1;}#sk-container-id-16 div.sk-parallel {display: flex;align-items: stretch;justify-content: center;background-color: white;position: relative;}#sk-container-id-16 div.sk-item::before, #sk-container-id-16 div.sk-parallel-item::before {content: \"\";position: absolute;border-left: 1px solid gray;box-sizing: border-box;top: 0;bottom: 0;left: 50%;z-index: -1;}#sk-container-id-16 div.sk-parallel-item {display: flex;flex-direction: column;z-index: 1;position: relative;background-color: white;}#sk-container-id-16 div.sk-parallel-item:first-child::after {align-self: flex-end;width: 50%;}#sk-container-id-16 div.sk-parallel-item:last-child::after {align-self: flex-start;width: 50%;}#sk-container-id-16 div.sk-parallel-item:only-child::after {width: 0;}#sk-container-id-16 div.sk-dashed-wrapped {border: 1px dashed gray;margin: 0 0.4em 0.5em 0.4em;box-sizing: border-box;padding-bottom: 0.4em;background-color: white;}#sk-container-id-16 div.sk-label label {font-family: monospace;font-weight: bold;display: inline-block;line-height: 1.2em;}#sk-container-id-16 div.sk-label-container {text-align: center;}#sk-container-id-16 div.sk-container {/* jupyter's `normalize.less` sets `[hidden] { display: none; }` but bootstrap.min.css set `[hidden] { display: none !important; }` so we also need the `!important` here to be able to override the default hidden behavior on the sphinx rendered scikit-learn.org. See: https://github.com/scikit-learn/scikit-learn/issues/21755 */display: inline-block !important;position: relative;}#sk-container-id-16 div.sk-text-repr-fallback {display: none;}</style><div id=\"sk-container-id-16\" class=\"sk-top-container\"><div class=\"sk-text-repr-fallback\"><pre>Pipeline(steps=[(&#x27;randomforestclassifier&#x27;, RandomForestClassifier())])</pre><b>In a Jupyter environment, please rerun this cell to show the HTML representation or trust the notebook. <br />On GitHub, the HTML representation is unable to render, please try loading this page with nbviewer.org.</b></div><div class=\"sk-container\" hidden><div class=\"sk-item sk-dashed-wrapped\"><div class=\"sk-label-container\"><div class=\"sk-label sk-toggleable\"><input class=\"sk-toggleable__control sk-hidden--visually\" id=\"sk-estimator-id-31\" type=\"checkbox\" ><label for=\"sk-estimator-id-31\" class=\"sk-toggleable__label sk-toggleable__label-arrow\">Pipeline</label><div class=\"sk-toggleable__content\"><pre>Pipeline(steps=[(&#x27;randomforestclassifier&#x27;, RandomForestClassifier())])</pre></div></div></div><div class=\"sk-serial\"><div class=\"sk-item\"><div class=\"sk-estimator sk-toggleable\"><input class=\"sk-toggleable__control sk-hidden--visually\" id=\"sk-estimator-id-32\" type=\"checkbox\" ><label for=\"sk-estimator-id-32\" class=\"sk-toggleable__label sk-toggleable__label-arrow\">RandomForestClassifier</label><div class=\"sk-toggleable__content\"><pre>RandomForestClassifier()</pre></div></div></div></div></div></div></div>"
     },
     "execution_count": 311,
     "metadata": {},
     "output_type": "execute_result"
    }
   ],
   "source": [
    "model.fit(X_train, y_train)"
   ],
   "metadata": {
    "collapsed": false,
    "pycharm": {
     "name": "#%%\n"
    }
   }
  },
  {
   "cell_type": "code",
   "execution_count": 312,
   "outputs": [],
   "source": [
    "prediction = model.predict(X_test)"
   ],
   "metadata": {
    "collapsed": false,
    "pycharm": {
     "name": "#%%\n"
    }
   }
  },
  {
   "cell_type": "code",
   "execution_count": 313,
   "outputs": [
    {
     "name": "stdout",
     "output_type": "stream",
     "text": [
      "              precision    recall  f1-score   support\n",
      "\n",
      "           0       0.99      0.96      0.98      6118\n",
      "           1       0.52      0.86      0.65       275\n",
      "\n",
      "    accuracy                           0.96      6393\n",
      "   macro avg       0.76      0.91      0.81      6393\n",
      "weighted avg       0.97      0.96      0.96      6393\n",
      "\n",
      "[[5899  219]\n",
      " [  38  237]]\n"
     ]
    }
   ],
   "source": [
    "import warnings\n",
    "from sklearn.metrics import classification_report, confusion_matrix\n",
    "\n",
    "with warnings.catch_warnings():\n",
    "    warnings.simplefilter(\"ignore\")\n",
    "    print(classification_report(prediction, y_test))\n",
    "    print(confusion_matrix(prediction, y_test))"
   ],
   "metadata": {
    "collapsed": false,
    "pycharm": {
     "name": "#%%\n"
    }
   }
  },
  {
   "cell_type": "code",
   "execution_count": 314,
   "outputs": [],
   "source": [
    "train_prediction = model.predict(X_train)"
   ],
   "metadata": {
    "collapsed": false,
    "pycharm": {
     "name": "#%%\n"
    }
   }
  },
  {
   "cell_type": "code",
   "execution_count": 315,
   "outputs": [
    {
     "name": "stdout",
     "output_type": "stream",
     "text": [
      "              precision    recall  f1-score   support\n",
      "\n",
      "           0       1.00      1.00      1.00     23792\n",
      "           1       0.99      1.00      1.00      1777\n",
      "\n",
      "    accuracy                           1.00     25569\n",
      "   macro avg       1.00      1.00      1.00     25569\n",
      "weighted avg       1.00      1.00      1.00     25569\n",
      "\n",
      "[[23782    10]\n",
      " [    1  1776]]\n"
     ]
    }
   ],
   "source": [
    "with warnings.catch_warnings():\n",
    "    warnings.simplefilter(\"ignore\")\n",
    "    print(classification_report(train_prediction, y_train))\n",
    "    print(confusion_matrix(train_prediction, y_train))"
   ],
   "metadata": {
    "collapsed": false,
    "pycharm": {
     "name": "#%%\n"
    }
   }
  },
  {
   "cell_type": "code",
   "execution_count": 20,
   "metadata": {
    "pycharm": {
     "name": "#%%\n"
    }
   },
   "outputs": [],
   "source": [
    "pipelines = [\n",
    "    (\"Dummy_mean\", dummy_mean),\n",
    "    (\"Dummy_median\", dummy_median),\n",
    "    # (\"LinReg\", lr),\n",
    "    # (\"XGB\", xgb),\n",
    "    (\"LGBM\", lgbm),\n",
    "    (\"RFC\", rfc),\n",
    "    (\"CatBoost\", ctb),\n",
    "]"
   ]
  },
  {
   "cell_type": "markdown",
   "metadata": {
    "pycharm": {
     "name": "#%% md\n"
    }
   },
   "source": [
    "#### Models"
   ]
  },
  {
   "cell_type": "code",
   "execution_count": 21,
   "metadata": {
    "pycharm": {
     "name": "#%%\n"
    }
   },
   "outputs": [
    {
     "name": "stderr",
     "output_type": "stream",
     "text": [
      "C:\\Users\\dzmit\\anaconda3\\envs\\eurostars\\lib\\site-packages\\sklearn\\metrics\\_classification.py:1334: UndefinedMetricWarning: Precision is ill-defined and being set to 0.0 due to no predicted samples. Use `zero_division` parameter to control this behavior.\n",
      "  _warn_prf(average, modifier, msg_start, len(result))\n",
      "C:\\Users\\dzmit\\anaconda3\\envs\\eurostars\\lib\\site-packages\\sklearn\\metrics\\_classification.py:1334: UndefinedMetricWarning: Precision is ill-defined and being set to 0.0 due to no predicted samples. Use `zero_division` parameter to control this behavior.\n",
      "  _warn_prf(average, modifier, msg_start, len(result))\n"
     ]
    },
    {
     "name": "stdout",
     "output_type": "stream",
     "text": [
      "Learning rate set to 0.041118\n",
      "0:\tlearn: 0.6476334\ttotal: 243ms\tremaining: 4m 2s\n",
      "1:\tlearn: 0.6072432\ttotal: 348ms\tremaining: 2m 53s\n",
      "2:\tlearn: 0.5712074\ttotal: 444ms\tremaining: 2m 27s\n",
      "3:\tlearn: 0.5370233\ttotal: 542ms\tremaining: 2m 15s\n",
      "4:\tlearn: 0.5076169\ttotal: 635ms\tremaining: 2m 6s\n",
      "5:\tlearn: 0.4808841\ttotal: 718ms\tremaining: 1m 59s\n",
      "6:\tlearn: 0.4559781\ttotal: 782ms\tremaining: 1m 50s\n",
      "7:\tlearn: 0.4341940\ttotal: 853ms\tremaining: 1m 45s\n",
      "8:\tlearn: 0.4134218\ttotal: 924ms\tremaining: 1m 41s\n",
      "9:\tlearn: 0.3941060\ttotal: 988ms\tremaining: 1m 37s\n",
      "10:\tlearn: 0.3767878\ttotal: 1.05s\tremaining: 1m 34s\n",
      "11:\tlearn: 0.3614723\ttotal: 1.13s\tremaining: 1m 32s\n",
      "12:\tlearn: 0.3479418\ttotal: 1.19s\tremaining: 1m 30s\n",
      "13:\tlearn: 0.3353971\ttotal: 1.26s\tremaining: 1m 28s\n",
      "14:\tlearn: 0.3246373\ttotal: 1.33s\tremaining: 1m 27s\n",
      "15:\tlearn: 0.3136440\ttotal: 1.39s\tremaining: 1m 25s\n",
      "16:\tlearn: 0.3047822\ttotal: 1.46s\tremaining: 1m 24s\n",
      "17:\tlearn: 0.2966454\ttotal: 1.53s\tremaining: 1m 23s\n",
      "18:\tlearn: 0.2894830\ttotal: 1.59s\tremaining: 1m 22s\n",
      "19:\tlearn: 0.2823304\ttotal: 1.66s\tremaining: 1m 21s\n",
      "20:\tlearn: 0.2760536\ttotal: 1.72s\tremaining: 1m 20s\n",
      "21:\tlearn: 0.2698235\ttotal: 1.79s\tremaining: 1m 19s\n",
      "22:\tlearn: 0.2642803\ttotal: 1.85s\tremaining: 1m 18s\n",
      "23:\tlearn: 0.2592166\ttotal: 1.91s\tremaining: 1m 17s\n",
      "24:\tlearn: 0.2547267\ttotal: 1.97s\tremaining: 1m 16s\n",
      "25:\tlearn: 0.2507425\ttotal: 2.03s\tremaining: 1m 16s\n",
      "26:\tlearn: 0.2467123\ttotal: 2.09s\tremaining: 1m 15s\n",
      "27:\tlearn: 0.2433107\ttotal: 2.16s\tremaining: 1m 14s\n",
      "28:\tlearn: 0.2398991\ttotal: 2.22s\tremaining: 1m 14s\n",
      "29:\tlearn: 0.2369898\ttotal: 2.28s\tremaining: 1m 13s\n",
      "30:\tlearn: 0.2341728\ttotal: 2.34s\tremaining: 1m 13s\n",
      "31:\tlearn: 0.2316262\ttotal: 2.41s\tremaining: 1m 12s\n",
      "32:\tlearn: 0.2293632\ttotal: 2.48s\tremaining: 1m 12s\n",
      "33:\tlearn: 0.2270849\ttotal: 2.54s\tremaining: 1m 12s\n",
      "34:\tlearn: 0.2252293\ttotal: 2.6s\tremaining: 1m 11s\n",
      "35:\tlearn: 0.2229478\ttotal: 2.66s\tremaining: 1m 11s\n",
      "36:\tlearn: 0.2212330\ttotal: 2.73s\tremaining: 1m 10s\n",
      "37:\tlearn: 0.2195124\ttotal: 2.79s\tremaining: 1m 10s\n",
      "38:\tlearn: 0.2178572\ttotal: 2.85s\tremaining: 1m 10s\n",
      "39:\tlearn: 0.2162657\ttotal: 2.91s\tremaining: 1m 9s\n",
      "40:\tlearn: 0.2149684\ttotal: 2.98s\tremaining: 1m 9s\n",
      "41:\tlearn: 0.2135091\ttotal: 3.04s\tremaining: 1m 9s\n",
      "42:\tlearn: 0.2123082\ttotal: 3.1s\tremaining: 1m 9s\n",
      "43:\tlearn: 0.2111955\ttotal: 3.17s\tremaining: 1m 8s\n",
      "44:\tlearn: 0.2101576\ttotal: 3.23s\tremaining: 1m 8s\n",
      "45:\tlearn: 0.2091163\ttotal: 3.29s\tremaining: 1m 8s\n",
      "46:\tlearn: 0.2081705\ttotal: 3.35s\tremaining: 1m 8s\n",
      "47:\tlearn: 0.2071355\ttotal: 3.42s\tremaining: 1m 7s\n",
      "48:\tlearn: 0.2062538\ttotal: 3.48s\tremaining: 1m 7s\n",
      "49:\tlearn: 0.2053537\ttotal: 3.54s\tremaining: 1m 7s\n",
      "50:\tlearn: 0.2045300\ttotal: 3.6s\tremaining: 1m 7s\n",
      "51:\tlearn: 0.2037578\ttotal: 3.67s\tremaining: 1m 6s\n",
      "52:\tlearn: 0.2029980\ttotal: 3.73s\tremaining: 1m 6s\n",
      "53:\tlearn: 0.2023096\ttotal: 3.8s\tremaining: 1m 6s\n",
      "54:\tlearn: 0.2015688\ttotal: 3.86s\tremaining: 1m 6s\n",
      "55:\tlearn: 0.2008934\ttotal: 3.92s\tremaining: 1m 6s\n",
      "56:\tlearn: 0.2002858\ttotal: 3.99s\tremaining: 1m 6s\n",
      "57:\tlearn: 0.1995774\ttotal: 4.07s\tremaining: 1m 6s\n",
      "58:\tlearn: 0.1988612\ttotal: 4.13s\tremaining: 1m 5s\n",
      "59:\tlearn: 0.1980587\ttotal: 4.2s\tremaining: 1m 5s\n",
      "60:\tlearn: 0.1975548\ttotal: 4.26s\tremaining: 1m 5s\n",
      "61:\tlearn: 0.1970034\ttotal: 4.33s\tremaining: 1m 5s\n",
      "62:\tlearn: 0.1965048\ttotal: 4.39s\tremaining: 1m 5s\n",
      "63:\tlearn: 0.1960227\ttotal: 4.45s\tremaining: 1m 5s\n",
      "64:\tlearn: 0.1955449\ttotal: 4.51s\tremaining: 1m 4s\n",
      "65:\tlearn: 0.1951002\ttotal: 4.58s\tremaining: 1m 4s\n",
      "66:\tlearn: 0.1946207\ttotal: 4.64s\tremaining: 1m 4s\n",
      "67:\tlearn: 0.1942215\ttotal: 4.71s\tremaining: 1m 4s\n",
      "68:\tlearn: 0.1935780\ttotal: 4.77s\tremaining: 1m 4s\n",
      "69:\tlearn: 0.1931035\ttotal: 4.83s\tremaining: 1m 4s\n",
      "70:\tlearn: 0.1926889\ttotal: 4.9s\tremaining: 1m 4s\n",
      "71:\tlearn: 0.1922551\ttotal: 4.96s\tremaining: 1m 3s\n",
      "72:\tlearn: 0.1918622\ttotal: 5.02s\tremaining: 1m 3s\n",
      "73:\tlearn: 0.1913919\ttotal: 5.08s\tremaining: 1m 3s\n",
      "74:\tlearn: 0.1909723\ttotal: 5.14s\tremaining: 1m 3s\n",
      "75:\tlearn: 0.1906056\ttotal: 5.21s\tremaining: 1m 3s\n",
      "76:\tlearn: 0.1902323\ttotal: 5.28s\tremaining: 1m 3s\n",
      "77:\tlearn: 0.1898619\ttotal: 5.34s\tremaining: 1m 3s\n",
      "78:\tlearn: 0.1894447\ttotal: 5.4s\tremaining: 1m 2s\n",
      "79:\tlearn: 0.1889810\ttotal: 5.46s\tremaining: 1m 2s\n",
      "80:\tlearn: 0.1885757\ttotal: 5.53s\tremaining: 1m 2s\n",
      "81:\tlearn: 0.1881606\ttotal: 5.59s\tremaining: 1m 2s\n",
      "82:\tlearn: 0.1878448\ttotal: 5.65s\tremaining: 1m 2s\n",
      "83:\tlearn: 0.1874627\ttotal: 5.72s\tremaining: 1m 2s\n",
      "84:\tlearn: 0.1871158\ttotal: 5.79s\tremaining: 1m 2s\n",
      "85:\tlearn: 0.1868187\ttotal: 5.85s\tremaining: 1m 2s\n",
      "86:\tlearn: 0.1865345\ttotal: 5.92s\tremaining: 1m 2s\n",
      "87:\tlearn: 0.1862364\ttotal: 5.98s\tremaining: 1m 1s\n",
      "88:\tlearn: 0.1859389\ttotal: 6.04s\tremaining: 1m 1s\n",
      "89:\tlearn: 0.1856314\ttotal: 6.11s\tremaining: 1m 1s\n",
      "90:\tlearn: 0.1851433\ttotal: 6.17s\tremaining: 1m 1s\n",
      "91:\tlearn: 0.1848163\ttotal: 6.24s\tremaining: 1m 1s\n",
      "92:\tlearn: 0.1845283\ttotal: 6.3s\tremaining: 1m 1s\n",
      "93:\tlearn: 0.1842442\ttotal: 6.36s\tremaining: 1m 1s\n",
      "94:\tlearn: 0.1837601\ttotal: 6.43s\tremaining: 1m 1s\n",
      "95:\tlearn: 0.1834546\ttotal: 6.5s\tremaining: 1m 1s\n",
      "96:\tlearn: 0.1831759\ttotal: 6.56s\tremaining: 1m 1s\n",
      "97:\tlearn: 0.1828806\ttotal: 6.63s\tremaining: 1m\n",
      "98:\tlearn: 0.1826076\ttotal: 6.69s\tremaining: 1m\n",
      "99:\tlearn: 0.1823462\ttotal: 6.76s\tremaining: 1m\n",
      "100:\tlearn: 0.1819640\ttotal: 6.82s\tremaining: 1m\n",
      "101:\tlearn: 0.1817016\ttotal: 6.89s\tremaining: 1m\n",
      "102:\tlearn: 0.1814441\ttotal: 6.95s\tremaining: 1m\n",
      "103:\tlearn: 0.1811180\ttotal: 7.02s\tremaining: 1m\n",
      "104:\tlearn: 0.1808028\ttotal: 7.08s\tremaining: 1m\n",
      "105:\tlearn: 0.1805366\ttotal: 7.14s\tremaining: 1m\n",
      "106:\tlearn: 0.1803081\ttotal: 7.21s\tremaining: 1m\n",
      "107:\tlearn: 0.1800352\ttotal: 7.28s\tremaining: 1m\n",
      "108:\tlearn: 0.1796290\ttotal: 7.34s\tremaining: 1m\n",
      "109:\tlearn: 0.1792349\ttotal: 7.41s\tremaining: 59.9s\n",
      "110:\tlearn: 0.1790115\ttotal: 7.47s\tremaining: 59.8s\n",
      "111:\tlearn: 0.1787873\ttotal: 7.53s\tremaining: 59.7s\n",
      "112:\tlearn: 0.1785235\ttotal: 7.6s\tremaining: 59.6s\n",
      "113:\tlearn: 0.1782853\ttotal: 7.66s\tremaining: 59.5s\n",
      "114:\tlearn: 0.1780613\ttotal: 7.72s\tremaining: 59.5s\n",
      "115:\tlearn: 0.1777975\ttotal: 7.79s\tremaining: 59.4s\n",
      "116:\tlearn: 0.1775476\ttotal: 7.85s\tremaining: 59.3s\n",
      "117:\tlearn: 0.1772866\ttotal: 7.92s\tremaining: 59.2s\n",
      "118:\tlearn: 0.1770510\ttotal: 7.98s\tremaining: 59.1s\n",
      "119:\tlearn: 0.1768095\ttotal: 8.04s\tremaining: 59s\n",
      "120:\tlearn: 0.1763404\ttotal: 8.11s\tremaining: 58.9s\n",
      "121:\tlearn: 0.1761360\ttotal: 8.17s\tremaining: 58.8s\n",
      "122:\tlearn: 0.1759381\ttotal: 8.23s\tremaining: 58.7s\n",
      "123:\tlearn: 0.1757485\ttotal: 8.3s\tremaining: 58.6s\n",
      "124:\tlearn: 0.1755256\ttotal: 8.36s\tremaining: 58.6s\n",
      "125:\tlearn: 0.1752722\ttotal: 8.46s\tremaining: 58.7s\n",
      "126:\tlearn: 0.1749411\ttotal: 8.54s\tremaining: 58.7s\n",
      "127:\tlearn: 0.1747290\ttotal: 8.6s\tremaining: 58.6s\n",
      "128:\tlearn: 0.1744104\ttotal: 8.66s\tremaining: 58.5s\n",
      "129:\tlearn: 0.1742127\ttotal: 8.73s\tremaining: 58.4s\n",
      "130:\tlearn: 0.1740303\ttotal: 8.8s\tremaining: 58.4s\n",
      "131:\tlearn: 0.1738289\ttotal: 8.86s\tremaining: 58.3s\n",
      "132:\tlearn: 0.1736188\ttotal: 8.93s\tremaining: 58.2s\n",
      "133:\tlearn: 0.1732214\ttotal: 8.99s\tremaining: 58.1s\n",
      "134:\tlearn: 0.1730152\ttotal: 9.06s\tremaining: 58s\n",
      "135:\tlearn: 0.1728064\ttotal: 9.13s\tremaining: 58s\n",
      "136:\tlearn: 0.1726726\ttotal: 9.19s\tremaining: 57.9s\n",
      "137:\tlearn: 0.1724127\ttotal: 9.26s\tremaining: 57.8s\n",
      "138:\tlearn: 0.1722276\ttotal: 9.33s\tremaining: 57.8s\n",
      "139:\tlearn: 0.1720118\ttotal: 9.39s\tremaining: 57.7s\n",
      "140:\tlearn: 0.1718176\ttotal: 9.46s\tremaining: 57.6s\n",
      "141:\tlearn: 0.1716080\ttotal: 9.52s\tremaining: 57.6s\n",
      "142:\tlearn: 0.1714164\ttotal: 9.59s\tremaining: 57.5s\n",
      "143:\tlearn: 0.1712230\ttotal: 9.66s\tremaining: 57.4s\n",
      "144:\tlearn: 0.1710130\ttotal: 9.72s\tremaining: 57.3s\n",
      "145:\tlearn: 0.1708170\ttotal: 9.79s\tremaining: 57.3s\n",
      "146:\tlearn: 0.1706522\ttotal: 9.86s\tremaining: 57.2s\n",
      "147:\tlearn: 0.1704873\ttotal: 9.92s\tremaining: 57.1s\n",
      "148:\tlearn: 0.1702929\ttotal: 9.99s\tremaining: 57s\n",
      "149:\tlearn: 0.1700941\ttotal: 10.1s\tremaining: 57s\n",
      "150:\tlearn: 0.1699724\ttotal: 10.1s\tremaining: 56.9s\n",
      "151:\tlearn: 0.1697898\ttotal: 10.2s\tremaining: 56.9s\n",
      "152:\tlearn: 0.1695561\ttotal: 10.3s\tremaining: 56.8s\n",
      "153:\tlearn: 0.1693926\ttotal: 10.3s\tremaining: 56.7s\n",
      "154:\tlearn: 0.1692100\ttotal: 10.4s\tremaining: 56.7s\n",
      "155:\tlearn: 0.1690387\ttotal: 10.5s\tremaining: 56.6s\n",
      "156:\tlearn: 0.1688660\ttotal: 10.5s\tremaining: 56.5s\n",
      "157:\tlearn: 0.1687002\ttotal: 10.6s\tremaining: 56.5s\n",
      "158:\tlearn: 0.1685018\ttotal: 10.7s\tremaining: 56.4s\n",
      "159:\tlearn: 0.1682853\ttotal: 10.7s\tremaining: 56.3s\n",
      "160:\tlearn: 0.1681125\ttotal: 10.8s\tremaining: 56.3s\n",
      "161:\tlearn: 0.1679494\ttotal: 10.9s\tremaining: 56.2s\n",
      "162:\tlearn: 0.1677515\ttotal: 10.9s\tremaining: 56.1s\n",
      "163:\tlearn: 0.1673529\ttotal: 11s\tremaining: 56s\n",
      "164:\tlearn: 0.1672136\ttotal: 11.1s\tremaining: 56s\n",
      "165:\tlearn: 0.1668821\ttotal: 11.1s\tremaining: 55.9s\n",
      "166:\tlearn: 0.1666942\ttotal: 11.2s\tremaining: 55.9s\n",
      "167:\tlearn: 0.1665079\ttotal: 11.3s\tremaining: 55.8s\n",
      "168:\tlearn: 0.1663798\ttotal: 11.4s\tremaining: 55.8s\n",
      "169:\tlearn: 0.1660893\ttotal: 11.4s\tremaining: 55.8s\n",
      "170:\tlearn: 0.1657640\ttotal: 11.5s\tremaining: 55.7s\n",
      "171:\tlearn: 0.1656195\ttotal: 11.6s\tremaining: 55.6s\n",
      "172:\tlearn: 0.1654362\ttotal: 11.6s\tremaining: 55.5s\n",
      "173:\tlearn: 0.1652774\ttotal: 11.7s\tremaining: 55.4s\n",
      "174:\tlearn: 0.1651025\ttotal: 11.8s\tremaining: 55.4s\n",
      "175:\tlearn: 0.1648602\ttotal: 11.8s\tremaining: 55.3s\n",
      "176:\tlearn: 0.1646930\ttotal: 11.9s\tremaining: 55.2s\n",
      "177:\tlearn: 0.1645162\ttotal: 11.9s\tremaining: 55.1s\n",
      "178:\tlearn: 0.1642168\ttotal: 12s\tremaining: 55.1s\n",
      "179:\tlearn: 0.1640800\ttotal: 12.1s\tremaining: 55s\n",
      "180:\tlearn: 0.1639165\ttotal: 12.1s\tremaining: 54.9s\n",
      "181:\tlearn: 0.1636974\ttotal: 12.2s\tremaining: 54.8s\n",
      "182:\tlearn: 0.1635029\ttotal: 12.2s\tremaining: 54.7s\n",
      "183:\tlearn: 0.1633598\ttotal: 12.3s\tremaining: 54.6s\n",
      "184:\tlearn: 0.1632038\ttotal: 12.4s\tremaining: 54.5s\n",
      "185:\tlearn: 0.1630354\ttotal: 12.4s\tremaining: 54.4s\n",
      "186:\tlearn: 0.1628963\ttotal: 12.5s\tremaining: 54.4s\n",
      "187:\tlearn: 0.1625846\ttotal: 12.6s\tremaining: 54.3s\n",
      "188:\tlearn: 0.1624295\ttotal: 12.6s\tremaining: 54.2s\n",
      "189:\tlearn: 0.1622240\ttotal: 12.7s\tremaining: 54.1s\n",
      "190:\tlearn: 0.1620536\ttotal: 12.8s\tremaining: 54s\n",
      "191:\tlearn: 0.1619012\ttotal: 12.8s\tremaining: 53.9s\n",
      "192:\tlearn: 0.1617521\ttotal: 12.9s\tremaining: 53.9s\n",
      "193:\tlearn: 0.1615832\ttotal: 12.9s\tremaining: 53.8s\n",
      "194:\tlearn: 0.1613993\ttotal: 13s\tremaining: 53.7s\n",
      "195:\tlearn: 0.1612554\ttotal: 13.1s\tremaining: 53.6s\n",
      "196:\tlearn: 0.1611170\ttotal: 13.1s\tremaining: 53.5s\n",
      "197:\tlearn: 0.1609818\ttotal: 13.2s\tremaining: 53.5s\n",
      "198:\tlearn: 0.1608327\ttotal: 13.3s\tremaining: 53.4s\n",
      "199:\tlearn: 0.1606771\ttotal: 13.3s\tremaining: 53.3s\n",
      "200:\tlearn: 0.1605219\ttotal: 13.4s\tremaining: 53.3s\n",
      "201:\tlearn: 0.1604097\ttotal: 13.5s\tremaining: 53.2s\n",
      "202:\tlearn: 0.1602369\ttotal: 13.5s\tremaining: 53.1s\n",
      "203:\tlearn: 0.1601054\ttotal: 13.6s\tremaining: 53s\n",
      "204:\tlearn: 0.1599819\ttotal: 13.7s\tremaining: 53s\n",
      "205:\tlearn: 0.1598153\ttotal: 13.7s\tremaining: 52.9s\n",
      "206:\tlearn: 0.1596293\ttotal: 13.8s\tremaining: 52.8s\n",
      "207:\tlearn: 0.1594870\ttotal: 13.9s\tremaining: 52.7s\n",
      "208:\tlearn: 0.1593448\ttotal: 13.9s\tremaining: 52.7s\n",
      "209:\tlearn: 0.1591890\ttotal: 14s\tremaining: 52.6s\n",
      "210:\tlearn: 0.1590465\ttotal: 14.1s\tremaining: 52.6s\n",
      "211:\tlearn: 0.1589322\ttotal: 14.1s\tremaining: 52.5s\n",
      "212:\tlearn: 0.1587963\ttotal: 14.2s\tremaining: 52.4s\n",
      "213:\tlearn: 0.1586647\ttotal: 14.3s\tremaining: 52.4s\n",
      "214:\tlearn: 0.1585497\ttotal: 14.3s\tremaining: 52.3s\n",
      "215:\tlearn: 0.1583969\ttotal: 14.4s\tremaining: 52.3s\n",
      "216:\tlearn: 0.1582802\ttotal: 14.5s\tremaining: 52.2s\n",
      "217:\tlearn: 0.1581187\ttotal: 14.5s\tremaining: 52.1s\n",
      "218:\tlearn: 0.1580085\ttotal: 14.6s\tremaining: 52s\n",
      "219:\tlearn: 0.1578386\ttotal: 14.6s\tremaining: 51.9s\n",
      "220:\tlearn: 0.1577090\ttotal: 14.7s\tremaining: 51.8s\n",
      "221:\tlearn: 0.1575837\ttotal: 14.8s\tremaining: 51.7s\n",
      "222:\tlearn: 0.1574768\ttotal: 14.8s\tremaining: 51.7s\n",
      "223:\tlearn: 0.1572832\ttotal: 14.9s\tremaining: 51.6s\n",
      "224:\tlearn: 0.1571638\ttotal: 14.9s\tremaining: 51.5s\n",
      "225:\tlearn: 0.1570252\ttotal: 15s\tremaining: 51.4s\n",
      "226:\tlearn: 0.1569014\ttotal: 15.1s\tremaining: 51.3s\n",
      "227:\tlearn: 0.1567750\ttotal: 15.1s\tremaining: 51.2s\n",
      "228:\tlearn: 0.1566776\ttotal: 15.2s\tremaining: 51.1s\n",
      "229:\tlearn: 0.1565719\ttotal: 15.3s\tremaining: 51.1s\n",
      "230:\tlearn: 0.1564535\ttotal: 15.3s\tremaining: 51s\n",
      "231:\tlearn: 0.1563176\ttotal: 15.4s\tremaining: 50.9s\n",
      "232:\tlearn: 0.1561496\ttotal: 15.5s\tremaining: 50.9s\n",
      "233:\tlearn: 0.1560301\ttotal: 15.5s\tremaining: 50.8s\n",
      "234:\tlearn: 0.1559024\ttotal: 15.6s\tremaining: 50.7s\n",
      "235:\tlearn: 0.1557932\ttotal: 15.6s\tremaining: 50.6s\n",
      "236:\tlearn: 0.1556643\ttotal: 15.7s\tremaining: 50.6s\n",
      "237:\tlearn: 0.1555479\ttotal: 15.8s\tremaining: 50.5s\n",
      "238:\tlearn: 0.1554230\ttotal: 15.8s\tremaining: 50.4s\n",
      "239:\tlearn: 0.1552749\ttotal: 15.9s\tremaining: 50.3s\n",
      "240:\tlearn: 0.1551427\ttotal: 16s\tremaining: 50.2s\n",
      "241:\tlearn: 0.1549963\ttotal: 16s\tremaining: 50.2s\n",
      "242:\tlearn: 0.1548813\ttotal: 16.1s\tremaining: 50.1s\n",
      "243:\tlearn: 0.1547549\ttotal: 16.1s\tremaining: 50s\n",
      "244:\tlearn: 0.1546451\ttotal: 16.2s\tremaining: 49.9s\n",
      "245:\tlearn: 0.1544850\ttotal: 16.3s\tremaining: 49.8s\n",
      "246:\tlearn: 0.1542827\ttotal: 16.3s\tremaining: 49.8s\n",
      "247:\tlearn: 0.1540076\ttotal: 16.4s\tremaining: 49.7s\n",
      "248:\tlearn: 0.1538784\ttotal: 16.4s\tremaining: 49.6s\n",
      "249:\tlearn: 0.1537790\ttotal: 16.5s\tremaining: 49.5s\n",
      "250:\tlearn: 0.1536603\ttotal: 16.6s\tremaining: 49.4s\n",
      "251:\tlearn: 0.1535462\ttotal: 16.6s\tremaining: 49.4s\n",
      "252:\tlearn: 0.1534056\ttotal: 16.7s\tremaining: 49.3s\n",
      "253:\tlearn: 0.1532690\ttotal: 16.8s\tremaining: 49.2s\n",
      "254:\tlearn: 0.1531050\ttotal: 16.8s\tremaining: 49.1s\n",
      "255:\tlearn: 0.1530012\ttotal: 16.9s\tremaining: 49.1s\n",
      "256:\tlearn: 0.1528275\ttotal: 16.9s\tremaining: 49s\n",
      "257:\tlearn: 0.1526985\ttotal: 17s\tremaining: 48.9s\n",
      "258:\tlearn: 0.1525838\ttotal: 17.1s\tremaining: 48.9s\n",
      "259:\tlearn: 0.1524399\ttotal: 17.1s\tremaining: 48.8s\n",
      "260:\tlearn: 0.1523306\ttotal: 17.2s\tremaining: 48.7s\n",
      "261:\tlearn: 0.1522269\ttotal: 17.3s\tremaining: 48.6s\n",
      "262:\tlearn: 0.1520827\ttotal: 17.3s\tremaining: 48.6s\n",
      "263:\tlearn: 0.1519714\ttotal: 17.4s\tremaining: 48.5s\n",
      "264:\tlearn: 0.1518725\ttotal: 17.5s\tremaining: 48.4s\n",
      "265:\tlearn: 0.1517816\ttotal: 17.5s\tremaining: 48.3s\n",
      "266:\tlearn: 0.1516391\ttotal: 17.6s\tremaining: 48.3s\n",
      "267:\tlearn: 0.1515459\ttotal: 17.6s\tremaining: 48.2s\n",
      "268:\tlearn: 0.1514425\ttotal: 17.7s\tremaining: 48.1s\n",
      "269:\tlearn: 0.1513250\ttotal: 17.8s\tremaining: 48s\n",
      "270:\tlearn: 0.1512140\ttotal: 17.8s\tremaining: 48s\n",
      "271:\tlearn: 0.1511185\ttotal: 17.9s\tremaining: 47.9s\n",
      "272:\tlearn: 0.1510067\ttotal: 18s\tremaining: 47.8s\n",
      "273:\tlearn: 0.1509053\ttotal: 18s\tremaining: 47.7s\n",
      "274:\tlearn: 0.1507675\ttotal: 18.1s\tremaining: 47.7s\n",
      "275:\tlearn: 0.1506568\ttotal: 18.1s\tremaining: 47.6s\n",
      "276:\tlearn: 0.1504653\ttotal: 18.2s\tremaining: 47.5s\n",
      "277:\tlearn: 0.1503568\ttotal: 18.3s\tremaining: 47.4s\n",
      "278:\tlearn: 0.1501561\ttotal: 18.3s\tremaining: 47.4s\n",
      "279:\tlearn: 0.1500621\ttotal: 18.4s\tremaining: 47.3s\n",
      "280:\tlearn: 0.1499770\ttotal: 18.5s\tremaining: 47.2s\n",
      "281:\tlearn: 0.1498388\ttotal: 18.5s\tremaining: 47.1s\n",
      "282:\tlearn: 0.1497259\ttotal: 18.6s\tremaining: 47.1s\n",
      "283:\tlearn: 0.1495954\ttotal: 18.6s\tremaining: 47s\n",
      "284:\tlearn: 0.1494442\ttotal: 18.7s\tremaining: 46.9s\n",
      "285:\tlearn: 0.1493292\ttotal: 18.8s\tremaining: 46.9s\n",
      "286:\tlearn: 0.1492101\ttotal: 18.8s\tremaining: 46.8s\n",
      "287:\tlearn: 0.1490732\ttotal: 18.9s\tremaining: 46.7s\n",
      "288:\tlearn: 0.1489388\ttotal: 19s\tremaining: 46.6s\n",
      "289:\tlearn: 0.1488491\ttotal: 19s\tremaining: 46.6s\n",
      "290:\tlearn: 0.1487480\ttotal: 19.1s\tremaining: 46.5s\n",
      "291:\tlearn: 0.1486096\ttotal: 19.1s\tremaining: 46.4s\n",
      "292:\tlearn: 0.1485097\ttotal: 19.2s\tremaining: 46.4s\n",
      "293:\tlearn: 0.1484108\ttotal: 19.3s\tremaining: 46.3s\n",
      "294:\tlearn: 0.1482875\ttotal: 19.3s\tremaining: 46.2s\n",
      "295:\tlearn: 0.1481952\ttotal: 19.4s\tremaining: 46.1s\n",
      "296:\tlearn: 0.1481031\ttotal: 19.5s\tremaining: 46.1s\n",
      "297:\tlearn: 0.1479898\ttotal: 19.5s\tremaining: 46s\n",
      "298:\tlearn: 0.1478921\ttotal: 19.6s\tremaining: 45.9s\n",
      "299:\tlearn: 0.1477994\ttotal: 19.6s\tremaining: 45.8s\n",
      "300:\tlearn: 0.1477166\ttotal: 19.7s\tremaining: 45.8s\n",
      "301:\tlearn: 0.1476305\ttotal: 19.8s\tremaining: 45.7s\n",
      "302:\tlearn: 0.1474050\ttotal: 19.8s\tremaining: 45.6s\n",
      "303:\tlearn: 0.1473092\ttotal: 19.9s\tremaining: 45.6s\n",
      "304:\tlearn: 0.1471584\ttotal: 20s\tremaining: 45.5s\n",
      "305:\tlearn: 0.1468470\ttotal: 20s\tremaining: 45.4s\n",
      "306:\tlearn: 0.1467497\ttotal: 20.1s\tremaining: 45.3s\n",
      "307:\tlearn: 0.1464901\ttotal: 20.1s\tremaining: 45.3s\n",
      "308:\tlearn: 0.1463719\ttotal: 20.2s\tremaining: 45.2s\n",
      "309:\tlearn: 0.1462282\ttotal: 20.3s\tremaining: 45.1s\n",
      "310:\tlearn: 0.1460934\ttotal: 20.3s\tremaining: 45s\n",
      "311:\tlearn: 0.1459731\ttotal: 20.4s\tremaining: 45s\n",
      "312:\tlearn: 0.1458909\ttotal: 20.5s\tremaining: 44.9s\n",
      "313:\tlearn: 0.1458000\ttotal: 20.5s\tremaining: 44.8s\n",
      "314:\tlearn: 0.1457140\ttotal: 20.6s\tremaining: 44.7s\n",
      "315:\tlearn: 0.1455862\ttotal: 20.6s\tremaining: 44.7s\n",
      "316:\tlearn: 0.1455066\ttotal: 20.7s\tremaining: 44.6s\n",
      "317:\tlearn: 0.1453174\ttotal: 20.8s\tremaining: 44.5s\n",
      "318:\tlearn: 0.1452371\ttotal: 20.8s\tremaining: 44.5s\n",
      "319:\tlearn: 0.1450744\ttotal: 20.9s\tremaining: 44.4s\n",
      "320:\tlearn: 0.1449782\ttotal: 21s\tremaining: 44.3s\n",
      "321:\tlearn: 0.1448392\ttotal: 21s\tremaining: 44.2s\n",
      "322:\tlearn: 0.1447626\ttotal: 21.1s\tremaining: 44.2s\n",
      "323:\tlearn: 0.1446679\ttotal: 21.1s\tremaining: 44.1s\n",
      "324:\tlearn: 0.1445524\ttotal: 21.2s\tremaining: 44s\n",
      "325:\tlearn: 0.1443825\ttotal: 21.3s\tremaining: 43.9s\n",
      "326:\tlearn: 0.1442481\ttotal: 21.3s\tremaining: 43.9s\n",
      "327:\tlearn: 0.1441298\ttotal: 21.4s\tremaining: 43.8s\n",
      "328:\tlearn: 0.1440272\ttotal: 21.4s\tremaining: 43.7s\n",
      "329:\tlearn: 0.1439290\ttotal: 21.5s\tremaining: 43.7s\n",
      "330:\tlearn: 0.1437193\ttotal: 21.6s\tremaining: 43.6s\n",
      "331:\tlearn: 0.1436433\ttotal: 21.6s\tremaining: 43.5s\n",
      "332:\tlearn: 0.1435528\ttotal: 21.7s\tremaining: 43.5s\n",
      "333:\tlearn: 0.1434300\ttotal: 21.8s\tremaining: 43.4s\n",
      "334:\tlearn: 0.1433287\ttotal: 21.8s\tremaining: 43.3s\n",
      "335:\tlearn: 0.1432095\ttotal: 21.9s\tremaining: 43.3s\n",
      "336:\tlearn: 0.1431308\ttotal: 22s\tremaining: 43.2s\n",
      "337:\tlearn: 0.1430400\ttotal: 22s\tremaining: 43.1s\n",
      "338:\tlearn: 0.1429138\ttotal: 22.1s\tremaining: 43.1s\n",
      "339:\tlearn: 0.1428325\ttotal: 22.2s\tremaining: 43s\n",
      "340:\tlearn: 0.1427178\ttotal: 22.2s\tremaining: 42.9s\n",
      "341:\tlearn: 0.1426013\ttotal: 22.3s\tremaining: 42.9s\n",
      "342:\tlearn: 0.1425295\ttotal: 22.4s\tremaining: 42.8s\n",
      "343:\tlearn: 0.1424216\ttotal: 22.4s\tremaining: 42.7s\n",
      "344:\tlearn: 0.1422985\ttotal: 22.5s\tremaining: 42.7s\n",
      "345:\tlearn: 0.1422086\ttotal: 22.5s\tremaining: 42.6s\n",
      "346:\tlearn: 0.1420935\ttotal: 22.6s\tremaining: 42.5s\n",
      "347:\tlearn: 0.1420223\ttotal: 22.7s\tremaining: 42.5s\n",
      "348:\tlearn: 0.1419093\ttotal: 22.7s\tremaining: 42.4s\n",
      "349:\tlearn: 0.1418197\ttotal: 22.8s\tremaining: 42.3s\n",
      "350:\tlearn: 0.1417529\ttotal: 22.9s\tremaining: 42.3s\n",
      "351:\tlearn: 0.1416835\ttotal: 22.9s\tremaining: 42.2s\n",
      "352:\tlearn: 0.1415348\ttotal: 23s\tremaining: 42.1s\n",
      "353:\tlearn: 0.1414464\ttotal: 23.1s\tremaining: 42.1s\n",
      "354:\tlearn: 0.1413465\ttotal: 23.1s\tremaining: 42s\n",
      "355:\tlearn: 0.1412827\ttotal: 23.2s\tremaining: 41.9s\n",
      "356:\tlearn: 0.1411926\ttotal: 23.2s\tremaining: 41.9s\n",
      "357:\tlearn: 0.1411248\ttotal: 23.3s\tremaining: 41.8s\n",
      "358:\tlearn: 0.1410543\ttotal: 23.4s\tremaining: 41.7s\n",
      "359:\tlearn: 0.1409392\ttotal: 23.4s\tremaining: 41.7s\n",
      "360:\tlearn: 0.1408256\ttotal: 23.5s\tremaining: 41.6s\n",
      "361:\tlearn: 0.1407363\ttotal: 23.6s\tremaining: 41.5s\n",
      "362:\tlearn: 0.1405201\ttotal: 23.6s\tremaining: 41.5s\n",
      "363:\tlearn: 0.1404617\ttotal: 23.7s\tremaining: 41.4s\n",
      "364:\tlearn: 0.1403435\ttotal: 23.8s\tremaining: 41.3s\n",
      "365:\tlearn: 0.1402669\ttotal: 23.8s\tremaining: 41.3s\n",
      "366:\tlearn: 0.1402081\ttotal: 23.9s\tremaining: 41.2s\n",
      "367:\tlearn: 0.1401499\ttotal: 24s\tremaining: 41.1s\n",
      "368:\tlearn: 0.1400863\ttotal: 24s\tremaining: 41.1s\n",
      "369:\tlearn: 0.1400054\ttotal: 24.1s\tremaining: 41s\n",
      "370:\tlearn: 0.1397983\ttotal: 24.1s\tremaining: 40.9s\n",
      "371:\tlearn: 0.1396526\ttotal: 24.2s\tremaining: 40.9s\n",
      "372:\tlearn: 0.1395500\ttotal: 24.3s\tremaining: 40.8s\n",
      "373:\tlearn: 0.1394882\ttotal: 24.3s\tremaining: 40.7s\n",
      "374:\tlearn: 0.1394207\ttotal: 24.4s\tremaining: 40.7s\n",
      "375:\tlearn: 0.1393468\ttotal: 24.5s\tremaining: 40.6s\n",
      "376:\tlearn: 0.1392306\ttotal: 24.5s\tremaining: 40.5s\n",
      "377:\tlearn: 0.1391333\ttotal: 24.6s\tremaining: 40.5s\n",
      "378:\tlearn: 0.1390524\ttotal: 24.7s\tremaining: 40.4s\n",
      "379:\tlearn: 0.1389969\ttotal: 24.7s\tremaining: 40.4s\n",
      "380:\tlearn: 0.1389382\ttotal: 24.8s\tremaining: 40.3s\n",
      "381:\tlearn: 0.1388764\ttotal: 24.9s\tremaining: 40.2s\n",
      "382:\tlearn: 0.1388058\ttotal: 24.9s\tremaining: 40.2s\n",
      "383:\tlearn: 0.1386074\ttotal: 25s\tremaining: 40.1s\n",
      "384:\tlearn: 0.1385165\ttotal: 25.1s\tremaining: 40s\n",
      "385:\tlearn: 0.1384308\ttotal: 25.1s\tremaining: 40s\n",
      "386:\tlearn: 0.1383730\ttotal: 25.2s\tremaining: 39.9s\n",
      "387:\tlearn: 0.1382528\ttotal: 25.3s\tremaining: 39.8s\n",
      "388:\tlearn: 0.1381959\ttotal: 25.3s\tremaining: 39.8s\n",
      "389:\tlearn: 0.1381267\ttotal: 25.4s\tremaining: 39.7s\n",
      "390:\tlearn: 0.1380700\ttotal: 25.5s\tremaining: 39.7s\n",
      "391:\tlearn: 0.1379392\ttotal: 25.5s\tremaining: 39.6s\n",
      "392:\tlearn: 0.1378310\ttotal: 25.6s\tremaining: 39.5s\n",
      "393:\tlearn: 0.1377762\ttotal: 25.6s\tremaining: 39.4s\n",
      "394:\tlearn: 0.1376983\ttotal: 25.7s\tremaining: 39.4s\n",
      "395:\tlearn: 0.1376101\ttotal: 25.8s\tremaining: 39.3s\n",
      "396:\tlearn: 0.1374840\ttotal: 25.8s\tremaining: 39.2s\n",
      "397:\tlearn: 0.1374083\ttotal: 25.9s\tremaining: 39.2s\n",
      "398:\tlearn: 0.1373365\ttotal: 26s\tremaining: 39.1s\n",
      "399:\tlearn: 0.1372596\ttotal: 26s\tremaining: 39s\n",
      "400:\tlearn: 0.1372029\ttotal: 26.1s\tremaining: 39s\n",
      "401:\tlearn: 0.1371102\ttotal: 26.2s\tremaining: 38.9s\n",
      "402:\tlearn: 0.1370411\ttotal: 26.2s\tremaining: 38.8s\n",
      "403:\tlearn: 0.1369668\ttotal: 26.3s\tremaining: 38.8s\n",
      "404:\tlearn: 0.1368573\ttotal: 26.4s\tremaining: 38.7s\n",
      "405:\tlearn: 0.1367562\ttotal: 26.4s\tremaining: 38.7s\n",
      "406:\tlearn: 0.1366928\ttotal: 26.5s\tremaining: 38.6s\n",
      "407:\tlearn: 0.1365755\ttotal: 26.6s\tremaining: 38.5s\n",
      "408:\tlearn: 0.1365197\ttotal: 26.6s\tremaining: 38.5s\n",
      "409:\tlearn: 0.1364272\ttotal: 26.7s\tremaining: 38.4s\n",
      "410:\tlearn: 0.1363711\ttotal: 26.8s\tremaining: 38.3s\n",
      "411:\tlearn: 0.1362839\ttotal: 26.8s\tremaining: 38.3s\n",
      "412:\tlearn: 0.1362270\ttotal: 26.9s\tremaining: 38.2s\n",
      "413:\tlearn: 0.1361491\ttotal: 26.9s\tremaining: 38.1s\n",
      "414:\tlearn: 0.1360968\ttotal: 27s\tremaining: 38.1s\n",
      "415:\tlearn: 0.1359892\ttotal: 27.1s\tremaining: 38s\n",
      "416:\tlearn: 0.1359225\ttotal: 27.1s\tremaining: 38s\n",
      "417:\tlearn: 0.1358690\ttotal: 27.2s\tremaining: 37.9s\n",
      "418:\tlearn: 0.1357834\ttotal: 27.3s\tremaining: 37.8s\n",
      "419:\tlearn: 0.1356726\ttotal: 27.4s\tremaining: 37.8s\n",
      "420:\tlearn: 0.1355121\ttotal: 27.4s\tremaining: 37.7s\n",
      "421:\tlearn: 0.1354604\ttotal: 27.5s\tremaining: 37.7s\n",
      "422:\tlearn: 0.1353845\ttotal: 27.6s\tremaining: 37.6s\n",
      "423:\tlearn: 0.1353331\ttotal: 27.6s\tremaining: 37.5s\n",
      "424:\tlearn: 0.1352682\ttotal: 27.7s\tremaining: 37.5s\n",
      "425:\tlearn: 0.1351709\ttotal: 27.8s\tremaining: 37.4s\n",
      "426:\tlearn: 0.1350855\ttotal: 27.8s\tremaining: 37.3s\n",
      "427:\tlearn: 0.1350151\ttotal: 27.9s\tremaining: 37.3s\n",
      "428:\tlearn: 0.1348643\ttotal: 28s\tremaining: 37.2s\n",
      "429:\tlearn: 0.1348165\ttotal: 28s\tremaining: 37.1s\n",
      "430:\tlearn: 0.1347527\ttotal: 28.1s\tremaining: 37.1s\n",
      "431:\tlearn: 0.1346527\ttotal: 28.2s\tremaining: 37s\n",
      "432:\tlearn: 0.1345771\ttotal: 28.2s\tremaining: 36.9s\n",
      "433:\tlearn: 0.1345231\ttotal: 28.3s\tremaining: 36.9s\n",
      "434:\tlearn: 0.1344260\ttotal: 28.3s\tremaining: 36.8s\n",
      "435:\tlearn: 0.1343499\ttotal: 28.4s\tremaining: 36.7s\n",
      "436:\tlearn: 0.1342818\ttotal: 28.5s\tremaining: 36.7s\n",
      "437:\tlearn: 0.1342028\ttotal: 28.5s\tremaining: 36.6s\n",
      "438:\tlearn: 0.1341019\ttotal: 28.6s\tremaining: 36.5s\n",
      "439:\tlearn: 0.1340077\ttotal: 28.7s\tremaining: 36.5s\n",
      "440:\tlearn: 0.1339446\ttotal: 28.7s\tremaining: 36.4s\n",
      "441:\tlearn: 0.1338914\ttotal: 28.8s\tremaining: 36.4s\n",
      "442:\tlearn: 0.1338234\ttotal: 28.9s\tremaining: 36.3s\n",
      "443:\tlearn: 0.1337734\ttotal: 28.9s\tremaining: 36.2s\n",
      "444:\tlearn: 0.1336559\ttotal: 29s\tremaining: 36.2s\n",
      "445:\tlearn: 0.1335707\ttotal: 29.1s\tremaining: 36.1s\n",
      "446:\tlearn: 0.1335206\ttotal: 29.1s\tremaining: 36s\n",
      "447:\tlearn: 0.1334489\ttotal: 29.2s\tremaining: 36s\n",
      "448:\tlearn: 0.1333863\ttotal: 29.3s\tremaining: 35.9s\n",
      "449:\tlearn: 0.1333352\ttotal: 29.3s\tremaining: 35.8s\n",
      "450:\tlearn: 0.1332864\ttotal: 29.4s\tremaining: 35.8s\n",
      "451:\tlearn: 0.1332379\ttotal: 29.5s\tremaining: 35.7s\n",
      "452:\tlearn: 0.1331661\ttotal: 29.5s\tremaining: 35.7s\n",
      "453:\tlearn: 0.1330962\ttotal: 29.6s\tremaining: 35.6s\n",
      "454:\tlearn: 0.1330179\ttotal: 29.7s\tremaining: 35.5s\n",
      "455:\tlearn: 0.1329710\ttotal: 29.7s\tremaining: 35.5s\n",
      "456:\tlearn: 0.1329206\ttotal: 29.8s\tremaining: 35.4s\n",
      "457:\tlearn: 0.1328290\ttotal: 29.9s\tremaining: 35.3s\n",
      "458:\tlearn: 0.1327685\ttotal: 29.9s\tremaining: 35.3s\n",
      "459:\tlearn: 0.1327228\ttotal: 30s\tremaining: 35.2s\n",
      "460:\tlearn: 0.1326241\ttotal: 30.1s\tremaining: 35.2s\n",
      "461:\tlearn: 0.1325172\ttotal: 30.1s\tremaining: 35.1s\n",
      "462:\tlearn: 0.1324293\ttotal: 30.2s\tremaining: 35s\n",
      "463:\tlearn: 0.1323423\ttotal: 30.3s\tremaining: 35s\n",
      "464:\tlearn: 0.1322878\ttotal: 30.3s\tremaining: 34.9s\n",
      "465:\tlearn: 0.1321739\ttotal: 30.4s\tremaining: 34.8s\n",
      "466:\tlearn: 0.1321023\ttotal: 30.5s\tremaining: 34.8s\n",
      "467:\tlearn: 0.1320300\ttotal: 30.5s\tremaining: 34.7s\n",
      "468:\tlearn: 0.1319345\ttotal: 30.6s\tremaining: 34.6s\n",
      "469:\tlearn: 0.1318641\ttotal: 30.7s\tremaining: 34.6s\n",
      "470:\tlearn: 0.1317011\ttotal: 30.7s\tremaining: 34.5s\n",
      "471:\tlearn: 0.1316275\ttotal: 30.8s\tremaining: 34.4s\n",
      "472:\tlearn: 0.1315811\ttotal: 30.8s\tremaining: 34.4s\n",
      "473:\tlearn: 0.1314845\ttotal: 30.9s\tremaining: 34.3s\n",
      "474:\tlearn: 0.1313963\ttotal: 31s\tremaining: 34.2s\n",
      "475:\tlearn: 0.1313388\ttotal: 31s\tremaining: 34.2s\n",
      "476:\tlearn: 0.1312716\ttotal: 31.1s\tremaining: 34.1s\n",
      "477:\tlearn: 0.1311765\ttotal: 31.2s\tremaining: 34s\n",
      "478:\tlearn: 0.1310908\ttotal: 31.2s\tremaining: 34s\n",
      "479:\tlearn: 0.1309790\ttotal: 31.3s\tremaining: 33.9s\n",
      "480:\tlearn: 0.1308646\ttotal: 31.4s\tremaining: 33.8s\n",
      "481:\tlearn: 0.1308052\ttotal: 31.4s\tremaining: 33.8s\n",
      "482:\tlearn: 0.1307579\ttotal: 31.5s\tremaining: 33.7s\n",
      "483:\tlearn: 0.1307134\ttotal: 31.5s\tremaining: 33.6s\n",
      "484:\tlearn: 0.1306509\ttotal: 31.6s\tremaining: 33.6s\n",
      "485:\tlearn: 0.1305914\ttotal: 31.7s\tremaining: 33.5s\n",
      "486:\tlearn: 0.1305119\ttotal: 31.7s\tremaining: 33.4s\n",
      "487:\tlearn: 0.1304044\ttotal: 31.8s\tremaining: 33.4s\n",
      "488:\tlearn: 0.1303337\ttotal: 31.9s\tremaining: 33.3s\n",
      "489:\tlearn: 0.1302671\ttotal: 31.9s\tremaining: 33.2s\n",
      "490:\tlearn: 0.1301614\ttotal: 32s\tremaining: 33.2s\n",
      "491:\tlearn: 0.1300795\ttotal: 32s\tremaining: 33.1s\n",
      "492:\tlearn: 0.1299876\ttotal: 32.1s\tremaining: 33s\n",
      "493:\tlearn: 0.1299420\ttotal: 32.2s\tremaining: 33s\n",
      "494:\tlearn: 0.1298501\ttotal: 32.2s\tremaining: 32.9s\n",
      "495:\tlearn: 0.1297597\ttotal: 32.3s\tremaining: 32.8s\n",
      "496:\tlearn: 0.1297048\ttotal: 32.4s\tremaining: 32.7s\n",
      "497:\tlearn: 0.1296158\ttotal: 32.4s\tremaining: 32.7s\n",
      "498:\tlearn: 0.1295400\ttotal: 32.5s\tremaining: 32.6s\n",
      "499:\tlearn: 0.1294953\ttotal: 32.5s\tremaining: 32.5s\n",
      "500:\tlearn: 0.1294409\ttotal: 32.6s\tremaining: 32.5s\n",
      "501:\tlearn: 0.1293978\ttotal: 32.7s\tremaining: 32.4s\n",
      "502:\tlearn: 0.1293387\ttotal: 32.7s\tremaining: 32.3s\n",
      "503:\tlearn: 0.1292613\ttotal: 32.8s\tremaining: 32.3s\n",
      "504:\tlearn: 0.1292036\ttotal: 32.9s\tremaining: 32.2s\n",
      "505:\tlearn: 0.1291628\ttotal: 32.9s\tremaining: 32.1s\n",
      "506:\tlearn: 0.1290755\ttotal: 33s\tremaining: 32.1s\n",
      "507:\tlearn: 0.1290306\ttotal: 33.1s\tremaining: 32s\n",
      "508:\tlearn: 0.1289444\ttotal: 33.1s\tremaining: 32s\n",
      "509:\tlearn: 0.1288803\ttotal: 33.2s\tremaining: 31.9s\n",
      "510:\tlearn: 0.1287142\ttotal: 33.3s\tremaining: 31.8s\n",
      "511:\tlearn: 0.1286195\ttotal: 33.3s\tremaining: 31.8s\n",
      "512:\tlearn: 0.1285671\ttotal: 33.4s\tremaining: 31.7s\n",
      "513:\tlearn: 0.1285063\ttotal: 33.4s\tremaining: 31.6s\n",
      "514:\tlearn: 0.1284617\ttotal: 33.5s\tremaining: 31.6s\n",
      "515:\tlearn: 0.1283722\ttotal: 33.6s\tremaining: 31.5s\n",
      "516:\tlearn: 0.1282769\ttotal: 33.6s\tremaining: 31.4s\n",
      "517:\tlearn: 0.1281611\ttotal: 33.7s\tremaining: 31.4s\n",
      "518:\tlearn: 0.1280758\ttotal: 33.8s\tremaining: 31.3s\n",
      "519:\tlearn: 0.1280037\ttotal: 33.8s\tremaining: 31.2s\n",
      "520:\tlearn: 0.1279339\ttotal: 33.9s\tremaining: 31.2s\n",
      "521:\tlearn: 0.1278890\ttotal: 34s\tremaining: 31.1s\n",
      "522:\tlearn: 0.1278361\ttotal: 34s\tremaining: 31s\n",
      "523:\tlearn: 0.1277645\ttotal: 34.1s\tremaining: 31s\n",
      "524:\tlearn: 0.1276599\ttotal: 34.2s\tremaining: 30.9s\n",
      "525:\tlearn: 0.1275978\ttotal: 34.2s\tremaining: 30.8s\n",
      "526:\tlearn: 0.1275544\ttotal: 34.3s\tremaining: 30.8s\n",
      "527:\tlearn: 0.1274558\ttotal: 34.3s\tremaining: 30.7s\n",
      "528:\tlearn: 0.1273819\ttotal: 34.4s\tremaining: 30.6s\n",
      "529:\tlearn: 0.1273348\ttotal: 34.5s\tremaining: 30.6s\n",
      "530:\tlearn: 0.1272663\ttotal: 34.5s\tremaining: 30.5s\n",
      "531:\tlearn: 0.1272240\ttotal: 34.6s\tremaining: 30.4s\n",
      "532:\tlearn: 0.1271493\ttotal: 34.7s\tremaining: 30.4s\n",
      "533:\tlearn: 0.1270943\ttotal: 34.7s\tremaining: 30.3s\n",
      "534:\tlearn: 0.1269709\ttotal: 34.8s\tremaining: 30.2s\n",
      "535:\tlearn: 0.1267507\ttotal: 34.8s\tremaining: 30.2s\n",
      "536:\tlearn: 0.1266844\ttotal: 34.9s\tremaining: 30.1s\n",
      "537:\tlearn: 0.1266168\ttotal: 35s\tremaining: 30s\n",
      "538:\tlearn: 0.1265551\ttotal: 35s\tremaining: 30s\n",
      "539:\tlearn: 0.1265116\ttotal: 35.1s\tremaining: 29.9s\n",
      "540:\tlearn: 0.1264247\ttotal: 35.2s\tremaining: 29.8s\n",
      "541:\tlearn: 0.1263601\ttotal: 35.2s\tremaining: 29.8s\n",
      "542:\tlearn: 0.1263004\ttotal: 35.3s\tremaining: 29.7s\n",
      "543:\tlearn: 0.1262221\ttotal: 35.4s\tremaining: 29.6s\n",
      "544:\tlearn: 0.1261795\ttotal: 35.4s\tremaining: 29.6s\n",
      "545:\tlearn: 0.1261113\ttotal: 35.5s\tremaining: 29.5s\n",
      "546:\tlearn: 0.1260590\ttotal: 35.6s\tremaining: 29.5s\n",
      "547:\tlearn: 0.1260182\ttotal: 35.6s\tremaining: 29.4s\n",
      "548:\tlearn: 0.1259243\ttotal: 35.7s\tremaining: 29.3s\n",
      "549:\tlearn: 0.1258378\ttotal: 35.8s\tremaining: 29.3s\n",
      "550:\tlearn: 0.1257751\ttotal: 35.8s\tremaining: 29.2s\n",
      "551:\tlearn: 0.1257010\ttotal: 35.9s\tremaining: 29.1s\n",
      "552:\tlearn: 0.1256615\ttotal: 35.9s\tremaining: 29.1s\n",
      "553:\tlearn: 0.1256065\ttotal: 36s\tremaining: 29s\n",
      "554:\tlearn: 0.1255399\ttotal: 36.1s\tremaining: 28.9s\n",
      "555:\tlearn: 0.1254795\ttotal: 36.1s\tremaining: 28.9s\n",
      "556:\tlearn: 0.1254098\ttotal: 36.2s\tremaining: 28.8s\n",
      "557:\tlearn: 0.1253677\ttotal: 36.3s\tremaining: 28.7s\n",
      "558:\tlearn: 0.1252873\ttotal: 36.3s\tremaining: 28.7s\n",
      "559:\tlearn: 0.1252262\ttotal: 36.4s\tremaining: 28.6s\n",
      "560:\tlearn: 0.1251858\ttotal: 36.4s\tremaining: 28.5s\n",
      "561:\tlearn: 0.1250986\ttotal: 36.5s\tremaining: 28.5s\n",
      "562:\tlearn: 0.1250477\ttotal: 36.6s\tremaining: 28.4s\n",
      "563:\tlearn: 0.1249886\ttotal: 36.6s\tremaining: 28.3s\n",
      "564:\tlearn: 0.1249417\ttotal: 36.7s\tremaining: 28.3s\n",
      "565:\tlearn: 0.1249029\ttotal: 36.8s\tremaining: 28.2s\n",
      "566:\tlearn: 0.1248315\ttotal: 36.8s\tremaining: 28.1s\n",
      "567:\tlearn: 0.1247816\ttotal: 36.9s\tremaining: 28.1s\n",
      "568:\tlearn: 0.1247188\ttotal: 36.9s\tremaining: 28s\n",
      "569:\tlearn: 0.1246409\ttotal: 37s\tremaining: 27.9s\n",
      "570:\tlearn: 0.1245813\ttotal: 37.1s\tremaining: 27.9s\n",
      "571:\tlearn: 0.1244509\ttotal: 37.1s\tremaining: 27.8s\n",
      "572:\tlearn: 0.1243199\ttotal: 37.2s\tremaining: 27.7s\n",
      "573:\tlearn: 0.1242412\ttotal: 37.3s\tremaining: 27.6s\n",
      "574:\tlearn: 0.1242036\ttotal: 37.3s\tremaining: 27.6s\n",
      "575:\tlearn: 0.1241284\ttotal: 37.4s\tremaining: 27.5s\n",
      "576:\tlearn: 0.1240226\ttotal: 37.4s\tremaining: 27.4s\n",
      "577:\tlearn: 0.1239377\ttotal: 37.5s\tremaining: 27.4s\n",
      "578:\tlearn: 0.1238872\ttotal: 37.6s\tremaining: 27.3s\n",
      "579:\tlearn: 0.1237931\ttotal: 37.6s\tremaining: 27.3s\n",
      "580:\tlearn: 0.1236970\ttotal: 37.7s\tremaining: 27.2s\n",
      "581:\tlearn: 0.1236401\ttotal: 37.8s\tremaining: 27.1s\n",
      "582:\tlearn: 0.1236035\ttotal: 37.8s\tremaining: 27.1s\n",
      "583:\tlearn: 0.1235181\ttotal: 37.9s\tremaining: 27s\n",
      "584:\tlearn: 0.1234812\ttotal: 38s\tremaining: 26.9s\n",
      "585:\tlearn: 0.1234215\ttotal: 38s\tremaining: 26.9s\n",
      "586:\tlearn: 0.1233834\ttotal: 38.1s\tremaining: 26.8s\n",
      "587:\tlearn: 0.1233326\ttotal: 38.2s\tremaining: 26.7s\n",
      "588:\tlearn: 0.1232743\ttotal: 38.2s\tremaining: 26.7s\n",
      "589:\tlearn: 0.1232008\ttotal: 38.3s\tremaining: 26.6s\n",
      "590:\tlearn: 0.1231177\ttotal: 38.4s\tremaining: 26.5s\n",
      "591:\tlearn: 0.1230603\ttotal: 38.4s\tremaining: 26.5s\n",
      "592:\tlearn: 0.1229684\ttotal: 38.5s\tremaining: 26.4s\n",
      "593:\tlearn: 0.1229319\ttotal: 38.5s\tremaining: 26.3s\n",
      "594:\tlearn: 0.1228827\ttotal: 38.6s\tremaining: 26.3s\n",
      "595:\tlearn: 0.1228010\ttotal: 38.7s\tremaining: 26.2s\n",
      "596:\tlearn: 0.1227429\ttotal: 38.7s\tremaining: 26.1s\n",
      "597:\tlearn: 0.1226519\ttotal: 38.8s\tremaining: 26.1s\n",
      "598:\tlearn: 0.1226071\ttotal: 38.9s\tremaining: 26s\n",
      "599:\tlearn: 0.1225687\ttotal: 38.9s\tremaining: 26s\n",
      "600:\tlearn: 0.1225310\ttotal: 39s\tremaining: 25.9s\n",
      "601:\tlearn: 0.1224924\ttotal: 39.1s\tremaining: 25.8s\n",
      "602:\tlearn: 0.1224425\ttotal: 39.1s\tremaining: 25.8s\n",
      "603:\tlearn: 0.1223513\ttotal: 39.2s\tremaining: 25.7s\n",
      "604:\tlearn: 0.1223043\ttotal: 39.3s\tremaining: 25.6s\n",
      "605:\tlearn: 0.1222500\ttotal: 39.3s\tremaining: 25.6s\n",
      "606:\tlearn: 0.1222028\ttotal: 39.4s\tremaining: 25.5s\n",
      "607:\tlearn: 0.1221430\ttotal: 39.4s\tremaining: 25.4s\n",
      "608:\tlearn: 0.1220415\ttotal: 39.5s\tremaining: 25.4s\n",
      "609:\tlearn: 0.1219531\ttotal: 39.6s\tremaining: 25.3s\n",
      "610:\tlearn: 0.1219003\ttotal: 39.6s\tremaining: 25.2s\n",
      "611:\tlearn: 0.1218664\ttotal: 39.7s\tremaining: 25.2s\n",
      "612:\tlearn: 0.1217014\ttotal: 39.8s\tremaining: 25.1s\n",
      "613:\tlearn: 0.1216272\ttotal: 39.8s\tremaining: 25.1s\n",
      "614:\tlearn: 0.1215776\ttotal: 39.9s\tremaining: 25s\n",
      "615:\tlearn: 0.1215130\ttotal: 40s\tremaining: 24.9s\n",
      "616:\tlearn: 0.1214342\ttotal: 40s\tremaining: 24.9s\n",
      "617:\tlearn: 0.1213831\ttotal: 40.1s\tremaining: 24.8s\n",
      "618:\tlearn: 0.1213326\ttotal: 40.2s\tremaining: 24.7s\n",
      "619:\tlearn: 0.1212750\ttotal: 40.3s\tremaining: 24.7s\n",
      "620:\tlearn: 0.1211401\ttotal: 40.3s\tremaining: 24.6s\n",
      "621:\tlearn: 0.1210983\ttotal: 40.4s\tremaining: 24.5s\n",
      "622:\tlearn: 0.1210266\ttotal: 40.5s\tremaining: 24.5s\n",
      "623:\tlearn: 0.1209895\ttotal: 40.5s\tremaining: 24.4s\n",
      "624:\tlearn: 0.1209329\ttotal: 40.6s\tremaining: 24.4s\n",
      "625:\tlearn: 0.1208754\ttotal: 40.7s\tremaining: 24.3s\n",
      "626:\tlearn: 0.1207620\ttotal: 40.7s\tremaining: 24.2s\n",
      "627:\tlearn: 0.1206915\ttotal: 40.8s\tremaining: 24.2s\n",
      "628:\tlearn: 0.1206432\ttotal: 40.9s\tremaining: 24.1s\n",
      "629:\tlearn: 0.1206062\ttotal: 40.9s\tremaining: 24s\n",
      "630:\tlearn: 0.1205730\ttotal: 41s\tremaining: 24s\n",
      "631:\tlearn: 0.1205287\ttotal: 41.1s\tremaining: 23.9s\n",
      "632:\tlearn: 0.1204696\ttotal: 41.1s\tremaining: 23.8s\n",
      "633:\tlearn: 0.1204210\ttotal: 41.2s\tremaining: 23.8s\n",
      "634:\tlearn: 0.1203602\ttotal: 41.3s\tremaining: 23.7s\n",
      "635:\tlearn: 0.1203147\ttotal: 41.3s\tremaining: 23.7s\n",
      "636:\tlearn: 0.1202797\ttotal: 41.4s\tremaining: 23.6s\n",
      "637:\tlearn: 0.1202060\ttotal: 41.5s\tremaining: 23.5s\n",
      "638:\tlearn: 0.1201480\ttotal: 41.5s\tremaining: 23.5s\n",
      "639:\tlearn: 0.1201082\ttotal: 41.6s\tremaining: 23.4s\n",
      "640:\tlearn: 0.1200726\ttotal: 41.7s\tremaining: 23.3s\n",
      "641:\tlearn: 0.1199924\ttotal: 41.7s\tremaining: 23.3s\n",
      "642:\tlearn: 0.1199584\ttotal: 41.8s\tremaining: 23.2s\n",
      "643:\tlearn: 0.1198982\ttotal: 41.9s\tremaining: 23.1s\n",
      "644:\tlearn: 0.1198307\ttotal: 41.9s\tremaining: 23.1s\n",
      "645:\tlearn: 0.1197491\ttotal: 42s\tremaining: 23s\n",
      "646:\tlearn: 0.1197060\ttotal: 42.1s\tremaining: 22.9s\n",
      "647:\tlearn: 0.1196706\ttotal: 42.1s\tremaining: 22.9s\n",
      "648:\tlearn: 0.1196262\ttotal: 42.2s\tremaining: 22.8s\n",
      "649:\tlearn: 0.1195520\ttotal: 42.3s\tremaining: 22.8s\n",
      "650:\tlearn: 0.1194825\ttotal: 42.3s\tremaining: 22.7s\n",
      "651:\tlearn: 0.1194297\ttotal: 42.4s\tremaining: 22.6s\n",
      "652:\tlearn: 0.1193824\ttotal: 42.5s\tremaining: 22.6s\n",
      "653:\tlearn: 0.1193324\ttotal: 42.5s\tremaining: 22.5s\n",
      "654:\tlearn: 0.1192700\ttotal: 42.6s\tremaining: 22.4s\n",
      "655:\tlearn: 0.1191992\ttotal: 42.7s\tremaining: 22.4s\n",
      "656:\tlearn: 0.1191167\ttotal: 42.7s\tremaining: 22.3s\n",
      "657:\tlearn: 0.1190701\ttotal: 42.8s\tremaining: 22.2s\n",
      "658:\tlearn: 0.1190273\ttotal: 42.9s\tremaining: 22.2s\n",
      "659:\tlearn: 0.1189844\ttotal: 42.9s\tremaining: 22.1s\n",
      "660:\tlearn: 0.1189220\ttotal: 43s\tremaining: 22.1s\n",
      "661:\tlearn: 0.1188721\ttotal: 43.1s\tremaining: 22s\n",
      "662:\tlearn: 0.1188345\ttotal: 43.1s\tremaining: 21.9s\n",
      "663:\tlearn: 0.1187464\ttotal: 43.2s\tremaining: 21.9s\n",
      "664:\tlearn: 0.1186792\ttotal: 43.3s\tremaining: 21.8s\n",
      "665:\tlearn: 0.1186457\ttotal: 43.3s\tremaining: 21.7s\n",
      "666:\tlearn: 0.1185891\ttotal: 43.4s\tremaining: 21.7s\n",
      "667:\tlearn: 0.1184825\ttotal: 43.5s\tremaining: 21.6s\n",
      "668:\tlearn: 0.1184409\ttotal: 43.5s\tremaining: 21.5s\n",
      "669:\tlearn: 0.1183539\ttotal: 43.6s\tremaining: 21.5s\n",
      "670:\tlearn: 0.1183058\ttotal: 43.7s\tremaining: 21.4s\n",
      "671:\tlearn: 0.1182367\ttotal: 43.7s\tremaining: 21.3s\n",
      "672:\tlearn: 0.1181755\ttotal: 43.8s\tremaining: 21.3s\n",
      "673:\tlearn: 0.1181071\ttotal: 43.9s\tremaining: 21.2s\n",
      "674:\tlearn: 0.1180741\ttotal: 43.9s\tremaining: 21.1s\n",
      "675:\tlearn: 0.1180388\ttotal: 44s\tremaining: 21.1s\n",
      "676:\tlearn: 0.1180069\ttotal: 44s\tremaining: 21s\n",
      "677:\tlearn: 0.1179693\ttotal: 44.1s\tremaining: 20.9s\n",
      "678:\tlearn: 0.1179154\ttotal: 44.2s\tremaining: 20.9s\n",
      "679:\tlearn: 0.1178374\ttotal: 44.2s\tremaining: 20.8s\n",
      "680:\tlearn: 0.1178054\ttotal: 44.3s\tremaining: 20.7s\n",
      "681:\tlearn: 0.1177551\ttotal: 44.4s\tremaining: 20.7s\n",
      "682:\tlearn: 0.1176856\ttotal: 44.4s\tremaining: 20.6s\n",
      "683:\tlearn: 0.1175924\ttotal: 44.5s\tremaining: 20.6s\n",
      "684:\tlearn: 0.1175389\ttotal: 44.5s\tremaining: 20.5s\n",
      "685:\tlearn: 0.1175065\ttotal: 44.6s\tremaining: 20.4s\n",
      "686:\tlearn: 0.1174620\ttotal: 44.7s\tremaining: 20.4s\n",
      "687:\tlearn: 0.1173717\ttotal: 44.7s\tremaining: 20.3s\n",
      "688:\tlearn: 0.1173394\ttotal: 44.8s\tremaining: 20.2s\n",
      "689:\tlearn: 0.1172710\ttotal: 44.9s\tremaining: 20.2s\n",
      "690:\tlearn: 0.1171902\ttotal: 44.9s\tremaining: 20.1s\n",
      "691:\tlearn: 0.1171499\ttotal: 45s\tremaining: 20s\n",
      "692:\tlearn: 0.1170985\ttotal: 45s\tremaining: 20s\n",
      "693:\tlearn: 0.1170594\ttotal: 45.1s\tremaining: 19.9s\n",
      "694:\tlearn: 0.1169864\ttotal: 45.2s\tremaining: 19.8s\n",
      "695:\tlearn: 0.1169211\ttotal: 45.2s\tremaining: 19.8s\n",
      "696:\tlearn: 0.1168850\ttotal: 45.3s\tremaining: 19.7s\n",
      "697:\tlearn: 0.1168413\ttotal: 45.4s\tremaining: 19.6s\n",
      "698:\tlearn: 0.1167937\ttotal: 45.4s\tremaining: 19.6s\n",
      "699:\tlearn: 0.1166512\ttotal: 45.5s\tremaining: 19.5s\n",
      "700:\tlearn: 0.1166084\ttotal: 45.6s\tremaining: 19.4s\n",
      "701:\tlearn: 0.1165610\ttotal: 45.6s\tremaining: 19.4s\n",
      "702:\tlearn: 0.1165017\ttotal: 45.7s\tremaining: 19.3s\n",
      "703:\tlearn: 0.1164383\ttotal: 45.8s\tremaining: 19.2s\n",
      "704:\tlearn: 0.1163730\ttotal: 45.8s\tremaining: 19.2s\n",
      "705:\tlearn: 0.1163386\ttotal: 45.9s\tremaining: 19.1s\n",
      "706:\tlearn: 0.1163053\ttotal: 46s\tremaining: 19s\n",
      "707:\tlearn: 0.1162593\ttotal: 46s\tremaining: 19s\n",
      "708:\tlearn: 0.1161805\ttotal: 46.1s\tremaining: 18.9s\n",
      "709:\tlearn: 0.1161260\ttotal: 46.2s\tremaining: 18.9s\n",
      "710:\tlearn: 0.1160770\ttotal: 46.2s\tremaining: 18.8s\n",
      "711:\tlearn: 0.1159923\ttotal: 46.3s\tremaining: 18.7s\n",
      "712:\tlearn: 0.1159606\ttotal: 46.4s\tremaining: 18.7s\n",
      "713:\tlearn: 0.1159188\ttotal: 46.4s\tremaining: 18.6s\n",
      "714:\tlearn: 0.1158584\ttotal: 46.5s\tremaining: 18.5s\n",
      "715:\tlearn: 0.1157954\ttotal: 46.5s\tremaining: 18.5s\n",
      "716:\tlearn: 0.1157395\ttotal: 46.6s\tremaining: 18.4s\n",
      "717:\tlearn: 0.1156867\ttotal: 46.7s\tremaining: 18.3s\n",
      "718:\tlearn: 0.1156464\ttotal: 46.7s\tremaining: 18.3s\n",
      "719:\tlearn: 0.1155952\ttotal: 46.8s\tremaining: 18.2s\n",
      "720:\tlearn: 0.1155478\ttotal: 46.9s\tremaining: 18.1s\n",
      "721:\tlearn: 0.1155150\ttotal: 46.9s\tremaining: 18.1s\n",
      "722:\tlearn: 0.1154882\ttotal: 47s\tremaining: 18s\n",
      "723:\tlearn: 0.1154223\ttotal: 47s\tremaining: 17.9s\n",
      "724:\tlearn: 0.1153584\ttotal: 47.1s\tremaining: 17.9s\n",
      "725:\tlearn: 0.1153007\ttotal: 47.2s\tremaining: 17.8s\n",
      "726:\tlearn: 0.1152431\ttotal: 47.2s\tremaining: 17.7s\n",
      "727:\tlearn: 0.1151987\ttotal: 47.3s\tremaining: 17.7s\n",
      "728:\tlearn: 0.1151733\ttotal: 47.4s\tremaining: 17.6s\n",
      "729:\tlearn: 0.1151295\ttotal: 47.4s\tremaining: 17.5s\n",
      "730:\tlearn: 0.1150939\ttotal: 47.5s\tremaining: 17.5s\n",
      "731:\tlearn: 0.1150533\ttotal: 47.6s\tremaining: 17.4s\n",
      "732:\tlearn: 0.1150208\ttotal: 47.6s\tremaining: 17.3s\n",
      "733:\tlearn: 0.1149506\ttotal: 47.7s\tremaining: 17.3s\n",
      "734:\tlearn: 0.1149206\ttotal: 47.7s\tremaining: 17.2s\n",
      "735:\tlearn: 0.1148944\ttotal: 47.8s\tremaining: 17.1s\n",
      "736:\tlearn: 0.1147743\ttotal: 47.9s\tremaining: 17.1s\n",
      "737:\tlearn: 0.1147219\ttotal: 47.9s\tremaining: 17s\n",
      "738:\tlearn: 0.1146826\ttotal: 48s\tremaining: 16.9s\n",
      "739:\tlearn: 0.1145671\ttotal: 48s\tremaining: 16.9s\n",
      "740:\tlearn: 0.1145356\ttotal: 48.1s\tremaining: 16.8s\n",
      "741:\tlearn: 0.1145094\ttotal: 48.2s\tremaining: 16.7s\n",
      "742:\tlearn: 0.1144815\ttotal: 48.2s\tremaining: 16.7s\n",
      "743:\tlearn: 0.1144491\ttotal: 48.3s\tremaining: 16.6s\n",
      "744:\tlearn: 0.1144062\ttotal: 48.4s\tremaining: 16.6s\n",
      "745:\tlearn: 0.1143569\ttotal: 48.4s\tremaining: 16.5s\n",
      "746:\tlearn: 0.1143160\ttotal: 48.5s\tremaining: 16.4s\n",
      "747:\tlearn: 0.1142782\ttotal: 48.5s\tremaining: 16.4s\n",
      "748:\tlearn: 0.1142525\ttotal: 48.6s\tremaining: 16.3s\n",
      "749:\tlearn: 0.1141828\ttotal: 48.7s\tremaining: 16.2s\n",
      "750:\tlearn: 0.1140787\ttotal: 48.7s\tremaining: 16.2s\n",
      "751:\tlearn: 0.1140548\ttotal: 48.8s\tremaining: 16.1s\n",
      "752:\tlearn: 0.1140249\ttotal: 48.9s\tremaining: 16s\n",
      "753:\tlearn: 0.1139697\ttotal: 48.9s\tremaining: 16s\n",
      "754:\tlearn: 0.1139210\ttotal: 49s\tremaining: 15.9s\n",
      "755:\tlearn: 0.1138973\ttotal: 49s\tremaining: 15.8s\n",
      "756:\tlearn: 0.1138478\ttotal: 49.1s\tremaining: 15.8s\n",
      "757:\tlearn: 0.1138090\ttotal: 49.2s\tremaining: 15.7s\n",
      "758:\tlearn: 0.1137792\ttotal: 49.2s\tremaining: 15.6s\n",
      "759:\tlearn: 0.1137365\ttotal: 49.3s\tremaining: 15.6s\n",
      "760:\tlearn: 0.1136509\ttotal: 49.4s\tremaining: 15.5s\n",
      "761:\tlearn: 0.1136094\ttotal: 49.4s\tremaining: 15.4s\n",
      "762:\tlearn: 0.1135414\ttotal: 49.5s\tremaining: 15.4s\n",
      "763:\tlearn: 0.1135168\ttotal: 49.5s\tremaining: 15.3s\n",
      "764:\tlearn: 0.1134933\ttotal: 49.6s\tremaining: 15.2s\n",
      "765:\tlearn: 0.1134361\ttotal: 49.7s\tremaining: 15.2s\n",
      "766:\tlearn: 0.1133941\ttotal: 49.7s\tremaining: 15.1s\n",
      "767:\tlearn: 0.1133720\ttotal: 49.8s\tremaining: 15s\n",
      "768:\tlearn: 0.1133475\ttotal: 49.9s\tremaining: 15s\n",
      "769:\tlearn: 0.1132923\ttotal: 49.9s\tremaining: 14.9s\n",
      "770:\tlearn: 0.1132691\ttotal: 50s\tremaining: 14.8s\n",
      "771:\tlearn: 0.1132091\ttotal: 50s\tremaining: 14.8s\n",
      "772:\tlearn: 0.1131840\ttotal: 50.1s\tremaining: 14.7s\n",
      "773:\tlearn: 0.1131214\ttotal: 50.2s\tremaining: 14.6s\n",
      "774:\tlearn: 0.1130908\ttotal: 50.2s\tremaining: 14.6s\n",
      "775:\tlearn: 0.1130662\ttotal: 50.3s\tremaining: 14.5s\n",
      "776:\tlearn: 0.1130421\ttotal: 50.4s\tremaining: 14.5s\n",
      "777:\tlearn: 0.1130095\ttotal: 50.4s\tremaining: 14.4s\n",
      "778:\tlearn: 0.1129718\ttotal: 50.5s\tremaining: 14.3s\n",
      "779:\tlearn: 0.1129480\ttotal: 50.5s\tremaining: 14.3s\n",
      "780:\tlearn: 0.1129232\ttotal: 50.6s\tremaining: 14.2s\n",
      "781:\tlearn: 0.1128458\ttotal: 50.7s\tremaining: 14.1s\n",
      "782:\tlearn: 0.1128208\ttotal: 50.7s\tremaining: 14.1s\n",
      "783:\tlearn: 0.1127971\ttotal: 50.8s\tremaining: 14s\n",
      "784:\tlearn: 0.1127738\ttotal: 50.9s\tremaining: 13.9s\n",
      "785:\tlearn: 0.1127482\ttotal: 50.9s\tremaining: 13.9s\n",
      "786:\tlearn: 0.1127007\ttotal: 51s\tremaining: 13.8s\n",
      "787:\tlearn: 0.1126373\ttotal: 51s\tremaining: 13.7s\n",
      "788:\tlearn: 0.1126113\ttotal: 51.1s\tremaining: 13.7s\n",
      "789:\tlearn: 0.1125880\ttotal: 51.2s\tremaining: 13.6s\n",
      "790:\tlearn: 0.1125642\ttotal: 51.2s\tremaining: 13.5s\n",
      "791:\tlearn: 0.1125240\ttotal: 51.3s\tremaining: 13.5s\n",
      "792:\tlearn: 0.1124540\ttotal: 51.4s\tremaining: 13.4s\n",
      "793:\tlearn: 0.1124304\ttotal: 51.4s\tremaining: 13.3s\n",
      "794:\tlearn: 0.1124070\ttotal: 51.5s\tremaining: 13.3s\n",
      "795:\tlearn: 0.1123555\ttotal: 51.5s\tremaining: 13.2s\n",
      "796:\tlearn: 0.1122890\ttotal: 51.6s\tremaining: 13.1s\n",
      "797:\tlearn: 0.1122060\ttotal: 51.7s\tremaining: 13.1s\n",
      "798:\tlearn: 0.1121822\ttotal: 51.7s\tremaining: 13s\n",
      "799:\tlearn: 0.1121570\ttotal: 51.8s\tremaining: 12.9s\n",
      "800:\tlearn: 0.1121338\ttotal: 51.9s\tremaining: 12.9s\n",
      "801:\tlearn: 0.1121108\ttotal: 51.9s\tremaining: 12.8s\n",
      "802:\tlearn: 0.1120853\ttotal: 52s\tremaining: 12.8s\n",
      "803:\tlearn: 0.1120441\ttotal: 52s\tremaining: 12.7s\n",
      "804:\tlearn: 0.1120005\ttotal: 52.1s\tremaining: 12.6s\n",
      "805:\tlearn: 0.1119759\ttotal: 52.2s\tremaining: 12.6s\n",
      "806:\tlearn: 0.1119299\ttotal: 52.2s\tremaining: 12.5s\n",
      "807:\tlearn: 0.1119066\ttotal: 52.3s\tremaining: 12.4s\n",
      "808:\tlearn: 0.1118856\ttotal: 52.4s\tremaining: 12.4s\n",
      "809:\tlearn: 0.1118622\ttotal: 52.4s\tremaining: 12.3s\n",
      "810:\tlearn: 0.1118399\ttotal: 52.5s\tremaining: 12.2s\n",
      "811:\tlearn: 0.1117989\ttotal: 52.5s\tremaining: 12.2s\n",
      "812:\tlearn: 0.1117778\ttotal: 52.6s\tremaining: 12.1s\n",
      "813:\tlearn: 0.1117243\ttotal: 52.7s\tremaining: 12s\n",
      "814:\tlearn: 0.1116997\ttotal: 52.7s\tremaining: 12s\n",
      "815:\tlearn: 0.1116502\ttotal: 52.8s\tremaining: 11.9s\n",
      "816:\tlearn: 0.1116257\ttotal: 52.9s\tremaining: 11.8s\n",
      "817:\tlearn: 0.1116047\ttotal: 52.9s\tremaining: 11.8s\n",
      "818:\tlearn: 0.1115821\ttotal: 53s\tremaining: 11.7s\n",
      "819:\tlearn: 0.1115584\ttotal: 53s\tremaining: 11.6s\n",
      "820:\tlearn: 0.1115278\ttotal: 53.1s\tremaining: 11.6s\n",
      "821:\tlearn: 0.1114757\ttotal: 53.2s\tremaining: 11.5s\n",
      "822:\tlearn: 0.1114522\ttotal: 53.2s\tremaining: 11.4s\n",
      "823:\tlearn: 0.1114292\ttotal: 53.3s\tremaining: 11.4s\n",
      "824:\tlearn: 0.1114070\ttotal: 53.3s\tremaining: 11.3s\n",
      "825:\tlearn: 0.1113836\ttotal: 53.4s\tremaining: 11.2s\n",
      "826:\tlearn: 0.1113631\ttotal: 53.5s\tremaining: 11.2s\n",
      "827:\tlearn: 0.1113163\ttotal: 53.5s\tremaining: 11.1s\n",
      "828:\tlearn: 0.1112947\ttotal: 53.6s\tremaining: 11.1s\n",
      "829:\tlearn: 0.1112741\ttotal: 53.7s\tremaining: 11s\n",
      "830:\tlearn: 0.1112523\ttotal: 53.7s\tremaining: 10.9s\n",
      "831:\tlearn: 0.1112301\ttotal: 53.8s\tremaining: 10.9s\n",
      "832:\tlearn: 0.1111268\ttotal: 53.9s\tremaining: 10.8s\n",
      "833:\tlearn: 0.1111046\ttotal: 53.9s\tremaining: 10.7s\n",
      "834:\tlearn: 0.1110832\ttotal: 54s\tremaining: 10.7s\n",
      "835:\tlearn: 0.1110605\ttotal: 54s\tremaining: 10.6s\n",
      "836:\tlearn: 0.1110250\ttotal: 54.1s\tremaining: 10.5s\n",
      "837:\tlearn: 0.1110017\ttotal: 54.2s\tremaining: 10.5s\n",
      "838:\tlearn: 0.1109785\ttotal: 54.2s\tremaining: 10.4s\n",
      "839:\tlearn: 0.1109553\ttotal: 54.3s\tremaining: 10.3s\n",
      "840:\tlearn: 0.1108951\ttotal: 54.4s\tremaining: 10.3s\n",
      "841:\tlearn: 0.1107997\ttotal: 54.4s\tremaining: 10.2s\n",
      "842:\tlearn: 0.1107598\ttotal: 54.5s\tremaining: 10.2s\n",
      "843:\tlearn: 0.1107392\ttotal: 54.6s\tremaining: 10.1s\n",
      "844:\tlearn: 0.1107171\ttotal: 54.6s\tremaining: 10s\n",
      "845:\tlearn: 0.1106961\ttotal: 54.7s\tremaining: 9.96s\n",
      "846:\tlearn: 0.1106743\ttotal: 54.8s\tremaining: 9.89s\n",
      "847:\tlearn: 0.1106550\ttotal: 54.8s\tremaining: 9.83s\n",
      "848:\tlearn: 0.1106321\ttotal: 54.9s\tremaining: 9.76s\n",
      "849:\tlearn: 0.1105723\ttotal: 55s\tremaining: 9.7s\n",
      "850:\tlearn: 0.1105088\ttotal: 55s\tremaining: 9.63s\n",
      "851:\tlearn: 0.1104529\ttotal: 55.1s\tremaining: 9.57s\n",
      "852:\tlearn: 0.1104316\ttotal: 55.1s\tremaining: 9.5s\n",
      "853:\tlearn: 0.1103696\ttotal: 55.2s\tremaining: 9.44s\n",
      "854:\tlearn: 0.1103481\ttotal: 55.3s\tremaining: 9.37s\n",
      "855:\tlearn: 0.1103270\ttotal: 55.3s\tremaining: 9.31s\n",
      "856:\tlearn: 0.1102558\ttotal: 55.4s\tremaining: 9.24s\n",
      "857:\tlearn: 0.1102340\ttotal: 55.5s\tremaining: 9.18s\n",
      "858:\tlearn: 0.1102134\ttotal: 55.5s\tremaining: 9.12s\n",
      "859:\tlearn: 0.1101492\ttotal: 55.6s\tremaining: 9.05s\n",
      "860:\tlearn: 0.1101203\ttotal: 55.7s\tremaining: 8.99s\n",
      "861:\tlearn: 0.1100496\ttotal: 55.7s\tremaining: 8.92s\n",
      "862:\tlearn: 0.1100281\ttotal: 55.8s\tremaining: 8.86s\n",
      "863:\tlearn: 0.1099604\ttotal: 55.9s\tremaining: 8.79s\n",
      "864:\tlearn: 0.1099381\ttotal: 55.9s\tremaining: 8.73s\n",
      "865:\tlearn: 0.1099183\ttotal: 56s\tremaining: 8.66s\n",
      "866:\tlearn: 0.1098973\ttotal: 56.1s\tremaining: 8.6s\n",
      "867:\tlearn: 0.1098405\ttotal: 56.1s\tremaining: 8.53s\n",
      "868:\tlearn: 0.1098044\ttotal: 56.2s\tremaining: 8.47s\n",
      "869:\tlearn: 0.1097750\ttotal: 56.3s\tremaining: 8.41s\n",
      "870:\tlearn: 0.1097540\ttotal: 56.3s\tremaining: 8.34s\n",
      "871:\tlearn: 0.1097272\ttotal: 56.4s\tremaining: 8.28s\n",
      "872:\tlearn: 0.1096975\ttotal: 56.4s\tremaining: 8.21s\n",
      "873:\tlearn: 0.1096692\ttotal: 56.5s\tremaining: 8.15s\n",
      "874:\tlearn: 0.1096472\ttotal: 56.6s\tremaining: 8.08s\n",
      "875:\tlearn: 0.1096071\ttotal: 56.6s\tremaining: 8.02s\n",
      "876:\tlearn: 0.1095564\ttotal: 56.7s\tremaining: 7.95s\n",
      "877:\tlearn: 0.1095346\ttotal: 56.8s\tremaining: 7.89s\n",
      "878:\tlearn: 0.1094954\ttotal: 56.8s\tremaining: 7.82s\n",
      "879:\tlearn: 0.1094722\ttotal: 56.9s\tremaining: 7.76s\n",
      "880:\tlearn: 0.1094520\ttotal: 57s\tremaining: 7.69s\n",
      "881:\tlearn: 0.1094295\ttotal: 57s\tremaining: 7.63s\n",
      "882:\tlearn: 0.1094085\ttotal: 57.1s\tremaining: 7.57s\n",
      "883:\tlearn: 0.1093867\ttotal: 57.2s\tremaining: 7.5s\n",
      "884:\tlearn: 0.1093663\ttotal: 57.2s\tremaining: 7.44s\n",
      "885:\tlearn: 0.1093457\ttotal: 57.3s\tremaining: 7.37s\n",
      "886:\tlearn: 0.1093243\ttotal: 57.4s\tremaining: 7.31s\n",
      "887:\tlearn: 0.1092875\ttotal: 57.4s\tremaining: 7.24s\n",
      "888:\tlearn: 0.1092644\ttotal: 57.5s\tremaining: 7.18s\n",
      "889:\tlearn: 0.1092199\ttotal: 57.5s\tremaining: 7.11s\n",
      "890:\tlearn: 0.1092011\ttotal: 57.6s\tremaining: 7.05s\n",
      "891:\tlearn: 0.1091807\ttotal: 57.7s\tremaining: 6.98s\n",
      "892:\tlearn: 0.1091141\ttotal: 57.7s\tremaining: 6.92s\n",
      "893:\tlearn: 0.1090426\ttotal: 57.8s\tremaining: 6.85s\n",
      "894:\tlearn: 0.1090145\ttotal: 57.9s\tremaining: 6.79s\n",
      "895:\tlearn: 0.1089932\ttotal: 57.9s\tremaining: 6.72s\n",
      "896:\tlearn: 0.1089416\ttotal: 58s\tremaining: 6.66s\n",
      "897:\tlearn: 0.1089195\ttotal: 58.1s\tremaining: 6.59s\n",
      "898:\tlearn: 0.1088835\ttotal: 58.1s\tremaining: 6.53s\n",
      "899:\tlearn: 0.1088612\ttotal: 58.2s\tremaining: 6.46s\n",
      "900:\tlearn: 0.1088393\ttotal: 58.3s\tremaining: 6.4s\n",
      "901:\tlearn: 0.1088174\ttotal: 58.3s\tremaining: 6.34s\n",
      "902:\tlearn: 0.1087952\ttotal: 58.4s\tremaining: 6.27s\n",
      "903:\tlearn: 0.1087419\ttotal: 58.5s\tremaining: 6.21s\n",
      "904:\tlearn: 0.1087153\ttotal: 58.5s\tremaining: 6.14s\n",
      "905:\tlearn: 0.1086947\ttotal: 58.6s\tremaining: 6.08s\n",
      "906:\tlearn: 0.1086383\ttotal: 58.7s\tremaining: 6.01s\n",
      "907:\tlearn: 0.1086155\ttotal: 58.7s\tremaining: 5.95s\n",
      "908:\tlearn: 0.1085725\ttotal: 58.8s\tremaining: 5.89s\n",
      "909:\tlearn: 0.1085515\ttotal: 58.9s\tremaining: 5.82s\n",
      "910:\tlearn: 0.1085304\ttotal: 58.9s\tremaining: 5.76s\n",
      "911:\tlearn: 0.1085107\ttotal: 59s\tremaining: 5.69s\n",
      "912:\tlearn: 0.1084892\ttotal: 59.1s\tremaining: 5.63s\n",
      "913:\tlearn: 0.1084683\ttotal: 59.1s\tremaining: 5.56s\n",
      "914:\tlearn: 0.1084469\ttotal: 59.2s\tremaining: 5.5s\n",
      "915:\tlearn: 0.1083911\ttotal: 59.3s\tremaining: 5.43s\n",
      "916:\tlearn: 0.1083345\ttotal: 59.3s\tremaining: 5.37s\n",
      "917:\tlearn: 0.1083141\ttotal: 59.4s\tremaining: 5.31s\n",
      "918:\tlearn: 0.1082787\ttotal: 59.5s\tremaining: 5.24s\n",
      "919:\tlearn: 0.1082575\ttotal: 59.5s\tremaining: 5.18s\n",
      "920:\tlearn: 0.1082362\ttotal: 59.6s\tremaining: 5.11s\n",
      "921:\tlearn: 0.1082151\ttotal: 59.7s\tremaining: 5.05s\n",
      "922:\tlearn: 0.1081959\ttotal: 59.7s\tremaining: 4.98s\n",
      "923:\tlearn: 0.1081756\ttotal: 59.8s\tremaining: 4.92s\n",
      "924:\tlearn: 0.1081532\ttotal: 59.9s\tremaining: 4.85s\n",
      "925:\tlearn: 0.1081323\ttotal: 59.9s\tremaining: 4.79s\n",
      "926:\tlearn: 0.1081117\ttotal: 60s\tremaining: 4.72s\n",
      "927:\tlearn: 0.1080760\ttotal: 1m\tremaining: 4.66s\n",
      "928:\tlearn: 0.1080548\ttotal: 1m\tremaining: 4.59s\n",
      "929:\tlearn: 0.1080344\ttotal: 1m\tremaining: 4.53s\n",
      "930:\tlearn: 0.1080139\ttotal: 1m\tremaining: 4.46s\n",
      "931:\tlearn: 0.1079607\ttotal: 1m\tremaining: 4.4s\n",
      "932:\tlearn: 0.1079389\ttotal: 1m\tremaining: 4.33s\n",
      "933:\tlearn: 0.1079041\ttotal: 1m\tremaining: 4.27s\n",
      "934:\tlearn: 0.1078743\ttotal: 1m\tremaining: 4.21s\n",
      "935:\tlearn: 0.1078535\ttotal: 1m\tremaining: 4.14s\n",
      "936:\tlearn: 0.1078266\ttotal: 1m\tremaining: 4.08s\n",
      "937:\tlearn: 0.1078057\ttotal: 1m\tremaining: 4.01s\n",
      "938:\tlearn: 0.1077787\ttotal: 1m\tremaining: 3.95s\n",
      "939:\tlearn: 0.1077318\ttotal: 1m\tremaining: 3.88s\n",
      "940:\tlearn: 0.1076915\ttotal: 1m\tremaining: 3.82s\n",
      "941:\tlearn: 0.1076352\ttotal: 1m\tremaining: 3.75s\n",
      "942:\tlearn: 0.1076143\ttotal: 1m 1s\tremaining: 3.69s\n",
      "943:\tlearn: 0.1075962\ttotal: 1m 1s\tremaining: 3.62s\n",
      "944:\tlearn: 0.1075761\ttotal: 1m 1s\tremaining: 3.56s\n",
      "945:\tlearn: 0.1075556\ttotal: 1m 1s\tremaining: 3.49s\n",
      "946:\tlearn: 0.1075347\ttotal: 1m 1s\tremaining: 3.43s\n",
      "947:\tlearn: 0.1074708\ttotal: 1m 1s\tremaining: 3.37s\n",
      "948:\tlearn: 0.1074506\ttotal: 1m 1s\tremaining: 3.3s\n",
      "949:\tlearn: 0.1074288\ttotal: 1m 1s\tremaining: 3.24s\n",
      "950:\tlearn: 0.1074083\ttotal: 1m 1s\tremaining: 3.17s\n",
      "951:\tlearn: 0.1073540\ttotal: 1m 1s\tremaining: 3.11s\n",
      "952:\tlearn: 0.1073340\ttotal: 1m 1s\tremaining: 3.04s\n",
      "953:\tlearn: 0.1073141\ttotal: 1m 1s\tremaining: 2.98s\n",
      "954:\tlearn: 0.1072872\ttotal: 1m 1s\tremaining: 2.91s\n",
      "955:\tlearn: 0.1072339\ttotal: 1m 1s\tremaining: 2.85s\n",
      "956:\tlearn: 0.1072148\ttotal: 1m 1s\tremaining: 2.78s\n",
      "957:\tlearn: 0.1071866\ttotal: 1m 2s\tremaining: 2.72s\n",
      "958:\tlearn: 0.1071667\ttotal: 1m 2s\tremaining: 2.65s\n",
      "959:\tlearn: 0.1071465\ttotal: 1m 2s\tremaining: 2.59s\n",
      "960:\tlearn: 0.1071077\ttotal: 1m 2s\tremaining: 2.52s\n",
      "961:\tlearn: 0.1070862\ttotal: 1m 2s\tremaining: 2.46s\n",
      "962:\tlearn: 0.1070669\ttotal: 1m 2s\tremaining: 2.4s\n",
      "963:\tlearn: 0.1070460\ttotal: 1m 2s\tremaining: 2.33s\n",
      "964:\tlearn: 0.1070250\ttotal: 1m 2s\tremaining: 2.27s\n",
      "965:\tlearn: 0.1070055\ttotal: 1m 2s\tremaining: 2.2s\n",
      "966:\tlearn: 0.1069631\ttotal: 1m 2s\tremaining: 2.14s\n",
      "967:\tlearn: 0.1069425\ttotal: 1m 2s\tremaining: 2.07s\n",
      "968:\tlearn: 0.1068855\ttotal: 1m 2s\tremaining: 2.01s\n",
      "969:\tlearn: 0.1068646\ttotal: 1m 2s\tremaining: 1.94s\n",
      "970:\tlearn: 0.1067110\ttotal: 1m 2s\tremaining: 1.88s\n",
      "971:\tlearn: 0.1066765\ttotal: 1m 2s\tremaining: 1.81s\n",
      "972:\tlearn: 0.1066348\ttotal: 1m 2s\tremaining: 1.75s\n",
      "973:\tlearn: 0.1066161\ttotal: 1m 3s\tremaining: 1.68s\n",
      "974:\tlearn: 0.1065686\ttotal: 1m 3s\tremaining: 1.62s\n",
      "975:\tlearn: 0.1065488\ttotal: 1m 3s\tremaining: 1.55s\n",
      "976:\tlearn: 0.1065049\ttotal: 1m 3s\tremaining: 1.49s\n",
      "977:\tlearn: 0.1064526\ttotal: 1m 3s\tremaining: 1.42s\n",
      "978:\tlearn: 0.1064336\ttotal: 1m 3s\tremaining: 1.36s\n",
      "979:\tlearn: 0.1063708\ttotal: 1m 3s\tremaining: 1.29s\n",
      "980:\tlearn: 0.1063503\ttotal: 1m 3s\tremaining: 1.23s\n",
      "981:\tlearn: 0.1062993\ttotal: 1m 3s\tremaining: 1.16s\n",
      "982:\tlearn: 0.1062793\ttotal: 1m 3s\tremaining: 1.1s\n",
      "983:\tlearn: 0.1062591\ttotal: 1m 3s\tremaining: 1.03s\n",
      "984:\tlearn: 0.1062398\ttotal: 1m 3s\tremaining: 971ms\n",
      "985:\tlearn: 0.1062191\ttotal: 1m 3s\tremaining: 906ms\n",
      "986:\tlearn: 0.1061993\ttotal: 1m 3s\tremaining: 841ms\n",
      "987:\tlearn: 0.1061789\ttotal: 1m 3s\tremaining: 777ms\n",
      "988:\tlearn: 0.1061445\ttotal: 1m 3s\tremaining: 712ms\n",
      "989:\tlearn: 0.1061186\ttotal: 1m 4s\tremaining: 647ms\n",
      "990:\tlearn: 0.1060994\ttotal: 1m 4s\tremaining: 582ms\n",
      "991:\tlearn: 0.1060795\ttotal: 1m 4s\tremaining: 518ms\n",
      "992:\tlearn: 0.1060593\ttotal: 1m 4s\tremaining: 453ms\n",
      "993:\tlearn: 0.1060394\ttotal: 1m 4s\tremaining: 388ms\n",
      "994:\tlearn: 0.1059903\ttotal: 1m 4s\tremaining: 324ms\n",
      "995:\tlearn: 0.1059701\ttotal: 1m 4s\tremaining: 259ms\n",
      "996:\tlearn: 0.1059489\ttotal: 1m 4s\tremaining: 194ms\n",
      "997:\tlearn: 0.1059295\ttotal: 1m 4s\tremaining: 129ms\n",
      "998:\tlearn: 0.1059103\ttotal: 1m 4s\tremaining: 64.7ms\n",
      "999:\tlearn: 0.1058912\ttotal: 1m 4s\tremaining: 0us\n"
     ]
    }
   ],
   "source": [
    "#### training\n",
    "model_names, model_pipelines = zip(*pipelines)\n",
    "metrics, weights = estimate_multiple_models(\n",
    "    model_pipelines,\n",
    "    lambda pipeline, _: estimate_model(\n",
    "        pipeline,\n",
    "        (X_train, X_test, y_train, y_test),\n",
    "    ),\n",
    "    model_names\n",
    ")"
   ]
  },
  {
   "cell_type": "code",
   "execution_count": 22,
   "metadata": {
    "pycharm": {
     "name": "#%%\n"
    }
   },
   "outputs": [
    {
     "data": {
      "text/plain": "set             train                                                    test  \\\nmetric       f1_score cohen_kappa_score precision_score recall_score f1_score   \nmodel                                                                           \nDummy_mean      0.000             0.000           0.000        0.000    0.000   \nDummy_median    0.072             0.001           0.071        0.072    0.066   \nLGBM            0.662             0.644           0.941        0.510    0.560   \nRFC             0.997             0.996           0.999        0.994    0.647   \nCatBoost        0.680             0.663           0.958        0.527    0.589   \n\nset                                                          \nmetric       cohen_kappa_score precision_score recall_score  \nmodel                                                        \nDummy_mean               0.000           0.000        0.000  \nDummy_median            -0.004           0.068        0.064  \nLGBM                     0.536           0.775        0.439  \nRFC                      0.628           0.889        0.509  \nCatBoost                 0.568           0.861        0.447  ",
      "text/html": "<div>\n<style scoped>\n    .dataframe tbody tr th:only-of-type {\n        vertical-align: middle;\n    }\n\n    .dataframe tbody tr th {\n        vertical-align: top;\n    }\n\n    .dataframe thead tr th {\n        text-align: left;\n    }\n\n    .dataframe thead tr:last-of-type th {\n        text-align: right;\n    }\n</style>\n<table border=\"1\" class=\"dataframe\">\n  <thead>\n    <tr>\n      <th>set</th>\n      <th colspan=\"4\" halign=\"left\">train</th>\n      <th colspan=\"4\" halign=\"left\">test</th>\n    </tr>\n    <tr>\n      <th>metric</th>\n      <th>f1_score</th>\n      <th>cohen_kappa_score</th>\n      <th>precision_score</th>\n      <th>recall_score</th>\n      <th>f1_score</th>\n      <th>cohen_kappa_score</th>\n      <th>precision_score</th>\n      <th>recall_score</th>\n    </tr>\n    <tr>\n      <th>model</th>\n      <th></th>\n      <th></th>\n      <th></th>\n      <th></th>\n      <th></th>\n      <th></th>\n      <th></th>\n      <th></th>\n    </tr>\n  </thead>\n  <tbody>\n    <tr>\n      <th>Dummy_mean</th>\n      <td>0.000</td>\n      <td>0.000</td>\n      <td>0.000</td>\n      <td>0.000</td>\n      <td>0.000</td>\n      <td>0.000</td>\n      <td>0.000</td>\n      <td>0.000</td>\n    </tr>\n    <tr>\n      <th>Dummy_median</th>\n      <td>0.072</td>\n      <td>0.001</td>\n      <td>0.071</td>\n      <td>0.072</td>\n      <td>0.066</td>\n      <td>-0.004</td>\n      <td>0.068</td>\n      <td>0.064</td>\n    </tr>\n    <tr>\n      <th>LGBM</th>\n      <td>0.662</td>\n      <td>0.644</td>\n      <td>0.941</td>\n      <td>0.510</td>\n      <td>0.560</td>\n      <td>0.536</td>\n      <td>0.775</td>\n      <td>0.439</td>\n    </tr>\n    <tr>\n      <th>RFC</th>\n      <td>0.997</td>\n      <td>0.996</td>\n      <td>0.999</td>\n      <td>0.994</td>\n      <td>0.647</td>\n      <td>0.628</td>\n      <td>0.889</td>\n      <td>0.509</td>\n    </tr>\n    <tr>\n      <th>CatBoost</th>\n      <td>0.680</td>\n      <td>0.663</td>\n      <td>0.958</td>\n      <td>0.527</td>\n      <td>0.589</td>\n      <td>0.568</td>\n      <td>0.861</td>\n      <td>0.447</td>\n    </tr>\n  </tbody>\n</table>\n</div>"
     },
     "execution_count": 22,
     "metadata": {},
     "output_type": "execute_result"
    }
   ],
   "source": [
    "metrics"
   ]
  },
  {
   "cell_type": "code",
   "execution_count": 322,
   "metadata": {
    "pycharm": {
     "name": "#%%\n"
    }
   },
   "outputs": [
    {
     "name": "stdout",
     "output_type": "stream",
     "text": [
      "################################################################################\n",
      "Dummy_mean\n",
      "Not Supported\n",
      "################################################################################\n",
      "Dummy_median\n",
      "Not Supported\n",
      "################################################################################\n",
      "LinReg\n",
      "         weight\n",
      "feature        \n",
      "x155      6.861\n",
      "x6788     6.015\n",
      "x4997     5.476\n",
      "x4998     5.027\n",
      "x6853     4.392\n",
      "...         ...\n",
      "x4445    -2.665\n",
      "x627     -3.027\n",
      "x2765    -3.027\n",
      "x3679    -3.296\n",
      "x1523    -4.132\n",
      "\n",
      "[6993 rows x 1 columns]\n",
      "################################################################################\n",
      "XGB\n",
      "Not Supported\n",
      "################################################################################\n",
      "LGBM\n",
      "             weight\n",
      "feature            \n",
      "Column_6788   0.056\n",
      "Column_155    0.053\n",
      "Column_6382   0.051\n",
      "Column_4998   0.039\n",
      "Column_4997   0.030\n",
      "...             ...\n",
      "Column_4579   0.000\n",
      "Column_4580   0.000\n",
      "Column_4581   0.000\n",
      "Column_4582   0.000\n",
      "Column_0      0.000\n",
      "\n",
      "[6992 rows x 1 columns]\n",
      "################################################################################\n",
      "RFC\n",
      "         weight\n",
      "feature        \n",
      "x6788     0.021\n",
      "x155      0.021\n",
      "x6535     0.017\n",
      "x6382     0.015\n",
      "x4997     0.015\n",
      "...         ...\n",
      "x4489     0.000\n",
      "x4482     0.000\n",
      "x1290     0.000\n",
      "x4481     0.000\n",
      "x0        0.000\n",
      "\n",
      "[6992 rows x 1 columns]\n",
      "################################################################################\n",
      "CatBoost\n",
      "         weight\n",
      "feature        \n",
      "1523      0.068\n",
      "155       0.065\n",
      "6535      0.049\n",
      "2765      0.047\n",
      "3679      0.042\n",
      "...         ...\n",
      "4532      0.000\n",
      "4533      0.000\n",
      "4534      0.000\n",
      "4535      0.000\n",
      "0         0.000\n",
      "\n",
      "[6992 rows x 1 columns]\n"
     ]
    }
   ],
   "source": [
    "for name, _ in pipelines:\n",
    "    try:\n",
    "        print(\"#\" * 80)\n",
    "        print(name)\n",
    "        print(weights.loc[name])\n",
    "    except KeyError:\n",
    "        print('Not Supported')"
   ]
  },
  {
   "cell_type": "code",
   "execution_count": 27,
   "outputs": [],
   "source": [
    "final_pipeline_1 = Pipeline([\n",
    "    ('NLP', nlp),\n",
    "    ('regressor', rfc[-1])\n",
    "])\n",
    "\n",
    "final_pipeline_2 = Pipeline([\n",
    "    ('NLP', nlp),\n",
    "    ('regressor', lgbm[-1])\n",
    "])\n",
    "\n",
    "final_pipeline_3 = Pipeline([\n",
    "    ('NLP', nlp),\n",
    "    ('regressor', ctb[-1])\n",
    "])"
   ],
   "metadata": {
    "collapsed": false,
    "pycharm": {
     "name": "#%%\n"
    }
   }
  },
  {
   "cell_type": "code",
   "execution_count": 28,
   "outputs": [
    {
     "data": {
      "text/plain": "Pipeline(steps=[('NLP',\n                 Pipeline(steps=[('cleaning', TextCleaner()),\n                                 ('series_converter', SeriesConverter()),\n                                 ('vectorization',\n                                  TfidfVectorizer(max_df=0.7, min_df=3))])),\n                ('regressor', RandomForestClassifier())])",
      "text/html": "<style>#sk-container-id-2 {color: black;background-color: white;}#sk-container-id-2 pre{padding: 0;}#sk-container-id-2 div.sk-toggleable {background-color: white;}#sk-container-id-2 label.sk-toggleable__label {cursor: pointer;display: block;width: 100%;margin-bottom: 0;padding: 0.3em;box-sizing: border-box;text-align: center;}#sk-container-id-2 label.sk-toggleable__label-arrow:before {content: \"▸\";float: left;margin-right: 0.25em;color: #696969;}#sk-container-id-2 label.sk-toggleable__label-arrow:hover:before {color: black;}#sk-container-id-2 div.sk-estimator:hover label.sk-toggleable__label-arrow:before {color: black;}#sk-container-id-2 div.sk-toggleable__content {max-height: 0;max-width: 0;overflow: hidden;text-align: left;background-color: #f0f8ff;}#sk-container-id-2 div.sk-toggleable__content pre {margin: 0.2em;color: black;border-radius: 0.25em;background-color: #f0f8ff;}#sk-container-id-2 input.sk-toggleable__control:checked~div.sk-toggleable__content {max-height: 200px;max-width: 100%;overflow: auto;}#sk-container-id-2 input.sk-toggleable__control:checked~label.sk-toggleable__label-arrow:before {content: \"▾\";}#sk-container-id-2 div.sk-estimator input.sk-toggleable__control:checked~label.sk-toggleable__label {background-color: #d4ebff;}#sk-container-id-2 div.sk-label input.sk-toggleable__control:checked~label.sk-toggleable__label {background-color: #d4ebff;}#sk-container-id-2 input.sk-hidden--visually {border: 0;clip: rect(1px 1px 1px 1px);clip: rect(1px, 1px, 1px, 1px);height: 1px;margin: -1px;overflow: hidden;padding: 0;position: absolute;width: 1px;}#sk-container-id-2 div.sk-estimator {font-family: monospace;background-color: #f0f8ff;border: 1px dotted black;border-radius: 0.25em;box-sizing: border-box;margin-bottom: 0.5em;}#sk-container-id-2 div.sk-estimator:hover {background-color: #d4ebff;}#sk-container-id-2 div.sk-parallel-item::after {content: \"\";width: 100%;border-bottom: 1px solid gray;flex-grow: 1;}#sk-container-id-2 div.sk-label:hover label.sk-toggleable__label {background-color: #d4ebff;}#sk-container-id-2 div.sk-serial::before {content: \"\";position: absolute;border-left: 1px solid gray;box-sizing: border-box;top: 0;bottom: 0;left: 50%;z-index: 0;}#sk-container-id-2 div.sk-serial {display: flex;flex-direction: column;align-items: center;background-color: white;padding-right: 0.2em;padding-left: 0.2em;position: relative;}#sk-container-id-2 div.sk-item {position: relative;z-index: 1;}#sk-container-id-2 div.sk-parallel {display: flex;align-items: stretch;justify-content: center;background-color: white;position: relative;}#sk-container-id-2 div.sk-item::before, #sk-container-id-2 div.sk-parallel-item::before {content: \"\";position: absolute;border-left: 1px solid gray;box-sizing: border-box;top: 0;bottom: 0;left: 50%;z-index: -1;}#sk-container-id-2 div.sk-parallel-item {display: flex;flex-direction: column;z-index: 1;position: relative;background-color: white;}#sk-container-id-2 div.sk-parallel-item:first-child::after {align-self: flex-end;width: 50%;}#sk-container-id-2 div.sk-parallel-item:last-child::after {align-self: flex-start;width: 50%;}#sk-container-id-2 div.sk-parallel-item:only-child::after {width: 0;}#sk-container-id-2 div.sk-dashed-wrapped {border: 1px dashed gray;margin: 0 0.4em 0.5em 0.4em;box-sizing: border-box;padding-bottom: 0.4em;background-color: white;}#sk-container-id-2 div.sk-label label {font-family: monospace;font-weight: bold;display: inline-block;line-height: 1.2em;}#sk-container-id-2 div.sk-label-container {text-align: center;}#sk-container-id-2 div.sk-container {/* jupyter's `normalize.less` sets `[hidden] { display: none; }` but bootstrap.min.css set `[hidden] { display: none !important; }` so we also need the `!important` here to be able to override the default hidden behavior on the sphinx rendered scikit-learn.org. See: https://github.com/scikit-learn/scikit-learn/issues/21755 */display: inline-block !important;position: relative;}#sk-container-id-2 div.sk-text-repr-fallback {display: none;}</style><div id=\"sk-container-id-2\" class=\"sk-top-container\"><div class=\"sk-text-repr-fallback\"><pre>Pipeline(steps=[(&#x27;NLP&#x27;,\n                 Pipeline(steps=[(&#x27;cleaning&#x27;, TextCleaner()),\n                                 (&#x27;series_converter&#x27;, SeriesConverter()),\n                                 (&#x27;vectorization&#x27;,\n                                  TfidfVectorizer(max_df=0.7, min_df=3))])),\n                (&#x27;regressor&#x27;, RandomForestClassifier())])</pre><b>In a Jupyter environment, please rerun this cell to show the HTML representation or trust the notebook. <br />On GitHub, the HTML representation is unable to render, please try loading this page with nbviewer.org.</b></div><div class=\"sk-container\" hidden><div class=\"sk-item sk-dashed-wrapped\"><div class=\"sk-label-container\"><div class=\"sk-label sk-toggleable\"><input class=\"sk-toggleable__control sk-hidden--visually\" id=\"sk-estimator-id-8\" type=\"checkbox\" ><label for=\"sk-estimator-id-8\" class=\"sk-toggleable__label sk-toggleable__label-arrow\">Pipeline</label><div class=\"sk-toggleable__content\"><pre>Pipeline(steps=[(&#x27;NLP&#x27;,\n                 Pipeline(steps=[(&#x27;cleaning&#x27;, TextCleaner()),\n                                 (&#x27;series_converter&#x27;, SeriesConverter()),\n                                 (&#x27;vectorization&#x27;,\n                                  TfidfVectorizer(max_df=0.7, min_df=3))])),\n                (&#x27;regressor&#x27;, RandomForestClassifier())])</pre></div></div></div><div class=\"sk-serial\"><div class=\"sk-item\"><div class=\"sk-label-container\"><div class=\"sk-label sk-toggleable\"><input class=\"sk-toggleable__control sk-hidden--visually\" id=\"sk-estimator-id-9\" type=\"checkbox\" ><label for=\"sk-estimator-id-9\" class=\"sk-toggleable__label sk-toggleable__label-arrow\">NLP: Pipeline</label><div class=\"sk-toggleable__content\"><pre>Pipeline(steps=[(&#x27;cleaning&#x27;, TextCleaner()),\n                (&#x27;series_converter&#x27;, SeriesConverter()),\n                (&#x27;vectorization&#x27;, TfidfVectorizer(max_df=0.7, min_df=3))])</pre></div></div></div><div class=\"sk-serial\"><div class=\"sk-item\"><div class=\"sk-estimator sk-toggleable\"><input class=\"sk-toggleable__control sk-hidden--visually\" id=\"sk-estimator-id-10\" type=\"checkbox\" ><label for=\"sk-estimator-id-10\" class=\"sk-toggleable__label sk-toggleable__label-arrow\">TextCleaner</label><div class=\"sk-toggleable__content\"><pre>TextCleaner()</pre></div></div></div><div class=\"sk-item\"><div class=\"sk-estimator sk-toggleable\"><input class=\"sk-toggleable__control sk-hidden--visually\" id=\"sk-estimator-id-11\" type=\"checkbox\" ><label for=\"sk-estimator-id-11\" class=\"sk-toggleable__label sk-toggleable__label-arrow\">SeriesConverter</label><div class=\"sk-toggleable__content\"><pre>SeriesConverter()</pre></div></div></div><div class=\"sk-item\"><div class=\"sk-estimator sk-toggleable\"><input class=\"sk-toggleable__control sk-hidden--visually\" id=\"sk-estimator-id-12\" type=\"checkbox\" ><label for=\"sk-estimator-id-12\" class=\"sk-toggleable__label sk-toggleable__label-arrow\">TfidfVectorizer</label><div class=\"sk-toggleable__content\"><pre>TfidfVectorizer(max_df=0.7, min_df=3)</pre></div></div></div></div></div><div class=\"sk-item\"><div class=\"sk-estimator sk-toggleable\"><input class=\"sk-toggleable__control sk-hidden--visually\" id=\"sk-estimator-id-13\" type=\"checkbox\" ><label for=\"sk-estimator-id-13\" class=\"sk-toggleable__label sk-toggleable__label-arrow\">RandomForestClassifier</label><div class=\"sk-toggleable__content\"><pre>RandomForestClassifier()</pre></div></div></div></div></div></div></div>"
     },
     "execution_count": 28,
     "metadata": {},
     "output_type": "execute_result"
    }
   ],
   "source": [
    "final_pipeline_1"
   ],
   "metadata": {
    "collapsed": false,
    "pycharm": {
     "name": "#%%\n"
    }
   }
  },
  {
   "cell_type": "code",
   "execution_count": 29,
   "outputs": [
    {
     "data": {
      "text/plain": "array([[0.96401541, 0.03598459],\n       [0.91287952, 0.08712048],\n       [0.77486095, 0.22513905],\n       [0.98496323, 0.01503677]])"
     },
     "execution_count": 29,
     "metadata": {},
     "output_type": "execute_result"
    }
   ],
   "source": [
    "final_pipeline_2.predict_proba(pd.DataFrame({\n",
    "    'tweet': [\n",
    "        'Sasha goes to Mannheim University',\n",
    "        '@Danylo will create a great application',\n",
    "        '@You bitch suck a dick fuck you shit in your ass',\n",
    "        'He will break it',\n",
    "    ]}))"
   ],
   "metadata": {
    "collapsed": false,
    "pycharm": {
     "name": "#%%\n"
    }
   }
  },
  {
   "cell_type": "code",
   "execution_count": 37,
   "outputs": [],
   "source": [
    "from src.common.prediction_model.persistence import FsModelPersistence\n",
    "from src.common.validation.metrics import aggregate_metrics\n",
    "from src.common.prediction_model.prediction_model import ModelContainer, ModelMetadata\n",
    "\n",
    "container = ModelContainer.create(\n",
    "    pipeline_name='l1_data2_ctb',\n",
    "    pipeline=final_pipeline_3,\n",
    "    feature_names=[],\n",
    "    metadata=ModelMetadata(\n",
    "        model_name=str(final_pipeline_3.__class__.__name__),\n",
    "        **aggregate_metrics(metrics)['test'].loc[\"CatBoost\"]\n",
    "    )\n",
    ")"
   ],
   "metadata": {
    "collapsed": false,
    "pycharm": {
     "name": "#%%\n"
    }
   }
  },
  {
   "cell_type": "code",
   "execution_count": 38,
   "outputs": [],
   "source": [
    "# %%\n",
    "persistor = FsModelPersistence()\n",
    "name = persistor.save(container)"
   ],
   "metadata": {
    "collapsed": false,
    "pycharm": {
     "name": "#%%\n"
    }
   }
  },
  {
   "cell_type": "code",
   "execution_count": 39,
   "outputs": [
    {
     "data": {
      "text/plain": "'l1_data2_ctb_Pipeline_2023-05-16.bin.gz'"
     },
     "execution_count": 39,
     "metadata": {},
     "output_type": "execute_result"
    }
   ],
   "source": [
    "name"
   ],
   "metadata": {
    "collapsed": false,
    "pycharm": {
     "name": "#%%\n"
    }
   }
  },
  {
   "cell_type": "code",
   "execution_count": 54,
   "outputs": [],
   "source": [],
   "metadata": {
    "collapsed": false,
    "pycharm": {
     "name": "#%%\n"
    }
   }
  },
  {
   "cell_type": "markdown",
   "source": [
    "#### Hyperparameter optimization"
   ],
   "metadata": {
    "collapsed": false,
    "pycharm": {
     "name": "#%% md\n"
    }
   }
  },
  {
   "cell_type": "code",
   "execution_count": 343,
   "outputs": [],
   "source": [
    "from sklearn.ensemble import RandomForestClassifier\n",
    "from sklearn.model_selection import GridSearchCV\n",
    "import time\n",
    "\n",
    "# Define the parameter grid to search over\n",
    "param_grid = {\n",
    "    'n_estimators': [20, 50, 100, 200],\n",
    "    'max_depth': [None, 2, 5, 10],\n",
    "    'min_samples_split': [2, 5, 10],\n",
    "    'min_samples_leaf': [1, 2, 4],\n",
    "}\n",
    "\n",
    "# Create a RandomForestClassifier object\n",
    "model = RandomForestClassifier()\n",
    "\n",
    "\"\"\"\n",
    "Best parameters:  {'max_depth': None, 'min_samples_leaf': 1, 'min_samples_split': 2, 'n_estimators': 100}\n",
    "Best accuracy:  0.9592866361609763\n",
    "Computation tmie: 245.936190366745\n",
    "\"\"\""
   ],
   "metadata": {
    "collapsed": false,
    "pycharm": {
     "name": "#%%\n"
    }
   }
  },
  {
   "cell_type": "code",
   "execution_count": 347,
   "outputs": [
    {
     "data": {
      "text/plain": "'\\n\\n'"
     },
     "execution_count": 347,
     "metadata": {},
     "output_type": "execute_result"
    }
   ],
   "source": [
    "# Define the parameter grid to search over\n",
    "param_grid = {\n",
    "    'iterations': [100, 200, 300],\n",
    "    'learning_rate': [0.01, 0.05, 0.1],\n",
    "    'depth': [4, 6, 8],\n",
    "    'l2_leaf_reg': [1, 3, 5],\n",
    "    'random_strength': [0.1, 0.5, 1],\n",
    "}\n",
    "model = CatBoostClassifier()\n",
    "\"\"\"\n",
    "\n",
    "\"\"\""
   ],
   "metadata": {
    "collapsed": false,
    "pycharm": {
     "name": "#%%\n"
    }
   }
  },
  {
   "cell_type": "code",
   "execution_count": 349,
   "outputs": [],
   "source": [
    "param_grid = {\n",
    "    'max_depth': [3, 6, 9],\n",
    "    'learning_rate': [0.01, 0.05, 0.1],\n",
    "    'n_estimators': [100, 200, 300],\n",
    "    'min_child_weight': [1, 3, 5],\n",
    "}\n",
    "\n",
    "model = XGBClassifier(tree_method='gpu_hist')"
   ],
   "metadata": {
    "collapsed": false,
    "pycharm": {
     "name": "#%%\n"
    }
   }
  },
  {
   "cell_type": "code",
   "execution_count": null,
   "outputs": [],
   "source": [
    "# Create a GridSearchCV object and fit the data\n",
    "start = time.time()\n",
    "grid_search = GridSearchCV(model, param_grid=param_grid, cv=3, n_jobs=-1)\n",
    "grid_search.fit(X_train, y_train)\n",
    "\n",
    "# Print the best hyperparameters and accuracy score\n",
    "print(\"Best parameters: \", grid_search.best_params_)\n",
    "print(\"Best accuracy: \", grid_search.best_score_)\n",
    "end = time.time()\n",
    "print(f\"Computation tmie: {end - start}\")"
   ],
   "metadata": {
    "collapsed": false,
    "pycharm": {
     "name": "#%%\n",
     "is_executing": true
    }
   }
  },
  {
   "cell_type": "code",
   "execution_count": null,
   "outputs": [],
   "source": [],
   "metadata": {
    "collapsed": false,
    "pycharm": {
     "name": "#%%\n"
    }
   }
  }
 ],
 "metadata": {
  "kernelspec": {
   "display_name": "Python 3 (ipykernel)",
   "language": "python",
   "name": "python3"
  },
  "language_info": {
   "codemirror_mode": {
    "name": "ipython",
    "version": 3
   },
   "file_extension": ".py",
   "mimetype": "text/x-python",
   "name": "python",
   "nbconvert_exporter": "python",
   "pygments_lexer": "ipython3",
   "version": "3.10.9"
  },
  "vscode": {
   "interpreter": {
    "hash": "7f55550e77323d67b6ecc193cd2e5d66a57e017d7db72e2119e5097fca24649a"
   }
  }
 },
 "nbformat": 4,
 "nbformat_minor": 2
}