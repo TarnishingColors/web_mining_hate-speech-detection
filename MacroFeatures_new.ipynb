{
 "cells": [
  {
   "cell_type": "code",
   "execution_count": 1,
   "id": "5c722f67",
   "metadata": {},
   "outputs": [],
   "source": [
    "#$ pip install better_profanity\n",
    "# Download the VADER lexicon\n",
    "#nltk.download('vader_lexicon')\n",
    "\n",
    "import pandas as pd\n",
    "from sklearn.compose import ColumnTransformer\n",
    "from sklearn.feature_extraction.text import CountVectorizer\n",
    "from better_profanity import profanity\n",
    "import nltk\n",
    "from nltk.sentiment import SentimentIntensityAnalyzer\n",
    "\n",
    "\n",
    "#data = pd.read_csv(\"d.csv\")\n",
    "#data1 = pd.read_csv(\"d1.csv\")\n",
    "#data2 = pd.read_csv(\"file.csv\")\n",
    "#data3 = pd.read_csv(\"train.csv\")"
   ]
  },
  {
   "cell_type": "code",
   "execution_count": 82,
   "id": "5325e379",
   "metadata": {},
   "outputs": [],
   "source": [
    "#Check if a string in DataFrame contains any swear words. \n",
    "#Function .contains_profanity() return True if any words in the given string has a word existing in the wordlist(835 words).\n",
    "#LEAVE PUNCTUATION\n",
    "def ContainsProfanityWords(data):\n",
    "    for column in data.columns:\n",
    "        if data[column].dtype == 'object':\n",
    "            data['contains_profanity'] = data[column].apply(lambda x: profanity.contains_profanity(x))\n",
    "    return data\n"
   ]
  },
  {
   "cell_type": "code",
   "execution_count": 83,
   "id": "7176c9ec",
   "metadata": {},
   "outputs": [],
   "source": [
    "# Calculate the overall sentiment score of each row. The range [-1;1] where -1 represents highly negative sentiment, \n",
    "# 1 represents highly positive sentiment, and 0 represents neutral sentiment.\n",
    "def SentimentScoreOfRow(data):\n",
    "    for column in data.columns:\n",
    "        if data[column].dtype == 'object':\n",
    "            data['sentiment_score'] = data[column].apply(lambda x: SentimentIntensityAnalyzer().polarity_scores(x)['compound'])\n",
    "    return data\n"
   ]
  },
  {
   "cell_type": "code",
   "execution_count": 84,
   "id": "0f60f301",
   "metadata": {},
   "outputs": [],
   "source": [
    "# Calculate the number of words in a tweer for each row\n",
    "def NumberOfWordsInRow(data):\n",
    "    for column in data.columns:\n",
    "        if data[column].dtype == 'object':\n",
    "            word_count_transformer = CountVectorizer(token_pattern=r'\\b\\w+\\b', lowercase=False, analyzer='word')\n",
    "\n",
    "            column_transformer = ColumnTransformer([\n",
    "                ('word_count', word_count_transformer, column)\n",
    "                ])\n",
    "            \n",
    "            word_counts = column_transformer.fit_transform(data)\n",
    "            total_word_count = word_counts.toarray().sum(axis=1)\n",
    "            total_word_count = pd.DataFrame(total_word_count)\n",
    "            data['word_count'] = total_word_count\n",
    "\n",
    "    return data\n",
    "    "
   ]
  }
 ],
 "metadata": {
  "kernelspec": {
   "display_name": "Python 3 (ipykernel)",
   "language": "python",
   "name": "python3"
  },
  "language_info": {
   "codemirror_mode": {
    "name": "ipython",
    "version": 3
   },
   "file_extension": ".py",
   "mimetype": "text/x-python",
   "name": "python",
   "nbconvert_exporter": "python",
   "pygments_lexer": "ipython3",
   "version": "3.9.7"
  }
 },
 "nbformat": 4,
 "nbformat_minor": 5
}
