{
 "cells": [
  {
   "cell_type": "code",
   "execution_count": 26,
   "outputs": [],
   "source": [
    "import pandas as pd\n",
    "from catboost import CatBoostClassifier\n",
    "from lightgbm import LGBMClassifier\n",
    "from matplotlib import pyplot as plt\n",
    "from sklearn.dummy import DummyClassifier\n",
    "from sklearn.ensemble import RandomForestClassifier\n",
    "from sklearn.linear_model import LogisticRegression\n",
    "from sklearn.pipeline import make_pipeline\n",
    "from xgboost import XGBClassifier\n",
    "\n",
    "from notebooks.Dzim.data_mining.validation.training import estimate_multiple_models, estimate_model\n",
    "\n",
    "import warnings\n",
    "from sklearn.metrics import classification_report, confusion_matrix"
   ],
   "metadata": {
    "collapsed": false,
    "pycharm": {
     "name": "#%%\n"
    }
   }
  },
  {
   "cell_type": "code",
   "execution_count": 2,
   "outputs": [],
   "source": [
    "plt.rcParams['figure.facecolor'] = 'white'"
   ],
   "metadata": {
    "collapsed": false,
    "pycharm": {
     "name": "#%%\n"
    }
   }
  },
  {
   "cell_type": "code",
   "execution_count": 23,
   "outputs": [
    {
     "name": "stdout",
     "output_type": "stream",
     "text": [
      "The autoreload extension is already loaded. To reload it, use:\n",
      "  %reload_ext autoreload\n"
     ]
    }
   ],
   "source": [
    "%load_ext autoreload\n",
    "%autoreload 2"
   ],
   "metadata": {
    "collapsed": false,
    "pycharm": {
     "name": "#%%\n"
    }
   }
  },
  {
   "cell_type": "markdown",
   "source": [
    "#### Loading data"
   ],
   "metadata": {
    "collapsed": false,
    "pycharm": {
     "name": "#%% md\n"
    }
   }
  },
  {
   "cell_type": "code",
   "execution_count": 4,
   "outputs": [],
   "source": [
    "data = pd.read_csv('data2.csv', index_col=0)"
   ],
   "metadata": {
    "collapsed": false,
    "pycharm": {
     "name": "#%%\n"
    }
   }
  },
  {
   "cell_type": "code",
   "execution_count": 5,
   "outputs": [
    {
     "data": {
      "text/plain": "   count  hate_speech  offensive_language  neither  class  \\\n0      3            0                   0        3      2   \n1      3            0                   3        0      1   \n2      3            0                   3        0      1   \n3      3            0                   2        1      1   \n4      6            0                   6        0      1   \n\n                                               tweet  \n0  !!! RT @mayasolovely: As a woman you shouldn't...  \n1  !!!!! RT @mleew17: boy dats cold...tyga dwn ba...  \n2  !!!!!!! RT @UrKindOfBrand Dawg!!!! RT @80sbaby...  \n3  !!!!!!!!! RT @C_G_Anderson: @viva_based she lo...  \n4  !!!!!!!!!!!!! RT @ShenikaRoberts: The shit you...  ",
      "text/html": "<div>\n<style scoped>\n    .dataframe tbody tr th:only-of-type {\n        vertical-align: middle;\n    }\n\n    .dataframe tbody tr th {\n        vertical-align: top;\n    }\n\n    .dataframe thead th {\n        text-align: right;\n    }\n</style>\n<table border=\"1\" class=\"dataframe\">\n  <thead>\n    <tr style=\"text-align: right;\">\n      <th></th>\n      <th>count</th>\n      <th>hate_speech</th>\n      <th>offensive_language</th>\n      <th>neither</th>\n      <th>class</th>\n      <th>tweet</th>\n    </tr>\n  </thead>\n  <tbody>\n    <tr>\n      <th>0</th>\n      <td>3</td>\n      <td>0</td>\n      <td>0</td>\n      <td>3</td>\n      <td>2</td>\n      <td>!!! RT @mayasolovely: As a woman you shouldn't...</td>\n    </tr>\n    <tr>\n      <th>1</th>\n      <td>3</td>\n      <td>0</td>\n      <td>3</td>\n      <td>0</td>\n      <td>1</td>\n      <td>!!!!! RT @mleew17: boy dats cold...tyga dwn ba...</td>\n    </tr>\n    <tr>\n      <th>2</th>\n      <td>3</td>\n      <td>0</td>\n      <td>3</td>\n      <td>0</td>\n      <td>1</td>\n      <td>!!!!!!! RT @UrKindOfBrand Dawg!!!! RT @80sbaby...</td>\n    </tr>\n    <tr>\n      <th>3</th>\n      <td>3</td>\n      <td>0</td>\n      <td>2</td>\n      <td>1</td>\n      <td>1</td>\n      <td>!!!!!!!!! RT @C_G_Anderson: @viva_based she lo...</td>\n    </tr>\n    <tr>\n      <th>4</th>\n      <td>6</td>\n      <td>0</td>\n      <td>6</td>\n      <td>0</td>\n      <td>1</td>\n      <td>!!!!!!!!!!!!! RT @ShenikaRoberts: The shit you...</td>\n    </tr>\n  </tbody>\n</table>\n</div>"
     },
     "execution_count": 5,
     "metadata": {},
     "output_type": "execute_result"
    }
   ],
   "source": [
    "data.head()"
   ],
   "metadata": {
    "collapsed": false,
    "pycharm": {
     "name": "#%%\n"
    }
   }
  },
  {
   "cell_type": "code",
   "execution_count": 6,
   "outputs": [
    {
     "data": {
      "text/plain": "1    19190\n2     4163\n0     1430\nName: class, dtype: int64"
     },
     "execution_count": 6,
     "metadata": {},
     "output_type": "execute_result"
    }
   ],
   "source": [
    "data['class'].value_counts()"
   ],
   "metadata": {
    "collapsed": false,
    "pycharm": {
     "name": "#%%\n"
    }
   }
  },
  {
   "cell_type": "code",
   "execution_count": 7,
   "outputs": [],
   "source": [
    "data_sample = pd.DataFrame({\n",
    "    'tweet': [\n",
    "        'Sasha goes to Mannheim University',\n",
    "        'Danylo will create a great application',\n",
    "        'Danylo will not create a great application',\n",
    "        'Dasha didnt fulfill her task'\n",
    "    ],\n",
    "    'label': [1, 1, 0, 0]\n",
    "})"
   ],
   "metadata": {
    "collapsed": false,
    "pycharm": {
     "name": "#%%\n"
    }
   }
  },
  {
   "cell_type": "markdown",
   "source": [
    "#### Preprocessing"
   ],
   "metadata": {
    "collapsed": false,
    "pycharm": {
     "name": "#%% md\n"
    }
   }
  },
  {
   "cell_type": "code",
   "execution_count": 8,
   "outputs": [
    {
     "name": "stderr",
     "output_type": "stream",
     "text": [
      "[nltk_data] Downloading package stopwords to\n",
      "[nltk_data]     C:\\Users\\dzmit\\AppData\\Roaming\\nltk_data...\n",
      "[nltk_data]   Package stopwords is already up-to-date!\n",
      "[nltk_data] Downloading package punkt to\n",
      "[nltk_data]     C:\\Users\\dzmit\\AppData\\Roaming\\nltk_data...\n",
      "[nltk_data]   Package punkt is already up-to-date!\n",
      "[nltk_data] Downloading package averaged_perceptron_tagger to\n",
      "[nltk_data]     C:\\Users\\dzmit\\AppData\\Roaming\\nltk_data...\n",
      "[nltk_data]   Package averaged_perceptron_tagger is already up-to-\n",
      "[nltk_data]       date!\n",
      "[nltk_data] Downloading package wordnet to\n",
      "[nltk_data]     C:\\Users\\dzmit\\AppData\\Roaming\\nltk_data...\n",
      "[nltk_data]   Package wordnet is already up-to-date!\n"
     ]
    }
   ],
   "source": [
    "from sklearn.pipeline import Pipeline\n",
    "from notebooks.Dzim.web_mining.bert_processor import TextCleaner, SeriesConverter\n",
    "from sklearn.feature_extraction.text import TfidfVectorizer\n",
    "from sklearn.model_selection import train_test_split"
   ],
   "metadata": {
    "collapsed": false,
    "pycharm": {
     "name": "#%%\n"
    }
   }
  },
  {
   "cell_type": "code",
   "execution_count": 9,
   "outputs": [],
   "source": [
    "target = 'class'"
   ],
   "metadata": {
    "collapsed": false,
    "pycharm": {
     "name": "#%%\n"
    }
   }
  },
  {
   "cell_type": "code",
   "execution_count": 10,
   "outputs": [],
   "source": [
    "# Split the data into train and test sets\n",
    "data_train, data_test, y_train, y_test = train_test_split(data[['tweet']], data[target], test_size=0.2, random_state=42)"
   ],
   "metadata": {
    "collapsed": false,
    "pycharm": {
     "name": "#%%\n"
    }
   }
  },
  {
   "cell_type": "code",
   "execution_count": 11,
   "outputs": [
    {
     "data": {
      "text/plain": "((19826, 1), (4957, 1))"
     },
     "execution_count": 11,
     "metadata": {},
     "output_type": "execute_result"
    }
   ],
   "source": [
    "data_train.shape, data_test.shape"
   ],
   "metadata": {
    "collapsed": false,
    "pycharm": {
     "name": "#%%\n"
    }
   }
  },
  {
   "cell_type": "code",
   "execution_count": 12,
   "outputs": [],
   "source": [
    "# Define the pipeline\n",
    "nlp = Pipeline([\n",
    "    (\"cleaning\", TextCleaner()),\n",
    "    (\"series_converter\", SeriesConverter()),\n",
    "    (\"vectorization\", TfidfVectorizer(max_df=0.7, min_df=3)),\n",
    "])"
   ],
   "metadata": {
    "collapsed": false,
    "pycharm": {
     "name": "#%%\n"
    }
   }
  },
  {
   "cell_type": "code",
   "execution_count": 13,
   "outputs": [],
   "source": [
    "# Fit-transform the training data\n",
    "X_train = nlp.fit_transform(data_train)  #.toarray()"
   ],
   "metadata": {
    "collapsed": false,
    "pycharm": {
     "name": "#%%\n"
    }
   }
  },
  {
   "cell_type": "code",
   "execution_count": 14,
   "outputs": [],
   "source": [
    "# Transform the test data\n",
    "X_test = nlp.transform(data_test)"
   ],
   "metadata": {
    "collapsed": false,
    "pycharm": {
     "name": "#%%\n"
    }
   }
  },
  {
   "cell_type": "markdown",
   "metadata": {
    "pycharm": {
     "name": "#%% md\n"
    }
   },
   "source": [
    "#### Models"
   ]
  },
  {
   "cell_type": "code",
   "execution_count": 15,
   "metadata": {
    "pycharm": {
     "name": "#%%\n"
    }
   },
   "outputs": [],
   "source": [
    "dummy_mean = make_pipeline(\n",
    "    DummyClassifier(strategy='most_frequent'),\n",
    ")\n",
    "dummy_median = make_pipeline(\n",
    "    DummyClassifier(strategy='stratified'),\n",
    ")"
   ]
  },
  {
   "cell_type": "code",
   "execution_count": 16,
   "metadata": {
    "pycharm": {
     "name": "#%%\n"
    }
   },
   "outputs": [],
   "source": [
    "lr = make_pipeline(\n",
    "    LogisticRegression(),\n",
    ")"
   ]
  },
  {
   "cell_type": "code",
   "execution_count": 17,
   "metadata": {
    "pycharm": {
     "name": "#%%\n"
    }
   },
   "outputs": [],
   "source": [
    "ctb = make_pipeline(\n",
    "    CatBoostClassifier()\n",
    ")\n",
    "xgb_parameters = {\n",
    "    # 'learning_rate': 0.01,\n",
    "    # 'max_depth': 9,\n",
    "    # 'min_child_weight': 3,\n",
    "    # 'n_estimators': 300\n",
    "\n",
    "}\n",
    "\n",
    "xgb = make_pipeline(\n",
    "    XGBClassifier(**xgb_parameters)\n",
    ")\n",
    "\n",
    "lgbm_parameters = {\n",
    "    # 'boosting_type': 'dart',\n",
    "    # 'learning_rate': 0.1,\n",
    "    # 'n_estimators': 100,\n",
    "    # 'num_leaves': 20\n",
    "}\n",
    "\n",
    "lgbm = make_pipeline(\n",
    "    LGBMClassifier(**lgbm_parameters)\n",
    ")\n",
    "\n",
    "rfc_parameters = {\n",
    "    # 'max_depth': None,\n",
    "    # 'min_samples_leaf': 1,\n",
    "    # 'min_samples_split': 10,\n",
    "    # 'n_estimators': 300\n",
    "}\n",
    "\n",
    "rfc = make_pipeline(\n",
    "    RandomForestClassifier(**rfc_parameters),\n",
    ")"
   ]
  },
  {
   "cell_type": "markdown",
   "source": [
    "#### Train single model"
   ],
   "metadata": {
    "collapsed": false,
    "pycharm": {
     "name": "#%% md\n"
    }
   }
  },
  {
   "cell_type": "code",
   "execution_count": 18,
   "outputs": [],
   "source": [
    "# model = ctb"
   ],
   "metadata": {
    "collapsed": false,
    "pycharm": {
     "name": "#%%\n"
    }
   }
  },
  {
   "cell_type": "code",
   "execution_count": 19,
   "outputs": [],
   "source": [
    "# lr.fit(X_train, y_train)"
   ],
   "metadata": {
    "collapsed": false,
    "pycharm": {
     "name": "#%%\n"
    }
   }
  },
  {
   "cell_type": "code",
   "execution_count": 20,
   "outputs": [],
   "source": [
    "# model.fit(X_train, y_train)"
   ],
   "metadata": {
    "collapsed": false,
    "pycharm": {
     "name": "#%%\n"
    }
   }
  },
  {
   "cell_type": "code",
   "execution_count": 21,
   "outputs": [],
   "source": [
    "# prediction = model.predict(X_test)"
   ],
   "metadata": {
    "collapsed": false,
    "pycharm": {
     "name": "#%%\n"
    }
   }
  },
  {
   "cell_type": "code",
   "execution_count": 50,
   "outputs": [],
   "source": [
    "# with warnings.catch_warnings():\n",
    "#     warnings.simplefilter(\"ignore\")\n",
    "#     print(classification_report(prediction, y_test))\n",
    "#     print(confusion_matrix(prediction, y_test))"
   ],
   "metadata": {
    "collapsed": false,
    "pycharm": {
     "name": "#%%\n"
    }
   }
  },
  {
   "cell_type": "code",
   "execution_count": 51,
   "outputs": [],
   "source": [
    "# train_prediction = model.predict(X_train)"
   ],
   "metadata": {
    "collapsed": false,
    "pycharm": {
     "name": "#%%\n"
    }
   }
  },
  {
   "cell_type": "code",
   "execution_count": 52,
   "outputs": [],
   "source": [
    "# with warnings.catch_warnings():\n",
    "#     warnings.simplefilter(\"ignore\")\n",
    "#     print(classification_report(train_prediction, y_train))\n",
    "#     print(confusion_matrix(train_prediction, y_train))"
   ],
   "metadata": {
    "collapsed": false,
    "pycharm": {
     "name": "#%%\n"
    }
   }
  },
  {
   "cell_type": "code",
   "execution_count": 65,
   "outputs": [
    {
     "name": "stdout",
     "output_type": "stream",
     "text": [
      "              precision    recall  f1-score   support\n",
      "\n",
      "           1       1.00      1.00      1.00         1\n",
      "           2       0.50      1.00      0.67         1\n",
      "           3       0.00      0.00      0.00         1\n",
      "\n",
      "    accuracy                           0.67         3\n",
      "   macro avg       0.50      0.67      0.56         3\n",
      "weighted avg       0.50      0.67      0.56         3\n",
      "\n"
     ]
    },
    {
     "name": "stderr",
     "output_type": "stream",
     "text": [
      "C:\\Users\\dzmit\\anaconda3\\envs\\eurostars\\lib\\site-packages\\sklearn\\metrics\\_classification.py:1334: UndefinedMetricWarning: Precision and F-score are ill-defined and being set to 0.0 in labels with no predicted samples. Use `zero_division` parameter to control this behavior.\n",
      "  _warn_prf(average, modifier, msg_start, len(result))\n",
      "C:\\Users\\dzmit\\anaconda3\\envs\\eurostars\\lib\\site-packages\\sklearn\\metrics\\_classification.py:1334: UndefinedMetricWarning: Precision and F-score are ill-defined and being set to 0.0 in labels with no predicted samples. Use `zero_division` parameter to control this behavior.\n",
      "  _warn_prf(average, modifier, msg_start, len(result))\n",
      "C:\\Users\\dzmit\\anaconda3\\envs\\eurostars\\lib\\site-packages\\sklearn\\metrics\\_classification.py:1334: UndefinedMetricWarning: Precision and F-score are ill-defined and being set to 0.0 in labels with no predicted samples. Use `zero_division` parameter to control this behavior.\n",
      "  _warn_prf(average, modifier, msg_start, len(result))\n"
     ]
    }
   ],
   "source": [
    "from sklearn.metrics import f1_score\n",
    "\n",
    "print(classification_report([1, 2, 3], [1, 2, 2]))"
   ],
   "metadata": {
    "collapsed": false,
    "pycharm": {
     "name": "#%%\n"
    }
   }
  },
  {
   "cell_type": "code",
   "execution_count": 22,
   "metadata": {
    "pycharm": {
     "name": "#%%\n"
    }
   },
   "outputs": [],
   "source": [
    "pipelines = [\n",
    "    (\"Dummy_mean\", dummy_mean),\n",
    "    (\"Dummy_median\", dummy_median),\n",
    "    (\"LinReg\", lr),\n",
    "    (\"XGB\", xgb),\n",
    "    (\"LGBM\", lgbm),\n",
    "    (\"RFC\", rfc),\n",
    "    (\"CatBoost\", ctb),\n",
    "]"
   ]
  },
  {
   "cell_type": "markdown",
   "metadata": {
    "pycharm": {
     "name": "#%% md\n"
    }
   },
   "source": [
    "#### Models"
   ]
  },
  {
   "cell_type": "code",
   "execution_count": 30,
   "metadata": {
    "pycharm": {
     "name": "#%%\n"
    }
   },
   "outputs": [
    {
     "name": "stderr",
     "output_type": "stream",
     "text": [
      "C:\\Users\\dzmit\\anaconda3\\envs\\eurostars\\lib\\site-packages\\sklearn\\metrics\\_classification.py:1334: UndefinedMetricWarning: Precision is ill-defined and being set to 0.0 in labels with no predicted samples. Use `zero_division` parameter to control this behavior.\n",
      "  _warn_prf(average, modifier, msg_start, len(result))\n",
      "C:\\Users\\dzmit\\anaconda3\\envs\\eurostars\\lib\\site-packages\\sklearn\\metrics\\_classification.py:1334: UndefinedMetricWarning: Precision is ill-defined and being set to 0.0 in labels with no predicted samples. Use `zero_division` parameter to control this behavior.\n",
      "  _warn_prf(average, modifier, msg_start, len(result))\n",
      "C:\\Users\\dzmit\\anaconda3\\envs\\eurostars\\lib\\site-packages\\sklearn\\linear_model\\_logistic.py:444: ConvergenceWarning: lbfgs failed to converge (status=1):\n",
      "STOP: TOTAL NO. of ITERATIONS REACHED LIMIT.\n",
      "\n",
      "Increase the number of iterations (max_iter) or scale the data as shown in:\n",
      "    https://scikit-learn.org/stable/modules/preprocessing.html\n",
      "Please also refer to the documentation for alternative solver options:\n",
      "    https://scikit-learn.org/stable/modules/linear_model.html#logistic-regression\n",
      "  n_iter_i = _check_optimize_result(\n"
     ]
    },
    {
     "name": "stdout",
     "output_type": "stream",
     "text": [
      "Learning rate set to 0.092147\n",
      "0:\tlearn: 0.9865924\ttotal: 269ms\tremaining: 4m 28s\n",
      "1:\tlearn: 0.9011843\ttotal: 393ms\tremaining: 3m 16s\n",
      "2:\tlearn: 0.8335079\ttotal: 513ms\tremaining: 2m 50s\n",
      "3:\tlearn: 0.7765817\ttotal: 639ms\tremaining: 2m 39s\n",
      "4:\tlearn: 0.7295698\ttotal: 767ms\tremaining: 2m 32s\n",
      "5:\tlearn: 0.6884794\ttotal: 892ms\tremaining: 2m 27s\n",
      "6:\tlearn: 0.6538000\ttotal: 1.02s\tremaining: 2m 24s\n",
      "7:\tlearn: 0.6236899\ttotal: 1.14s\tremaining: 2m 21s\n",
      "8:\tlearn: 0.5968766\ttotal: 1.27s\tremaining: 2m 19s\n",
      "9:\tlearn: 0.5753602\ttotal: 1.4s\tremaining: 2m 18s\n",
      "10:\tlearn: 0.5558522\ttotal: 1.52s\tremaining: 2m 16s\n",
      "11:\tlearn: 0.5360669\ttotal: 1.65s\tremaining: 2m 15s\n",
      "12:\tlearn: 0.5198692\ttotal: 1.78s\tremaining: 2m 14s\n",
      "13:\tlearn: 0.5026694\ttotal: 1.91s\tremaining: 2m 14s\n",
      "14:\tlearn: 0.4917405\ttotal: 2.03s\tremaining: 2m 13s\n",
      "15:\tlearn: 0.4787190\ttotal: 2.16s\tremaining: 2m 12s\n",
      "16:\tlearn: 0.4678481\ttotal: 2.28s\tremaining: 2m 12s\n",
      "17:\tlearn: 0.4586968\ttotal: 2.41s\tremaining: 2m 11s\n",
      "18:\tlearn: 0.4514327\ttotal: 2.52s\tremaining: 2m 10s\n",
      "19:\tlearn: 0.4429974\ttotal: 2.64s\tremaining: 2m 9s\n",
      "20:\tlearn: 0.4341441\ttotal: 2.76s\tremaining: 2m 8s\n",
      "21:\tlearn: 0.4287505\ttotal: 2.87s\tremaining: 2m 7s\n",
      "22:\tlearn: 0.4235381\ttotal: 2.99s\tremaining: 2m 6s\n",
      "23:\tlearn: 0.4188947\ttotal: 3.11s\tremaining: 2m 6s\n",
      "24:\tlearn: 0.4152072\ttotal: 3.24s\tremaining: 2m 6s\n",
      "25:\tlearn: 0.4079512\ttotal: 3.37s\tremaining: 2m 6s\n",
      "26:\tlearn: 0.4013708\ttotal: 3.48s\tremaining: 2m 5s\n",
      "27:\tlearn: 0.3980102\ttotal: 3.61s\tremaining: 2m 5s\n",
      "28:\tlearn: 0.3957496\ttotal: 3.73s\tremaining: 2m 5s\n",
      "29:\tlearn: 0.3917142\ttotal: 3.86s\tremaining: 2m 4s\n",
      "30:\tlearn: 0.3893858\ttotal: 3.98s\tremaining: 2m 4s\n",
      "31:\tlearn: 0.3865777\ttotal: 4.11s\tremaining: 2m 4s\n",
      "32:\tlearn: 0.3807657\ttotal: 4.24s\tremaining: 2m 4s\n",
      "33:\tlearn: 0.3772047\ttotal: 4.37s\tremaining: 2m 4s\n",
      "34:\tlearn: 0.3745814\ttotal: 4.48s\tremaining: 2m 3s\n",
      "35:\tlearn: 0.3731044\ttotal: 4.61s\tremaining: 2m 3s\n",
      "36:\tlearn: 0.3713768\ttotal: 4.73s\tremaining: 2m 3s\n",
      "37:\tlearn: 0.3699999\ttotal: 4.86s\tremaining: 2m 2s\n",
      "38:\tlearn: 0.3664207\ttotal: 4.98s\tremaining: 2m 2s\n",
      "39:\tlearn: 0.3639577\ttotal: 5.11s\tremaining: 2m 2s\n",
      "40:\tlearn: 0.3626920\ttotal: 5.23s\tremaining: 2m 2s\n",
      "41:\tlearn: 0.3617042\ttotal: 5.36s\tremaining: 2m 2s\n",
      "42:\tlearn: 0.3609857\ttotal: 5.49s\tremaining: 2m 2s\n",
      "43:\tlearn: 0.3602493\ttotal: 5.61s\tremaining: 2m 1s\n",
      "44:\tlearn: 0.3570365\ttotal: 5.73s\tremaining: 2m 1s\n",
      "45:\tlearn: 0.3559485\ttotal: 5.86s\tremaining: 2m 1s\n",
      "46:\tlearn: 0.3538049\ttotal: 5.99s\tremaining: 2m 1s\n",
      "47:\tlearn: 0.3515587\ttotal: 6.11s\tremaining: 2m 1s\n",
      "48:\tlearn: 0.3498939\ttotal: 6.24s\tremaining: 2m 1s\n",
      "49:\tlearn: 0.3489201\ttotal: 6.36s\tremaining: 2m\n",
      "50:\tlearn: 0.3467728\ttotal: 6.47s\tremaining: 2m\n",
      "51:\tlearn: 0.3458307\ttotal: 6.6s\tremaining: 2m\n",
      "52:\tlearn: 0.3449175\ttotal: 6.72s\tremaining: 2m\n",
      "53:\tlearn: 0.3443761\ttotal: 6.85s\tremaining: 1m 59s\n",
      "54:\tlearn: 0.3438647\ttotal: 6.97s\tremaining: 1m 59s\n",
      "55:\tlearn: 0.3427830\ttotal: 7.1s\tremaining: 1m 59s\n",
      "56:\tlearn: 0.3421078\ttotal: 7.23s\tremaining: 1m 59s\n",
      "57:\tlearn: 0.3411841\ttotal: 7.35s\tremaining: 1m 59s\n",
      "58:\tlearn: 0.3405919\ttotal: 7.48s\tremaining: 1m 59s\n",
      "59:\tlearn: 0.3390258\ttotal: 7.6s\tremaining: 1m 59s\n",
      "60:\tlearn: 0.3387314\ttotal: 7.71s\tremaining: 1m 58s\n",
      "61:\tlearn: 0.3374092\ttotal: 7.83s\tremaining: 1m 58s\n",
      "62:\tlearn: 0.3367690\ttotal: 7.95s\tremaining: 1m 58s\n",
      "63:\tlearn: 0.3360541\ttotal: 8.07s\tremaining: 1m 57s\n",
      "64:\tlearn: 0.3356539\ttotal: 8.19s\tremaining: 1m 57s\n",
      "65:\tlearn: 0.3348542\ttotal: 8.31s\tremaining: 1m 57s\n",
      "66:\tlearn: 0.3342719\ttotal: 8.42s\tremaining: 1m 57s\n",
      "67:\tlearn: 0.3337984\ttotal: 8.55s\tremaining: 1m 57s\n",
      "68:\tlearn: 0.3330055\ttotal: 8.67s\tremaining: 1m 56s\n",
      "69:\tlearn: 0.3318645\ttotal: 8.8s\tremaining: 1m 56s\n",
      "70:\tlearn: 0.3314338\ttotal: 8.93s\tremaining: 1m 56s\n",
      "71:\tlearn: 0.3300534\ttotal: 9.05s\tremaining: 1m 56s\n",
      "72:\tlearn: 0.3295578\ttotal: 9.16s\tremaining: 1m 56s\n",
      "73:\tlearn: 0.3291183\ttotal: 9.28s\tremaining: 1m 56s\n",
      "74:\tlearn: 0.3287999\ttotal: 9.39s\tremaining: 1m 55s\n",
      "75:\tlearn: 0.3283455\ttotal: 9.51s\tremaining: 1m 55s\n",
      "76:\tlearn: 0.3279991\ttotal: 9.63s\tremaining: 1m 55s\n",
      "77:\tlearn: 0.3275537\ttotal: 9.75s\tremaining: 1m 55s\n",
      "78:\tlearn: 0.3268860\ttotal: 9.86s\tremaining: 1m 55s\n",
      "79:\tlearn: 0.3264733\ttotal: 9.99s\tremaining: 1m 54s\n",
      "80:\tlearn: 0.3259085\ttotal: 10.1s\tremaining: 1m 54s\n",
      "81:\tlearn: 0.3255859\ttotal: 10.2s\tremaining: 1m 54s\n",
      "82:\tlearn: 0.3235380\ttotal: 10.3s\tremaining: 1m 54s\n",
      "83:\tlearn: 0.3232445\ttotal: 10.5s\tremaining: 1m 54s\n",
      "84:\tlearn: 0.3230831\ttotal: 10.6s\tremaining: 1m 53s\n",
      "85:\tlearn: 0.3227187\ttotal: 10.7s\tremaining: 1m 53s\n",
      "86:\tlearn: 0.3225202\ttotal: 10.8s\tremaining: 1m 53s\n",
      "87:\tlearn: 0.3208917\ttotal: 10.9s\tremaining: 1m 53s\n",
      "88:\tlearn: 0.3202398\ttotal: 11.1s\tremaining: 1m 53s\n",
      "89:\tlearn: 0.3197371\ttotal: 11.2s\tremaining: 1m 52s\n",
      "90:\tlearn: 0.3194356\ttotal: 11.3s\tremaining: 1m 52s\n",
      "91:\tlearn: 0.3189596\ttotal: 11.4s\tremaining: 1m 52s\n",
      "92:\tlearn: 0.3185368\ttotal: 11.5s\tremaining: 1m 52s\n",
      "93:\tlearn: 0.3181347\ttotal: 11.6s\tremaining: 1m 52s\n",
      "94:\tlearn: 0.3176859\ttotal: 11.8s\tremaining: 1m 51s\n",
      "95:\tlearn: 0.3174878\ttotal: 11.9s\tremaining: 1m 51s\n",
      "96:\tlearn: 0.3169624\ttotal: 12s\tremaining: 1m 51s\n",
      "97:\tlearn: 0.3167553\ttotal: 12.1s\tremaining: 1m 51s\n",
      "98:\tlearn: 0.3164421\ttotal: 12.2s\tremaining: 1m 51s\n",
      "99:\tlearn: 0.3158853\ttotal: 12.3s\tremaining: 1m 51s\n",
      "100:\tlearn: 0.3156092\ttotal: 12.5s\tremaining: 1m 50s\n",
      "101:\tlearn: 0.3152575\ttotal: 12.6s\tremaining: 1m 50s\n",
      "102:\tlearn: 0.3148197\ttotal: 12.7s\tremaining: 1m 50s\n",
      "103:\tlearn: 0.3145342\ttotal: 12.8s\tremaining: 1m 50s\n",
      "104:\tlearn: 0.3141450\ttotal: 12.9s\tremaining: 1m 50s\n",
      "105:\tlearn: 0.3138037\ttotal: 13s\tremaining: 1m 49s\n",
      "106:\tlearn: 0.3135605\ttotal: 13.2s\tremaining: 1m 49s\n",
      "107:\tlearn: 0.3133278\ttotal: 13.3s\tremaining: 1m 49s\n",
      "108:\tlearn: 0.3127713\ttotal: 13.4s\tremaining: 1m 49s\n",
      "109:\tlearn: 0.3126085\ttotal: 13.5s\tremaining: 1m 49s\n",
      "110:\tlearn: 0.3115184\ttotal: 13.6s\tremaining: 1m 49s\n",
      "111:\tlearn: 0.3100111\ttotal: 13.8s\tremaining: 1m 49s\n",
      "112:\tlearn: 0.3097626\ttotal: 13.9s\tremaining: 1m 48s\n",
      "113:\tlearn: 0.3094738\ttotal: 14s\tremaining: 1m 48s\n",
      "114:\tlearn: 0.3094088\ttotal: 14.1s\tremaining: 1m 48s\n",
      "115:\tlearn: 0.3090401\ttotal: 14.2s\tremaining: 1m 48s\n",
      "116:\tlearn: 0.3086449\ttotal: 14.3s\tremaining: 1m 48s\n",
      "117:\tlearn: 0.3085016\ttotal: 14.5s\tremaining: 1m 48s\n",
      "118:\tlearn: 0.3083077\ttotal: 14.6s\tremaining: 1m 47s\n",
      "119:\tlearn: 0.3079251\ttotal: 14.7s\tremaining: 1m 47s\n",
      "120:\tlearn: 0.3076629\ttotal: 14.8s\tremaining: 1m 47s\n",
      "121:\tlearn: 0.3063525\ttotal: 14.9s\tremaining: 1m 47s\n",
      "122:\tlearn: 0.3061688\ttotal: 15s\tremaining: 1m 47s\n",
      "123:\tlearn: 0.3060350\ttotal: 15.2s\tremaining: 1m 47s\n",
      "124:\tlearn: 0.3057166\ttotal: 15.3s\tremaining: 1m 46s\n",
      "125:\tlearn: 0.3051290\ttotal: 15.4s\tremaining: 1m 46s\n",
      "126:\tlearn: 0.3049398\ttotal: 15.5s\tremaining: 1m 46s\n",
      "127:\tlearn: 0.3048651\ttotal: 15.6s\tremaining: 1m 46s\n",
      "128:\tlearn: 0.3041109\ttotal: 15.8s\tremaining: 1m 46s\n",
      "129:\tlearn: 0.3038924\ttotal: 15.9s\tremaining: 1m 46s\n",
      "130:\tlearn: 0.3036760\ttotal: 16s\tremaining: 1m 46s\n",
      "131:\tlearn: 0.3035038\ttotal: 16.1s\tremaining: 1m 45s\n",
      "132:\tlearn: 0.3033517\ttotal: 16.2s\tremaining: 1m 45s\n",
      "133:\tlearn: 0.3031910\ttotal: 16.3s\tremaining: 1m 45s\n",
      "134:\tlearn: 0.3031134\ttotal: 16.5s\tremaining: 1m 45s\n",
      "135:\tlearn: 0.3029902\ttotal: 16.6s\tremaining: 1m 45s\n",
      "136:\tlearn: 0.3028505\ttotal: 16.7s\tremaining: 1m 45s\n",
      "137:\tlearn: 0.3027174\ttotal: 16.8s\tremaining: 1m 45s\n",
      "138:\tlearn: 0.3026736\ttotal: 16.9s\tremaining: 1m 44s\n",
      "139:\tlearn: 0.3025814\ttotal: 17s\tremaining: 1m 44s\n",
      "140:\tlearn: 0.3023461\ttotal: 17.2s\tremaining: 1m 44s\n",
      "141:\tlearn: 0.3021623\ttotal: 17.3s\tremaining: 1m 44s\n",
      "142:\tlearn: 0.3019158\ttotal: 17.4s\tremaining: 1m 44s\n",
      "143:\tlearn: 0.3017810\ttotal: 17.5s\tremaining: 1m 44s\n",
      "144:\tlearn: 0.3016692\ttotal: 17.6s\tremaining: 1m 43s\n",
      "145:\tlearn: 0.3015378\ttotal: 17.7s\tremaining: 1m 43s\n",
      "146:\tlearn: 0.3013360\ttotal: 17.9s\tremaining: 1m 43s\n",
      "147:\tlearn: 0.3011876\ttotal: 18s\tremaining: 1m 43s\n",
      "148:\tlearn: 0.3009729\ttotal: 18.1s\tremaining: 1m 43s\n",
      "149:\tlearn: 0.3008766\ttotal: 18.2s\tremaining: 1m 43s\n",
      "150:\tlearn: 0.3007505\ttotal: 18.3s\tremaining: 1m 43s\n",
      "151:\tlearn: 0.3007031\ttotal: 18.4s\tremaining: 1m 42s\n",
      "152:\tlearn: 0.3004719\ttotal: 18.6s\tremaining: 1m 42s\n",
      "153:\tlearn: 0.3003175\ttotal: 18.7s\tremaining: 1m 42s\n",
      "154:\tlearn: 0.3002610\ttotal: 18.8s\tremaining: 1m 42s\n",
      "155:\tlearn: 0.3000798\ttotal: 18.9s\tremaining: 1m 42s\n",
      "156:\tlearn: 0.2999560\ttotal: 19s\tremaining: 1m 42s\n",
      "157:\tlearn: 0.2999144\ttotal: 19.2s\tremaining: 1m 42s\n",
      "158:\tlearn: 0.2998167\ttotal: 19.3s\tremaining: 1m 41s\n",
      "159:\tlearn: 0.2994507\ttotal: 19.4s\tremaining: 1m 41s\n",
      "160:\tlearn: 0.2991645\ttotal: 19.5s\tremaining: 1m 41s\n",
      "161:\tlearn: 0.2989110\ttotal: 19.6s\tremaining: 1m 41s\n",
      "162:\tlearn: 0.2988115\ttotal: 19.8s\tremaining: 1m 41s\n",
      "163:\tlearn: 0.2987357\ttotal: 19.9s\tremaining: 1m 41s\n",
      "164:\tlearn: 0.2984927\ttotal: 20s\tremaining: 1m 41s\n",
      "165:\tlearn: 0.2983837\ttotal: 20.1s\tremaining: 1m 41s\n",
      "166:\tlearn: 0.2983638\ttotal: 20.2s\tremaining: 1m 40s\n",
      "167:\tlearn: 0.2981040\ttotal: 20.4s\tremaining: 1m 40s\n",
      "168:\tlearn: 0.2978735\ttotal: 20.5s\tremaining: 1m 40s\n",
      "169:\tlearn: 0.2977701\ttotal: 20.6s\tremaining: 1m 40s\n",
      "170:\tlearn: 0.2976875\ttotal: 20.7s\tremaining: 1m 40s\n",
      "171:\tlearn: 0.2976259\ttotal: 20.8s\tremaining: 1m 40s\n",
      "172:\tlearn: 0.2975827\ttotal: 20.9s\tremaining: 1m 40s\n",
      "173:\tlearn: 0.2975647\ttotal: 21.1s\tremaining: 1m 39s\n",
      "174:\tlearn: 0.2972069\ttotal: 21.2s\tremaining: 1m 39s\n",
      "175:\tlearn: 0.2970741\ttotal: 21.3s\tremaining: 1m 39s\n",
      "176:\tlearn: 0.2969034\ttotal: 21.4s\tremaining: 1m 39s\n",
      "177:\tlearn: 0.2968339\ttotal: 21.5s\tremaining: 1m 39s\n",
      "178:\tlearn: 0.2967500\ttotal: 21.6s\tremaining: 1m 39s\n",
      "179:\tlearn: 0.2966112\ttotal: 21.8s\tremaining: 1m 39s\n",
      "180:\tlearn: 0.2964957\ttotal: 21.9s\tremaining: 1m 38s\n",
      "181:\tlearn: 0.2964181\ttotal: 22s\tremaining: 1m 38s\n",
      "182:\tlearn: 0.2962152\ttotal: 22.1s\tremaining: 1m 38s\n",
      "183:\tlearn: 0.2949367\ttotal: 22.2s\tremaining: 1m 38s\n",
      "184:\tlearn: 0.2948987\ttotal: 22.3s\tremaining: 1m 38s\n",
      "185:\tlearn: 0.2948627\ttotal: 22.4s\tremaining: 1m 38s\n",
      "186:\tlearn: 0.2947308\ttotal: 22.6s\tremaining: 1m 38s\n",
      "187:\tlearn: 0.2943691\ttotal: 22.7s\tremaining: 1m 37s\n",
      "188:\tlearn: 0.2943460\ttotal: 22.8s\tremaining: 1m 37s\n",
      "189:\tlearn: 0.2938193\ttotal: 22.9s\tremaining: 1m 37s\n",
      "190:\tlearn: 0.2937565\ttotal: 23s\tremaining: 1m 37s\n",
      "191:\tlearn: 0.2936402\ttotal: 23.1s\tremaining: 1m 37s\n",
      "192:\tlearn: 0.2935911\ttotal: 23.2s\tremaining: 1m 37s\n",
      "193:\tlearn: 0.2932300\ttotal: 23.4s\tremaining: 1m 37s\n",
      "194:\tlearn: 0.2926138\ttotal: 23.5s\tremaining: 1m 36s\n",
      "195:\tlearn: 0.2925757\ttotal: 23.6s\tremaining: 1m 36s\n",
      "196:\tlearn: 0.2921254\ttotal: 23.7s\tremaining: 1m 36s\n",
      "197:\tlearn: 0.2920634\ttotal: 23.8s\tremaining: 1m 36s\n",
      "198:\tlearn: 0.2918669\ttotal: 23.9s\tremaining: 1m 36s\n",
      "199:\tlearn: 0.2917365\ttotal: 24.1s\tremaining: 1m 36s\n",
      "200:\tlearn: 0.2916899\ttotal: 24.2s\tremaining: 1m 36s\n",
      "201:\tlearn: 0.2914619\ttotal: 24.3s\tremaining: 1m 35s\n",
      "202:\tlearn: 0.2914293\ttotal: 24.4s\tremaining: 1m 35s\n",
      "203:\tlearn: 0.2913636\ttotal: 24.5s\tremaining: 1m 35s\n",
      "204:\tlearn: 0.2912581\ttotal: 24.6s\tremaining: 1m 35s\n",
      "205:\tlearn: 0.2911898\ttotal: 24.8s\tremaining: 1m 35s\n",
      "206:\tlearn: 0.2910836\ttotal: 24.9s\tremaining: 1m 35s\n",
      "207:\tlearn: 0.2910592\ttotal: 25s\tremaining: 1m 35s\n",
      "208:\tlearn: 0.2909702\ttotal: 25.1s\tremaining: 1m 35s\n",
      "209:\tlearn: 0.2904080\ttotal: 25.2s\tremaining: 1m 34s\n",
      "210:\tlearn: 0.2903507\ttotal: 25.3s\tremaining: 1m 34s\n",
      "211:\tlearn: 0.2902851\ttotal: 25.5s\tremaining: 1m 34s\n",
      "212:\tlearn: 0.2902590\ttotal: 25.6s\tremaining: 1m 34s\n",
      "213:\tlearn: 0.2901505\ttotal: 25.7s\tremaining: 1m 34s\n",
      "214:\tlearn: 0.2900774\ttotal: 25.8s\tremaining: 1m 34s\n",
      "215:\tlearn: 0.2900522\ttotal: 25.9s\tremaining: 1m 34s\n",
      "216:\tlearn: 0.2897565\ttotal: 26s\tremaining: 1m 33s\n",
      "217:\tlearn: 0.2894740\ttotal: 26.2s\tremaining: 1m 33s\n",
      "218:\tlearn: 0.2894085\ttotal: 26.3s\tremaining: 1m 33s\n",
      "219:\tlearn: 0.2893505\ttotal: 26.4s\tremaining: 1m 33s\n",
      "220:\tlearn: 0.2893144\ttotal: 26.5s\tremaining: 1m 33s\n",
      "221:\tlearn: 0.2892843\ttotal: 26.6s\tremaining: 1m 33s\n",
      "222:\tlearn: 0.2892286\ttotal: 26.8s\tremaining: 1m 33s\n",
      "223:\tlearn: 0.2891689\ttotal: 26.9s\tremaining: 1m 33s\n",
      "224:\tlearn: 0.2889862\ttotal: 27s\tremaining: 1m 32s\n",
      "225:\tlearn: 0.2889249\ttotal: 27.1s\tremaining: 1m 32s\n",
      "226:\tlearn: 0.2888422\ttotal: 27.2s\tremaining: 1m 32s\n",
      "227:\tlearn: 0.2887798\ttotal: 27.3s\tremaining: 1m 32s\n",
      "228:\tlearn: 0.2886197\ttotal: 27.5s\tremaining: 1m 32s\n",
      "229:\tlearn: 0.2884673\ttotal: 27.6s\tremaining: 1m 32s\n",
      "230:\tlearn: 0.2878164\ttotal: 27.7s\tremaining: 1m 32s\n",
      "231:\tlearn: 0.2877099\ttotal: 27.8s\tremaining: 1m 32s\n",
      "232:\tlearn: 0.2876781\ttotal: 27.9s\tremaining: 1m 31s\n",
      "233:\tlearn: 0.2876084\ttotal: 28s\tremaining: 1m 31s\n",
      "234:\tlearn: 0.2872963\ttotal: 28.2s\tremaining: 1m 31s\n",
      "235:\tlearn: 0.2872743\ttotal: 28.3s\tremaining: 1m 31s\n",
      "236:\tlearn: 0.2872303\ttotal: 28.4s\tremaining: 1m 31s\n",
      "237:\tlearn: 0.2871461\ttotal: 28.5s\tremaining: 1m 31s\n",
      "238:\tlearn: 0.2870746\ttotal: 28.6s\tremaining: 1m 31s\n",
      "239:\tlearn: 0.2866552\ttotal: 28.7s\tremaining: 1m 31s\n",
      "240:\tlearn: 0.2864994\ttotal: 28.9s\tremaining: 1m 30s\n",
      "241:\tlearn: 0.2864566\ttotal: 29s\tremaining: 1m 30s\n",
      "242:\tlearn: 0.2864404\ttotal: 29.1s\tremaining: 1m 30s\n",
      "243:\tlearn: 0.2861996\ttotal: 29.2s\tremaining: 1m 30s\n",
      "244:\tlearn: 0.2860959\ttotal: 29.3s\tremaining: 1m 30s\n",
      "245:\tlearn: 0.2860339\ttotal: 29.4s\tremaining: 1m 30s\n",
      "246:\tlearn: 0.2859170\ttotal: 29.6s\tremaining: 1m 30s\n",
      "247:\tlearn: 0.2857852\ttotal: 29.7s\tremaining: 1m 29s\n",
      "248:\tlearn: 0.2852540\ttotal: 29.8s\tremaining: 1m 29s\n",
      "249:\tlearn: 0.2847108\ttotal: 29.9s\tremaining: 1m 29s\n",
      "250:\tlearn: 0.2845409\ttotal: 30s\tremaining: 1m 29s\n",
      "251:\tlearn: 0.2844579\ttotal: 30.1s\tremaining: 1m 29s\n",
      "252:\tlearn: 0.2844398\ttotal: 30.3s\tremaining: 1m 29s\n",
      "253:\tlearn: 0.2843986\ttotal: 30.4s\tremaining: 1m 29s\n",
      "254:\tlearn: 0.2841979\ttotal: 30.5s\tremaining: 1m 29s\n",
      "255:\tlearn: 0.2840829\ttotal: 30.6s\tremaining: 1m 28s\n",
      "256:\tlearn: 0.2840104\ttotal: 30.7s\tremaining: 1m 28s\n",
      "257:\tlearn: 0.2839406\ttotal: 30.8s\tremaining: 1m 28s\n",
      "258:\tlearn: 0.2839057\ttotal: 31s\tremaining: 1m 28s\n",
      "259:\tlearn: 0.2838866\ttotal: 31.1s\tremaining: 1m 28s\n",
      "260:\tlearn: 0.2838056\ttotal: 31.2s\tremaining: 1m 28s\n",
      "261:\tlearn: 0.2837766\ttotal: 31.3s\tremaining: 1m 28s\n",
      "262:\tlearn: 0.2836742\ttotal: 31.4s\tremaining: 1m 28s\n",
      "263:\tlearn: 0.2835873\ttotal: 31.6s\tremaining: 1m 27s\n",
      "264:\tlearn: 0.2835050\ttotal: 31.7s\tremaining: 1m 27s\n",
      "265:\tlearn: 0.2834732\ttotal: 31.8s\tremaining: 1m 27s\n",
      "266:\tlearn: 0.2832604\ttotal: 31.9s\tremaining: 1m 27s\n",
      "267:\tlearn: 0.2832207\ttotal: 32s\tremaining: 1m 27s\n",
      "268:\tlearn: 0.2831738\ttotal: 32.1s\tremaining: 1m 27s\n",
      "269:\tlearn: 0.2831376\ttotal: 32.3s\tremaining: 1m 27s\n",
      "270:\tlearn: 0.2830540\ttotal: 32.4s\tremaining: 1m 27s\n",
      "271:\tlearn: 0.2829900\ttotal: 32.5s\tremaining: 1m 26s\n",
      "272:\tlearn: 0.2828935\ttotal: 32.6s\tremaining: 1m 26s\n",
      "273:\tlearn: 0.2828369\ttotal: 32.7s\tremaining: 1m 26s\n",
      "274:\tlearn: 0.2828126\ttotal: 32.8s\tremaining: 1m 26s\n",
      "275:\tlearn: 0.2827563\ttotal: 33s\tremaining: 1m 26s\n",
      "276:\tlearn: 0.2827348\ttotal: 33.1s\tremaining: 1m 26s\n",
      "277:\tlearn: 0.2826900\ttotal: 33.2s\tremaining: 1m 26s\n",
      "278:\tlearn: 0.2825642\ttotal: 33.3s\tremaining: 1m 26s\n",
      "279:\tlearn: 0.2824490\ttotal: 33.4s\tremaining: 1m 25s\n",
      "280:\tlearn: 0.2824269\ttotal: 33.5s\tremaining: 1m 25s\n",
      "281:\tlearn: 0.2823954\ttotal: 33.7s\tremaining: 1m 25s\n",
      "282:\tlearn: 0.2822135\ttotal: 33.8s\tremaining: 1m 25s\n",
      "283:\tlearn: 0.2821834\ttotal: 33.9s\tremaining: 1m 25s\n",
      "284:\tlearn: 0.2820920\ttotal: 34s\tremaining: 1m 25s\n",
      "285:\tlearn: 0.2820736\ttotal: 34.1s\tremaining: 1m 25s\n",
      "286:\tlearn: 0.2820499\ttotal: 34.2s\tremaining: 1m 25s\n",
      "287:\tlearn: 0.2820283\ttotal: 34.4s\tremaining: 1m 24s\n",
      "288:\tlearn: 0.2819527\ttotal: 34.5s\tremaining: 1m 24s\n",
      "289:\tlearn: 0.2819027\ttotal: 34.6s\tremaining: 1m 24s\n",
      "290:\tlearn: 0.2818775\ttotal: 34.7s\tremaining: 1m 24s\n",
      "291:\tlearn: 0.2817093\ttotal: 34.8s\tremaining: 1m 24s\n",
      "292:\tlearn: 0.2816654\ttotal: 34.9s\tremaining: 1m 24s\n",
      "293:\tlearn: 0.2816368\ttotal: 35.1s\tremaining: 1m 24s\n",
      "294:\tlearn: 0.2816093\ttotal: 35.2s\tremaining: 1m 24s\n",
      "295:\tlearn: 0.2814981\ttotal: 35.3s\tremaining: 1m 23s\n",
      "296:\tlearn: 0.2812800\ttotal: 35.4s\tremaining: 1m 23s\n",
      "297:\tlearn: 0.2812039\ttotal: 35.5s\tremaining: 1m 23s\n",
      "298:\tlearn: 0.2809724\ttotal: 35.7s\tremaining: 1m 23s\n",
      "299:\tlearn: 0.2809167\ttotal: 35.8s\tremaining: 1m 23s\n",
      "300:\tlearn: 0.2807846\ttotal: 35.9s\tremaining: 1m 23s\n",
      "301:\tlearn: 0.2805274\ttotal: 36s\tremaining: 1m 23s\n",
      "302:\tlearn: 0.2804198\ttotal: 36.1s\tremaining: 1m 23s\n",
      "303:\tlearn: 0.2803820\ttotal: 36.3s\tremaining: 1m 23s\n",
      "304:\tlearn: 0.2802842\ttotal: 36.4s\tremaining: 1m 22s\n",
      "305:\tlearn: 0.2799669\ttotal: 36.5s\tremaining: 1m 22s\n",
      "306:\tlearn: 0.2799113\ttotal: 36.6s\tremaining: 1m 22s\n",
      "307:\tlearn: 0.2798875\ttotal: 36.7s\tremaining: 1m 22s\n",
      "308:\tlearn: 0.2797862\ttotal: 36.9s\tremaining: 1m 22s\n",
      "309:\tlearn: 0.2796661\ttotal: 37s\tremaining: 1m 22s\n",
      "310:\tlearn: 0.2796272\ttotal: 37.1s\tremaining: 1m 22s\n",
      "311:\tlearn: 0.2795384\ttotal: 37.2s\tremaining: 1m 22s\n",
      "312:\tlearn: 0.2795081\ttotal: 37.3s\tremaining: 1m 21s\n",
      "313:\tlearn: 0.2794480\ttotal: 37.4s\tremaining: 1m 21s\n",
      "314:\tlearn: 0.2794225\ttotal: 37.6s\tremaining: 1m 21s\n",
      "315:\tlearn: 0.2791596\ttotal: 37.7s\tremaining: 1m 21s\n",
      "316:\tlearn: 0.2791249\ttotal: 37.8s\tremaining: 1m 21s\n",
      "317:\tlearn: 0.2790971\ttotal: 37.9s\tremaining: 1m 21s\n",
      "318:\tlearn: 0.2790672\ttotal: 38s\tremaining: 1m 21s\n",
      "319:\tlearn: 0.2790054\ttotal: 38.1s\tremaining: 1m 21s\n",
      "320:\tlearn: 0.2789777\ttotal: 38.2s\tremaining: 1m 20s\n",
      "321:\tlearn: 0.2789536\ttotal: 38.4s\tremaining: 1m 20s\n",
      "322:\tlearn: 0.2788467\ttotal: 38.5s\tremaining: 1m 20s\n",
      "323:\tlearn: 0.2787707\ttotal: 38.6s\tremaining: 1m 20s\n",
      "324:\tlearn: 0.2787336\ttotal: 38.7s\tremaining: 1m 20s\n",
      "325:\tlearn: 0.2787056\ttotal: 38.8s\tremaining: 1m 20s\n",
      "326:\tlearn: 0.2786465\ttotal: 38.9s\tremaining: 1m 20s\n",
      "327:\tlearn: 0.2786289\ttotal: 39s\tremaining: 1m 19s\n",
      "328:\tlearn: 0.2785836\ttotal: 39.2s\tremaining: 1m 19s\n",
      "329:\tlearn: 0.2785450\ttotal: 39.3s\tremaining: 1m 19s\n",
      "330:\tlearn: 0.2784455\ttotal: 39.4s\tremaining: 1m 19s\n",
      "331:\tlearn: 0.2784232\ttotal: 39.5s\tremaining: 1m 19s\n",
      "332:\tlearn: 0.2783835\ttotal: 39.6s\tremaining: 1m 19s\n",
      "333:\tlearn: 0.2783332\ttotal: 39.7s\tremaining: 1m 19s\n",
      "334:\tlearn: 0.2781760\ttotal: 39.8s\tremaining: 1m 19s\n",
      "335:\tlearn: 0.2781249\ttotal: 40s\tremaining: 1m 18s\n",
      "336:\tlearn: 0.2780536\ttotal: 40.1s\tremaining: 1m 18s\n",
      "337:\tlearn: 0.2779951\ttotal: 40.2s\tremaining: 1m 18s\n",
      "338:\tlearn: 0.2779229\ttotal: 40.3s\tremaining: 1m 18s\n",
      "339:\tlearn: 0.2778029\ttotal: 40.4s\tremaining: 1m 18s\n",
      "340:\tlearn: 0.2777866\ttotal: 40.5s\tremaining: 1m 18s\n",
      "341:\tlearn: 0.2776452\ttotal: 40.7s\tremaining: 1m 18s\n",
      "342:\tlearn: 0.2776284\ttotal: 40.8s\tremaining: 1m 18s\n",
      "343:\tlearn: 0.2775725\ttotal: 40.9s\tremaining: 1m 17s\n",
      "344:\tlearn: 0.2775310\ttotal: 41s\tremaining: 1m 17s\n",
      "345:\tlearn: 0.2775167\ttotal: 41.1s\tremaining: 1m 17s\n",
      "346:\tlearn: 0.2774685\ttotal: 41.2s\tremaining: 1m 17s\n",
      "347:\tlearn: 0.2773313\ttotal: 41.4s\tremaining: 1m 17s\n",
      "348:\tlearn: 0.2773124\ttotal: 41.5s\tremaining: 1m 17s\n",
      "349:\tlearn: 0.2772607\ttotal: 41.6s\tremaining: 1m 17s\n",
      "350:\tlearn: 0.2772285\ttotal: 41.7s\tremaining: 1m 17s\n",
      "351:\tlearn: 0.2771427\ttotal: 41.8s\tremaining: 1m 17s\n",
      "352:\tlearn: 0.2771200\ttotal: 42s\tremaining: 1m 16s\n",
      "353:\tlearn: 0.2771006\ttotal: 42.1s\tremaining: 1m 16s\n",
      "354:\tlearn: 0.2770507\ttotal: 42.2s\tremaining: 1m 16s\n",
      "355:\tlearn: 0.2770228\ttotal: 42.3s\tremaining: 1m 16s\n",
      "356:\tlearn: 0.2769904\ttotal: 42.4s\tremaining: 1m 16s\n",
      "357:\tlearn: 0.2769289\ttotal: 42.6s\tremaining: 1m 16s\n",
      "358:\tlearn: 0.2768973\ttotal: 42.7s\tremaining: 1m 16s\n",
      "359:\tlearn: 0.2768091\ttotal: 42.8s\tremaining: 1m 16s\n",
      "360:\tlearn: 0.2767846\ttotal: 42.9s\tremaining: 1m 15s\n",
      "361:\tlearn: 0.2767301\ttotal: 43s\tremaining: 1m 15s\n",
      "362:\tlearn: 0.2766648\ttotal: 43.1s\tremaining: 1m 15s\n",
      "363:\tlearn: 0.2766465\ttotal: 43.3s\tremaining: 1m 15s\n",
      "364:\tlearn: 0.2766216\ttotal: 43.4s\tremaining: 1m 15s\n",
      "365:\tlearn: 0.2766001\ttotal: 43.5s\tremaining: 1m 15s\n",
      "366:\tlearn: 0.2765733\ttotal: 43.6s\tremaining: 1m 15s\n",
      "367:\tlearn: 0.2765291\ttotal: 43.7s\tremaining: 1m 15s\n",
      "368:\tlearn: 0.2765073\ttotal: 43.8s\tremaining: 1m 14s\n",
      "369:\tlearn: 0.2764578\ttotal: 44s\tremaining: 1m 14s\n",
      "370:\tlearn: 0.2764235\ttotal: 44.1s\tremaining: 1m 14s\n",
      "371:\tlearn: 0.2763870\ttotal: 44.2s\tremaining: 1m 14s\n",
      "372:\tlearn: 0.2763120\ttotal: 44.3s\tremaining: 1m 14s\n",
      "373:\tlearn: 0.2762858\ttotal: 44.4s\tremaining: 1m 14s\n",
      "374:\tlearn: 0.2762374\ttotal: 44.5s\tremaining: 1m 14s\n",
      "375:\tlearn: 0.2761908\ttotal: 44.7s\tremaining: 1m 14s\n",
      "376:\tlearn: 0.2761734\ttotal: 44.8s\tremaining: 1m 14s\n",
      "377:\tlearn: 0.2760550\ttotal: 44.9s\tremaining: 1m 13s\n",
      "378:\tlearn: 0.2760295\ttotal: 45s\tremaining: 1m 13s\n",
      "379:\tlearn: 0.2759764\ttotal: 45.1s\tremaining: 1m 13s\n",
      "380:\tlearn: 0.2757523\ttotal: 45.3s\tremaining: 1m 13s\n",
      "381:\tlearn: 0.2757078\ttotal: 45.4s\tremaining: 1m 13s\n",
      "382:\tlearn: 0.2756815\ttotal: 45.5s\tremaining: 1m 13s\n",
      "383:\tlearn: 0.2756553\ttotal: 45.6s\tremaining: 1m 13s\n",
      "384:\tlearn: 0.2756217\ttotal: 45.7s\tremaining: 1m 13s\n",
      "385:\tlearn: 0.2755890\ttotal: 45.8s\tremaining: 1m 12s\n",
      "386:\tlearn: 0.2755376\ttotal: 46s\tremaining: 1m 12s\n",
      "387:\tlearn: 0.2754155\ttotal: 46.1s\tremaining: 1m 12s\n",
      "388:\tlearn: 0.2753931\ttotal: 46.2s\tremaining: 1m 12s\n",
      "389:\tlearn: 0.2753784\ttotal: 46.3s\tremaining: 1m 12s\n",
      "390:\tlearn: 0.2753289\ttotal: 46.4s\tremaining: 1m 12s\n",
      "391:\tlearn: 0.2752957\ttotal: 46.6s\tremaining: 1m 12s\n",
      "392:\tlearn: 0.2752791\ttotal: 46.7s\tremaining: 1m 12s\n",
      "393:\tlearn: 0.2751856\ttotal: 46.8s\tremaining: 1m 11s\n",
      "394:\tlearn: 0.2751446\ttotal: 46.9s\tremaining: 1m 11s\n",
      "395:\tlearn: 0.2750902\ttotal: 47s\tremaining: 1m 11s\n",
      "396:\tlearn: 0.2750711\ttotal: 47.1s\tremaining: 1m 11s\n",
      "397:\tlearn: 0.2750422\ttotal: 47.3s\tremaining: 1m 11s\n",
      "398:\tlearn: 0.2750238\ttotal: 47.4s\tremaining: 1m 11s\n",
      "399:\tlearn: 0.2750036\ttotal: 47.5s\tremaining: 1m 11s\n",
      "400:\tlearn: 0.2747633\ttotal: 47.6s\tremaining: 1m 11s\n",
      "401:\tlearn: 0.2745561\ttotal: 47.7s\tremaining: 1m 11s\n",
      "402:\tlearn: 0.2745250\ttotal: 47.9s\tremaining: 1m 10s\n",
      "403:\tlearn: 0.2744936\ttotal: 48s\tremaining: 1m 10s\n",
      "404:\tlearn: 0.2744653\ttotal: 48.1s\tremaining: 1m 10s\n",
      "405:\tlearn: 0.2744421\ttotal: 48.2s\tremaining: 1m 10s\n",
      "406:\tlearn: 0.2743827\ttotal: 48.3s\tremaining: 1m 10s\n",
      "407:\tlearn: 0.2743595\ttotal: 48.4s\tremaining: 1m 10s\n",
      "408:\tlearn: 0.2743356\ttotal: 48.6s\tremaining: 1m 10s\n",
      "409:\tlearn: 0.2742972\ttotal: 48.7s\tremaining: 1m 10s\n",
      "410:\tlearn: 0.2742659\ttotal: 48.8s\tremaining: 1m 9s\n",
      "411:\tlearn: 0.2742426\ttotal: 48.9s\tremaining: 1m 9s\n",
      "412:\tlearn: 0.2742205\ttotal: 49s\tremaining: 1m 9s\n",
      "413:\tlearn: 0.2742051\ttotal: 49.1s\tremaining: 1m 9s\n",
      "414:\tlearn: 0.2741889\ttotal: 49.2s\tremaining: 1m 9s\n",
      "415:\tlearn: 0.2741672\ttotal: 49.4s\tremaining: 1m 9s\n",
      "416:\tlearn: 0.2741262\ttotal: 49.5s\tremaining: 1m 9s\n",
      "417:\tlearn: 0.2740311\ttotal: 49.6s\tremaining: 1m 9s\n",
      "418:\tlearn: 0.2740081\ttotal: 49.7s\tremaining: 1m 8s\n",
      "419:\tlearn: 0.2739855\ttotal: 49.8s\tremaining: 1m 8s\n",
      "420:\tlearn: 0.2739684\ttotal: 49.9s\tremaining: 1m 8s\n",
      "421:\tlearn: 0.2739465\ttotal: 50.1s\tremaining: 1m 8s\n",
      "422:\tlearn: 0.2739243\ttotal: 50.2s\tremaining: 1m 8s\n",
      "423:\tlearn: 0.2737990\ttotal: 50.3s\tremaining: 1m 8s\n",
      "424:\tlearn: 0.2737268\ttotal: 50.4s\tremaining: 1m 8s\n",
      "425:\tlearn: 0.2736873\ttotal: 50.5s\tremaining: 1m 8s\n",
      "426:\tlearn: 0.2736443\ttotal: 50.6s\tremaining: 1m 7s\n",
      "427:\tlearn: 0.2736268\ttotal: 50.8s\tremaining: 1m 7s\n",
      "428:\tlearn: 0.2736030\ttotal: 50.9s\tremaining: 1m 7s\n",
      "429:\tlearn: 0.2735722\ttotal: 51s\tremaining: 1m 7s\n",
      "430:\tlearn: 0.2735485\ttotal: 51.1s\tremaining: 1m 7s\n",
      "431:\tlearn: 0.2735310\ttotal: 51.2s\tremaining: 1m 7s\n",
      "432:\tlearn: 0.2735001\ttotal: 51.3s\tremaining: 1m 7s\n",
      "433:\tlearn: 0.2734608\ttotal: 51.5s\tremaining: 1m 7s\n",
      "434:\tlearn: 0.2734493\ttotal: 51.6s\tremaining: 1m 7s\n",
      "435:\tlearn: 0.2732742\ttotal: 51.7s\tremaining: 1m 6s\n",
      "436:\tlearn: 0.2732315\ttotal: 51.8s\tremaining: 1m 6s\n",
      "437:\tlearn: 0.2732049\ttotal: 51.9s\tremaining: 1m 6s\n",
      "438:\tlearn: 0.2731766\ttotal: 52s\tremaining: 1m 6s\n",
      "439:\tlearn: 0.2730487\ttotal: 52.2s\tremaining: 1m 6s\n",
      "440:\tlearn: 0.2730297\ttotal: 52.3s\tremaining: 1m 6s\n",
      "441:\tlearn: 0.2729882\ttotal: 52.4s\tremaining: 1m 6s\n",
      "442:\tlearn: 0.2728416\ttotal: 52.5s\tremaining: 1m 6s\n",
      "443:\tlearn: 0.2728008\ttotal: 52.6s\tremaining: 1m 5s\n",
      "444:\tlearn: 0.2727800\ttotal: 52.8s\tremaining: 1m 5s\n",
      "445:\tlearn: 0.2727387\ttotal: 52.9s\tremaining: 1m 5s\n",
      "446:\tlearn: 0.2727217\ttotal: 53s\tremaining: 1m 5s\n",
      "447:\tlearn: 0.2727034\ttotal: 53.1s\tremaining: 1m 5s\n",
      "448:\tlearn: 0.2725575\ttotal: 53.2s\tremaining: 1m 5s\n",
      "449:\tlearn: 0.2723950\ttotal: 53.4s\tremaining: 1m 5s\n",
      "450:\tlearn: 0.2722628\ttotal: 53.5s\tremaining: 1m 5s\n",
      "451:\tlearn: 0.2722064\ttotal: 53.6s\tremaining: 1m 4s\n",
      "452:\tlearn: 0.2721779\ttotal: 53.7s\tremaining: 1m 4s\n",
      "453:\tlearn: 0.2721465\ttotal: 53.8s\tremaining: 1m 4s\n",
      "454:\tlearn: 0.2721137\ttotal: 54s\tremaining: 1m 4s\n",
      "455:\tlearn: 0.2720634\ttotal: 54.1s\tremaining: 1m 4s\n",
      "456:\tlearn: 0.2720371\ttotal: 54.2s\tremaining: 1m 4s\n",
      "457:\tlearn: 0.2720191\ttotal: 54.3s\tremaining: 1m 4s\n",
      "458:\tlearn: 0.2719959\ttotal: 54.4s\tremaining: 1m 4s\n",
      "459:\tlearn: 0.2719382\ttotal: 54.5s\tremaining: 1m 4s\n",
      "460:\tlearn: 0.2718771\ttotal: 54.7s\tremaining: 1m 3s\n",
      "461:\tlearn: 0.2718532\ttotal: 54.8s\tremaining: 1m 3s\n",
      "462:\tlearn: 0.2718114\ttotal: 54.9s\tremaining: 1m 3s\n",
      "463:\tlearn: 0.2717878\ttotal: 55s\tremaining: 1m 3s\n",
      "464:\tlearn: 0.2717630\ttotal: 55.1s\tremaining: 1m 3s\n",
      "465:\tlearn: 0.2716781\ttotal: 55.2s\tremaining: 1m 3s\n",
      "466:\tlearn: 0.2716637\ttotal: 55.4s\tremaining: 1m 3s\n",
      "467:\tlearn: 0.2715739\ttotal: 55.5s\tremaining: 1m 3s\n",
      "468:\tlearn: 0.2714443\ttotal: 55.6s\tremaining: 1m 2s\n",
      "469:\tlearn: 0.2713361\ttotal: 55.7s\tremaining: 1m 2s\n",
      "470:\tlearn: 0.2713163\ttotal: 55.8s\tremaining: 1m 2s\n",
      "471:\tlearn: 0.2712800\ttotal: 55.9s\tremaining: 1m 2s\n",
      "472:\tlearn: 0.2712010\ttotal: 56.1s\tremaining: 1m 2s\n",
      "473:\tlearn: 0.2711711\ttotal: 56.2s\tremaining: 1m 2s\n",
      "474:\tlearn: 0.2710868\ttotal: 56.3s\tremaining: 1m 2s\n",
      "475:\tlearn: 0.2710289\ttotal: 56.4s\tremaining: 1m 2s\n",
      "476:\tlearn: 0.2709947\ttotal: 56.5s\tremaining: 1m 1s\n",
      "477:\tlearn: 0.2709463\ttotal: 56.6s\tremaining: 1m 1s\n",
      "478:\tlearn: 0.2708797\ttotal: 56.7s\tremaining: 1m 1s\n",
      "479:\tlearn: 0.2708594\ttotal: 56.9s\tremaining: 1m 1s\n",
      "480:\tlearn: 0.2708280\ttotal: 57s\tremaining: 1m 1s\n",
      "481:\tlearn: 0.2707967\ttotal: 57.1s\tremaining: 1m 1s\n",
      "482:\tlearn: 0.2707057\ttotal: 57.2s\tremaining: 1m 1s\n",
      "483:\tlearn: 0.2705070\ttotal: 57.3s\tremaining: 1m 1s\n",
      "484:\tlearn: 0.2704265\ttotal: 57.4s\tremaining: 1m 1s\n",
      "485:\tlearn: 0.2702219\ttotal: 57.6s\tremaining: 1m\n",
      "486:\tlearn: 0.2701980\ttotal: 57.7s\tremaining: 1m\n",
      "487:\tlearn: 0.2701826\ttotal: 57.8s\tremaining: 1m\n",
      "488:\tlearn: 0.2701558\ttotal: 57.9s\tremaining: 1m\n",
      "489:\tlearn: 0.2700536\ttotal: 58s\tremaining: 1m\n",
      "490:\tlearn: 0.2700328\ttotal: 58.2s\tremaining: 1m\n",
      "491:\tlearn: 0.2700093\ttotal: 58.3s\tremaining: 1m\n",
      "492:\tlearn: 0.2699661\ttotal: 58.4s\tremaining: 1m\n",
      "493:\tlearn: 0.2699448\ttotal: 58.5s\tremaining: 59.9s\n",
      "494:\tlearn: 0.2698692\ttotal: 58.6s\tremaining: 59.8s\n",
      "495:\tlearn: 0.2698537\ttotal: 58.7s\tremaining: 59.7s\n",
      "496:\tlearn: 0.2698250\ttotal: 58.9s\tremaining: 59.6s\n",
      "497:\tlearn: 0.2697832\ttotal: 59s\tremaining: 59.5s\n",
      "498:\tlearn: 0.2697567\ttotal: 59.1s\tremaining: 59.3s\n",
      "499:\tlearn: 0.2697312\ttotal: 59.2s\tremaining: 59.2s\n",
      "500:\tlearn: 0.2697090\ttotal: 59.3s\tremaining: 59.1s\n",
      "501:\tlearn: 0.2696971\ttotal: 59.4s\tremaining: 59s\n",
      "502:\tlearn: 0.2695738\ttotal: 59.6s\tremaining: 58.9s\n",
      "503:\tlearn: 0.2695023\ttotal: 59.7s\tremaining: 58.7s\n",
      "504:\tlearn: 0.2694877\ttotal: 59.8s\tremaining: 58.6s\n",
      "505:\tlearn: 0.2694684\ttotal: 59.9s\tremaining: 58.5s\n",
      "506:\tlearn: 0.2692738\ttotal: 1m\tremaining: 58.4s\n",
      "507:\tlearn: 0.2692441\ttotal: 1m\tremaining: 58.3s\n",
      "508:\tlearn: 0.2692223\ttotal: 1m\tremaining: 58.1s\n",
      "509:\tlearn: 0.2691900\ttotal: 1m\tremaining: 58s\n",
      "510:\tlearn: 0.2690244\ttotal: 1m\tremaining: 57.9s\n",
      "511:\tlearn: 0.2689952\ttotal: 1m\tremaining: 57.8s\n",
      "512:\tlearn: 0.2689583\ttotal: 1m\tremaining: 57.6s\n",
      "513:\tlearn: 0.2688820\ttotal: 1m\tremaining: 57.5s\n",
      "514:\tlearn: 0.2688606\ttotal: 1m\tremaining: 57.4s\n",
      "515:\tlearn: 0.2688278\ttotal: 1m 1s\tremaining: 57.3s\n",
      "516:\tlearn: 0.2687991\ttotal: 1m 1s\tremaining: 57.2s\n",
      "517:\tlearn: 0.2687614\ttotal: 1m 1s\tremaining: 57s\n",
      "518:\tlearn: 0.2687281\ttotal: 1m 1s\tremaining: 56.9s\n",
      "519:\tlearn: 0.2686076\ttotal: 1m 1s\tremaining: 56.8s\n",
      "520:\tlearn: 0.2685672\ttotal: 1m 1s\tremaining: 56.7s\n",
      "521:\tlearn: 0.2685403\ttotal: 1m 1s\tremaining: 56.6s\n",
      "522:\tlearn: 0.2684575\ttotal: 1m 1s\tremaining: 56.4s\n",
      "523:\tlearn: 0.2684368\ttotal: 1m 2s\tremaining: 56.3s\n",
      "524:\tlearn: 0.2683762\ttotal: 1m 2s\tremaining: 56.2s\n",
      "525:\tlearn: 0.2683470\ttotal: 1m 2s\tremaining: 56.1s\n",
      "526:\tlearn: 0.2683251\ttotal: 1m 2s\tremaining: 56s\n",
      "527:\tlearn: 0.2682795\ttotal: 1m 2s\tremaining: 55.9s\n",
      "528:\tlearn: 0.2682554\ttotal: 1m 2s\tremaining: 55.7s\n",
      "529:\tlearn: 0.2682459\ttotal: 1m 2s\tremaining: 55.6s\n",
      "530:\tlearn: 0.2681507\ttotal: 1m 2s\tremaining: 55.5s\n",
      "531:\tlearn: 0.2681351\ttotal: 1m 2s\tremaining: 55.4s\n",
      "532:\tlearn: 0.2681121\ttotal: 1m 3s\tremaining: 55.3s\n",
      "533:\tlearn: 0.2680956\ttotal: 1m 3s\tremaining: 55.1s\n",
      "534:\tlearn: 0.2680375\ttotal: 1m 3s\tremaining: 55s\n",
      "535:\tlearn: 0.2679909\ttotal: 1m 3s\tremaining: 54.9s\n",
      "536:\tlearn: 0.2679774\ttotal: 1m 3s\tremaining: 54.8s\n",
      "537:\tlearn: 0.2679425\ttotal: 1m 3s\tremaining: 54.7s\n",
      "538:\tlearn: 0.2679280\ttotal: 1m 3s\tremaining: 54.5s\n",
      "539:\tlearn: 0.2679060\ttotal: 1m 3s\tremaining: 54.4s\n",
      "540:\tlearn: 0.2678913\ttotal: 1m 4s\tremaining: 54.3s\n",
      "541:\tlearn: 0.2678756\ttotal: 1m 4s\tremaining: 54.2s\n",
      "542:\tlearn: 0.2678568\ttotal: 1m 4s\tremaining: 54.1s\n",
      "543:\tlearn: 0.2678428\ttotal: 1m 4s\tremaining: 54s\n",
      "544:\tlearn: 0.2677778\ttotal: 1m 4s\tremaining: 53.8s\n",
      "545:\tlearn: 0.2677588\ttotal: 1m 4s\tremaining: 53.7s\n",
      "546:\tlearn: 0.2677026\ttotal: 1m 4s\tremaining: 53.6s\n",
      "547:\tlearn: 0.2676753\ttotal: 1m 4s\tremaining: 53.5s\n",
      "548:\tlearn: 0.2676515\ttotal: 1m 4s\tremaining: 53.4s\n",
      "549:\tlearn: 0.2676088\ttotal: 1m 5s\tremaining: 53.2s\n",
      "550:\tlearn: 0.2675853\ttotal: 1m 5s\tremaining: 53.1s\n",
      "551:\tlearn: 0.2675712\ttotal: 1m 5s\tremaining: 53s\n",
      "552:\tlearn: 0.2675520\ttotal: 1m 5s\tremaining: 52.9s\n",
      "553:\tlearn: 0.2675279\ttotal: 1m 5s\tremaining: 52.8s\n",
      "554:\tlearn: 0.2674923\ttotal: 1m 5s\tremaining: 52.7s\n",
      "555:\tlearn: 0.2674691\ttotal: 1m 5s\tremaining: 52.6s\n",
      "556:\tlearn: 0.2674485\ttotal: 1m 5s\tremaining: 52.4s\n",
      "557:\tlearn: 0.2674128\ttotal: 1m 6s\tremaining: 52.3s\n",
      "558:\tlearn: 0.2673568\ttotal: 1m 6s\tremaining: 52.2s\n",
      "559:\tlearn: 0.2673244\ttotal: 1m 6s\tremaining: 52.1s\n",
      "560:\tlearn: 0.2673076\ttotal: 1m 6s\tremaining: 52s\n",
      "561:\tlearn: 0.2672887\ttotal: 1m 6s\tremaining: 51.8s\n",
      "562:\tlearn: 0.2670900\ttotal: 1m 6s\tremaining: 51.7s\n",
      "563:\tlearn: 0.2670689\ttotal: 1m 6s\tremaining: 51.6s\n",
      "564:\tlearn: 0.2670375\ttotal: 1m 6s\tremaining: 51.5s\n",
      "565:\tlearn: 0.2670012\ttotal: 1m 7s\tremaining: 51.4s\n",
      "566:\tlearn: 0.2669582\ttotal: 1m 7s\tremaining: 51.3s\n",
      "567:\tlearn: 0.2669262\ttotal: 1m 7s\tremaining: 51.2s\n",
      "568:\tlearn: 0.2668988\ttotal: 1m 7s\tremaining: 51s\n",
      "569:\tlearn: 0.2668859\ttotal: 1m 7s\tremaining: 50.9s\n",
      "570:\tlearn: 0.2668480\ttotal: 1m 7s\tremaining: 50.8s\n",
      "571:\tlearn: 0.2668121\ttotal: 1m 7s\tremaining: 50.7s\n",
      "572:\tlearn: 0.2664185\ttotal: 1m 7s\tremaining: 50.6s\n",
      "573:\tlearn: 0.2663873\ttotal: 1m 7s\tremaining: 50.5s\n",
      "574:\tlearn: 0.2662831\ttotal: 1m 8s\tremaining: 50.4s\n",
      "575:\tlearn: 0.2662624\ttotal: 1m 8s\tremaining: 50.2s\n",
      "576:\tlearn: 0.2662423\ttotal: 1m 8s\tremaining: 50.1s\n",
      "577:\tlearn: 0.2662032\ttotal: 1m 8s\tremaining: 50s\n",
      "578:\tlearn: 0.2661768\ttotal: 1m 8s\tremaining: 49.9s\n",
      "579:\tlearn: 0.2661637\ttotal: 1m 8s\tremaining: 49.8s\n",
      "580:\tlearn: 0.2661313\ttotal: 1m 8s\tremaining: 49.7s\n",
      "581:\tlearn: 0.2661115\ttotal: 1m 9s\tremaining: 49.6s\n",
      "582:\tlearn: 0.2660837\ttotal: 1m 9s\tremaining: 49.5s\n",
      "583:\tlearn: 0.2660639\ttotal: 1m 9s\tremaining: 49.4s\n",
      "584:\tlearn: 0.2660313\ttotal: 1m 9s\tremaining: 49.2s\n",
      "585:\tlearn: 0.2660022\ttotal: 1m 9s\tremaining: 49.1s\n",
      "586:\tlearn: 0.2659015\ttotal: 1m 9s\tremaining: 49s\n",
      "587:\tlearn: 0.2658818\ttotal: 1m 9s\tremaining: 48.9s\n",
      "588:\tlearn: 0.2658521\ttotal: 1m 9s\tremaining: 48.8s\n",
      "589:\tlearn: 0.2658329\ttotal: 1m 10s\tremaining: 48.6s\n",
      "590:\tlearn: 0.2658159\ttotal: 1m 10s\tremaining: 48.5s\n",
      "591:\tlearn: 0.2657967\ttotal: 1m 10s\tremaining: 48.4s\n",
      "592:\tlearn: 0.2657540\ttotal: 1m 10s\tremaining: 48.3s\n",
      "593:\tlearn: 0.2657329\ttotal: 1m 10s\tremaining: 48.2s\n",
      "594:\tlearn: 0.2657117\ttotal: 1m 10s\tremaining: 48s\n",
      "595:\tlearn: 0.2654775\ttotal: 1m 10s\tremaining: 47.9s\n",
      "596:\tlearn: 0.2654632\ttotal: 1m 10s\tremaining: 47.8s\n",
      "597:\tlearn: 0.2654336\ttotal: 1m 10s\tremaining: 47.7s\n",
      "598:\tlearn: 0.2654097\ttotal: 1m 11s\tremaining: 47.6s\n",
      "599:\tlearn: 0.2653849\ttotal: 1m 11s\tremaining: 47.4s\n",
      "600:\tlearn: 0.2653498\ttotal: 1m 11s\tremaining: 47.3s\n",
      "601:\tlearn: 0.2652174\ttotal: 1m 11s\tremaining: 47.2s\n",
      "602:\tlearn: 0.2651817\ttotal: 1m 11s\tremaining: 47.1s\n",
      "603:\tlearn: 0.2651093\ttotal: 1m 11s\tremaining: 47s\n",
      "604:\tlearn: 0.2650753\ttotal: 1m 11s\tremaining: 46.8s\n",
      "605:\tlearn: 0.2650398\ttotal: 1m 11s\tremaining: 46.7s\n",
      "606:\tlearn: 0.2650146\ttotal: 1m 11s\tremaining: 46.6s\n",
      "607:\tlearn: 0.2648680\ttotal: 1m 12s\tremaining: 46.5s\n",
      "608:\tlearn: 0.2648213\ttotal: 1m 12s\tremaining: 46.4s\n",
      "609:\tlearn: 0.2647998\ttotal: 1m 12s\tremaining: 46.2s\n",
      "610:\tlearn: 0.2647492\ttotal: 1m 12s\tremaining: 46.1s\n",
      "611:\tlearn: 0.2647291\ttotal: 1m 12s\tremaining: 46s\n",
      "612:\tlearn: 0.2647106\ttotal: 1m 12s\tremaining: 45.9s\n",
      "613:\tlearn: 0.2646902\ttotal: 1m 12s\tremaining: 45.8s\n",
      "614:\tlearn: 0.2646773\ttotal: 1m 12s\tremaining: 45.6s\n",
      "615:\tlearn: 0.2645644\ttotal: 1m 13s\tremaining: 45.5s\n",
      "616:\tlearn: 0.2645350\ttotal: 1m 13s\tremaining: 45.4s\n",
      "617:\tlearn: 0.2645141\ttotal: 1m 13s\tremaining: 45.3s\n",
      "618:\tlearn: 0.2644739\ttotal: 1m 13s\tremaining: 45.2s\n",
      "619:\tlearn: 0.2644511\ttotal: 1m 13s\tremaining: 45s\n",
      "620:\tlearn: 0.2644400\ttotal: 1m 13s\tremaining: 44.9s\n",
      "621:\tlearn: 0.2644206\ttotal: 1m 13s\tremaining: 44.8s\n",
      "622:\tlearn: 0.2641872\ttotal: 1m 13s\tremaining: 44.7s\n",
      "623:\tlearn: 0.2641677\ttotal: 1m 13s\tremaining: 44.6s\n",
      "624:\tlearn: 0.2641528\ttotal: 1m 14s\tremaining: 44.4s\n",
      "625:\tlearn: 0.2641240\ttotal: 1m 14s\tremaining: 44.3s\n",
      "626:\tlearn: 0.2641081\ttotal: 1m 14s\tremaining: 44.2s\n",
      "627:\tlearn: 0.2639524\ttotal: 1m 14s\tremaining: 44.1s\n",
      "628:\tlearn: 0.2639357\ttotal: 1m 14s\tremaining: 44s\n",
      "629:\tlearn: 0.2639152\ttotal: 1m 14s\tremaining: 43.9s\n",
      "630:\tlearn: 0.2638645\ttotal: 1m 14s\tremaining: 43.7s\n",
      "631:\tlearn: 0.2638455\ttotal: 1m 14s\tremaining: 43.6s\n",
      "632:\tlearn: 0.2638182\ttotal: 1m 15s\tremaining: 43.5s\n",
      "633:\tlearn: 0.2637933\ttotal: 1m 15s\tremaining: 43.4s\n",
      "634:\tlearn: 0.2637714\ttotal: 1m 15s\tremaining: 43.3s\n",
      "635:\tlearn: 0.2636184\ttotal: 1m 15s\tremaining: 43.1s\n",
      "636:\tlearn: 0.2635786\ttotal: 1m 15s\tremaining: 43s\n",
      "637:\tlearn: 0.2635630\ttotal: 1m 15s\tremaining: 42.9s\n",
      "638:\tlearn: 0.2635098\ttotal: 1m 15s\tremaining: 42.8s\n",
      "639:\tlearn: 0.2634838\ttotal: 1m 15s\tremaining: 42.7s\n",
      "640:\tlearn: 0.2634603\ttotal: 1m 15s\tremaining: 42.5s\n",
      "641:\tlearn: 0.2634433\ttotal: 1m 16s\tremaining: 42.4s\n",
      "642:\tlearn: 0.2634193\ttotal: 1m 16s\tremaining: 42.3s\n",
      "643:\tlearn: 0.2632628\ttotal: 1m 16s\tremaining: 42.2s\n",
      "644:\tlearn: 0.2632271\ttotal: 1m 16s\tremaining: 42.1s\n",
      "645:\tlearn: 0.2632032\ttotal: 1m 16s\tremaining: 41.9s\n",
      "646:\tlearn: 0.2631711\ttotal: 1m 16s\tremaining: 41.8s\n",
      "647:\tlearn: 0.2631504\ttotal: 1m 16s\tremaining: 41.7s\n",
      "648:\tlearn: 0.2630990\ttotal: 1m 16s\tremaining: 41.6s\n",
      "649:\tlearn: 0.2630711\ttotal: 1m 17s\tremaining: 41.5s\n",
      "650:\tlearn: 0.2630474\ttotal: 1m 17s\tremaining: 41.4s\n",
      "651:\tlearn: 0.2630242\ttotal: 1m 17s\tremaining: 41.2s\n",
      "652:\tlearn: 0.2630033\ttotal: 1m 17s\tremaining: 41.1s\n",
      "653:\tlearn: 0.2629085\ttotal: 1m 17s\tremaining: 41s\n",
      "654:\tlearn: 0.2628932\ttotal: 1m 17s\tremaining: 40.9s\n",
      "655:\tlearn: 0.2628631\ttotal: 1m 17s\tremaining: 40.8s\n",
      "656:\tlearn: 0.2628183\ttotal: 1m 17s\tremaining: 40.6s\n",
      "657:\tlearn: 0.2628010\ttotal: 1m 17s\tremaining: 40.5s\n",
      "658:\tlearn: 0.2626792\ttotal: 1m 18s\tremaining: 40.4s\n",
      "659:\tlearn: 0.2626184\ttotal: 1m 18s\tremaining: 40.3s\n",
      "660:\tlearn: 0.2625824\ttotal: 1m 18s\tremaining: 40.2s\n",
      "661:\tlearn: 0.2625568\ttotal: 1m 18s\tremaining: 40.1s\n",
      "662:\tlearn: 0.2624106\ttotal: 1m 18s\tremaining: 39.9s\n",
      "663:\tlearn: 0.2623943\ttotal: 1m 18s\tremaining: 39.8s\n",
      "664:\tlearn: 0.2623536\ttotal: 1m 18s\tremaining: 39.7s\n",
      "665:\tlearn: 0.2622541\ttotal: 1m 18s\tremaining: 39.6s\n",
      "666:\tlearn: 0.2622332\ttotal: 1m 19s\tremaining: 39.5s\n",
      "667:\tlearn: 0.2622144\ttotal: 1m 19s\tremaining: 39.3s\n",
      "668:\tlearn: 0.2621929\ttotal: 1m 19s\tremaining: 39.2s\n",
      "669:\tlearn: 0.2620804\ttotal: 1m 19s\tremaining: 39.1s\n",
      "670:\tlearn: 0.2618961\ttotal: 1m 19s\tremaining: 39s\n",
      "671:\tlearn: 0.2618672\ttotal: 1m 19s\tremaining: 38.9s\n",
      "672:\tlearn: 0.2618470\ttotal: 1m 19s\tremaining: 38.7s\n",
      "673:\tlearn: 0.2618302\ttotal: 1m 19s\tremaining: 38.6s\n",
      "674:\tlearn: 0.2618107\ttotal: 1m 19s\tremaining: 38.5s\n",
      "675:\tlearn: 0.2617897\ttotal: 1m 20s\tremaining: 38.4s\n",
      "676:\tlearn: 0.2617454\ttotal: 1m 20s\tremaining: 38.3s\n",
      "677:\tlearn: 0.2617293\ttotal: 1m 20s\tremaining: 38.1s\n",
      "678:\tlearn: 0.2617059\ttotal: 1m 20s\tremaining: 38s\n",
      "679:\tlearn: 0.2616861\ttotal: 1m 20s\tremaining: 37.9s\n",
      "680:\tlearn: 0.2615684\ttotal: 1m 20s\tremaining: 37.8s\n",
      "681:\tlearn: 0.2615420\ttotal: 1m 20s\tremaining: 37.7s\n",
      "682:\tlearn: 0.2614716\ttotal: 1m 20s\tremaining: 37.5s\n",
      "683:\tlearn: 0.2614473\ttotal: 1m 21s\tremaining: 37.4s\n",
      "684:\tlearn: 0.2613997\ttotal: 1m 21s\tremaining: 37.3s\n",
      "685:\tlearn: 0.2613859\ttotal: 1m 21s\tremaining: 37.2s\n",
      "686:\tlearn: 0.2613670\ttotal: 1m 21s\tremaining: 37.1s\n",
      "687:\tlearn: 0.2613415\ttotal: 1m 21s\tremaining: 37s\n",
      "688:\tlearn: 0.2613279\ttotal: 1m 21s\tremaining: 36.8s\n",
      "689:\tlearn: 0.2611040\ttotal: 1m 21s\tremaining: 36.7s\n",
      "690:\tlearn: 0.2610272\ttotal: 1m 21s\tremaining: 36.6s\n",
      "691:\tlearn: 0.2610116\ttotal: 1m 21s\tremaining: 36.5s\n",
      "692:\tlearn: 0.2609952\ttotal: 1m 22s\tremaining: 36.4s\n",
      "693:\tlearn: 0.2609688\ttotal: 1m 22s\tremaining: 36.2s\n",
      "694:\tlearn: 0.2607496\ttotal: 1m 22s\tremaining: 36.1s\n",
      "695:\tlearn: 0.2607301\ttotal: 1m 22s\tremaining: 36s\n",
      "696:\tlearn: 0.2607168\ttotal: 1m 22s\tremaining: 35.9s\n",
      "697:\tlearn: 0.2606917\ttotal: 1m 22s\tremaining: 35.8s\n",
      "698:\tlearn: 0.2606782\ttotal: 1m 22s\tremaining: 35.7s\n",
      "699:\tlearn: 0.2606560\ttotal: 1m 22s\tremaining: 35.5s\n",
      "700:\tlearn: 0.2606074\ttotal: 1m 23s\tremaining: 35.4s\n",
      "701:\tlearn: 0.2605757\ttotal: 1m 23s\tremaining: 35.3s\n",
      "702:\tlearn: 0.2605591\ttotal: 1m 23s\tremaining: 35.2s\n",
      "703:\tlearn: 0.2605267\ttotal: 1m 23s\tremaining: 35.1s\n",
      "704:\tlearn: 0.2605006\ttotal: 1m 23s\tremaining: 34.9s\n",
      "705:\tlearn: 0.2604771\ttotal: 1m 23s\tremaining: 34.8s\n",
      "706:\tlearn: 0.2604630\ttotal: 1m 23s\tremaining: 34.7s\n",
      "707:\tlearn: 0.2604224\ttotal: 1m 23s\tremaining: 34.6s\n",
      "708:\tlearn: 0.2604059\ttotal: 1m 23s\tremaining: 34.5s\n",
      "709:\tlearn: 0.2603017\ttotal: 1m 24s\tremaining: 34.3s\n",
      "710:\tlearn: 0.2602791\ttotal: 1m 24s\tremaining: 34.2s\n",
      "711:\tlearn: 0.2601689\ttotal: 1m 24s\tremaining: 34.1s\n",
      "712:\tlearn: 0.2601264\ttotal: 1m 24s\tremaining: 34s\n",
      "713:\tlearn: 0.2600946\ttotal: 1m 24s\tremaining: 33.9s\n",
      "714:\tlearn: 0.2598555\ttotal: 1m 24s\tremaining: 33.8s\n",
      "715:\tlearn: 0.2597637\ttotal: 1m 24s\tremaining: 33.6s\n",
      "716:\tlearn: 0.2597436\ttotal: 1m 24s\tremaining: 33.5s\n",
      "717:\tlearn: 0.2596674\ttotal: 1m 25s\tremaining: 33.4s\n",
      "718:\tlearn: 0.2595423\ttotal: 1m 25s\tremaining: 33.3s\n",
      "719:\tlearn: 0.2595121\ttotal: 1m 25s\tremaining: 33.2s\n",
      "720:\tlearn: 0.2594883\ttotal: 1m 25s\tremaining: 33s\n",
      "721:\tlearn: 0.2594615\ttotal: 1m 25s\tremaining: 32.9s\n",
      "722:\tlearn: 0.2592963\ttotal: 1m 25s\tremaining: 32.8s\n",
      "723:\tlearn: 0.2592731\ttotal: 1m 25s\tremaining: 32.7s\n",
      "724:\tlearn: 0.2592410\ttotal: 1m 25s\tremaining: 32.6s\n",
      "725:\tlearn: 0.2592269\ttotal: 1m 25s\tremaining: 32.4s\n",
      "726:\tlearn: 0.2591955\ttotal: 1m 26s\tremaining: 32.3s\n",
      "727:\tlearn: 0.2591756\ttotal: 1m 26s\tremaining: 32.2s\n",
      "728:\tlearn: 0.2590947\ttotal: 1m 26s\tremaining: 32.1s\n",
      "729:\tlearn: 0.2590741\ttotal: 1m 26s\tremaining: 32s\n",
      "730:\tlearn: 0.2590596\ttotal: 1m 26s\tremaining: 31.9s\n",
      "731:\tlearn: 0.2589943\ttotal: 1m 26s\tremaining: 31.7s\n",
      "732:\tlearn: 0.2589687\ttotal: 1m 26s\tremaining: 31.6s\n",
      "733:\tlearn: 0.2589327\ttotal: 1m 26s\tremaining: 31.5s\n",
      "734:\tlearn: 0.2589066\ttotal: 1m 27s\tremaining: 31.4s\n",
      "735:\tlearn: 0.2588881\ttotal: 1m 27s\tremaining: 31.3s\n",
      "736:\tlearn: 0.2588646\ttotal: 1m 27s\tremaining: 31.1s\n",
      "737:\tlearn: 0.2588463\ttotal: 1m 27s\tremaining: 31s\n",
      "738:\tlearn: 0.2588321\ttotal: 1m 27s\tremaining: 30.9s\n",
      "739:\tlearn: 0.2587011\ttotal: 1m 27s\tremaining: 30.8s\n",
      "740:\tlearn: 0.2586902\ttotal: 1m 27s\tremaining: 30.7s\n",
      "741:\tlearn: 0.2586790\ttotal: 1m 27s\tremaining: 30.6s\n",
      "742:\tlearn: 0.2586133\ttotal: 1m 27s\tremaining: 30.4s\n",
      "743:\tlearn: 0.2585793\ttotal: 1m 28s\tremaining: 30.3s\n",
      "744:\tlearn: 0.2585630\ttotal: 1m 28s\tremaining: 30.2s\n",
      "745:\tlearn: 0.2585455\ttotal: 1m 28s\tremaining: 30.1s\n",
      "746:\tlearn: 0.2584958\ttotal: 1m 28s\tremaining: 30s\n",
      "747:\tlearn: 0.2584787\ttotal: 1m 28s\tremaining: 29.8s\n",
      "748:\tlearn: 0.2584624\ttotal: 1m 28s\tremaining: 29.7s\n",
      "749:\tlearn: 0.2584393\ttotal: 1m 28s\tremaining: 29.6s\n",
      "750:\tlearn: 0.2584221\ttotal: 1m 28s\tremaining: 29.5s\n",
      "751:\tlearn: 0.2584076\ttotal: 1m 29s\tremaining: 29.4s\n",
      "752:\tlearn: 0.2583914\ttotal: 1m 29s\tremaining: 29.3s\n",
      "753:\tlearn: 0.2583746\ttotal: 1m 29s\tremaining: 29.1s\n",
      "754:\tlearn: 0.2583501\ttotal: 1m 29s\tremaining: 29s\n",
      "755:\tlearn: 0.2583275\ttotal: 1m 29s\tremaining: 28.9s\n",
      "756:\tlearn: 0.2583131\ttotal: 1m 29s\tremaining: 28.8s\n",
      "757:\tlearn: 0.2581999\ttotal: 1m 29s\tremaining: 28.7s\n",
      "758:\tlearn: 0.2581340\ttotal: 1m 29s\tremaining: 28.5s\n",
      "759:\tlearn: 0.2581159\ttotal: 1m 30s\tremaining: 28.4s\n",
      "760:\tlearn: 0.2579543\ttotal: 1m 30s\tremaining: 28.3s\n",
      "761:\tlearn: 0.2579368\ttotal: 1m 30s\tremaining: 28.2s\n",
      "762:\tlearn: 0.2578888\ttotal: 1m 30s\tremaining: 28.1s\n",
      "763:\tlearn: 0.2578602\ttotal: 1m 30s\tremaining: 28s\n",
      "764:\tlearn: 0.2578256\ttotal: 1m 30s\tremaining: 27.8s\n",
      "765:\tlearn: 0.2578056\ttotal: 1m 30s\tremaining: 27.7s\n",
      "766:\tlearn: 0.2577758\ttotal: 1m 30s\tremaining: 27.6s\n",
      "767:\tlearn: 0.2577471\ttotal: 1m 30s\tremaining: 27.5s\n",
      "768:\tlearn: 0.2577344\ttotal: 1m 31s\tremaining: 27.4s\n",
      "769:\tlearn: 0.2577137\ttotal: 1m 31s\tremaining: 27.2s\n",
      "770:\tlearn: 0.2576762\ttotal: 1m 31s\tremaining: 27.1s\n",
      "771:\tlearn: 0.2576513\ttotal: 1m 31s\tremaining: 27s\n",
      "772:\tlearn: 0.2576381\ttotal: 1m 31s\tremaining: 26.9s\n",
      "773:\tlearn: 0.2576230\ttotal: 1m 31s\tremaining: 26.8s\n",
      "774:\tlearn: 0.2575960\ttotal: 1m 31s\tremaining: 26.7s\n",
      "775:\tlearn: 0.2575772\ttotal: 1m 31s\tremaining: 26.5s\n",
      "776:\tlearn: 0.2575615\ttotal: 1m 32s\tremaining: 26.4s\n",
      "777:\tlearn: 0.2574582\ttotal: 1m 32s\tremaining: 26.3s\n",
      "778:\tlearn: 0.2573795\ttotal: 1m 32s\tremaining: 26.2s\n",
      "779:\tlearn: 0.2573581\ttotal: 1m 32s\tremaining: 26.1s\n",
      "780:\tlearn: 0.2573448\ttotal: 1m 32s\tremaining: 25.9s\n",
      "781:\tlearn: 0.2572809\ttotal: 1m 32s\tremaining: 25.8s\n",
      "782:\tlearn: 0.2572341\ttotal: 1m 32s\tremaining: 25.7s\n",
      "783:\tlearn: 0.2572033\ttotal: 1m 32s\tremaining: 25.6s\n",
      "784:\tlearn: 0.2571848\ttotal: 1m 33s\tremaining: 25.5s\n",
      "785:\tlearn: 0.2571562\ttotal: 1m 33s\tremaining: 25.4s\n",
      "786:\tlearn: 0.2571411\ttotal: 1m 33s\tremaining: 25.2s\n",
      "787:\tlearn: 0.2571244\ttotal: 1m 33s\tremaining: 25.1s\n",
      "788:\tlearn: 0.2571064\ttotal: 1m 33s\tremaining: 25s\n",
      "789:\tlearn: 0.2570947\ttotal: 1m 33s\tremaining: 24.9s\n",
      "790:\tlearn: 0.2570722\ttotal: 1m 33s\tremaining: 24.8s\n",
      "791:\tlearn: 0.2569934\ttotal: 1m 33s\tremaining: 24.6s\n",
      "792:\tlearn: 0.2569102\ttotal: 1m 33s\tremaining: 24.5s\n",
      "793:\tlearn: 0.2568862\ttotal: 1m 34s\tremaining: 24.4s\n",
      "794:\tlearn: 0.2568607\ttotal: 1m 34s\tremaining: 24.3s\n",
      "795:\tlearn: 0.2567971\ttotal: 1m 34s\tremaining: 24.2s\n",
      "796:\tlearn: 0.2567826\ttotal: 1m 34s\tremaining: 24.1s\n",
      "797:\tlearn: 0.2567666\ttotal: 1m 34s\tremaining: 23.9s\n",
      "798:\tlearn: 0.2567507\ttotal: 1m 34s\tremaining: 23.8s\n",
      "799:\tlearn: 0.2567136\ttotal: 1m 34s\tremaining: 23.7s\n",
      "800:\tlearn: 0.2566990\ttotal: 1m 34s\tremaining: 23.6s\n",
      "801:\tlearn: 0.2566565\ttotal: 1m 35s\tremaining: 23.5s\n",
      "802:\tlearn: 0.2566197\ttotal: 1m 35s\tremaining: 23.3s\n",
      "803:\tlearn: 0.2566003\ttotal: 1m 35s\tremaining: 23.2s\n",
      "804:\tlearn: 0.2565049\ttotal: 1m 35s\tremaining: 23.1s\n",
      "805:\tlearn: 0.2564234\ttotal: 1m 35s\tremaining: 23s\n",
      "806:\tlearn: 0.2563413\ttotal: 1m 35s\tremaining: 22.9s\n",
      "807:\tlearn: 0.2562824\ttotal: 1m 35s\tremaining: 22.8s\n",
      "808:\tlearn: 0.2562287\ttotal: 1m 35s\tremaining: 22.6s\n",
      "809:\tlearn: 0.2561831\ttotal: 1m 35s\tremaining: 22.5s\n",
      "810:\tlearn: 0.2561666\ttotal: 1m 36s\tremaining: 22.4s\n",
      "811:\tlearn: 0.2561510\ttotal: 1m 36s\tremaining: 22.3s\n",
      "812:\tlearn: 0.2561327\ttotal: 1m 36s\tremaining: 22.2s\n",
      "813:\tlearn: 0.2561099\ttotal: 1m 36s\tremaining: 22s\n",
      "814:\tlearn: 0.2560927\ttotal: 1m 36s\tremaining: 21.9s\n",
      "815:\tlearn: 0.2560700\ttotal: 1m 36s\tremaining: 21.8s\n",
      "816:\tlearn: 0.2560516\ttotal: 1m 36s\tremaining: 21.7s\n",
      "817:\tlearn: 0.2560347\ttotal: 1m 36s\tremaining: 21.6s\n",
      "818:\tlearn: 0.2559702\ttotal: 1m 37s\tremaining: 21.5s\n",
      "819:\tlearn: 0.2559433\ttotal: 1m 37s\tremaining: 21.3s\n",
      "820:\tlearn: 0.2558990\ttotal: 1m 37s\tremaining: 21.2s\n",
      "821:\tlearn: 0.2558824\ttotal: 1m 37s\tremaining: 21.1s\n",
      "822:\tlearn: 0.2558606\ttotal: 1m 37s\tremaining: 21s\n",
      "823:\tlearn: 0.2558343\ttotal: 1m 37s\tremaining: 20.9s\n",
      "824:\tlearn: 0.2558208\ttotal: 1m 37s\tremaining: 20.7s\n",
      "825:\tlearn: 0.2557940\ttotal: 1m 37s\tremaining: 20.6s\n",
      "826:\tlearn: 0.2557783\ttotal: 1m 38s\tremaining: 20.5s\n",
      "827:\tlearn: 0.2556270\ttotal: 1m 38s\tremaining: 20.4s\n",
      "828:\tlearn: 0.2555980\ttotal: 1m 38s\tremaining: 20.3s\n",
      "829:\tlearn: 0.2555751\ttotal: 1m 38s\tremaining: 20.2s\n",
      "830:\tlearn: 0.2555514\ttotal: 1m 38s\tremaining: 20s\n",
      "831:\tlearn: 0.2555374\ttotal: 1m 38s\tremaining: 19.9s\n",
      "832:\tlearn: 0.2555211\ttotal: 1m 38s\tremaining: 19.8s\n",
      "833:\tlearn: 0.2554983\ttotal: 1m 38s\tremaining: 19.7s\n",
      "834:\tlearn: 0.2554722\ttotal: 1m 39s\tremaining: 19.6s\n",
      "835:\tlearn: 0.2554341\ttotal: 1m 39s\tremaining: 19.4s\n",
      "836:\tlearn: 0.2554130\ttotal: 1m 39s\tremaining: 19.3s\n",
      "837:\tlearn: 0.2553589\ttotal: 1m 39s\tremaining: 19.2s\n",
      "838:\tlearn: 0.2553437\ttotal: 1m 39s\tremaining: 19.1s\n",
      "839:\tlearn: 0.2553299\ttotal: 1m 39s\tremaining: 19s\n",
      "840:\tlearn: 0.2553053\ttotal: 1m 39s\tremaining: 18.9s\n",
      "841:\tlearn: 0.2552204\ttotal: 1m 39s\tremaining: 18.7s\n",
      "842:\tlearn: 0.2551069\ttotal: 1m 39s\tremaining: 18.6s\n",
      "843:\tlearn: 0.2549326\ttotal: 1m 40s\tremaining: 18.5s\n",
      "844:\tlearn: 0.2549143\ttotal: 1m 40s\tremaining: 18.4s\n",
      "845:\tlearn: 0.2549007\ttotal: 1m 40s\tremaining: 18.3s\n",
      "846:\tlearn: 0.2548651\ttotal: 1m 40s\tremaining: 18.1s\n",
      "847:\tlearn: 0.2548521\ttotal: 1m 40s\tremaining: 18s\n",
      "848:\tlearn: 0.2548338\ttotal: 1m 40s\tremaining: 17.9s\n",
      "849:\tlearn: 0.2547659\ttotal: 1m 40s\tremaining: 17.8s\n",
      "850:\tlearn: 0.2546922\ttotal: 1m 40s\tremaining: 17.7s\n",
      "851:\tlearn: 0.2546759\ttotal: 1m 41s\tremaining: 17.6s\n",
      "852:\tlearn: 0.2546178\ttotal: 1m 41s\tremaining: 17.4s\n",
      "853:\tlearn: 0.2546019\ttotal: 1m 41s\tremaining: 17.3s\n",
      "854:\tlearn: 0.2545864\ttotal: 1m 41s\tremaining: 17.2s\n",
      "855:\tlearn: 0.2545530\ttotal: 1m 41s\tremaining: 17.1s\n",
      "856:\tlearn: 0.2545376\ttotal: 1m 41s\tremaining: 17s\n",
      "857:\tlearn: 0.2545218\ttotal: 1m 41s\tremaining: 16.8s\n",
      "858:\tlearn: 0.2544985\ttotal: 1m 41s\tremaining: 16.7s\n",
      "859:\tlearn: 0.2544806\ttotal: 1m 42s\tremaining: 16.6s\n",
      "860:\tlearn: 0.2544059\ttotal: 1m 42s\tremaining: 16.5s\n",
      "861:\tlearn: 0.2543839\ttotal: 1m 42s\tremaining: 16.4s\n",
      "862:\tlearn: 0.2543655\ttotal: 1m 42s\tremaining: 16.3s\n",
      "863:\tlearn: 0.2543314\ttotal: 1m 42s\tremaining: 16.1s\n",
      "864:\tlearn: 0.2542967\ttotal: 1m 42s\tremaining: 16s\n",
      "865:\tlearn: 0.2542358\ttotal: 1m 42s\tremaining: 15.9s\n",
      "866:\tlearn: 0.2542184\ttotal: 1m 42s\tremaining: 15.8s\n",
      "867:\tlearn: 0.2541160\ttotal: 1m 42s\tremaining: 15.7s\n",
      "868:\tlearn: 0.2540452\ttotal: 1m 43s\tremaining: 15.5s\n",
      "869:\tlearn: 0.2540223\ttotal: 1m 43s\tremaining: 15.4s\n",
      "870:\tlearn: 0.2539471\ttotal: 1m 43s\tremaining: 15.3s\n",
      "871:\tlearn: 0.2539298\ttotal: 1m 43s\tremaining: 15.2s\n",
      "872:\tlearn: 0.2539081\ttotal: 1m 43s\tremaining: 15.1s\n",
      "873:\tlearn: 0.2538884\ttotal: 1m 43s\tremaining: 14.9s\n",
      "874:\tlearn: 0.2538740\ttotal: 1m 43s\tremaining: 14.8s\n",
      "875:\tlearn: 0.2538478\ttotal: 1m 43s\tremaining: 14.7s\n",
      "876:\tlearn: 0.2538295\ttotal: 1m 44s\tremaining: 14.6s\n",
      "877:\tlearn: 0.2538093\ttotal: 1m 44s\tremaining: 14.5s\n",
      "878:\tlearn: 0.2537527\ttotal: 1m 44s\tremaining: 14.4s\n",
      "879:\tlearn: 0.2537338\ttotal: 1m 44s\tremaining: 14.2s\n",
      "880:\tlearn: 0.2535605\ttotal: 1m 44s\tremaining: 14.1s\n",
      "881:\tlearn: 0.2535454\ttotal: 1m 44s\tremaining: 14s\n",
      "882:\tlearn: 0.2535239\ttotal: 1m 44s\tremaining: 13.9s\n",
      "883:\tlearn: 0.2535042\ttotal: 1m 44s\tremaining: 13.8s\n",
      "884:\tlearn: 0.2534106\ttotal: 1m 44s\tremaining: 13.6s\n",
      "885:\tlearn: 0.2533872\ttotal: 1m 45s\tremaining: 13.5s\n",
      "886:\tlearn: 0.2533384\ttotal: 1m 45s\tremaining: 13.4s\n",
      "887:\tlearn: 0.2533113\ttotal: 1m 45s\tremaining: 13.3s\n",
      "888:\tlearn: 0.2532784\ttotal: 1m 45s\tremaining: 13.2s\n",
      "889:\tlearn: 0.2532645\ttotal: 1m 45s\tremaining: 13s\n",
      "890:\tlearn: 0.2532442\ttotal: 1m 45s\tremaining: 12.9s\n",
      "891:\tlearn: 0.2532262\ttotal: 1m 45s\tremaining: 12.8s\n",
      "892:\tlearn: 0.2532029\ttotal: 1m 45s\tremaining: 12.7s\n",
      "893:\tlearn: 0.2531805\ttotal: 1m 46s\tremaining: 12.6s\n",
      "894:\tlearn: 0.2531598\ttotal: 1m 46s\tremaining: 12.5s\n",
      "895:\tlearn: 0.2531340\ttotal: 1m 46s\tremaining: 12.3s\n",
      "896:\tlearn: 0.2531167\ttotal: 1m 46s\tremaining: 12.2s\n",
      "897:\tlearn: 0.2529962\ttotal: 1m 46s\tremaining: 12.1s\n",
      "898:\tlearn: 0.2529819\ttotal: 1m 46s\tremaining: 12s\n",
      "899:\tlearn: 0.2529642\ttotal: 1m 46s\tremaining: 11.9s\n",
      "900:\tlearn: 0.2529459\ttotal: 1m 46s\tremaining: 11.7s\n",
      "901:\tlearn: 0.2529299\ttotal: 1m 47s\tremaining: 11.6s\n",
      "902:\tlearn: 0.2528973\ttotal: 1m 47s\tremaining: 11.5s\n",
      "903:\tlearn: 0.2528837\ttotal: 1m 47s\tremaining: 11.4s\n",
      "904:\tlearn: 0.2528273\ttotal: 1m 47s\tremaining: 11.3s\n",
      "905:\tlearn: 0.2528109\ttotal: 1m 47s\tremaining: 11.2s\n",
      "906:\tlearn: 0.2527831\ttotal: 1m 47s\tremaining: 11s\n",
      "907:\tlearn: 0.2527627\ttotal: 1m 47s\tremaining: 10.9s\n",
      "908:\tlearn: 0.2527427\ttotal: 1m 47s\tremaining: 10.8s\n",
      "909:\tlearn: 0.2527246\ttotal: 1m 47s\tremaining: 10.7s\n",
      "910:\tlearn: 0.2526982\ttotal: 1m 48s\tremaining: 10.6s\n",
      "911:\tlearn: 0.2526618\ttotal: 1m 48s\tremaining: 10.4s\n",
      "912:\tlearn: 0.2526459\ttotal: 1m 48s\tremaining: 10.3s\n",
      "913:\tlearn: 0.2525935\ttotal: 1m 48s\tremaining: 10.2s\n",
      "914:\tlearn: 0.2525740\ttotal: 1m 48s\tremaining: 10.1s\n",
      "915:\tlearn: 0.2525548\ttotal: 1m 48s\tremaining: 9.97s\n",
      "916:\tlearn: 0.2525398\ttotal: 1m 48s\tremaining: 9.85s\n",
      "917:\tlearn: 0.2525161\ttotal: 1m 48s\tremaining: 9.73s\n",
      "918:\tlearn: 0.2524948\ttotal: 1m 49s\tremaining: 9.61s\n",
      "919:\tlearn: 0.2524009\ttotal: 1m 49s\tremaining: 9.49s\n",
      "920:\tlearn: 0.2523809\ttotal: 1m 49s\tremaining: 9.37s\n",
      "921:\tlearn: 0.2523130\ttotal: 1m 49s\tremaining: 9.26s\n",
      "922:\tlearn: 0.2522013\ttotal: 1m 49s\tremaining: 9.14s\n",
      "923:\tlearn: 0.2521688\ttotal: 1m 49s\tremaining: 9.02s\n",
      "924:\tlearn: 0.2521474\ttotal: 1m 49s\tremaining: 8.9s\n",
      "925:\tlearn: 0.2521238\ttotal: 1m 49s\tremaining: 8.78s\n",
      "926:\tlearn: 0.2520470\ttotal: 1m 50s\tremaining: 8.66s\n",
      "927:\tlearn: 0.2520349\ttotal: 1m 50s\tremaining: 8.54s\n",
      "928:\tlearn: 0.2519190\ttotal: 1m 50s\tremaining: 8.43s\n",
      "929:\tlearn: 0.2518641\ttotal: 1m 50s\tremaining: 8.31s\n",
      "930:\tlearn: 0.2518447\ttotal: 1m 50s\tremaining: 8.19s\n",
      "931:\tlearn: 0.2518205\ttotal: 1m 50s\tremaining: 8.07s\n",
      "932:\tlearn: 0.2518063\ttotal: 1m 50s\tremaining: 7.95s\n",
      "933:\tlearn: 0.2517863\ttotal: 1m 50s\tremaining: 7.83s\n",
      "934:\tlearn: 0.2517672\ttotal: 1m 50s\tremaining: 7.71s\n",
      "935:\tlearn: 0.2517470\ttotal: 1m 51s\tremaining: 7.59s\n",
      "936:\tlearn: 0.2515781\ttotal: 1m 51s\tremaining: 7.48s\n",
      "937:\tlearn: 0.2515541\ttotal: 1m 51s\tremaining: 7.36s\n",
      "938:\tlearn: 0.2515315\ttotal: 1m 51s\tremaining: 7.24s\n",
      "939:\tlearn: 0.2514876\ttotal: 1m 51s\tremaining: 7.12s\n",
      "940:\tlearn: 0.2514460\ttotal: 1m 51s\tremaining: 7s\n",
      "941:\tlearn: 0.2514254\ttotal: 1m 51s\tremaining: 6.88s\n",
      "942:\tlearn: 0.2514090\ttotal: 1m 51s\tremaining: 6.76s\n",
      "943:\tlearn: 0.2513895\ttotal: 1m 52s\tremaining: 6.65s\n",
      "944:\tlearn: 0.2513293\ttotal: 1m 52s\tremaining: 6.53s\n",
      "945:\tlearn: 0.2513035\ttotal: 1m 52s\tremaining: 6.41s\n",
      "946:\tlearn: 0.2512740\ttotal: 1m 52s\tremaining: 6.29s\n",
      "947:\tlearn: 0.2511932\ttotal: 1m 52s\tremaining: 6.17s\n",
      "948:\tlearn: 0.2511775\ttotal: 1m 52s\tremaining: 6.05s\n",
      "949:\tlearn: 0.2511495\ttotal: 1m 52s\tremaining: 5.93s\n",
      "950:\tlearn: 0.2511104\ttotal: 1m 52s\tremaining: 5.82s\n",
      "951:\tlearn: 0.2510838\ttotal: 1m 52s\tremaining: 5.7s\n",
      "952:\tlearn: 0.2510680\ttotal: 1m 53s\tremaining: 5.58s\n",
      "953:\tlearn: 0.2510534\ttotal: 1m 53s\tremaining: 5.46s\n",
      "954:\tlearn: 0.2510175\ttotal: 1m 53s\tremaining: 5.34s\n",
      "955:\tlearn: 0.2509038\ttotal: 1m 53s\tremaining: 5.22s\n",
      "956:\tlearn: 0.2508831\ttotal: 1m 53s\tremaining: 5.1s\n",
      "957:\tlearn: 0.2508690\ttotal: 1m 53s\tremaining: 4.99s\n",
      "958:\tlearn: 0.2508547\ttotal: 1m 53s\tremaining: 4.87s\n",
      "959:\tlearn: 0.2508387\ttotal: 1m 53s\tremaining: 4.75s\n",
      "960:\tlearn: 0.2508213\ttotal: 1m 54s\tremaining: 4.63s\n",
      "961:\tlearn: 0.2508086\ttotal: 1m 54s\tremaining: 4.51s\n",
      "962:\tlearn: 0.2507925\ttotal: 1m 54s\tremaining: 4.39s\n",
      "963:\tlearn: 0.2507767\ttotal: 1m 54s\tremaining: 4.27s\n",
      "964:\tlearn: 0.2507536\ttotal: 1m 54s\tremaining: 4.16s\n",
      "965:\tlearn: 0.2507386\ttotal: 1m 54s\tremaining: 4.04s\n",
      "966:\tlearn: 0.2507230\ttotal: 1m 54s\tremaining: 3.92s\n",
      "967:\tlearn: 0.2507081\ttotal: 1m 54s\tremaining: 3.8s\n",
      "968:\tlearn: 0.2506895\ttotal: 1m 55s\tremaining: 3.68s\n",
      "969:\tlearn: 0.2506589\ttotal: 1m 55s\tremaining: 3.56s\n",
      "970:\tlearn: 0.2506373\ttotal: 1m 55s\tremaining: 3.44s\n",
      "971:\tlearn: 0.2506097\ttotal: 1m 55s\tremaining: 3.32s\n",
      "972:\tlearn: 0.2505955\ttotal: 1m 55s\tremaining: 3.21s\n",
      "973:\tlearn: 0.2505777\ttotal: 1m 55s\tremaining: 3.09s\n",
      "974:\tlearn: 0.2505666\ttotal: 1m 55s\tremaining: 2.97s\n",
      "975:\tlearn: 0.2505444\ttotal: 1m 55s\tremaining: 2.85s\n",
      "976:\tlearn: 0.2505340\ttotal: 1m 56s\tremaining: 2.73s\n",
      "977:\tlearn: 0.2505173\ttotal: 1m 56s\tremaining: 2.61s\n",
      "978:\tlearn: 0.2504327\ttotal: 1m 56s\tremaining: 2.49s\n",
      "979:\tlearn: 0.2504214\ttotal: 1m 56s\tremaining: 2.38s\n",
      "980:\tlearn: 0.2503850\ttotal: 1m 56s\tremaining: 2.26s\n",
      "981:\tlearn: 0.2503650\ttotal: 1m 56s\tremaining: 2.14s\n",
      "982:\tlearn: 0.2503367\ttotal: 1m 56s\tremaining: 2.02s\n",
      "983:\tlearn: 0.2503157\ttotal: 1m 56s\tremaining: 1.9s\n",
      "984:\tlearn: 0.2502991\ttotal: 1m 56s\tremaining: 1.78s\n",
      "985:\tlearn: 0.2502630\ttotal: 1m 57s\tremaining: 1.66s\n",
      "986:\tlearn: 0.2502226\ttotal: 1m 57s\tremaining: 1.54s\n",
      "987:\tlearn: 0.2502023\ttotal: 1m 57s\tremaining: 1.43s\n",
      "988:\tlearn: 0.2501787\ttotal: 1m 57s\tremaining: 1.31s\n",
      "989:\tlearn: 0.2501556\ttotal: 1m 57s\tremaining: 1.19s\n",
      "990:\tlearn: 0.2501322\ttotal: 1m 57s\tremaining: 1.07s\n",
      "991:\tlearn: 0.2501113\ttotal: 1m 57s\tremaining: 950ms\n",
      "992:\tlearn: 0.2500285\ttotal: 1m 57s\tremaining: 831ms\n",
      "993:\tlearn: 0.2500087\ttotal: 1m 58s\tremaining: 712ms\n",
      "994:\tlearn: 0.2499780\ttotal: 1m 58s\tremaining: 594ms\n",
      "995:\tlearn: 0.2499611\ttotal: 1m 58s\tremaining: 475ms\n",
      "996:\tlearn: 0.2498805\ttotal: 1m 58s\tremaining: 356ms\n",
      "997:\tlearn: 0.2498565\ttotal: 1m 58s\tremaining: 237ms\n",
      "998:\tlearn: 0.2498445\ttotal: 1m 58s\tremaining: 119ms\n",
      "999:\tlearn: 0.2498329\ttotal: 1m 58s\tremaining: 0us\n"
     ]
    }
   ],
   "source": [
    "#### training\n",
    "model_names, model_pipelines = zip(*pipelines)\n",
    "metrics, weights = estimate_multiple_models(\n",
    "    model_pipelines,\n",
    "    lambda pipeline, _: estimate_model(\n",
    "        pipeline,\n",
    "        (X_train, X_test, y_train, y_test),\n",
    "    ),\n",
    "    model_names\n",
    ")"
   ]
  },
  {
   "cell_type": "code",
   "execution_count": 31,
   "metadata": {
    "pycharm": {
     "name": "#%%\n"
    }
   },
   "outputs": [
    {
     "data": {
      "text/plain": "set             train                                                    test  \\\nmetric       f1_score cohen_kappa_score precision_score recall_score f1_score   \nmodel                                                                           \nDummy_mean      0.676             0.000           0.600        0.775    0.674   \nDummy_median    0.632            -0.002           0.631        0.633    0.630   \nLinReg          0.919             0.794           0.924        0.929    0.879   \nXGB             0.936             0.834           0.941        0.939    0.891   \nLGBM            0.939             0.841           0.942        0.943    0.889   \nRFC             0.998             0.994           0.998        0.998    0.875   \nCatBoost        0.905             0.761           0.910        0.913    0.891   \n\nset                                                          \nmetric       cohen_kappa_score precision_score recall_score  \nmodel                                                        \nDummy_mean               0.000           0.598        0.773  \nDummy_median            -0.004           0.628        0.632  \nLinReg                   0.684           0.877        0.892  \nXGB                      0.725           0.890        0.899  \nLGBM                     0.719           0.887        0.898  \nRFC                      0.673           0.873        0.888  \nCatBoost                 0.727           0.891        0.900  ",
      "text/html": "<div>\n<style scoped>\n    .dataframe tbody tr th:only-of-type {\n        vertical-align: middle;\n    }\n\n    .dataframe tbody tr th {\n        vertical-align: top;\n    }\n\n    .dataframe thead tr th {\n        text-align: left;\n    }\n\n    .dataframe thead tr:last-of-type th {\n        text-align: right;\n    }\n</style>\n<table border=\"1\" class=\"dataframe\">\n  <thead>\n    <tr>\n      <th>set</th>\n      <th colspan=\"4\" halign=\"left\">train</th>\n      <th colspan=\"4\" halign=\"left\">test</th>\n    </tr>\n    <tr>\n      <th>metric</th>\n      <th>f1_score</th>\n      <th>cohen_kappa_score</th>\n      <th>precision_score</th>\n      <th>recall_score</th>\n      <th>f1_score</th>\n      <th>cohen_kappa_score</th>\n      <th>precision_score</th>\n      <th>recall_score</th>\n    </tr>\n    <tr>\n      <th>model</th>\n      <th></th>\n      <th></th>\n      <th></th>\n      <th></th>\n      <th></th>\n      <th></th>\n      <th></th>\n      <th></th>\n    </tr>\n  </thead>\n  <tbody>\n    <tr>\n      <th>Dummy_mean</th>\n      <td>0.676</td>\n      <td>0.000</td>\n      <td>0.600</td>\n      <td>0.775</td>\n      <td>0.674</td>\n      <td>0.000</td>\n      <td>0.598</td>\n      <td>0.773</td>\n    </tr>\n    <tr>\n      <th>Dummy_median</th>\n      <td>0.632</td>\n      <td>-0.002</td>\n      <td>0.631</td>\n      <td>0.633</td>\n      <td>0.630</td>\n      <td>-0.004</td>\n      <td>0.628</td>\n      <td>0.632</td>\n    </tr>\n    <tr>\n      <th>LinReg</th>\n      <td>0.919</td>\n      <td>0.794</td>\n      <td>0.924</td>\n      <td>0.929</td>\n      <td>0.879</td>\n      <td>0.684</td>\n      <td>0.877</td>\n      <td>0.892</td>\n    </tr>\n    <tr>\n      <th>XGB</th>\n      <td>0.936</td>\n      <td>0.834</td>\n      <td>0.941</td>\n      <td>0.939</td>\n      <td>0.891</td>\n      <td>0.725</td>\n      <td>0.890</td>\n      <td>0.899</td>\n    </tr>\n    <tr>\n      <th>LGBM</th>\n      <td>0.939</td>\n      <td>0.841</td>\n      <td>0.942</td>\n      <td>0.943</td>\n      <td>0.889</td>\n      <td>0.719</td>\n      <td>0.887</td>\n      <td>0.898</td>\n    </tr>\n    <tr>\n      <th>RFC</th>\n      <td>0.998</td>\n      <td>0.994</td>\n      <td>0.998</td>\n      <td>0.998</td>\n      <td>0.875</td>\n      <td>0.673</td>\n      <td>0.873</td>\n      <td>0.888</td>\n    </tr>\n    <tr>\n      <th>CatBoost</th>\n      <td>0.905</td>\n      <td>0.761</td>\n      <td>0.910</td>\n      <td>0.913</td>\n      <td>0.891</td>\n      <td>0.727</td>\n      <td>0.891</td>\n      <td>0.900</td>\n    </tr>\n  </tbody>\n</table>\n</div>"
     },
     "execution_count": 31,
     "metadata": {},
     "output_type": "execute_result"
    }
   ],
   "source": [
    "metrics"
   ]
  },
  {
   "cell_type": "code",
   "execution_count": 32,
   "metadata": {
    "pycharm": {
     "name": "#%%\n"
    }
   },
   "outputs": [
    {
     "name": "stdout",
     "output_type": "stream",
     "text": [
      "################################################################################\n",
      "Dummy_mean\n",
      "Not Supported\n",
      "################################################################################\n",
      "Dummy_median\n",
      "Not Supported\n",
      "################################################################################\n",
      "LinReg\n",
      "         weight\n",
      "feature        \n",
      "x1449     4.976\n",
      "x2929     4.571\n",
      "x2934     4.413\n",
      "x4700     3.834\n",
      "x1666     3.706\n",
      "...         ...\n",
      "x1449    -5.437\n",
      "x1666    -6.237\n",
      "x3397    -6.653\n",
      "x2000    -7.064\n",
      "x401    -14.010\n",
      "\n",
      "[14565 rows x 1 columns]\n",
      "################################################################################\n",
      "XGB\n",
      "Not Supported\n",
      "################################################################################\n",
      "LGBM\n",
      "             weight\n",
      "feature            \n",
      "Column_401    0.236\n",
      "Column_2000   0.135\n",
      "Column_3397   0.110\n",
      "Column_1449   0.049\n",
      "Column_2934   0.034\n",
      "...             ...\n",
      "Column_3101   0.000\n",
      "Column_3100   0.000\n",
      "Column_3099   0.000\n",
      "Column_3098   0.000\n",
      "Column_0      0.000\n",
      "\n",
      "[4854 rows x 1 columns]\n",
      "################################################################################\n",
      "RFC\n",
      "         weight\n",
      "feature        \n",
      "x401      0.097\n",
      "x2000     0.040\n",
      "x4402     0.038\n",
      "x396      0.030\n",
      "x3397     0.024\n",
      "...         ...\n",
      "x3043     0.000\n",
      "x3308     0.000\n",
      "x2297     0.000\n",
      "x1187     0.000\n",
      "x4177     0.000\n",
      "\n",
      "[4854 rows x 1 columns]\n",
      "################################################################################\n",
      "CatBoost\n",
      "         weight\n",
      "feature        \n",
      "401       0.405\n",
      "2000      0.140\n",
      "3397      0.098\n",
      "2929      0.050\n",
      "1666      0.047\n",
      "...         ...\n",
      "3079      0.000\n",
      "3078      0.000\n",
      "3076      0.000\n",
      "3075      0.000\n",
      "0         0.000\n",
      "\n",
      "[4854 rows x 1 columns]\n"
     ]
    }
   ],
   "source": [
    "for name, _ in pipelines:\n",
    "    try:\n",
    "        print(\"#\" * 80)\n",
    "        print(name)\n",
    "        print(weights.loc[name])\n",
    "    except KeyError:\n",
    "        print('Not Supported')"
   ]
  },
  {
   "cell_type": "code",
   "execution_count": 47,
   "outputs": [],
   "source": [
    "final_pipeline_1 = Pipeline([\n",
    "    ('NLP', nlp),\n",
    "    ('regressor', rfc[-1])\n",
    "])\n",
    "\n",
    "final_pipeline_2 = Pipeline([\n",
    "    ('NLP', nlp),\n",
    "    ('regressor', lgbm[-1])\n",
    "])\n",
    "\n",
    "final_pipeline_3 = Pipeline([\n",
    "    ('NLP', nlp),\n",
    "    ('regressor', ctb[-1])\n",
    "])\n",
    "\n",
    "final_pipeline_4 = Pipeline([\n",
    "    ('NLP', nlp),\n",
    "    ('regressor', lr[-1])\n",
    "])\n",
    "\n",
    "final_pipeline_5 = Pipeline([\n",
    "    ('NLP', nlp),\n",
    "    ('regressor', xgb[-1])\n",
    "])"
   ],
   "metadata": {
    "collapsed": false,
    "pycharm": {
     "name": "#%%\n"
    }
   }
  },
  {
   "cell_type": "code",
   "execution_count": 34,
   "outputs": [
    {
     "data": {
      "text/plain": "Pipeline(steps=[('NLP',\n                 Pipeline(steps=[('cleaning', TextCleaner()),\n                                 ('series_converter', SeriesConverter()),\n                                 ('vectorization',\n                                  TfidfVectorizer(max_df=0.7, min_df=3))])),\n                ('regressor',\n                 <catboost.core.CatBoostClassifier object at 0x0000027B4D990C70>)])",
      "text/html": "<style>#sk-container-id-1 {color: black;background-color: white;}#sk-container-id-1 pre{padding: 0;}#sk-container-id-1 div.sk-toggleable {background-color: white;}#sk-container-id-1 label.sk-toggleable__label {cursor: pointer;display: block;width: 100%;margin-bottom: 0;padding: 0.3em;box-sizing: border-box;text-align: center;}#sk-container-id-1 label.sk-toggleable__label-arrow:before {content: \"▸\";float: left;margin-right: 0.25em;color: #696969;}#sk-container-id-1 label.sk-toggleable__label-arrow:hover:before {color: black;}#sk-container-id-1 div.sk-estimator:hover label.sk-toggleable__label-arrow:before {color: black;}#sk-container-id-1 div.sk-toggleable__content {max-height: 0;max-width: 0;overflow: hidden;text-align: left;background-color: #f0f8ff;}#sk-container-id-1 div.sk-toggleable__content pre {margin: 0.2em;color: black;border-radius: 0.25em;background-color: #f0f8ff;}#sk-container-id-1 input.sk-toggleable__control:checked~div.sk-toggleable__content {max-height: 200px;max-width: 100%;overflow: auto;}#sk-container-id-1 input.sk-toggleable__control:checked~label.sk-toggleable__label-arrow:before {content: \"▾\";}#sk-container-id-1 div.sk-estimator input.sk-toggleable__control:checked~label.sk-toggleable__label {background-color: #d4ebff;}#sk-container-id-1 div.sk-label input.sk-toggleable__control:checked~label.sk-toggleable__label {background-color: #d4ebff;}#sk-container-id-1 input.sk-hidden--visually {border: 0;clip: rect(1px 1px 1px 1px);clip: rect(1px, 1px, 1px, 1px);height: 1px;margin: -1px;overflow: hidden;padding: 0;position: absolute;width: 1px;}#sk-container-id-1 div.sk-estimator {font-family: monospace;background-color: #f0f8ff;border: 1px dotted black;border-radius: 0.25em;box-sizing: border-box;margin-bottom: 0.5em;}#sk-container-id-1 div.sk-estimator:hover {background-color: #d4ebff;}#sk-container-id-1 div.sk-parallel-item::after {content: \"\";width: 100%;border-bottom: 1px solid gray;flex-grow: 1;}#sk-container-id-1 div.sk-label:hover label.sk-toggleable__label {background-color: #d4ebff;}#sk-container-id-1 div.sk-serial::before {content: \"\";position: absolute;border-left: 1px solid gray;box-sizing: border-box;top: 0;bottom: 0;left: 50%;z-index: 0;}#sk-container-id-1 div.sk-serial {display: flex;flex-direction: column;align-items: center;background-color: white;padding-right: 0.2em;padding-left: 0.2em;position: relative;}#sk-container-id-1 div.sk-item {position: relative;z-index: 1;}#sk-container-id-1 div.sk-parallel {display: flex;align-items: stretch;justify-content: center;background-color: white;position: relative;}#sk-container-id-1 div.sk-item::before, #sk-container-id-1 div.sk-parallel-item::before {content: \"\";position: absolute;border-left: 1px solid gray;box-sizing: border-box;top: 0;bottom: 0;left: 50%;z-index: -1;}#sk-container-id-1 div.sk-parallel-item {display: flex;flex-direction: column;z-index: 1;position: relative;background-color: white;}#sk-container-id-1 div.sk-parallel-item:first-child::after {align-self: flex-end;width: 50%;}#sk-container-id-1 div.sk-parallel-item:last-child::after {align-self: flex-start;width: 50%;}#sk-container-id-1 div.sk-parallel-item:only-child::after {width: 0;}#sk-container-id-1 div.sk-dashed-wrapped {border: 1px dashed gray;margin: 0 0.4em 0.5em 0.4em;box-sizing: border-box;padding-bottom: 0.4em;background-color: white;}#sk-container-id-1 div.sk-label label {font-family: monospace;font-weight: bold;display: inline-block;line-height: 1.2em;}#sk-container-id-1 div.sk-label-container {text-align: center;}#sk-container-id-1 div.sk-container {/* jupyter's `normalize.less` sets `[hidden] { display: none; }` but bootstrap.min.css set `[hidden] { display: none !important; }` so we also need the `!important` here to be able to override the default hidden behavior on the sphinx rendered scikit-learn.org. See: https://github.com/scikit-learn/scikit-learn/issues/21755 */display: inline-block !important;position: relative;}#sk-container-id-1 div.sk-text-repr-fallback {display: none;}</style><div id=\"sk-container-id-1\" class=\"sk-top-container\"><div class=\"sk-text-repr-fallback\"><pre>Pipeline(steps=[(&#x27;NLP&#x27;,\n                 Pipeline(steps=[(&#x27;cleaning&#x27;, TextCleaner()),\n                                 (&#x27;series_converter&#x27;, SeriesConverter()),\n                                 (&#x27;vectorization&#x27;,\n                                  TfidfVectorizer(max_df=0.7, min_df=3))])),\n                (&#x27;regressor&#x27;,\n                 &lt;catboost.core.CatBoostClassifier object at 0x0000027B4D990C70&gt;)])</pre><b>In a Jupyter environment, please rerun this cell to show the HTML representation or trust the notebook. <br />On GitHub, the HTML representation is unable to render, please try loading this page with nbviewer.org.</b></div><div class=\"sk-container\" hidden><div class=\"sk-item sk-dashed-wrapped\"><div class=\"sk-label-container\"><div class=\"sk-label sk-toggleable\"><input class=\"sk-toggleable__control sk-hidden--visually\" id=\"sk-estimator-id-1\" type=\"checkbox\" ><label for=\"sk-estimator-id-1\" class=\"sk-toggleable__label sk-toggleable__label-arrow\">Pipeline</label><div class=\"sk-toggleable__content\"><pre>Pipeline(steps=[(&#x27;NLP&#x27;,\n                 Pipeline(steps=[(&#x27;cleaning&#x27;, TextCleaner()),\n                                 (&#x27;series_converter&#x27;, SeriesConverter()),\n                                 (&#x27;vectorization&#x27;,\n                                  TfidfVectorizer(max_df=0.7, min_df=3))])),\n                (&#x27;regressor&#x27;,\n                 &lt;catboost.core.CatBoostClassifier object at 0x0000027B4D990C70&gt;)])</pre></div></div></div><div class=\"sk-serial\"><div class=\"sk-item\"><div class=\"sk-label-container\"><div class=\"sk-label sk-toggleable\"><input class=\"sk-toggleable__control sk-hidden--visually\" id=\"sk-estimator-id-2\" type=\"checkbox\" ><label for=\"sk-estimator-id-2\" class=\"sk-toggleable__label sk-toggleable__label-arrow\">NLP: Pipeline</label><div class=\"sk-toggleable__content\"><pre>Pipeline(steps=[(&#x27;cleaning&#x27;, TextCleaner()),\n                (&#x27;series_converter&#x27;, SeriesConverter()),\n                (&#x27;vectorization&#x27;, TfidfVectorizer(max_df=0.7, min_df=3))])</pre></div></div></div><div class=\"sk-serial\"><div class=\"sk-item\"><div class=\"sk-estimator sk-toggleable\"><input class=\"sk-toggleable__control sk-hidden--visually\" id=\"sk-estimator-id-3\" type=\"checkbox\" ><label for=\"sk-estimator-id-3\" class=\"sk-toggleable__label sk-toggleable__label-arrow\">TextCleaner</label><div class=\"sk-toggleable__content\"><pre>TextCleaner()</pre></div></div></div><div class=\"sk-item\"><div class=\"sk-estimator sk-toggleable\"><input class=\"sk-toggleable__control sk-hidden--visually\" id=\"sk-estimator-id-4\" type=\"checkbox\" ><label for=\"sk-estimator-id-4\" class=\"sk-toggleable__label sk-toggleable__label-arrow\">SeriesConverter</label><div class=\"sk-toggleable__content\"><pre>SeriesConverter()</pre></div></div></div><div class=\"sk-item\"><div class=\"sk-estimator sk-toggleable\"><input class=\"sk-toggleable__control sk-hidden--visually\" id=\"sk-estimator-id-5\" type=\"checkbox\" ><label for=\"sk-estimator-id-5\" class=\"sk-toggleable__label sk-toggleable__label-arrow\">TfidfVectorizer</label><div class=\"sk-toggleable__content\"><pre>TfidfVectorizer(max_df=0.7, min_df=3)</pre></div></div></div></div></div><div class=\"sk-item\"><div class=\"sk-estimator sk-toggleable\"><input class=\"sk-toggleable__control sk-hidden--visually\" id=\"sk-estimator-id-6\" type=\"checkbox\" ><label for=\"sk-estimator-id-6\" class=\"sk-toggleable__label sk-toggleable__label-arrow\">CatBoostClassifier</label><div class=\"sk-toggleable__content\"><pre>&lt;catboost.core.CatBoostClassifier object at 0x0000027B4D990C70&gt;</pre></div></div></div></div></div></div></div>"
     },
     "execution_count": 34,
     "metadata": {},
     "output_type": "execute_result"
    }
   ],
   "source": [
    "final_pipeline_3"
   ],
   "metadata": {
    "collapsed": false,
    "pycharm": {
     "name": "#%%\n"
    }
   }
  },
  {
   "cell_type": "code",
   "execution_count": 35,
   "outputs": [
    {
     "data": {
      "text/plain": "array([[5.66561594e-02, 3.89024833e-01, 5.54319008e-01],\n       [5.79087915e-02, 3.82691410e-01, 5.59399798e-01],\n       [1.82251626e-02, 9.81689059e-01, 8.57787670e-05],\n       [7.37499589e-02, 3.31598735e-01, 5.94651306e-01]])"
     },
     "execution_count": 35,
     "metadata": {},
     "output_type": "execute_result"
    }
   ],
   "source": [
    "final_pipeline_3.predict_proba(pd.DataFrame({\n",
    "    'tweet': [\n",
    "        'Sasha goes to Mannheim University',\n",
    "        '@Danylo will create a great application',\n",
    "        '@You bitch suck a dick fuck you shit in your ass',\n",
    "        'He will break it',\n",
    "    ]}))"
   ],
   "metadata": {
    "collapsed": false,
    "pycharm": {
     "name": "#%%\n"
    }
   }
  },
  {
   "cell_type": "code",
   "execution_count": 51,
   "outputs": [],
   "source": [
    "from src.common.validation.metrics import aggregate_metrics\n",
    "from src.common.prediction_model.persistence import FsModelPersistence\n",
    "from src.common.prediction_model.prediction_model import ModelContainer, ModelMetadata\n",
    "\n",
    "container = ModelContainer.create(\n",
    "    pipeline_name='l1_data2_lgbm_clf',\n",
    "    pipeline=final_pipeline_2,\n",
    "    feature_names=[],\n",
    "    metadata=ModelMetadata(\n",
    "        model_name=str(final_pipeline_2.__class__.__name__),\n",
    "        **aggregate_metrics(metrics)['test'].loc[\"LGBM\"]\n",
    "    )\n",
    ")"
   ],
   "metadata": {
    "collapsed": false,
    "pycharm": {
     "name": "#%%\n"
    }
   }
  },
  {
   "cell_type": "code",
   "execution_count": 52,
   "outputs": [],
   "source": [
    "# %%\n",
    "persistor = FsModelPersistence()\n",
    "name = persistor.save(container)"
   ],
   "metadata": {
    "collapsed": false,
    "pycharm": {
     "name": "#%%\n"
    }
   }
  },
  {
   "cell_type": "code",
   "execution_count": 53,
   "outputs": [
    {
     "data": {
      "text/plain": "'l1_data2_lgbm_clf_Pipeline_2023-05-23.bin.gz'"
     },
     "execution_count": 53,
     "metadata": {},
     "output_type": "execute_result"
    }
   ],
   "source": [
    "name"
   ],
   "metadata": {
    "collapsed": false,
    "pycharm": {
     "name": "#%%\n"
    }
   }
  },
  {
   "cell_type": "code",
   "execution_count": 54,
   "outputs": [],
   "source": [],
   "metadata": {
    "collapsed": false,
    "pycharm": {
     "name": "#%%\n"
    }
   }
  },
  {
   "cell_type": "markdown",
   "source": [
    "#### Hyperparameter optimization"
   ],
   "metadata": {
    "collapsed": false,
    "pycharm": {
     "name": "#%% md\n"
    }
   }
  },
  {
   "cell_type": "code",
   "execution_count": 18,
   "outputs": [],
   "source": [
    "from sklearn.model_selection import GridSearchCV\n",
    "import time\n"
   ],
   "metadata": {
    "collapsed": false,
    "pycharm": {
     "name": "#%%\n"
    }
   }
  },
  {
   "cell_type": "code",
   "execution_count": 21,
   "outputs": [
    {
     "data": {
      "text/plain": "\"\\nBest parameters:  {'max_depth': None, 'min_samples_leaf': 1, 'min_samples_split': 10, 'n_estimators': 200}\\nBest accuracy:  0.8954683485167018\\nComputation tmie: 49.068764209747314\\n\""
     },
     "execution_count": 21,
     "metadata": {},
     "output_type": "execute_result"
    }
   ],
   "source": [
    "\n",
    "# Define the parameter grid to search over\n",
    "param_grid = {\n",
    "    'n_estimators': [20, 50, 100, 200],\n",
    "    'max_depth': [None, 2, 5, 10],\n",
    "    'min_samples_split': [2, 5, 10],\n",
    "    'min_samples_leaf': [1, 2, 4],\n",
    "}\n",
    "\n",
    "# Create a RandomForestClassifier object\n",
    "model = RandomForestClassifier()\n",
    "\n",
    "\"\"\"\n",
    "Best parameters:  {'max_depth': None, 'min_samples_leaf': 1, 'min_samples_split': 10, 'n_estimators': 200}\n",
    "Best accuracy:  0.8954683485167018\n",
    "Computation tmie: 49.068764209747314\n",
    "\"\"\""
   ],
   "metadata": {
    "collapsed": false,
    "pycharm": {
     "name": "#%%\n"
    }
   }
  },
  {
   "cell_type": "code",
   "execution_count": 21,
   "outputs": [
    {
     "data": {
      "text/plain": "'\\n\\n'"
     },
     "execution_count": 21,
     "metadata": {},
     "output_type": "execute_result"
    }
   ],
   "source": [
    "# Define the parameter grid to search over\n",
    "param_grid = {\n",
    "    'boosting_type': ['gbdt', 'dart', 'goss'],  # Different boosting types\n",
    "    'num_leaves': [20, 30, 40],  # Maximum number of leaves in one tree\n",
    "    'learning_rate': [0.1, 0.01, 0.001],  # Learning rate for boosting\n",
    "    'n_estimators': [100, 200, 300],  # Number of boosting iterations\n",
    "    # 'subsample': [0.8, 0.9, 1.0],  # Subsample ratio of the training instances\n",
    "    # 'colsample_bytree': [0.8, 0.9, 1.0],  # Subsample ratio of columns when constructing each tree\n",
    "    # 'reg_alpha': [0.0, 0.1, 0.5],  # L1 regularization term on weights\n",
    "    # 'reg_lambda': [0.0, 0.1, 0.5],  # L2 regularization term on weights\n",
    "    # 'min_child_samples': [20, 50, 100]  # Minimum number of data needed in a child (leaf)\n",
    "}\n",
    "\n",
    "model = LGBMClassifier(device=\"gpu\")\n",
    "\"\"\"\n",
    "Best parameters:  {'boosting_type': 'dart', 'learning_rate': 0.1, 'n_estimators': 100, 'num_leaves': 20}\n",
    "Best accuracy:  0.8933660359729035\n",
    "Computation tmie: 375.2135384082794\n",
    "\"\"\""
   ],
   "metadata": {
    "collapsed": false,
    "pycharm": {
     "name": "#%%\n"
    }
   }
  },
  {
   "cell_type": "code",
   "execution_count": 22,
   "outputs": [
    {
     "name": "stdout",
     "output_type": "stream",
     "text": [
      "Best parameters:  {'boosting_type': 'dart', 'learning_rate': 0.1, 'n_estimators': 100, 'num_leaves': 20}\n",
      "Best accuracy:  0.8933660359729035\n",
      "Computation tmie: 375.2135384082794\n"
     ]
    }
   ],
   "source": [
    "# Create a GridSearchCV object and fit the data\n",
    "start = time.time()\n",
    "grid_search = GridSearchCV(model, param_grid=param_grid, cv=3, n_jobs=-1)\n",
    "grid_search.fit(X_train, y_train)\n",
    "\n",
    "# Print the best hyperparameters and accuracy score\n",
    "print(\"Best parameters: \", grid_search.best_params_)\n",
    "print(\"Best accuracy: \", grid_search.best_score_)\n",
    "end = time.time()\n",
    "print(f\"Computation tmie: {end - start}\")"
   ],
   "metadata": {
    "collapsed": false,
    "pycharm": {
     "name": "#%%\n"
    }
   }
  },
  {
   "cell_type": "code",
   "execution_count": 16,
   "outputs": [],
   "source": [
    "param_grid = {\n",
    "    'max_depth': [3, 6, 9],\n",
    "    'learning_rate': [0.01, 0.05, 0.1],\n",
    "    'n_estimators': [100, 200, 300],\n",
    "    'min_child_weight': [1, 3, 5],\n",
    "}\n",
    "\n",
    "model = XGBClassifier(tree_method='gpu_hist')\n",
    "\n",
    "\n",
    "\"\"\"\n",
    "Best parameters:  {'learning_rate': 0.01, 'max_depth': 9, 'min_child_weight': 3, 'n_estimators': 300}\n",
    "Best accuracy:  0.8903293622985284\n",
    "Computation tmie: 519.5483028888702\n",
    "\"\"\""
   ],
   "metadata": {
    "collapsed": false,
    "pycharm": {
     "name": "#%%\n"
    }
   }
  },
  {
   "cell_type": "code",
   "execution_count": null,
   "outputs": [],
   "source": [],
   "metadata": {
    "collapsed": false,
    "pycharm": {
     "name": "#%%\n"
    }
   }
  }
 ],
 "metadata": {
  "kernelspec": {
   "display_name": "Python 3 (ipykernel)",
   "language": "python",
   "name": "python3"
  },
  "language_info": {
   "codemirror_mode": {
    "name": "ipython",
    "version": 3
   },
   "file_extension": ".py",
   "mimetype": "text/x-python",
   "name": "python",
   "nbconvert_exporter": "python",
   "pygments_lexer": "ipython3",
   "version": "3.10.9"
  },
  "vscode": {
   "interpreter": {
    "hash": "7f55550e77323d67b6ecc193cd2e5d66a57e017d7db72e2119e5097fca24649a"
   }
  }
 },
 "nbformat": 4,
 "nbformat_minor": 2
}