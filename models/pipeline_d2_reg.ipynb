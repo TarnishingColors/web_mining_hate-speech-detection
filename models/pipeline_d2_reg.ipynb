{
 "cells": [
  {
   "cell_type": "code",
   "execution_count": 18,
   "metadata": {
    "pycharm": {
     "name": "#%%\n"
    }
   },
   "outputs": [],
   "source": [
    "import pandas as pd\n",
    "from catboost import CatBoostRegressor\n",
    "from lightgbm import LGBMRegressor\n",
    "from matplotlib import pyplot as plt\n",
    "from sklearn.dummy import DummyRegressor\n",
    "from sklearn.pipeline import make_pipeline\n",
    "from xgboost import XGBRegressor\n",
    "from sklearn.linear_model import LinearRegression\n",
    "from sklearn.ensemble import RandomForestRegressor"
   ]
  },
  {
   "cell_type": "code",
   "execution_count": 2,
   "metadata": {
    "pycharm": {
     "name": "#%%\n"
    }
   },
   "outputs": [],
   "source": [
    "plt.rcParams['figure.facecolor'] = 'white'"
   ]
  },
  {
   "cell_type": "code",
   "execution_count": 3,
   "metadata": {
    "pycharm": {
     "name": "#%%\n"
    }
   },
   "outputs": [],
   "source": [
    "%load_ext autoreload\n",
    "%autoreload 2"
   ]
  },
  {
   "cell_type": "markdown",
   "metadata": {
    "pycharm": {
     "name": "#%% md\n"
    }
   },
   "source": [
    "#### Loading data"
   ]
  },
  {
   "cell_type": "code",
   "execution_count": 4,
   "metadata": {
    "pycharm": {
     "name": "#%%\n"
    }
   },
   "outputs": [],
   "source": [
    "data = pd.read_csv('data2.csv', index_col=0)"
   ]
  },
  {
   "cell_type": "code",
   "execution_count": 6,
   "metadata": {
    "pycharm": {
     "name": "#%%\n"
    }
   },
   "outputs": [
    {
     "data": {
      "text/plain": [
       "0    19790\n",
       "1     3419\n",
       "2     1251\n",
       "3      287\n",
       "4       21\n",
       "5        7\n",
       "6        5\n",
       "7        3\n",
       "Name: hate_speech, dtype: int64"
      ]
     },
     "execution_count": 6,
     "metadata": {},
     "output_type": "execute_result"
    }
   ],
   "source": [
    "data['hate_speech'].value_counts()"
   ]
  },
  {
   "cell_type": "code",
   "execution_count": 7,
   "metadata": {
    "pycharm": {
     "name": "#%%\n"
    }
   },
   "outputs": [
    {
     "data": {
      "text/plain": [
       "3    13383\n",
       "2     4246\n",
       "0     3475\n",
       "1     2066\n",
       "6      857\n",
       "5      369\n",
       "4      251\n",
       "9       66\n",
       "8       37\n",
       "7       33\n",
       "Name: offensive_language, dtype: int64"
      ]
     },
     "execution_count": 7,
     "metadata": {},
     "output_type": "execute_result"
    }
   ],
   "source": [
    "data['offensive_language'].value_counts()"
   ]
  },
  {
   "cell_type": "code",
   "execution_count": 8,
   "metadata": {
    "pycharm": {
     "name": "#%%\n"
    }
   },
   "outputs": [
    {
     "data": {
      "text/html": [
       "<div>\n",
       "<style scoped>\n",
       "    .dataframe tbody tr th:only-of-type {\n",
       "        vertical-align: middle;\n",
       "    }\n",
       "\n",
       "    .dataframe tbody tr th {\n",
       "        vertical-align: top;\n",
       "    }\n",
       "\n",
       "    .dataframe thead th {\n",
       "        text-align: right;\n",
       "    }\n",
       "</style>\n",
       "<table border=\"1\" class=\"dataframe\">\n",
       "  <thead>\n",
       "    <tr style=\"text-align: right;\">\n",
       "      <th></th>\n",
       "      <th>count</th>\n",
       "      <th>hate_speech</th>\n",
       "      <th>offensive_language</th>\n",
       "      <th>neither</th>\n",
       "      <th>class</th>\n",
       "      <th>tweet</th>\n",
       "    </tr>\n",
       "  </thead>\n",
       "  <tbody>\n",
       "    <tr>\n",
       "      <th>0</th>\n",
       "      <td>3</td>\n",
       "      <td>0</td>\n",
       "      <td>0</td>\n",
       "      <td>3</td>\n",
       "      <td>2</td>\n",
       "      <td>!!! RT @mayasolovely: As a woman you shouldn't...</td>\n",
       "    </tr>\n",
       "    <tr>\n",
       "      <th>1</th>\n",
       "      <td>3</td>\n",
       "      <td>0</td>\n",
       "      <td>3</td>\n",
       "      <td>0</td>\n",
       "      <td>1</td>\n",
       "      <td>!!!!! RT @mleew17: boy dats cold...tyga dwn ba...</td>\n",
       "    </tr>\n",
       "    <tr>\n",
       "      <th>2</th>\n",
       "      <td>3</td>\n",
       "      <td>0</td>\n",
       "      <td>3</td>\n",
       "      <td>0</td>\n",
       "      <td>1</td>\n",
       "      <td>!!!!!!! RT @UrKindOfBrand Dawg!!!! RT @80sbaby...</td>\n",
       "    </tr>\n",
       "    <tr>\n",
       "      <th>3</th>\n",
       "      <td>3</td>\n",
       "      <td>0</td>\n",
       "      <td>2</td>\n",
       "      <td>1</td>\n",
       "      <td>1</td>\n",
       "      <td>!!!!!!!!! RT @C_G_Anderson: @viva_based she lo...</td>\n",
       "    </tr>\n",
       "    <tr>\n",
       "      <th>4</th>\n",
       "      <td>6</td>\n",
       "      <td>0</td>\n",
       "      <td>6</td>\n",
       "      <td>0</td>\n",
       "      <td>1</td>\n",
       "      <td>!!!!!!!!!!!!! RT @ShenikaRoberts: The shit you...</td>\n",
       "    </tr>\n",
       "  </tbody>\n",
       "</table>\n",
       "</div>"
      ],
      "text/plain": [
       "   count  hate_speech  offensive_language  neither  class  \\\n",
       "0      3            0                   0        3      2   \n",
       "1      3            0                   3        0      1   \n",
       "2      3            0                   3        0      1   \n",
       "3      3            0                   2        1      1   \n",
       "4      6            0                   6        0      1   \n",
       "\n",
       "                                               tweet  \n",
       "0  !!! RT @mayasolovely: As a woman you shouldn't...  \n",
       "1  !!!!! RT @mleew17: boy dats cold...tyga dwn ba...  \n",
       "2  !!!!!!! RT @UrKindOfBrand Dawg!!!! RT @80sbaby...  \n",
       "3  !!!!!!!!! RT @C_G_Anderson: @viva_based she lo...  \n",
       "4  !!!!!!!!!!!!! RT @ShenikaRoberts: The shit you...  "
      ]
     },
     "execution_count": 8,
     "metadata": {},
     "output_type": "execute_result"
    }
   ],
   "source": [
    "data.head()"
   ]
  },
  {
   "cell_type": "code",
   "execution_count": 9,
   "metadata": {
    "pycharm": {
     "name": "#%%\n"
    }
   },
   "outputs": [],
   "source": [
    "data_sample = pd.DataFrame({\n",
    "    'tweet': [\n",
    "        'Sasha goes to Mannheim University',\n",
    "        'Danylo will create a great application',\n",
    "        'Danylo will not create a great application',\n",
    "        'Dasha didnt fulfill her task'\n",
    "    ],\n",
    "    'class': [1, 1, 0, 0]\n",
    "})"
   ]
  },
  {
   "cell_type": "markdown",
   "metadata": {
    "pycharm": {
     "name": "#%% md\n"
    }
   },
   "source": [
    "#### Preprocessing"
   ]
  },
  {
   "cell_type": "code",
   "execution_count": 10,
   "metadata": {
    "pycharm": {
     "name": "#%%\n"
    }
   },
   "outputs": [
    {
     "name": "stderr",
     "output_type": "stream",
     "text": [
      "[nltk_data] Downloading package stopwords to\n",
      "[nltk_data]     C:\\Users\\dzmit\\AppData\\Roaming\\nltk_data...\n",
      "[nltk_data]   Package stopwords is already up-to-date!\n",
      "[nltk_data] Downloading package punkt to\n",
      "[nltk_data]     C:\\Users\\dzmit\\AppData\\Roaming\\nltk_data...\n",
      "[nltk_data]   Package punkt is already up-to-date!\n",
      "[nltk_data] Downloading package averaged_perceptron_tagger to\n",
      "[nltk_data]     C:\\Users\\dzmit\\AppData\\Roaming\\nltk_data...\n",
      "[nltk_data]   Package averaged_perceptron_tagger is already up-to-\n",
      "[nltk_data]       date!\n",
      "[nltk_data] Downloading package wordnet to\n",
      "[nltk_data]     C:\\Users\\dzmit\\AppData\\Roaming\\nltk_data...\n",
      "[nltk_data]   Package wordnet is already up-to-date!\n",
      "[nltk_data] Downloading package vader_lexicon to\n",
      "[nltk_data]     C:\\Users\\dzmit\\AppData\\Roaming\\nltk_data...\n",
      "[nltk_data]   Package vader_lexicon is already up-to-date!\n"
     ]
    }
   ],
   "source": [
    "from sklearn.pipeline import Pipeline\n",
    "from notebooks.Dzim.web_mining.bert_processor import TextCleaner, SeriesConverter\n",
    "from sklearn.feature_extraction.text import TfidfVectorizer\n",
    "from sklearn.model_selection import train_test_split\n",
    "from notebooks.Dzim.web_mining.feature_generation import FeatureGenerator"
   ]
  },
  {
   "cell_type": "code",
   "execution_count": 41,
   "metadata": {
    "pycharm": {
     "name": "#%%\n"
    }
   },
   "outputs": [],
   "source": [
    "target = 'offensive_language'"
   ]
  },
  {
   "cell_type": "code",
   "execution_count": 42,
   "metadata": {
    "pycharm": {
     "name": "#%%\n"
    }
   },
   "outputs": [],
   "source": [
    "# Split the data into train and test sets\n",
    "data_train, data_test, y_train, y_test = train_test_split(data[['tweet']], data[target], test_size=0.2, random_state=42)"
   ]
  },
  {
   "cell_type": "code",
   "execution_count": 43,
   "metadata": {
    "pycharm": {
     "name": "#%%\n"
    }
   },
   "outputs": [
    {
     "data": {
      "text/plain": [
       "((19826, 1), (4957, 1))"
      ]
     },
     "execution_count": 43,
     "metadata": {},
     "output_type": "execute_result"
    }
   ],
   "source": [
    "data_train.shape, data_test.shape"
   ]
  },
  {
   "cell_type": "code",
   "execution_count": 14,
   "metadata": {
    "pycharm": {
     "name": "#%%\n"
    }
   },
   "outputs": [],
   "source": [
    "# Define the pipeline\n",
    "nlp = Pipeline([\n",
    "    (\"cleaning\", TextCleaner()),\n",
    "    (\"series_converter\", SeriesConverter()),\n",
    "    (\"vectorization\", TfidfVectorizer(max_df=0.7, min_df=3)),\n",
    "])"
   ]
  },
  {
   "cell_type": "code",
   "execution_count": 15,
   "metadata": {
    "pycharm": {
     "name": "#%%\n"
    }
   },
   "outputs": [],
   "source": [
    "# Fit-transform the training data\n",
    "X_train = nlp.fit_transform(data_train)  #.toarray()"
   ]
  },
  {
   "cell_type": "code",
   "execution_count": 16,
   "metadata": {
    "pycharm": {
     "name": "#%%\n"
    }
   },
   "outputs": [],
   "source": [
    "# Transform the test data\n",
    "X_test = nlp.transform(data_test)"
   ]
  },
  {
   "cell_type": "markdown",
   "metadata": {
    "pycharm": {
     "name": "#%% md\n"
    }
   },
   "source": [
    "#### Models"
   ]
  },
  {
   "cell_type": "code",
   "execution_count": 44,
   "metadata": {
    "pycharm": {
     "name": "#%%\n"
    }
   },
   "outputs": [],
   "source": [
    "dummy_mean = make_pipeline(\n",
    "    DummyRegressor(strategy='mean'),\n",
    ")\n",
    "dummy_median = make_pipeline(\n",
    "    DummyRegressor(strategy='median'),\n",
    ")"
   ]
  },
  {
   "cell_type": "code",
   "execution_count": 45,
   "metadata": {
    "pycharm": {
     "name": "#%%\n"
    }
   },
   "outputs": [],
   "source": [
    "lr = make_pipeline(\n",
    "    LinearRegression(),\n",
    ")"
   ]
  },
  {
   "cell_type": "code",
   "execution_count": 46,
   "metadata": {
    "pycharm": {
     "name": "#%%\n"
    }
   },
   "outputs": [],
   "source": [
    "ctb = make_pipeline(\n",
    "    CatBoostRegressor()\n",
    ")\n",
    "xgb = make_pipeline(\n",
    "    XGBRegressor()\n",
    ")\n",
    "lgbm = make_pipeline(\n",
    "    LGBMRegressor()\n",
    ")\n",
    "rfc = make_pipeline(\n",
    "    RandomForestRegressor(),\n",
    ")"
   ]
  },
  {
   "cell_type": "code",
   "execution_count": 47,
   "metadata": {
    "pycharm": {
     "name": "#%%\n"
    }
   },
   "outputs": [],
   "source": [
    "model = lr"
   ]
  },
  {
   "cell_type": "code",
   "execution_count": 48,
   "metadata": {
    "pycharm": {
     "name": "#%%\n"
    }
   },
   "outputs": [
    {
     "data": {
      "text/html": [
       "<style>#sk-container-id-4 {color: black;background-color: white;}#sk-container-id-4 pre{padding: 0;}#sk-container-id-4 div.sk-toggleable {background-color: white;}#sk-container-id-4 label.sk-toggleable__label {cursor: pointer;display: block;width: 100%;margin-bottom: 0;padding: 0.3em;box-sizing: border-box;text-align: center;}#sk-container-id-4 label.sk-toggleable__label-arrow:before {content: \"▸\";float: left;margin-right: 0.25em;color: #696969;}#sk-container-id-4 label.sk-toggleable__label-arrow:hover:before {color: black;}#sk-container-id-4 div.sk-estimator:hover label.sk-toggleable__label-arrow:before {color: black;}#sk-container-id-4 div.sk-toggleable__content {max-height: 0;max-width: 0;overflow: hidden;text-align: left;background-color: #f0f8ff;}#sk-container-id-4 div.sk-toggleable__content pre {margin: 0.2em;color: black;border-radius: 0.25em;background-color: #f0f8ff;}#sk-container-id-4 input.sk-toggleable__control:checked~div.sk-toggleable__content {max-height: 200px;max-width: 100%;overflow: auto;}#sk-container-id-4 input.sk-toggleable__control:checked~label.sk-toggleable__label-arrow:before {content: \"▾\";}#sk-container-id-4 div.sk-estimator input.sk-toggleable__control:checked~label.sk-toggleable__label {background-color: #d4ebff;}#sk-container-id-4 div.sk-label input.sk-toggleable__control:checked~label.sk-toggleable__label {background-color: #d4ebff;}#sk-container-id-4 input.sk-hidden--visually {border: 0;clip: rect(1px 1px 1px 1px);clip: rect(1px, 1px, 1px, 1px);height: 1px;margin: -1px;overflow: hidden;padding: 0;position: absolute;width: 1px;}#sk-container-id-4 div.sk-estimator {font-family: monospace;background-color: #f0f8ff;border: 1px dotted black;border-radius: 0.25em;box-sizing: border-box;margin-bottom: 0.5em;}#sk-container-id-4 div.sk-estimator:hover {background-color: #d4ebff;}#sk-container-id-4 div.sk-parallel-item::after {content: \"\";width: 100%;border-bottom: 1px solid gray;flex-grow: 1;}#sk-container-id-4 div.sk-label:hover label.sk-toggleable__label {background-color: #d4ebff;}#sk-container-id-4 div.sk-serial::before {content: \"\";position: absolute;border-left: 1px solid gray;box-sizing: border-box;top: 0;bottom: 0;left: 50%;z-index: 0;}#sk-container-id-4 div.sk-serial {display: flex;flex-direction: column;align-items: center;background-color: white;padding-right: 0.2em;padding-left: 0.2em;position: relative;}#sk-container-id-4 div.sk-item {position: relative;z-index: 1;}#sk-container-id-4 div.sk-parallel {display: flex;align-items: stretch;justify-content: center;background-color: white;position: relative;}#sk-container-id-4 div.sk-item::before, #sk-container-id-4 div.sk-parallel-item::before {content: \"\";position: absolute;border-left: 1px solid gray;box-sizing: border-box;top: 0;bottom: 0;left: 50%;z-index: -1;}#sk-container-id-4 div.sk-parallel-item {display: flex;flex-direction: column;z-index: 1;position: relative;background-color: white;}#sk-container-id-4 div.sk-parallel-item:first-child::after {align-self: flex-end;width: 50%;}#sk-container-id-4 div.sk-parallel-item:last-child::after {align-self: flex-start;width: 50%;}#sk-container-id-4 div.sk-parallel-item:only-child::after {width: 0;}#sk-container-id-4 div.sk-dashed-wrapped {border: 1px dashed gray;margin: 0 0.4em 0.5em 0.4em;box-sizing: border-box;padding-bottom: 0.4em;background-color: white;}#sk-container-id-4 div.sk-label label {font-family: monospace;font-weight: bold;display: inline-block;line-height: 1.2em;}#sk-container-id-4 div.sk-label-container {text-align: center;}#sk-container-id-4 div.sk-container {/* jupyter's `normalize.less` sets `[hidden] { display: none; }` but bootstrap.min.css set `[hidden] { display: none !important; }` so we also need the `!important` here to be able to override the default hidden behavior on the sphinx rendered scikit-learn.org. See: https://github.com/scikit-learn/scikit-learn/issues/21755 */display: inline-block !important;position: relative;}#sk-container-id-4 div.sk-text-repr-fallback {display: none;}</style><div id=\"sk-container-id-4\" class=\"sk-top-container\"><div class=\"sk-text-repr-fallback\"><pre>Pipeline(steps=[(&#x27;linearregression&#x27;, LinearRegression())])</pre><b>In a Jupyter environment, please rerun this cell to show the HTML representation or trust the notebook. <br />On GitHub, the HTML representation is unable to render, please try loading this page with nbviewer.org.</b></div><div class=\"sk-container\" hidden><div class=\"sk-item sk-dashed-wrapped\"><div class=\"sk-label-container\"><div class=\"sk-label sk-toggleable\"><input class=\"sk-toggleable__control sk-hidden--visually\" id=\"sk-estimator-id-11\" type=\"checkbox\" ><label for=\"sk-estimator-id-11\" class=\"sk-toggleable__label sk-toggleable__label-arrow\">Pipeline</label><div class=\"sk-toggleable__content\"><pre>Pipeline(steps=[(&#x27;linearregression&#x27;, LinearRegression())])</pre></div></div></div><div class=\"sk-serial\"><div class=\"sk-item\"><div class=\"sk-estimator sk-toggleable\"><input class=\"sk-toggleable__control sk-hidden--visually\" id=\"sk-estimator-id-12\" type=\"checkbox\" ><label for=\"sk-estimator-id-12\" class=\"sk-toggleable__label sk-toggleable__label-arrow\">LinearRegression</label><div class=\"sk-toggleable__content\"><pre>LinearRegression()</pre></div></div></div></div></div></div></div>"
      ],
      "text/plain": [
       "Pipeline(steps=[('linearregression', LinearRegression())])"
      ]
     },
     "execution_count": 48,
     "metadata": {},
     "output_type": "execute_result"
    }
   ],
   "source": [
    "lr.fit(X_train, y_train)"
   ]
  },
  {
   "cell_type": "code",
   "execution_count": 24,
   "metadata": {
    "pycharm": {
     "name": "#%%\n"
    }
   },
   "outputs": [
    {
     "data": {
      "text/html": [
       "<style>#sk-container-id-2 {color: black;background-color: white;}#sk-container-id-2 pre{padding: 0;}#sk-container-id-2 div.sk-toggleable {background-color: white;}#sk-container-id-2 label.sk-toggleable__label {cursor: pointer;display: block;width: 100%;margin-bottom: 0;padding: 0.3em;box-sizing: border-box;text-align: center;}#sk-container-id-2 label.sk-toggleable__label-arrow:before {content: \"▸\";float: left;margin-right: 0.25em;color: #696969;}#sk-container-id-2 label.sk-toggleable__label-arrow:hover:before {color: black;}#sk-container-id-2 div.sk-estimator:hover label.sk-toggleable__label-arrow:before {color: black;}#sk-container-id-2 div.sk-toggleable__content {max-height: 0;max-width: 0;overflow: hidden;text-align: left;background-color: #f0f8ff;}#sk-container-id-2 div.sk-toggleable__content pre {margin: 0.2em;color: black;border-radius: 0.25em;background-color: #f0f8ff;}#sk-container-id-2 input.sk-toggleable__control:checked~div.sk-toggleable__content {max-height: 200px;max-width: 100%;overflow: auto;}#sk-container-id-2 input.sk-toggleable__control:checked~label.sk-toggleable__label-arrow:before {content: \"▾\";}#sk-container-id-2 div.sk-estimator input.sk-toggleable__control:checked~label.sk-toggleable__label {background-color: #d4ebff;}#sk-container-id-2 div.sk-label input.sk-toggleable__control:checked~label.sk-toggleable__label {background-color: #d4ebff;}#sk-container-id-2 input.sk-hidden--visually {border: 0;clip: rect(1px 1px 1px 1px);clip: rect(1px, 1px, 1px, 1px);height: 1px;margin: -1px;overflow: hidden;padding: 0;position: absolute;width: 1px;}#sk-container-id-2 div.sk-estimator {font-family: monospace;background-color: #f0f8ff;border: 1px dotted black;border-radius: 0.25em;box-sizing: border-box;margin-bottom: 0.5em;}#sk-container-id-2 div.sk-estimator:hover {background-color: #d4ebff;}#sk-container-id-2 div.sk-parallel-item::after {content: \"\";width: 100%;border-bottom: 1px solid gray;flex-grow: 1;}#sk-container-id-2 div.sk-label:hover label.sk-toggleable__label {background-color: #d4ebff;}#sk-container-id-2 div.sk-serial::before {content: \"\";position: absolute;border-left: 1px solid gray;box-sizing: border-box;top: 0;bottom: 0;left: 50%;z-index: 0;}#sk-container-id-2 div.sk-serial {display: flex;flex-direction: column;align-items: center;background-color: white;padding-right: 0.2em;padding-left: 0.2em;position: relative;}#sk-container-id-2 div.sk-item {position: relative;z-index: 1;}#sk-container-id-2 div.sk-parallel {display: flex;align-items: stretch;justify-content: center;background-color: white;position: relative;}#sk-container-id-2 div.sk-item::before, #sk-container-id-2 div.sk-parallel-item::before {content: \"\";position: absolute;border-left: 1px solid gray;box-sizing: border-box;top: 0;bottom: 0;left: 50%;z-index: -1;}#sk-container-id-2 div.sk-parallel-item {display: flex;flex-direction: column;z-index: 1;position: relative;background-color: white;}#sk-container-id-2 div.sk-parallel-item:first-child::after {align-self: flex-end;width: 50%;}#sk-container-id-2 div.sk-parallel-item:last-child::after {align-self: flex-start;width: 50%;}#sk-container-id-2 div.sk-parallel-item:only-child::after {width: 0;}#sk-container-id-2 div.sk-dashed-wrapped {border: 1px dashed gray;margin: 0 0.4em 0.5em 0.4em;box-sizing: border-box;padding-bottom: 0.4em;background-color: white;}#sk-container-id-2 div.sk-label label {font-family: monospace;font-weight: bold;display: inline-block;line-height: 1.2em;}#sk-container-id-2 div.sk-label-container {text-align: center;}#sk-container-id-2 div.sk-container {/* jupyter's `normalize.less` sets `[hidden] { display: none; }` but bootstrap.min.css set `[hidden] { display: none !important; }` so we also need the `!important` here to be able to override the default hidden behavior on the sphinx rendered scikit-learn.org. See: https://github.com/scikit-learn/scikit-learn/issues/21755 */display: inline-block !important;position: relative;}#sk-container-id-2 div.sk-text-repr-fallback {display: none;}</style><div id=\"sk-container-id-2\" class=\"sk-top-container\"><div class=\"sk-text-repr-fallback\"><pre>Pipeline(steps=[(&#x27;linearregression&#x27;, LinearRegression())])</pre><b>In a Jupyter environment, please rerun this cell to show the HTML representation or trust the notebook. <br />On GitHub, the HTML representation is unable to render, please try loading this page with nbviewer.org.</b></div><div class=\"sk-container\" hidden><div class=\"sk-item sk-dashed-wrapped\"><div class=\"sk-label-container\"><div class=\"sk-label sk-toggleable\"><input class=\"sk-toggleable__control sk-hidden--visually\" id=\"sk-estimator-id-3\" type=\"checkbox\" ><label for=\"sk-estimator-id-3\" class=\"sk-toggleable__label sk-toggleable__label-arrow\">Pipeline</label><div class=\"sk-toggleable__content\"><pre>Pipeline(steps=[(&#x27;linearregression&#x27;, LinearRegression())])</pre></div></div></div><div class=\"sk-serial\"><div class=\"sk-item\"><div class=\"sk-estimator sk-toggleable\"><input class=\"sk-toggleable__control sk-hidden--visually\" id=\"sk-estimator-id-4\" type=\"checkbox\" ><label for=\"sk-estimator-id-4\" class=\"sk-toggleable__label sk-toggleable__label-arrow\">LinearRegression</label><div class=\"sk-toggleable__content\"><pre>LinearRegression()</pre></div></div></div></div></div></div></div>"
      ],
      "text/plain": [
       "Pipeline(steps=[('linearregression', LinearRegression())])"
      ]
     },
     "execution_count": 24,
     "metadata": {},
     "output_type": "execute_result"
    }
   ],
   "source": [
    "model.fit(X_train, y_train)"
   ]
  },
  {
   "cell_type": "code",
   "execution_count": 25,
   "metadata": {
    "pycharm": {
     "name": "#%%\n"
    }
   },
   "outputs": [],
   "source": [
    "prediction = model.predict(X_test)"
   ]
  },
  {
   "cell_type": "code",
   "execution_count": 26,
   "metadata": {
    "pycharm": {
     "name": "#%%\n"
    }
   },
   "outputs": [],
   "source": [
    "train_prediction = model.predict(X_train)"
   ]
  },
  {
   "cell_type": "code",
   "execution_count": 50,
   "metadata": {
    "pycharm": {
     "name": "#%%\n"
    }
   },
   "outputs": [],
   "source": [
    "pipelines = [\n",
    "    (\"Dummy_mean\", dummy_mean),\n",
    "    (\"Dummy_median\", dummy_median),\n",
    "    (\"LinReg\", lr),\n",
    "    (\"XGB\", xgb),\n",
    "    (\"LGBM\", lgbm),\n",
    "    (\"RFC\", rfc),\n",
    "    (\"CatBoost\", ctb),\n",
    "]"
   ]
  },
  {
   "cell_type": "markdown",
   "metadata": {
    "pycharm": {
     "name": "#%% md\n"
    }
   },
   "source": [
    "#### Models"
   ]
  },
  {
   "cell_type": "code",
   "execution_count": 51,
   "metadata": {
    "pycharm": {
     "name": "#%%\n"
    }
   },
   "outputs": [
    {
     "name": "stdout",
     "output_type": "stream",
     "text": [
      "Learning rate set to 0.065636\n",
      "0:\tlearn: 1.3693677\ttotal: 46.2ms\tremaining: 46.2s\n",
      "1:\tlearn: 1.3418065\ttotal: 85.1ms\tremaining: 42.5s\n",
      "2:\tlearn: 1.3168720\ttotal: 125ms\tremaining: 41.4s\n",
      "3:\tlearn: 1.2921843\ttotal: 164ms\tremaining: 40.8s\n",
      "4:\tlearn: 1.2686201\ttotal: 203ms\tremaining: 40.5s\n",
      "5:\tlearn: 1.2487987\ttotal: 243ms\tremaining: 40.3s\n",
      "6:\tlearn: 1.2311247\ttotal: 287ms\tremaining: 40.8s\n",
      "7:\tlearn: 1.2158588\ttotal: 335ms\tremaining: 41.5s\n",
      "8:\tlearn: 1.2011711\ttotal: 376ms\tremaining: 41.4s\n",
      "9:\tlearn: 1.1892899\ttotal: 418ms\tremaining: 41.4s\n",
      "10:\tlearn: 1.1782585\ttotal: 458ms\tremaining: 41.1s\n",
      "11:\tlearn: 1.1667145\ttotal: 505ms\tremaining: 41.6s\n",
      "12:\tlearn: 1.1574264\ttotal: 549ms\tremaining: 41.7s\n",
      "13:\tlearn: 1.1491575\ttotal: 592ms\tremaining: 41.7s\n",
      "14:\tlearn: 1.1423765\ttotal: 634ms\tremaining: 41.6s\n",
      "15:\tlearn: 1.1355302\ttotal: 673ms\tremaining: 41.4s\n",
      "16:\tlearn: 1.1290997\ttotal: 717ms\tremaining: 41.4s\n",
      "17:\tlearn: 1.1243147\ttotal: 760ms\tremaining: 41.5s\n",
      "18:\tlearn: 1.1195798\ttotal: 804ms\tremaining: 41.5s\n",
      "19:\tlearn: 1.1153026\ttotal: 846ms\tremaining: 41.4s\n",
      "20:\tlearn: 1.1102787\ttotal: 885ms\tremaining: 41.2s\n",
      "21:\tlearn: 1.1064416\ttotal: 926ms\tremaining: 41.1s\n",
      "22:\tlearn: 1.1022969\ttotal: 966ms\tremaining: 41s\n",
      "23:\tlearn: 1.0989270\ttotal: 1s\tremaining: 40.9s\n",
      "24:\tlearn: 1.0961602\ttotal: 1.04s\tremaining: 40.7s\n",
      "25:\tlearn: 1.0930512\ttotal: 1.08s\tremaining: 40.6s\n",
      "26:\tlearn: 1.0904544\ttotal: 1.13s\tremaining: 40.6s\n",
      "27:\tlearn: 1.0883558\ttotal: 1.17s\tremaining: 40.5s\n",
      "28:\tlearn: 1.0864764\ttotal: 1.21s\tremaining: 40.4s\n",
      "29:\tlearn: 1.0846140\ttotal: 1.25s\tremaining: 40.3s\n",
      "30:\tlearn: 1.0821075\ttotal: 1.29s\tremaining: 40.2s\n",
      "31:\tlearn: 1.0794995\ttotal: 1.33s\tremaining: 40.1s\n",
      "32:\tlearn: 1.0778036\ttotal: 1.37s\tremaining: 40.1s\n",
      "33:\tlearn: 1.0761970\ttotal: 1.41s\tremaining: 40s\n",
      "34:\tlearn: 1.0745051\ttotal: 1.45s\tremaining: 39.9s\n",
      "35:\tlearn: 1.0730956\ttotal: 1.49s\tremaining: 39.9s\n",
      "36:\tlearn: 1.0720108\ttotal: 1.53s\tremaining: 39.7s\n",
      "37:\tlearn: 1.0707200\ttotal: 1.57s\tremaining: 39.7s\n",
      "38:\tlearn: 1.0698885\ttotal: 1.61s\tremaining: 39.6s\n",
      "39:\tlearn: 1.0688265\ttotal: 1.65s\tremaining: 39.5s\n",
      "40:\tlearn: 1.0678506\ttotal: 1.68s\tremaining: 39.4s\n",
      "41:\tlearn: 1.0677734\ttotal: 1.72s\tremaining: 39.3s\n",
      "42:\tlearn: 1.0665682\ttotal: 1.76s\tremaining: 39.2s\n",
      "43:\tlearn: 1.0657913\ttotal: 1.8s\tremaining: 39.2s\n",
      "44:\tlearn: 1.0646812\ttotal: 1.84s\tremaining: 39.1s\n",
      "45:\tlearn: 1.0640391\ttotal: 1.88s\tremaining: 39s\n",
      "46:\tlearn: 1.0632085\ttotal: 1.92s\tremaining: 39s\n",
      "47:\tlearn: 1.0621464\ttotal: 1.96s\tremaining: 38.9s\n",
      "48:\tlearn: 1.0615146\ttotal: 2s\tremaining: 38.8s\n",
      "49:\tlearn: 1.0608482\ttotal: 2.04s\tremaining: 38.8s\n",
      "50:\tlearn: 1.0601427\ttotal: 2.08s\tremaining: 38.8s\n",
      "51:\tlearn: 1.0594922\ttotal: 2.12s\tremaining: 38.7s\n",
      "52:\tlearn: 1.0593898\ttotal: 2.16s\tremaining: 38.6s\n",
      "53:\tlearn: 1.0587242\ttotal: 2.2s\tremaining: 38.5s\n",
      "54:\tlearn: 1.0574810\ttotal: 2.24s\tremaining: 38.4s\n",
      "55:\tlearn: 1.0567824\ttotal: 2.28s\tremaining: 38.4s\n",
      "56:\tlearn: 1.0562951\ttotal: 2.32s\tremaining: 38.4s\n",
      "57:\tlearn: 1.0556069\ttotal: 2.36s\tremaining: 38.3s\n",
      "58:\tlearn: 1.0548703\ttotal: 2.4s\tremaining: 38.2s\n",
      "59:\tlearn: 1.0545938\ttotal: 2.43s\tremaining: 38.1s\n",
      "60:\tlearn: 1.0541592\ttotal: 2.48s\tremaining: 38.1s\n",
      "61:\tlearn: 1.0540294\ttotal: 2.52s\tremaining: 38.1s\n",
      "62:\tlearn: 1.0539171\ttotal: 2.56s\tremaining: 38s\n",
      "63:\tlearn: 1.0529357\ttotal: 2.6s\tremaining: 38s\n",
      "64:\tlearn: 1.0524674\ttotal: 2.63s\tremaining: 37.9s\n",
      "65:\tlearn: 1.0523023\ttotal: 2.67s\tremaining: 37.8s\n",
      "66:\tlearn: 1.0522354\ttotal: 2.71s\tremaining: 37.8s\n",
      "67:\tlearn: 1.0517574\ttotal: 2.75s\tremaining: 37.7s\n",
      "68:\tlearn: 1.0516568\ttotal: 2.79s\tremaining: 37.7s\n",
      "69:\tlearn: 1.0512199\ttotal: 2.83s\tremaining: 37.6s\n",
      "70:\tlearn: 1.0502824\ttotal: 2.87s\tremaining: 37.5s\n",
      "71:\tlearn: 1.0501686\ttotal: 2.9s\tremaining: 37.4s\n",
      "72:\tlearn: 1.0498423\ttotal: 2.94s\tremaining: 37.3s\n",
      "73:\tlearn: 1.0494956\ttotal: 2.98s\tremaining: 37.3s\n",
      "74:\tlearn: 1.0492894\ttotal: 3.02s\tremaining: 37.2s\n",
      "75:\tlearn: 1.0491888\ttotal: 3.06s\tremaining: 37.1s\n",
      "76:\tlearn: 1.0487504\ttotal: 3.09s\tremaining: 37.1s\n",
      "77:\tlearn: 1.0483020\ttotal: 3.13s\tremaining: 37s\n",
      "78:\tlearn: 1.0480883\ttotal: 3.17s\tremaining: 36.9s\n",
      "79:\tlearn: 1.0477146\ttotal: 3.21s\tremaining: 36.9s\n",
      "80:\tlearn: 1.0473501\ttotal: 3.25s\tremaining: 36.8s\n",
      "81:\tlearn: 1.0467297\ttotal: 3.28s\tremaining: 36.8s\n",
      "82:\tlearn: 1.0466449\ttotal: 3.32s\tremaining: 36.7s\n",
      "83:\tlearn: 1.0461945\ttotal: 3.36s\tremaining: 36.6s\n",
      "84:\tlearn: 1.0458183\ttotal: 3.4s\tremaining: 36.6s\n",
      "85:\tlearn: 1.0457385\ttotal: 3.44s\tremaining: 36.5s\n",
      "86:\tlearn: 1.0456542\ttotal: 3.48s\tremaining: 36.5s\n",
      "87:\tlearn: 1.0455479\ttotal: 3.51s\tremaining: 36.4s\n",
      "88:\tlearn: 1.0451711\ttotal: 3.55s\tremaining: 36.4s\n",
      "89:\tlearn: 1.0450811\ttotal: 3.59s\tremaining: 36.3s\n",
      "90:\tlearn: 1.0448632\ttotal: 3.63s\tremaining: 36.3s\n",
      "91:\tlearn: 1.0445600\ttotal: 3.67s\tremaining: 36.2s\n",
      "92:\tlearn: 1.0443804\ttotal: 3.7s\tremaining: 36.1s\n",
      "93:\tlearn: 1.0440906\ttotal: 3.75s\tremaining: 36.1s\n",
      "94:\tlearn: 1.0440001\ttotal: 3.78s\tremaining: 36.1s\n",
      "95:\tlearn: 1.0436334\ttotal: 3.82s\tremaining: 36s\n",
      "96:\tlearn: 1.0432641\ttotal: 3.86s\tremaining: 35.9s\n",
      "97:\tlearn: 1.0428907\ttotal: 3.9s\tremaining: 35.9s\n",
      "98:\tlearn: 1.0428175\ttotal: 3.94s\tremaining: 35.9s\n",
      "99:\tlearn: 1.0427086\ttotal: 3.98s\tremaining: 35.8s\n",
      "100:\tlearn: 1.0425207\ttotal: 4.01s\tremaining: 35.7s\n",
      "101:\tlearn: 1.0422331\ttotal: 4.05s\tremaining: 35.7s\n",
      "102:\tlearn: 1.0421305\ttotal: 4.09s\tremaining: 35.6s\n",
      "103:\tlearn: 1.0414634\ttotal: 4.13s\tremaining: 35.6s\n",
      "104:\tlearn: 1.0414070\ttotal: 4.17s\tremaining: 35.5s\n",
      "105:\tlearn: 1.0411031\ttotal: 4.21s\tremaining: 35.5s\n",
      "106:\tlearn: 1.0409539\ttotal: 4.24s\tremaining: 35.4s\n",
      "107:\tlearn: 1.0408806\ttotal: 4.28s\tremaining: 35.4s\n",
      "108:\tlearn: 1.0407666\ttotal: 4.32s\tremaining: 35.3s\n",
      "109:\tlearn: 1.0405503\ttotal: 4.36s\tremaining: 35.3s\n",
      "110:\tlearn: 1.0402655\ttotal: 4.39s\tremaining: 35.2s\n",
      "111:\tlearn: 1.0399539\ttotal: 4.43s\tremaining: 35.1s\n",
      "112:\tlearn: 1.0396427\ttotal: 4.47s\tremaining: 35.1s\n",
      "113:\tlearn: 1.0394911\ttotal: 4.51s\tremaining: 35s\n",
      "114:\tlearn: 1.0393697\ttotal: 4.55s\tremaining: 35s\n",
      "115:\tlearn: 1.0390834\ttotal: 4.59s\tremaining: 35s\n",
      "116:\tlearn: 1.0388306\ttotal: 4.63s\tremaining: 34.9s\n",
      "117:\tlearn: 1.0387035\ttotal: 4.66s\tremaining: 34.9s\n",
      "118:\tlearn: 1.0385681\ttotal: 4.7s\tremaining: 34.8s\n",
      "119:\tlearn: 1.0384707\ttotal: 4.74s\tremaining: 34.7s\n",
      "120:\tlearn: 1.0383531\ttotal: 4.78s\tremaining: 34.7s\n",
      "121:\tlearn: 1.0382583\ttotal: 4.81s\tremaining: 34.7s\n",
      "122:\tlearn: 1.0380476\ttotal: 4.85s\tremaining: 34.6s\n",
      "123:\tlearn: 1.0379878\ttotal: 4.89s\tremaining: 34.5s\n",
      "124:\tlearn: 1.0378849\ttotal: 4.93s\tremaining: 34.5s\n",
      "125:\tlearn: 1.0378208\ttotal: 4.96s\tremaining: 34.4s\n",
      "126:\tlearn: 1.0376227\ttotal: 5s\tremaining: 34.4s\n",
      "127:\tlearn: 1.0374983\ttotal: 5.04s\tremaining: 34.4s\n",
      "128:\tlearn: 1.0374023\ttotal: 5.08s\tremaining: 34.3s\n",
      "129:\tlearn: 1.0373272\ttotal: 5.12s\tremaining: 34.3s\n",
      "130:\tlearn: 1.0372407\ttotal: 5.16s\tremaining: 34.2s\n",
      "131:\tlearn: 1.0371348\ttotal: 5.19s\tremaining: 34.2s\n",
      "132:\tlearn: 1.0366831\ttotal: 5.24s\tremaining: 34.1s\n",
      "133:\tlearn: 1.0363065\ttotal: 5.28s\tremaining: 34.1s\n",
      "134:\tlearn: 1.0362067\ttotal: 5.31s\tremaining: 34s\n",
      "135:\tlearn: 1.0360123\ttotal: 5.35s\tremaining: 34s\n",
      "136:\tlearn: 1.0352880\ttotal: 5.39s\tremaining: 34s\n",
      "137:\tlearn: 1.0351644\ttotal: 5.43s\tremaining: 33.9s\n",
      "138:\tlearn: 1.0350569\ttotal: 5.47s\tremaining: 33.9s\n",
      "139:\tlearn: 1.0349232\ttotal: 5.51s\tremaining: 33.8s\n",
      "140:\tlearn: 1.0347691\ttotal: 5.55s\tremaining: 33.8s\n",
      "141:\tlearn: 1.0332972\ttotal: 5.59s\tremaining: 33.8s\n",
      "142:\tlearn: 1.0331864\ttotal: 5.63s\tremaining: 33.7s\n",
      "143:\tlearn: 1.0330910\ttotal: 5.67s\tremaining: 33.7s\n",
      "144:\tlearn: 1.0329973\ttotal: 5.71s\tremaining: 33.7s\n",
      "145:\tlearn: 1.0328761\ttotal: 5.75s\tremaining: 33.6s\n",
      "146:\tlearn: 1.0327584\ttotal: 5.79s\tremaining: 33.6s\n",
      "147:\tlearn: 1.0324903\ttotal: 5.82s\tremaining: 33.5s\n",
      "148:\tlearn: 1.0323596\ttotal: 5.86s\tremaining: 33.5s\n",
      "149:\tlearn: 1.0320029\ttotal: 5.9s\tremaining: 33.4s\n",
      "150:\tlearn: 1.0318781\ttotal: 5.94s\tremaining: 33.4s\n",
      "151:\tlearn: 1.0317581\ttotal: 5.98s\tremaining: 33.4s\n",
      "152:\tlearn: 1.0316339\ttotal: 6.02s\tremaining: 33.3s\n",
      "153:\tlearn: 1.0315050\ttotal: 6.05s\tremaining: 33.3s\n",
      "154:\tlearn: 1.0313886\ttotal: 6.09s\tremaining: 33.2s\n",
      "155:\tlearn: 1.0312454\ttotal: 6.13s\tremaining: 33.2s\n",
      "156:\tlearn: 1.0303524\ttotal: 6.17s\tremaining: 33.1s\n",
      "157:\tlearn: 1.0302219\ttotal: 6.21s\tremaining: 33.1s\n",
      "158:\tlearn: 1.0300131\ttotal: 6.24s\tremaining: 33s\n",
      "159:\tlearn: 1.0296469\ttotal: 6.28s\tremaining: 33s\n",
      "160:\tlearn: 1.0292121\ttotal: 6.32s\tremaining: 32.9s\n",
      "161:\tlearn: 1.0290968\ttotal: 6.36s\tremaining: 32.9s\n",
      "162:\tlearn: 1.0289720\ttotal: 6.4s\tremaining: 32.9s\n",
      "163:\tlearn: 1.0288533\ttotal: 6.43s\tremaining: 32.8s\n",
      "164:\tlearn: 1.0287360\ttotal: 6.48s\tremaining: 32.8s\n",
      "165:\tlearn: 1.0277149\ttotal: 6.52s\tremaining: 32.7s\n",
      "166:\tlearn: 1.0275414\ttotal: 6.55s\tremaining: 32.7s\n",
      "167:\tlearn: 1.0274266\ttotal: 6.6s\tremaining: 32.7s\n",
      "168:\tlearn: 1.0272937\ttotal: 6.63s\tremaining: 32.6s\n",
      "169:\tlearn: 1.0271588\ttotal: 6.67s\tremaining: 32.6s\n",
      "170:\tlearn: 1.0269429\ttotal: 6.71s\tremaining: 32.5s\n",
      "171:\tlearn: 1.0265994\ttotal: 6.75s\tremaining: 32.5s\n",
      "172:\tlearn: 1.0262016\ttotal: 6.79s\tremaining: 32.4s\n",
      "173:\tlearn: 1.0260514\ttotal: 6.83s\tremaining: 32.4s\n",
      "174:\tlearn: 1.0259427\ttotal: 6.86s\tremaining: 32.4s\n",
      "175:\tlearn: 1.0258280\ttotal: 6.9s\tremaining: 32.3s\n",
      "176:\tlearn: 1.0251757\ttotal: 6.94s\tremaining: 32.3s\n",
      "177:\tlearn: 1.0250609\ttotal: 6.97s\tremaining: 32.2s\n",
      "178:\tlearn: 1.0245805\ttotal: 7.01s\tremaining: 32.2s\n",
      "179:\tlearn: 1.0244005\ttotal: 7.05s\tremaining: 32.1s\n",
      "180:\tlearn: 1.0242873\ttotal: 7.09s\tremaining: 32.1s\n",
      "181:\tlearn: 1.0238974\ttotal: 7.13s\tremaining: 32.1s\n",
      "182:\tlearn: 1.0233929\ttotal: 7.17s\tremaining: 32s\n",
      "183:\tlearn: 1.0232786\ttotal: 7.21s\tremaining: 32s\n",
      "184:\tlearn: 1.0231663\ttotal: 7.25s\tremaining: 31.9s\n",
      "185:\tlearn: 1.0227796\ttotal: 7.29s\tremaining: 31.9s\n",
      "186:\tlearn: 1.0225764\ttotal: 7.33s\tremaining: 31.9s\n",
      "187:\tlearn: 1.0224655\ttotal: 7.37s\tremaining: 31.8s\n",
      "188:\tlearn: 1.0223592\ttotal: 7.41s\tremaining: 31.8s\n",
      "189:\tlearn: 1.0219184\ttotal: 7.45s\tremaining: 31.7s\n",
      "190:\tlearn: 1.0212081\ttotal: 7.49s\tremaining: 31.7s\n",
      "191:\tlearn: 1.0208297\ttotal: 7.54s\tremaining: 31.7s\n",
      "192:\tlearn: 1.0207254\ttotal: 7.58s\tremaining: 31.7s\n",
      "193:\tlearn: 1.0204834\ttotal: 7.63s\tremaining: 31.7s\n",
      "194:\tlearn: 1.0203763\ttotal: 7.67s\tremaining: 31.7s\n",
      "195:\tlearn: 1.0202016\ttotal: 7.72s\tremaining: 31.7s\n",
      "196:\tlearn: 1.0200955\ttotal: 7.76s\tremaining: 31.7s\n",
      "197:\tlearn: 1.0199082\ttotal: 7.81s\tremaining: 31.6s\n",
      "198:\tlearn: 1.0194287\ttotal: 7.85s\tremaining: 31.6s\n",
      "199:\tlearn: 1.0193286\ttotal: 7.9s\tremaining: 31.6s\n",
      "200:\tlearn: 1.0189753\ttotal: 7.94s\tremaining: 31.6s\n",
      "201:\tlearn: 1.0187603\ttotal: 7.99s\tremaining: 31.6s\n",
      "202:\tlearn: 1.0186578\ttotal: 8.03s\tremaining: 31.5s\n",
      "203:\tlearn: 1.0180246\ttotal: 8.09s\tremaining: 31.6s\n",
      "204:\tlearn: 1.0174619\ttotal: 8.12s\tremaining: 31.5s\n",
      "205:\tlearn: 1.0173595\ttotal: 8.16s\tremaining: 31.5s\n",
      "206:\tlearn: 1.0168386\ttotal: 8.2s\tremaining: 31.4s\n",
      "207:\tlearn: 1.0164006\ttotal: 8.24s\tremaining: 31.4s\n",
      "208:\tlearn: 1.0162420\ttotal: 8.28s\tremaining: 31.3s\n",
      "209:\tlearn: 1.0161413\ttotal: 8.32s\tremaining: 31.3s\n",
      "210:\tlearn: 1.0159910\ttotal: 8.36s\tremaining: 31.3s\n",
      "211:\tlearn: 1.0156710\ttotal: 8.4s\tremaining: 31.2s\n",
      "212:\tlearn: 1.0154193\ttotal: 8.44s\tremaining: 31.2s\n",
      "213:\tlearn: 1.0152002\ttotal: 8.48s\tremaining: 31.1s\n",
      "214:\tlearn: 1.0147271\ttotal: 8.52s\tremaining: 31.1s\n",
      "215:\tlearn: 1.0136710\ttotal: 8.56s\tremaining: 31.1s\n",
      "216:\tlearn: 1.0133447\ttotal: 8.6s\tremaining: 31s\n",
      "217:\tlearn: 1.0131386\ttotal: 8.64s\tremaining: 31s\n",
      "218:\tlearn: 1.0128325\ttotal: 8.69s\tremaining: 31s\n",
      "219:\tlearn: 1.0121089\ttotal: 8.73s\tremaining: 30.9s\n",
      "220:\tlearn: 1.0120090\ttotal: 8.77s\tremaining: 30.9s\n",
      "221:\tlearn: 1.0115668\ttotal: 8.81s\tremaining: 30.9s\n",
      "222:\tlearn: 1.0111304\ttotal: 8.85s\tremaining: 30.8s\n",
      "223:\tlearn: 1.0105691\ttotal: 8.89s\tremaining: 30.8s\n",
      "224:\tlearn: 1.0101791\ttotal: 8.94s\tremaining: 30.8s\n",
      "225:\tlearn: 1.0100800\ttotal: 8.99s\tremaining: 30.8s\n",
      "226:\tlearn: 1.0099820\ttotal: 9.04s\tremaining: 30.8s\n",
      "227:\tlearn: 1.0098316\ttotal: 9.08s\tremaining: 30.7s\n",
      "228:\tlearn: 1.0095303\ttotal: 9.12s\tremaining: 30.7s\n",
      "229:\tlearn: 1.0093151\ttotal: 9.17s\tremaining: 30.7s\n",
      "230:\tlearn: 1.0092187\ttotal: 9.22s\tremaining: 30.7s\n",
      "231:\tlearn: 1.0091230\ttotal: 9.26s\tremaining: 30.7s\n",
      "232:\tlearn: 1.0088099\ttotal: 9.31s\tremaining: 30.6s\n",
      "233:\tlearn: 1.0084204\ttotal: 9.36s\tremaining: 30.7s\n",
      "234:\tlearn: 1.0083255\ttotal: 9.42s\tremaining: 30.7s\n",
      "235:\tlearn: 1.0081841\ttotal: 9.47s\tremaining: 30.7s\n",
      "236:\tlearn: 1.0080901\ttotal: 9.52s\tremaining: 30.7s\n",
      "237:\tlearn: 1.0077728\ttotal: 9.56s\tremaining: 30.6s\n",
      "238:\tlearn: 1.0076075\ttotal: 9.61s\tremaining: 30.6s\n",
      "239:\tlearn: 1.0075147\ttotal: 9.66s\tremaining: 30.6s\n",
      "240:\tlearn: 1.0072376\ttotal: 9.7s\tremaining: 30.5s\n",
      "241:\tlearn: 1.0070919\ttotal: 9.74s\tremaining: 30.5s\n",
      "242:\tlearn: 1.0068332\ttotal: 9.78s\tremaining: 30.5s\n",
      "243:\tlearn: 1.0067462\ttotal: 9.82s\tremaining: 30.4s\n",
      "244:\tlearn: 1.0066581\ttotal: 9.86s\tremaining: 30.4s\n",
      "245:\tlearn: 1.0065229\ttotal: 9.9s\tremaining: 30.3s\n",
      "246:\tlearn: 1.0063116\ttotal: 9.93s\tremaining: 30.3s\n",
      "247:\tlearn: 1.0057055\ttotal: 9.97s\tremaining: 30.2s\n",
      "248:\tlearn: 1.0055461\ttotal: 10s\tremaining: 30.2s\n",
      "249:\tlearn: 1.0054178\ttotal: 10.1s\tremaining: 30.2s\n",
      "250:\tlearn: 1.0053273\ttotal: 10.1s\tremaining: 30.1s\n",
      "251:\tlearn: 1.0052376\ttotal: 10.1s\tremaining: 30.1s\n",
      "252:\tlearn: 1.0051045\ttotal: 10.2s\tremaining: 30s\n",
      "253:\tlearn: 1.0048312\ttotal: 10.2s\tremaining: 30s\n",
      "254:\tlearn: 1.0045604\ttotal: 10.2s\tremaining: 29.9s\n",
      "255:\tlearn: 1.0044713\ttotal: 10.3s\tremaining: 29.9s\n",
      "256:\tlearn: 1.0043477\ttotal: 10.3s\tremaining: 29.8s\n",
      "257:\tlearn: 1.0042102\ttotal: 10.4s\tremaining: 29.8s\n",
      "258:\tlearn: 1.0040698\ttotal: 10.4s\tremaining: 29.7s\n",
      "259:\tlearn: 1.0037256\ttotal: 10.4s\tremaining: 29.7s\n",
      "260:\tlearn: 1.0036373\ttotal: 10.5s\tremaining: 29.7s\n",
      "261:\tlearn: 1.0033542\ttotal: 10.5s\tremaining: 29.6s\n",
      "262:\tlearn: 1.0032672\ttotal: 10.6s\tremaining: 29.6s\n",
      "263:\tlearn: 1.0030612\ttotal: 10.6s\tremaining: 29.5s\n",
      "264:\tlearn: 1.0028884\ttotal: 10.6s\tremaining: 29.5s\n",
      "265:\tlearn: 1.0027605\ttotal: 10.7s\tremaining: 29.4s\n",
      "266:\tlearn: 1.0026185\ttotal: 10.7s\tremaining: 29.4s\n",
      "267:\tlearn: 1.0024797\ttotal: 10.7s\tremaining: 29.3s\n",
      "268:\tlearn: 1.0023933\ttotal: 10.8s\tremaining: 29.3s\n",
      "269:\tlearn: 1.0021276\ttotal: 10.8s\tremaining: 29.3s\n",
      "270:\tlearn: 1.0019932\ttotal: 10.9s\tremaining: 29.2s\n",
      "271:\tlearn: 1.0019077\ttotal: 10.9s\tremaining: 29.2s\n",
      "272:\tlearn: 1.0015446\ttotal: 10.9s\tremaining: 29.1s\n",
      "273:\tlearn: 1.0012680\ttotal: 11s\tremaining: 29.1s\n",
      "274:\tlearn: 1.0011858\ttotal: 11s\tremaining: 29s\n",
      "275:\tlearn: 1.0011016\ttotal: 11s\tremaining: 29s\n",
      "276:\tlearn: 1.0009500\ttotal: 11.1s\tremaining: 28.9s\n",
      "277:\tlearn: 1.0005268\ttotal: 11.1s\tremaining: 28.9s\n",
      "278:\tlearn: 1.0002507\ttotal: 11.2s\tremaining: 28.9s\n",
      "279:\tlearn: 1.0001670\ttotal: 11.2s\tremaining: 28.8s\n",
      "280:\tlearn: 0.9999263\ttotal: 11.2s\tremaining: 28.8s\n",
      "281:\tlearn: 0.9996460\ttotal: 11.3s\tremaining: 28.7s\n",
      "282:\tlearn: 0.9992746\ttotal: 11.3s\tremaining: 28.7s\n",
      "283:\tlearn: 0.9991916\ttotal: 11.4s\tremaining: 28.6s\n",
      "284:\tlearn: 0.9989837\ttotal: 11.4s\tremaining: 28.6s\n",
      "285:\tlearn: 0.9989019\ttotal: 11.4s\tremaining: 28.6s\n",
      "286:\tlearn: 0.9987736\ttotal: 11.5s\tremaining: 28.5s\n",
      "287:\tlearn: 0.9986923\ttotal: 11.5s\tremaining: 28.5s\n",
      "288:\tlearn: 0.9984707\ttotal: 11.6s\tremaining: 28.4s\n",
      "289:\tlearn: 0.9983075\ttotal: 11.6s\tremaining: 28.4s\n",
      "290:\tlearn: 0.9980860\ttotal: 11.6s\tremaining: 28.4s\n",
      "291:\tlearn: 0.9977721\ttotal: 11.7s\tremaining: 28.3s\n",
      "292:\tlearn: 0.9975544\ttotal: 11.7s\tremaining: 28.3s\n",
      "293:\tlearn: 0.9974736\ttotal: 11.8s\tremaining: 28.2s\n",
      "294:\tlearn: 0.9973959\ttotal: 11.8s\tremaining: 28.2s\n",
      "295:\tlearn: 0.9973167\ttotal: 11.8s\tremaining: 28.1s\n",
      "296:\tlearn: 0.9972406\ttotal: 11.9s\tremaining: 28.1s\n",
      "297:\tlearn: 0.9971022\ttotal: 11.9s\tremaining: 28.1s\n",
      "298:\tlearn: 0.9969703\ttotal: 11.9s\tremaining: 28s\n",
      "299:\tlearn: 0.9966797\ttotal: 12s\tremaining: 28s\n",
      "300:\tlearn: 0.9964268\ttotal: 12s\tremaining: 27.9s\n",
      "301:\tlearn: 0.9961739\ttotal: 12.1s\tremaining: 27.9s\n",
      "302:\tlearn: 0.9959146\ttotal: 12.1s\tremaining: 27.8s\n",
      "303:\tlearn: 0.9957895\ttotal: 12.1s\tremaining: 27.8s\n",
      "304:\tlearn: 0.9956637\ttotal: 12.2s\tremaining: 27.8s\n",
      "305:\tlearn: 0.9954673\ttotal: 12.2s\tremaining: 27.7s\n",
      "306:\tlearn: 0.9953889\ttotal: 12.3s\tremaining: 27.7s\n",
      "307:\tlearn: 0.9953089\ttotal: 12.3s\tremaining: 27.6s\n",
      "308:\tlearn: 0.9950560\ttotal: 12.3s\tremaining: 27.6s\n",
      "309:\tlearn: 0.9948963\ttotal: 12.4s\tremaining: 27.6s\n",
      "310:\tlearn: 0.9946461\ttotal: 12.4s\tremaining: 27.5s\n",
      "311:\tlearn: 0.9945768\ttotal: 12.5s\tremaining: 27.5s\n",
      "312:\tlearn: 0.9942512\ttotal: 12.5s\tremaining: 27.4s\n",
      "313:\tlearn: 0.9939978\ttotal: 12.5s\tremaining: 27.4s\n",
      "314:\tlearn: 0.9939194\ttotal: 12.6s\tremaining: 27.4s\n",
      "315:\tlearn: 0.9937012\ttotal: 12.6s\tremaining: 27.3s\n",
      "316:\tlearn: 0.9934569\ttotal: 12.7s\tremaining: 27.3s\n",
      "317:\tlearn: 0.9932144\ttotal: 12.7s\tremaining: 27.2s\n",
      "318:\tlearn: 0.9931402\ttotal: 12.7s\tremaining: 27.2s\n",
      "319:\tlearn: 0.9929068\ttotal: 12.8s\tremaining: 27.1s\n",
      "320:\tlearn: 0.9927978\ttotal: 12.8s\tremaining: 27.1s\n",
      "321:\tlearn: 0.9926725\ttotal: 12.8s\tremaining: 27.1s\n",
      "322:\tlearn: 0.9924433\ttotal: 12.9s\tremaining: 27s\n",
      "323:\tlearn: 0.9923735\ttotal: 12.9s\tremaining: 27s\n",
      "324:\tlearn: 0.9923048\ttotal: 13s\tremaining: 26.9s\n",
      "325:\tlearn: 0.9921999\ttotal: 13s\tremaining: 26.9s\n",
      "326:\tlearn: 0.9920344\ttotal: 13s\tremaining: 26.9s\n",
      "327:\tlearn: 0.9918107\ttotal: 13.1s\tremaining: 26.8s\n",
      "328:\tlearn: 0.9916428\ttotal: 13.1s\tremaining: 26.8s\n",
      "329:\tlearn: 0.9915054\ttotal: 13.2s\tremaining: 26.7s\n",
      "330:\tlearn: 0.9912455\ttotal: 13.2s\tremaining: 26.7s\n",
      "331:\tlearn: 0.9911748\ttotal: 13.2s\tremaining: 26.6s\n",
      "332:\tlearn: 0.9909170\ttotal: 13.3s\tremaining: 26.6s\n",
      "333:\tlearn: 0.9907592\ttotal: 13.3s\tremaining: 26.5s\n",
      "334:\tlearn: 0.9905811\ttotal: 13.3s\tremaining: 26.5s\n",
      "335:\tlearn: 0.9904162\ttotal: 13.4s\tremaining: 26.5s\n",
      "336:\tlearn: 0.9901481\ttotal: 13.4s\tremaining: 26.4s\n",
      "337:\tlearn: 0.9900759\ttotal: 13.5s\tremaining: 26.4s\n",
      "338:\tlearn: 0.9900088\ttotal: 13.5s\tremaining: 26.3s\n",
      "339:\tlearn: 0.9897638\ttotal: 13.5s\tremaining: 26.3s\n",
      "340:\tlearn: 0.9896045\ttotal: 13.6s\tremaining: 26.3s\n",
      "341:\tlearn: 0.9894864\ttotal: 13.6s\tremaining: 26.2s\n",
      "342:\tlearn: 0.9890743\ttotal: 13.7s\tremaining: 26.2s\n",
      "343:\tlearn: 0.9890077\ttotal: 13.7s\tremaining: 26.1s\n",
      "344:\tlearn: 0.9887024\ttotal: 13.7s\tremaining: 26.1s\n",
      "345:\tlearn: 0.9883315\ttotal: 13.8s\tremaining: 26s\n",
      "346:\tlearn: 0.9881270\ttotal: 13.8s\tremaining: 26s\n",
      "347:\tlearn: 0.9879189\ttotal: 13.9s\tremaining: 26s\n",
      "348:\tlearn: 0.9878120\ttotal: 13.9s\tremaining: 25.9s\n",
      "349:\tlearn: 0.9877103\ttotal: 13.9s\tremaining: 25.9s\n",
      "350:\tlearn: 0.9876106\ttotal: 14s\tremaining: 25.9s\n",
      "351:\tlearn: 0.9875137\ttotal: 14s\tremaining: 25.8s\n",
      "352:\tlearn: 0.9874411\ttotal: 14.1s\tremaining: 25.8s\n",
      "353:\tlearn: 0.9872376\ttotal: 14.1s\tremaining: 25.7s\n",
      "354:\tlearn: 0.9870096\ttotal: 14.1s\tremaining: 25.7s\n",
      "355:\tlearn: 0.9869338\ttotal: 14.2s\tremaining: 25.7s\n",
      "356:\tlearn: 0.9868447\ttotal: 14.2s\tremaining: 25.6s\n",
      "357:\tlearn: 0.9867508\ttotal: 14.3s\tremaining: 25.6s\n",
      "358:\tlearn: 0.9865200\ttotal: 14.3s\tremaining: 25.5s\n",
      "359:\tlearn: 0.9864484\ttotal: 14.3s\tremaining: 25.5s\n",
      "360:\tlearn: 0.9863799\ttotal: 14.4s\tremaining: 25.4s\n",
      "361:\tlearn: 0.9860963\ttotal: 14.4s\tremaining: 25.4s\n",
      "362:\tlearn: 0.9859409\ttotal: 14.5s\tremaining: 25.4s\n",
      "363:\tlearn: 0.9857938\ttotal: 14.5s\tremaining: 25.3s\n",
      "364:\tlearn: 0.9856468\ttotal: 14.5s\tremaining: 25.3s\n",
      "365:\tlearn: 0.9855423\ttotal: 14.6s\tremaining: 25.2s\n",
      "366:\tlearn: 0.9854743\ttotal: 14.6s\tremaining: 25.2s\n",
      "367:\tlearn: 0.9853550\ttotal: 14.7s\tremaining: 25.2s\n",
      "368:\tlearn: 0.9851575\ttotal: 14.7s\tremaining: 25.1s\n",
      "369:\tlearn: 0.9849296\ttotal: 14.7s\tremaining: 25.1s\n",
      "370:\tlearn: 0.9846668\ttotal: 14.8s\tremaining: 25s\n",
      "371:\tlearn: 0.9845931\ttotal: 14.8s\tremaining: 25s\n",
      "372:\tlearn: 0.9840264\ttotal: 14.8s\tremaining: 25s\n",
      "373:\tlearn: 0.9839273\ttotal: 14.9s\tremaining: 24.9s\n",
      "374:\tlearn: 0.9837732\ttotal: 14.9s\tremaining: 24.9s\n",
      "375:\tlearn: 0.9837034\ttotal: 15s\tremaining: 24.8s\n",
      "376:\tlearn: 0.9835972\ttotal: 15s\tremaining: 24.8s\n",
      "377:\tlearn: 0.9835326\ttotal: 15s\tremaining: 24.8s\n",
      "378:\tlearn: 0.9834675\ttotal: 15.1s\tremaining: 24.7s\n",
      "379:\tlearn: 0.9831327\ttotal: 15.1s\tremaining: 24.7s\n",
      "380:\tlearn: 0.9830038\ttotal: 15.2s\tremaining: 24.6s\n",
      "381:\tlearn: 0.9828425\ttotal: 15.2s\tremaining: 24.6s\n",
      "382:\tlearn: 0.9827184\ttotal: 15.2s\tremaining: 24.5s\n",
      "383:\tlearn: 0.9825208\ttotal: 15.3s\tremaining: 24.5s\n",
      "384:\tlearn: 0.9823622\ttotal: 15.3s\tremaining: 24.5s\n",
      "385:\tlearn: 0.9822917\ttotal: 15.4s\tremaining: 24.4s\n",
      "386:\tlearn: 0.9822269\ttotal: 15.4s\tremaining: 24.4s\n",
      "387:\tlearn: 0.9820058\ttotal: 15.5s\tremaining: 24.4s\n",
      "388:\tlearn: 0.9818798\ttotal: 15.5s\tremaining: 24.3s\n",
      "389:\tlearn: 0.9817751\ttotal: 15.5s\tremaining: 24.3s\n",
      "390:\tlearn: 0.9814944\ttotal: 15.6s\tremaining: 24.3s\n",
      "391:\tlearn: 0.9814267\ttotal: 15.6s\tremaining: 24.2s\n",
      "392:\tlearn: 0.9813236\ttotal: 15.7s\tremaining: 24.2s\n",
      "393:\tlearn: 0.9811445\ttotal: 15.7s\tremaining: 24.2s\n",
      "394:\tlearn: 0.9809664\ttotal: 15.8s\tremaining: 24.1s\n",
      "395:\tlearn: 0.9808220\ttotal: 15.8s\tremaining: 24.1s\n",
      "396:\tlearn: 0.9807574\ttotal: 15.8s\tremaining: 24.1s\n",
      "397:\tlearn: 0.9806907\ttotal: 15.9s\tremaining: 24s\n",
      "398:\tlearn: 0.9806248\ttotal: 15.9s\tremaining: 24s\n",
      "399:\tlearn: 0.9804238\ttotal: 16s\tremaining: 23.9s\n",
      "400:\tlearn: 0.9802938\ttotal: 16s\tremaining: 23.9s\n",
      "401:\tlearn: 0.9800614\ttotal: 16s\tremaining: 23.9s\n",
      "402:\tlearn: 0.9799888\ttotal: 16.1s\tremaining: 23.8s\n",
      "403:\tlearn: 0.9798572\ttotal: 16.1s\tremaining: 23.8s\n",
      "404:\tlearn: 0.9797881\ttotal: 16.2s\tremaining: 23.7s\n",
      "405:\tlearn: 0.9796767\ttotal: 16.2s\tremaining: 23.7s\n",
      "406:\tlearn: 0.9795509\ttotal: 16.2s\tremaining: 23.6s\n",
      "407:\tlearn: 0.9793944\ttotal: 16.3s\tremaining: 23.6s\n",
      "408:\tlearn: 0.9792995\ttotal: 16.3s\tremaining: 23.6s\n",
      "409:\tlearn: 0.9791823\ttotal: 16.3s\tremaining: 23.5s\n",
      "410:\tlearn: 0.9791169\ttotal: 16.4s\tremaining: 23.5s\n",
      "411:\tlearn: 0.9789961\ttotal: 16.4s\tremaining: 23.4s\n",
      "412:\tlearn: 0.9787622\ttotal: 16.5s\tremaining: 23.4s\n",
      "413:\tlearn: 0.9786980\ttotal: 16.5s\tremaining: 23.4s\n",
      "414:\tlearn: 0.9784621\ttotal: 16.5s\tremaining: 23.3s\n",
      "415:\tlearn: 0.9782787\ttotal: 16.6s\tremaining: 23.3s\n",
      "416:\tlearn: 0.9780658\ttotal: 16.6s\tremaining: 23.2s\n",
      "417:\tlearn: 0.9779684\ttotal: 16.7s\tremaining: 23.2s\n",
      "418:\tlearn: 0.9776895\ttotal: 16.7s\tremaining: 23.2s\n",
      "419:\tlearn: 0.9774253\ttotal: 16.7s\tremaining: 23.1s\n",
      "420:\tlearn: 0.9773089\ttotal: 16.8s\tremaining: 23.1s\n",
      "421:\tlearn: 0.9771550\ttotal: 16.8s\tremaining: 23s\n",
      "422:\tlearn: 0.9768565\ttotal: 16.9s\tremaining: 23s\n",
      "423:\tlearn: 0.9767946\ttotal: 16.9s\tremaining: 23s\n",
      "424:\tlearn: 0.9766220\ttotal: 16.9s\tremaining: 22.9s\n",
      "425:\tlearn: 0.9765606\ttotal: 17s\tremaining: 22.9s\n",
      "426:\tlearn: 0.9763226\ttotal: 17s\tremaining: 22.9s\n",
      "427:\tlearn: 0.9760819\ttotal: 17.1s\tremaining: 22.8s\n",
      "428:\tlearn: 0.9759905\ttotal: 17.1s\tremaining: 22.8s\n",
      "429:\tlearn: 0.9758717\ttotal: 17.1s\tremaining: 22.7s\n",
      "430:\tlearn: 0.9757658\ttotal: 17.2s\tremaining: 22.7s\n",
      "431:\tlearn: 0.9756309\ttotal: 17.2s\tremaining: 22.6s\n",
      "432:\tlearn: 0.9755673\ttotal: 17.3s\tremaining: 22.6s\n",
      "433:\tlearn: 0.9754824\ttotal: 17.3s\tremaining: 22.6s\n",
      "434:\tlearn: 0.9754192\ttotal: 17.3s\tremaining: 22.5s\n",
      "435:\tlearn: 0.9752607\ttotal: 17.4s\tremaining: 22.5s\n",
      "436:\tlearn: 0.9749903\ttotal: 17.4s\tremaining: 22.5s\n",
      "437:\tlearn: 0.9749299\ttotal: 17.5s\tremaining: 22.4s\n",
      "438:\tlearn: 0.9747734\ttotal: 17.5s\tremaining: 22.4s\n",
      "439:\tlearn: 0.9746564\ttotal: 17.6s\tremaining: 22.4s\n",
      "440:\tlearn: 0.9745394\ttotal: 17.6s\tremaining: 22.3s\n",
      "441:\tlearn: 0.9744323\ttotal: 17.6s\tremaining: 22.3s\n",
      "442:\tlearn: 0.9743158\ttotal: 17.7s\tremaining: 22.2s\n",
      "443:\tlearn: 0.9741611\ttotal: 17.7s\tremaining: 22.2s\n",
      "444:\tlearn: 0.9739391\ttotal: 17.8s\tremaining: 22.2s\n",
      "445:\tlearn: 0.9737184\ttotal: 17.8s\tremaining: 22.1s\n",
      "446:\tlearn: 0.9736477\ttotal: 17.8s\tremaining: 22.1s\n",
      "447:\tlearn: 0.9735854\ttotal: 17.9s\tremaining: 22s\n",
      "448:\tlearn: 0.9734668\ttotal: 17.9s\tremaining: 22s\n",
      "449:\tlearn: 0.9733984\ttotal: 18s\tremaining: 21.9s\n",
      "450:\tlearn: 0.9732697\ttotal: 18s\tremaining: 21.9s\n",
      "451:\tlearn: 0.9731742\ttotal: 18s\tremaining: 21.9s\n",
      "452:\tlearn: 0.9731070\ttotal: 18.1s\tremaining: 21.8s\n",
      "453:\tlearn: 0.9728977\ttotal: 18.1s\tremaining: 21.8s\n",
      "454:\tlearn: 0.9728315\ttotal: 18.2s\tremaining: 21.7s\n",
      "455:\tlearn: 0.9726886\ttotal: 18.2s\tremaining: 21.7s\n",
      "456:\tlearn: 0.9726259\ttotal: 18.2s\tremaining: 21.7s\n",
      "457:\tlearn: 0.9725640\ttotal: 18.3s\tremaining: 21.6s\n",
      "458:\tlearn: 0.9725030\ttotal: 18.3s\tremaining: 21.6s\n",
      "459:\tlearn: 0.9724427\ttotal: 18.4s\tremaining: 21.5s\n",
      "460:\tlearn: 0.9722765\ttotal: 18.4s\tremaining: 21.5s\n",
      "461:\tlearn: 0.9722119\ttotal: 18.4s\tremaining: 21.5s\n",
      "462:\tlearn: 0.9720700\ttotal: 18.5s\tremaining: 21.4s\n",
      "463:\tlearn: 0.9718067\ttotal: 18.5s\tremaining: 21.4s\n",
      "464:\tlearn: 0.9715949\ttotal: 18.5s\tremaining: 21.3s\n",
      "465:\tlearn: 0.9715005\ttotal: 18.6s\tremaining: 21.3s\n",
      "466:\tlearn: 0.9713959\ttotal: 18.6s\tremaining: 21.3s\n",
      "467:\tlearn: 0.9711124\ttotal: 18.7s\tremaining: 21.2s\n",
      "468:\tlearn: 0.9709429\ttotal: 18.7s\tremaining: 21.2s\n",
      "469:\tlearn: 0.9708069\ttotal: 18.7s\tremaining: 21.1s\n",
      "470:\tlearn: 0.9706597\ttotal: 18.8s\tremaining: 21.1s\n",
      "471:\tlearn: 0.9705961\ttotal: 18.8s\tremaining: 21.1s\n",
      "472:\tlearn: 0.9705063\ttotal: 18.9s\tremaining: 21s\n",
      "473:\tlearn: 0.9703125\ttotal: 18.9s\tremaining: 21s\n",
      "474:\tlearn: 0.9701156\ttotal: 18.9s\tremaining: 20.9s\n",
      "475:\tlearn: 0.9700332\ttotal: 19s\tremaining: 20.9s\n",
      "476:\tlearn: 0.9699082\ttotal: 19s\tremaining: 20.9s\n",
      "477:\tlearn: 0.9696839\ttotal: 19.1s\tremaining: 20.8s\n",
      "478:\tlearn: 0.9694731\ttotal: 19.1s\tremaining: 20.8s\n",
      "479:\tlearn: 0.9694135\ttotal: 19.1s\tremaining: 20.7s\n",
      "480:\tlearn: 0.9693278\ttotal: 19.2s\tremaining: 20.7s\n",
      "481:\tlearn: 0.9692205\ttotal: 19.2s\tremaining: 20.7s\n",
      "482:\tlearn: 0.9690481\ttotal: 19.3s\tremaining: 20.6s\n",
      "483:\tlearn: 0.9689892\ttotal: 19.3s\tremaining: 20.6s\n",
      "484:\tlearn: 0.9688244\ttotal: 19.3s\tremaining: 20.5s\n",
      "485:\tlearn: 0.9687495\ttotal: 19.4s\tremaining: 20.5s\n",
      "486:\tlearn: 0.9686722\ttotal: 19.4s\tremaining: 20.5s\n",
      "487:\tlearn: 0.9684656\ttotal: 19.5s\tremaining: 20.4s\n",
      "488:\tlearn: 0.9683200\ttotal: 19.5s\tremaining: 20.4s\n",
      "489:\tlearn: 0.9682627\ttotal: 19.5s\tremaining: 20.3s\n",
      "490:\tlearn: 0.9681682\ttotal: 19.6s\tremaining: 20.3s\n",
      "491:\tlearn: 0.9679968\ttotal: 19.6s\tremaining: 20.3s\n",
      "492:\tlearn: 0.9679351\ttotal: 19.7s\tremaining: 20.2s\n",
      "493:\tlearn: 0.9677705\ttotal: 19.7s\tremaining: 20.2s\n",
      "494:\tlearn: 0.9676068\ttotal: 19.7s\tremaining: 20.1s\n",
      "495:\tlearn: 0.9674796\ttotal: 19.8s\tremaining: 20.1s\n",
      "496:\tlearn: 0.9674166\ttotal: 19.8s\tremaining: 20s\n",
      "497:\tlearn: 0.9672783\ttotal: 19.9s\tremaining: 20s\n",
      "498:\tlearn: 0.9672210\ttotal: 19.9s\tremaining: 20s\n",
      "499:\tlearn: 0.9671648\ttotal: 19.9s\tremaining: 19.9s\n",
      "500:\tlearn: 0.9671026\ttotal: 20s\tremaining: 19.9s\n",
      "501:\tlearn: 0.9670476\ttotal: 20s\tremaining: 19.8s\n",
      "502:\tlearn: 0.9668308\ttotal: 20s\tremaining: 19.8s\n",
      "503:\tlearn: 0.9666529\ttotal: 20.1s\tremaining: 19.8s\n",
      "504:\tlearn: 0.9665613\ttotal: 20.1s\tremaining: 19.7s\n",
      "505:\tlearn: 0.9664431\ttotal: 20.2s\tremaining: 19.7s\n",
      "506:\tlearn: 0.9663543\ttotal: 20.2s\tremaining: 19.6s\n",
      "507:\tlearn: 0.9661998\ttotal: 20.2s\tremaining: 19.6s\n",
      "508:\tlearn: 0.9661168\ttotal: 20.3s\tremaining: 19.6s\n",
      "509:\tlearn: 0.9659206\ttotal: 20.3s\tremaining: 19.5s\n",
      "510:\tlearn: 0.9657903\ttotal: 20.4s\tremaining: 19.5s\n",
      "511:\tlearn: 0.9655505\ttotal: 20.4s\tremaining: 19.4s\n",
      "512:\tlearn: 0.9652449\ttotal: 20.4s\tremaining: 19.4s\n",
      "513:\tlearn: 0.9651378\ttotal: 20.5s\tremaining: 19.4s\n",
      "514:\tlearn: 0.9650805\ttotal: 20.5s\tremaining: 19.3s\n",
      "515:\tlearn: 0.9649895\ttotal: 20.6s\tremaining: 19.3s\n",
      "516:\tlearn: 0.9649367\ttotal: 20.6s\tremaining: 19.2s\n",
      "517:\tlearn: 0.9647723\ttotal: 20.6s\tremaining: 19.2s\n",
      "518:\tlearn: 0.9644712\ttotal: 20.7s\tremaining: 19.2s\n",
      "519:\tlearn: 0.9643530\ttotal: 20.7s\tremaining: 19.1s\n",
      "520:\tlearn: 0.9641573\ttotal: 20.8s\tremaining: 19.1s\n",
      "521:\tlearn: 0.9639809\ttotal: 20.8s\tremaining: 19s\n",
      "522:\tlearn: 0.9638902\ttotal: 20.8s\tremaining: 19s\n",
      "523:\tlearn: 0.9638185\ttotal: 20.9s\tremaining: 19s\n",
      "524:\tlearn: 0.9637151\ttotal: 20.9s\tremaining: 18.9s\n",
      "525:\tlearn: 0.9636584\ttotal: 21s\tremaining: 18.9s\n",
      "526:\tlearn: 0.9635296\ttotal: 21s\tremaining: 18.8s\n",
      "527:\tlearn: 0.9634627\ttotal: 21s\tremaining: 18.8s\n",
      "528:\tlearn: 0.9633815\ttotal: 21.1s\tremaining: 18.8s\n",
      "529:\tlearn: 0.9633252\ttotal: 21.1s\tremaining: 18.7s\n",
      "530:\tlearn: 0.9632351\ttotal: 21.2s\tremaining: 18.7s\n",
      "531:\tlearn: 0.9631325\ttotal: 21.2s\tremaining: 18.6s\n",
      "532:\tlearn: 0.9630240\ttotal: 21.2s\tremaining: 18.6s\n",
      "533:\tlearn: 0.9628362\ttotal: 21.3s\tremaining: 18.6s\n",
      "534:\tlearn: 0.9626040\ttotal: 21.3s\tremaining: 18.5s\n",
      "535:\tlearn: 0.9625203\ttotal: 21.4s\tremaining: 18.5s\n",
      "536:\tlearn: 0.9623028\ttotal: 21.4s\tremaining: 18.4s\n",
      "537:\tlearn: 0.9621380\ttotal: 21.4s\tremaining: 18.4s\n",
      "538:\tlearn: 0.9619684\ttotal: 21.5s\tremaining: 18.4s\n",
      "539:\tlearn: 0.9618587\ttotal: 21.5s\tremaining: 18.3s\n",
      "540:\tlearn: 0.9618029\ttotal: 21.6s\tremaining: 18.3s\n",
      "541:\tlearn: 0.9617474\ttotal: 21.6s\tremaining: 18.2s\n",
      "542:\tlearn: 0.9615637\ttotal: 21.6s\tremaining: 18.2s\n",
      "543:\tlearn: 0.9613534\ttotal: 21.7s\tremaining: 18.2s\n",
      "544:\tlearn: 0.9611935\ttotal: 21.7s\tremaining: 18.1s\n",
      "545:\tlearn: 0.9610873\ttotal: 21.8s\tremaining: 18.1s\n",
      "546:\tlearn: 0.9609540\ttotal: 21.8s\tremaining: 18s\n",
      "547:\tlearn: 0.9608335\ttotal: 21.8s\tremaining: 18s\n",
      "548:\tlearn: 0.9607276\ttotal: 21.9s\tremaining: 18s\n",
      "549:\tlearn: 0.9605016\ttotal: 21.9s\tremaining: 17.9s\n",
      "550:\tlearn: 0.9604184\ttotal: 21.9s\tremaining: 17.9s\n",
      "551:\tlearn: 0.9603632\ttotal: 22s\tremaining: 17.8s\n",
      "552:\tlearn: 0.9602836\ttotal: 22s\tremaining: 17.8s\n",
      "553:\tlearn: 0.9602288\ttotal: 22.1s\tremaining: 17.8s\n",
      "554:\tlearn: 0.9600224\ttotal: 22.1s\tremaining: 17.7s\n",
      "555:\tlearn: 0.9597780\ttotal: 22.1s\tremaining: 17.7s\n",
      "556:\tlearn: 0.9596815\ttotal: 22.2s\tremaining: 17.6s\n",
      "557:\tlearn: 0.9595323\ttotal: 22.2s\tremaining: 17.6s\n",
      "558:\tlearn: 0.9593678\ttotal: 22.3s\tremaining: 17.6s\n",
      "559:\tlearn: 0.9592661\ttotal: 22.3s\tremaining: 17.5s\n",
      "560:\tlearn: 0.9592155\ttotal: 22.3s\tremaining: 17.5s\n",
      "561:\tlearn: 0.9588913\ttotal: 22.4s\tremaining: 17.4s\n",
      "562:\tlearn: 0.9588048\ttotal: 22.4s\tremaining: 17.4s\n",
      "563:\tlearn: 0.9586181\ttotal: 22.4s\tremaining: 17.4s\n",
      "564:\tlearn: 0.9585367\ttotal: 22.5s\tremaining: 17.3s\n",
      "565:\tlearn: 0.9583474\ttotal: 22.5s\tremaining: 17.3s\n",
      "566:\tlearn: 0.9580760\ttotal: 22.6s\tremaining: 17.2s\n",
      "567:\tlearn: 0.9580146\ttotal: 22.6s\tremaining: 17.2s\n",
      "568:\tlearn: 0.9578841\ttotal: 22.6s\tremaining: 17.1s\n",
      "569:\tlearn: 0.9576071\ttotal: 22.7s\tremaining: 17.1s\n",
      "570:\tlearn: 0.9575314\ttotal: 22.7s\tremaining: 17.1s\n",
      "571:\tlearn: 0.9573563\ttotal: 22.8s\tremaining: 17s\n",
      "572:\tlearn: 0.9572230\ttotal: 22.8s\tremaining: 17s\n",
      "573:\tlearn: 0.9570360\ttotal: 22.8s\tremaining: 16.9s\n",
      "574:\tlearn: 0.9569762\ttotal: 22.9s\tremaining: 16.9s\n",
      "575:\tlearn: 0.9567904\ttotal: 22.9s\tremaining: 16.9s\n",
      "576:\tlearn: 0.9567364\ttotal: 22.9s\tremaining: 16.8s\n",
      "577:\tlearn: 0.9566828\ttotal: 23s\tremaining: 16.8s\n",
      "578:\tlearn: 0.9566006\ttotal: 23s\tremaining: 16.7s\n",
      "579:\tlearn: 0.9565424\ttotal: 23.1s\tremaining: 16.7s\n",
      "580:\tlearn: 0.9564586\ttotal: 23.1s\tremaining: 16.7s\n",
      "581:\tlearn: 0.9563164\ttotal: 23.1s\tremaining: 16.6s\n",
      "582:\tlearn: 0.9562632\ttotal: 23.2s\tremaining: 16.6s\n",
      "583:\tlearn: 0.9561952\ttotal: 23.2s\tremaining: 16.5s\n",
      "584:\tlearn: 0.9561422\ttotal: 23.2s\tremaining: 16.5s\n",
      "585:\tlearn: 0.9560557\ttotal: 23.3s\tremaining: 16.5s\n",
      "586:\tlearn: 0.9560032\ttotal: 23.3s\tremaining: 16.4s\n",
      "587:\tlearn: 0.9557274\ttotal: 23.4s\tremaining: 16.4s\n",
      "588:\tlearn: 0.9556101\ttotal: 23.4s\tremaining: 16.3s\n",
      "589:\tlearn: 0.9554595\ttotal: 23.4s\tremaining: 16.3s\n",
      "590:\tlearn: 0.9554052\ttotal: 23.5s\tremaining: 16.2s\n",
      "591:\tlearn: 0.9552094\ttotal: 23.5s\tremaining: 16.2s\n",
      "592:\tlearn: 0.9550495\ttotal: 23.6s\tremaining: 16.2s\n",
      "593:\tlearn: 0.9549556\ttotal: 23.6s\tremaining: 16.1s\n",
      "594:\tlearn: 0.9547880\ttotal: 23.6s\tremaining: 16.1s\n",
      "595:\tlearn: 0.9546400\ttotal: 23.7s\tremaining: 16s\n",
      "596:\tlearn: 0.9545713\ttotal: 23.7s\tremaining: 16s\n",
      "597:\tlearn: 0.9545191\ttotal: 23.8s\tremaining: 16s\n",
      "598:\tlearn: 0.9543673\ttotal: 23.8s\tremaining: 15.9s\n",
      "599:\tlearn: 0.9539470\ttotal: 23.9s\tremaining: 15.9s\n",
      "600:\tlearn: 0.9537459\ttotal: 23.9s\tremaining: 15.9s\n",
      "601:\tlearn: 0.9536652\ttotal: 23.9s\tremaining: 15.8s\n",
      "602:\tlearn: 0.9535919\ttotal: 24s\tremaining: 15.8s\n",
      "603:\tlearn: 0.9534672\ttotal: 24s\tremaining: 15.8s\n",
      "604:\tlearn: 0.9533835\ttotal: 24.1s\tremaining: 15.7s\n",
      "605:\tlearn: 0.9533033\ttotal: 24.1s\tremaining: 15.7s\n",
      "606:\tlearn: 0.9532535\ttotal: 24.1s\tremaining: 15.6s\n",
      "607:\tlearn: 0.9531399\ttotal: 24.2s\tremaining: 15.6s\n",
      "608:\tlearn: 0.9530428\ttotal: 24.2s\tremaining: 15.6s\n",
      "609:\tlearn: 0.9528920\ttotal: 24.3s\tremaining: 15.5s\n",
      "610:\tlearn: 0.9528404\ttotal: 24.3s\tremaining: 15.5s\n",
      "611:\tlearn: 0.9526624\ttotal: 24.3s\tremaining: 15.4s\n",
      "612:\tlearn: 0.9525921\ttotal: 24.4s\tremaining: 15.4s\n",
      "613:\tlearn: 0.9524875\ttotal: 24.4s\tremaining: 15.4s\n",
      "614:\tlearn: 0.9523277\ttotal: 24.5s\tremaining: 15.3s\n",
      "615:\tlearn: 0.9521445\ttotal: 24.5s\tremaining: 15.3s\n",
      "616:\tlearn: 0.9520548\ttotal: 24.5s\tremaining: 15.2s\n",
      "617:\tlearn: 0.9519729\ttotal: 24.6s\tremaining: 15.2s\n",
      "618:\tlearn: 0.9518715\ttotal: 24.6s\tremaining: 15.2s\n",
      "619:\tlearn: 0.9518201\ttotal: 24.7s\tremaining: 15.1s\n",
      "620:\tlearn: 0.9517088\ttotal: 24.7s\tremaining: 15.1s\n",
      "621:\tlearn: 0.9515894\ttotal: 24.7s\tremaining: 15s\n",
      "622:\tlearn: 0.9515130\ttotal: 24.8s\tremaining: 15s\n",
      "623:\tlearn: 0.9514619\ttotal: 24.8s\tremaining: 14.9s\n",
      "624:\tlearn: 0.9512449\ttotal: 24.8s\tremaining: 14.9s\n",
      "625:\tlearn: 0.9511178\ttotal: 24.9s\tremaining: 14.9s\n",
      "626:\tlearn: 0.9509604\ttotal: 24.9s\tremaining: 14.8s\n",
      "627:\tlearn: 0.9507778\ttotal: 25s\tremaining: 14.8s\n",
      "628:\tlearn: 0.9507037\ttotal: 25s\tremaining: 14.7s\n",
      "629:\tlearn: 0.9506120\ttotal: 25s\tremaining: 14.7s\n",
      "630:\tlearn: 0.9505610\ttotal: 25.1s\tremaining: 14.7s\n",
      "631:\tlearn: 0.9503901\ttotal: 25.1s\tremaining: 14.6s\n",
      "632:\tlearn: 0.9503346\ttotal: 25.2s\tremaining: 14.6s\n",
      "633:\tlearn: 0.9502372\ttotal: 25.2s\tremaining: 14.5s\n",
      "634:\tlearn: 0.9501896\ttotal: 25.2s\tremaining: 14.5s\n",
      "635:\tlearn: 0.9500116\ttotal: 25.3s\tremaining: 14.5s\n",
      "636:\tlearn: 0.9499342\ttotal: 25.3s\tremaining: 14.4s\n",
      "637:\tlearn: 0.9497516\ttotal: 25.4s\tremaining: 14.4s\n",
      "638:\tlearn: 0.9495756\ttotal: 25.4s\tremaining: 14.3s\n",
      "639:\tlearn: 0.9495256\ttotal: 25.4s\tremaining: 14.3s\n",
      "640:\tlearn: 0.9494064\ttotal: 25.5s\tremaining: 14.3s\n",
      "641:\tlearn: 0.9491718\ttotal: 25.5s\tremaining: 14.2s\n",
      "642:\tlearn: 0.9490024\ttotal: 25.5s\tremaining: 14.2s\n",
      "643:\tlearn: 0.9488318\ttotal: 25.6s\tremaining: 14.1s\n",
      "644:\tlearn: 0.9487614\ttotal: 25.6s\tremaining: 14.1s\n",
      "645:\tlearn: 0.9487115\ttotal: 25.7s\tremaining: 14.1s\n",
      "646:\tlearn: 0.9486080\ttotal: 25.7s\tremaining: 14s\n",
      "647:\tlearn: 0.9484654\ttotal: 25.7s\tremaining: 14s\n",
      "648:\tlearn: 0.9484216\ttotal: 25.8s\tremaining: 13.9s\n",
      "649:\tlearn: 0.9483453\ttotal: 25.8s\tremaining: 13.9s\n",
      "650:\tlearn: 0.9482691\ttotal: 25.9s\tremaining: 13.9s\n",
      "651:\tlearn: 0.9481983\ttotal: 25.9s\tremaining: 13.8s\n",
      "652:\tlearn: 0.9480532\ttotal: 25.9s\tremaining: 13.8s\n",
      "653:\tlearn: 0.9478741\ttotal: 26s\tremaining: 13.7s\n",
      "654:\tlearn: 0.9477230\ttotal: 26s\tremaining: 13.7s\n",
      "655:\tlearn: 0.9476786\ttotal: 26s\tremaining: 13.7s\n",
      "656:\tlearn: 0.9476322\ttotal: 26.1s\tremaining: 13.6s\n",
      "657:\tlearn: 0.9474067\ttotal: 26.1s\tremaining: 13.6s\n",
      "658:\tlearn: 0.9473231\ttotal: 26.2s\tremaining: 13.5s\n",
      "659:\tlearn: 0.9471761\ttotal: 26.2s\tremaining: 13.5s\n",
      "660:\tlearn: 0.9470150\ttotal: 26.2s\tremaining: 13.5s\n",
      "661:\tlearn: 0.9468887\ttotal: 26.3s\tremaining: 13.4s\n",
      "662:\tlearn: 0.9468073\ttotal: 26.3s\tremaining: 13.4s\n",
      "663:\tlearn: 0.9465655\ttotal: 26.3s\tremaining: 13.3s\n",
      "664:\tlearn: 0.9464822\ttotal: 26.4s\tremaining: 13.3s\n",
      "665:\tlearn: 0.9463584\ttotal: 26.4s\tremaining: 13.2s\n",
      "666:\tlearn: 0.9463123\ttotal: 26.5s\tremaining: 13.2s\n",
      "667:\tlearn: 0.9462616\ttotal: 26.5s\tremaining: 13.2s\n",
      "668:\tlearn: 0.9459886\ttotal: 26.5s\tremaining: 13.1s\n",
      "669:\tlearn: 0.9458899\ttotal: 26.6s\tremaining: 13.1s\n",
      "670:\tlearn: 0.9457032\ttotal: 26.6s\tremaining: 13s\n",
      "671:\tlearn: 0.9456265\ttotal: 26.6s\tremaining: 13s\n",
      "672:\tlearn: 0.9455435\ttotal: 26.7s\tremaining: 13s\n",
      "673:\tlearn: 0.9454509\ttotal: 26.7s\tremaining: 12.9s\n",
      "674:\tlearn: 0.9454022\ttotal: 26.8s\tremaining: 12.9s\n",
      "675:\tlearn: 0.9453025\ttotal: 26.8s\tremaining: 12.8s\n",
      "676:\tlearn: 0.9451765\ttotal: 26.8s\tremaining: 12.8s\n",
      "677:\tlearn: 0.9451020\ttotal: 26.9s\tremaining: 12.8s\n",
      "678:\tlearn: 0.9448737\ttotal: 26.9s\tremaining: 12.7s\n",
      "679:\tlearn: 0.9448252\ttotal: 27s\tremaining: 12.7s\n",
      "680:\tlearn: 0.9445628\ttotal: 27s\tremaining: 12.6s\n",
      "681:\tlearn: 0.9445180\ttotal: 27s\tremaining: 12.6s\n",
      "682:\tlearn: 0.9442884\ttotal: 27.1s\tremaining: 12.6s\n",
      "683:\tlearn: 0.9441275\ttotal: 27.1s\tremaining: 12.5s\n",
      "684:\tlearn: 0.9440560\ttotal: 27.1s\tremaining: 12.5s\n",
      "685:\tlearn: 0.9439725\ttotal: 27.2s\tremaining: 12.4s\n",
      "686:\tlearn: 0.9437990\ttotal: 27.2s\tremaining: 12.4s\n",
      "687:\tlearn: 0.9436869\ttotal: 27.3s\tremaining: 12.4s\n",
      "688:\tlearn: 0.9436419\ttotal: 27.3s\tremaining: 12.3s\n",
      "689:\tlearn: 0.9435983\ttotal: 27.3s\tremaining: 12.3s\n",
      "690:\tlearn: 0.9435275\ttotal: 27.4s\tremaining: 12.2s\n",
      "691:\tlearn: 0.9434290\ttotal: 27.4s\tremaining: 12.2s\n",
      "692:\tlearn: 0.9432880\ttotal: 27.5s\tremaining: 12.2s\n",
      "693:\tlearn: 0.9430912\ttotal: 27.5s\tremaining: 12.1s\n",
      "694:\tlearn: 0.9429897\ttotal: 27.5s\tremaining: 12.1s\n",
      "695:\tlearn: 0.9429462\ttotal: 27.6s\tremaining: 12s\n",
      "696:\tlearn: 0.9429002\ttotal: 27.6s\tremaining: 12s\n",
      "697:\tlearn: 0.9426444\ttotal: 27.7s\tremaining: 12s\n",
      "698:\tlearn: 0.9426016\ttotal: 27.7s\tremaining: 11.9s\n",
      "699:\tlearn: 0.9425603\ttotal: 27.7s\tremaining: 11.9s\n",
      "700:\tlearn: 0.9424510\ttotal: 27.8s\tremaining: 11.8s\n",
      "701:\tlearn: 0.9422772\ttotal: 27.8s\tremaining: 11.8s\n",
      "702:\tlearn: 0.9421819\ttotal: 27.9s\tremaining: 11.8s\n",
      "703:\tlearn: 0.9421103\ttotal: 27.9s\tremaining: 11.7s\n",
      "704:\tlearn: 0.9420706\ttotal: 27.9s\tremaining: 11.7s\n",
      "705:\tlearn: 0.9419912\ttotal: 28s\tremaining: 11.7s\n",
      "706:\tlearn: 0.9419301\ttotal: 28s\tremaining: 11.6s\n",
      "707:\tlearn: 0.9417783\ttotal: 28.1s\tremaining: 11.6s\n",
      "708:\tlearn: 0.9416398\ttotal: 28.1s\tremaining: 11.5s\n",
      "709:\tlearn: 0.9415311\ttotal: 28.1s\tremaining: 11.5s\n",
      "710:\tlearn: 0.9414283\ttotal: 28.2s\tremaining: 11.5s\n",
      "711:\tlearn: 0.9413865\ttotal: 28.2s\tremaining: 11.4s\n",
      "712:\tlearn: 0.9413429\ttotal: 28.3s\tremaining: 11.4s\n",
      "713:\tlearn: 0.9412343\ttotal: 28.3s\tremaining: 11.3s\n",
      "714:\tlearn: 0.9411937\ttotal: 28.3s\tremaining: 11.3s\n",
      "715:\tlearn: 0.9410875\ttotal: 28.4s\tremaining: 11.3s\n",
      "716:\tlearn: 0.9409904\ttotal: 28.4s\tremaining: 11.2s\n",
      "717:\tlearn: 0.9409001\ttotal: 28.5s\tremaining: 11.2s\n",
      "718:\tlearn: 0.9408227\ttotal: 28.5s\tremaining: 11.2s\n",
      "719:\tlearn: 0.9407807\ttotal: 28.6s\tremaining: 11.1s\n",
      "720:\tlearn: 0.9406464\ttotal: 28.6s\tremaining: 11.1s\n",
      "721:\tlearn: 0.9405831\ttotal: 28.7s\tremaining: 11s\n",
      "722:\tlearn: 0.9404257\ttotal: 28.7s\tremaining: 11s\n",
      "723:\tlearn: 0.9402603\ttotal: 28.7s\tremaining: 11s\n",
      "724:\tlearn: 0.9401294\ttotal: 28.8s\tremaining: 10.9s\n",
      "725:\tlearn: 0.9400426\ttotal: 28.8s\tremaining: 10.9s\n",
      "726:\tlearn: 0.9399842\ttotal: 28.9s\tremaining: 10.8s\n",
      "727:\tlearn: 0.9398959\ttotal: 28.9s\tremaining: 10.8s\n",
      "728:\tlearn: 0.9398106\ttotal: 29s\tremaining: 10.8s\n",
      "729:\tlearn: 0.9397719\ttotal: 29s\tremaining: 10.7s\n",
      "730:\tlearn: 0.9397251\ttotal: 29s\tremaining: 10.7s\n",
      "731:\tlearn: 0.9396540\ttotal: 29.1s\tremaining: 10.6s\n",
      "732:\tlearn: 0.9395748\ttotal: 29.1s\tremaining: 10.6s\n",
      "733:\tlearn: 0.9394456\ttotal: 29.2s\tremaining: 10.6s\n",
      "734:\tlearn: 0.9394067\ttotal: 29.2s\tremaining: 10.5s\n",
      "735:\tlearn: 0.9392972\ttotal: 29.2s\tremaining: 10.5s\n",
      "736:\tlearn: 0.9391579\ttotal: 29.3s\tremaining: 10.4s\n",
      "737:\tlearn: 0.9390913\ttotal: 29.3s\tremaining: 10.4s\n",
      "738:\tlearn: 0.9390057\ttotal: 29.4s\tremaining: 10.4s\n",
      "739:\tlearn: 0.9389674\ttotal: 29.4s\tremaining: 10.3s\n",
      "740:\tlearn: 0.9388120\ttotal: 29.4s\tremaining: 10.3s\n",
      "741:\tlearn: 0.9387684\ttotal: 29.5s\tremaining: 10.2s\n",
      "742:\tlearn: 0.9387015\ttotal: 29.5s\tremaining: 10.2s\n",
      "743:\tlearn: 0.9386621\ttotal: 29.6s\tremaining: 10.2s\n",
      "744:\tlearn: 0.9385428\ttotal: 29.6s\tremaining: 10.1s\n",
      "745:\tlearn: 0.9384984\ttotal: 29.6s\tremaining: 10.1s\n",
      "746:\tlearn: 0.9383782\ttotal: 29.7s\tremaining: 10s\n",
      "747:\tlearn: 0.9383066\ttotal: 29.7s\tremaining: 10s\n",
      "748:\tlearn: 0.9382658\ttotal: 29.7s\tremaining: 9.97s\n",
      "749:\tlearn: 0.9381086\ttotal: 29.8s\tremaining: 9.93s\n",
      "750:\tlearn: 0.9380034\ttotal: 29.8s\tremaining: 9.89s\n",
      "751:\tlearn: 0.9378542\ttotal: 29.9s\tremaining: 9.85s\n",
      "752:\tlearn: 0.9378176\ttotal: 29.9s\tremaining: 9.81s\n",
      "753:\tlearn: 0.9377735\ttotal: 29.9s\tremaining: 9.77s\n",
      "754:\tlearn: 0.9376848\ttotal: 30s\tremaining: 9.73s\n",
      "755:\tlearn: 0.9375642\ttotal: 30s\tremaining: 9.69s\n",
      "756:\tlearn: 0.9374784\ttotal: 30.1s\tremaining: 9.65s\n",
      "757:\tlearn: 0.9374349\ttotal: 30.1s\tremaining: 9.61s\n",
      "758:\tlearn: 0.9373920\ttotal: 30.1s\tremaining: 9.57s\n",
      "759:\tlearn: 0.9372758\ttotal: 30.2s\tremaining: 9.53s\n",
      "760:\tlearn: 0.9372376\ttotal: 30.2s\tremaining: 9.48s\n",
      "761:\tlearn: 0.9370762\ttotal: 30.2s\tremaining: 9.45s\n",
      "762:\tlearn: 0.9368906\ttotal: 30.3s\tremaining: 9.41s\n",
      "763:\tlearn: 0.9368483\ttotal: 30.3s\tremaining: 9.37s\n",
      "764:\tlearn: 0.9366527\ttotal: 30.4s\tremaining: 9.33s\n",
      "765:\tlearn: 0.9364202\ttotal: 30.4s\tremaining: 9.29s\n",
      "766:\tlearn: 0.9362975\ttotal: 30.4s\tremaining: 9.25s\n",
      "767:\tlearn: 0.9361640\ttotal: 30.5s\tremaining: 9.21s\n",
      "768:\tlearn: 0.9360363\ttotal: 30.5s\tremaining: 9.17s\n",
      "769:\tlearn: 0.9359698\ttotal: 30.6s\tremaining: 9.13s\n",
      "770:\tlearn: 0.9359274\ttotal: 30.6s\tremaining: 9.09s\n",
      "771:\tlearn: 0.9357613\ttotal: 30.6s\tremaining: 9.05s\n",
      "772:\tlearn: 0.9356192\ttotal: 30.7s\tremaining: 9.01s\n",
      "773:\tlearn: 0.9355322\ttotal: 30.7s\tremaining: 8.97s\n",
      "774:\tlearn: 0.9353444\ttotal: 30.8s\tremaining: 8.93s\n",
      "775:\tlearn: 0.9352753\ttotal: 30.8s\tremaining: 8.89s\n",
      "776:\tlearn: 0.9351712\ttotal: 30.8s\tremaining: 8.85s\n",
      "777:\tlearn: 0.9351285\ttotal: 30.9s\tremaining: 8.81s\n",
      "778:\tlearn: 0.9349876\ttotal: 30.9s\tremaining: 8.77s\n",
      "779:\tlearn: 0.9349425\ttotal: 31s\tremaining: 8.73s\n",
      "780:\tlearn: 0.9347830\ttotal: 31s\tremaining: 8.69s\n",
      "781:\tlearn: 0.9347404\ttotal: 31s\tremaining: 8.65s\n",
      "782:\tlearn: 0.9346968\ttotal: 31.1s\tremaining: 8.61s\n",
      "783:\tlearn: 0.9345534\ttotal: 31.1s\tremaining: 8.57s\n",
      "784:\tlearn: 0.9345115\ttotal: 31.2s\tremaining: 8.53s\n",
      "785:\tlearn: 0.9344097\ttotal: 31.2s\tremaining: 8.49s\n",
      "786:\tlearn: 0.9343643\ttotal: 31.2s\tremaining: 8.45s\n",
      "787:\tlearn: 0.9342810\ttotal: 31.3s\tremaining: 8.41s\n",
      "788:\tlearn: 0.9342150\ttotal: 31.3s\tremaining: 8.37s\n",
      "789:\tlearn: 0.9341723\ttotal: 31.3s\tremaining: 8.33s\n",
      "790:\tlearn: 0.9341265\ttotal: 31.4s\tremaining: 8.29s\n",
      "791:\tlearn: 0.9340890\ttotal: 31.4s\tremaining: 8.25s\n",
      "792:\tlearn: 0.9340518\ttotal: 31.5s\tremaining: 8.21s\n",
      "793:\tlearn: 0.9338935\ttotal: 31.5s\tremaining: 8.17s\n",
      "794:\tlearn: 0.9338574\ttotal: 31.5s\tremaining: 8.13s\n",
      "795:\tlearn: 0.9337306\ttotal: 31.6s\tremaining: 8.09s\n",
      "796:\tlearn: 0.9336197\ttotal: 31.6s\tremaining: 8.05s\n",
      "797:\tlearn: 0.9335800\ttotal: 31.7s\tremaining: 8.02s\n",
      "798:\tlearn: 0.9335154\ttotal: 31.7s\tremaining: 7.97s\n",
      "799:\tlearn: 0.9334427\ttotal: 31.7s\tremaining: 7.93s\n",
      "800:\tlearn: 0.9333250\ttotal: 31.8s\tremaining: 7.89s\n",
      "801:\tlearn: 0.9332378\ttotal: 31.8s\tremaining: 7.86s\n",
      "802:\tlearn: 0.9331956\ttotal: 31.9s\tremaining: 7.82s\n",
      "803:\tlearn: 0.9331328\ttotal: 31.9s\tremaining: 7.78s\n",
      "804:\tlearn: 0.9330015\ttotal: 31.9s\tremaining: 7.74s\n",
      "805:\tlearn: 0.9328912\ttotal: 32s\tremaining: 7.7s\n",
      "806:\tlearn: 0.9328514\ttotal: 32s\tremaining: 7.66s\n",
      "807:\tlearn: 0.9327743\ttotal: 32.1s\tremaining: 7.62s\n",
      "808:\tlearn: 0.9327295\ttotal: 32.1s\tremaining: 7.58s\n",
      "809:\tlearn: 0.9326432\ttotal: 32.1s\tremaining: 7.54s\n",
      "810:\tlearn: 0.9325764\ttotal: 32.2s\tremaining: 7.5s\n",
      "811:\tlearn: 0.9324494\ttotal: 32.2s\tremaining: 7.46s\n",
      "812:\tlearn: 0.9324078\ttotal: 32.3s\tremaining: 7.42s\n",
      "813:\tlearn: 0.9323722\ttotal: 32.3s\tremaining: 7.38s\n",
      "814:\tlearn: 0.9322906\ttotal: 32.3s\tremaining: 7.34s\n",
      "815:\tlearn: 0.9322302\ttotal: 32.4s\tremaining: 7.3s\n",
      "816:\tlearn: 0.9321855\ttotal: 32.4s\tremaining: 7.26s\n",
      "817:\tlearn: 0.9321463\ttotal: 32.5s\tremaining: 7.22s\n",
      "818:\tlearn: 0.9319925\ttotal: 32.5s\tremaining: 7.18s\n",
      "819:\tlearn: 0.9319496\ttotal: 32.5s\tremaining: 7.14s\n",
      "820:\tlearn: 0.9318817\ttotal: 32.6s\tremaining: 7.1s\n",
      "821:\tlearn: 0.9318413\ttotal: 32.6s\tremaining: 7.06s\n",
      "822:\tlearn: 0.9318015\ttotal: 32.7s\tremaining: 7.02s\n",
      "823:\tlearn: 0.9316402\ttotal: 32.7s\tremaining: 6.98s\n",
      "824:\tlearn: 0.9314597\ttotal: 32.7s\tremaining: 6.94s\n",
      "825:\tlearn: 0.9313656\ttotal: 32.8s\tremaining: 6.9s\n",
      "826:\tlearn: 0.9313227\ttotal: 32.8s\tremaining: 6.86s\n",
      "827:\tlearn: 0.9312859\ttotal: 32.8s\tremaining: 6.82s\n",
      "828:\tlearn: 0.9312477\ttotal: 32.9s\tremaining: 6.78s\n",
      "829:\tlearn: 0.9311732\ttotal: 32.9s\tremaining: 6.74s\n",
      "830:\tlearn: 0.9311319\ttotal: 33s\tremaining: 6.7s\n",
      "831:\tlearn: 0.9310938\ttotal: 33s\tremaining: 6.67s\n",
      "832:\tlearn: 0.9309443\ttotal: 33s\tremaining: 6.63s\n",
      "833:\tlearn: 0.9309065\ttotal: 33.1s\tremaining: 6.58s\n",
      "834:\tlearn: 0.9307215\ttotal: 33.1s\tremaining: 6.54s\n",
      "835:\tlearn: 0.9305921\ttotal: 33.2s\tremaining: 6.5s\n",
      "836:\tlearn: 0.9305307\ttotal: 33.2s\tremaining: 6.47s\n",
      "837:\tlearn: 0.9304866\ttotal: 33.2s\tremaining: 6.43s\n",
      "838:\tlearn: 0.9304456\ttotal: 33.3s\tremaining: 6.39s\n",
      "839:\tlearn: 0.9303422\ttotal: 33.3s\tremaining: 6.35s\n",
      "840:\tlearn: 0.9302726\ttotal: 33.4s\tremaining: 6.31s\n",
      "841:\tlearn: 0.9302070\ttotal: 33.4s\tremaining: 6.27s\n",
      "842:\tlearn: 0.9301667\ttotal: 33.4s\tremaining: 6.23s\n",
      "843:\tlearn: 0.9301277\ttotal: 33.5s\tremaining: 6.19s\n",
      "844:\tlearn: 0.9300508\ttotal: 33.5s\tremaining: 6.15s\n",
      "845:\tlearn: 0.9299913\ttotal: 33.6s\tremaining: 6.11s\n",
      "846:\tlearn: 0.9299506\ttotal: 33.6s\tremaining: 6.07s\n",
      "847:\tlearn: 0.9297674\ttotal: 33.6s\tremaining: 6.03s\n",
      "848:\tlearn: 0.9296794\ttotal: 33.7s\tremaining: 5.99s\n",
      "849:\tlearn: 0.9295798\ttotal: 33.7s\tremaining: 5.95s\n",
      "850:\tlearn: 0.9294433\ttotal: 33.8s\tremaining: 5.91s\n",
      "851:\tlearn: 0.9294014\ttotal: 33.8s\tremaining: 5.87s\n",
      "852:\tlearn: 0.9292902\ttotal: 33.8s\tremaining: 5.83s\n",
      "853:\tlearn: 0.9291725\ttotal: 33.9s\tremaining: 5.79s\n",
      "854:\tlearn: 0.9290946\ttotal: 33.9s\tremaining: 5.75s\n",
      "855:\tlearn: 0.9289970\ttotal: 34s\tremaining: 5.71s\n",
      "856:\tlearn: 0.9289188\ttotal: 34s\tremaining: 5.67s\n",
      "857:\tlearn: 0.9288417\ttotal: 34s\tremaining: 5.63s\n",
      "858:\tlearn: 0.9287141\ttotal: 34.1s\tremaining: 5.59s\n",
      "859:\tlearn: 0.9286348\ttotal: 34.1s\tremaining: 5.55s\n",
      "860:\tlearn: 0.9285519\ttotal: 34.1s\tremaining: 5.51s\n",
      "861:\tlearn: 0.9283639\ttotal: 34.2s\tremaining: 5.47s\n",
      "862:\tlearn: 0.9283202\ttotal: 34.2s\tremaining: 5.43s\n",
      "863:\tlearn: 0.9281815\ttotal: 34.3s\tremaining: 5.39s\n",
      "864:\tlearn: 0.9281406\ttotal: 34.3s\tremaining: 5.36s\n",
      "865:\tlearn: 0.9280759\ttotal: 34.3s\tremaining: 5.32s\n",
      "866:\tlearn: 0.9280340\ttotal: 34.4s\tremaining: 5.28s\n",
      "867:\tlearn: 0.9279904\ttotal: 34.4s\tremaining: 5.24s\n",
      "868:\tlearn: 0.9279074\ttotal: 34.5s\tremaining: 5.2s\n",
      "869:\tlearn: 0.9278023\ttotal: 34.5s\tremaining: 5.16s\n",
      "870:\tlearn: 0.9277104\ttotal: 34.5s\tremaining: 5.12s\n",
      "871:\tlearn: 0.9276687\ttotal: 34.6s\tremaining: 5.08s\n",
      "872:\tlearn: 0.9276303\ttotal: 34.6s\tremaining: 5.04s\n",
      "873:\tlearn: 0.9275191\ttotal: 34.7s\tremaining: 5s\n",
      "874:\tlearn: 0.9273399\ttotal: 34.7s\tremaining: 4.96s\n",
      "875:\tlearn: 0.9272118\ttotal: 34.7s\tremaining: 4.92s\n",
      "876:\tlearn: 0.9270526\ttotal: 34.8s\tremaining: 4.88s\n",
      "877:\tlearn: 0.9269339\ttotal: 34.8s\tremaining: 4.84s\n",
      "878:\tlearn: 0.9268903\ttotal: 34.9s\tremaining: 4.8s\n",
      "879:\tlearn: 0.9268513\ttotal: 34.9s\tremaining: 4.76s\n",
      "880:\tlearn: 0.9266845\ttotal: 34.9s\tremaining: 4.72s\n",
      "881:\tlearn: 0.9265578\ttotal: 35s\tremaining: 4.68s\n",
      "882:\tlearn: 0.9265144\ttotal: 35s\tremaining: 4.64s\n",
      "883:\tlearn: 0.9264154\ttotal: 35.1s\tremaining: 4.6s\n",
      "884:\tlearn: 0.9262308\ttotal: 35.1s\tremaining: 4.56s\n",
      "885:\tlearn: 0.9261940\ttotal: 35.1s\tremaining: 4.52s\n",
      "886:\tlearn: 0.9261573\ttotal: 35.2s\tremaining: 4.48s\n",
      "887:\tlearn: 0.9260232\ttotal: 35.2s\tremaining: 4.44s\n",
      "888:\tlearn: 0.9259800\ttotal: 35.3s\tremaining: 4.4s\n",
      "889:\tlearn: 0.9256598\ttotal: 35.3s\tremaining: 4.36s\n",
      "890:\tlearn: 0.9256013\ttotal: 35.3s\tremaining: 4.32s\n",
      "891:\tlearn: 0.9255657\ttotal: 35.4s\tremaining: 4.28s\n",
      "892:\tlearn: 0.9254338\ttotal: 35.4s\tremaining: 4.24s\n",
      "893:\tlearn: 0.9253937\ttotal: 35.4s\tremaining: 4.2s\n",
      "894:\tlearn: 0.9253522\ttotal: 35.5s\tremaining: 4.16s\n",
      "895:\tlearn: 0.9252909\ttotal: 35.5s\tremaining: 4.12s\n",
      "896:\tlearn: 0.9251602\ttotal: 35.6s\tremaining: 4.08s\n",
      "897:\tlearn: 0.9251172\ttotal: 35.6s\tremaining: 4.04s\n",
      "898:\tlearn: 0.9249813\ttotal: 35.6s\tremaining: 4s\n",
      "899:\tlearn: 0.9249401\ttotal: 35.7s\tremaining: 3.96s\n",
      "900:\tlearn: 0.9248683\ttotal: 35.7s\tremaining: 3.92s\n",
      "901:\tlearn: 0.9248270\ttotal: 35.8s\tremaining: 3.88s\n",
      "902:\tlearn: 0.9244389\ttotal: 35.8s\tremaining: 3.85s\n",
      "903:\tlearn: 0.9243900\ttotal: 35.8s\tremaining: 3.81s\n",
      "904:\tlearn: 0.9243310\ttotal: 35.9s\tremaining: 3.77s\n",
      "905:\tlearn: 0.9242752\ttotal: 35.9s\tremaining: 3.73s\n",
      "906:\tlearn: 0.9242338\ttotal: 36s\tremaining: 3.69s\n",
      "907:\tlearn: 0.9241965\ttotal: 36s\tremaining: 3.65s\n",
      "908:\tlearn: 0.9241166\ttotal: 36s\tremaining: 3.61s\n",
      "909:\tlearn: 0.9240330\ttotal: 36.1s\tremaining: 3.57s\n",
      "910:\tlearn: 0.9239207\ttotal: 36.1s\tremaining: 3.53s\n",
      "911:\tlearn: 0.9238518\ttotal: 36.2s\tremaining: 3.49s\n",
      "912:\tlearn: 0.9238116\ttotal: 36.2s\tremaining: 3.45s\n",
      "913:\tlearn: 0.9237085\ttotal: 36.2s\tremaining: 3.41s\n",
      "914:\tlearn: 0.9236270\ttotal: 36.3s\tremaining: 3.37s\n",
      "915:\tlearn: 0.9235220\ttotal: 36.3s\tremaining: 3.33s\n",
      "916:\tlearn: 0.9234556\ttotal: 36.4s\tremaining: 3.29s\n",
      "917:\tlearn: 0.9234214\ttotal: 36.4s\tremaining: 3.25s\n",
      "918:\tlearn: 0.9233840\ttotal: 36.4s\tremaining: 3.21s\n",
      "919:\tlearn: 0.9233270\ttotal: 36.5s\tremaining: 3.17s\n",
      "920:\tlearn: 0.9232617\ttotal: 36.5s\tremaining: 3.13s\n",
      "921:\tlearn: 0.9232219\ttotal: 36.6s\tremaining: 3.09s\n",
      "922:\tlearn: 0.9231129\ttotal: 36.6s\tremaining: 3.05s\n",
      "923:\tlearn: 0.9230794\ttotal: 36.6s\tremaining: 3.01s\n",
      "924:\tlearn: 0.9230317\ttotal: 36.7s\tremaining: 2.97s\n",
      "925:\tlearn: 0.9228631\ttotal: 36.7s\tremaining: 2.93s\n",
      "926:\tlearn: 0.9228207\ttotal: 36.8s\tremaining: 2.89s\n",
      "927:\tlearn: 0.9227810\ttotal: 36.8s\tremaining: 2.85s\n",
      "928:\tlearn: 0.9227421\ttotal: 36.8s\tremaining: 2.81s\n",
      "929:\tlearn: 0.9225903\ttotal: 36.9s\tremaining: 2.78s\n",
      "930:\tlearn: 0.9224281\ttotal: 36.9s\tremaining: 2.74s\n",
      "931:\tlearn: 0.9223671\ttotal: 37s\tremaining: 2.7s\n",
      "932:\tlearn: 0.9223281\ttotal: 37s\tremaining: 2.66s\n",
      "933:\tlearn: 0.9222869\ttotal: 37s\tremaining: 2.62s\n",
      "934:\tlearn: 0.9221138\ttotal: 37.1s\tremaining: 2.58s\n",
      "935:\tlearn: 0.9220292\ttotal: 37.1s\tremaining: 2.54s\n",
      "936:\tlearn: 0.9219607\ttotal: 37.2s\tremaining: 2.5s\n",
      "937:\tlearn: 0.9219228\ttotal: 37.2s\tremaining: 2.46s\n",
      "938:\tlearn: 0.9218123\ttotal: 37.2s\tremaining: 2.42s\n",
      "939:\tlearn: 0.9216919\ttotal: 37.3s\tremaining: 2.38s\n",
      "940:\tlearn: 0.9216497\ttotal: 37.3s\tremaining: 2.34s\n",
      "941:\tlearn: 0.9215865\ttotal: 37.4s\tremaining: 2.3s\n",
      "942:\tlearn: 0.9215460\ttotal: 37.4s\tremaining: 2.26s\n",
      "943:\tlearn: 0.9214393\ttotal: 37.4s\tremaining: 2.22s\n",
      "944:\tlearn: 0.9214018\ttotal: 37.5s\tremaining: 2.18s\n",
      "945:\tlearn: 0.9213597\ttotal: 37.5s\tremaining: 2.14s\n",
      "946:\tlearn: 0.9213194\ttotal: 37.6s\tremaining: 2.1s\n",
      "947:\tlearn: 0.9212054\ttotal: 37.6s\tremaining: 2.06s\n",
      "948:\tlearn: 0.9211238\ttotal: 37.6s\tremaining: 2.02s\n",
      "949:\tlearn: 0.9210558\ttotal: 37.7s\tremaining: 1.98s\n",
      "950:\tlearn: 0.9209672\ttotal: 37.7s\tremaining: 1.94s\n",
      "951:\tlearn: 0.9209211\ttotal: 37.8s\tremaining: 1.9s\n",
      "952:\tlearn: 0.9208431\ttotal: 37.8s\tremaining: 1.86s\n",
      "953:\tlearn: 0.9207659\ttotal: 37.8s\tremaining: 1.82s\n",
      "954:\tlearn: 0.9207027\ttotal: 37.9s\tremaining: 1.78s\n",
      "955:\tlearn: 0.9206410\ttotal: 37.9s\tremaining: 1.75s\n",
      "956:\tlearn: 0.9206029\ttotal: 38s\tremaining: 1.71s\n",
      "957:\tlearn: 0.9205656\ttotal: 38s\tremaining: 1.67s\n",
      "958:\tlearn: 0.9204519\ttotal: 38s\tremaining: 1.63s\n",
      "959:\tlearn: 0.9203410\ttotal: 38.1s\tremaining: 1.59s\n",
      "960:\tlearn: 0.9202981\ttotal: 38.1s\tremaining: 1.55s\n",
      "961:\tlearn: 0.9202581\ttotal: 38.1s\tremaining: 1.51s\n",
      "962:\tlearn: 0.9202215\ttotal: 38.2s\tremaining: 1.47s\n",
      "963:\tlearn: 0.9201812\ttotal: 38.2s\tremaining: 1.43s\n",
      "964:\tlearn: 0.9200503\ttotal: 38.3s\tremaining: 1.39s\n",
      "965:\tlearn: 0.9200140\ttotal: 38.3s\tremaining: 1.35s\n",
      "966:\tlearn: 0.9199459\ttotal: 38.3s\tremaining: 1.31s\n",
      "967:\tlearn: 0.9198549\ttotal: 38.4s\tremaining: 1.27s\n",
      "968:\tlearn: 0.9197908\ttotal: 38.4s\tremaining: 1.23s\n",
      "969:\tlearn: 0.9197520\ttotal: 38.4s\tremaining: 1.19s\n",
      "970:\tlearn: 0.9197077\ttotal: 38.5s\tremaining: 1.15s\n",
      "971:\tlearn: 0.9196672\ttotal: 38.5s\tremaining: 1.11s\n",
      "972:\tlearn: 0.9196197\ttotal: 38.6s\tremaining: 1.07s\n",
      "973:\tlearn: 0.9195342\ttotal: 38.6s\tremaining: 1.03s\n",
      "974:\tlearn: 0.9194928\ttotal: 38.6s\tremaining: 991ms\n",
      "975:\tlearn: 0.9194040\ttotal: 38.7s\tremaining: 951ms\n",
      "976:\tlearn: 0.9193075\ttotal: 38.7s\tremaining: 911ms\n",
      "977:\tlearn: 0.9191793\ttotal: 38.8s\tremaining: 872ms\n",
      "978:\tlearn: 0.9190856\ttotal: 38.8s\tremaining: 832ms\n",
      "979:\tlearn: 0.9190108\ttotal: 38.8s\tremaining: 792ms\n",
      "980:\tlearn: 0.9189425\ttotal: 38.9s\tremaining: 753ms\n",
      "981:\tlearn: 0.9188853\ttotal: 38.9s\tremaining: 713ms\n",
      "982:\tlearn: 0.9188293\ttotal: 38.9s\tremaining: 674ms\n",
      "983:\tlearn: 0.9187681\ttotal: 39s\tremaining: 634ms\n",
      "984:\tlearn: 0.9186810\ttotal: 39s\tremaining: 594ms\n",
      "985:\tlearn: 0.9186397\ttotal: 39.1s\tremaining: 555ms\n",
      "986:\tlearn: 0.9185796\ttotal: 39.1s\tremaining: 515ms\n",
      "987:\tlearn: 0.9185291\ttotal: 39.1s\tremaining: 475ms\n",
      "988:\tlearn: 0.9184702\ttotal: 39.2s\tremaining: 436ms\n",
      "989:\tlearn: 0.9183886\ttotal: 39.2s\tremaining: 396ms\n",
      "990:\tlearn: 0.9182676\ttotal: 39.3s\tremaining: 357ms\n",
      "991:\tlearn: 0.9182076\ttotal: 39.3s\tremaining: 317ms\n",
      "992:\tlearn: 0.9181168\ttotal: 39.3s\tremaining: 277ms\n",
      "993:\tlearn: 0.9179704\ttotal: 39.4s\tremaining: 238ms\n",
      "994:\tlearn: 0.9179308\ttotal: 39.4s\tremaining: 198ms\n",
      "995:\tlearn: 0.9178950\ttotal: 39.5s\tremaining: 158ms\n",
      "996:\tlearn: 0.9177613\ttotal: 39.5s\tremaining: 119ms\n",
      "997:\tlearn: 0.9177013\ttotal: 39.5s\tremaining: 79.2ms\n",
      "998:\tlearn: 0.9176600\ttotal: 39.6s\tremaining: 39.6ms\n",
      "999:\tlearn: 0.9176229\ttotal: 39.6s\tremaining: 0us\n"
     ]
    }
   ],
   "source": [
    "from src.common.validation.training import estimate_multiple_models, estimate_model\n",
    "\n",
    "#### training\n",
    "model_names, model_pipelines = zip(*pipelines)\n",
    "metrics, weights = estimate_multiple_models(\n",
    "    model_pipelines,\n",
    "    lambda pipeline, _: estimate_model(\n",
    "        pipeline,\n",
    "        (X_train, X_test, y_train, y_test),\n",
    "    ),\n",
    "    model_names\n",
    ")"
   ]
  },
  {
   "cell_type": "code",
   "execution_count": 52,
   "metadata": {
    "pycharm": {
     "name": "#%%\n"
    }
   },
   "outputs": [
    {
     "data": {
      "text/html": [
       "<div>\n",
       "<style scoped>\n",
       "    .dataframe tbody tr th:only-of-type {\n",
       "        vertical-align: middle;\n",
       "    }\n",
       "\n",
       "    .dataframe tbody tr th {\n",
       "        vertical-align: top;\n",
       "    }\n",
       "\n",
       "    .dataframe thead tr th {\n",
       "        text-align: left;\n",
       "    }\n",
       "\n",
       "    .dataframe thead tr:last-of-type th {\n",
       "        text-align: right;\n",
       "    }\n",
       "</style>\n",
       "<table border=\"1\" class=\"dataframe\">\n",
       "  <thead>\n",
       "    <tr>\n",
       "      <th>set</th>\n",
       "      <th colspan=\"8\" halign=\"left\">train</th>\n",
       "      <th colspan=\"8\" halign=\"left\">test</th>\n",
       "    </tr>\n",
       "    <tr>\n",
       "      <th>metric</th>\n",
       "      <th>mape</th>\n",
       "      <th>rmspe</th>\n",
       "      <th>mse</th>\n",
       "      <th>rmse</th>\n",
       "      <th>mae</th>\n",
       "      <th>r2</th>\n",
       "      <th>adjusted_r2</th>\n",
       "      <th>rmsle</th>\n",
       "      <th>mape</th>\n",
       "      <th>rmspe</th>\n",
       "      <th>mse</th>\n",
       "      <th>rmse</th>\n",
       "      <th>mae</th>\n",
       "      <th>r2</th>\n",
       "      <th>adjusted_r2</th>\n",
       "      <th>rmsle</th>\n",
       "    </tr>\n",
       "    <tr>\n",
       "      <th>model</th>\n",
       "      <th></th>\n",
       "      <th></th>\n",
       "      <th></th>\n",
       "      <th></th>\n",
       "      <th></th>\n",
       "      <th></th>\n",
       "      <th></th>\n",
       "      <th></th>\n",
       "      <th></th>\n",
       "      <th></th>\n",
       "      <th></th>\n",
       "      <th></th>\n",
       "      <th></th>\n",
       "      <th></th>\n",
       "      <th></th>\n",
       "      <th></th>\n",
       "    </tr>\n",
       "  </thead>\n",
       "  <tbody>\n",
       "    <tr>\n",
       "      <th>Dummy_mean</th>\n",
       "      <td>1.529570e+15</td>\n",
       "      <td>384.155</td>\n",
       "      <td>1.970</td>\n",
       "      <td>1.403</td>\n",
       "      <td>1.056</td>\n",
       "      <td>0.000</td>\n",
       "      <td>-0.244</td>\n",
       "      <td>0.531</td>\n",
       "      <td>1.512947e+15</td>\n",
       "      <td>379.609</td>\n",
       "      <td>1.913</td>\n",
       "      <td>1.383</td>\n",
       "      <td>1.046</td>\n",
       "      <td>-0.000</td>\n",
       "      <td>-0.244</td>\n",
       "      <td>0.528</td>\n",
       "    </tr>\n",
       "    <tr>\n",
       "      <th>Dummy_median</th>\n",
       "      <td>1.898572e+15</td>\n",
       "      <td>364.241</td>\n",
       "      <td>2.310</td>\n",
       "      <td>1.520</td>\n",
       "      <td>0.932</td>\n",
       "      <td>-0.173</td>\n",
       "      <td>-0.458</td>\n",
       "      <td>0.585</td>\n",
       "      <td>1.877938e+15</td>\n",
       "      <td>360.342</td>\n",
       "      <td>2.272</td>\n",
       "      <td>1.507</td>\n",
       "      <td>0.929</td>\n",
       "      <td>-0.188</td>\n",
       "      <td>-0.477</td>\n",
       "      <td>0.583</td>\n",
       "    </tr>\n",
       "    <tr>\n",
       "      <th>LinReg</th>\n",
       "      <td>4.883766e+14</td>\n",
       "      <td>349.207</td>\n",
       "      <td>0.829</td>\n",
       "      <td>0.910</td>\n",
       "      <td>0.638</td>\n",
       "      <td>0.579</td>\n",
       "      <td>0.477</td>\n",
       "      <td>0.309</td>\n",
       "      <td>7.523506e+14</td>\n",
       "      <td>371.071</td>\n",
       "      <td>1.517</td>\n",
       "      <td>1.232</td>\n",
       "      <td>0.869</td>\n",
       "      <td>0.207</td>\n",
       "      <td>0.014</td>\n",
       "      <td>0.416</td>\n",
       "    </tr>\n",
       "    <tr>\n",
       "      <th>XGB</th>\n",
       "      <td>4.930218e+14</td>\n",
       "      <td>339.850</td>\n",
       "      <td>0.743</td>\n",
       "      <td>0.862</td>\n",
       "      <td>0.538</td>\n",
       "      <td>0.623</td>\n",
       "      <td>0.531</td>\n",
       "      <td>0.300</td>\n",
       "      <td>5.546878e+14</td>\n",
       "      <td>349.754</td>\n",
       "      <td>1.034</td>\n",
       "      <td>1.017</td>\n",
       "      <td>0.633</td>\n",
       "      <td>0.460</td>\n",
       "      <td>0.328</td>\n",
       "      <td>0.342</td>\n",
       "    </tr>\n",
       "    <tr>\n",
       "      <th>LGBM</th>\n",
       "      <td>4.393343e+14</td>\n",
       "      <td>346.834</td>\n",
       "      <td>0.859</td>\n",
       "      <td>0.927</td>\n",
       "      <td>0.570</td>\n",
       "      <td>0.564</td>\n",
       "      <td>0.458</td>\n",
       "      <td>0.301</td>\n",
       "      <td>4.699705e+14</td>\n",
       "      <td>349.338</td>\n",
       "      <td>0.973</td>\n",
       "      <td>0.987</td>\n",
       "      <td>0.621</td>\n",
       "      <td>0.491</td>\n",
       "      <td>0.367</td>\n",
       "      <td>0.325</td>\n",
       "    </tr>\n",
       "    <tr>\n",
       "      <th>RFC</th>\n",
       "      <td>1.186172e+14</td>\n",
       "      <td>309.075</td>\n",
       "      <td>0.184</td>\n",
       "      <td>0.429</td>\n",
       "      <td>0.251</td>\n",
       "      <td>0.907</td>\n",
       "      <td>0.884</td>\n",
       "      <td>0.133</td>\n",
       "      <td>3.184889e+14</td>\n",
       "      <td>354.781</td>\n",
       "      <td>1.072</td>\n",
       "      <td>1.036</td>\n",
       "      <td>0.646</td>\n",
       "      <td>0.439</td>\n",
       "      <td>0.303</td>\n",
       "      <td>0.324</td>\n",
       "    </tr>\n",
       "    <tr>\n",
       "      <th>CatBoost</th>\n",
       "      <td>5.362363e+14</td>\n",
       "      <td>345.061</td>\n",
       "      <td>0.842</td>\n",
       "      <td>0.918</td>\n",
       "      <td>0.585</td>\n",
       "      <td>0.573</td>\n",
       "      <td>0.468</td>\n",
       "      <td>0.320</td>\n",
       "      <td>5.688955e+14</td>\n",
       "      <td>350.260</td>\n",
       "      <td>1.033</td>\n",
       "      <td>1.016</td>\n",
       "      <td>0.639</td>\n",
       "      <td>0.460</td>\n",
       "      <td>0.328</td>\n",
       "      <td>0.343</td>\n",
       "    </tr>\n",
       "  </tbody>\n",
       "</table>\n",
       "</div>"
      ],
      "text/plain": [
       "set                  train                                                   \\\n",
       "metric                mape    rmspe    mse   rmse    mae     r2 adjusted_r2   \n",
       "model                                                                         \n",
       "Dummy_mean    1.529570e+15  384.155  1.970  1.403  1.056  0.000      -0.244   \n",
       "Dummy_median  1.898572e+15  364.241  2.310  1.520  0.932 -0.173      -0.458   \n",
       "LinReg        4.883766e+14  349.207  0.829  0.910  0.638  0.579       0.477   \n",
       "XGB           4.930218e+14  339.850  0.743  0.862  0.538  0.623       0.531   \n",
       "LGBM          4.393343e+14  346.834  0.859  0.927  0.570  0.564       0.458   \n",
       "RFC           1.186172e+14  309.075  0.184  0.429  0.251  0.907       0.884   \n",
       "CatBoost      5.362363e+14  345.061  0.842  0.918  0.585  0.573       0.468   \n",
       "\n",
       "set                          test                                       \\\n",
       "metric        rmsle          mape    rmspe    mse   rmse    mae     r2   \n",
       "model                                                                    \n",
       "Dummy_mean    0.531  1.512947e+15  379.609  1.913  1.383  1.046 -0.000   \n",
       "Dummy_median  0.585  1.877938e+15  360.342  2.272  1.507  0.929 -0.188   \n",
       "LinReg        0.309  7.523506e+14  371.071  1.517  1.232  0.869  0.207   \n",
       "XGB           0.300  5.546878e+14  349.754  1.034  1.017  0.633  0.460   \n",
       "LGBM          0.301  4.699705e+14  349.338  0.973  0.987  0.621  0.491   \n",
       "RFC           0.133  3.184889e+14  354.781  1.072  1.036  0.646  0.439   \n",
       "CatBoost      0.320  5.688955e+14  350.260  1.033  1.016  0.639  0.460   \n",
       "\n",
       "set                              \n",
       "metric       adjusted_r2  rmsle  \n",
       "model                            \n",
       "Dummy_mean        -0.244  0.528  \n",
       "Dummy_median      -0.477  0.583  \n",
       "LinReg             0.014  0.416  \n",
       "XGB                0.328  0.342  \n",
       "LGBM               0.367  0.325  \n",
       "RFC                0.303  0.324  \n",
       "CatBoost           0.328  0.343  "
      ]
     },
     "execution_count": 52,
     "metadata": {},
     "output_type": "execute_result"
    }
   ],
   "source": [
    "metrics"
   ]
  },
  {
   "cell_type": "code",
   "execution_count": 322,
   "metadata": {
    "pycharm": {
     "name": "#%%\n"
    }
   },
   "outputs": [
    {
     "name": "stdout",
     "output_type": "stream",
     "text": [
      "################################################################################\n",
      "Dummy_mean\n",
      "Not Supported\n",
      "################################################################################\n",
      "Dummy_median\n",
      "Not Supported\n",
      "################################################################################\n",
      "LinReg\n",
      "         weight\n",
      "feature        \n",
      "x155      6.861\n",
      "x6788     6.015\n",
      "x4997     5.476\n",
      "x4998     5.027\n",
      "x6853     4.392\n",
      "...         ...\n",
      "x4445    -2.665\n",
      "x627     -3.027\n",
      "x2765    -3.027\n",
      "x3679    -3.296\n",
      "x1523    -4.132\n",
      "\n",
      "[6993 rows x 1 columns]\n",
      "################################################################################\n",
      "XGB\n",
      "Not Supported\n",
      "################################################################################\n",
      "LGBM\n",
      "             weight\n",
      "feature            \n",
      "Column_6788   0.056\n",
      "Column_155    0.053\n",
      "Column_6382   0.051\n",
      "Column_4998   0.039\n",
      "Column_4997   0.030\n",
      "...             ...\n",
      "Column_4579   0.000\n",
      "Column_4580   0.000\n",
      "Column_4581   0.000\n",
      "Column_4582   0.000\n",
      "Column_0      0.000\n",
      "\n",
      "[6992 rows x 1 columns]\n",
      "################################################################################\n",
      "RFC\n",
      "         weight\n",
      "feature        \n",
      "x6788     0.021\n",
      "x155      0.021\n",
      "x6535     0.017\n",
      "x6382     0.015\n",
      "x4997     0.015\n",
      "...         ...\n",
      "x4489     0.000\n",
      "x4482     0.000\n",
      "x1290     0.000\n",
      "x4481     0.000\n",
      "x0        0.000\n",
      "\n",
      "[6992 rows x 1 columns]\n",
      "################################################################################\n",
      "CatBoost\n",
      "         weight\n",
      "feature        \n",
      "1523      0.068\n",
      "155       0.065\n",
      "6535      0.049\n",
      "2765      0.047\n",
      "3679      0.042\n",
      "...         ...\n",
      "4532      0.000\n",
      "4533      0.000\n",
      "4534      0.000\n",
      "4535      0.000\n",
      "0         0.000\n",
      "\n",
      "[6992 rows x 1 columns]\n"
     ]
    }
   ],
   "source": [
    "for name, _ in pipelines:\n",
    "    try:\n",
    "        print(\"#\" * 80)\n",
    "        print(name)\n",
    "        print(weights.loc[name])\n",
    "    except KeyError:\n",
    "        print('Not Supported')"
   ]
  },
  {
   "cell_type": "code",
   "execution_count": 53,
   "metadata": {
    "pycharm": {
     "name": "#%%\n"
    }
   },
   "outputs": [],
   "source": [
    "final_pipeline_1 = Pipeline([\n",
    "    ('NLP', nlp),\n",
    "    ('regressor', rfc[-1])\n",
    "])\n",
    "\n",
    "final_pipeline_2 = Pipeline([\n",
    "    ('NLP', nlp),\n",
    "    ('regressor', lgbm[-1])\n",
    "])\n",
    "\n",
    "final_pipeline_3 = Pipeline([\n",
    "    ('NLP', nlp),\n",
    "    ('regressor', ctb[-1])\n",
    "])\n",
    "\n",
    "final_pipeline_4 = Pipeline([\n",
    "    ('NLP', nlp),\n",
    "    ('regressor', lr[-1])\n",
    "])"
   ]
  },
  {
   "cell_type": "code",
   "execution_count": 54,
   "metadata": {
    "pycharm": {
     "name": "#%%\n"
    }
   },
   "outputs": [
    {
     "data": {
      "text/html": [
       "<style>#sk-container-id-5 {color: black;background-color: white;}#sk-container-id-5 pre{padding: 0;}#sk-container-id-5 div.sk-toggleable {background-color: white;}#sk-container-id-5 label.sk-toggleable__label {cursor: pointer;display: block;width: 100%;margin-bottom: 0;padding: 0.3em;box-sizing: border-box;text-align: center;}#sk-container-id-5 label.sk-toggleable__label-arrow:before {content: \"▸\";float: left;margin-right: 0.25em;color: #696969;}#sk-container-id-5 label.sk-toggleable__label-arrow:hover:before {color: black;}#sk-container-id-5 div.sk-estimator:hover label.sk-toggleable__label-arrow:before {color: black;}#sk-container-id-5 div.sk-toggleable__content {max-height: 0;max-width: 0;overflow: hidden;text-align: left;background-color: #f0f8ff;}#sk-container-id-5 div.sk-toggleable__content pre {margin: 0.2em;color: black;border-radius: 0.25em;background-color: #f0f8ff;}#sk-container-id-5 input.sk-toggleable__control:checked~div.sk-toggleable__content {max-height: 200px;max-width: 100%;overflow: auto;}#sk-container-id-5 input.sk-toggleable__control:checked~label.sk-toggleable__label-arrow:before {content: \"▾\";}#sk-container-id-5 div.sk-estimator input.sk-toggleable__control:checked~label.sk-toggleable__label {background-color: #d4ebff;}#sk-container-id-5 div.sk-label input.sk-toggleable__control:checked~label.sk-toggleable__label {background-color: #d4ebff;}#sk-container-id-5 input.sk-hidden--visually {border: 0;clip: rect(1px 1px 1px 1px);clip: rect(1px, 1px, 1px, 1px);height: 1px;margin: -1px;overflow: hidden;padding: 0;position: absolute;width: 1px;}#sk-container-id-5 div.sk-estimator {font-family: monospace;background-color: #f0f8ff;border: 1px dotted black;border-radius: 0.25em;box-sizing: border-box;margin-bottom: 0.5em;}#sk-container-id-5 div.sk-estimator:hover {background-color: #d4ebff;}#sk-container-id-5 div.sk-parallel-item::after {content: \"\";width: 100%;border-bottom: 1px solid gray;flex-grow: 1;}#sk-container-id-5 div.sk-label:hover label.sk-toggleable__label {background-color: #d4ebff;}#sk-container-id-5 div.sk-serial::before {content: \"\";position: absolute;border-left: 1px solid gray;box-sizing: border-box;top: 0;bottom: 0;left: 50%;z-index: 0;}#sk-container-id-5 div.sk-serial {display: flex;flex-direction: column;align-items: center;background-color: white;padding-right: 0.2em;padding-left: 0.2em;position: relative;}#sk-container-id-5 div.sk-item {position: relative;z-index: 1;}#sk-container-id-5 div.sk-parallel {display: flex;align-items: stretch;justify-content: center;background-color: white;position: relative;}#sk-container-id-5 div.sk-item::before, #sk-container-id-5 div.sk-parallel-item::before {content: \"\";position: absolute;border-left: 1px solid gray;box-sizing: border-box;top: 0;bottom: 0;left: 50%;z-index: -1;}#sk-container-id-5 div.sk-parallel-item {display: flex;flex-direction: column;z-index: 1;position: relative;background-color: white;}#sk-container-id-5 div.sk-parallel-item:first-child::after {align-self: flex-end;width: 50%;}#sk-container-id-5 div.sk-parallel-item:last-child::after {align-self: flex-start;width: 50%;}#sk-container-id-5 div.sk-parallel-item:only-child::after {width: 0;}#sk-container-id-5 div.sk-dashed-wrapped {border: 1px dashed gray;margin: 0 0.4em 0.5em 0.4em;box-sizing: border-box;padding-bottom: 0.4em;background-color: white;}#sk-container-id-5 div.sk-label label {font-family: monospace;font-weight: bold;display: inline-block;line-height: 1.2em;}#sk-container-id-5 div.sk-label-container {text-align: center;}#sk-container-id-5 div.sk-container {/* jupyter's `normalize.less` sets `[hidden] { display: none; }` but bootstrap.min.css set `[hidden] { display: none !important; }` so we also need the `!important` here to be able to override the default hidden behavior on the sphinx rendered scikit-learn.org. See: https://github.com/scikit-learn/scikit-learn/issues/21755 */display: inline-block !important;position: relative;}#sk-container-id-5 div.sk-text-repr-fallback {display: none;}</style><div id=\"sk-container-id-5\" class=\"sk-top-container\"><div class=\"sk-text-repr-fallback\"><pre>Pipeline(steps=[(&#x27;NLP&#x27;,\n",
       "                 Pipeline(steps=[(&#x27;cleaning&#x27;, TextCleaner()),\n",
       "                                 (&#x27;series_converter&#x27;, SeriesConverter()),\n",
       "                                 (&#x27;vectorization&#x27;,\n",
       "                                  TfidfVectorizer(max_df=0.7, min_df=3))])),\n",
       "                (&#x27;regressor&#x27;, LGBMRegressor())])</pre><b>In a Jupyter environment, please rerun this cell to show the HTML representation or trust the notebook. <br />On GitHub, the HTML representation is unable to render, please try loading this page with nbviewer.org.</b></div><div class=\"sk-container\" hidden><div class=\"sk-item sk-dashed-wrapped\"><div class=\"sk-label-container\"><div class=\"sk-label sk-toggleable\"><input class=\"sk-toggleable__control sk-hidden--visually\" id=\"sk-estimator-id-13\" type=\"checkbox\" ><label for=\"sk-estimator-id-13\" class=\"sk-toggleable__label sk-toggleable__label-arrow\">Pipeline</label><div class=\"sk-toggleable__content\"><pre>Pipeline(steps=[(&#x27;NLP&#x27;,\n",
       "                 Pipeline(steps=[(&#x27;cleaning&#x27;, TextCleaner()),\n",
       "                                 (&#x27;series_converter&#x27;, SeriesConverter()),\n",
       "                                 (&#x27;vectorization&#x27;,\n",
       "                                  TfidfVectorizer(max_df=0.7, min_df=3))])),\n",
       "                (&#x27;regressor&#x27;, LGBMRegressor())])</pre></div></div></div><div class=\"sk-serial\"><div class=\"sk-item\"><div class=\"sk-label-container\"><div class=\"sk-label sk-toggleable\"><input class=\"sk-toggleable__control sk-hidden--visually\" id=\"sk-estimator-id-14\" type=\"checkbox\" ><label for=\"sk-estimator-id-14\" class=\"sk-toggleable__label sk-toggleable__label-arrow\">NLP: Pipeline</label><div class=\"sk-toggleable__content\"><pre>Pipeline(steps=[(&#x27;cleaning&#x27;, TextCleaner()),\n",
       "                (&#x27;series_converter&#x27;, SeriesConverter()),\n",
       "                (&#x27;vectorization&#x27;, TfidfVectorizer(max_df=0.7, min_df=3))])</pre></div></div></div><div class=\"sk-serial\"><div class=\"sk-item\"><div class=\"sk-estimator sk-toggleable\"><input class=\"sk-toggleable__control sk-hidden--visually\" id=\"sk-estimator-id-15\" type=\"checkbox\" ><label for=\"sk-estimator-id-15\" class=\"sk-toggleable__label sk-toggleable__label-arrow\">TextCleaner</label><div class=\"sk-toggleable__content\"><pre>TextCleaner()</pre></div></div></div><div class=\"sk-item\"><div class=\"sk-estimator sk-toggleable\"><input class=\"sk-toggleable__control sk-hidden--visually\" id=\"sk-estimator-id-16\" type=\"checkbox\" ><label for=\"sk-estimator-id-16\" class=\"sk-toggleable__label sk-toggleable__label-arrow\">SeriesConverter</label><div class=\"sk-toggleable__content\"><pre>SeriesConverter()</pre></div></div></div><div class=\"sk-item\"><div class=\"sk-estimator sk-toggleable\"><input class=\"sk-toggleable__control sk-hidden--visually\" id=\"sk-estimator-id-17\" type=\"checkbox\" ><label for=\"sk-estimator-id-17\" class=\"sk-toggleable__label sk-toggleable__label-arrow\">TfidfVectorizer</label><div class=\"sk-toggleable__content\"><pre>TfidfVectorizer(max_df=0.7, min_df=3)</pre></div></div></div></div></div><div class=\"sk-item\"><div class=\"sk-estimator sk-toggleable\"><input class=\"sk-toggleable__control sk-hidden--visually\" id=\"sk-estimator-id-18\" type=\"checkbox\" ><label for=\"sk-estimator-id-18\" class=\"sk-toggleable__label sk-toggleable__label-arrow\">LGBMRegressor</label><div class=\"sk-toggleable__content\"><pre>LGBMRegressor()</pre></div></div></div></div></div></div></div>"
      ],
      "text/plain": [
       "Pipeline(steps=[('NLP',\n",
       "                 Pipeline(steps=[('cleaning', TextCleaner()),\n",
       "                                 ('series_converter', SeriesConverter()),\n",
       "                                 ('vectorization',\n",
       "                                  TfidfVectorizer(max_df=0.7, min_df=3))])),\n",
       "                ('regressor', LGBMRegressor())])"
      ]
     },
     "execution_count": 54,
     "metadata": {},
     "output_type": "execute_result"
    }
   ],
   "source": [
    "final_pipeline_2"
   ]
  },
  {
   "cell_type": "code",
   "execution_count": 55,
   "metadata": {
    "pycharm": {
     "name": "#%%\n"
    }
   },
   "outputs": [
    {
     "data": {
      "text/plain": [
       "array([0.92845382, 0.93764724, 3.03106446, 1.12615349])"
      ]
     },
     "execution_count": 55,
     "metadata": {},
     "output_type": "execute_result"
    }
   ],
   "source": [
    "final_pipeline_2.predict(pd.DataFrame({\n",
    "    'tweet': [\n",
    "        'Sasha goes to Mannheim University',\n",
    "        '@Danylo will create a great application',\n",
    "        '@You bitch suck a dick fuck you shit in your ass',\n",
    "        'He will break it',\n",
    "    ]}))"
   ]
  },
  {
   "cell_type": "code",
   "execution_count": 56,
   "metadata": {
    "pycharm": {
     "name": "#%%\n"
    }
   },
   "outputs": [],
   "source": [
    "from src.common.validation.metrics import aggregate_metrics\n",
    "from src.common.prediction_model.persistence import FsModelPersistence\n",
    "from src.common.prediction_model.prediction_model import ModelContainer, ModelMetadata\n",
    "\n",
    "container = ModelContainer.create(\n",
    "    pipeline_name='l1_data2_lgbm_reg_offensive_language',\n",
    "    pipeline=final_pipeline_2,\n",
    "    feature_names=[],\n",
    "    metadata=ModelMetadata(\n",
    "        model_name=str(final_pipeline_2.__class__.__name__),\n",
    "        **aggregate_metrics(metrics)['test'].loc[\"LGBM\"]\n",
    "    )\n",
    ")"
   ]
  },
  {
   "cell_type": "code",
   "execution_count": 57,
   "metadata": {
    "pycharm": {
     "name": "#%%\n"
    }
   },
   "outputs": [],
   "source": [
    "# %%\n",
    "persistor = FsModelPersistence()\n",
    "name = persistor.save(container)"
   ]
  },
  {
   "cell_type": "code",
   "execution_count": 58,
   "metadata": {
    "pycharm": {
     "name": "#%%\n"
    }
   },
   "outputs": [
    {
     "data": {
      "text/plain": [
       "'l1_data2_lgbm_reg_offensive_language_Pipeline_2023-05-17.bin.gz'"
      ]
     },
     "execution_count": 58,
     "metadata": {},
     "output_type": "execute_result"
    }
   ],
   "source": [
    "name"
   ]
  },
  {
   "cell_type": "code",
   "execution_count": 54,
   "metadata": {
    "pycharm": {
     "name": "#%%\n"
    }
   },
   "outputs": [],
   "source": []
  },
  {
   "cell_type": "markdown",
   "metadata": {
    "pycharm": {
     "name": "#%% md\n"
    }
   },
   "source": [
    "#### Hyperparameter optimization"
   ]
  },
  {
   "cell_type": "code",
   "execution_count": 343,
   "metadata": {
    "pycharm": {
     "name": "#%%\n"
    }
   },
   "outputs": [],
   "source": [
    "from sklearn.model_selection import GridSearchCV\n",
    "import time\n",
    "\n",
    "# Define the parameter grid to search over\n",
    "param_grid = {\n",
    "    'n_estimators': [20, 50, 100, 200],\n",
    "    'max_depth': [None, 2, 5, 10],\n",
    "    'min_samples_split': [2, 5, 10],\n",
    "    'min_samples_leaf': [1, 2, 4],\n",
    "}\n",
    "\n",
    "# Create a RandomForestClassifier object\n",
    "model = RandomForestClassifier()\n",
    "\n",
    "\"\"\"\n",
    "Best parameters:  {'max_depth': None, 'min_samples_leaf': 1, 'min_samples_split': 2, 'n_estimators': 100}\n",
    "Best accuracy:  0.9592866361609763\n",
    "Computation tmie: 245.936190366745\n",
    "\"\"\""
   ]
  },
  {
   "cell_type": "code",
   "execution_count": 347,
   "metadata": {
    "pycharm": {
     "name": "#%%\n"
    }
   },
   "outputs": [
    {
     "data": {
      "text/plain": [
       "'\\n\\n'"
      ]
     },
     "execution_count": 347,
     "metadata": {},
     "output_type": "execute_result"
    }
   ],
   "source": [
    "# Define the parameter grid to search over\n",
    "param_grid = {\n",
    "    'iterations': [100, 200, 300],\n",
    "    'learning_rate': [0.01, 0.05, 0.1],\n",
    "    'depth': [4, 6, 8],\n",
    "    'l2_leaf_reg': [1, 3, 5],\n",
    "    'random_strength': [0.1, 0.5, 1],\n",
    "}\n",
    "model = CatBoostClassifier()\n",
    "\"\"\"\n",
    "\n",
    "\"\"\""
   ]
  },
  {
   "cell_type": "code",
   "execution_count": 349,
   "metadata": {
    "pycharm": {
     "name": "#%%\n"
    }
   },
   "outputs": [],
   "source": [
    "param_grid = {\n",
    "    'max_depth': [3, 6, 9],\n",
    "    'learning_rate': [0.01, 0.05, 0.1],\n",
    "    'n_estimators': [100, 200, 300],\n",
    "    'min_child_weight': [1, 3, 5],\n",
    "}\n",
    "\n",
    "model = XGBClassifier(tree_method='gpu_hist')"
   ]
  },
  {
   "cell_type": "code",
   "execution_count": null,
   "metadata": {
    "pycharm": {
     "is_executing": true,
     "name": "#%%\n"
    }
   },
   "outputs": [],
   "source": [
    "# Create a GridSearchCV object and fit the data\n",
    "start = time.time()\n",
    "grid_search = GridSearchCV(model, param_grid=param_grid, cv=3, n_jobs=-1)\n",
    "grid_search.fit(X_train, y_train)\n",
    "\n",
    "# Print the best hyperparameters and accuracy score\n",
    "print(\"Best parameters: \", grid_search.best_params_)\n",
    "print(\"Best accuracy: \", grid_search.best_score_)\n",
    "end = time.time()\n",
    "print(f\"Computation tmie: {end - start}\")"
   ]
  },
  {
   "cell_type": "code",
   "execution_count": null,
   "metadata": {
    "pycharm": {
     "name": "#%%\n"
    }
   },
   "outputs": [],
   "source": []
  }
 ],
 "metadata": {
  "kernelspec": {
   "display_name": "Python 3 (ipykernel)",
   "language": "python",
   "name": "python3"
  },
  "language_info": {
   "codemirror_mode": {
    "name": "ipython",
    "version": 3
   },
   "file_extension": ".py",
   "mimetype": "text/x-python",
   "name": "python",
   "nbconvert_exporter": "python",
   "pygments_lexer": "ipython3",
   "version": "3.9.12"
  },
  "vscode": {
   "interpreter": {
    "hash": "7f55550e77323d67b6ecc193cd2e5d66a57e017d7db72e2119e5097fca24649a"
   }
  }
 },
 "nbformat": 4,
 "nbformat_minor": 2
}