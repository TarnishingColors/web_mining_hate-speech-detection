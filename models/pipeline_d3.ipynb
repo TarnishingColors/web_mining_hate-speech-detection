{
 "cells": [
  {
   "cell_type": "code",
   "execution_count": 1,
   "outputs": [],
   "source": [
    "import pandas as pd\n",
    "from catboost import CatBoostClassifier\n",
    "from lightgbm import LGBMClassifier\n",
    "from matplotlib import pyplot as plt\n",
    "from sklearn.dummy import DummyClassifier\n",
    "from sklearn.ensemble import RandomForestClassifier\n",
    "from sklearn.linear_model import LogisticRegression\n",
    "from sklearn.pipeline import make_pipeline\n",
    "from xgboost import XGBClassifier\n",
    "\n",
    "from notebooks.Dzim.data_mining.validation.training import estimate_multiple_models, estimate_model"
   ],
   "metadata": {
    "collapsed": false,
    "pycharm": {
     "name": "#%%\n"
    }
   }
  },
  {
   "cell_type": "code",
   "execution_count": 2,
   "outputs": [],
   "source": [
    "plt.rcParams['figure.facecolor'] = 'white'"
   ],
   "metadata": {
    "collapsed": false,
    "pycharm": {
     "name": "#%%\n"
    }
   }
  },
  {
   "cell_type": "code",
   "execution_count": 3,
   "outputs": [],
   "source": [
    "%load_ext autoreload\n",
    "%autoreload 2"
   ],
   "metadata": {
    "collapsed": false,
    "pycharm": {
     "name": "#%%\n"
    }
   }
  },
  {
   "cell_type": "markdown",
   "source": [
    "#### Loading data"
   ],
   "metadata": {
    "collapsed": false,
    "pycharm": {
     "name": "#%% md\n"
    }
   }
  },
  {
   "cell_type": "code",
   "execution_count": 4,
   "outputs": [],
   "source": [
    "data = pd.read_csv('data3.csv')"
   ],
   "metadata": {
    "collapsed": false,
    "pycharm": {
     "name": "#%%\n"
    }
   }
  },
  {
   "cell_type": "code",
   "execution_count": 5,
   "outputs": [],
   "source": [
    "data = data.loc[data['label'].isin(['hate', 'noHate'])]\n",
    "data['label'] = (data['label'] == 'hate').astype(int)\n",
    "data.columns = ['tweet', 'label']"
   ],
   "metadata": {
    "collapsed": false,
    "pycharm": {
     "name": "#%%\n"
    }
   }
  },
  {
   "cell_type": "code",
   "execution_count": 6,
   "outputs": [
    {
     "data": {
      "text/plain": "                                               tweet  label\n0  As of March 13th , 2014 , the booklet had been...      0\n1  Thank you in advance. : ) Download the youtube...      0\n2  In order to help increase the booklets downloa...      0\n3  ( Simply copy and paste the following text int...      0\n4  Click below for a FREE download of a colorfull...      1",
      "text/html": "<div>\n<style scoped>\n    .dataframe tbody tr th:only-of-type {\n        vertical-align: middle;\n    }\n\n    .dataframe tbody tr th {\n        vertical-align: top;\n    }\n\n    .dataframe thead th {\n        text-align: right;\n    }\n</style>\n<table border=\"1\" class=\"dataframe\">\n  <thead>\n    <tr style=\"text-align: right;\">\n      <th></th>\n      <th>tweet</th>\n      <th>label</th>\n    </tr>\n  </thead>\n  <tbody>\n    <tr>\n      <th>0</th>\n      <td>As of March 13th , 2014 , the booklet had been...</td>\n      <td>0</td>\n    </tr>\n    <tr>\n      <th>1</th>\n      <td>Thank you in advance. : ) Download the youtube...</td>\n      <td>0</td>\n    </tr>\n    <tr>\n      <th>2</th>\n      <td>In order to help increase the booklets downloa...</td>\n      <td>0</td>\n    </tr>\n    <tr>\n      <th>3</th>\n      <td>( Simply copy and paste the following text int...</td>\n      <td>0</td>\n    </tr>\n    <tr>\n      <th>4</th>\n      <td>Click below for a FREE download of a colorfull...</td>\n      <td>1</td>\n    </tr>\n  </tbody>\n</table>\n</div>"
     },
     "execution_count": 6,
     "metadata": {},
     "output_type": "execute_result"
    }
   ],
   "source": [
    "data.head()"
   ],
   "metadata": {
    "collapsed": false,
    "pycharm": {
     "name": "#%%\n"
    }
   }
  },
  {
   "cell_type": "code",
   "execution_count": 7,
   "outputs": [
    {
     "data": {
      "text/plain": "0    9507\n1    1196\nName: label, dtype: int64"
     },
     "execution_count": 7,
     "metadata": {},
     "output_type": "execute_result"
    }
   ],
   "source": [
    "data.label.value_counts()"
   ],
   "metadata": {
    "collapsed": false,
    "pycharm": {
     "name": "#%%\n"
    }
   }
  },
  {
   "cell_type": "code",
   "execution_count": 8,
   "outputs": [],
   "source": [
    "data_sample = pd.DataFrame({\n",
    "    'tweet': [\n",
    "        'Sasha goes to Mannheim University',\n",
    "        'Danylo will create a great application',\n",
    "        'Danylo will not create a great application',\n",
    "        'Dasha didnt fulfill her task'\n",
    "    ],\n",
    "    'label': [1, 1, 0, 0]\n",
    "})"
   ],
   "metadata": {
    "collapsed": false,
    "pycharm": {
     "name": "#%%\n"
    }
   }
  },
  {
   "cell_type": "markdown",
   "source": [
    "#### Preprocessing"
   ],
   "metadata": {
    "collapsed": false,
    "pycharm": {
     "name": "#%% md\n"
    }
   }
  },
  {
   "cell_type": "code",
   "execution_count": 9,
   "outputs": [
    {
     "name": "stderr",
     "output_type": "stream",
     "text": [
      "[nltk_data] Downloading package stopwords to\n",
      "[nltk_data]     C:\\Users\\dzmit\\AppData\\Roaming\\nltk_data...\n",
      "[nltk_data]   Package stopwords is already up-to-date!\n",
      "[nltk_data] Downloading package punkt to\n",
      "[nltk_data]     C:\\Users\\dzmit\\AppData\\Roaming\\nltk_data...\n",
      "[nltk_data]   Package punkt is already up-to-date!\n",
      "[nltk_data] Downloading package averaged_perceptron_tagger to\n",
      "[nltk_data]     C:\\Users\\dzmit\\AppData\\Roaming\\nltk_data...\n",
      "[nltk_data]   Package averaged_perceptron_tagger is already up-to-\n",
      "[nltk_data]       date!\n",
      "[nltk_data] Downloading package wordnet to\n",
      "[nltk_data]     C:\\Users\\dzmit\\AppData\\Roaming\\nltk_data...\n",
      "[nltk_data]   Package wordnet is already up-to-date!\n"
     ]
    }
   ],
   "source": [
    "from sklearn.pipeline import Pipeline\n",
    "from notebooks.Dzim.web_mining.bert_processor import TextCleaner, SeriesConverter\n",
    "from sklearn.feature_extraction.text import TfidfVectorizer\n",
    "from sklearn.model_selection import train_test_split"
   ],
   "metadata": {
    "collapsed": false,
    "pycharm": {
     "name": "#%%\n"
    }
   }
  },
  {
   "cell_type": "code",
   "execution_count": 10,
   "outputs": [],
   "source": [
    "target = 'label'"
   ],
   "metadata": {
    "collapsed": false,
    "pycharm": {
     "name": "#%%\n"
    }
   }
  },
  {
   "cell_type": "code",
   "execution_count": 132,
   "outputs": [],
   "source": [
    "# Split the data into train and test sets\n",
    "data_train, data_test, y_train, y_test = train_test_split(data[['tweet']], data[target], test_size=0.2, random_state=42, stratify=data[target])"
   ],
   "metadata": {
    "collapsed": false,
    "pycharm": {
     "name": "#%%\n"
    }
   }
  },
  {
   "cell_type": "code",
   "execution_count": 133,
   "outputs": [
    {
     "data": {
      "text/plain": "((8562, 1), (2141, 1))"
     },
     "execution_count": 133,
     "metadata": {},
     "output_type": "execute_result"
    }
   ],
   "source": [
    "data_train.shape, data_test.shape"
   ],
   "metadata": {
    "collapsed": false,
    "pycharm": {
     "name": "#%%\n"
    }
   }
  },
  {
   "cell_type": "code",
   "execution_count": 134,
   "outputs": [],
   "source": [
    "# Define the pipeline\n",
    "nlp = Pipeline([\n",
    "    (\"cleaning\", TextCleaner()),\n",
    "    (\"series_converter\", SeriesConverter()),\n",
    "    (\"vectorization\", TfidfVectorizer(max_df=0.5, min_df=3)),\n",
    "])"
   ],
   "metadata": {
    "collapsed": false,
    "pycharm": {
     "name": "#%%\n"
    }
   }
  },
  {
   "cell_type": "code",
   "execution_count": 135,
   "outputs": [],
   "source": [
    "# Fit-transform the training data\n",
    "X_train = nlp.fit_transform(data_train)  #.toarray()"
   ],
   "metadata": {
    "collapsed": false,
    "pycharm": {
     "name": "#%%\n"
    }
   }
  },
  {
   "cell_type": "code",
   "execution_count": 136,
   "outputs": [
    {
     "data": {
      "text/plain": "(8562, 3240)"
     },
     "execution_count": 136,
     "metadata": {},
     "output_type": "execute_result"
    }
   ],
   "source": [
    "X_train.shape"
   ],
   "metadata": {
    "collapsed": false,
    "pycharm": {
     "name": "#%%\n"
    }
   }
  },
  {
   "cell_type": "code",
   "execution_count": 137,
   "outputs": [],
   "source": [
    "# Transform the test data\n",
    "X_test = nlp.transform(data_test)"
   ],
   "metadata": {
    "collapsed": false,
    "pycharm": {
     "name": "#%%\n"
    }
   }
  },
  {
   "cell_type": "markdown",
   "metadata": {
    "pycharm": {
     "name": "#%% md\n"
    }
   },
   "source": [
    "#### Models"
   ]
  },
  {
   "cell_type": "code",
   "execution_count": 138,
   "metadata": {
    "pycharm": {
     "name": "#%%\n"
    }
   },
   "outputs": [],
   "source": [
    "dummy_mean = make_pipeline(\n",
    "    DummyClassifier(strategy='most_frequent'),\n",
    ")\n",
    "dummy_median = make_pipeline(\n",
    "    DummyClassifier(strategy='stratified'),\n",
    ")"
   ]
  },
  {
   "cell_type": "code",
   "execution_count": 139,
   "metadata": {
    "pycharm": {
     "name": "#%%\n"
    }
   },
   "outputs": [],
   "source": [
    "lr = make_pipeline(\n",
    "    LogisticRegression(),\n",
    ")"
   ]
  },
  {
   "cell_type": "code",
   "execution_count": 140,
   "metadata": {
    "pycharm": {
     "name": "#%%\n"
    }
   },
   "outputs": [],
   "source": [
    "ctb = make_pipeline(\n",
    "    CatBoostClassifier()\n",
    ")\n",
    "xgb_parameters = {\n",
    "    'learning_rate': 0.01,\n",
    "    'max_depth': 9,\n",
    "    'min_child_weight': 3,\n",
    "    'n_estimators': 300\n",
    "\n",
    "}\n",
    "\n",
    "xgb = make_pipeline(\n",
    "    XGBClassifier(**xgb_parameters)\n",
    ")\n",
    "\n",
    "lgbm_parameters = {'boosting_type': 'dart', 'learning_rate': 0.1, 'n_estimators': 256, 'num_leaves': 20}\n",
    "\n",
    "lgbm = make_pipeline(\n",
    "    LGBMClassifier(**lgbm_parameters)\n",
    ")\n",
    "\n",
    "rfc_parameters = {'max_depth': 3, 'min_samples_leaf': 1, 'min_samples_split': 10, 'n_estimators': 256}\n",
    "\n",
    "rfc = make_pipeline(\n",
    "    RandomForestClassifier(**rfc_parameters),\n",
    ")"
   ]
  },
  {
   "cell_type": "code",
   "execution_count": 141,
   "outputs": [],
   "source": [
    "rfc_parameters = {'max_depth': None, 'min_samples_leaf': 2, 'min_samples_split': 10, 'n_estimators': 256}\n",
    "\n",
    "rfc = make_pipeline(\n",
    "    RandomForestClassifier(**rfc_parameters),\n",
    ")"
   ],
   "metadata": {
    "collapsed": false,
    "pycharm": {
     "name": "#%%\n"
    }
   }
  },
  {
   "cell_type": "code",
   "execution_count": 142,
   "outputs": [],
   "source": [
    "model = rfc"
   ],
   "metadata": {
    "collapsed": false,
    "pycharm": {
     "name": "#%%\n"
    }
   }
  },
  {
   "cell_type": "code",
   "execution_count": 143,
   "outputs": [],
   "source": [
    "# lr.fit(X_train, y_train)"
   ],
   "metadata": {
    "collapsed": false,
    "pycharm": {
     "name": "#%%\n"
    }
   }
  },
  {
   "cell_type": "code",
   "execution_count": 144,
   "outputs": [
    {
     "data": {
      "text/plain": "Pipeline(steps=[('randomforestclassifier',\n                 RandomForestClassifier(min_samples_leaf=2,\n                                        min_samples_split=10,\n                                        n_estimators=256))])",
      "text/html": "<style>#sk-container-id-9 {color: black;background-color: white;}#sk-container-id-9 pre{padding: 0;}#sk-container-id-9 div.sk-toggleable {background-color: white;}#sk-container-id-9 label.sk-toggleable__label {cursor: pointer;display: block;width: 100%;margin-bottom: 0;padding: 0.3em;box-sizing: border-box;text-align: center;}#sk-container-id-9 label.sk-toggleable__label-arrow:before {content: \"▸\";float: left;margin-right: 0.25em;color: #696969;}#sk-container-id-9 label.sk-toggleable__label-arrow:hover:before {color: black;}#sk-container-id-9 div.sk-estimator:hover label.sk-toggleable__label-arrow:before {color: black;}#sk-container-id-9 div.sk-toggleable__content {max-height: 0;max-width: 0;overflow: hidden;text-align: left;background-color: #f0f8ff;}#sk-container-id-9 div.sk-toggleable__content pre {margin: 0.2em;color: black;border-radius: 0.25em;background-color: #f0f8ff;}#sk-container-id-9 input.sk-toggleable__control:checked~div.sk-toggleable__content {max-height: 200px;max-width: 100%;overflow: auto;}#sk-container-id-9 input.sk-toggleable__control:checked~label.sk-toggleable__label-arrow:before {content: \"▾\";}#sk-container-id-9 div.sk-estimator input.sk-toggleable__control:checked~label.sk-toggleable__label {background-color: #d4ebff;}#sk-container-id-9 div.sk-label input.sk-toggleable__control:checked~label.sk-toggleable__label {background-color: #d4ebff;}#sk-container-id-9 input.sk-hidden--visually {border: 0;clip: rect(1px 1px 1px 1px);clip: rect(1px, 1px, 1px, 1px);height: 1px;margin: -1px;overflow: hidden;padding: 0;position: absolute;width: 1px;}#sk-container-id-9 div.sk-estimator {font-family: monospace;background-color: #f0f8ff;border: 1px dotted black;border-radius: 0.25em;box-sizing: border-box;margin-bottom: 0.5em;}#sk-container-id-9 div.sk-estimator:hover {background-color: #d4ebff;}#sk-container-id-9 div.sk-parallel-item::after {content: \"\";width: 100%;border-bottom: 1px solid gray;flex-grow: 1;}#sk-container-id-9 div.sk-label:hover label.sk-toggleable__label {background-color: #d4ebff;}#sk-container-id-9 div.sk-serial::before {content: \"\";position: absolute;border-left: 1px solid gray;box-sizing: border-box;top: 0;bottom: 0;left: 50%;z-index: 0;}#sk-container-id-9 div.sk-serial {display: flex;flex-direction: column;align-items: center;background-color: white;padding-right: 0.2em;padding-left: 0.2em;position: relative;}#sk-container-id-9 div.sk-item {position: relative;z-index: 1;}#sk-container-id-9 div.sk-parallel {display: flex;align-items: stretch;justify-content: center;background-color: white;position: relative;}#sk-container-id-9 div.sk-item::before, #sk-container-id-9 div.sk-parallel-item::before {content: \"\";position: absolute;border-left: 1px solid gray;box-sizing: border-box;top: 0;bottom: 0;left: 50%;z-index: -1;}#sk-container-id-9 div.sk-parallel-item {display: flex;flex-direction: column;z-index: 1;position: relative;background-color: white;}#sk-container-id-9 div.sk-parallel-item:first-child::after {align-self: flex-end;width: 50%;}#sk-container-id-9 div.sk-parallel-item:last-child::after {align-self: flex-start;width: 50%;}#sk-container-id-9 div.sk-parallel-item:only-child::after {width: 0;}#sk-container-id-9 div.sk-dashed-wrapped {border: 1px dashed gray;margin: 0 0.4em 0.5em 0.4em;box-sizing: border-box;padding-bottom: 0.4em;background-color: white;}#sk-container-id-9 div.sk-label label {font-family: monospace;font-weight: bold;display: inline-block;line-height: 1.2em;}#sk-container-id-9 div.sk-label-container {text-align: center;}#sk-container-id-9 div.sk-container {/* jupyter's `normalize.less` sets `[hidden] { display: none; }` but bootstrap.min.css set `[hidden] { display: none !important; }` so we also need the `!important` here to be able to override the default hidden behavior on the sphinx rendered scikit-learn.org. See: https://github.com/scikit-learn/scikit-learn/issues/21755 */display: inline-block !important;position: relative;}#sk-container-id-9 div.sk-text-repr-fallback {display: none;}</style><div id=\"sk-container-id-9\" class=\"sk-top-container\"><div class=\"sk-text-repr-fallback\"><pre>Pipeline(steps=[(&#x27;randomforestclassifier&#x27;,\n                 RandomForestClassifier(min_samples_leaf=2,\n                                        min_samples_split=10,\n                                        n_estimators=256))])</pre><b>In a Jupyter environment, please rerun this cell to show the HTML representation or trust the notebook. <br />On GitHub, the HTML representation is unable to render, please try loading this page with nbviewer.org.</b></div><div class=\"sk-container\" hidden><div class=\"sk-item sk-dashed-wrapped\"><div class=\"sk-label-container\"><div class=\"sk-label sk-toggleable\"><input class=\"sk-toggleable__control sk-hidden--visually\" id=\"sk-estimator-id-17\" type=\"checkbox\" ><label for=\"sk-estimator-id-17\" class=\"sk-toggleable__label sk-toggleable__label-arrow\">Pipeline</label><div class=\"sk-toggleable__content\"><pre>Pipeline(steps=[(&#x27;randomforestclassifier&#x27;,\n                 RandomForestClassifier(min_samples_leaf=2,\n                                        min_samples_split=10,\n                                        n_estimators=256))])</pre></div></div></div><div class=\"sk-serial\"><div class=\"sk-item\"><div class=\"sk-estimator sk-toggleable\"><input class=\"sk-toggleable__control sk-hidden--visually\" id=\"sk-estimator-id-18\" type=\"checkbox\" ><label for=\"sk-estimator-id-18\" class=\"sk-toggleable__label sk-toggleable__label-arrow\">RandomForestClassifier</label><div class=\"sk-toggleable__content\"><pre>RandomForestClassifier(min_samples_leaf=2, min_samples_split=10,\n                       n_estimators=256)</pre></div></div></div></div></div></div></div>"
     },
     "execution_count": 144,
     "metadata": {},
     "output_type": "execute_result"
    }
   ],
   "source": [
    "model.fit(X_train, y_train)"
   ],
   "metadata": {
    "collapsed": false,
    "pycharm": {
     "name": "#%%\n"
    }
   }
  },
  {
   "cell_type": "code",
   "execution_count": 145,
   "outputs": [],
   "source": [
    "prediction = model.predict(X_test)"
   ],
   "metadata": {
    "collapsed": false,
    "pycharm": {
     "name": "#%%\n"
    }
   }
  },
  {
   "cell_type": "code",
   "execution_count": 146,
   "outputs": [],
   "source": [
    "import warnings\n",
    "from sklearn.metrics import classification_report, confusion_matrix"
   ],
   "metadata": {
    "collapsed": false,
    "pycharm": {
     "name": "#%%\n"
    }
   }
  },
  {
   "cell_type": "code",
   "execution_count": 147,
   "outputs": [
    {
     "name": "stdout",
     "output_type": "stream",
     "text": [
      "              precision    recall  f1-score   support\n",
      "\n",
      "           0       0.99      0.90      0.94      2100\n",
      "           1       0.12      0.68      0.20        41\n",
      "\n",
      "    accuracy                           0.90      2141\n",
      "   macro avg       0.56      0.79      0.57      2141\n",
      "weighted avg       0.98      0.90      0.93      2141\n",
      "\n",
      "[[1889  211]\n",
      " [  13   28]]\n"
     ]
    }
   ],
   "source": [
    "with warnings.catch_warnings():\n",
    "    warnings.simplefilter(\"ignore\")\n",
    "    print(classification_report(prediction, y_test))\n",
    "    print(confusion_matrix(prediction, y_test))"
   ],
   "metadata": {
    "collapsed": false,
    "pycharm": {
     "name": "#%%\n"
    }
   }
  },
  {
   "cell_type": "code",
   "execution_count": 148,
   "outputs": [],
   "source": [
    "train_prediction = model.predict(X_train)"
   ],
   "metadata": {
    "collapsed": false,
    "pycharm": {
     "name": "#%%\n"
    }
   }
  },
  {
   "cell_type": "code",
   "execution_count": 149,
   "outputs": [
    {
     "name": "stdout",
     "output_type": "stream",
     "text": [
      "              precision    recall  f1-score   support\n",
      "\n",
      "           0       1.00      0.92      0.96      8267\n",
      "           1       0.29      0.94      0.44       295\n",
      "\n",
      "    accuracy                           0.92      8562\n",
      "   macro avg       0.64      0.93      0.70      8562\n",
      "weighted avg       0.97      0.92      0.94      8562\n",
      "\n",
      "[[7586  681]\n",
      " [  19  276]]\n"
     ]
    }
   ],
   "source": [
    "with warnings.catch_warnings():\n",
    "    warnings.simplefilter(\"ignore\")\n",
    "    print(classification_report(train_prediction, y_train))\n",
    "    print(confusion_matrix(train_prediction, y_train))"
   ],
   "metadata": {
    "collapsed": false,
    "pycharm": {
     "name": "#%%\n"
    }
   }
  },
  {
   "cell_type": "code",
   "execution_count": 150,
   "metadata": {
    "pycharm": {
     "name": "#%%\n"
    }
   },
   "outputs": [],
   "source": [
    "pipelines = [\n",
    "    (\"Dummy_mean\", dummy_mean),\n",
    "    (\"Dummy_median\", dummy_median),\n",
    "    (\"LinReg\", lr),\n",
    "    (\"XGB\", xgb),\n",
    "    (\"LGBM\", lgbm),\n",
    "    (\"RFC\", rfc),\n",
    "    (\"CatBoost\", ctb),\n",
    "]"
   ]
  },
  {
   "cell_type": "markdown",
   "metadata": {
    "pycharm": {
     "name": "#%% md\n"
    }
   },
   "source": [
    "#### Models"
   ]
  },
  {
   "cell_type": "code",
   "execution_count": 151,
   "metadata": {
    "pycharm": {
     "name": "#%%\n"
    }
   },
   "outputs": [
    {
     "name": "stderr",
     "output_type": "stream",
     "text": [
      "C:\\Users\\dzmit\\anaconda3\\envs\\eurostars\\lib\\site-packages\\sklearn\\metrics\\_classification.py:1334: UndefinedMetricWarning: Precision is ill-defined and being set to 0.0 due to no predicted samples. Use `zero_division` parameter to control this behavior.\n",
      "  _warn_prf(average, modifier, msg_start, len(result))\n",
      "C:\\Users\\dzmit\\anaconda3\\envs\\eurostars\\lib\\site-packages\\sklearn\\metrics\\_classification.py:1334: UndefinedMetricWarning: Precision is ill-defined and being set to 0.0 due to no predicted samples. Use `zero_division` parameter to control this behavior.\n",
      "  _warn_prf(average, modifier, msg_start, len(result))\n"
     ]
    },
    {
     "name": "stdout",
     "output_type": "stream",
     "text": [
      "Learning rate set to 0.025772\n",
      "0:\tlearn: 0.6719091\ttotal: 27.1ms\tremaining: 27s\n",
      "1:\tlearn: 0.6517708\ttotal: 52.1ms\tremaining: 26s\n",
      "2:\tlearn: 0.6337328\ttotal: 77ms\tremaining: 25.6s\n",
      "3:\tlearn: 0.6162053\ttotal: 102ms\tremaining: 25.3s\n",
      "4:\tlearn: 0.6002484\ttotal: 126ms\tremaining: 25.1s\n",
      "5:\tlearn: 0.5847897\ttotal: 152ms\tremaining: 25.2s\n",
      "6:\tlearn: 0.5707623\ttotal: 177ms\tremaining: 25.1s\n",
      "7:\tlearn: 0.5569675\ttotal: 202ms\tremaining: 25s\n",
      "8:\tlearn: 0.5444003\ttotal: 228ms\tremaining: 25.1s\n",
      "9:\tlearn: 0.5319046\ttotal: 256ms\tremaining: 25.4s\n",
      "10:\tlearn: 0.5209678\ttotal: 284ms\tremaining: 25.6s\n",
      "11:\tlearn: 0.5097912\ttotal: 315ms\tremaining: 25.9s\n",
      "12:\tlearn: 0.4992775\ttotal: 344ms\tremaining: 26.1s\n",
      "13:\tlearn: 0.4902764\ttotal: 374ms\tremaining: 26.4s\n",
      "14:\tlearn: 0.4802049\ttotal: 402ms\tremaining: 26.4s\n",
      "15:\tlearn: 0.4718727\ttotal: 431ms\tremaining: 26.5s\n",
      "16:\tlearn: 0.4634352\ttotal: 460ms\tremaining: 26.6s\n",
      "17:\tlearn: 0.4558712\ttotal: 489ms\tremaining: 26.7s\n",
      "18:\tlearn: 0.4489125\ttotal: 521ms\tremaining: 26.9s\n",
      "19:\tlearn: 0.4422877\ttotal: 550ms\tremaining: 27s\n",
      "20:\tlearn: 0.4357393\ttotal: 580ms\tremaining: 27.1s\n",
      "21:\tlearn: 0.4293315\ttotal: 610ms\tremaining: 27.1s\n",
      "22:\tlearn: 0.4240283\ttotal: 637ms\tremaining: 27s\n",
      "23:\tlearn: 0.4183847\ttotal: 665ms\tremaining: 27s\n",
      "24:\tlearn: 0.4128472\ttotal: 695ms\tremaining: 27.1s\n",
      "25:\tlearn: 0.4075198\ttotal: 725ms\tremaining: 27.2s\n",
      "26:\tlearn: 0.4029775\ttotal: 752ms\tremaining: 27.1s\n",
      "27:\tlearn: 0.3986279\ttotal: 779ms\tremaining: 27s\n",
      "28:\tlearn: 0.3948726\ttotal: 808ms\tremaining: 27s\n",
      "29:\tlearn: 0.3903951\ttotal: 835ms\tremaining: 27s\n",
      "30:\tlearn: 0.3865908\ttotal: 862ms\tremaining: 27s\n",
      "31:\tlearn: 0.3830012\ttotal: 890ms\tremaining: 26.9s\n",
      "32:\tlearn: 0.3797755\ttotal: 916ms\tremaining: 26.9s\n",
      "33:\tlearn: 0.3758515\ttotal: 945ms\tremaining: 26.9s\n",
      "34:\tlearn: 0.3724882\ttotal: 971ms\tremaining: 26.8s\n",
      "35:\tlearn: 0.3698676\ttotal: 997ms\tremaining: 26.7s\n",
      "36:\tlearn: 0.3673336\ttotal: 1.02s\tremaining: 26.6s\n",
      "37:\tlearn: 0.3647828\ttotal: 1.05s\tremaining: 26.5s\n",
      "38:\tlearn: 0.3620809\ttotal: 1.07s\tremaining: 26.4s\n",
      "39:\tlearn: 0.3592872\ttotal: 1.1s\tremaining: 26.3s\n",
      "40:\tlearn: 0.3570128\ttotal: 1.12s\tremaining: 26.3s\n",
      "41:\tlearn: 0.3547215\ttotal: 1.16s\tremaining: 26.5s\n",
      "42:\tlearn: 0.3527002\ttotal: 1.19s\tremaining: 26.5s\n",
      "43:\tlearn: 0.3505628\ttotal: 1.22s\tremaining: 26.4s\n",
      "44:\tlearn: 0.3489495\ttotal: 1.24s\tremaining: 26.4s\n",
      "45:\tlearn: 0.3468920\ttotal: 1.27s\tremaining: 26.3s\n",
      "46:\tlearn: 0.3452449\ttotal: 1.29s\tremaining: 26.2s\n",
      "47:\tlearn: 0.3435499\ttotal: 1.32s\tremaining: 26.2s\n",
      "48:\tlearn: 0.3416429\ttotal: 1.34s\tremaining: 26.1s\n",
      "49:\tlearn: 0.3401187\ttotal: 1.37s\tremaining: 26.1s\n",
      "50:\tlearn: 0.3386649\ttotal: 1.4s\tremaining: 26.1s\n",
      "51:\tlearn: 0.3373175\ttotal: 1.43s\tremaining: 26s\n",
      "52:\tlearn: 0.3359950\ttotal: 1.45s\tremaining: 26s\n",
      "53:\tlearn: 0.3348942\ttotal: 1.48s\tremaining: 25.9s\n",
      "54:\tlearn: 0.3338014\ttotal: 1.51s\tremaining: 25.9s\n",
      "55:\tlearn: 0.3324150\ttotal: 1.53s\tremaining: 25.9s\n",
      "56:\tlearn: 0.3313770\ttotal: 1.56s\tremaining: 25.8s\n",
      "57:\tlearn: 0.3302103\ttotal: 1.59s\tremaining: 25.8s\n",
      "58:\tlearn: 0.3291227\ttotal: 1.62s\tremaining: 25.8s\n",
      "59:\tlearn: 0.3281338\ttotal: 1.65s\tremaining: 25.8s\n",
      "60:\tlearn: 0.3271006\ttotal: 1.67s\tremaining: 25.7s\n",
      "61:\tlearn: 0.3262003\ttotal: 1.7s\tremaining: 25.7s\n",
      "62:\tlearn: 0.3252627\ttotal: 1.72s\tremaining: 25.6s\n",
      "63:\tlearn: 0.3241535\ttotal: 1.75s\tremaining: 25.6s\n",
      "64:\tlearn: 0.3233708\ttotal: 1.78s\tremaining: 25.6s\n",
      "65:\tlearn: 0.3223746\ttotal: 1.8s\tremaining: 25.5s\n",
      "66:\tlearn: 0.3214738\ttotal: 1.83s\tremaining: 25.5s\n",
      "67:\tlearn: 0.3206759\ttotal: 1.86s\tremaining: 25.5s\n",
      "68:\tlearn: 0.3200002\ttotal: 1.89s\tremaining: 25.5s\n",
      "69:\tlearn: 0.3191075\ttotal: 1.91s\tremaining: 25.4s\n",
      "70:\tlearn: 0.3183065\ttotal: 1.94s\tremaining: 25.3s\n",
      "71:\tlearn: 0.3175523\ttotal: 1.96s\tremaining: 25.3s\n",
      "72:\tlearn: 0.3168883\ttotal: 1.99s\tremaining: 25.3s\n",
      "73:\tlearn: 0.3161871\ttotal: 2.02s\tremaining: 25.2s\n",
      "74:\tlearn: 0.3153770\ttotal: 2.04s\tremaining: 25.2s\n",
      "75:\tlearn: 0.3147554\ttotal: 2.07s\tremaining: 25.2s\n",
      "76:\tlearn: 0.3141112\ttotal: 2.1s\tremaining: 25.1s\n",
      "77:\tlearn: 0.3135264\ttotal: 2.12s\tremaining: 25.1s\n",
      "78:\tlearn: 0.3129524\ttotal: 2.15s\tremaining: 25s\n",
      "79:\tlearn: 0.3124181\ttotal: 2.17s\tremaining: 25s\n",
      "80:\tlearn: 0.3119719\ttotal: 2.2s\tremaining: 24.9s\n",
      "81:\tlearn: 0.3113617\ttotal: 2.22s\tremaining: 24.9s\n",
      "82:\tlearn: 0.3108801\ttotal: 2.25s\tremaining: 24.9s\n",
      "83:\tlearn: 0.3102987\ttotal: 2.28s\tremaining: 24.9s\n",
      "84:\tlearn: 0.3097771\ttotal: 2.3s\tremaining: 24.8s\n",
      "85:\tlearn: 0.3091974\ttotal: 2.33s\tremaining: 24.8s\n",
      "86:\tlearn: 0.3088128\ttotal: 2.36s\tremaining: 24.7s\n",
      "87:\tlearn: 0.3083654\ttotal: 2.38s\tremaining: 24.7s\n",
      "88:\tlearn: 0.3078925\ttotal: 2.41s\tremaining: 24.7s\n",
      "89:\tlearn: 0.3074112\ttotal: 2.44s\tremaining: 24.6s\n",
      "90:\tlearn: 0.3069409\ttotal: 2.47s\tremaining: 24.7s\n",
      "91:\tlearn: 0.3065615\ttotal: 2.5s\tremaining: 24.6s\n",
      "92:\tlearn: 0.3061886\ttotal: 2.52s\tremaining: 24.6s\n",
      "93:\tlearn: 0.3057523\ttotal: 2.55s\tremaining: 24.6s\n",
      "94:\tlearn: 0.3053575\ttotal: 2.57s\tremaining: 24.5s\n",
      "95:\tlearn: 0.3050108\ttotal: 2.6s\tremaining: 24.5s\n",
      "96:\tlearn: 0.3046056\ttotal: 2.62s\tremaining: 24.4s\n",
      "97:\tlearn: 0.3042766\ttotal: 2.65s\tremaining: 24.4s\n",
      "98:\tlearn: 0.3039116\ttotal: 2.68s\tremaining: 24.4s\n",
      "99:\tlearn: 0.3034988\ttotal: 2.71s\tremaining: 24.4s\n",
      "100:\tlearn: 0.3030835\ttotal: 2.73s\tremaining: 24.3s\n",
      "101:\tlearn: 0.3026720\ttotal: 2.76s\tremaining: 24.3s\n",
      "102:\tlearn: 0.3023169\ttotal: 2.79s\tremaining: 24.3s\n",
      "103:\tlearn: 0.3019147\ttotal: 2.81s\tremaining: 24.3s\n",
      "104:\tlearn: 0.3015998\ttotal: 2.84s\tremaining: 24.2s\n",
      "105:\tlearn: 0.3013345\ttotal: 2.87s\tremaining: 24.2s\n",
      "106:\tlearn: 0.3009788\ttotal: 2.9s\tremaining: 24.2s\n",
      "107:\tlearn: 0.3006956\ttotal: 2.93s\tremaining: 24.2s\n",
      "108:\tlearn: 0.3004183\ttotal: 2.95s\tremaining: 24.1s\n",
      "109:\tlearn: 0.3000911\ttotal: 2.98s\tremaining: 24.1s\n",
      "110:\tlearn: 0.2997928\ttotal: 3s\tremaining: 24.1s\n",
      "111:\tlearn: 0.2994607\ttotal: 3.03s\tremaining: 24s\n",
      "112:\tlearn: 0.2991817\ttotal: 3.06s\tremaining: 24s\n",
      "113:\tlearn: 0.2990206\ttotal: 3.08s\tremaining: 23.9s\n",
      "114:\tlearn: 0.2986997\ttotal: 3.11s\tremaining: 23.9s\n",
      "115:\tlearn: 0.2983586\ttotal: 3.13s\tremaining: 23.9s\n",
      "116:\tlearn: 0.2980245\ttotal: 3.16s\tremaining: 23.8s\n",
      "117:\tlearn: 0.2977649\ttotal: 3.18s\tremaining: 23.8s\n",
      "118:\tlearn: 0.2975365\ttotal: 3.21s\tremaining: 23.8s\n",
      "119:\tlearn: 0.2972413\ttotal: 3.23s\tremaining: 23.7s\n",
      "120:\tlearn: 0.2970019\ttotal: 3.26s\tremaining: 23.7s\n",
      "121:\tlearn: 0.2966781\ttotal: 3.28s\tremaining: 23.6s\n",
      "122:\tlearn: 0.2964542\ttotal: 3.31s\tremaining: 23.6s\n",
      "123:\tlearn: 0.2962087\ttotal: 3.34s\tremaining: 23.6s\n",
      "124:\tlearn: 0.2959947\ttotal: 3.38s\tremaining: 23.7s\n",
      "125:\tlearn: 0.2957492\ttotal: 3.41s\tremaining: 23.6s\n",
      "126:\tlearn: 0.2954953\ttotal: 3.43s\tremaining: 23.6s\n",
      "127:\tlearn: 0.2952208\ttotal: 3.46s\tremaining: 23.6s\n",
      "128:\tlearn: 0.2949684\ttotal: 3.49s\tremaining: 23.6s\n",
      "129:\tlearn: 0.2947203\ttotal: 3.52s\tremaining: 23.6s\n",
      "130:\tlearn: 0.2944565\ttotal: 3.55s\tremaining: 23.6s\n",
      "131:\tlearn: 0.2942167\ttotal: 3.58s\tremaining: 23.5s\n",
      "132:\tlearn: 0.2939909\ttotal: 3.6s\tremaining: 23.5s\n",
      "133:\tlearn: 0.2937354\ttotal: 3.63s\tremaining: 23.5s\n",
      "134:\tlearn: 0.2935679\ttotal: 3.66s\tremaining: 23.4s\n",
      "135:\tlearn: 0.2933085\ttotal: 3.69s\tremaining: 23.4s\n",
      "136:\tlearn: 0.2930441\ttotal: 3.71s\tremaining: 23.4s\n",
      "137:\tlearn: 0.2927788\ttotal: 3.74s\tremaining: 23.4s\n",
      "138:\tlearn: 0.2925564\ttotal: 3.77s\tremaining: 23.4s\n",
      "139:\tlearn: 0.2923220\ttotal: 3.8s\tremaining: 23.3s\n",
      "140:\tlearn: 0.2920516\ttotal: 3.83s\tremaining: 23.3s\n",
      "141:\tlearn: 0.2919159\ttotal: 3.85s\tremaining: 23.3s\n",
      "142:\tlearn: 0.2917051\ttotal: 3.88s\tremaining: 23.3s\n",
      "143:\tlearn: 0.2915268\ttotal: 3.91s\tremaining: 23.2s\n",
      "144:\tlearn: 0.2912971\ttotal: 3.93s\tremaining: 23.2s\n",
      "145:\tlearn: 0.2910830\ttotal: 3.96s\tremaining: 23.2s\n",
      "146:\tlearn: 0.2908477\ttotal: 3.99s\tremaining: 23.2s\n",
      "147:\tlearn: 0.2905763\ttotal: 4.02s\tremaining: 23.1s\n",
      "148:\tlearn: 0.2903784\ttotal: 4.04s\tremaining: 23.1s\n",
      "149:\tlearn: 0.2900921\ttotal: 4.07s\tremaining: 23.1s\n",
      "150:\tlearn: 0.2898444\ttotal: 4.1s\tremaining: 23s\n",
      "151:\tlearn: 0.2897153\ttotal: 4.12s\tremaining: 23s\n",
      "152:\tlearn: 0.2895151\ttotal: 4.15s\tremaining: 23s\n",
      "153:\tlearn: 0.2893480\ttotal: 4.18s\tremaining: 23s\n",
      "154:\tlearn: 0.2891329\ttotal: 4.21s\tremaining: 22.9s\n",
      "155:\tlearn: 0.2889428\ttotal: 4.24s\tremaining: 22.9s\n",
      "156:\tlearn: 0.2887270\ttotal: 4.26s\tremaining: 22.9s\n",
      "157:\tlearn: 0.2885677\ttotal: 4.29s\tremaining: 22.9s\n",
      "158:\tlearn: 0.2884001\ttotal: 4.32s\tremaining: 22.8s\n",
      "159:\tlearn: 0.2881694\ttotal: 4.35s\tremaining: 22.8s\n",
      "160:\tlearn: 0.2879565\ttotal: 4.38s\tremaining: 22.8s\n",
      "161:\tlearn: 0.2877150\ttotal: 4.4s\tremaining: 22.8s\n",
      "162:\tlearn: 0.2875427\ttotal: 4.43s\tremaining: 22.8s\n",
      "163:\tlearn: 0.2873423\ttotal: 4.46s\tremaining: 22.8s\n",
      "164:\tlearn: 0.2871363\ttotal: 4.49s\tremaining: 22.7s\n",
      "165:\tlearn: 0.2869869\ttotal: 4.52s\tremaining: 22.7s\n",
      "166:\tlearn: 0.2868401\ttotal: 4.54s\tremaining: 22.7s\n",
      "167:\tlearn: 0.2866341\ttotal: 4.57s\tremaining: 22.6s\n",
      "168:\tlearn: 0.2864501\ttotal: 4.6s\tremaining: 22.6s\n",
      "169:\tlearn: 0.2862499\ttotal: 4.63s\tremaining: 22.6s\n",
      "170:\tlearn: 0.2859995\ttotal: 4.66s\tremaining: 22.6s\n",
      "171:\tlearn: 0.2858470\ttotal: 4.68s\tremaining: 22.5s\n",
      "172:\tlearn: 0.2856569\ttotal: 4.71s\tremaining: 22.5s\n",
      "173:\tlearn: 0.2854676\ttotal: 4.74s\tremaining: 22.5s\n",
      "174:\tlearn: 0.2852974\ttotal: 4.76s\tremaining: 22.5s\n",
      "175:\tlearn: 0.2850926\ttotal: 4.79s\tremaining: 22.4s\n",
      "176:\tlearn: 0.2849029\ttotal: 4.82s\tremaining: 22.4s\n",
      "177:\tlearn: 0.2847456\ttotal: 4.85s\tremaining: 22.4s\n",
      "178:\tlearn: 0.2845862\ttotal: 4.88s\tremaining: 22.4s\n",
      "179:\tlearn: 0.2844033\ttotal: 4.91s\tremaining: 22.4s\n",
      "180:\tlearn: 0.2842541\ttotal: 4.93s\tremaining: 22.3s\n",
      "181:\tlearn: 0.2840641\ttotal: 4.96s\tremaining: 22.3s\n",
      "182:\tlearn: 0.2839218\ttotal: 4.99s\tremaining: 22.3s\n",
      "183:\tlearn: 0.2837382\ttotal: 5.02s\tremaining: 22.2s\n",
      "184:\tlearn: 0.2835402\ttotal: 5.05s\tremaining: 22.2s\n",
      "185:\tlearn: 0.2833725\ttotal: 5.07s\tremaining: 22.2s\n",
      "186:\tlearn: 0.2831741\ttotal: 5.1s\tremaining: 22.2s\n",
      "187:\tlearn: 0.2830012\ttotal: 5.13s\tremaining: 22.2s\n",
      "188:\tlearn: 0.2828188\ttotal: 5.16s\tremaining: 22.1s\n",
      "189:\tlearn: 0.2826897\ttotal: 5.18s\tremaining: 22.1s\n",
      "190:\tlearn: 0.2825470\ttotal: 5.21s\tremaining: 22.1s\n",
      "191:\tlearn: 0.2823951\ttotal: 5.24s\tremaining: 22.1s\n",
      "192:\tlearn: 0.2821695\ttotal: 5.27s\tremaining: 22s\n",
      "193:\tlearn: 0.2819968\ttotal: 5.3s\tremaining: 22s\n",
      "194:\tlearn: 0.2818112\ttotal: 5.33s\tremaining: 22s\n",
      "195:\tlearn: 0.2816153\ttotal: 5.36s\tremaining: 22s\n",
      "196:\tlearn: 0.2814451\ttotal: 5.39s\tremaining: 22s\n",
      "197:\tlearn: 0.2812776\ttotal: 5.42s\tremaining: 22s\n",
      "198:\tlearn: 0.2810870\ttotal: 5.45s\tremaining: 21.9s\n",
      "199:\tlearn: 0.2808937\ttotal: 5.48s\tremaining: 21.9s\n",
      "200:\tlearn: 0.2807198\ttotal: 5.51s\tremaining: 21.9s\n",
      "201:\tlearn: 0.2806029\ttotal: 5.54s\tremaining: 21.9s\n",
      "202:\tlearn: 0.2804657\ttotal: 5.57s\tremaining: 21.8s\n",
      "203:\tlearn: 0.2803232\ttotal: 5.59s\tremaining: 21.8s\n",
      "204:\tlearn: 0.2801982\ttotal: 5.62s\tremaining: 21.8s\n",
      "205:\tlearn: 0.2800511\ttotal: 5.64s\tremaining: 21.8s\n",
      "206:\tlearn: 0.2799327\ttotal: 5.67s\tremaining: 21.7s\n",
      "207:\tlearn: 0.2797970\ttotal: 5.7s\tremaining: 21.7s\n",
      "208:\tlearn: 0.2796517\ttotal: 5.72s\tremaining: 21.7s\n",
      "209:\tlearn: 0.2794987\ttotal: 5.75s\tremaining: 21.6s\n",
      "210:\tlearn: 0.2793874\ttotal: 5.78s\tremaining: 21.6s\n",
      "211:\tlearn: 0.2792716\ttotal: 5.8s\tremaining: 21.6s\n",
      "212:\tlearn: 0.2791237\ttotal: 5.83s\tremaining: 21.5s\n",
      "213:\tlearn: 0.2790177\ttotal: 5.86s\tremaining: 21.5s\n",
      "214:\tlearn: 0.2788596\ttotal: 5.89s\tremaining: 21.5s\n",
      "215:\tlearn: 0.2787218\ttotal: 5.91s\tremaining: 21.5s\n",
      "216:\tlearn: 0.2786040\ttotal: 5.94s\tremaining: 21.4s\n",
      "217:\tlearn: 0.2784441\ttotal: 5.97s\tremaining: 21.4s\n",
      "218:\tlearn: 0.2783057\ttotal: 6s\tremaining: 21.4s\n",
      "219:\tlearn: 0.2781651\ttotal: 6.03s\tremaining: 21.4s\n",
      "220:\tlearn: 0.2780205\ttotal: 6.06s\tremaining: 21.4s\n",
      "221:\tlearn: 0.2778450\ttotal: 6.09s\tremaining: 21.3s\n",
      "222:\tlearn: 0.2777162\ttotal: 6.12s\tremaining: 21.3s\n",
      "223:\tlearn: 0.2775683\ttotal: 6.15s\tremaining: 21.3s\n",
      "224:\tlearn: 0.2774387\ttotal: 6.17s\tremaining: 21.3s\n",
      "225:\tlearn: 0.2772588\ttotal: 6.21s\tremaining: 21.3s\n",
      "226:\tlearn: 0.2771186\ttotal: 6.23s\tremaining: 21.2s\n",
      "227:\tlearn: 0.2770236\ttotal: 6.26s\tremaining: 21.2s\n",
      "228:\tlearn: 0.2768171\ttotal: 6.29s\tremaining: 21.2s\n",
      "229:\tlearn: 0.2766572\ttotal: 6.32s\tremaining: 21.1s\n",
      "230:\tlearn: 0.2764710\ttotal: 6.34s\tremaining: 21.1s\n",
      "231:\tlearn: 0.2763355\ttotal: 6.37s\tremaining: 21.1s\n",
      "232:\tlearn: 0.2762156\ttotal: 6.4s\tremaining: 21.1s\n",
      "233:\tlearn: 0.2760965\ttotal: 6.43s\tremaining: 21s\n",
      "234:\tlearn: 0.2759671\ttotal: 6.46s\tremaining: 21s\n",
      "235:\tlearn: 0.2757731\ttotal: 6.49s\tremaining: 21s\n",
      "236:\tlearn: 0.2755998\ttotal: 6.51s\tremaining: 21s\n",
      "237:\tlearn: 0.2754341\ttotal: 6.54s\tremaining: 20.9s\n",
      "238:\tlearn: 0.2752862\ttotal: 6.57s\tremaining: 20.9s\n",
      "239:\tlearn: 0.2751473\ttotal: 6.59s\tremaining: 20.9s\n",
      "240:\tlearn: 0.2749904\ttotal: 6.62s\tremaining: 20.9s\n",
      "241:\tlearn: 0.2748574\ttotal: 6.65s\tremaining: 20.8s\n",
      "242:\tlearn: 0.2746896\ttotal: 6.68s\tremaining: 20.8s\n",
      "243:\tlearn: 0.2745576\ttotal: 6.7s\tremaining: 20.8s\n",
      "244:\tlearn: 0.2743562\ttotal: 6.73s\tremaining: 20.7s\n",
      "245:\tlearn: 0.2741852\ttotal: 6.75s\tremaining: 20.7s\n",
      "246:\tlearn: 0.2740712\ttotal: 6.78s\tremaining: 20.7s\n",
      "247:\tlearn: 0.2739338\ttotal: 6.81s\tremaining: 20.6s\n",
      "248:\tlearn: 0.2738046\ttotal: 6.83s\tremaining: 20.6s\n",
      "249:\tlearn: 0.2736648\ttotal: 6.86s\tremaining: 20.6s\n",
      "250:\tlearn: 0.2734794\ttotal: 6.89s\tremaining: 20.6s\n",
      "251:\tlearn: 0.2733001\ttotal: 6.92s\tremaining: 20.5s\n",
      "252:\tlearn: 0.2731766\ttotal: 6.94s\tremaining: 20.5s\n",
      "253:\tlearn: 0.2730791\ttotal: 6.97s\tremaining: 20.5s\n",
      "254:\tlearn: 0.2729238\ttotal: 7s\tremaining: 20.4s\n",
      "255:\tlearn: 0.2727922\ttotal: 7.02s\tremaining: 20.4s\n",
      "256:\tlearn: 0.2726643\ttotal: 7.05s\tremaining: 20.4s\n",
      "257:\tlearn: 0.2725420\ttotal: 7.08s\tremaining: 20.4s\n",
      "258:\tlearn: 0.2723794\ttotal: 7.11s\tremaining: 20.3s\n",
      "259:\tlearn: 0.2722048\ttotal: 7.13s\tremaining: 20.3s\n",
      "260:\tlearn: 0.2720924\ttotal: 7.16s\tremaining: 20.3s\n",
      "261:\tlearn: 0.2719162\ttotal: 7.19s\tremaining: 20.3s\n",
      "262:\tlearn: 0.2717290\ttotal: 7.22s\tremaining: 20.2s\n",
      "263:\tlearn: 0.2715884\ttotal: 7.24s\tremaining: 20.2s\n",
      "264:\tlearn: 0.2713905\ttotal: 7.27s\tremaining: 20.2s\n",
      "265:\tlearn: 0.2712352\ttotal: 7.3s\tremaining: 20.1s\n",
      "266:\tlearn: 0.2711473\ttotal: 7.33s\tremaining: 20.1s\n",
      "267:\tlearn: 0.2710520\ttotal: 7.35s\tremaining: 20.1s\n",
      "268:\tlearn: 0.2709170\ttotal: 7.38s\tremaining: 20.1s\n",
      "269:\tlearn: 0.2707833\ttotal: 7.41s\tremaining: 20s\n",
      "270:\tlearn: 0.2706494\ttotal: 7.44s\tremaining: 20s\n",
      "271:\tlearn: 0.2704963\ttotal: 7.47s\tremaining: 20s\n",
      "272:\tlearn: 0.2703426\ttotal: 7.5s\tremaining: 20s\n",
      "273:\tlearn: 0.2702308\ttotal: 7.54s\tremaining: 20s\n",
      "274:\tlearn: 0.2701355\ttotal: 7.56s\tremaining: 19.9s\n",
      "275:\tlearn: 0.2699858\ttotal: 7.59s\tremaining: 19.9s\n",
      "276:\tlearn: 0.2698105\ttotal: 7.62s\tremaining: 19.9s\n",
      "277:\tlearn: 0.2696569\ttotal: 7.64s\tremaining: 19.9s\n",
      "278:\tlearn: 0.2695234\ttotal: 7.67s\tremaining: 19.8s\n",
      "279:\tlearn: 0.2693973\ttotal: 7.7s\tremaining: 19.8s\n",
      "280:\tlearn: 0.2692590\ttotal: 7.73s\tremaining: 19.8s\n",
      "281:\tlearn: 0.2691354\ttotal: 7.76s\tremaining: 19.8s\n",
      "282:\tlearn: 0.2690511\ttotal: 7.79s\tremaining: 19.7s\n",
      "283:\tlearn: 0.2689476\ttotal: 7.82s\tremaining: 19.7s\n",
      "284:\tlearn: 0.2688065\ttotal: 7.85s\tremaining: 19.7s\n",
      "285:\tlearn: 0.2686473\ttotal: 7.87s\tremaining: 19.7s\n",
      "286:\tlearn: 0.2684972\ttotal: 7.9s\tremaining: 19.6s\n",
      "287:\tlearn: 0.2683828\ttotal: 7.93s\tremaining: 19.6s\n",
      "288:\tlearn: 0.2682708\ttotal: 7.95s\tremaining: 19.6s\n",
      "289:\tlearn: 0.2681434\ttotal: 7.99s\tremaining: 19.5s\n",
      "290:\tlearn: 0.2679967\ttotal: 8.01s\tremaining: 19.5s\n",
      "291:\tlearn: 0.2678038\ttotal: 8.04s\tremaining: 19.5s\n",
      "292:\tlearn: 0.2676723\ttotal: 8.07s\tremaining: 19.5s\n",
      "293:\tlearn: 0.2675334\ttotal: 8.1s\tremaining: 19.4s\n",
      "294:\tlearn: 0.2673822\ttotal: 8.12s\tremaining: 19.4s\n",
      "295:\tlearn: 0.2672274\ttotal: 8.15s\tremaining: 19.4s\n",
      "296:\tlearn: 0.2670928\ttotal: 8.17s\tremaining: 19.3s\n",
      "297:\tlearn: 0.2669256\ttotal: 8.21s\tremaining: 19.3s\n",
      "298:\tlearn: 0.2667857\ttotal: 8.23s\tremaining: 19.3s\n",
      "299:\tlearn: 0.2666746\ttotal: 8.26s\tremaining: 19.3s\n",
      "300:\tlearn: 0.2665455\ttotal: 8.29s\tremaining: 19.2s\n",
      "301:\tlearn: 0.2664125\ttotal: 8.31s\tremaining: 19.2s\n",
      "302:\tlearn: 0.2662657\ttotal: 8.34s\tremaining: 19.2s\n",
      "303:\tlearn: 0.2661270\ttotal: 8.37s\tremaining: 19.2s\n",
      "304:\tlearn: 0.2660104\ttotal: 8.39s\tremaining: 19.1s\n",
      "305:\tlearn: 0.2659107\ttotal: 8.43s\tremaining: 19.1s\n",
      "306:\tlearn: 0.2657947\ttotal: 8.45s\tremaining: 19.1s\n",
      "307:\tlearn: 0.2656564\ttotal: 8.48s\tremaining: 19.1s\n",
      "308:\tlearn: 0.2655291\ttotal: 8.51s\tremaining: 19s\n",
      "309:\tlearn: 0.2653764\ttotal: 8.54s\tremaining: 19s\n",
      "310:\tlearn: 0.2652781\ttotal: 8.56s\tremaining: 19s\n",
      "311:\tlearn: 0.2651593\ttotal: 8.59s\tremaining: 18.9s\n",
      "312:\tlearn: 0.2650667\ttotal: 8.62s\tremaining: 18.9s\n",
      "313:\tlearn: 0.2649361\ttotal: 8.65s\tremaining: 18.9s\n",
      "314:\tlearn: 0.2648453\ttotal: 8.68s\tremaining: 18.9s\n",
      "315:\tlearn: 0.2647223\ttotal: 8.7s\tremaining: 18.8s\n",
      "316:\tlearn: 0.2646049\ttotal: 8.73s\tremaining: 18.8s\n",
      "317:\tlearn: 0.2644502\ttotal: 8.76s\tremaining: 18.8s\n",
      "318:\tlearn: 0.2643426\ttotal: 8.78s\tremaining: 18.7s\n",
      "319:\tlearn: 0.2642131\ttotal: 8.81s\tremaining: 18.7s\n",
      "320:\tlearn: 0.2641075\ttotal: 8.84s\tremaining: 18.7s\n",
      "321:\tlearn: 0.2639831\ttotal: 8.87s\tremaining: 18.7s\n",
      "322:\tlearn: 0.2638236\ttotal: 8.89s\tremaining: 18.6s\n",
      "323:\tlearn: 0.2636764\ttotal: 8.92s\tremaining: 18.6s\n",
      "324:\tlearn: 0.2635228\ttotal: 8.95s\tremaining: 18.6s\n",
      "325:\tlearn: 0.2633586\ttotal: 8.97s\tremaining: 18.6s\n",
      "326:\tlearn: 0.2632057\ttotal: 9s\tremaining: 18.5s\n",
      "327:\tlearn: 0.2631040\ttotal: 9.03s\tremaining: 18.5s\n",
      "328:\tlearn: 0.2629893\ttotal: 9.05s\tremaining: 18.5s\n",
      "329:\tlearn: 0.2629169\ttotal: 9.09s\tremaining: 18.4s\n",
      "330:\tlearn: 0.2627843\ttotal: 9.11s\tremaining: 18.4s\n",
      "331:\tlearn: 0.2626498\ttotal: 9.14s\tremaining: 18.4s\n",
      "332:\tlearn: 0.2625201\ttotal: 9.16s\tremaining: 18.4s\n",
      "333:\tlearn: 0.2623768\ttotal: 9.19s\tremaining: 18.3s\n",
      "334:\tlearn: 0.2622590\ttotal: 9.22s\tremaining: 18.3s\n",
      "335:\tlearn: 0.2621313\ttotal: 9.24s\tremaining: 18.3s\n",
      "336:\tlearn: 0.2620139\ttotal: 9.27s\tremaining: 18.2s\n",
      "337:\tlearn: 0.2618845\ttotal: 9.3s\tremaining: 18.2s\n",
      "338:\tlearn: 0.2617580\ttotal: 9.33s\tremaining: 18.2s\n",
      "339:\tlearn: 0.2616069\ttotal: 9.35s\tremaining: 18.2s\n",
      "340:\tlearn: 0.2614836\ttotal: 9.38s\tremaining: 18.1s\n",
      "341:\tlearn: 0.2613814\ttotal: 9.41s\tremaining: 18.1s\n",
      "342:\tlearn: 0.2612576\ttotal: 9.44s\tremaining: 18.1s\n",
      "343:\tlearn: 0.2611636\ttotal: 9.46s\tremaining: 18.1s\n",
      "344:\tlearn: 0.2610368\ttotal: 9.49s\tremaining: 18s\n",
      "345:\tlearn: 0.2609104\ttotal: 9.52s\tremaining: 18s\n",
      "346:\tlearn: 0.2607907\ttotal: 9.55s\tremaining: 18s\n",
      "347:\tlearn: 0.2606381\ttotal: 9.58s\tremaining: 17.9s\n",
      "348:\tlearn: 0.2605187\ttotal: 9.61s\tremaining: 17.9s\n",
      "349:\tlearn: 0.2603692\ttotal: 9.63s\tremaining: 17.9s\n",
      "350:\tlearn: 0.2602411\ttotal: 9.66s\tremaining: 17.9s\n",
      "351:\tlearn: 0.2601273\ttotal: 9.69s\tremaining: 17.8s\n",
      "352:\tlearn: 0.2599443\ttotal: 9.71s\tremaining: 17.8s\n",
      "353:\tlearn: 0.2597656\ttotal: 9.74s\tremaining: 17.8s\n",
      "354:\tlearn: 0.2596665\ttotal: 9.77s\tremaining: 17.7s\n",
      "355:\tlearn: 0.2595458\ttotal: 9.8s\tremaining: 17.7s\n",
      "356:\tlearn: 0.2594068\ttotal: 9.83s\tremaining: 17.7s\n",
      "357:\tlearn: 0.2592818\ttotal: 9.86s\tremaining: 17.7s\n",
      "358:\tlearn: 0.2591285\ttotal: 9.88s\tremaining: 17.6s\n",
      "359:\tlearn: 0.2589826\ttotal: 9.91s\tremaining: 17.6s\n",
      "360:\tlearn: 0.2588763\ttotal: 9.94s\tremaining: 17.6s\n",
      "361:\tlearn: 0.2587581\ttotal: 9.97s\tremaining: 17.6s\n",
      "362:\tlearn: 0.2586544\ttotal: 10s\tremaining: 17.5s\n",
      "363:\tlearn: 0.2585287\ttotal: 10s\tremaining: 17.5s\n",
      "364:\tlearn: 0.2584090\ttotal: 10s\tremaining: 17.5s\n",
      "365:\tlearn: 0.2583083\ttotal: 10.1s\tremaining: 17.5s\n",
      "366:\tlearn: 0.2581526\ttotal: 10.1s\tremaining: 17.4s\n",
      "367:\tlearn: 0.2579864\ttotal: 10.1s\tremaining: 17.4s\n",
      "368:\tlearn: 0.2578746\ttotal: 10.2s\tremaining: 17.4s\n",
      "369:\tlearn: 0.2577591\ttotal: 10.2s\tremaining: 17.3s\n",
      "370:\tlearn: 0.2576023\ttotal: 10.2s\tremaining: 17.3s\n",
      "371:\tlearn: 0.2574750\ttotal: 10.2s\tremaining: 17.3s\n",
      "372:\tlearn: 0.2573495\ttotal: 10.3s\tremaining: 17.3s\n",
      "373:\tlearn: 0.2572645\ttotal: 10.3s\tremaining: 17.2s\n",
      "374:\tlearn: 0.2571446\ttotal: 10.3s\tremaining: 17.2s\n",
      "375:\tlearn: 0.2570112\ttotal: 10.4s\tremaining: 17.2s\n",
      "376:\tlearn: 0.2569002\ttotal: 10.4s\tremaining: 17.2s\n",
      "377:\tlearn: 0.2567953\ttotal: 10.4s\tremaining: 17.1s\n",
      "378:\tlearn: 0.2566738\ttotal: 10.4s\tremaining: 17.1s\n",
      "379:\tlearn: 0.2565581\ttotal: 10.5s\tremaining: 17.1s\n",
      "380:\tlearn: 0.2564397\ttotal: 10.5s\tremaining: 17.1s\n",
      "381:\tlearn: 0.2562930\ttotal: 10.5s\tremaining: 17s\n",
      "382:\tlearn: 0.2561593\ttotal: 10.6s\tremaining: 17s\n",
      "383:\tlearn: 0.2560305\ttotal: 10.6s\tremaining: 17s\n",
      "384:\tlearn: 0.2558953\ttotal: 10.6s\tremaining: 16.9s\n",
      "385:\tlearn: 0.2557968\ttotal: 10.6s\tremaining: 16.9s\n",
      "386:\tlearn: 0.2556203\ttotal: 10.7s\tremaining: 16.9s\n",
      "387:\tlearn: 0.2555026\ttotal: 10.7s\tremaining: 16.9s\n",
      "388:\tlearn: 0.2553603\ttotal: 10.7s\tremaining: 16.8s\n",
      "389:\tlearn: 0.2552000\ttotal: 10.7s\tremaining: 16.8s\n",
      "390:\tlearn: 0.2550990\ttotal: 10.8s\tremaining: 16.8s\n",
      "391:\tlearn: 0.2549793\ttotal: 10.8s\tremaining: 16.7s\n",
      "392:\tlearn: 0.2548777\ttotal: 10.8s\tremaining: 16.7s\n",
      "393:\tlearn: 0.2547491\ttotal: 10.8s\tremaining: 16.7s\n",
      "394:\tlearn: 0.2546003\ttotal: 10.9s\tremaining: 16.7s\n",
      "395:\tlearn: 0.2545043\ttotal: 10.9s\tremaining: 16.6s\n",
      "396:\tlearn: 0.2543951\ttotal: 10.9s\tremaining: 16.6s\n",
      "397:\tlearn: 0.2542856\ttotal: 11s\tremaining: 16.6s\n",
      "398:\tlearn: 0.2541900\ttotal: 11s\tremaining: 16.6s\n",
      "399:\tlearn: 0.2540802\ttotal: 11s\tremaining: 16.5s\n",
      "400:\tlearn: 0.2539694\ttotal: 11s\tremaining: 16.5s\n",
      "401:\tlearn: 0.2537531\ttotal: 11.1s\tremaining: 16.5s\n",
      "402:\tlearn: 0.2536202\ttotal: 11.1s\tremaining: 16.4s\n",
      "403:\tlearn: 0.2535160\ttotal: 11.1s\tremaining: 16.4s\n",
      "404:\tlearn: 0.2534061\ttotal: 11.2s\tremaining: 16.4s\n",
      "405:\tlearn: 0.2532997\ttotal: 11.2s\tremaining: 16.4s\n",
      "406:\tlearn: 0.2531164\ttotal: 11.2s\tremaining: 16.3s\n",
      "407:\tlearn: 0.2530247\ttotal: 11.2s\tremaining: 16.3s\n",
      "408:\tlearn: 0.2529256\ttotal: 11.3s\tremaining: 16.3s\n",
      "409:\tlearn: 0.2528021\ttotal: 11.3s\tremaining: 16.2s\n",
      "410:\tlearn: 0.2526558\ttotal: 11.3s\tremaining: 16.2s\n",
      "411:\tlearn: 0.2525510\ttotal: 11.4s\tremaining: 16.2s\n",
      "412:\tlearn: 0.2524564\ttotal: 11.4s\tremaining: 16.2s\n",
      "413:\tlearn: 0.2523506\ttotal: 11.4s\tremaining: 16.2s\n",
      "414:\tlearn: 0.2522540\ttotal: 11.4s\tremaining: 16.1s\n",
      "415:\tlearn: 0.2521406\ttotal: 11.5s\tremaining: 16.1s\n",
      "416:\tlearn: 0.2520345\ttotal: 11.5s\tremaining: 16.1s\n",
      "417:\tlearn: 0.2519255\ttotal: 11.5s\tremaining: 16.1s\n",
      "418:\tlearn: 0.2517600\ttotal: 11.6s\tremaining: 16s\n",
      "419:\tlearn: 0.2516592\ttotal: 11.6s\tremaining: 16s\n",
      "420:\tlearn: 0.2515756\ttotal: 11.6s\tremaining: 16s\n",
      "421:\tlearn: 0.2514922\ttotal: 11.6s\tremaining: 15.9s\n",
      "422:\tlearn: 0.2514029\ttotal: 11.7s\tremaining: 15.9s\n",
      "423:\tlearn: 0.2512908\ttotal: 11.7s\tremaining: 15.9s\n",
      "424:\tlearn: 0.2511991\ttotal: 11.7s\tremaining: 15.9s\n",
      "425:\tlearn: 0.2510630\ttotal: 11.8s\tremaining: 15.8s\n",
      "426:\tlearn: 0.2509510\ttotal: 11.8s\tremaining: 15.8s\n",
      "427:\tlearn: 0.2508822\ttotal: 11.8s\tremaining: 15.8s\n",
      "428:\tlearn: 0.2507892\ttotal: 11.8s\tremaining: 15.7s\n",
      "429:\tlearn: 0.2506818\ttotal: 11.9s\tremaining: 15.7s\n",
      "430:\tlearn: 0.2505034\ttotal: 11.9s\tremaining: 15.7s\n",
      "431:\tlearn: 0.2503314\ttotal: 11.9s\tremaining: 15.7s\n",
      "432:\tlearn: 0.2501926\ttotal: 11.9s\tremaining: 15.6s\n",
      "433:\tlearn: 0.2501147\ttotal: 12s\tremaining: 15.6s\n",
      "434:\tlearn: 0.2500341\ttotal: 12s\tremaining: 15.6s\n",
      "435:\tlearn: 0.2498853\ttotal: 12s\tremaining: 15.5s\n",
      "436:\tlearn: 0.2497785\ttotal: 12s\tremaining: 15.5s\n",
      "437:\tlearn: 0.2496990\ttotal: 12.1s\tremaining: 15.5s\n",
      "438:\tlearn: 0.2495500\ttotal: 12.1s\tremaining: 15.4s\n",
      "439:\tlearn: 0.2494188\ttotal: 12.1s\tremaining: 15.4s\n",
      "440:\tlearn: 0.2492636\ttotal: 12.1s\tremaining: 15.4s\n",
      "441:\tlearn: 0.2491751\ttotal: 12.2s\tremaining: 15.4s\n",
      "442:\tlearn: 0.2490751\ttotal: 12.2s\tremaining: 15.3s\n",
      "443:\tlearn: 0.2489585\ttotal: 12.2s\tremaining: 15.3s\n",
      "444:\tlearn: 0.2488336\ttotal: 12.2s\tremaining: 15.3s\n",
      "445:\tlearn: 0.2487342\ttotal: 12.3s\tremaining: 15.2s\n",
      "446:\tlearn: 0.2485466\ttotal: 12.3s\tremaining: 15.2s\n",
      "447:\tlearn: 0.2484648\ttotal: 12.3s\tremaining: 15.2s\n",
      "448:\tlearn: 0.2482836\ttotal: 12.3s\tremaining: 15.2s\n",
      "449:\tlearn: 0.2481630\ttotal: 12.4s\tremaining: 15.1s\n",
      "450:\tlearn: 0.2480843\ttotal: 12.4s\tremaining: 15.1s\n",
      "451:\tlearn: 0.2479131\ttotal: 12.4s\tremaining: 15.1s\n",
      "452:\tlearn: 0.2478309\ttotal: 12.5s\tremaining: 15s\n",
      "453:\tlearn: 0.2476797\ttotal: 12.5s\tremaining: 15s\n",
      "454:\tlearn: 0.2475006\ttotal: 12.5s\tremaining: 15s\n",
      "455:\tlearn: 0.2474099\ttotal: 12.5s\tremaining: 15s\n",
      "456:\tlearn: 0.2473204\ttotal: 12.6s\tremaining: 14.9s\n",
      "457:\tlearn: 0.2472188\ttotal: 12.6s\tremaining: 14.9s\n",
      "458:\tlearn: 0.2471392\ttotal: 12.6s\tremaining: 14.9s\n",
      "459:\tlearn: 0.2470681\ttotal: 12.6s\tremaining: 14.8s\n",
      "460:\tlearn: 0.2469198\ttotal: 12.7s\tremaining: 14.8s\n",
      "461:\tlearn: 0.2468460\ttotal: 12.7s\tremaining: 14.8s\n",
      "462:\tlearn: 0.2467334\ttotal: 12.7s\tremaining: 14.7s\n",
      "463:\tlearn: 0.2466229\ttotal: 12.7s\tremaining: 14.7s\n",
      "464:\tlearn: 0.2464751\ttotal: 12.8s\tremaining: 14.7s\n",
      "465:\tlearn: 0.2463726\ttotal: 12.8s\tremaining: 14.7s\n",
      "466:\tlearn: 0.2462899\ttotal: 12.8s\tremaining: 14.6s\n",
      "467:\tlearn: 0.2462058\ttotal: 12.8s\tremaining: 14.6s\n",
      "468:\tlearn: 0.2461019\ttotal: 12.9s\tremaining: 14.6s\n",
      "469:\tlearn: 0.2460235\ttotal: 12.9s\tremaining: 14.5s\n",
      "470:\tlearn: 0.2459316\ttotal: 12.9s\tremaining: 14.5s\n",
      "471:\tlearn: 0.2457863\ttotal: 12.9s\tremaining: 14.5s\n",
      "472:\tlearn: 0.2456260\ttotal: 13s\tremaining: 14.5s\n",
      "473:\tlearn: 0.2455335\ttotal: 13s\tremaining: 14.4s\n",
      "474:\tlearn: 0.2453968\ttotal: 13s\tremaining: 14.4s\n",
      "475:\tlearn: 0.2453114\ttotal: 13.1s\tremaining: 14.4s\n",
      "476:\tlearn: 0.2452354\ttotal: 13.1s\tremaining: 14.3s\n",
      "477:\tlearn: 0.2451639\ttotal: 13.1s\tremaining: 14.3s\n",
      "478:\tlearn: 0.2450208\ttotal: 13.1s\tremaining: 14.3s\n",
      "479:\tlearn: 0.2449519\ttotal: 13.2s\tremaining: 14.3s\n",
      "480:\tlearn: 0.2448246\ttotal: 13.2s\tremaining: 14.2s\n",
      "481:\tlearn: 0.2447433\ttotal: 13.2s\tremaining: 14.2s\n",
      "482:\tlearn: 0.2445726\ttotal: 13.2s\tremaining: 14.2s\n",
      "483:\tlearn: 0.2444553\ttotal: 13.3s\tremaining: 14.1s\n",
      "484:\tlearn: 0.2442985\ttotal: 13.3s\tremaining: 14.1s\n",
      "485:\tlearn: 0.2441775\ttotal: 13.3s\tremaining: 14.1s\n",
      "486:\tlearn: 0.2440500\ttotal: 13.3s\tremaining: 14.1s\n",
      "487:\tlearn: 0.2439813\ttotal: 13.4s\tremaining: 14s\n",
      "488:\tlearn: 0.2438312\ttotal: 13.4s\tremaining: 14s\n",
      "489:\tlearn: 0.2436536\ttotal: 13.4s\tremaining: 14s\n",
      "490:\tlearn: 0.2435202\ttotal: 13.4s\tremaining: 13.9s\n",
      "491:\tlearn: 0.2434471\ttotal: 13.5s\tremaining: 13.9s\n",
      "492:\tlearn: 0.2433697\ttotal: 13.5s\tremaining: 13.9s\n",
      "493:\tlearn: 0.2432982\ttotal: 13.5s\tremaining: 13.9s\n",
      "494:\tlearn: 0.2432381\ttotal: 13.6s\tremaining: 13.8s\n",
      "495:\tlearn: 0.2431325\ttotal: 13.6s\tremaining: 13.8s\n",
      "496:\tlearn: 0.2430028\ttotal: 13.6s\tremaining: 13.8s\n",
      "497:\tlearn: 0.2428944\ttotal: 13.6s\tremaining: 13.7s\n",
      "498:\tlearn: 0.2428190\ttotal: 13.7s\tremaining: 13.7s\n",
      "499:\tlearn: 0.2426226\ttotal: 13.7s\tremaining: 13.7s\n",
      "500:\tlearn: 0.2425479\ttotal: 13.7s\tremaining: 13.7s\n",
      "501:\tlearn: 0.2424536\ttotal: 13.7s\tremaining: 13.6s\n",
      "502:\tlearn: 0.2423860\ttotal: 13.8s\tremaining: 13.6s\n",
      "503:\tlearn: 0.2422321\ttotal: 13.8s\tremaining: 13.6s\n",
      "504:\tlearn: 0.2421373\ttotal: 13.8s\tremaining: 13.5s\n",
      "505:\tlearn: 0.2419729\ttotal: 13.8s\tremaining: 13.5s\n",
      "506:\tlearn: 0.2418189\ttotal: 13.9s\tremaining: 13.5s\n",
      "507:\tlearn: 0.2416775\ttotal: 13.9s\tremaining: 13.5s\n",
      "508:\tlearn: 0.2415111\ttotal: 13.9s\tremaining: 13.4s\n",
      "509:\tlearn: 0.2414401\ttotal: 13.9s\tremaining: 13.4s\n",
      "510:\tlearn: 0.2413668\ttotal: 14s\tremaining: 13.4s\n",
      "511:\tlearn: 0.2412986\ttotal: 14s\tremaining: 13.3s\n",
      "512:\tlearn: 0.2412279\ttotal: 14s\tremaining: 13.3s\n",
      "513:\tlearn: 0.2411457\ttotal: 14.1s\tremaining: 13.3s\n",
      "514:\tlearn: 0.2409765\ttotal: 14.1s\tremaining: 13.3s\n",
      "515:\tlearn: 0.2408910\ttotal: 14.1s\tremaining: 13.2s\n",
      "516:\tlearn: 0.2407345\ttotal: 14.1s\tremaining: 13.2s\n",
      "517:\tlearn: 0.2406672\ttotal: 14.2s\tremaining: 13.2s\n",
      "518:\tlearn: 0.2406046\ttotal: 14.2s\tremaining: 13.1s\n",
      "519:\tlearn: 0.2405396\ttotal: 14.2s\tremaining: 13.1s\n",
      "520:\tlearn: 0.2404170\ttotal: 14.2s\tremaining: 13.1s\n",
      "521:\tlearn: 0.2403192\ttotal: 14.3s\tremaining: 13.1s\n",
      "522:\tlearn: 0.2401766\ttotal: 14.3s\tremaining: 13s\n",
      "523:\tlearn: 0.2401044\ttotal: 14.3s\tremaining: 13s\n",
      "524:\tlearn: 0.2400095\ttotal: 14.3s\tremaining: 13s\n",
      "525:\tlearn: 0.2398735\ttotal: 14.4s\tremaining: 12.9s\n",
      "526:\tlearn: 0.2397481\ttotal: 14.4s\tremaining: 12.9s\n",
      "527:\tlearn: 0.2395843\ttotal: 14.4s\tremaining: 12.9s\n",
      "528:\tlearn: 0.2395125\ttotal: 14.4s\tremaining: 12.9s\n",
      "529:\tlearn: 0.2393482\ttotal: 14.5s\tremaining: 12.8s\n",
      "530:\tlearn: 0.2392850\ttotal: 14.5s\tremaining: 12.8s\n",
      "531:\tlearn: 0.2391400\ttotal: 14.5s\tremaining: 12.8s\n",
      "532:\tlearn: 0.2389825\ttotal: 14.5s\tremaining: 12.7s\n",
      "533:\tlearn: 0.2389064\ttotal: 14.6s\tremaining: 12.7s\n",
      "534:\tlearn: 0.2387867\ttotal: 14.6s\tremaining: 12.7s\n",
      "535:\tlearn: 0.2386292\ttotal: 14.6s\tremaining: 12.7s\n",
      "536:\tlearn: 0.2384820\ttotal: 14.7s\tremaining: 12.6s\n",
      "537:\tlearn: 0.2383270\ttotal: 14.7s\tremaining: 12.6s\n",
      "538:\tlearn: 0.2382022\ttotal: 14.7s\tremaining: 12.6s\n",
      "539:\tlearn: 0.2381103\ttotal: 14.7s\tremaining: 12.6s\n",
      "540:\tlearn: 0.2380406\ttotal: 14.8s\tremaining: 12.5s\n",
      "541:\tlearn: 0.2379742\ttotal: 14.8s\tremaining: 12.5s\n",
      "542:\tlearn: 0.2378935\ttotal: 14.8s\tremaining: 12.5s\n",
      "543:\tlearn: 0.2377702\ttotal: 14.8s\tremaining: 12.4s\n",
      "544:\tlearn: 0.2377081\ttotal: 14.9s\tremaining: 12.4s\n",
      "545:\tlearn: 0.2376506\ttotal: 14.9s\tremaining: 12.4s\n",
      "546:\tlearn: 0.2375546\ttotal: 14.9s\tremaining: 12.4s\n",
      "547:\tlearn: 0.2374074\ttotal: 15s\tremaining: 12.3s\n",
      "548:\tlearn: 0.2373281\ttotal: 15s\tremaining: 12.3s\n",
      "549:\tlearn: 0.2372664\ttotal: 15s\tremaining: 12.3s\n",
      "550:\tlearn: 0.2372094\ttotal: 15s\tremaining: 12.2s\n",
      "551:\tlearn: 0.2371163\ttotal: 15.1s\tremaining: 12.2s\n",
      "552:\tlearn: 0.2370227\ttotal: 15.1s\tremaining: 12.2s\n",
      "553:\tlearn: 0.2369577\ttotal: 15.1s\tremaining: 12.2s\n",
      "554:\tlearn: 0.2368032\ttotal: 15.2s\tremaining: 12.1s\n",
      "555:\tlearn: 0.2367105\ttotal: 15.2s\tremaining: 12.1s\n",
      "556:\tlearn: 0.2366453\ttotal: 15.2s\tremaining: 12.1s\n",
      "557:\tlearn: 0.2365173\ttotal: 15.2s\tremaining: 12.1s\n",
      "558:\tlearn: 0.2363888\ttotal: 15.3s\tremaining: 12s\n",
      "559:\tlearn: 0.2362529\ttotal: 15.3s\tremaining: 12s\n",
      "560:\tlearn: 0.2360969\ttotal: 15.3s\tremaining: 12s\n",
      "561:\tlearn: 0.2359569\ttotal: 15.3s\tremaining: 11.9s\n",
      "562:\tlearn: 0.2358418\ttotal: 15.4s\tremaining: 11.9s\n",
      "563:\tlearn: 0.2357604\ttotal: 15.4s\tremaining: 11.9s\n",
      "564:\tlearn: 0.2356514\ttotal: 15.4s\tremaining: 11.9s\n",
      "565:\tlearn: 0.2355877\ttotal: 15.4s\tremaining: 11.8s\n",
      "566:\tlearn: 0.2355273\ttotal: 15.5s\tremaining: 11.8s\n",
      "567:\tlearn: 0.2354520\ttotal: 15.5s\tremaining: 11.8s\n",
      "568:\tlearn: 0.2353967\ttotal: 15.5s\tremaining: 11.8s\n",
      "569:\tlearn: 0.2352432\ttotal: 15.6s\tremaining: 11.7s\n",
      "570:\tlearn: 0.2351496\ttotal: 15.6s\tremaining: 11.7s\n",
      "571:\tlearn: 0.2350684\ttotal: 15.6s\tremaining: 11.7s\n",
      "572:\tlearn: 0.2349217\ttotal: 15.6s\tremaining: 11.6s\n",
      "573:\tlearn: 0.2348441\ttotal: 15.7s\tremaining: 11.6s\n",
      "574:\tlearn: 0.2347029\ttotal: 15.7s\tremaining: 11.6s\n",
      "575:\tlearn: 0.2346534\ttotal: 15.7s\tremaining: 11.6s\n",
      "576:\tlearn: 0.2345133\ttotal: 15.7s\tremaining: 11.5s\n",
      "577:\tlearn: 0.2344493\ttotal: 15.8s\tremaining: 11.5s\n",
      "578:\tlearn: 0.2343155\ttotal: 15.8s\tremaining: 11.5s\n",
      "579:\tlearn: 0.2342029\ttotal: 15.8s\tremaining: 11.4s\n",
      "580:\tlearn: 0.2340607\ttotal: 15.8s\tremaining: 11.4s\n",
      "581:\tlearn: 0.2339984\ttotal: 15.9s\tremaining: 11.4s\n",
      "582:\tlearn: 0.2339010\ttotal: 15.9s\tremaining: 11.4s\n",
      "583:\tlearn: 0.2337281\ttotal: 15.9s\tremaining: 11.3s\n",
      "584:\tlearn: 0.2336055\ttotal: 15.9s\tremaining: 11.3s\n",
      "585:\tlearn: 0.2334967\ttotal: 16s\tremaining: 11.3s\n",
      "586:\tlearn: 0.2334170\ttotal: 16s\tremaining: 11.3s\n",
      "587:\tlearn: 0.2333218\ttotal: 16s\tremaining: 11.2s\n",
      "588:\tlearn: 0.2332000\ttotal: 16s\tremaining: 11.2s\n",
      "589:\tlearn: 0.2330944\ttotal: 16.1s\tremaining: 11.2s\n",
      "590:\tlearn: 0.2329355\ttotal: 16.1s\tremaining: 11.1s\n",
      "591:\tlearn: 0.2328813\ttotal: 16.1s\tremaining: 11.1s\n",
      "592:\tlearn: 0.2328178\ttotal: 16.2s\tremaining: 11.1s\n",
      "593:\tlearn: 0.2327525\ttotal: 16.2s\tremaining: 11.1s\n",
      "594:\tlearn: 0.2326974\ttotal: 16.2s\tremaining: 11s\n",
      "595:\tlearn: 0.2326340\ttotal: 16.2s\tremaining: 11s\n",
      "596:\tlearn: 0.2325175\ttotal: 16.3s\tremaining: 11s\n",
      "597:\tlearn: 0.2324410\ttotal: 16.3s\tremaining: 10.9s\n",
      "598:\tlearn: 0.2323828\ttotal: 16.3s\tremaining: 10.9s\n",
      "599:\tlearn: 0.2323030\ttotal: 16.3s\tremaining: 10.9s\n",
      "600:\tlearn: 0.2321613\ttotal: 16.4s\tremaining: 10.9s\n",
      "601:\tlearn: 0.2320199\ttotal: 16.4s\tremaining: 10.8s\n",
      "602:\tlearn: 0.2319244\ttotal: 16.4s\tremaining: 10.8s\n",
      "603:\tlearn: 0.2318266\ttotal: 16.4s\tremaining: 10.8s\n",
      "604:\tlearn: 0.2317602\ttotal: 16.5s\tremaining: 10.8s\n",
      "605:\tlearn: 0.2316287\ttotal: 16.5s\tremaining: 10.7s\n",
      "606:\tlearn: 0.2315121\ttotal: 16.5s\tremaining: 10.7s\n",
      "607:\tlearn: 0.2313995\ttotal: 16.6s\tremaining: 10.7s\n",
      "608:\tlearn: 0.2312448\ttotal: 16.6s\tremaining: 10.6s\n",
      "609:\tlearn: 0.2311069\ttotal: 16.6s\tremaining: 10.6s\n",
      "610:\tlearn: 0.2309738\ttotal: 16.6s\tremaining: 10.6s\n",
      "611:\tlearn: 0.2308675\ttotal: 16.7s\tremaining: 10.6s\n",
      "612:\tlearn: 0.2308064\ttotal: 16.7s\tremaining: 10.5s\n",
      "613:\tlearn: 0.2306810\ttotal: 16.7s\tremaining: 10.5s\n",
      "614:\tlearn: 0.2305707\ttotal: 16.7s\tremaining: 10.5s\n",
      "615:\tlearn: 0.2304671\ttotal: 16.8s\tremaining: 10.4s\n",
      "616:\tlearn: 0.2303618\ttotal: 16.8s\tremaining: 10.4s\n",
      "617:\tlearn: 0.2302866\ttotal: 16.8s\tremaining: 10.4s\n",
      "618:\tlearn: 0.2301449\ttotal: 16.8s\tremaining: 10.4s\n",
      "619:\tlearn: 0.2300882\ttotal: 16.9s\tremaining: 10.3s\n",
      "620:\tlearn: 0.2299921\ttotal: 16.9s\tremaining: 10.3s\n",
      "621:\tlearn: 0.2298462\ttotal: 16.9s\tremaining: 10.3s\n",
      "622:\tlearn: 0.2297964\ttotal: 16.9s\tremaining: 10.3s\n",
      "623:\tlearn: 0.2296593\ttotal: 17s\tremaining: 10.2s\n",
      "624:\tlearn: 0.2295261\ttotal: 17s\tremaining: 10.2s\n",
      "625:\tlearn: 0.2294656\ttotal: 17s\tremaining: 10.2s\n",
      "626:\tlearn: 0.2293941\ttotal: 17s\tremaining: 10.1s\n",
      "627:\tlearn: 0.2292895\ttotal: 17.1s\tremaining: 10.1s\n",
      "628:\tlearn: 0.2292289\ttotal: 17.1s\tremaining: 10.1s\n",
      "629:\tlearn: 0.2291216\ttotal: 17.1s\tremaining: 10.1s\n",
      "630:\tlearn: 0.2289958\ttotal: 17.2s\tremaining: 10s\n",
      "631:\tlearn: 0.2289363\ttotal: 17.2s\tremaining: 10s\n",
      "632:\tlearn: 0.2288473\ttotal: 17.2s\tremaining: 9.98s\n",
      "633:\tlearn: 0.2287585\ttotal: 17.2s\tremaining: 9.95s\n",
      "634:\tlearn: 0.2286619\ttotal: 17.3s\tremaining: 9.93s\n",
      "635:\tlearn: 0.2285229\ttotal: 17.3s\tremaining: 9.9s\n",
      "636:\tlearn: 0.2284038\ttotal: 17.3s\tremaining: 9.87s\n",
      "637:\tlearn: 0.2282810\ttotal: 17.3s\tremaining: 9.84s\n",
      "638:\tlearn: 0.2281720\ttotal: 17.4s\tremaining: 9.81s\n",
      "639:\tlearn: 0.2281195\ttotal: 17.4s\tremaining: 9.79s\n",
      "640:\tlearn: 0.2279997\ttotal: 17.4s\tremaining: 9.76s\n",
      "641:\tlearn: 0.2279446\ttotal: 17.4s\tremaining: 9.73s\n",
      "642:\tlearn: 0.2278157\ttotal: 17.5s\tremaining: 9.7s\n",
      "643:\tlearn: 0.2277125\ttotal: 17.5s\tremaining: 9.68s\n",
      "644:\tlearn: 0.2275631\ttotal: 17.5s\tremaining: 9.65s\n",
      "645:\tlearn: 0.2274423\ttotal: 17.6s\tremaining: 9.63s\n",
      "646:\tlearn: 0.2273798\ttotal: 17.6s\tremaining: 9.6s\n",
      "647:\tlearn: 0.2272580\ttotal: 17.6s\tremaining: 9.57s\n",
      "648:\tlearn: 0.2271766\ttotal: 17.6s\tremaining: 9.54s\n",
      "649:\tlearn: 0.2271057\ttotal: 17.7s\tremaining: 9.52s\n",
      "650:\tlearn: 0.2269717\ttotal: 17.7s\tremaining: 9.49s\n",
      "651:\tlearn: 0.2268681\ttotal: 17.7s\tremaining: 9.46s\n",
      "652:\tlearn: 0.2267603\ttotal: 17.8s\tremaining: 9.44s\n",
      "653:\tlearn: 0.2266402\ttotal: 17.8s\tremaining: 9.41s\n",
      "654:\tlearn: 0.2265855\ttotal: 17.8s\tremaining: 9.38s\n",
      "655:\tlearn: 0.2265299\ttotal: 17.8s\tremaining: 9.35s\n",
      "656:\tlearn: 0.2264041\ttotal: 17.9s\tremaining: 9.32s\n",
      "657:\tlearn: 0.2262727\ttotal: 17.9s\tremaining: 9.29s\n",
      "658:\tlearn: 0.2261493\ttotal: 17.9s\tremaining: 9.27s\n",
      "659:\tlearn: 0.2260389\ttotal: 17.9s\tremaining: 9.24s\n",
      "660:\tlearn: 0.2259802\ttotal: 18s\tremaining: 9.22s\n",
      "661:\tlearn: 0.2259249\ttotal: 18s\tremaining: 9.19s\n",
      "662:\tlearn: 0.2258701\ttotal: 18s\tremaining: 9.17s\n",
      "663:\tlearn: 0.2257430\ttotal: 18.1s\tremaining: 9.14s\n",
      "664:\tlearn: 0.2256514\ttotal: 18.1s\tremaining: 9.12s\n",
      "665:\tlearn: 0.2255361\ttotal: 18.1s\tremaining: 9.09s\n",
      "666:\tlearn: 0.2254635\ttotal: 18.2s\tremaining: 9.07s\n",
      "667:\tlearn: 0.2254046\ttotal: 18.2s\tremaining: 9.04s\n",
      "668:\tlearn: 0.2252679\ttotal: 18.2s\tremaining: 9.01s\n",
      "669:\tlearn: 0.2251627\ttotal: 18.2s\tremaining: 8.98s\n",
      "670:\tlearn: 0.2251055\ttotal: 18.3s\tremaining: 8.96s\n",
      "671:\tlearn: 0.2249874\ttotal: 18.3s\tremaining: 8.93s\n",
      "672:\tlearn: 0.2248947\ttotal: 18.3s\tremaining: 8.9s\n",
      "673:\tlearn: 0.2247956\ttotal: 18.4s\tremaining: 8.88s\n",
      "674:\tlearn: 0.2247390\ttotal: 18.4s\tremaining: 8.86s\n",
      "675:\tlearn: 0.2246854\ttotal: 18.4s\tremaining: 8.83s\n",
      "676:\tlearn: 0.2245726\ttotal: 18.5s\tremaining: 8.81s\n",
      "677:\tlearn: 0.2244811\ttotal: 18.5s\tremaining: 8.78s\n",
      "678:\tlearn: 0.2243919\ttotal: 18.5s\tremaining: 8.76s\n",
      "679:\tlearn: 0.2243446\ttotal: 18.6s\tremaining: 8.73s\n",
      "680:\tlearn: 0.2242090\ttotal: 18.6s\tremaining: 8.71s\n",
      "681:\tlearn: 0.2241521\ttotal: 18.6s\tremaining: 8.69s\n",
      "682:\tlearn: 0.2240725\ttotal: 18.7s\tremaining: 8.67s\n",
      "683:\tlearn: 0.2239512\ttotal: 18.7s\tremaining: 8.65s\n",
      "684:\tlearn: 0.2238260\ttotal: 18.8s\tremaining: 8.63s\n",
      "685:\tlearn: 0.2237169\ttotal: 18.8s\tremaining: 8.6s\n",
      "686:\tlearn: 0.2236248\ttotal: 18.8s\tremaining: 8.58s\n",
      "687:\tlearn: 0.2235118\ttotal: 18.9s\tremaining: 8.55s\n",
      "688:\tlearn: 0.2234575\ttotal: 18.9s\tremaining: 8.53s\n",
      "689:\tlearn: 0.2233530\ttotal: 18.9s\tremaining: 8.5s\n",
      "690:\tlearn: 0.2233051\ttotal: 19s\tremaining: 8.48s\n",
      "691:\tlearn: 0.2231639\ttotal: 19s\tremaining: 8.45s\n",
      "692:\tlearn: 0.2230585\ttotal: 19s\tremaining: 8.42s\n",
      "693:\tlearn: 0.2229424\ttotal: 19.1s\tremaining: 8.4s\n",
      "694:\tlearn: 0.2228563\ttotal: 19.1s\tremaining: 8.37s\n",
      "695:\tlearn: 0.2227328\ttotal: 19.1s\tremaining: 8.35s\n",
      "696:\tlearn: 0.2226107\ttotal: 19.1s\tremaining: 8.32s\n",
      "697:\tlearn: 0.2224921\ttotal: 19.2s\tremaining: 8.29s\n",
      "698:\tlearn: 0.2223951\ttotal: 19.2s\tremaining: 8.26s\n",
      "699:\tlearn: 0.2222902\ttotal: 19.2s\tremaining: 8.24s\n",
      "700:\tlearn: 0.2222253\ttotal: 19.2s\tremaining: 8.21s\n",
      "701:\tlearn: 0.2221049\ttotal: 19.3s\tremaining: 8.18s\n",
      "702:\tlearn: 0.2220295\ttotal: 19.3s\tremaining: 8.15s\n",
      "703:\tlearn: 0.2219742\ttotal: 19.3s\tremaining: 8.13s\n",
      "704:\tlearn: 0.2218986\ttotal: 19.4s\tremaining: 8.1s\n",
      "705:\tlearn: 0.2217785\ttotal: 19.4s\tremaining: 8.07s\n",
      "706:\tlearn: 0.2216626\ttotal: 19.4s\tremaining: 8.04s\n",
      "707:\tlearn: 0.2215406\ttotal: 19.4s\tremaining: 8.02s\n",
      "708:\tlearn: 0.2214680\ttotal: 19.5s\tremaining: 7.99s\n",
      "709:\tlearn: 0.2213565\ttotal: 19.5s\tremaining: 7.96s\n",
      "710:\tlearn: 0.2213015\ttotal: 19.5s\tremaining: 7.94s\n",
      "711:\tlearn: 0.2212477\ttotal: 19.6s\tremaining: 7.91s\n",
      "712:\tlearn: 0.2211969\ttotal: 19.6s\tremaining: 7.88s\n",
      "713:\tlearn: 0.2211163\ttotal: 19.6s\tremaining: 7.85s\n",
      "714:\tlearn: 0.2210378\ttotal: 19.6s\tremaining: 7.82s\n",
      "715:\tlearn: 0.2209220\ttotal: 19.7s\tremaining: 7.79s\n",
      "716:\tlearn: 0.2207782\ttotal: 19.7s\tremaining: 7.77s\n",
      "717:\tlearn: 0.2206514\ttotal: 19.7s\tremaining: 7.74s\n",
      "718:\tlearn: 0.2205204\ttotal: 19.7s\tremaining: 7.71s\n",
      "719:\tlearn: 0.2204088\ttotal: 19.8s\tremaining: 7.69s\n",
      "720:\tlearn: 0.2203323\ttotal: 19.8s\tremaining: 7.66s\n",
      "721:\tlearn: 0.2201992\ttotal: 19.8s\tremaining: 7.63s\n",
      "722:\tlearn: 0.2200859\ttotal: 19.8s\tremaining: 7.6s\n",
      "723:\tlearn: 0.2199714\ttotal: 19.9s\tremaining: 7.57s\n",
      "724:\tlearn: 0.2199079\ttotal: 19.9s\tremaining: 7.55s\n",
      "725:\tlearn: 0.2198109\ttotal: 19.9s\tremaining: 7.52s\n",
      "726:\tlearn: 0.2196878\ttotal: 20s\tremaining: 7.49s\n",
      "727:\tlearn: 0.2195781\ttotal: 20s\tremaining: 7.46s\n",
      "728:\tlearn: 0.2195069\ttotal: 20s\tremaining: 7.44s\n",
      "729:\tlearn: 0.2194217\ttotal: 20s\tremaining: 7.41s\n",
      "730:\tlearn: 0.2193192\ttotal: 20.1s\tremaining: 7.38s\n",
      "731:\tlearn: 0.2192688\ttotal: 20.1s\tremaining: 7.35s\n",
      "732:\tlearn: 0.2192020\ttotal: 20.1s\tremaining: 7.33s\n",
      "733:\tlearn: 0.2191331\ttotal: 20.2s\tremaining: 7.3s\n",
      "734:\tlearn: 0.2190389\ttotal: 20.2s\tremaining: 7.28s\n",
      "735:\tlearn: 0.2188919\ttotal: 20.2s\tremaining: 7.25s\n",
      "736:\tlearn: 0.2188155\ttotal: 20.2s\tremaining: 7.22s\n",
      "737:\tlearn: 0.2187014\ttotal: 20.3s\tremaining: 7.19s\n",
      "738:\tlearn: 0.2185935\ttotal: 20.3s\tremaining: 7.16s\n",
      "739:\tlearn: 0.2185070\ttotal: 20.3s\tremaining: 7.14s\n",
      "740:\tlearn: 0.2184158\ttotal: 20.3s\tremaining: 7.11s\n",
      "741:\tlearn: 0.2183179\ttotal: 20.4s\tremaining: 7.08s\n",
      "742:\tlearn: 0.2182401\ttotal: 20.4s\tremaining: 7.06s\n",
      "743:\tlearn: 0.2180867\ttotal: 20.4s\tremaining: 7.03s\n",
      "744:\tlearn: 0.2179816\ttotal: 20.5s\tremaining: 7.01s\n",
      "745:\tlearn: 0.2178611\ttotal: 20.5s\tremaining: 6.98s\n",
      "746:\tlearn: 0.2177430\ttotal: 20.5s\tremaining: 6.96s\n",
      "747:\tlearn: 0.2176492\ttotal: 20.6s\tremaining: 6.93s\n",
      "748:\tlearn: 0.2175704\ttotal: 20.6s\tremaining: 6.91s\n",
      "749:\tlearn: 0.2174988\ttotal: 20.6s\tremaining: 6.88s\n",
      "750:\tlearn: 0.2174276\ttotal: 20.7s\tremaining: 6.85s\n",
      "751:\tlearn: 0.2173226\ttotal: 20.7s\tremaining: 6.83s\n",
      "752:\tlearn: 0.2171980\ttotal: 20.7s\tremaining: 6.8s\n",
      "753:\tlearn: 0.2170831\ttotal: 20.8s\tremaining: 6.77s\n",
      "754:\tlearn: 0.2169570\ttotal: 20.8s\tremaining: 6.75s\n",
      "755:\tlearn: 0.2168388\ttotal: 20.8s\tremaining: 6.72s\n",
      "756:\tlearn: 0.2167207\ttotal: 20.8s\tremaining: 6.69s\n",
      "757:\tlearn: 0.2166264\ttotal: 20.9s\tremaining: 6.66s\n",
      "758:\tlearn: 0.2165264\ttotal: 20.9s\tremaining: 6.64s\n",
      "759:\tlearn: 0.2164185\ttotal: 20.9s\tremaining: 6.61s\n",
      "760:\tlearn: 0.2163509\ttotal: 21s\tremaining: 6.58s\n",
      "761:\tlearn: 0.2163019\ttotal: 21s\tremaining: 6.56s\n",
      "762:\tlearn: 0.2162156\ttotal: 21s\tremaining: 6.53s\n",
      "763:\tlearn: 0.2160936\ttotal: 21.1s\tremaining: 6.51s\n",
      "764:\tlearn: 0.2159753\ttotal: 21.1s\tremaining: 6.48s\n",
      "765:\tlearn: 0.2158610\ttotal: 21.1s\tremaining: 6.46s\n",
      "766:\tlearn: 0.2158063\ttotal: 21.2s\tremaining: 6.43s\n",
      "767:\tlearn: 0.2157271\ttotal: 21.2s\tremaining: 6.4s\n",
      "768:\tlearn: 0.2156401\ttotal: 21.2s\tremaining: 6.37s\n",
      "769:\tlearn: 0.2155896\ttotal: 21.3s\tremaining: 6.35s\n",
      "770:\tlearn: 0.2155164\ttotal: 21.3s\tremaining: 6.32s\n",
      "771:\tlearn: 0.2154670\ttotal: 21.3s\tremaining: 6.29s\n",
      "772:\tlearn: 0.2154047\ttotal: 21.3s\tremaining: 6.27s\n",
      "773:\tlearn: 0.2153098\ttotal: 21.4s\tremaining: 6.24s\n",
      "774:\tlearn: 0.2152452\ttotal: 21.4s\tremaining: 6.21s\n",
      "775:\tlearn: 0.2151676\ttotal: 21.4s\tremaining: 6.19s\n",
      "776:\tlearn: 0.2150645\ttotal: 21.5s\tremaining: 6.16s\n",
      "777:\tlearn: 0.2149619\ttotal: 21.5s\tremaining: 6.13s\n",
      "778:\tlearn: 0.2149078\ttotal: 21.5s\tremaining: 6.11s\n",
      "779:\tlearn: 0.2148550\ttotal: 21.6s\tremaining: 6.08s\n",
      "780:\tlearn: 0.2147429\ttotal: 21.6s\tremaining: 6.05s\n",
      "781:\tlearn: 0.2146941\ttotal: 21.6s\tremaining: 6.03s\n",
      "782:\tlearn: 0.2146536\ttotal: 21.6s\tremaining: 6s\n",
      "783:\tlearn: 0.2145868\ttotal: 21.7s\tremaining: 5.97s\n",
      "784:\tlearn: 0.2144710\ttotal: 21.7s\tremaining: 5.95s\n",
      "785:\tlearn: 0.2143864\ttotal: 21.7s\tremaining: 5.92s\n",
      "786:\tlearn: 0.2143424\ttotal: 21.8s\tremaining: 5.89s\n",
      "787:\tlearn: 0.2142163\ttotal: 21.8s\tremaining: 5.86s\n",
      "788:\tlearn: 0.2141043\ttotal: 21.8s\tremaining: 5.84s\n",
      "789:\tlearn: 0.2140551\ttotal: 21.9s\tremaining: 5.81s\n",
      "790:\tlearn: 0.2139184\ttotal: 21.9s\tremaining: 5.79s\n",
      "791:\tlearn: 0.2138544\ttotal: 21.9s\tremaining: 5.76s\n",
      "792:\tlearn: 0.2137315\ttotal: 22s\tremaining: 5.73s\n",
      "793:\tlearn: 0.2136496\ttotal: 22s\tremaining: 5.71s\n",
      "794:\tlearn: 0.2135204\ttotal: 22s\tremaining: 5.68s\n",
      "795:\tlearn: 0.2134628\ttotal: 22.1s\tremaining: 5.65s\n",
      "796:\tlearn: 0.2133678\ttotal: 22.1s\tremaining: 5.63s\n",
      "797:\tlearn: 0.2132874\ttotal: 22.1s\tremaining: 5.6s\n",
      "798:\tlearn: 0.2131716\ttotal: 22.2s\tremaining: 5.58s\n",
      "799:\tlearn: 0.2131034\ttotal: 22.2s\tremaining: 5.55s\n",
      "800:\tlearn: 0.2130029\ttotal: 22.2s\tremaining: 5.52s\n",
      "801:\tlearn: 0.2129427\ttotal: 22.3s\tremaining: 5.5s\n",
      "802:\tlearn: 0.2128619\ttotal: 22.3s\tremaining: 5.47s\n",
      "803:\tlearn: 0.2127992\ttotal: 22.3s\tremaining: 5.45s\n",
      "804:\tlearn: 0.2126928\ttotal: 22.4s\tremaining: 5.42s\n",
      "805:\tlearn: 0.2126291\ttotal: 22.4s\tremaining: 5.39s\n",
      "806:\tlearn: 0.2125595\ttotal: 22.4s\tremaining: 5.37s\n",
      "807:\tlearn: 0.2124903\ttotal: 22.5s\tremaining: 5.34s\n",
      "808:\tlearn: 0.2123926\ttotal: 22.5s\tremaining: 5.32s\n",
      "809:\tlearn: 0.2122978\ttotal: 22.6s\tremaining: 5.29s\n",
      "810:\tlearn: 0.2121804\ttotal: 22.6s\tremaining: 5.26s\n",
      "811:\tlearn: 0.2121269\ttotal: 22.6s\tremaining: 5.24s\n",
      "812:\tlearn: 0.2120764\ttotal: 22.7s\tremaining: 5.21s\n",
      "813:\tlearn: 0.2119911\ttotal: 22.7s\tremaining: 5.18s\n",
      "814:\tlearn: 0.2119548\ttotal: 22.7s\tremaining: 5.16s\n",
      "815:\tlearn: 0.2119160\ttotal: 22.7s\tremaining: 5.13s\n",
      "816:\tlearn: 0.2118131\ttotal: 22.8s\tremaining: 5.1s\n",
      "817:\tlearn: 0.2117161\ttotal: 22.8s\tremaining: 5.07s\n",
      "818:\tlearn: 0.2116718\ttotal: 22.8s\tremaining: 5.05s\n",
      "819:\tlearn: 0.2116092\ttotal: 22.9s\tremaining: 5.02s\n",
      "820:\tlearn: 0.2114918\ttotal: 22.9s\tremaining: 4.99s\n",
      "821:\tlearn: 0.2114579\ttotal: 22.9s\tremaining: 4.97s\n",
      "822:\tlearn: 0.2113841\ttotal: 23s\tremaining: 4.94s\n",
      "823:\tlearn: 0.2113390\ttotal: 23s\tremaining: 4.92s\n",
      "824:\tlearn: 0.2112288\ttotal: 23s\tremaining: 4.89s\n",
      "825:\tlearn: 0.2111445\ttotal: 23.1s\tremaining: 4.86s\n",
      "826:\tlearn: 0.2110800\ttotal: 23.1s\tremaining: 4.84s\n",
      "827:\tlearn: 0.2109944\ttotal: 23.2s\tremaining: 4.81s\n",
      "828:\tlearn: 0.2109557\ttotal: 23.2s\tremaining: 4.79s\n",
      "829:\tlearn: 0.2109068\ttotal: 23.2s\tremaining: 4.76s\n",
      "830:\tlearn: 0.2108665\ttotal: 23.3s\tremaining: 4.73s\n",
      "831:\tlearn: 0.2108122\ttotal: 23.3s\tremaining: 4.71s\n",
      "832:\tlearn: 0.2106933\ttotal: 23.3s\tremaining: 4.68s\n",
      "833:\tlearn: 0.2106486\ttotal: 23.4s\tremaining: 4.66s\n",
      "834:\tlearn: 0.2106004\ttotal: 23.4s\tremaining: 4.63s\n",
      "835:\tlearn: 0.2105454\ttotal: 23.5s\tremaining: 4.6s\n",
      "836:\tlearn: 0.2104568\ttotal: 23.5s\tremaining: 4.57s\n",
      "837:\tlearn: 0.2103704\ttotal: 23.5s\tremaining: 4.55s\n",
      "838:\tlearn: 0.2103131\ttotal: 23.6s\tremaining: 4.52s\n",
      "839:\tlearn: 0.2102524\ttotal: 23.6s\tremaining: 4.5s\n",
      "840:\tlearn: 0.2101919\ttotal: 23.6s\tremaining: 4.47s\n",
      "841:\tlearn: 0.2101382\ttotal: 23.7s\tremaining: 4.44s\n",
      "842:\tlearn: 0.2101010\ttotal: 23.7s\tremaining: 4.42s\n",
      "843:\tlearn: 0.2100645\ttotal: 23.7s\tremaining: 4.39s\n",
      "844:\tlearn: 0.2099645\ttotal: 23.8s\tremaining: 4.36s\n",
      "845:\tlearn: 0.2098447\ttotal: 23.8s\tremaining: 4.33s\n",
      "846:\tlearn: 0.2098080\ttotal: 23.9s\tremaining: 4.31s\n",
      "847:\tlearn: 0.2097383\ttotal: 23.9s\tremaining: 4.28s\n",
      "848:\tlearn: 0.2096688\ttotal: 23.9s\tremaining: 4.25s\n",
      "849:\tlearn: 0.2096286\ttotal: 24s\tremaining: 4.23s\n",
      "850:\tlearn: 0.2095813\ttotal: 24s\tremaining: 4.2s\n",
      "851:\tlearn: 0.2095417\ttotal: 24s\tremaining: 4.17s\n",
      "852:\tlearn: 0.2094425\ttotal: 24.1s\tremaining: 4.15s\n",
      "853:\tlearn: 0.2094065\ttotal: 24.1s\tremaining: 4.13s\n",
      "854:\tlearn: 0.2092803\ttotal: 24.2s\tremaining: 4.1s\n",
      "855:\tlearn: 0.2092380\ttotal: 24.2s\tremaining: 4.07s\n",
      "856:\tlearn: 0.2091904\ttotal: 24.3s\tremaining: 4.05s\n",
      "857:\tlearn: 0.2090629\ttotal: 24.3s\tremaining: 4.03s\n",
      "858:\tlearn: 0.2089551\ttotal: 24.4s\tremaining: 4s\n",
      "859:\tlearn: 0.2088889\ttotal: 24.4s\tremaining: 3.97s\n",
      "860:\tlearn: 0.2088471\ttotal: 24.5s\tremaining: 3.95s\n",
      "861:\tlearn: 0.2088080\ttotal: 24.5s\tremaining: 3.92s\n",
      "862:\tlearn: 0.2087189\ttotal: 24.5s\tremaining: 3.9s\n",
      "863:\tlearn: 0.2086508\ttotal: 24.6s\tremaining: 3.87s\n",
      "864:\tlearn: 0.2085326\ttotal: 24.6s\tremaining: 3.84s\n",
      "865:\tlearn: 0.2084769\ttotal: 24.7s\tremaining: 3.81s\n",
      "866:\tlearn: 0.2083794\ttotal: 24.7s\tremaining: 3.79s\n",
      "867:\tlearn: 0.2082838\ttotal: 24.8s\tremaining: 3.77s\n",
      "868:\tlearn: 0.2081990\ttotal: 24.8s\tremaining: 3.74s\n",
      "869:\tlearn: 0.2081621\ttotal: 24.8s\tremaining: 3.71s\n",
      "870:\tlearn: 0.2081248\ttotal: 24.9s\tremaining: 3.68s\n",
      "871:\tlearn: 0.2080121\ttotal: 24.9s\tremaining: 3.66s\n",
      "872:\tlearn: 0.2079065\ttotal: 25s\tremaining: 3.63s\n",
      "873:\tlearn: 0.2078140\ttotal: 25s\tremaining: 3.6s\n",
      "874:\tlearn: 0.2077753\ttotal: 25s\tremaining: 3.58s\n",
      "875:\tlearn: 0.2077417\ttotal: 25.1s\tremaining: 3.55s\n",
      "876:\tlearn: 0.2076855\ttotal: 25.1s\tremaining: 3.52s\n",
      "877:\tlearn: 0.2076376\ttotal: 25.1s\tremaining: 3.49s\n",
      "878:\tlearn: 0.2075457\ttotal: 25.2s\tremaining: 3.46s\n",
      "879:\tlearn: 0.2074415\ttotal: 25.2s\tremaining: 3.44s\n",
      "880:\tlearn: 0.2073563\ttotal: 25.2s\tremaining: 3.41s\n",
      "881:\tlearn: 0.2073090\ttotal: 25.3s\tremaining: 3.38s\n",
      "882:\tlearn: 0.2072489\ttotal: 25.3s\tremaining: 3.35s\n",
      "883:\tlearn: 0.2072048\ttotal: 25.3s\tremaining: 3.33s\n",
      "884:\tlearn: 0.2070969\ttotal: 25.4s\tremaining: 3.3s\n",
      "885:\tlearn: 0.2069909\ttotal: 25.4s\tremaining: 3.27s\n",
      "886:\tlearn: 0.2069057\ttotal: 25.4s\tremaining: 3.24s\n",
      "887:\tlearn: 0.2068318\ttotal: 25.5s\tremaining: 3.21s\n",
      "888:\tlearn: 0.2067337\ttotal: 25.5s\tremaining: 3.18s\n",
      "889:\tlearn: 0.2066247\ttotal: 25.5s\tremaining: 3.16s\n",
      "890:\tlearn: 0.2065446\ttotal: 25.6s\tremaining: 3.13s\n",
      "891:\tlearn: 0.2065068\ttotal: 25.6s\tremaining: 3.1s\n",
      "892:\tlearn: 0.2064713\ttotal: 25.7s\tremaining: 3.07s\n",
      "893:\tlearn: 0.2063912\ttotal: 25.7s\tremaining: 3.04s\n",
      "894:\tlearn: 0.2063588\ttotal: 25.7s\tremaining: 3.02s\n",
      "895:\tlearn: 0.2063256\ttotal: 25.8s\tremaining: 2.99s\n",
      "896:\tlearn: 0.2062252\ttotal: 25.8s\tremaining: 2.96s\n",
      "897:\tlearn: 0.2061940\ttotal: 25.8s\tremaining: 2.93s\n",
      "898:\tlearn: 0.2061042\ttotal: 25.9s\tremaining: 2.9s\n",
      "899:\tlearn: 0.2059986\ttotal: 25.9s\tremaining: 2.88s\n",
      "900:\tlearn: 0.2059629\ttotal: 25.9s\tremaining: 2.85s\n",
      "901:\tlearn: 0.2058741\ttotal: 26s\tremaining: 2.82s\n",
      "902:\tlearn: 0.2058061\ttotal: 26s\tremaining: 2.79s\n",
      "903:\tlearn: 0.2057571\ttotal: 26s\tremaining: 2.77s\n",
      "904:\tlearn: 0.2057200\ttotal: 26.1s\tremaining: 2.74s\n",
      "905:\tlearn: 0.2056596\ttotal: 26.1s\tremaining: 2.71s\n",
      "906:\tlearn: 0.2056165\ttotal: 26.2s\tremaining: 2.68s\n",
      "907:\tlearn: 0.2055783\ttotal: 26.2s\tremaining: 2.65s\n",
      "908:\tlearn: 0.2055411\ttotal: 26.2s\tremaining: 2.62s\n",
      "909:\tlearn: 0.2054898\ttotal: 26.3s\tremaining: 2.6s\n",
      "910:\tlearn: 0.2054453\ttotal: 26.3s\tremaining: 2.57s\n",
      "911:\tlearn: 0.2053813\ttotal: 26.3s\tremaining: 2.54s\n",
      "912:\tlearn: 0.2053410\ttotal: 26.4s\tremaining: 2.51s\n",
      "913:\tlearn: 0.2052819\ttotal: 26.4s\tremaining: 2.48s\n",
      "914:\tlearn: 0.2052202\ttotal: 26.4s\tremaining: 2.45s\n",
      "915:\tlearn: 0.2051849\ttotal: 26.4s\tremaining: 2.42s\n",
      "916:\tlearn: 0.2051521\ttotal: 26.5s\tremaining: 2.4s\n",
      "917:\tlearn: 0.2051151\ttotal: 26.5s\tremaining: 2.37s\n",
      "918:\tlearn: 0.2050058\ttotal: 26.6s\tremaining: 2.34s\n",
      "919:\tlearn: 0.2048953\ttotal: 26.6s\tremaining: 2.31s\n",
      "920:\tlearn: 0.2048365\ttotal: 26.7s\tremaining: 2.29s\n",
      "921:\tlearn: 0.2047262\ttotal: 26.7s\tremaining: 2.26s\n",
      "922:\tlearn: 0.2046892\ttotal: 26.7s\tremaining: 2.23s\n",
      "923:\tlearn: 0.2045918\ttotal: 26.8s\tremaining: 2.2s\n",
      "924:\tlearn: 0.2044923\ttotal: 26.8s\tremaining: 2.17s\n",
      "925:\tlearn: 0.2044589\ttotal: 26.8s\tremaining: 2.14s\n",
      "926:\tlearn: 0.2044238\ttotal: 26.9s\tremaining: 2.12s\n",
      "927:\tlearn: 0.2043180\ttotal: 26.9s\tremaining: 2.09s\n",
      "928:\tlearn: 0.2042212\ttotal: 26.9s\tremaining: 2.06s\n",
      "929:\tlearn: 0.2041298\ttotal: 27s\tremaining: 2.03s\n",
      "930:\tlearn: 0.2040921\ttotal: 27s\tremaining: 2s\n",
      "931:\tlearn: 0.2039893\ttotal: 27.1s\tremaining: 1.97s\n",
      "932:\tlearn: 0.2039495\ttotal: 27.1s\tremaining: 1.95s\n",
      "933:\tlearn: 0.2039128\ttotal: 27.1s\tremaining: 1.92s\n",
      "934:\tlearn: 0.2038787\ttotal: 27.2s\tremaining: 1.89s\n",
      "935:\tlearn: 0.2038408\ttotal: 27.2s\tremaining: 1.86s\n",
      "936:\tlearn: 0.2037298\ttotal: 27.2s\tremaining: 1.83s\n",
      "937:\tlearn: 0.2036601\ttotal: 27.3s\tremaining: 1.8s\n",
      "938:\tlearn: 0.2036250\ttotal: 27.3s\tremaining: 1.77s\n",
      "939:\tlearn: 0.2035926\ttotal: 27.3s\tremaining: 1.74s\n",
      "940:\tlearn: 0.2035612\ttotal: 27.4s\tremaining: 1.72s\n",
      "941:\tlearn: 0.2035272\ttotal: 27.4s\tremaining: 1.69s\n",
      "942:\tlearn: 0.2034946\ttotal: 27.4s\tremaining: 1.66s\n",
      "943:\tlearn: 0.2034575\ttotal: 27.5s\tremaining: 1.63s\n",
      "944:\tlearn: 0.2033715\ttotal: 27.5s\tremaining: 1.6s\n",
      "945:\tlearn: 0.2033286\ttotal: 27.5s\tremaining: 1.57s\n",
      "946:\tlearn: 0.2032945\ttotal: 27.6s\tremaining: 1.54s\n",
      "947:\tlearn: 0.2032593\ttotal: 27.6s\tremaining: 1.51s\n",
      "948:\tlearn: 0.2032253\ttotal: 27.6s\tremaining: 1.48s\n",
      "949:\tlearn: 0.2031464\ttotal: 27.7s\tremaining: 1.46s\n",
      "950:\tlearn: 0.2030633\ttotal: 27.7s\tremaining: 1.43s\n",
      "951:\tlearn: 0.2030304\ttotal: 27.7s\tremaining: 1.4s\n",
      "952:\tlearn: 0.2029664\ttotal: 27.8s\tremaining: 1.37s\n",
      "953:\tlearn: 0.2028883\ttotal: 27.8s\tremaining: 1.34s\n",
      "954:\tlearn: 0.2028468\ttotal: 27.8s\tremaining: 1.31s\n",
      "955:\tlearn: 0.2028187\ttotal: 27.9s\tremaining: 1.28s\n",
      "956:\tlearn: 0.2027838\ttotal: 27.9s\tremaining: 1.25s\n",
      "957:\tlearn: 0.2027502\ttotal: 27.9s\tremaining: 1.22s\n",
      "958:\tlearn: 0.2027170\ttotal: 28s\tremaining: 1.2s\n",
      "959:\tlearn: 0.2026852\ttotal: 28s\tremaining: 1.17s\n",
      "960:\tlearn: 0.2026519\ttotal: 28s\tremaining: 1.14s\n",
      "961:\tlearn: 0.2026198\ttotal: 28s\tremaining: 1.11s\n",
      "962:\tlearn: 0.2025867\ttotal: 28.1s\tremaining: 1.08s\n",
      "963:\tlearn: 0.2024986\ttotal: 28.1s\tremaining: 1.05s\n",
      "964:\tlearn: 0.2024701\ttotal: 28.1s\tremaining: 1.02s\n",
      "965:\tlearn: 0.2024358\ttotal: 28.2s\tremaining: 992ms\n",
      "966:\tlearn: 0.2023929\ttotal: 28.2s\tremaining: 963ms\n",
      "967:\tlearn: 0.2022937\ttotal: 28.2s\tremaining: 934ms\n",
      "968:\tlearn: 0.2022653\ttotal: 28.3s\tremaining: 904ms\n",
      "969:\tlearn: 0.2022327\ttotal: 28.3s\tremaining: 875ms\n",
      "970:\tlearn: 0.2021423\ttotal: 28.3s\tremaining: 847ms\n",
      "971:\tlearn: 0.2020367\ttotal: 28.4s\tremaining: 817ms\n",
      "972:\tlearn: 0.2019423\ttotal: 28.4s\tremaining: 788ms\n",
      "973:\tlearn: 0.2018568\ttotal: 28.4s\tremaining: 759ms\n",
      "974:\tlearn: 0.2018247\ttotal: 28.5s\tremaining: 730ms\n",
      "975:\tlearn: 0.2017504\ttotal: 28.5s\tremaining: 701ms\n",
      "976:\tlearn: 0.2016600\ttotal: 28.6s\tremaining: 672ms\n",
      "977:\tlearn: 0.2016271\ttotal: 28.6s\tremaining: 643ms\n",
      "978:\tlearn: 0.2015904\ttotal: 28.6s\tremaining: 614ms\n",
      "979:\tlearn: 0.2014842\ttotal: 28.7s\tremaining: 585ms\n",
      "980:\tlearn: 0.2014513\ttotal: 28.7s\tremaining: 556ms\n",
      "981:\tlearn: 0.2014173\ttotal: 28.7s\tremaining: 526ms\n",
      "982:\tlearn: 0.2013827\ttotal: 28.7s\tremaining: 497ms\n",
      "983:\tlearn: 0.2012966\ttotal: 28.8s\tremaining: 468ms\n",
      "984:\tlearn: 0.2012159\ttotal: 28.8s\tremaining: 439ms\n",
      "985:\tlearn: 0.2011492\ttotal: 28.8s\tremaining: 409ms\n",
      "986:\tlearn: 0.2010484\ttotal: 28.9s\tremaining: 380ms\n",
      "987:\tlearn: 0.2010008\ttotal: 28.9s\tremaining: 351ms\n",
      "988:\tlearn: 0.2009057\ttotal: 28.9s\tremaining: 322ms\n",
      "989:\tlearn: 0.2008720\ttotal: 29s\tremaining: 292ms\n",
      "990:\tlearn: 0.2007874\ttotal: 29s\tremaining: 263ms\n",
      "991:\tlearn: 0.2006995\ttotal: 29s\tremaining: 234ms\n",
      "992:\tlearn: 0.2006639\ttotal: 29.1s\tremaining: 205ms\n",
      "993:\tlearn: 0.2005764\ttotal: 29.1s\tremaining: 176ms\n",
      "994:\tlearn: 0.2005454\ttotal: 29.1s\tremaining: 146ms\n",
      "995:\tlearn: 0.2004794\ttotal: 29.1s\tremaining: 117ms\n",
      "996:\tlearn: 0.2004468\ttotal: 29.2s\tremaining: 87.8ms\n",
      "997:\tlearn: 0.2003803\ttotal: 29.2s\tremaining: 58.5ms\n",
      "998:\tlearn: 0.2002736\ttotal: 29.2s\tremaining: 29.3ms\n",
      "999:\tlearn: 0.2001869\ttotal: 29.3s\tremaining: 0us\n"
     ]
    }
   ],
   "source": [
    "\n",
    "#### training\n",
    "model_names, model_pipelines = zip(*pipelines)\n",
    "metrics, weights = estimate_multiple_models(\n",
    "    model_pipelines,\n",
    "    lambda pipeline, _: estimate_model(\n",
    "        pipeline,\n",
    "        (X_train, X_test, y_train, y_test),\n",
    "    ),\n",
    "    model_names\n",
    ")"
   ]
  },
  {
   "cell_type": "code",
   "execution_count": 152,
   "outputs": [
    {
     "data": {
      "text/plain": "set             train                                                    test  \\\nmetric       f1_score cohen_kappa_score precision_score recall_score f1_score   \nmodel                                                                           \nDummy_mean      0.000             0.000           0.000        0.000    0.000   \nDummy_median    0.101            -0.011           0.102        0.099    0.106   \nLinReg          0.203             0.180           0.810        0.116    0.160   \nXGB             0.338             0.310           0.909        0.208    0.186   \nLGBM            0.407             0.373           0.850        0.268    0.262   \nRFC             0.451             0.419           0.917        0.299    0.191   \nCatBoost        0.466             0.435           0.955        0.308    0.248   \n\nset                                                          \nmetric       cohen_kappa_score precision_score recall_score  \nmodel                                                        \nDummy_mean               0.000           0.000        0.000  \nDummy_median            -0.004           0.108        0.105  \nLinReg                   0.135           0.611        0.092  \nXGB                      0.159           0.650        0.109  \nLGBM                     0.225           0.606        0.167  \nRFC                      0.162           0.614        0.113  \nCatBoost                 0.214           0.627        0.155  ",
      "text/html": "<div>\n<style scoped>\n    .dataframe tbody tr th:only-of-type {\n        vertical-align: middle;\n    }\n\n    .dataframe tbody tr th {\n        vertical-align: top;\n    }\n\n    .dataframe thead tr th {\n        text-align: left;\n    }\n\n    .dataframe thead tr:last-of-type th {\n        text-align: right;\n    }\n</style>\n<table border=\"1\" class=\"dataframe\">\n  <thead>\n    <tr>\n      <th>set</th>\n      <th colspan=\"4\" halign=\"left\">train</th>\n      <th colspan=\"4\" halign=\"left\">test</th>\n    </tr>\n    <tr>\n      <th>metric</th>\n      <th>f1_score</th>\n      <th>cohen_kappa_score</th>\n      <th>precision_score</th>\n      <th>recall_score</th>\n      <th>f1_score</th>\n      <th>cohen_kappa_score</th>\n      <th>precision_score</th>\n      <th>recall_score</th>\n    </tr>\n    <tr>\n      <th>model</th>\n      <th></th>\n      <th></th>\n      <th></th>\n      <th></th>\n      <th></th>\n      <th></th>\n      <th></th>\n      <th></th>\n    </tr>\n  </thead>\n  <tbody>\n    <tr>\n      <th>Dummy_mean</th>\n      <td>0.000</td>\n      <td>0.000</td>\n      <td>0.000</td>\n      <td>0.000</td>\n      <td>0.000</td>\n      <td>0.000</td>\n      <td>0.000</td>\n      <td>0.000</td>\n    </tr>\n    <tr>\n      <th>Dummy_median</th>\n      <td>0.101</td>\n      <td>-0.011</td>\n      <td>0.102</td>\n      <td>0.099</td>\n      <td>0.106</td>\n      <td>-0.004</td>\n      <td>0.108</td>\n      <td>0.105</td>\n    </tr>\n    <tr>\n      <th>LinReg</th>\n      <td>0.203</td>\n      <td>0.180</td>\n      <td>0.810</td>\n      <td>0.116</td>\n      <td>0.160</td>\n      <td>0.135</td>\n      <td>0.611</td>\n      <td>0.092</td>\n    </tr>\n    <tr>\n      <th>XGB</th>\n      <td>0.338</td>\n      <td>0.310</td>\n      <td>0.909</td>\n      <td>0.208</td>\n      <td>0.186</td>\n      <td>0.159</td>\n      <td>0.650</td>\n      <td>0.109</td>\n    </tr>\n    <tr>\n      <th>LGBM</th>\n      <td>0.407</td>\n      <td>0.373</td>\n      <td>0.850</td>\n      <td>0.268</td>\n      <td>0.262</td>\n      <td>0.225</td>\n      <td>0.606</td>\n      <td>0.167</td>\n    </tr>\n    <tr>\n      <th>RFC</th>\n      <td>0.451</td>\n      <td>0.419</td>\n      <td>0.917</td>\n      <td>0.299</td>\n      <td>0.191</td>\n      <td>0.162</td>\n      <td>0.614</td>\n      <td>0.113</td>\n    </tr>\n    <tr>\n      <th>CatBoost</th>\n      <td>0.466</td>\n      <td>0.435</td>\n      <td>0.955</td>\n      <td>0.308</td>\n      <td>0.248</td>\n      <td>0.214</td>\n      <td>0.627</td>\n      <td>0.155</td>\n    </tr>\n  </tbody>\n</table>\n</div>"
     },
     "execution_count": 152,
     "metadata": {},
     "output_type": "execute_result"
    }
   ],
   "source": [
    "metrics"
   ],
   "metadata": {
    "collapsed": false,
    "pycharm": {
     "name": "#%%\n"
    }
   }
  },
  {
   "cell_type": "code",
   "execution_count": 84,
   "metadata": {
    "pycharm": {
     "name": "#%%\n"
    }
   },
   "outputs": [
    {
     "data": {
      "text/plain": "set             train                                                    test  \\\nmetric       f1_score cohen_kappa_score precision_score recall_score f1_score   \nmodel                                                                           \nDummy_mean      0.000             0.000           0.000        0.000    0.000   \nDummy_median    0.124             0.021           0.130        0.119    0.096   \nLinReg          0.206             0.184           0.822        0.118    0.140   \nXGB             0.337             0.308           0.879        0.208    0.189   \nLGBM            0.395             0.365           0.925        0.251    0.230   \nRFC             0.891             0.879           0.983        0.815    0.190   \nCatBoost        0.478             0.448           0.965        0.318    0.310   \n\nset                                                          \nmetric       cohen_kappa_score precision_score recall_score  \nmodel                                                        \nDummy_mean               0.000           0.000        0.000  \nDummy_median            -0.016           0.104        0.090  \nLinReg                   0.118           0.667        0.078  \nXGB                      0.160           0.667        0.110  \nLGBM                     0.198           0.700        0.137  \nRFC                      0.163           0.700        0.110  \nCatBoost                 0.273           0.735        0.196  ",
      "text/html": "<div>\n<style scoped>\n    .dataframe tbody tr th:only-of-type {\n        vertical-align: middle;\n    }\n\n    .dataframe tbody tr th {\n        vertical-align: top;\n    }\n\n    .dataframe thead tr th {\n        text-align: left;\n    }\n\n    .dataframe thead tr:last-of-type th {\n        text-align: right;\n    }\n</style>\n<table border=\"1\" class=\"dataframe\">\n  <thead>\n    <tr>\n      <th>set</th>\n      <th colspan=\"4\" halign=\"left\">train</th>\n      <th colspan=\"4\" halign=\"left\">test</th>\n    </tr>\n    <tr>\n      <th>metric</th>\n      <th>f1_score</th>\n      <th>cohen_kappa_score</th>\n      <th>precision_score</th>\n      <th>recall_score</th>\n      <th>f1_score</th>\n      <th>cohen_kappa_score</th>\n      <th>precision_score</th>\n      <th>recall_score</th>\n    </tr>\n    <tr>\n      <th>model</th>\n      <th></th>\n      <th></th>\n      <th></th>\n      <th></th>\n      <th></th>\n      <th></th>\n      <th></th>\n      <th></th>\n    </tr>\n  </thead>\n  <tbody>\n    <tr>\n      <th>Dummy_mean</th>\n      <td>0.000</td>\n      <td>0.000</td>\n      <td>0.000</td>\n      <td>0.000</td>\n      <td>0.000</td>\n      <td>0.000</td>\n      <td>0.000</td>\n      <td>0.000</td>\n    </tr>\n    <tr>\n      <th>Dummy_median</th>\n      <td>0.124</td>\n      <td>0.021</td>\n      <td>0.130</td>\n      <td>0.119</td>\n      <td>0.096</td>\n      <td>-0.016</td>\n      <td>0.104</td>\n      <td>0.090</td>\n    </tr>\n    <tr>\n      <th>LinReg</th>\n      <td>0.206</td>\n      <td>0.184</td>\n      <td>0.822</td>\n      <td>0.118</td>\n      <td>0.140</td>\n      <td>0.118</td>\n      <td>0.667</td>\n      <td>0.078</td>\n    </tr>\n    <tr>\n      <th>XGB</th>\n      <td>0.337</td>\n      <td>0.308</td>\n      <td>0.879</td>\n      <td>0.208</td>\n      <td>0.189</td>\n      <td>0.160</td>\n      <td>0.667</td>\n      <td>0.110</td>\n    </tr>\n    <tr>\n      <th>LGBM</th>\n      <td>0.395</td>\n      <td>0.365</td>\n      <td>0.925</td>\n      <td>0.251</td>\n      <td>0.230</td>\n      <td>0.198</td>\n      <td>0.700</td>\n      <td>0.137</td>\n    </tr>\n    <tr>\n      <th>RFC</th>\n      <td>0.891</td>\n      <td>0.879</td>\n      <td>0.983</td>\n      <td>0.815</td>\n      <td>0.190</td>\n      <td>0.163</td>\n      <td>0.700</td>\n      <td>0.110</td>\n    </tr>\n    <tr>\n      <th>CatBoost</th>\n      <td>0.478</td>\n      <td>0.448</td>\n      <td>0.965</td>\n      <td>0.318</td>\n      <td>0.310</td>\n      <td>0.273</td>\n      <td>0.735</td>\n      <td>0.196</td>\n    </tr>\n  </tbody>\n</table>\n</div>"
     },
     "execution_count": 84,
     "metadata": {},
     "output_type": "execute_result"
    }
   ],
   "source": [
    "metrics"
   ]
  },
  {
   "cell_type": "code",
   "execution_count": 322,
   "metadata": {
    "pycharm": {
     "name": "#%%\n"
    }
   },
   "outputs": [
    {
     "name": "stdout",
     "output_type": "stream",
     "text": [
      "################################################################################\n",
      "Dummy_mean\n",
      "Not Supported\n",
      "################################################################################\n",
      "Dummy_median\n",
      "Not Supported\n",
      "################################################################################\n",
      "LinReg\n",
      "         weight\n",
      "feature        \n",
      "x155      6.861\n",
      "x6788     6.015\n",
      "x4997     5.476\n",
      "x4998     5.027\n",
      "x6853     4.392\n",
      "...         ...\n",
      "x4445    -2.665\n",
      "x627     -3.027\n",
      "x2765    -3.027\n",
      "x3679    -3.296\n",
      "x1523    -4.132\n",
      "\n",
      "[6993 rows x 1 columns]\n",
      "################################################################################\n",
      "XGB\n",
      "Not Supported\n",
      "################################################################################\n",
      "LGBM\n",
      "             weight\n",
      "feature            \n",
      "Column_6788   0.056\n",
      "Column_155    0.053\n",
      "Column_6382   0.051\n",
      "Column_4998   0.039\n",
      "Column_4997   0.030\n",
      "...             ...\n",
      "Column_4579   0.000\n",
      "Column_4580   0.000\n",
      "Column_4581   0.000\n",
      "Column_4582   0.000\n",
      "Column_0      0.000\n",
      "\n",
      "[6992 rows x 1 columns]\n",
      "################################################################################\n",
      "RFC\n",
      "         weight\n",
      "feature        \n",
      "x6788     0.021\n",
      "x155      0.021\n",
      "x6535     0.017\n",
      "x6382     0.015\n",
      "x4997     0.015\n",
      "...         ...\n",
      "x4489     0.000\n",
      "x4482     0.000\n",
      "x1290     0.000\n",
      "x4481     0.000\n",
      "x0        0.000\n",
      "\n",
      "[6992 rows x 1 columns]\n",
      "################################################################################\n",
      "CatBoost\n",
      "         weight\n",
      "feature        \n",
      "1523      0.068\n",
      "155       0.065\n",
      "6535      0.049\n",
      "2765      0.047\n",
      "3679      0.042\n",
      "...         ...\n",
      "4532      0.000\n",
      "4533      0.000\n",
      "4534      0.000\n",
      "4535      0.000\n",
      "0         0.000\n",
      "\n",
      "[6992 rows x 1 columns]\n"
     ]
    }
   ],
   "source": [
    "for name, _ in pipelines:\n",
    "    try:\n",
    "        print(\"#\" * 80)\n",
    "        print(name)\n",
    "        print(weights.loc[name])\n",
    "    except KeyError:\n",
    "        print('Not Supported')"
   ]
  },
  {
   "cell_type": "code",
   "execution_count": 42,
   "outputs": [],
   "source": [
    "final_pipeline_1 = Pipeline([\n",
    "    ('NLP', nlp),\n",
    "    ('regressor', rfc[-1])\n",
    "])\n",
    "\n",
    "final_pipeline_2 = Pipeline([\n",
    "    ('NLP', nlp),\n",
    "    ('regressor', lgbm[-1])\n",
    "])\n",
    "\n",
    "final_pipeline_3 = Pipeline([\n",
    "    ('NLP', nlp),\n",
    "    ('regressor', ctb[-1])\n",
    "])\n",
    "\n",
    "final_pipeline_4 = Pipeline([\n",
    "    ('NLP', nlp),\n",
    "    ('regressor', lr[-1])\n",
    "])"
   ],
   "metadata": {
    "collapsed": false,
    "pycharm": {
     "name": "#%%\n"
    }
   }
  },
  {
   "cell_type": "code",
   "execution_count": 43,
   "outputs": [
    {
     "data": {
      "text/plain": "Pipeline(steps=[('NLP',\n                 Pipeline(steps=[('cleaning', TextCleaner()),\n                                 ('series_converter', SeriesConverter()),\n                                 ('vectorization',\n                                  TfidfVectorizer(max_df=0.7, min_df=3))])),\n                ('regressor',\n                 <catboost.core.CatBoostClassifier object at 0x000002DE32F47700>)])",
      "text/html": "<style>#sk-container-id-1 {color: black;background-color: white;}#sk-container-id-1 pre{padding: 0;}#sk-container-id-1 div.sk-toggleable {background-color: white;}#sk-container-id-1 label.sk-toggleable__label {cursor: pointer;display: block;width: 100%;margin-bottom: 0;padding: 0.3em;box-sizing: border-box;text-align: center;}#sk-container-id-1 label.sk-toggleable__label-arrow:before {content: \"▸\";float: left;margin-right: 0.25em;color: #696969;}#sk-container-id-1 label.sk-toggleable__label-arrow:hover:before {color: black;}#sk-container-id-1 div.sk-estimator:hover label.sk-toggleable__label-arrow:before {color: black;}#sk-container-id-1 div.sk-toggleable__content {max-height: 0;max-width: 0;overflow: hidden;text-align: left;background-color: #f0f8ff;}#sk-container-id-1 div.sk-toggleable__content pre {margin: 0.2em;color: black;border-radius: 0.25em;background-color: #f0f8ff;}#sk-container-id-1 input.sk-toggleable__control:checked~div.sk-toggleable__content {max-height: 200px;max-width: 100%;overflow: auto;}#sk-container-id-1 input.sk-toggleable__control:checked~label.sk-toggleable__label-arrow:before {content: \"▾\";}#sk-container-id-1 div.sk-estimator input.sk-toggleable__control:checked~label.sk-toggleable__label {background-color: #d4ebff;}#sk-container-id-1 div.sk-label input.sk-toggleable__control:checked~label.sk-toggleable__label {background-color: #d4ebff;}#sk-container-id-1 input.sk-hidden--visually {border: 0;clip: rect(1px 1px 1px 1px);clip: rect(1px, 1px, 1px, 1px);height: 1px;margin: -1px;overflow: hidden;padding: 0;position: absolute;width: 1px;}#sk-container-id-1 div.sk-estimator {font-family: monospace;background-color: #f0f8ff;border: 1px dotted black;border-radius: 0.25em;box-sizing: border-box;margin-bottom: 0.5em;}#sk-container-id-1 div.sk-estimator:hover {background-color: #d4ebff;}#sk-container-id-1 div.sk-parallel-item::after {content: \"\";width: 100%;border-bottom: 1px solid gray;flex-grow: 1;}#sk-container-id-1 div.sk-label:hover label.sk-toggleable__label {background-color: #d4ebff;}#sk-container-id-1 div.sk-serial::before {content: \"\";position: absolute;border-left: 1px solid gray;box-sizing: border-box;top: 0;bottom: 0;left: 50%;z-index: 0;}#sk-container-id-1 div.sk-serial {display: flex;flex-direction: column;align-items: center;background-color: white;padding-right: 0.2em;padding-left: 0.2em;position: relative;}#sk-container-id-1 div.sk-item {position: relative;z-index: 1;}#sk-container-id-1 div.sk-parallel {display: flex;align-items: stretch;justify-content: center;background-color: white;position: relative;}#sk-container-id-1 div.sk-item::before, #sk-container-id-1 div.sk-parallel-item::before {content: \"\";position: absolute;border-left: 1px solid gray;box-sizing: border-box;top: 0;bottom: 0;left: 50%;z-index: -1;}#sk-container-id-1 div.sk-parallel-item {display: flex;flex-direction: column;z-index: 1;position: relative;background-color: white;}#sk-container-id-1 div.sk-parallel-item:first-child::after {align-self: flex-end;width: 50%;}#sk-container-id-1 div.sk-parallel-item:last-child::after {align-self: flex-start;width: 50%;}#sk-container-id-1 div.sk-parallel-item:only-child::after {width: 0;}#sk-container-id-1 div.sk-dashed-wrapped {border: 1px dashed gray;margin: 0 0.4em 0.5em 0.4em;box-sizing: border-box;padding-bottom: 0.4em;background-color: white;}#sk-container-id-1 div.sk-label label {font-family: monospace;font-weight: bold;display: inline-block;line-height: 1.2em;}#sk-container-id-1 div.sk-label-container {text-align: center;}#sk-container-id-1 div.sk-container {/* jupyter's `normalize.less` sets `[hidden] { display: none; }` but bootstrap.min.css set `[hidden] { display: none !important; }` so we also need the `!important` here to be able to override the default hidden behavior on the sphinx rendered scikit-learn.org. See: https://github.com/scikit-learn/scikit-learn/issues/21755 */display: inline-block !important;position: relative;}#sk-container-id-1 div.sk-text-repr-fallback {display: none;}</style><div id=\"sk-container-id-1\" class=\"sk-top-container\"><div class=\"sk-text-repr-fallback\"><pre>Pipeline(steps=[(&#x27;NLP&#x27;,\n                 Pipeline(steps=[(&#x27;cleaning&#x27;, TextCleaner()),\n                                 (&#x27;series_converter&#x27;, SeriesConverter()),\n                                 (&#x27;vectorization&#x27;,\n                                  TfidfVectorizer(max_df=0.7, min_df=3))])),\n                (&#x27;regressor&#x27;,\n                 &lt;catboost.core.CatBoostClassifier object at 0x000002DE32F47700&gt;)])</pre><b>In a Jupyter environment, please rerun this cell to show the HTML representation or trust the notebook. <br />On GitHub, the HTML representation is unable to render, please try loading this page with nbviewer.org.</b></div><div class=\"sk-container\" hidden><div class=\"sk-item sk-dashed-wrapped\"><div class=\"sk-label-container\"><div class=\"sk-label sk-toggleable\"><input class=\"sk-toggleable__control sk-hidden--visually\" id=\"sk-estimator-id-1\" type=\"checkbox\" ><label for=\"sk-estimator-id-1\" class=\"sk-toggleable__label sk-toggleable__label-arrow\">Pipeline</label><div class=\"sk-toggleable__content\"><pre>Pipeline(steps=[(&#x27;NLP&#x27;,\n                 Pipeline(steps=[(&#x27;cleaning&#x27;, TextCleaner()),\n                                 (&#x27;series_converter&#x27;, SeriesConverter()),\n                                 (&#x27;vectorization&#x27;,\n                                  TfidfVectorizer(max_df=0.7, min_df=3))])),\n                (&#x27;regressor&#x27;,\n                 &lt;catboost.core.CatBoostClassifier object at 0x000002DE32F47700&gt;)])</pre></div></div></div><div class=\"sk-serial\"><div class=\"sk-item\"><div class=\"sk-label-container\"><div class=\"sk-label sk-toggleable\"><input class=\"sk-toggleable__control sk-hidden--visually\" id=\"sk-estimator-id-2\" type=\"checkbox\" ><label for=\"sk-estimator-id-2\" class=\"sk-toggleable__label sk-toggleable__label-arrow\">NLP: Pipeline</label><div class=\"sk-toggleable__content\"><pre>Pipeline(steps=[(&#x27;cleaning&#x27;, TextCleaner()),\n                (&#x27;series_converter&#x27;, SeriesConverter()),\n                (&#x27;vectorization&#x27;, TfidfVectorizer(max_df=0.7, min_df=3))])</pre></div></div></div><div class=\"sk-serial\"><div class=\"sk-item\"><div class=\"sk-estimator sk-toggleable\"><input class=\"sk-toggleable__control sk-hidden--visually\" id=\"sk-estimator-id-3\" type=\"checkbox\" ><label for=\"sk-estimator-id-3\" class=\"sk-toggleable__label sk-toggleable__label-arrow\">TextCleaner</label><div class=\"sk-toggleable__content\"><pre>TextCleaner()</pre></div></div></div><div class=\"sk-item\"><div class=\"sk-estimator sk-toggleable\"><input class=\"sk-toggleable__control sk-hidden--visually\" id=\"sk-estimator-id-4\" type=\"checkbox\" ><label for=\"sk-estimator-id-4\" class=\"sk-toggleable__label sk-toggleable__label-arrow\">SeriesConverter</label><div class=\"sk-toggleable__content\"><pre>SeriesConverter()</pre></div></div></div><div class=\"sk-item\"><div class=\"sk-estimator sk-toggleable\"><input class=\"sk-toggleable__control sk-hidden--visually\" id=\"sk-estimator-id-5\" type=\"checkbox\" ><label for=\"sk-estimator-id-5\" class=\"sk-toggleable__label sk-toggleable__label-arrow\">TfidfVectorizer</label><div class=\"sk-toggleable__content\"><pre>TfidfVectorizer(max_df=0.7, min_df=3)</pre></div></div></div></div></div><div class=\"sk-item\"><div class=\"sk-estimator sk-toggleable\"><input class=\"sk-toggleable__control sk-hidden--visually\" id=\"sk-estimator-id-6\" type=\"checkbox\" ><label for=\"sk-estimator-id-6\" class=\"sk-toggleable__label sk-toggleable__label-arrow\">CatBoostClassifier</label><div class=\"sk-toggleable__content\"><pre>&lt;catboost.core.CatBoostClassifier object at 0x000002DE32F47700&gt;</pre></div></div></div></div></div></div></div>"
     },
     "execution_count": 43,
     "metadata": {},
     "output_type": "execute_result"
    }
   ],
   "source": [
    "final_pipeline_3"
   ],
   "metadata": {
    "collapsed": false,
    "pycharm": {
     "name": "#%%\n"
    }
   }
  },
  {
   "cell_type": "code",
   "execution_count": 51,
   "outputs": [
    {
     "data": {
      "text/plain": "array([[0.95473859, 0.04526141],\n       [0.92708275, 0.07291725],\n       [0.92499595, 0.07500405],\n       [0.89467997, 0.10532003]])"
     },
     "execution_count": 51,
     "metadata": {},
     "output_type": "execute_result"
    }
   ],
   "source": [
    "final_pipeline_3.predict_proba(pd.DataFrame({\n",
    "    'tweet': [\n",
    "        'Sasha goes to Mannheim University',\n",
    "        '@Danylo will create a great application',\n",
    "        '@You bitch suck a dick fuck you shit in your ass',\n",
    "        'He will break it',\n",
    "    ]}))"
   ],
   "metadata": {
    "collapsed": false,
    "pycharm": {
     "name": "#%%\n"
    }
   }
  },
  {
   "cell_type": "code",
   "execution_count": 53,
   "outputs": [],
   "source": [
    "from src.common.validation.metrics import aggregate_metrics\n",
    "from src.common.prediction_model.persistence import FsModelPersistence\n",
    "from src.common.prediction_model.prediction_model import ModelContainer, ModelMetadata\n",
    "\n",
    "container = ModelContainer.create(\n",
    "    pipeline_name='l1_data3_ctb',\n",
    "    pipeline=final_pipeline_3,\n",
    "    feature_names=[],\n",
    "    metadata=ModelMetadata(\n",
    "        model_name=str(final_pipeline_4.__class__.__name__),\n",
    "        **aggregate_metrics(metrics)['test'].loc[\"CatBoost\"]\n",
    "    )\n",
    ")"
   ],
   "metadata": {
    "collapsed": false,
    "pycharm": {
     "name": "#%%\n"
    }
   }
  },
  {
   "cell_type": "code",
   "execution_count": 54,
   "outputs": [],
   "source": [
    "# %%\n",
    "persistor = FsModelPersistence()\n",
    "name = persistor.save(container)"
   ],
   "metadata": {
    "collapsed": false,
    "pycharm": {
     "name": "#%%\n"
    }
   }
  },
  {
   "cell_type": "code",
   "execution_count": 55,
   "outputs": [
    {
     "data": {
      "text/plain": "'l1_data3_ctb_Pipeline_2023-05-17.bin.gz'"
     },
     "execution_count": 55,
     "metadata": {},
     "output_type": "execute_result"
    }
   ],
   "source": [
    "name"
   ],
   "metadata": {
    "collapsed": false,
    "pycharm": {
     "name": "#%%\n"
    }
   }
  },
  {
   "cell_type": "code",
   "execution_count": 54,
   "outputs": [],
   "source": [],
   "metadata": {
    "collapsed": false,
    "pycharm": {
     "name": "#%%\n"
    }
   }
  },
  {
   "cell_type": "markdown",
   "source": [
    "#### Hyperparameter optimization"
   ],
   "metadata": {
    "collapsed": false,
    "pycharm": {
     "name": "#%% md\n"
    }
   }
  },
  {
   "cell_type": "code",
   "execution_count": 61,
   "outputs": [],
   "source": [
    "from sklearn.model_selection import GridSearchCV\n",
    "import time\n"
   ],
   "metadata": {
    "collapsed": false,
    "pycharm": {
     "name": "#%%\n"
    }
   }
  },
  {
   "cell_type": "code",
   "execution_count": 62,
   "outputs": [
    {
     "data": {
      "text/plain": "\"\\nBest parameters:  {'max_depth': None, 'min_samples_leaf': 1, 'min_samples_split': 10, 'n_estimators': 200}\\nBest accuracy:  0.8954683485167018\\nComputation tmie: 49.068764209747314\\n\""
     },
     "execution_count": 62,
     "metadata": {},
     "output_type": "execute_result"
    }
   ],
   "source": [
    "# Define the parameter grid to search over\n",
    "param_grid = {\n",
    "    'n_estimators': [128, 200, 256, 384],\n",
    "    'max_depth': [None, 2, 3, 4],\n",
    "    'min_samples_split': [10, 12, 16, 20],\n",
    "    'min_samples_leaf': [1, 8, 16],\n",
    "}\n",
    "\n",
    "# Create a RandomForestClassifier object\n",
    "model = RandomForestClassifier()\n",
    "\n",
    "\"\"\"\n",
    "Best parameters:  {'max_depth': None, 'min_samples_leaf': 1, 'min_samples_split': 10, 'n_estimators': 200}\n",
    "Best accuracy:  0.8954683485167018\n",
    "Computation tmie: 49.068764209747314\n",
    "\"\"\""
   ],
   "metadata": {
    "collapsed": false,
    "pycharm": {
     "name": "#%%\n"
    }
   }
  },
  {
   "cell_type": "code",
   "execution_count": 153,
   "outputs": [
    {
     "data": {
      "text/plain": "\"\\nBest parameters:  {'boosting_type': 'dart', 'learning_rate': 0.1, 'n_estimators': 100, 'num_leaves': 20}\\nBest accuracy:  0.8933660359729035\\nComputation tmie: 375.2135384082794\\n\""
     },
     "execution_count": 153,
     "metadata": {},
     "output_type": "execute_result"
    }
   ],
   "source": [
    "# Define the parameter grid to search over\n",
    "param_grid = {\n",
    "    'boosting_type': ['gbdt', 'dart', 'goss'],  # Different boosting types\n",
    "    'num_leaves': [16, 20, 24],  # Maximum number of leaves in one tree\n",
    "    'learning_rate': [0.1, 0.01],  # Learning rate for boosting\n",
    "    'n_estimators': [128, 256, 384],  # Number of boosting iterations\n",
    "}\n",
    "\n",
    "model = LGBMClassifier(device=\"gpu\")\n",
    "\"\"\"\n",
    "Best parameters:  {'boosting_type': 'dart', 'learning_rate': 0.1, 'n_estimators': 256, 'num_leaves': 20}\n",
    "Best accuracy:  0.8944180292540278\n",
    "Computation tmie: 394.68553471565247\n",
    "\"\"\""
   ],
   "metadata": {
    "collapsed": false,
    "pycharm": {
     "name": "#%%\n"
    }
   }
  },
  {
   "cell_type": "code",
   "execution_count": 184,
   "outputs": [
    {
     "data": {
      "text/plain": "\"\\nBest parameters:  {'learning_rate': 0.01, 'max_depth': 9, 'min_child_weight': 3, 'n_estimators': 300}\\nBest accuracy:  0.8903293622985284\\nComputation tmie: 519.5483028888702\\n\""
     },
     "execution_count": 184,
     "metadata": {},
     "output_type": "execute_result"
    }
   ],
   "source": [
    "p = {\n",
    "    'iterations': [128, 256, 384],  # Number of boosting iterations\n",
    "    'learning_rate': [0.01, 0.1],  # Learning rate\n",
    "    'depth': [4, 6, 8],  # Depth of the trees\n",
    "    'l2_leaf_reg': [1, 2, 4],  # L2 regularization coefficient\n",
    "    'border_count': [32, 64, 128],  # Number of splits for numerical features\n",
    "    'eval_metric': ['Logloss', 'AUC'],  # Evaluation metric\n",
    "    'random_seed': [42]  # Random seed for reproducibility\n",
    "}\n",
    "\n",
    "\n",
    "model = CatBoostClassifier(task_type='GPU')\n",
    "\n",
    "\n",
    "\"\"\"\n",
    "Best parameters:  {\n",
    "    'iterations': 128,       # Number of boosting iterations\n",
    "    'learning_rate': 0.1,    # Learning rate\n",
    "    'depth': 6,              # Depth of the trees\n",
    "    'l2_leaf_reg': 1,        # L2 regularization coefficient\n",
    "    'border_count': 64,      # Number of splits for numerical features\n",
    "    'eval_metric': 'Logloss',# Evaluation metric\n",
    "    'random_seed': 42        # Random seed for reproducibility\n",
    "}\n",
    "\n",
    "Best accuracy:  0.8903293622985284\n",
    "Computation tmie: 3519.5483028888702\n",
    "\"\"\""
   ],
   "metadata": {
    "collapsed": false,
    "pycharm": {
     "name": "#%%\n"
    }
   }
  },
  {
   "cell_type": "code",
   "execution_count": null,
   "outputs": [],
   "source": [
    "# Create a GridSearchCV object and fit the data\n",
    "start = time.time()\n",
    "grid_search = GridSearchCV(model, param_grid=p, cv=2, n_jobs=-1)\n",
    "grid_search.fit(X_train, y_train)\n",
    "\n",
    "# Print the best hyperparameters and accuracy score\n",
    "print(\"Best parameters: \", grid_search.best_params_)\n",
    "print(\"Best accuracy: \", grid_search.best_score_)\n",
    "end = time.time()\n",
    "print(f\"Computation tmie: {end - start}\")"
   ],
   "metadata": {
    "collapsed": false,
    "pycharm": {
     "name": "#%%\n",
     "is_executing": true
    }
   }
  },
  {
   "cell_type": "code",
   "execution_count": 182,
   "outputs": [
    {
     "ename": "AttributeError",
     "evalue": "'GridSearchCV' object has no attribute 'best_params_'",
     "output_type": "error",
     "traceback": [
      "\u001B[1;31m---------------------------------------------------------------------------\u001B[0m",
      "\u001B[1;31mAttributeError\u001B[0m                            Traceback (most recent call last)",
      "Cell \u001B[1;32mIn[182], line 1\u001B[0m\n\u001B[1;32m----> 1\u001B[0m \u001B[43mgrid_search\u001B[49m\u001B[38;5;241;43m.\u001B[39;49m\u001B[43mbest_params_\u001B[49m\n",
      "\u001B[1;31mAttributeError\u001B[0m: 'GridSearchCV' object has no attribute 'best_params_'"
     ]
    }
   ],
   "source": [
    "grid_search.best_params_"
   ],
   "metadata": {
    "collapsed": false,
    "pycharm": {
     "name": "#%%\n"
    }
   }
  },
  {
   "cell_type": "code",
   "execution_count": null,
   "outputs": [],
   "source": [],
   "metadata": {
    "collapsed": false,
    "pycharm": {
     "name": "#%%\n"
    }
   }
  }
 ],
 "metadata": {
  "kernelspec": {
   "display_name": "Python 3 (ipykernel)",
   "language": "python",
   "name": "python3"
  },
  "language_info": {
   "codemirror_mode": {
    "name": "ipython",
    "version": 3
   },
   "file_extension": ".py",
   "mimetype": "text/x-python",
   "name": "python",
   "nbconvert_exporter": "python",
   "pygments_lexer": "ipython3",
   "version": "3.10.9"
  },
  "vscode": {
   "interpreter": {
    "hash": "7f55550e77323d67b6ecc193cd2e5d66a57e017d7db72e2119e5097fca24649a"
   }
  }
 },
 "nbformat": 4,
 "nbformat_minor": 2
}